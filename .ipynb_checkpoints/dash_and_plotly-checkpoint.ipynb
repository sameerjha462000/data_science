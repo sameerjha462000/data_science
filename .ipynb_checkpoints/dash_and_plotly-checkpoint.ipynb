{
 "cells": [
  {
   "cell_type": "markdown",
   "id": "f74457e4",
   "metadata": {},
   "source": [
    "# A simple dash app"
   ]
  },
  {
   "cell_type": "code",
   "execution_count": 1,
   "id": "5b1498ef",
   "metadata": {},
   "outputs": [],
   "source": [
    "from dash import Dash, html"
   ]
  },
  {
   "cell_type": "code",
   "execution_count": 2,
   "id": "222db643",
   "metadata": {},
   "outputs": [
    {
     "data": {
      "text/html": [
       "\n",
       "        <iframe\n",
       "            width=\"100%\"\n",
       "            height=\"650\"\n",
       "            src=\"http://127.0.0.1:8050/\"\n",
       "            frameborder=\"0\"\n",
       "            allowfullscreen\n",
       "            \n",
       "        ></iframe>\n",
       "        "
      ],
      "text/plain": [
       "<IPython.lib.display.IFrame at 0x20899a6ff90>"
      ]
     },
     "metadata": {},
     "output_type": "display_data"
    }
   ],
   "source": [
    "app = Dash(__name__)\n",
    "\n",
    "app.layout = html.Div('''This is a simple Dash application. Dash is a sister library for plotly and is built on top of React.Js and\n",
    "                      Flask.''')\n",
    "\n",
    "if __name__ == '__main__':\n",
    "    app.run_server()"
   ]
  },
  {
   "cell_type": "code",
   "execution_count": 3,
   "id": "61bb85b5",
   "metadata": {},
   "outputs": [],
   "source": [
    "from dash import dcc"
   ]
  },
  {
   "cell_type": "code",
   "execution_count": 4,
   "id": "fd372f88",
   "metadata": {},
   "outputs": [],
   "source": [
    "dropdown = dcc.Dropdown(options = ['Red', 'Blue', 'Green'], id = 'color', value = '')"
   ]
  },
  {
   "cell_type": "code",
   "execution_count": 5,
   "id": "7e789625",
   "metadata": {},
   "outputs": [
    {
     "data": {
      "text/plain": [
       "dash.dcc.Dropdown.Dropdown"
      ]
     },
     "execution_count": 5,
     "metadata": {},
     "output_type": "execute_result"
    }
   ],
   "source": [
    "type(dropdown)"
   ]
  },
  {
   "cell_type": "code",
   "execution_count": 6,
   "id": "186964d9",
   "metadata": {},
   "outputs": [
    {
     "data": {
      "text/html": [
       "\n",
       "        <iframe\n",
       "            width=\"100%\"\n",
       "            height=\"650\"\n",
       "            src=\"http://127.0.0.1:8050/\"\n",
       "            frameborder=\"0\"\n",
       "            allowfullscreen\n",
       "            \n",
       "        ></iframe>\n",
       "        "
      ],
      "text/plain": [
       "<IPython.lib.display.IFrame at 0x20899a9f8d0>"
      ]
     },
     "metadata": {},
     "output_type": "display_data"
    }
   ],
   "source": [
    "app = Dash(__name__)\n",
    "\n",
    "app.layout = html.Div(['Select a color', dropdown])\n",
    "\n",
    "if __name__ == '__main__':\n",
    "    app.run_server()"
   ]
  },
  {
   "cell_type": "markdown",
   "id": "5a1016bf",
   "metadata": {},
   "source": [
    "# Managing Input and Outputs"
   ]
  },
  {
   "cell_type": "code",
   "execution_count": 7,
   "id": "bea8ddd8",
   "metadata": {},
   "outputs": [],
   "source": [
    "from dash import Dash, dcc, html\n",
    "from dash.dependencies import Input, Output"
   ]
  },
  {
   "cell_type": "code",
   "execution_count": 8,
   "id": "6fe9b686",
   "metadata": {},
   "outputs": [
    {
     "data": {
      "text/html": [
       "\n",
       "        <iframe\n",
       "            width=\"100%\"\n",
       "            height=\"650\"\n",
       "            src=\"http://127.0.0.1:8050/\"\n",
       "            frameborder=\"0\"\n",
       "            allowfullscreen\n",
       "            \n",
       "        ></iframe>\n",
       "        "
      ],
      "text/plain": [
       "<IPython.lib.display.IFrame at 0x20899a2e190>"
      ]
     },
     "metadata": {},
     "output_type": "display_data"
    }
   ],
   "source": [
    "app = Dash(__name__)\n",
    "\n",
    "dropdown = dcc.Dropdown(options = ['Red', 'Blue', 'Green', 'Yellow', 'Pink'], id = 'dropdown-color', value = '')\n",
    "\n",
    "app.layout = html.Div(['Pick a color', dropdown, html.H3(id = 'color-shower')])\n",
    "\n",
    "\n",
    "@app.callback(Output('color-shower', 'children'), Input('dropdown-color', 'value'))\n",
    "def color_picker(color):\n",
    "    return f\"I like the color : {color}\"\n",
    "\n",
    "if __name__ == '__main__':\n",
    "    app.run_server()"
   ]
  },
  {
   "cell_type": "markdown",
   "id": "673e2b34",
   "metadata": {},
   "source": [
    "# dash assignment"
   ]
  },
  {
   "cell_type": "markdown",
   "id": "5d235b0f",
   "metadata": {},
   "source": [
    "    Create a dash application with the following front-end components.\n",
    "    1. A text title 'Select a State to Analyze:'\n",
    "    2. A dropdown menu that contains the options 'California', 'Oregon' and 'Washington'.\n",
    "    3. Text 'State Selected: X' where X is the state selected in the dropdown menu.\n",
    "    \n",
    "    \n",
    "    "
   ]
  },
  {
   "cell_type": "code",
   "execution_count": 9,
   "id": "1d6d9207",
   "metadata": {},
   "outputs": [
    {
     "data": {
      "text/html": [
       "\n",
       "        <iframe\n",
       "            width=\"100%\"\n",
       "            height=\"650\"\n",
       "            src=\"http://127.0.0.1:8050/\"\n",
       "            frameborder=\"0\"\n",
       "            allowfullscreen\n",
       "            \n",
       "        ></iframe>\n",
       "        "
      ],
      "text/plain": [
       "<IPython.lib.display.IFrame at 0x20899ae9490>"
      ]
     },
     "metadata": {},
     "output_type": "display_data"
    }
   ],
   "source": [
    "from dash import Dash, html, dcc\n",
    "from dash.dependencies import Input, Output\n",
    "\n",
    "\n",
    "app = Dash(__name__)\n",
    "\n",
    "dropdown = dcc.Dropdown(options = ['California', 'Oregon', 'Washington'], value = '', id = 'state-input')\n",
    "\n",
    "app.layout = html.Div(['Select a State to Analyze:', dropdown, html.Div(id = 'state-output', children = '')])\n",
    "\n",
    "@app.callback(Output('state-output', 'children'), Input('state-input', 'value'))\n",
    "def state_picker(state : str) -> str:\n",
    "    return f'State Selected : {state}'\n",
    "\n",
    "if __name__ == '__main__':\n",
    "    app.run_server(port = 8050, debug = True)"
   ]
  },
  {
   "cell_type": "markdown",
   "id": "41cfa81c",
   "metadata": {},
   "source": [
    "# Dash and Plotly app"
   ]
  },
  {
   "cell_type": "code",
   "execution_count": 10,
   "id": "ce4594fd",
   "metadata": {},
   "outputs": [],
   "source": [
    "from dash import Dash, html, dcc\n",
    "from dash.dependencies import Input, Output\n",
    "import pandas as pd"
   ]
  },
  {
   "cell_type": "code",
   "execution_count": 11,
   "id": "6d5f2916",
   "metadata": {},
   "outputs": [
    {
     "data": {
      "text/html": [
       "<div>\n",
       "<style scoped>\n",
       "    .dataframe tbody tr th:only-of-type {\n",
       "        vertical-align: middle;\n",
       "    }\n",
       "\n",
       "    .dataframe tbody tr th {\n",
       "        vertical-align: top;\n",
       "    }\n",
       "\n",
       "    .dataframe thead th {\n",
       "        text-align: right;\n",
       "    }\n",
       "</style>\n",
       "<table border=\"1\" class=\"dataframe\">\n",
       "  <thead>\n",
       "    <tr style=\"text-align: right;\">\n",
       "      <th></th>\n",
       "      <th>sepal_length</th>\n",
       "      <th>sepal_width</th>\n",
       "      <th>petal_length</th>\n",
       "      <th>petal_width</th>\n",
       "      <th>class</th>\n",
       "    </tr>\n",
       "  </thead>\n",
       "  <tbody>\n",
       "    <tr>\n",
       "      <th>0</th>\n",
       "      <td>5.1</td>\n",
       "      <td>3.5</td>\n",
       "      <td>1.4</td>\n",
       "      <td>0.2</td>\n",
       "      <td>Iris-setosa</td>\n",
       "    </tr>\n",
       "    <tr>\n",
       "      <th>1</th>\n",
       "      <td>4.9</td>\n",
       "      <td>3.0</td>\n",
       "      <td>1.4</td>\n",
       "      <td>0.2</td>\n",
       "      <td>Iris-setosa</td>\n",
       "    </tr>\n",
       "    <tr>\n",
       "      <th>2</th>\n",
       "      <td>4.7</td>\n",
       "      <td>3.2</td>\n",
       "      <td>1.3</td>\n",
       "      <td>0.2</td>\n",
       "      <td>Iris-setosa</td>\n",
       "    </tr>\n",
       "    <tr>\n",
       "      <th>3</th>\n",
       "      <td>4.6</td>\n",
       "      <td>3.1</td>\n",
       "      <td>1.5</td>\n",
       "      <td>0.2</td>\n",
       "      <td>Iris-setosa</td>\n",
       "    </tr>\n",
       "    <tr>\n",
       "      <th>4</th>\n",
       "      <td>5.0</td>\n",
       "      <td>3.6</td>\n",
       "      <td>1.4</td>\n",
       "      <td>0.2</td>\n",
       "      <td>Iris-setosa</td>\n",
       "    </tr>\n",
       "    <tr>\n",
       "      <th>...</th>\n",
       "      <td>...</td>\n",
       "      <td>...</td>\n",
       "      <td>...</td>\n",
       "      <td>...</td>\n",
       "      <td>...</td>\n",
       "    </tr>\n",
       "    <tr>\n",
       "      <th>145</th>\n",
       "      <td>6.7</td>\n",
       "      <td>3.0</td>\n",
       "      <td>5.2</td>\n",
       "      <td>2.3</td>\n",
       "      <td>Iris-virginica</td>\n",
       "    </tr>\n",
       "    <tr>\n",
       "      <th>146</th>\n",
       "      <td>6.3</td>\n",
       "      <td>2.5</td>\n",
       "      <td>5.0</td>\n",
       "      <td>1.9</td>\n",
       "      <td>Iris-virginica</td>\n",
       "    </tr>\n",
       "    <tr>\n",
       "      <th>147</th>\n",
       "      <td>6.5</td>\n",
       "      <td>3.0</td>\n",
       "      <td>5.2</td>\n",
       "      <td>2.0</td>\n",
       "      <td>Iris-virginica</td>\n",
       "    </tr>\n",
       "    <tr>\n",
       "      <th>148</th>\n",
       "      <td>6.2</td>\n",
       "      <td>3.4</td>\n",
       "      <td>5.4</td>\n",
       "      <td>2.3</td>\n",
       "      <td>Iris-virginica</td>\n",
       "    </tr>\n",
       "    <tr>\n",
       "      <th>149</th>\n",
       "      <td>5.9</td>\n",
       "      <td>3.0</td>\n",
       "      <td>5.1</td>\n",
       "      <td>1.8</td>\n",
       "      <td>Iris-virginica</td>\n",
       "    </tr>\n",
       "  </tbody>\n",
       "</table>\n",
       "<p>150 rows × 5 columns</p>\n",
       "</div>"
      ],
      "text/plain": [
       "     sepal_length  sepal_width  petal_length  petal_width           class\n",
       "0             5.1          3.5           1.4          0.2     Iris-setosa\n",
       "1             4.9          3.0           1.4          0.2     Iris-setosa\n",
       "2             4.7          3.2           1.3          0.2     Iris-setosa\n",
       "3             4.6          3.1           1.5          0.2     Iris-setosa\n",
       "4             5.0          3.6           1.4          0.2     Iris-setosa\n",
       "..            ...          ...           ...          ...             ...\n",
       "145           6.7          3.0           5.2          2.3  Iris-virginica\n",
       "146           6.3          2.5           5.0          1.9  Iris-virginica\n",
       "147           6.5          3.0           5.2          2.0  Iris-virginica\n",
       "148           6.2          3.4           5.4          2.3  Iris-virginica\n",
       "149           5.9          3.0           5.1          1.8  Iris-virginica\n",
       "\n",
       "[150 rows x 5 columns]"
      ]
     },
     "execution_count": 11,
     "metadata": {},
     "output_type": "execute_result"
    }
   ],
   "source": [
    "iris = pd.read_csv('datasets/iris.csv')\n",
    "iris"
   ]
  },
  {
   "cell_type": "code",
   "execution_count": 14,
   "id": "d04bc54d",
   "metadata": {},
   "outputs": [
    {
     "data": {
      "text/plain": [
       "0       True\n",
       "1       True\n",
       "2       True\n",
       "3       True\n",
       "4       True\n",
       "       ...  \n",
       "145    False\n",
       "146    False\n",
       "147    False\n",
       "148    False\n",
       "149    False\n",
       "Name: class, Length: 150, dtype: bool"
      ]
     },
     "execution_count": 14,
     "metadata": {},
     "output_type": "execute_result"
    }
   ],
   "source": [
    "iris['class'] == 'Iris-setosa'"
   ]
  },
  {
   "cell_type": "code",
   "execution_count": 16,
   "id": "c38df305",
   "metadata": {},
   "outputs": [
    {
     "data": {
      "text/plain": [
       "class\n",
       "Iris-setosa        50\n",
       "Iris-versicolor    50\n",
       "Iris-virginica     50\n",
       "Name: count, dtype: int64"
      ]
     },
     "execution_count": 16,
     "metadata": {},
     "output_type": "execute_result"
    }
   ],
   "source": [
    "iris['class'].value_counts()"
   ]
  },
  {
   "cell_type": "code",
   "execution_count": 17,
   "id": "1674e83f",
   "metadata": {},
   "outputs": [],
   "source": [
    "species = ['Iris-setosa', 'Iris-versicolor', 'Iris-virginica']"
   ]
  },
  {
   "cell_type": "code",
   "execution_count": 18,
   "id": "7189f5a6",
   "metadata": {},
   "outputs": [],
   "source": [
    "import plotly.express as px"
   ]
  },
  {
   "cell_type": "code",
   "execution_count": 19,
   "id": "d7758dec",
   "metadata": {},
   "outputs": [],
   "source": [
    "dropdown = dcc.Dropdown(options = species, value = '', id = 'species-input')"
   ]
  },
  {
   "cell_type": "code",
   "execution_count": 20,
   "id": "5c5a57da",
   "metadata": {
    "scrolled": true
   },
   "outputs": [
    {
     "data": {
      "text/html": [
       "\n",
       "        <iframe\n",
       "            width=\"100%\"\n",
       "            height=\"650\"\n",
       "            src=\"http://127.0.0.1:8050/\"\n",
       "            frameborder=\"0\"\n",
       "            allowfullscreen\n",
       "            \n",
       "        ></iframe>\n",
       "        "
      ],
      "text/plain": [
       "<IPython.lib.display.IFrame at 0x208a9b029d0>"
      ]
     },
     "metadata": {},
     "output_type": "display_data"
    },
    {
     "name": "stdout",
     "output_type": "stream",
     "text": [
      "\u001b[1;31m---------------------------------------------------------------------------\u001b[0m\n",
      "\u001b[1;31mKeyError\u001b[0m                                  Traceback (most recent call last)\n",
      "File \u001b[1;32m~\\AppData\\Local\\Programs\\Python\\Python311\\Lib\\site-packages\\pandas\\core\\indexes\\base.py:3791\u001b[0m, in \u001b[0;36mIndex.get_loc\u001b[1;34m(\n",
      "    self=Index(['sepal_length', 'sepal_width', 'petal_length', 'petal_width', 'class'], dtype='object'),\n",
      "    key='Species'\n",
      ")\u001b[0m\n",
      "\u001b[0;32m   3790\u001b[0m \u001b[38;5;28;01mtry\u001b[39;00m:\n",
      "\u001b[1;32m-> 3791\u001b[0m     \u001b[38;5;28;01mreturn\u001b[39;00m \u001b[38;5;28;43mself\u001b[39;49m\u001b[38;5;241;43m.\u001b[39;49m\u001b[43m_engine\u001b[49m\u001b[38;5;241;43m.\u001b[39;49m\u001b[43mget_loc\u001b[49m\u001b[43m(\u001b[49m\u001b[43mcasted_key\u001b[49m\u001b[43m)\u001b[49m\n",
      "        casted_key \u001b[1;34m= 'Species'\u001b[0m\u001b[1;34m\n",
      "        \u001b[0mself \u001b[1;34m= Index(['sepal_length', 'sepal_width', 'petal_length', 'petal_width', 'class'], dtype='object')\u001b[0m\n",
      "\u001b[0;32m   3792\u001b[0m \u001b[38;5;28;01mexcept\u001b[39;00m \u001b[38;5;167;01mKeyError\u001b[39;00m \u001b[38;5;28;01mas\u001b[39;00m err:\n",
      "\n",
      "File \u001b[1;32mindex.pyx:152\u001b[0m, in \u001b[0;36mpandas._libs.index.IndexEngine.get_loc\u001b[1;34m()\u001b[0m\n",
      "\n",
      "File \u001b[1;32mindex.pyx:181\u001b[0m, in \u001b[0;36mpandas._libs.index.IndexEngine.get_loc\u001b[1;34m()\u001b[0m\n",
      "\n",
      "File \u001b[1;32mpandas\\_libs\\hashtable_class_helper.pxi:7080\u001b[0m, in \u001b[0;36mpandas._libs.hashtable.PyObjectHashTable.get_item\u001b[1;34m()\u001b[0m\n",
      "\n",
      "File \u001b[1;32mpandas\\_libs\\hashtable_class_helper.pxi:7088\u001b[0m, in \u001b[0;36mpandas._libs.hashtable.PyObjectHashTable.get_item\u001b[1;34m()\u001b[0m\n",
      "\n",
      "\u001b[1;31mKeyError\u001b[0m: 'Species'\n",
      "\n",
      "The above exception was the direct cause of the following exception:\n",
      "\n",
      "\u001b[1;31mKeyError\u001b[0m                                  Traceback (most recent call last)\n",
      "\u001b[1;31mKeyError\u001b[0m: 'Species'\n",
      "\n",
      "\u001b[1;31m---------------------------------------------------------------------------\u001b[0m\n",
      "\u001b[1;31mKeyError\u001b[0m                                  Traceback (most recent call last)\n",
      "File \u001b[1;32m~\\AppData\\Local\\Programs\\Python\\Python311\\Lib\\site-packages\\pandas\\core\\indexes\\base.py:3791\u001b[0m, in \u001b[0;36mIndex.get_loc\u001b[1;34m(\n",
      "    self=Index(['sepal_length', 'sepal_width', 'petal_length', 'petal_width', 'class'], dtype='object'),\n",
      "    key='Species'\n",
      ")\u001b[0m\n",
      "\u001b[0;32m   3790\u001b[0m \u001b[38;5;28;01mtry\u001b[39;00m:\n",
      "\u001b[1;32m-> 3791\u001b[0m     \u001b[38;5;28;01mreturn\u001b[39;00m \u001b[38;5;28;43mself\u001b[39;49m\u001b[38;5;241;43m.\u001b[39;49m\u001b[43m_engine\u001b[49m\u001b[38;5;241;43m.\u001b[39;49m\u001b[43mget_loc\u001b[49m\u001b[43m(\u001b[49m\u001b[43mcasted_key\u001b[49m\u001b[43m)\u001b[49m\n",
      "        casted_key \u001b[1;34m= 'Species'\u001b[0m\u001b[1;34m\n",
      "        \u001b[0mself \u001b[1;34m= Index(['sepal_length', 'sepal_width', 'petal_length', 'petal_width', 'class'], dtype='object')\u001b[0m\n",
      "\u001b[0;32m   3792\u001b[0m \u001b[38;5;28;01mexcept\u001b[39;00m \u001b[38;5;167;01mKeyError\u001b[39;00m \u001b[38;5;28;01mas\u001b[39;00m err:\n",
      "\n",
      "File \u001b[1;32mindex.pyx:152\u001b[0m, in \u001b[0;36mpandas._libs.index.IndexEngine.get_loc\u001b[1;34m()\u001b[0m\n",
      "\n",
      "File \u001b[1;32mindex.pyx:181\u001b[0m, in \u001b[0;36mpandas._libs.index.IndexEngine.get_loc\u001b[1;34m()\u001b[0m\n",
      "\n",
      "File \u001b[1;32mpandas\\_libs\\hashtable_class_helper.pxi:7080\u001b[0m, in \u001b[0;36mpandas._libs.hashtable.PyObjectHashTable.get_item\u001b[1;34m()\u001b[0m\n",
      "\n",
      "File \u001b[1;32mpandas\\_libs\\hashtable_class_helper.pxi:7088\u001b[0m, in \u001b[0;36mpandas._libs.hashtable.PyObjectHashTable.get_item\u001b[1;34m()\u001b[0m\n",
      "\n",
      "\u001b[1;31mKeyError\u001b[0m: 'Species'\n",
      "\n",
      "The above exception was the direct cause of the following exception:\n",
      "\n",
      "\u001b[1;31mKeyError\u001b[0m                                  Traceback (most recent call last)\n",
      "\u001b[1;31mKeyError\u001b[0m: 'Species'\n",
      "\n"
     ]
    }
   ],
   "source": [
    "app = Dash(__name__)\n",
    "\n",
    "app.layout = html.Div(['Select a Species', dropdown, dcc.Graph(id = 'species-output')])\n",
    "\n",
    "\n",
    "@app.callback(Output('species-output', 'figure'), Input('species-input', 'value'))\n",
    "def plotly_graph_maker(species : str):\n",
    "    return px.scatter(iris[iris['Species'] == species], x = 'SepalLengthCm', y = 'PetalLengthCm')\n",
    "\n",
    "\n",
    "if __name__ == '__main__':\n",
    "    app.run_server(debug = True, port = 8050)\n",
    "            "
   ]
  },
  {
   "cell_type": "markdown",
   "id": "6e885162",
   "metadata": {},
   "source": [
    "# Plotly"
   ]
  },
  {
   "cell_type": "markdown",
   "id": "02c96857",
   "metadata": {},
   "source": [
    "    Scatter plots allow the comparison of two variables for a set of data.\n",
    "    "
   ]
  },
  {
   "cell_type": "code",
   "execution_count": 21,
   "id": "558d6bfd",
   "metadata": {},
   "outputs": [],
   "source": [
    "import numpy as np\n",
    "import plotly.offline as pyo\n",
    "import plotly.graph_objs as go"
   ]
  },
  {
   "cell_type": "code",
   "execution_count": 22,
   "id": "6785a55c",
   "metadata": {},
   "outputs": [
    {
     "data": {
      "text/plain": [
       "'scatter.html'"
      ]
     },
     "execution_count": 22,
     "metadata": {},
     "output_type": "execute_result"
    }
   ],
   "source": [
    "np.random.seed(42)\n",
    "random_x = np.random.randint(1, 101, 100)\n",
    "random_y = np.random.randint(1, 101, 100)\n",
    "\n",
    "data = [go.Scatter(x = random_x, y = random_y, \n",
    "                   mode = 'markers')]\n",
    "\n",
    "pyo.plot(data, filename = 'scatter.html')"
   ]
  },
  {
   "cell_type": "code",
   "execution_count": 23,
   "id": "2fd3c511",
   "metadata": {},
   "outputs": [
    {
     "data": {
      "text/plain": [
       "'scatter.html'"
      ]
     },
     "execution_count": 23,
     "metadata": {},
     "output_type": "execute_result"
    }
   ],
   "source": [
    "np.random.seed(42)\n",
    "random_x = np.random.randint(1, 101, 100)\n",
    "random_y = np.random.randint(1, 101, 100)\n",
    "\n",
    "data = [go.Scatter(x = random_x, y = random_y, \n",
    "                   mode = 'markers', marker = dict(\n",
    "            color='green',\n",
    "            symbol = 'pentagon',\n",
    "            size=20,\n",
    "            line=dict(\n",
    "                color='black',\n",
    "                width=2\n",
    "            )\n",
    "        ))]\n",
    "\n",
    "layout = go.Layout(\n",
    "                    title = 'Hello First Plot',\n",
    "                    xaxis = dict(title = 'My X Axis'),\n",
    "                    yaxis = dict(title = 'My Y Axis'),\n",
    "                    hovermode = 'closest'\n",
    "                  )\n",
    "\n",
    "fig = go.Figure(data = data, layout = layout)\n",
    "pyo.plot(fig, filename = 'scatter.html')"
   ]
  },
  {
   "cell_type": "markdown",
   "id": "77c24224",
   "metadata": {},
   "source": [
    "# Line plots in plotly"
   ]
  },
  {
   "cell_type": "code",
   "execution_count": 24,
   "id": "ef8f7f39",
   "metadata": {},
   "outputs": [
    {
     "data": {
      "text/plain": [
       "'modes.html'"
      ]
     },
     "execution_count": 24,
     "metadata": {},
     "output_type": "execute_result"
    }
   ],
   "source": [
    "np.random.seed(56)\n",
    "x_values = np.linspace(0, 1, 100)\n",
    "y_values = np.random.randn(100)\n",
    "\n",
    "trace0 = go.Scatter(x = x_values, y = y_values+5, mode = 'markers')\n",
    "\n",
    "data = [trace0]\n",
    "\n",
    "layout = go.Layout(title = 'This is to show different modes', xaxis = {'title':'My X Axis'}, yaxis = dict(title = 'My Y Axis'))\n",
    "\n",
    "fig = go.Figure(data = data, layout = layout)\n",
    "\n",
    "pyo.plot(fig, filename = 'modes.html')"
   ]
  },
  {
   "cell_type": "code",
   "execution_count": 25,
   "id": "e2dd1b47",
   "metadata": {},
   "outputs": [
    {
     "data": {
      "text/plain": [
       "'modes.html'"
      ]
     },
     "execution_count": 25,
     "metadata": {},
     "output_type": "execute_result"
    }
   ],
   "source": [
    "np.random.seed(56)\n",
    "x_values = np.linspace(0, 1, 100)\n",
    "y_values = np.random.randn(100)\n",
    "\n",
    "trace0 = go.Scatter(x = x_values, y = y_values+5, mode = 'markers', name = 'markers')\n",
    "trace1 = go.Scatter(x = x_values, y = y_values, mode = 'markers+lines', name = 'markers with lines')\n",
    "\n",
    "data = [trace0, trace1]\n",
    "\n",
    "layout = go.Layout(title = 'This is to show different modes', xaxis = {'title':'My X Axis'}, yaxis = dict(title = 'My Y Axis'))\n",
    "\n",
    "fig = go.Figure(data = data, layout = layout)\n",
    "\n",
    "pyo.plot(fig, filename = 'modes.html')"
   ]
  },
  {
   "cell_type": "code",
   "execution_count": 90,
   "id": "6a8df428",
   "metadata": {},
   "outputs": [
    {
     "data": {
      "text/plain": [
       "'modes.html'"
      ]
     },
     "execution_count": 90,
     "metadata": {},
     "output_type": "execute_result"
    }
   ],
   "source": [
    "np.random.seed(56)\n",
    "x_values = np.linspace(0, 1, 100)\n",
    "y_values = np.random.randn(100)\n",
    "\n",
    "trace0 = go.Scatter(x = x_values, y = y_values+5, mode = 'markers',  name = 'markers')\n",
    "trace1 = go.Scatter(x = x_values, y = y_values, mode = 'markers+lines', name = 'markers with lines')\n",
    "trace2 = go.Scatter(x = x_values, y = y_values-5, mode = 'lines', name = 'lines')\n",
    "\n",
    "data = [trace0, trace1, trace2]\n",
    "\n",
    "layout = go.Layout(title = 'This is to show different modes', xaxis = {'title':'My X Axis'}, yaxis = dict(title = 'My Y Axis'))\n",
    "\n",
    "fig = go.Figure(data = data, layout = layout)\n",
    "\n",
    "pyo.plot(fig, filename = 'modes.html')"
   ]
  },
  {
   "cell_type": "markdown",
   "id": "f2415ea1",
   "metadata": {},
   "source": [
    "# plotting iris dataset using plotly"
   ]
  },
  {
   "cell_type": "code",
   "execution_count": 27,
   "id": "7f99d44e",
   "metadata": {},
   "outputs": [],
   "source": [
    "import plotly.offline as pyo\n",
    "import plotly.graph_objs as go"
   ]
  },
  {
   "cell_type": "code",
   "execution_count": 32,
   "id": "a7be5662",
   "metadata": {},
   "outputs": [
    {
     "data": {
      "text/html": [
       "<div>\n",
       "<style scoped>\n",
       "    .dataframe tbody tr th:only-of-type {\n",
       "        vertical-align: middle;\n",
       "    }\n",
       "\n",
       "    .dataframe tbody tr th {\n",
       "        vertical-align: top;\n",
       "    }\n",
       "\n",
       "    .dataframe thead th {\n",
       "        text-align: right;\n",
       "    }\n",
       "</style>\n",
       "<table border=\"1\" class=\"dataframe\">\n",
       "  <thead>\n",
       "    <tr style=\"text-align: right;\">\n",
       "      <th></th>\n",
       "      <th>sepal_length</th>\n",
       "      <th>sepal_width</th>\n",
       "      <th>petal_length</th>\n",
       "      <th>petal_width</th>\n",
       "      <th>class</th>\n",
       "    </tr>\n",
       "  </thead>\n",
       "  <tbody>\n",
       "    <tr>\n",
       "      <th>0</th>\n",
       "      <td>5.1</td>\n",
       "      <td>3.5</td>\n",
       "      <td>1.4</td>\n",
       "      <td>0.2</td>\n",
       "      <td>Iris-setosa</td>\n",
       "    </tr>\n",
       "    <tr>\n",
       "      <th>1</th>\n",
       "      <td>4.9</td>\n",
       "      <td>3.0</td>\n",
       "      <td>1.4</td>\n",
       "      <td>0.2</td>\n",
       "      <td>Iris-setosa</td>\n",
       "    </tr>\n",
       "    <tr>\n",
       "      <th>2</th>\n",
       "      <td>4.7</td>\n",
       "      <td>3.2</td>\n",
       "      <td>1.3</td>\n",
       "      <td>0.2</td>\n",
       "      <td>Iris-setosa</td>\n",
       "    </tr>\n",
       "    <tr>\n",
       "      <th>3</th>\n",
       "      <td>4.6</td>\n",
       "      <td>3.1</td>\n",
       "      <td>1.5</td>\n",
       "      <td>0.2</td>\n",
       "      <td>Iris-setosa</td>\n",
       "    </tr>\n",
       "    <tr>\n",
       "      <th>4</th>\n",
       "      <td>5.0</td>\n",
       "      <td>3.6</td>\n",
       "      <td>1.4</td>\n",
       "      <td>0.2</td>\n",
       "      <td>Iris-setosa</td>\n",
       "    </tr>\n",
       "    <tr>\n",
       "      <th>...</th>\n",
       "      <td>...</td>\n",
       "      <td>...</td>\n",
       "      <td>...</td>\n",
       "      <td>...</td>\n",
       "      <td>...</td>\n",
       "    </tr>\n",
       "    <tr>\n",
       "      <th>145</th>\n",
       "      <td>6.7</td>\n",
       "      <td>3.0</td>\n",
       "      <td>5.2</td>\n",
       "      <td>2.3</td>\n",
       "      <td>Iris-virginica</td>\n",
       "    </tr>\n",
       "    <tr>\n",
       "      <th>146</th>\n",
       "      <td>6.3</td>\n",
       "      <td>2.5</td>\n",
       "      <td>5.0</td>\n",
       "      <td>1.9</td>\n",
       "      <td>Iris-virginica</td>\n",
       "    </tr>\n",
       "    <tr>\n",
       "      <th>147</th>\n",
       "      <td>6.5</td>\n",
       "      <td>3.0</td>\n",
       "      <td>5.2</td>\n",
       "      <td>2.0</td>\n",
       "      <td>Iris-virginica</td>\n",
       "    </tr>\n",
       "    <tr>\n",
       "      <th>148</th>\n",
       "      <td>6.2</td>\n",
       "      <td>3.4</td>\n",
       "      <td>5.4</td>\n",
       "      <td>2.3</td>\n",
       "      <td>Iris-virginica</td>\n",
       "    </tr>\n",
       "    <tr>\n",
       "      <th>149</th>\n",
       "      <td>5.9</td>\n",
       "      <td>3.0</td>\n",
       "      <td>5.1</td>\n",
       "      <td>1.8</td>\n",
       "      <td>Iris-virginica</td>\n",
       "    </tr>\n",
       "  </tbody>\n",
       "</table>\n",
       "<p>150 rows × 5 columns</p>\n",
       "</div>"
      ],
      "text/plain": [
       "     sepal_length  sepal_width  petal_length  petal_width           class\n",
       "0             5.1          3.5           1.4          0.2     Iris-setosa\n",
       "1             4.9          3.0           1.4          0.2     Iris-setosa\n",
       "2             4.7          3.2           1.3          0.2     Iris-setosa\n",
       "3             4.6          3.1           1.5          0.2     Iris-setosa\n",
       "4             5.0          3.6           1.4          0.2     Iris-setosa\n",
       "..            ...          ...           ...          ...             ...\n",
       "145           6.7          3.0           5.2          2.3  Iris-virginica\n",
       "146           6.3          2.5           5.0          1.9  Iris-virginica\n",
       "147           6.5          3.0           5.2          2.0  Iris-virginica\n",
       "148           6.2          3.4           5.4          2.3  Iris-virginica\n",
       "149           5.9          3.0           5.1          1.8  Iris-virginica\n",
       "\n",
       "[150 rows x 5 columns]"
      ]
     },
     "execution_count": 32,
     "metadata": {},
     "output_type": "execute_result"
    }
   ],
   "source": [
    "iris = pd.read_csv('datasets/iris.csv')\n",
    "iris"
   ]
  },
  {
   "cell_type": "code",
   "execution_count": 34,
   "id": "0ac68295",
   "metadata": {},
   "outputs": [],
   "source": [
    "species = iris['class'].value_counts().index"
   ]
  },
  {
   "cell_type": "code",
   "execution_count": 37,
   "id": "a3bced36",
   "metadata": {},
   "outputs": [
    {
     "data": {
      "text/plain": [
       "array([5.1, 4.9, 4.7, 4.6, 5. , 5.4, 4.6, 5. , 4.4, 4.9, 5.4, 4.8, 4.8,\n",
       "       4.3, 5.8, 5.7, 5.4, 5.1, 5.7, 5.1, 5.4, 5.1, 4.6, 5.1, 4.8, 5. ,\n",
       "       5. , 5.2, 5.2, 4.7, 4.8, 5.4, 5.2, 5.5, 4.9, 5. , 5.5, 4.9, 4.4,\n",
       "       5.1, 5. , 4.5, 4.4, 5. , 5.1, 4.8, 5.1, 4.6, 5.3, 5. ])"
      ]
     },
     "execution_count": 37,
     "metadata": {},
     "output_type": "execute_result"
    }
   ],
   "source": [
    "iris[iris['class'] == 'Iris-setosa'].sepal_length.values"
   ]
  },
  {
   "cell_type": "code",
   "execution_count": 40,
   "id": "6541858a",
   "metadata": {},
   "outputs": [],
   "source": [
    "# returns a list of all the sepal lengths for a given specie\n",
    "def x_values_generator(specie: str):\n",
    "    return iris[iris['class'] == specie].sepal_length.values\n",
    "\n",
    "# returns a list of all the petal lengths for a given specie\n",
    "def y_values_generator(specie: str):\n",
    "    return iris[iris['class'] == specie].petal_length.values"
   ]
  },
  {
   "cell_type": "code",
   "execution_count": 41,
   "id": "6daf4688",
   "metadata": {},
   "outputs": [],
   "source": [
    "trace0 = go.Scatter(x = x_values_generator(species[0]), y = y_values_generator(species[0]),\n",
    "                    mode = 'markers', marker = dict(color = 'red'), name = species[0])\n",
    "\n",
    "trace1 = go.Scatter(x = x_values_generator(species[1]), y = y_values_generator(species[1]),\n",
    "                    mode = 'markers', marker = dict(color = 'blue'), name = species[1])\n",
    "\n",
    "trace2 = go.Scatter(x = x_values_generator(species[2]), y = y_values_generator(species[2]),\n",
    "                    mode = 'markers', marker = dict(color = 'green'), name = species[2])\n",
    "\n",
    "\n",
    "data = [trace0, trace1, trace2]"
   ]
  },
  {
   "cell_type": "code",
   "execution_count": 68,
   "id": "66fe5069",
   "metadata": {},
   "outputs": [
    {
     "data": {
      "text/plain": [
       "'iris.html'"
      ]
     },
     "execution_count": 68,
     "metadata": {},
     "output_type": "execute_result"
    }
   ],
   "source": [
    "layout = go.Layout(title = 'Iris Species Sepal Vs Petal Lengths', \n",
    "                  xaxis = {'title': 'Sepal Length'},\n",
    "                  yaxis = {'title': 'Petal Length'})\n",
    "\n",
    "fig = go.Figure(data = data, layout = layout)\n",
    "\n",
    "pyo.plot(fig, filename = 'iris.html')"
   ]
  },
  {
   "cell_type": "markdown",
   "id": "1439a919",
   "metadata": {},
   "source": [
    "# Line chart assignment"
   ]
  },
  {
   "cell_type": "markdown",
   "id": "074cb3b7",
   "metadata": {},
   "source": [
    "    Using the file 2010YumaAZ.csv, develop a line chart that plots seven days worth of temperature data on one graph.\n",
    "    You can use a for loop to assign each day to its own trace."
   ]
  },
  {
   "cell_type": "code",
   "execution_count": 42,
   "id": "ff821693",
   "metadata": {},
   "outputs": [],
   "source": [
    "df = pd.read_csv('datasets/2010YumaAZ.csv')"
   ]
  },
  {
   "cell_type": "code",
   "execution_count": 43,
   "id": "94fd824c",
   "metadata": {},
   "outputs": [
    {
     "data": {
      "text/html": [
       "<div>\n",
       "<style scoped>\n",
       "    .dataframe tbody tr th:only-of-type {\n",
       "        vertical-align: middle;\n",
       "    }\n",
       "\n",
       "    .dataframe tbody tr th {\n",
       "        vertical-align: top;\n",
       "    }\n",
       "\n",
       "    .dataframe thead th {\n",
       "        text-align: right;\n",
       "    }\n",
       "</style>\n",
       "<table border=\"1\" class=\"dataframe\">\n",
       "  <thead>\n",
       "    <tr style=\"text-align: right;\">\n",
       "      <th></th>\n",
       "      <th>LST_DATE</th>\n",
       "      <th>DAY</th>\n",
       "      <th>LST_TIME</th>\n",
       "      <th>T_HR_AVG</th>\n",
       "    </tr>\n",
       "  </thead>\n",
       "  <tbody>\n",
       "    <tr>\n",
       "      <th>0</th>\n",
       "      <td>20100601</td>\n",
       "      <td>TUESDAY</td>\n",
       "      <td>0:00</td>\n",
       "      <td>25.2</td>\n",
       "    </tr>\n",
       "    <tr>\n",
       "      <th>1</th>\n",
       "      <td>20100601</td>\n",
       "      <td>TUESDAY</td>\n",
       "      <td>1:00</td>\n",
       "      <td>24.1</td>\n",
       "    </tr>\n",
       "    <tr>\n",
       "      <th>2</th>\n",
       "      <td>20100601</td>\n",
       "      <td>TUESDAY</td>\n",
       "      <td>2:00</td>\n",
       "      <td>24.4</td>\n",
       "    </tr>\n",
       "    <tr>\n",
       "      <th>3</th>\n",
       "      <td>20100601</td>\n",
       "      <td>TUESDAY</td>\n",
       "      <td>3:00</td>\n",
       "      <td>24.9</td>\n",
       "    </tr>\n",
       "    <tr>\n",
       "      <th>4</th>\n",
       "      <td>20100601</td>\n",
       "      <td>TUESDAY</td>\n",
       "      <td>4:00</td>\n",
       "      <td>22.8</td>\n",
       "    </tr>\n",
       "    <tr>\n",
       "      <th>...</th>\n",
       "      <td>...</td>\n",
       "      <td>...</td>\n",
       "      <td>...</td>\n",
       "      <td>...</td>\n",
       "    </tr>\n",
       "    <tr>\n",
       "      <th>163</th>\n",
       "      <td>20100607</td>\n",
       "      <td>MONDAY</td>\n",
       "      <td>19:00</td>\n",
       "      <td>39.4</td>\n",
       "    </tr>\n",
       "    <tr>\n",
       "      <th>164</th>\n",
       "      <td>20100607</td>\n",
       "      <td>MONDAY</td>\n",
       "      <td>20:00</td>\n",
       "      <td>38.5</td>\n",
       "    </tr>\n",
       "    <tr>\n",
       "      <th>165</th>\n",
       "      <td>20100607</td>\n",
       "      <td>MONDAY</td>\n",
       "      <td>21:00</td>\n",
       "      <td>37.0</td>\n",
       "    </tr>\n",
       "    <tr>\n",
       "      <th>166</th>\n",
       "      <td>20100607</td>\n",
       "      <td>MONDAY</td>\n",
       "      <td>22:00</td>\n",
       "      <td>34.7</td>\n",
       "    </tr>\n",
       "    <tr>\n",
       "      <th>167</th>\n",
       "      <td>20100607</td>\n",
       "      <td>MONDAY</td>\n",
       "      <td>23:00</td>\n",
       "      <td>32.6</td>\n",
       "    </tr>\n",
       "  </tbody>\n",
       "</table>\n",
       "<p>168 rows × 4 columns</p>\n",
       "</div>"
      ],
      "text/plain": [
       "     LST_DATE      DAY LST_TIME  T_HR_AVG\n",
       "0    20100601  TUESDAY     0:00      25.2\n",
       "1    20100601  TUESDAY     1:00      24.1\n",
       "2    20100601  TUESDAY     2:00      24.4\n",
       "3    20100601  TUESDAY     3:00      24.9\n",
       "4    20100601  TUESDAY     4:00      22.8\n",
       "..        ...      ...      ...       ...\n",
       "163  20100607   MONDAY    19:00      39.4\n",
       "164  20100607   MONDAY    20:00      38.5\n",
       "165  20100607   MONDAY    21:00      37.0\n",
       "166  20100607   MONDAY    22:00      34.7\n",
       "167  20100607   MONDAY    23:00      32.6\n",
       "\n",
       "[168 rows x 4 columns]"
      ]
     },
     "execution_count": 43,
     "metadata": {},
     "output_type": "execute_result"
    }
   ],
   "source": [
    "df"
   ]
  },
  {
   "cell_type": "code",
   "execution_count": 44,
   "id": "d343def9",
   "metadata": {},
   "outputs": [],
   "source": [
    "days = df.DAY.value_counts().index"
   ]
  },
  {
   "cell_type": "code",
   "execution_count": 45,
   "id": "9da848b6",
   "metadata": {},
   "outputs": [
    {
     "data": {
      "text/plain": [
       "Index(['TUESDAY', 'WEDNESDAY', 'THURSDAY', 'FRIDAY', 'SATURDAY', 'SUNDAY',\n",
       "       'MONDAY'],\n",
       "      dtype='object', name='DAY')"
      ]
     },
     "execution_count": 45,
     "metadata": {},
     "output_type": "execute_result"
    }
   ],
   "source": [
    "days"
   ]
  },
  {
   "cell_type": "code",
   "execution_count": 46,
   "id": "e10c1a71",
   "metadata": {},
   "outputs": [],
   "source": [
    "def temperatures(day : str):\n",
    "    return df[df['DAY'] == day]['T_HR_AVG'].values\n",
    "\n",
    "def times(day: str):\n",
    "    return df[df['DAY'] == day]['LST_TIME'].values"
   ]
  },
  {
   "cell_type": "code",
   "execution_count": 47,
   "id": "08ece6f8",
   "metadata": {},
   "outputs": [
    {
     "data": {
      "text/plain": [
       "[Scatter({\n",
       "     'mode': 'lines',\n",
       "     'name': 'TUESDAY',\n",
       "     'x': array(['0:00', '1:00', '2:00', '3:00', '4:00', '5:00', '6:00', '7:00', '8:00',\n",
       "                 '9:00', '10:00', '11:00', '12:00', '13:00', '14:00', '15:00', '16:00',\n",
       "                 '17:00', '18:00', '19:00', '20:00', '21:00', '22:00', '23:00'],\n",
       "                dtype=object),\n",
       "     'y': array([25.2, 24.1, 24.4, 24.9, 22.8, 19.8, 18.8, 21.2, 24.2, 27.1, 29.3, 30.6,\n",
       "                 32.6, 34. , 34. , 34.9, 34.6, 33.8, 33.5, 32.8, 31. , 29. , 27.6, 26.3])\n",
       " }),\n",
       " Scatter({\n",
       "     'mode': 'lines',\n",
       "     'name': 'WEDNESDAY',\n",
       "     'x': array(['0:00', '1:00', '2:00', '3:00', '4:00', '5:00', '6:00', '7:00', '8:00',\n",
       "                 '9:00', '10:00', '11:00', '12:00', '13:00', '14:00', '15:00', '16:00',\n",
       "                 '17:00', '18:00', '19:00', '20:00', '21:00', '22:00', '23:00'],\n",
       "                dtype=object),\n",
       "     'y': array([23.8, 20.6, 19.1, 18.4, 18.9, 18.2, 17.9, 20.2, 23.8, 26.1, 27.9, 29.3,\n",
       "                 30.9, 32.2, 33.1, 33.7, 34.5, 34.7, 34.8, 34.2, 32.8, 31. , 28.7, 25.5])\n",
       " }),\n",
       " Scatter({\n",
       "     'mode': 'lines',\n",
       "     'name': 'THURSDAY',\n",
       "     'x': array(['0:00', '1:00', '2:00', '3:00', '4:00', '5:00', '6:00', '7:00', '8:00',\n",
       "                 '9:00', '10:00', '11:00', '12:00', '13:00', '14:00', '15:00', '16:00',\n",
       "                 '17:00', '18:00', '19:00', '20:00', '21:00', '22:00', '23:00'],\n",
       "                dtype=object),\n",
       "     'y': array([24.3, 23.1, 21.8, 19.8, 18.5, 19.2, 19.7, 20.7, 23.2, 26.1, 28.6, 30.8,\n",
       "                 32.3, 33.8, 34.9, 35.8, 35.9, 36.3, 35.8, 35.4, 34.2, 32.7, 31.1, 28.6])\n",
       " }),\n",
       " Scatter({\n",
       "     'mode': 'lines',\n",
       "     'name': 'FRIDAY',\n",
       "     'x': array(['0:00', '1:00', '2:00', '3:00', '4:00', '5:00', '6:00', '7:00', '8:00',\n",
       "                 '9:00', '10:00', '11:00', '12:00', '13:00', '14:00', '15:00', '16:00',\n",
       "                 '17:00', '18:00', '19:00', '20:00', '21:00', '22:00', '23:00'],\n",
       "                dtype=object),\n",
       "     'y': array([26.4, 25.4, 24.2, 23.6, 22.5, 21. , 21.3, 22.5, 24.7, 28.1, 30.6, 32.5,\n",
       "                 33.9, 35.5, 36.6, 37.2, 37.8, 38.1, 38.2, 37.4, 36. , 34.4, 32.6, 30.1])\n",
       " }),\n",
       " Scatter({\n",
       "     'mode': 'lines',\n",
       "     'name': 'SATURDAY',\n",
       "     'x': array(['0:00', '1:00', '2:00', '3:00', '4:00', '5:00', '6:00', '7:00', '8:00',\n",
       "                 '9:00', '10:00', '11:00', '12:00', '13:00', '14:00', '15:00', '16:00',\n",
       "                 '17:00', '18:00', '19:00', '20:00', '21:00', '22:00', '23:00'],\n",
       "                dtype=object),\n",
       "     'y': array([28.3, 27.3, 26.3, 25.3, 24.7, 24.7, 23.9, 24.7, 27.7, 30.4, 32.6, 34.8,\n",
       "                 36.4, 37.2, 38.4, 39.7, 40. , 40.4, 40.1, 39. , 37.3, 35.7, 33.9, 31.4])\n",
       " }),\n",
       " Scatter({\n",
       "     'mode': 'lines',\n",
       "     'name': 'SUNDAY',\n",
       "     'x': array(['0:00', '1:00', '2:00', '3:00', '4:00', '5:00', '6:00', '7:00', '8:00',\n",
       "                 '9:00', '10:00', '11:00', '12:00', '13:00', '14:00', '15:00', '16:00',\n",
       "                 '17:00', '18:00', '19:00', '20:00', '21:00', '22:00', '23:00'],\n",
       "                dtype=object),\n",
       "     'y': array([29.7, 28.6, 26.9, 25.9, 25.2, 24.8, 23.9, 26.1, 27.9, 30.5, 33.7, 35.6,\n",
       "                 36.9, 38.4, 39.2, 40.2, 40.6, 40.6, 40.3, 39.5, 37.9, 36.5, 35. , 32.9])\n",
       " }),\n",
       " Scatter({\n",
       "     'mode': 'lines',\n",
       "     'name': 'MONDAY',\n",
       "     'x': array(['0:00', '1:00', '2:00', '3:00', '4:00', '5:00', '6:00', '7:00', '8:00',\n",
       "                 '9:00', '10:00', '11:00', '12:00', '13:00', '14:00', '15:00', '16:00',\n",
       "                 '17:00', '18:00', '19:00', '20:00', '21:00', '22:00', '23:00'],\n",
       "                dtype=object),\n",
       "     'y': array([30.9, 28.7, 26.9, 25.2, 24.1, 24.3, 23.4, 25.7, 28.5, 30.7, 32.5, 34.1,\n",
       "                 36.1, 37.6, 39. , 40.2, 40.3, 40.2, 40.1, 39.4, 38.5, 37. , 34.7, 32.6])\n",
       " })]"
      ]
     },
     "execution_count": 47,
     "metadata": {},
     "output_type": "execute_result"
    }
   ],
   "source": [
    "data = [go.Scatter(x = times(day), y = temperatures(day), mode = 'lines', name = day) for day in days]\n",
    "data"
   ]
  },
  {
   "cell_type": "code",
   "execution_count": 48,
   "id": "15ca59d2",
   "metadata": {},
   "outputs": [],
   "source": [
    "layout = go.Layout(title = 'Temperature Vs Time Graph For Various Days', \n",
    "                   xaxis = dict(title = 'time'), \n",
    "                   yaxis = dict(title = 'temperature'))"
   ]
  },
  {
   "cell_type": "code",
   "execution_count": 49,
   "id": "59ec7c1f",
   "metadata": {},
   "outputs": [
    {
     "data": {
      "text/plain": [
       "'line_chart_assignment.html'"
      ]
     },
     "execution_count": 49,
     "metadata": {},
     "output_type": "execute_result"
    }
   ],
   "source": [
    "fig = go.Figure(data = data, layout = layout)\n",
    "pyo.plot(fig, filename = 'line_chart_assignment.html')"
   ]
  },
  {
   "cell_type": "markdown",
   "id": "36d6c5e9",
   "metadata": {},
   "source": [
    "# Line chart assignment 2"
   ]
  },
  {
   "cell_type": "markdown",
   "id": "18e1bac7",
   "metadata": {},
   "source": [
    "    Take the data 'population.csv' and plot the lines + markers graph for the population estimates of the six new england states."
   ]
  },
  {
   "cell_type": "code",
   "execution_count": 50,
   "id": "8d18a7da",
   "metadata": {},
   "outputs": [],
   "source": [
    "population = pd.read_csv('datasets/population.csv')"
   ]
  },
  {
   "cell_type": "code",
   "execution_count": 51,
   "id": "311aca5b",
   "metadata": {},
   "outputs": [
    {
     "data": {
      "text/html": [
       "<div>\n",
       "<style scoped>\n",
       "    .dataframe tbody tr th:only-of-type {\n",
       "        vertical-align: middle;\n",
       "    }\n",
       "\n",
       "    .dataframe tbody tr th {\n",
       "        vertical-align: top;\n",
       "    }\n",
       "\n",
       "    .dataframe thead th {\n",
       "        text-align: right;\n",
       "    }\n",
       "</style>\n",
       "<table border=\"1\" class=\"dataframe\">\n",
       "  <thead>\n",
       "    <tr style=\"text-align: right;\">\n",
       "      <th></th>\n",
       "      <th>Name</th>\n",
       "      <th>PopEstimate2010</th>\n",
       "      <th>PopEstimate2011</th>\n",
       "      <th>PopEstimate2012</th>\n",
       "      <th>PopEstimate2013</th>\n",
       "      <th>PopEstimate2014</th>\n",
       "      <th>PopEstimate2015</th>\n",
       "      <th>PopEstimate2016</th>\n",
       "      <th>PopEstimate2017</th>\n",
       "    </tr>\n",
       "  </thead>\n",
       "  <tbody>\n",
       "    <tr>\n",
       "      <th>0</th>\n",
       "      <td>Connecticut</td>\n",
       "      <td>3580171</td>\n",
       "      <td>3591927</td>\n",
       "      <td>3597705</td>\n",
       "      <td>3602470</td>\n",
       "      <td>3600188</td>\n",
       "      <td>3593862</td>\n",
       "      <td>3587685</td>\n",
       "      <td>3588184</td>\n",
       "    </tr>\n",
       "    <tr>\n",
       "      <th>1</th>\n",
       "      <td>Maine</td>\n",
       "      <td>1327568</td>\n",
       "      <td>1327968</td>\n",
       "      <td>1328101</td>\n",
       "      <td>1327975</td>\n",
       "      <td>1328903</td>\n",
       "      <td>1327787</td>\n",
       "      <td>1330232</td>\n",
       "      <td>1335907</td>\n",
       "    </tr>\n",
       "    <tr>\n",
       "      <th>2</th>\n",
       "      <td>Massachusetts</td>\n",
       "      <td>6564943</td>\n",
       "      <td>6612178</td>\n",
       "      <td>6659627</td>\n",
       "      <td>6711138</td>\n",
       "      <td>6757925</td>\n",
       "      <td>6794002</td>\n",
       "      <td>6823721</td>\n",
       "      <td>6859819</td>\n",
       "    </tr>\n",
       "    <tr>\n",
       "      <th>3</th>\n",
       "      <td>New Hampshire</td>\n",
       "      <td>1316700</td>\n",
       "      <td>1318345</td>\n",
       "      <td>1320923</td>\n",
       "      <td>1322622</td>\n",
       "      <td>1328684</td>\n",
       "      <td>1330134</td>\n",
       "      <td>1335015</td>\n",
       "      <td>1342795</td>\n",
       "    </tr>\n",
       "    <tr>\n",
       "      <th>4</th>\n",
       "      <td>Rhode Island</td>\n",
       "      <td>1053169</td>\n",
       "      <td>1052154</td>\n",
       "      <td>1052761</td>\n",
       "      <td>1052784</td>\n",
       "      <td>1054782</td>\n",
       "      <td>1055916</td>\n",
       "      <td>1057566</td>\n",
       "      <td>1059639</td>\n",
       "    </tr>\n",
       "    <tr>\n",
       "      <th>5</th>\n",
       "      <td>Vermont</td>\n",
       "      <td>625842</td>\n",
       "      <td>626210</td>\n",
       "      <td>625606</td>\n",
       "      <td>626044</td>\n",
       "      <td>625665</td>\n",
       "      <td>624455</td>\n",
       "      <td>623354</td>\n",
       "      <td>623657</td>\n",
       "    </tr>\n",
       "  </tbody>\n",
       "</table>\n",
       "</div>"
      ],
      "text/plain": [
       "            Name  PopEstimate2010  PopEstimate2011  PopEstimate2012  \\\n",
       "0    Connecticut          3580171          3591927          3597705   \n",
       "1          Maine          1327568          1327968          1328101   \n",
       "2  Massachusetts          6564943          6612178          6659627   \n",
       "3  New Hampshire          1316700          1318345          1320923   \n",
       "4   Rhode Island          1053169          1052154          1052761   \n",
       "5        Vermont           625842           626210           625606   \n",
       "\n",
       "   PopEstimate2013  PopEstimate2014  PopEstimate2015  PopEstimate2016  \\\n",
       "0          3602470          3600188          3593862          3587685   \n",
       "1          1327975          1328903          1327787          1330232   \n",
       "2          6711138          6757925          6794002          6823721   \n",
       "3          1322622          1328684          1330134          1335015   \n",
       "4          1052784          1054782          1055916          1057566   \n",
       "5           626044           625665           624455           623354   \n",
       "\n",
       "   PopEstimate2017  \n",
       "0          3588184  \n",
       "1          1335907  \n",
       "2          6859819  \n",
       "3          1342795  \n",
       "4          1059639  \n",
       "5           623657  "
      ]
     },
     "execution_count": 51,
     "metadata": {},
     "output_type": "execute_result"
    }
   ],
   "source": [
    "population"
   ]
  },
  {
   "cell_type": "code",
   "execution_count": 52,
   "id": "06ed652c",
   "metadata": {},
   "outputs": [],
   "source": [
    "states = population['Name'].values"
   ]
  },
  {
   "cell_type": "code",
   "execution_count": 53,
   "id": "acd2bc6a",
   "metadata": {},
   "outputs": [
    {
     "data": {
      "text/plain": [
       "[(0, 'Connecticut'),\n",
       " (1, 'Maine'),\n",
       " (2, 'Massachusetts'),\n",
       " (3, 'New Hampshire'),\n",
       " (4, 'Rhode Island'),\n",
       " (5, 'Vermont')]"
      ]
     },
     "execution_count": 53,
     "metadata": {},
     "output_type": "execute_result"
    }
   ],
   "source": [
    "states\n",
    "enumerated_states = list(enumerate(states))\n",
    "enumerated_states"
   ]
  },
  {
   "cell_type": "code",
   "execution_count": 54,
   "id": "541299fd",
   "metadata": {},
   "outputs": [],
   "source": [
    "years = population.columns[1:]"
   ]
  },
  {
   "cell_type": "code",
   "execution_count": 55,
   "id": "c5442c2b",
   "metadata": {},
   "outputs": [
    {
     "data": {
      "text/plain": [
       "Index(['PopEstimate2010', 'PopEstimate2011', 'PopEstimate2012',\n",
       "       'PopEstimate2013', 'PopEstimate2014', 'PopEstimate2015',\n",
       "       'PopEstimate2016', 'PopEstimate2017'],\n",
       "      dtype='object')"
      ]
     },
     "execution_count": 55,
     "metadata": {},
     "output_type": "execute_result"
    }
   ],
   "source": []
  },
  {
   "cell_type": "code",
   "execution_count": 56,
   "id": "ab377d0f",
   "metadata": {},
   "outputs": [],
   "source": [
    "def population_by_enumerated_state(enumerated_state: tuple[int, str]):\n",
    "    index, state = enumerated_state\n",
    "    \n",
    "    return np.array([population[year][index] for year in years])"
   ]
  },
  {
   "cell_type": "code",
   "execution_count": 57,
   "id": "e80f0dd8",
   "metadata": {},
   "outputs": [
    {
     "data": {
      "text/plain": [
       "array([6564943, 6612178, 6659627, 6711138, 6757925, 6794002, 6823721,\n",
       "       6859819], dtype=int64)"
      ]
     },
     "execution_count": 57,
     "metadata": {},
     "output_type": "execute_result"
    }
   ],
   "source": [
    "population_by_enumerated_state(enumerated_states[2])"
   ]
  },
  {
   "cell_type": "code",
   "execution_count": 58,
   "id": "347b8350",
   "metadata": {},
   "outputs": [],
   "source": [
    "data = [go.Scatter(x = years, y = population_by_enumerated_state(enumerated_state), mode = 'markers+lines', \n",
    "                   name = enumerated_state[1]) \\\n",
    "        for enumerated_state in enumerated_states\n",
    "       ]"
   ]
  },
  {
   "cell_type": "code",
   "execution_count": 59,
   "id": "07cc3c9d",
   "metadata": {},
   "outputs": [
    {
     "data": {
      "text/plain": [
       "[Scatter({\n",
       "     'mode': 'markers+lines',\n",
       "     'name': 'Connecticut',\n",
       "     'x': array(['PopEstimate2010', 'PopEstimate2011', 'PopEstimate2012',\n",
       "                 'PopEstimate2013', 'PopEstimate2014', 'PopEstimate2015',\n",
       "                 'PopEstimate2016', 'PopEstimate2017'], dtype=object),\n",
       "     'y': array([3580171, 3591927, 3597705, 3602470, 3600188, 3593862, 3587685, 3588184],\n",
       "                dtype=int64)\n",
       " }),\n",
       " Scatter({\n",
       "     'mode': 'markers+lines',\n",
       "     'name': 'Maine',\n",
       "     'x': array(['PopEstimate2010', 'PopEstimate2011', 'PopEstimate2012',\n",
       "                 'PopEstimate2013', 'PopEstimate2014', 'PopEstimate2015',\n",
       "                 'PopEstimate2016', 'PopEstimate2017'], dtype=object),\n",
       "     'y': array([1327568, 1327968, 1328101, 1327975, 1328903, 1327787, 1330232, 1335907],\n",
       "                dtype=int64)\n",
       " }),\n",
       " Scatter({\n",
       "     'mode': 'markers+lines',\n",
       "     'name': 'Massachusetts',\n",
       "     'x': array(['PopEstimate2010', 'PopEstimate2011', 'PopEstimate2012',\n",
       "                 'PopEstimate2013', 'PopEstimate2014', 'PopEstimate2015',\n",
       "                 'PopEstimate2016', 'PopEstimate2017'], dtype=object),\n",
       "     'y': array([6564943, 6612178, 6659627, 6711138, 6757925, 6794002, 6823721, 6859819],\n",
       "                dtype=int64)\n",
       " }),\n",
       " Scatter({\n",
       "     'mode': 'markers+lines',\n",
       "     'name': 'New Hampshire',\n",
       "     'x': array(['PopEstimate2010', 'PopEstimate2011', 'PopEstimate2012',\n",
       "                 'PopEstimate2013', 'PopEstimate2014', 'PopEstimate2015',\n",
       "                 'PopEstimate2016', 'PopEstimate2017'], dtype=object),\n",
       "     'y': array([1316700, 1318345, 1320923, 1322622, 1328684, 1330134, 1335015, 1342795],\n",
       "                dtype=int64)\n",
       " }),\n",
       " Scatter({\n",
       "     'mode': 'markers+lines',\n",
       "     'name': 'Rhode Island',\n",
       "     'x': array(['PopEstimate2010', 'PopEstimate2011', 'PopEstimate2012',\n",
       "                 'PopEstimate2013', 'PopEstimate2014', 'PopEstimate2015',\n",
       "                 'PopEstimate2016', 'PopEstimate2017'], dtype=object),\n",
       "     'y': array([1053169, 1052154, 1052761, 1052784, 1054782, 1055916, 1057566, 1059639],\n",
       "                dtype=int64)\n",
       " }),\n",
       " Scatter({\n",
       "     'mode': 'markers+lines',\n",
       "     'name': 'Vermont',\n",
       "     'x': array(['PopEstimate2010', 'PopEstimate2011', 'PopEstimate2012',\n",
       "                 'PopEstimate2013', 'PopEstimate2014', 'PopEstimate2015',\n",
       "                 'PopEstimate2016', 'PopEstimate2017'], dtype=object),\n",
       "     'y': array([625842, 626210, 625606, 626044, 625665, 624455, 623354, 623657],\n",
       "                dtype=int64)\n",
       " })]"
      ]
     },
     "execution_count": 59,
     "metadata": {},
     "output_type": "execute_result"
    }
   ],
   "source": [
    "data"
   ]
  },
  {
   "cell_type": "code",
   "execution_count": 60,
   "id": "94904115",
   "metadata": {},
   "outputs": [
    {
     "data": {
      "text/plain": [
       "'population_estimates_of_the_six_new_england_states.html'"
      ]
     },
     "execution_count": 60,
     "metadata": {},
     "output_type": "execute_result"
    }
   ],
   "source": [
    "layout = go.Layout(title = 'population estimates of the six new england states.',\n",
    "                   xaxis = dict(title = 'years'),\n",
    "                   yaxis = dict(title = 'population'))\n",
    "\n",
    "fig = go.Figure(data = data, layout = layout)\n",
    "pyo.plot(fig)"
   ]
  },
  {
   "cell_type": "markdown",
   "id": "4ba6ba00",
   "metadata": {},
   "source": [
    "# Bar chart"
   ]
  },
  {
   "cell_type": "markdown",
   "id": "c9c25951",
   "metadata": {},
   "source": [
    "    Using Bar charts, we can visualize categorical data.\n",
    "    Typically, the x-axis is the categories and the y-axis is the number of elements in each category.\n",
    "    \n",
    "    We have different types of bar chart:\n",
    "    1. Simple bar chart\n",
    "    2. Stacked bar chart\n",
    "    3. Nested bar chart"
   ]
  },
  {
   "cell_type": "code",
   "execution_count": 67,
   "id": "a73c30f1",
   "metadata": {},
   "outputs": [],
   "source": [
    "import plotly.offline as pyo\n",
    "import plotly.graph_objs as go\n",
    "import pandas as pd"
   ]
  },
  {
   "cell_type": "code",
   "execution_count": 68,
   "id": "13b31b2f",
   "metadata": {},
   "outputs": [],
   "source": [
    "df = pd.read_csv('datasets/2018WinterOlympics.csv')"
   ]
  },
  {
   "cell_type": "code",
   "execution_count": 69,
   "id": "13518b0e",
   "metadata": {},
   "outputs": [
    {
     "data": {
      "text/html": [
       "<div>\n",
       "<style scoped>\n",
       "    .dataframe tbody tr th:only-of-type {\n",
       "        vertical-align: middle;\n",
       "    }\n",
       "\n",
       "    .dataframe tbody tr th {\n",
       "        vertical-align: top;\n",
       "    }\n",
       "\n",
       "    .dataframe thead th {\n",
       "        text-align: right;\n",
       "    }\n",
       "</style>\n",
       "<table border=\"1\" class=\"dataframe\">\n",
       "  <thead>\n",
       "    <tr style=\"text-align: right;\">\n",
       "      <th></th>\n",
       "      <th>Rank</th>\n",
       "      <th>NOC</th>\n",
       "      <th>Gold</th>\n",
       "      <th>Silver</th>\n",
       "      <th>Bronze</th>\n",
       "      <th>Total</th>\n",
       "    </tr>\n",
       "  </thead>\n",
       "  <tbody>\n",
       "    <tr>\n",
       "      <th>0</th>\n",
       "      <td>1</td>\n",
       "      <td>Norway</td>\n",
       "      <td>14</td>\n",
       "      <td>14</td>\n",
       "      <td>11</td>\n",
       "      <td>39</td>\n",
       "    </tr>\n",
       "    <tr>\n",
       "      <th>1</th>\n",
       "      <td>2</td>\n",
       "      <td>Germany</td>\n",
       "      <td>14</td>\n",
       "      <td>10</td>\n",
       "      <td>7</td>\n",
       "      <td>31</td>\n",
       "    </tr>\n",
       "    <tr>\n",
       "      <th>2</th>\n",
       "      <td>3</td>\n",
       "      <td>Canada</td>\n",
       "      <td>11</td>\n",
       "      <td>8</td>\n",
       "      <td>10</td>\n",
       "      <td>29</td>\n",
       "    </tr>\n",
       "    <tr>\n",
       "      <th>3</th>\n",
       "      <td>4</td>\n",
       "      <td>United States</td>\n",
       "      <td>9</td>\n",
       "      <td>8</td>\n",
       "      <td>6</td>\n",
       "      <td>23</td>\n",
       "    </tr>\n",
       "    <tr>\n",
       "      <th>4</th>\n",
       "      <td>5</td>\n",
       "      <td>Netherlands</td>\n",
       "      <td>8</td>\n",
       "      <td>6</td>\n",
       "      <td>6</td>\n",
       "      <td>20</td>\n",
       "    </tr>\n",
       "    <tr>\n",
       "      <th>5</th>\n",
       "      <td>6</td>\n",
       "      <td>Sweden</td>\n",
       "      <td>7</td>\n",
       "      <td>6</td>\n",
       "      <td>1</td>\n",
       "      <td>14</td>\n",
       "    </tr>\n",
       "    <tr>\n",
       "      <th>6</th>\n",
       "      <td>7</td>\n",
       "      <td>Republic of Korea</td>\n",
       "      <td>5</td>\n",
       "      <td>8</td>\n",
       "      <td>4</td>\n",
       "      <td>17</td>\n",
       "    </tr>\n",
       "    <tr>\n",
       "      <th>7</th>\n",
       "      <td>8</td>\n",
       "      <td>Switzerland</td>\n",
       "      <td>5</td>\n",
       "      <td>6</td>\n",
       "      <td>4</td>\n",
       "      <td>15</td>\n",
       "    </tr>\n",
       "    <tr>\n",
       "      <th>8</th>\n",
       "      <td>9</td>\n",
       "      <td>France</td>\n",
       "      <td>5</td>\n",
       "      <td>4</td>\n",
       "      <td>6</td>\n",
       "      <td>15</td>\n",
       "    </tr>\n",
       "    <tr>\n",
       "      <th>9</th>\n",
       "      <td>10</td>\n",
       "      <td>Austria</td>\n",
       "      <td>5</td>\n",
       "      <td>3</td>\n",
       "      <td>6</td>\n",
       "      <td>14</td>\n",
       "    </tr>\n",
       "    <tr>\n",
       "      <th>10</th>\n",
       "      <td>11</td>\n",
       "      <td>Japan</td>\n",
       "      <td>4</td>\n",
       "      <td>5</td>\n",
       "      <td>4</td>\n",
       "      <td>13</td>\n",
       "    </tr>\n",
       "    <tr>\n",
       "      <th>11</th>\n",
       "      <td>12</td>\n",
       "      <td>Italy</td>\n",
       "      <td>3</td>\n",
       "      <td>2</td>\n",
       "      <td>5</td>\n",
       "      <td>10</td>\n",
       "    </tr>\n",
       "    <tr>\n",
       "      <th>12</th>\n",
       "      <td>13</td>\n",
       "      <td>OAR</td>\n",
       "      <td>2</td>\n",
       "      <td>6</td>\n",
       "      <td>9</td>\n",
       "      <td>17</td>\n",
       "    </tr>\n",
       "    <tr>\n",
       "      <th>13</th>\n",
       "      <td>14</td>\n",
       "      <td>Czech Republic</td>\n",
       "      <td>2</td>\n",
       "      <td>2</td>\n",
       "      <td>3</td>\n",
       "      <td>7</td>\n",
       "    </tr>\n",
       "    <tr>\n",
       "      <th>14</th>\n",
       "      <td>15</td>\n",
       "      <td>Belarus</td>\n",
       "      <td>2</td>\n",
       "      <td>1</td>\n",
       "      <td>0</td>\n",
       "      <td>3</td>\n",
       "    </tr>\n",
       "    <tr>\n",
       "      <th>15</th>\n",
       "      <td>16</td>\n",
       "      <td>China</td>\n",
       "      <td>1</td>\n",
       "      <td>6</td>\n",
       "      <td>2</td>\n",
       "      <td>9</td>\n",
       "    </tr>\n",
       "    <tr>\n",
       "      <th>16</th>\n",
       "      <td>17</td>\n",
       "      <td>Slovakia</td>\n",
       "      <td>1</td>\n",
       "      <td>2</td>\n",
       "      <td>0</td>\n",
       "      <td>3</td>\n",
       "    </tr>\n",
       "    <tr>\n",
       "      <th>17</th>\n",
       "      <td>18</td>\n",
       "      <td>Finland</td>\n",
       "      <td>1</td>\n",
       "      <td>1</td>\n",
       "      <td>4</td>\n",
       "      <td>6</td>\n",
       "    </tr>\n",
       "    <tr>\n",
       "      <th>18</th>\n",
       "      <td>19</td>\n",
       "      <td>Great Britain</td>\n",
       "      <td>1</td>\n",
       "      <td>0</td>\n",
       "      <td>4</td>\n",
       "      <td>5</td>\n",
       "    </tr>\n",
       "    <tr>\n",
       "      <th>19</th>\n",
       "      <td>20</td>\n",
       "      <td>Poland</td>\n",
       "      <td>1</td>\n",
       "      <td>0</td>\n",
       "      <td>1</td>\n",
       "      <td>2</td>\n",
       "    </tr>\n",
       "    <tr>\n",
       "      <th>20</th>\n",
       "      <td>21</td>\n",
       "      <td>Hungary</td>\n",
       "      <td>1</td>\n",
       "      <td>0</td>\n",
       "      <td>0</td>\n",
       "      <td>1</td>\n",
       "    </tr>\n",
       "    <tr>\n",
       "      <th>21</th>\n",
       "      <td>21</td>\n",
       "      <td>Ukraine</td>\n",
       "      <td>1</td>\n",
       "      <td>0</td>\n",
       "      <td>0</td>\n",
       "      <td>1</td>\n",
       "    </tr>\n",
       "    <tr>\n",
       "      <th>22</th>\n",
       "      <td>23</td>\n",
       "      <td>Australia</td>\n",
       "      <td>0</td>\n",
       "      <td>2</td>\n",
       "      <td>1</td>\n",
       "      <td>3</td>\n",
       "    </tr>\n",
       "    <tr>\n",
       "      <th>23</th>\n",
       "      <td>24</td>\n",
       "      <td>Slovenia</td>\n",
       "      <td>0</td>\n",
       "      <td>1</td>\n",
       "      <td>1</td>\n",
       "      <td>2</td>\n",
       "    </tr>\n",
       "    <tr>\n",
       "      <th>24</th>\n",
       "      <td>25</td>\n",
       "      <td>Belgium</td>\n",
       "      <td>0</td>\n",
       "      <td>1</td>\n",
       "      <td>0</td>\n",
       "      <td>1</td>\n",
       "    </tr>\n",
       "    <tr>\n",
       "      <th>25</th>\n",
       "      <td>26</td>\n",
       "      <td>Spain</td>\n",
       "      <td>0</td>\n",
       "      <td>0</td>\n",
       "      <td>2</td>\n",
       "      <td>2</td>\n",
       "    </tr>\n",
       "    <tr>\n",
       "      <th>26</th>\n",
       "      <td>26</td>\n",
       "      <td>New Zealand</td>\n",
       "      <td>0</td>\n",
       "      <td>0</td>\n",
       "      <td>2</td>\n",
       "      <td>2</td>\n",
       "    </tr>\n",
       "    <tr>\n",
       "      <th>27</th>\n",
       "      <td>28</td>\n",
       "      <td>Kazakhstan</td>\n",
       "      <td>0</td>\n",
       "      <td>0</td>\n",
       "      <td>1</td>\n",
       "      <td>1</td>\n",
       "    </tr>\n",
       "    <tr>\n",
       "      <th>28</th>\n",
       "      <td>28</td>\n",
       "      <td>Latvia</td>\n",
       "      <td>0</td>\n",
       "      <td>0</td>\n",
       "      <td>1</td>\n",
       "      <td>1</td>\n",
       "    </tr>\n",
       "    <tr>\n",
       "      <th>29</th>\n",
       "      <td>28</td>\n",
       "      <td>Liechtenstein</td>\n",
       "      <td>0</td>\n",
       "      <td>0</td>\n",
       "      <td>1</td>\n",
       "      <td>1</td>\n",
       "    </tr>\n",
       "  </tbody>\n",
       "</table>\n",
       "</div>"
      ],
      "text/plain": [
       "    Rank                NOC  Gold  Silver  Bronze  Total\n",
       "0      1             Norway    14      14      11     39\n",
       "1      2            Germany    14      10       7     31\n",
       "2      3             Canada    11       8      10     29\n",
       "3      4      United States     9       8       6     23\n",
       "4      5        Netherlands     8       6       6     20\n",
       "5      6             Sweden     7       6       1     14\n",
       "6      7  Republic of Korea     5       8       4     17\n",
       "7      8        Switzerland     5       6       4     15\n",
       "8      9             France     5       4       6     15\n",
       "9     10            Austria     5       3       6     14\n",
       "10    11              Japan     4       5       4     13\n",
       "11    12              Italy     3       2       5     10\n",
       "12    13                OAR     2       6       9     17\n",
       "13    14     Czech Republic     2       2       3      7\n",
       "14    15            Belarus     2       1       0      3\n",
       "15    16              China     1       6       2      9\n",
       "16    17           Slovakia     1       2       0      3\n",
       "17    18            Finland     1       1       4      6\n",
       "18    19      Great Britain     1       0       4      5\n",
       "19    20             Poland     1       0       1      2\n",
       "20    21            Hungary     1       0       0      1\n",
       "21    21            Ukraine     1       0       0      1\n",
       "22    23          Australia     0       2       1      3\n",
       "23    24           Slovenia     0       1       1      2\n",
       "24    25            Belgium     0       1       0      1\n",
       "25    26              Spain     0       0       2      2\n",
       "26    26        New Zealand     0       0       2      2\n",
       "27    28         Kazakhstan     0       0       1      1\n",
       "28    28             Latvia     0       0       1      1\n",
       "29    28      Liechtenstein     0       0       1      1"
      ]
     },
     "execution_count": 69,
     "metadata": {},
     "output_type": "execute_result"
    }
   ],
   "source": [
    "df"
   ]
  },
  {
   "cell_type": "code",
   "execution_count": 70,
   "id": "a2f93116",
   "metadata": {},
   "outputs": [
    {
     "data": {
      "text/plain": [
       "'simple_bar_chart.html'"
      ]
     },
     "execution_count": 70,
     "metadata": {},
     "output_type": "execute_result"
    }
   ],
   "source": [
    "data = [go.Bar(x = df['NOC'], y = df['Total'])]\n",
    "layout = go.Layout(title = 'Medals')\n",
    "\n",
    "fig = go.Figure(data = data, layout = layout)\n",
    "\n",
    "pyo.plot(fig)"
   ]
  },
  {
   "cell_type": "markdown",
   "id": "eff118ae",
   "metadata": {},
   "source": [
    "### Nested bar chart example"
   ]
  },
  {
   "cell_type": "code",
   "execution_count": 71,
   "id": "add3c311",
   "metadata": {},
   "outputs": [
    {
     "data": {
      "text/plain": [
       "'nested_bar_chart.html'"
      ]
     },
     "execution_count": 71,
     "metadata": {},
     "output_type": "execute_result"
    }
   ],
   "source": [
    "\n",
    "\n",
    "trace0 = go.Bar(x = df['NOC'], y = df['Gold'], name = 'Gold', marker = dict(color = '#FFD700'))\n",
    "trace1 = go.Bar(x = df['NOC'], y = df['Silver'], name = 'Silver', marker = dict(color = '#C0C0C0'))\n",
    "trace2 = go.Bar(x = df['NOC'], y = df['Bronze'], name = 'Bronze', marker = dict(color = '#CD7F32'))\n",
    "\n",
    "data = [trace0, trace1, trace2]\n",
    "\n",
    "layout = go.Layout(title = 'Medals')\n",
    "\n",
    "fig = go.Figure(data = data, layout = layout)\n",
    "\n",
    "pyo.plot(fig)"
   ]
  },
  {
   "cell_type": "markdown",
   "id": "f628621a",
   "metadata": {},
   "source": [
    "### Stacked bar chart"
   ]
  },
  {
   "cell_type": "code",
   "execution_count": 73,
   "id": "ca019d5a",
   "metadata": {},
   "outputs": [
    {
     "data": {
      "text/plain": [
       "'stacked_bar_chart.html'"
      ]
     },
     "execution_count": 73,
     "metadata": {},
     "output_type": "execute_result"
    }
   ],
   "source": [
    "trace0 = go.Bar(x = df['NOC'], y = df['Gold'], name = 'Gold', marker = dict(color = '#FFD700'))\n",
    "trace1 = go.Bar(x = df['NOC'], y = df['Silver'], name = 'Silver', marker = dict(color = '#C0C0C0'))\n",
    "trace2 = go.Bar(x = df['NOC'], y = df['Bronze'], name = 'Bronze', marker = dict(color = '#CD7F32'))\n",
    "\n",
    "data = [trace0, trace1, trace2]\n",
    "\n",
    "\n",
    "# just set the barmode to 'stack' in go.Layout() method\n",
    "layout = go.Layout(title = 'Medals', barmode = 'stack')\n",
    "\n",
    "fig = go.Figure(data = data, layout = layout)\n",
    "\n",
    "pyo.plot(fig)"
   ]
  },
  {
   "cell_type": "markdown",
   "id": "32ad1383",
   "metadata": {},
   "source": [
    "### Bar chart exercise"
   ]
  },
  {
   "cell_type": "markdown",
   "id": "3f9affee",
   "metadata": {},
   "source": [
    "        Create a stacked bar chart from the file 'mocksurvey.csv'. Note that the questions appear in the index\n",
    "        (and should be used for the x axis), while responses appear as column labels."
   ]
  },
  {
   "cell_type": "code",
   "execution_count": 74,
   "id": "0d6b3a91",
   "metadata": {},
   "outputs": [],
   "source": [
    "df = pd.read_csv('datasets/mocksurvey.csv')"
   ]
  },
  {
   "cell_type": "code",
   "execution_count": 75,
   "id": "719e48c8",
   "metadata": {},
   "outputs": [
    {
     "data": {
      "text/html": [
       "<div>\n",
       "<style scoped>\n",
       "    .dataframe tbody tr th:only-of-type {\n",
       "        vertical-align: middle;\n",
       "    }\n",
       "\n",
       "    .dataframe tbody tr th {\n",
       "        vertical-align: top;\n",
       "    }\n",
       "\n",
       "    .dataframe thead th {\n",
       "        text-align: right;\n",
       "    }\n",
       "</style>\n",
       "<table border=\"1\" class=\"dataframe\">\n",
       "  <thead>\n",
       "    <tr style=\"text-align: right;\">\n",
       "      <th></th>\n",
       "      <th>Unnamed: 0</th>\n",
       "      <th>Strongly Agree</th>\n",
       "      <th>Somewhat Agree</th>\n",
       "      <th>Neutral</th>\n",
       "      <th>Somewhat Disagree</th>\n",
       "      <th>Strongly Disagree</th>\n",
       "    </tr>\n",
       "  </thead>\n",
       "  <tbody>\n",
       "    <tr>\n",
       "      <th>0</th>\n",
       "      <td>Question 1</td>\n",
       "      <td>0.45</td>\n",
       "      <td>0.25</td>\n",
       "      <td>0.10</td>\n",
       "      <td>0.12</td>\n",
       "      <td>0.08</td>\n",
       "    </tr>\n",
       "    <tr>\n",
       "      <th>1</th>\n",
       "      <td>Question 2</td>\n",
       "      <td>0.12</td>\n",
       "      <td>0.07</td>\n",
       "      <td>0.48</td>\n",
       "      <td>0.18</td>\n",
       "      <td>0.15</td>\n",
       "    </tr>\n",
       "    <tr>\n",
       "      <th>2</th>\n",
       "      <td>Question 3</td>\n",
       "      <td>0.05</td>\n",
       "      <td>0.22</td>\n",
       "      <td>0.19</td>\n",
       "      <td>0.23</td>\n",
       "      <td>0.31</td>\n",
       "    </tr>\n",
       "  </tbody>\n",
       "</table>\n",
       "</div>"
      ],
      "text/plain": [
       "   Unnamed: 0  Strongly Agree  Somewhat Agree  Neutral  Somewhat Disagree  \\\n",
       "0  Question 1            0.45            0.25     0.10               0.12   \n",
       "1  Question 2            0.12            0.07     0.48               0.18   \n",
       "2  Question 3            0.05            0.22     0.19               0.23   \n",
       "\n",
       "   Strongly Disagree  \n",
       "0               0.08  \n",
       "1               0.15  \n",
       "2               0.31  "
      ]
     },
     "execution_count": 75,
     "metadata": {},
     "output_type": "execute_result"
    }
   ],
   "source": [
    "df"
   ]
  },
  {
   "cell_type": "code",
   "execution_count": 76,
   "id": "300be866",
   "metadata": {},
   "outputs": [],
   "source": [
    "questions = df['Unnamed: 0'].values"
   ]
  },
  {
   "cell_type": "code",
   "execution_count": 77,
   "id": "56ca2eef",
   "metadata": {},
   "outputs": [
    {
     "data": {
      "text/plain": [
       "array(['Question 1', 'Question 2', 'Question 3'], dtype=object)"
      ]
     },
     "execution_count": 77,
     "metadata": {},
     "output_type": "execute_result"
    }
   ],
   "source": [
    "questions # These will be used as x axis labels."
   ]
  },
  {
   "cell_type": "code",
   "execution_count": 78,
   "id": "a9a27cc2",
   "metadata": {},
   "outputs": [
    {
     "data": {
      "text/plain": [
       "Index(['Strongly Agree', 'Somewhat Agree', 'Neutral', 'Somewhat Disagree',\n",
       "       'Strongly Disagree'],\n",
       "      dtype='object')"
      ]
     },
     "execution_count": 78,
     "metadata": {},
     "output_type": "execute_result"
    }
   ],
   "source": [
    "categories = df.columns[1:]\n",
    "categories"
   ]
  },
  {
   "cell_type": "code",
   "execution_count": 80,
   "id": "bb550bce",
   "metadata": {},
   "outputs": [],
   "source": [
    "def values_giver(category:str):\n",
    "    return [df[category][i] for i in range(len(questions))]\n",
    "\n"
   ]
  },
  {
   "cell_type": "code",
   "execution_count": 81,
   "id": "4732082f",
   "metadata": {},
   "outputs": [
    {
     "data": {
      "text/plain": [
       "[0.45, 0.12, 0.05]"
      ]
     },
     "execution_count": 81,
     "metadata": {},
     "output_type": "execute_result"
    }
   ],
   "source": [
    "values_giver('Strongly Agree')"
   ]
  },
  {
   "cell_type": "code",
   "execution_count": 82,
   "id": "ea133a23",
   "metadata": {},
   "outputs": [],
   "source": [
    "data = [go.Bar(x = questions, y = values_giver(category), name = category) for category in categories]"
   ]
  },
  {
   "cell_type": "code",
   "execution_count": 83,
   "id": "feb5b436",
   "metadata": {},
   "outputs": [
    {
     "data": {
      "text/plain": [
       "[Bar({\n",
       "     'name': 'Strongly Agree',\n",
       "     'x': array(['Question 1', 'Question 2', 'Question 3'], dtype=object),\n",
       "     'y': [0.45, 0.12, 0.05]\n",
       " }),\n",
       " Bar({\n",
       "     'name': 'Somewhat Agree',\n",
       "     'x': array(['Question 1', 'Question 2', 'Question 3'], dtype=object),\n",
       "     'y': [0.25, 0.07, 0.22]\n",
       " }),\n",
       " Bar({\n",
       "     'name': 'Neutral', 'x': array(['Question 1', 'Question 2', 'Question 3'], dtype=object), 'y': [0.1, 0.48, 0.19]\n",
       " }),\n",
       " Bar({\n",
       "     'name': 'Somewhat Disagree',\n",
       "     'x': array(['Question 1', 'Question 2', 'Question 3'], dtype=object),\n",
       "     'y': [0.12, 0.18, 0.23]\n",
       " }),\n",
       " Bar({\n",
       "     'name': 'Strongly Disagree',\n",
       "     'x': array(['Question 1', 'Question 2', 'Question 3'], dtype=object),\n",
       "     'y': [0.08, 0.15, 0.31]\n",
       " })]"
      ]
     },
     "execution_count": 83,
     "metadata": {},
     "output_type": "execute_result"
    }
   ],
   "source": [
    "data"
   ]
  },
  {
   "cell_type": "code",
   "execution_count": 85,
   "id": "a25e525b",
   "metadata": {},
   "outputs": [],
   "source": [
    "layout = go.Layout(title = 'bar_chart_assignment_one', xaxis = dict(title = 'questions'), yaxis = dict(title = 'opinion'), barmode = 'stack')"
   ]
  },
  {
   "cell_type": "code",
   "execution_count": 86,
   "id": "8373d3e0",
   "metadata": {},
   "outputs": [
    {
     "data": {
      "text/plain": [
       "'bar_chart_assignment_one.html'"
      ]
     },
     "execution_count": 86,
     "metadata": {},
     "output_type": "execute_result"
    }
   ],
   "source": [
    "fig = go.Figure(data = data, layout = layout)\n",
    "\n",
    "pyo.plot(fig)"
   ]
  },
  {
   "cell_type": "markdown",
   "id": "777e26ab",
   "metadata": {},
   "source": [
    "### How to make horizontal chart?"
   ]
  },
  {
   "cell_type": "markdown",
   "id": "2b2de4fb",
   "metadata": {},
   "source": [
    "    To make a bar chart horizontal we just need to pass \"orientation = 'h'\" in the go.Bar() method and reverse x and y."
   ]
  },
  {
   "cell_type": "code",
   "execution_count": 91,
   "id": "1c7cbe2f",
   "metadata": {},
   "outputs": [
    {
     "data": {
      "text/plain": [
       "'bar_chart_assignment_one_horizontal.html'"
      ]
     },
     "execution_count": 91,
     "metadata": {},
     "output_type": "execute_result"
    }
   ],
   "source": [
    "df = pd.read_csv('datasets/mocksurvey.csv')\n",
    "questions = df['Unnamed: 0'].values\n",
    "categories = df.columns[1:]\n",
    "\n",
    "def values_giver(category:str):\n",
    "    return [df[category][i] for i in range(len(questions))]\n",
    "\n",
    "data = [go.Bar(y = questions, x = values_giver(category), name = category, orientation='h') for category in categories]\n",
    "\n",
    "layout = go.Layout(title = 'bar_chart_assignment_one', xaxis = dict(title = 'questions'), \n",
    "                   yaxis = dict(title = 'opinion'), barmode = 'stack')\n",
    "fig = go.Figure(data = data, layout = layout)\n",
    "\n",
    "pyo.plot(fig)"
   ]
  },
  {
   "cell_type": "markdown",
   "id": "c1da0f10",
   "metadata": {},
   "source": [
    "# Bubble chart"
   ]
  },
  {
   "cell_type": "markdown",
   "id": "5540e132",
   "metadata": {},
   "source": [
    "    Bubble chart is the same as the scatter plot. It is just that we have different sizes for each marker based on some other numerical plot.\n",
    "    For plotting the bubble chart, we use pyo.Scatter() method and just use the size parameter in the marker attribute of this function."
   ]
  },
  {
   "cell_type": "code",
   "execution_count": 96,
   "id": "690a2254",
   "metadata": {},
   "outputs": [],
   "source": [
    "import plotly.offline as pyo\n",
    "import plotly.graph_objs as go\n",
    "import pandas as pd\n",
    "\n",
    "df = pd.read_csv('datasets/mpg.csv')"
   ]
  },
  {
   "cell_type": "code",
   "execution_count": 97,
   "id": "b74bae2b",
   "metadata": {},
   "outputs": [
    {
     "data": {
      "text/html": [
       "<div>\n",
       "<style scoped>\n",
       "    .dataframe tbody tr th:only-of-type {\n",
       "        vertical-align: middle;\n",
       "    }\n",
       "\n",
       "    .dataframe tbody tr th {\n",
       "        vertical-align: top;\n",
       "    }\n",
       "\n",
       "    .dataframe thead th {\n",
       "        text-align: right;\n",
       "    }\n",
       "</style>\n",
       "<table border=\"1\" class=\"dataframe\">\n",
       "  <thead>\n",
       "    <tr style=\"text-align: right;\">\n",
       "      <th></th>\n",
       "      <th>mpg</th>\n",
       "      <th>cylinders</th>\n",
       "      <th>displacement</th>\n",
       "      <th>horsepower</th>\n",
       "      <th>weight</th>\n",
       "      <th>acceleration</th>\n",
       "      <th>model_year</th>\n",
       "      <th>origin</th>\n",
       "      <th>name</th>\n",
       "    </tr>\n",
       "  </thead>\n",
       "  <tbody>\n",
       "    <tr>\n",
       "      <th>0</th>\n",
       "      <td>18.0</td>\n",
       "      <td>8</td>\n",
       "      <td>307.0</td>\n",
       "      <td>130</td>\n",
       "      <td>3504</td>\n",
       "      <td>12.0</td>\n",
       "      <td>70</td>\n",
       "      <td>1</td>\n",
       "      <td>chevrolet chevelle malibu</td>\n",
       "    </tr>\n",
       "    <tr>\n",
       "      <th>1</th>\n",
       "      <td>15.0</td>\n",
       "      <td>8</td>\n",
       "      <td>350.0</td>\n",
       "      <td>165</td>\n",
       "      <td>3693</td>\n",
       "      <td>11.5</td>\n",
       "      <td>70</td>\n",
       "      <td>1</td>\n",
       "      <td>buick skylark 320</td>\n",
       "    </tr>\n",
       "    <tr>\n",
       "      <th>2</th>\n",
       "      <td>18.0</td>\n",
       "      <td>8</td>\n",
       "      <td>318.0</td>\n",
       "      <td>150</td>\n",
       "      <td>3436</td>\n",
       "      <td>11.0</td>\n",
       "      <td>70</td>\n",
       "      <td>1</td>\n",
       "      <td>plymouth satellite</td>\n",
       "    </tr>\n",
       "    <tr>\n",
       "      <th>3</th>\n",
       "      <td>16.0</td>\n",
       "      <td>8</td>\n",
       "      <td>304.0</td>\n",
       "      <td>150</td>\n",
       "      <td>3433</td>\n",
       "      <td>12.0</td>\n",
       "      <td>70</td>\n",
       "      <td>1</td>\n",
       "      <td>amc rebel sst</td>\n",
       "    </tr>\n",
       "    <tr>\n",
       "      <th>4</th>\n",
       "      <td>17.0</td>\n",
       "      <td>8</td>\n",
       "      <td>302.0</td>\n",
       "      <td>140</td>\n",
       "      <td>3449</td>\n",
       "      <td>10.5</td>\n",
       "      <td>70</td>\n",
       "      <td>1</td>\n",
       "      <td>ford torino</td>\n",
       "    </tr>\n",
       "    <tr>\n",
       "      <th>...</th>\n",
       "      <td>...</td>\n",
       "      <td>...</td>\n",
       "      <td>...</td>\n",
       "      <td>...</td>\n",
       "      <td>...</td>\n",
       "      <td>...</td>\n",
       "      <td>...</td>\n",
       "      <td>...</td>\n",
       "      <td>...</td>\n",
       "    </tr>\n",
       "    <tr>\n",
       "      <th>393</th>\n",
       "      <td>27.0</td>\n",
       "      <td>4</td>\n",
       "      <td>140.0</td>\n",
       "      <td>86</td>\n",
       "      <td>2790</td>\n",
       "      <td>15.6</td>\n",
       "      <td>82</td>\n",
       "      <td>1</td>\n",
       "      <td>ford mustang gl</td>\n",
       "    </tr>\n",
       "    <tr>\n",
       "      <th>394</th>\n",
       "      <td>44.0</td>\n",
       "      <td>4</td>\n",
       "      <td>97.0</td>\n",
       "      <td>52</td>\n",
       "      <td>2130</td>\n",
       "      <td>24.6</td>\n",
       "      <td>82</td>\n",
       "      <td>2</td>\n",
       "      <td>vw pickup</td>\n",
       "    </tr>\n",
       "    <tr>\n",
       "      <th>395</th>\n",
       "      <td>32.0</td>\n",
       "      <td>4</td>\n",
       "      <td>135.0</td>\n",
       "      <td>84</td>\n",
       "      <td>2295</td>\n",
       "      <td>11.6</td>\n",
       "      <td>82</td>\n",
       "      <td>1</td>\n",
       "      <td>dodge rampage</td>\n",
       "    </tr>\n",
       "    <tr>\n",
       "      <th>396</th>\n",
       "      <td>28.0</td>\n",
       "      <td>4</td>\n",
       "      <td>120.0</td>\n",
       "      <td>79</td>\n",
       "      <td>2625</td>\n",
       "      <td>18.6</td>\n",
       "      <td>82</td>\n",
       "      <td>1</td>\n",
       "      <td>ford ranger</td>\n",
       "    </tr>\n",
       "    <tr>\n",
       "      <th>397</th>\n",
       "      <td>31.0</td>\n",
       "      <td>4</td>\n",
       "      <td>119.0</td>\n",
       "      <td>82</td>\n",
       "      <td>2720</td>\n",
       "      <td>19.4</td>\n",
       "      <td>82</td>\n",
       "      <td>1</td>\n",
       "      <td>chevy s-10</td>\n",
       "    </tr>\n",
       "  </tbody>\n",
       "</table>\n",
       "<p>398 rows × 9 columns</p>\n",
       "</div>"
      ],
      "text/plain": [
       "      mpg  cylinders  displacement horsepower  weight  acceleration  \\\n",
       "0    18.0          8         307.0        130    3504          12.0   \n",
       "1    15.0          8         350.0        165    3693          11.5   \n",
       "2    18.0          8         318.0        150    3436          11.0   \n",
       "3    16.0          8         304.0        150    3433          12.0   \n",
       "4    17.0          8         302.0        140    3449          10.5   \n",
       "..    ...        ...           ...        ...     ...           ...   \n",
       "393  27.0          4         140.0         86    2790          15.6   \n",
       "394  44.0          4          97.0         52    2130          24.6   \n",
       "395  32.0          4         135.0         84    2295          11.6   \n",
       "396  28.0          4         120.0         79    2625          18.6   \n",
       "397  31.0          4         119.0         82    2720          19.4   \n",
       "\n",
       "     model_year  origin                       name  \n",
       "0            70       1  chevrolet chevelle malibu  \n",
       "1            70       1          buick skylark 320  \n",
       "2            70       1         plymouth satellite  \n",
       "3            70       1              amc rebel sst  \n",
       "4            70       1                ford torino  \n",
       "..          ...     ...                        ...  \n",
       "393          82       1            ford mustang gl  \n",
       "394          82       2                  vw pickup  \n",
       "395          82       1              dodge rampage  \n",
       "396          82       1                ford ranger  \n",
       "397          82       1                 chevy s-10  \n",
       "\n",
       "[398 rows x 9 columns]"
      ]
     },
     "execution_count": 97,
     "metadata": {},
     "output_type": "execute_result"
    }
   ],
   "source": [
    "df"
   ]
  },
  {
   "cell_type": "code",
   "execution_count": 118,
   "id": "b14fdbf7",
   "metadata": {},
   "outputs": [
    {
     "data": {
      "text/plain": [
       "'scatter_plot_with_text.html'"
      ]
     },
     "execution_count": 118,
     "metadata": {},
     "output_type": "execute_result"
    }
   ],
   "source": [
    "trace = go.Scatter(x = df['horsepower'], \n",
    "                   y = df['mpg'], \n",
    "                   text = df['name'],\n",
    "                   mode = 'markers',\n",
    "                   marker = dict(size = df['weight'] / 100, color = df['cylinders'], showscale=True),\n",
    "                  )\n",
    "\n",
    "data = [trace]\n",
    "\n",
    "layout = go.Layout(title = 'Bubble Chart')\n",
    "\n",
    "fig = go.Figure(data = data, layout = layout)\n",
    "pyo.plot(fig)"
   ]
  },
  {
   "cell_type": "code",
   "execution_count": null,
   "id": "0d120d40",
   "metadata": {},
   "outputs": [],
   "source": []
  }
 ],
 "metadata": {
  "kernelspec": {
   "display_name": "Python 3 (ipykernel)",
   "language": "python",
   "name": "python3"
  },
  "language_info": {
   "codemirror_mode": {
    "name": "ipython",
    "version": 3
   },
   "file_extension": ".py",
   "mimetype": "text/x-python",
   "name": "python",
   "nbconvert_exporter": "python",
   "pygments_lexer": "ipython3",
   "version": "3.11.5"
  }
 },
 "nbformat": 4,
 "nbformat_minor": 5
}
