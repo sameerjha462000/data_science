{
 "cells": [
  {
   "cell_type": "markdown",
   "id": "cafd9489",
   "metadata": {},
   "source": [
    "# String operations in pandas\n",
    "\n",
    "    We can use the apply method to apply a string function to every value of a dataframe but that is not efficient as\n",
    "    we are not using the full power of pandas. Pandas has a built in vectorized string operations which have been made\n",
    "    specifically for the textual columns."
   ]
  },
  {
   "cell_type": "code",
   "execution_count": 1,
   "id": "de5293b1",
   "metadata": {},
   "outputs": [],
   "source": [
    "import numpy as np\n",
    "import pandas as pd"
   ]
  },
  {
   "cell_type": "code",
   "execution_count": 2,
   "id": "86164952",
   "metadata": {},
   "outputs": [
    {
     "data": {
      "text/html": [
       "<div>\n",
       "<style scoped>\n",
       "    .dataframe tbody tr th:only-of-type {\n",
       "        vertical-align: middle;\n",
       "    }\n",
       "\n",
       "    .dataframe tbody tr th {\n",
       "        vertical-align: top;\n",
       "    }\n",
       "\n",
       "    .dataframe thead th {\n",
       "        text-align: right;\n",
       "    }\n",
       "</style>\n",
       "<table border=\"1\" class=\"dataframe\">\n",
       "  <thead>\n",
       "    <tr style=\"text-align: right;\">\n",
       "      <th></th>\n",
       "      <th>Name</th>\n",
       "      <th>Position Title</th>\n",
       "      <th>Department</th>\n",
       "      <th>Employee Annual Salary</th>\n",
       "    </tr>\n",
       "  </thead>\n",
       "  <tbody>\n",
       "    <tr>\n",
       "      <th>0</th>\n",
       "      <td>AARON,  ELVIA J</td>\n",
       "      <td>WATER RATE TAKER</td>\n",
       "      <td>WATER MGMNT</td>\n",
       "      <td>$90744.00</td>\n",
       "    </tr>\n",
       "    <tr>\n",
       "      <th>1</th>\n",
       "      <td>AARON,  JEFFERY M</td>\n",
       "      <td>POLICE OFFICER</td>\n",
       "      <td>POLICE</td>\n",
       "      <td>$84450.00</td>\n",
       "    </tr>\n",
       "    <tr>\n",
       "      <th>2</th>\n",
       "      <td>AARON,  KARINA</td>\n",
       "      <td>POLICE OFFICER</td>\n",
       "      <td>POLICE</td>\n",
       "      <td>$84450.00</td>\n",
       "    </tr>\n",
       "    <tr>\n",
       "      <th>3</th>\n",
       "      <td>AARON,  KIMBERLEI R</td>\n",
       "      <td>CHIEF CONTRACT EXPEDITER</td>\n",
       "      <td>GENERAL SERVICES</td>\n",
       "      <td>$89880.00</td>\n",
       "    </tr>\n",
       "    <tr>\n",
       "      <th>4</th>\n",
       "      <td>ABAD JR,  VICENTE M</td>\n",
       "      <td>CIVIL ENGINEER IV</td>\n",
       "      <td>WATER MGMNT</td>\n",
       "      <td>$106836.00</td>\n",
       "    </tr>\n",
       "  </tbody>\n",
       "</table>\n",
       "</div>"
      ],
      "text/plain": [
       "                  Name            Position Title        Department  \\\n",
       "0      AARON,  ELVIA J          WATER RATE TAKER       WATER MGMNT   \n",
       "1    AARON,  JEFFERY M            POLICE OFFICER            POLICE   \n",
       "2       AARON,  KARINA            POLICE OFFICER            POLICE   \n",
       "3  AARON,  KIMBERLEI R  CHIEF CONTRACT EXPEDITER  GENERAL SERVICES   \n",
       "4  ABAD JR,  VICENTE M         CIVIL ENGINEER IV       WATER MGMNT   \n",
       "\n",
       "  Employee Annual Salary  \n",
       "0              $90744.00  \n",
       "1              $84450.00  \n",
       "2              $84450.00  \n",
       "3              $89880.00  \n",
       "4             $106836.00  "
      ]
     },
     "execution_count": 2,
     "metadata": {},
     "output_type": "execute_result"
    }
   ],
   "source": [
    "chicago = pd.read_csv('datasets/chicago.csv')\n",
    "chicago = chicago.dropna(how = 'all')\n",
    "chicago.head()"
   ]
  },
  {
   "cell_type": "markdown",
   "id": "5c000aa6",
   "metadata": {},
   "source": [
    "    Let us calculate null values in every column of chicago"
   ]
  },
  {
   "cell_type": "code",
   "execution_count": 3,
   "id": "528f18fa",
   "metadata": {},
   "outputs": [
    {
     "data": {
      "text/plain": [
       "{'Name': 0, 'Position Title': 0, 'Department': 0, 'Employee Annual Salary': 0}"
      ]
     },
     "execution_count": 3,
     "metadata": {},
     "output_type": "execute_result"
    }
   ],
   "source": [
    "nulls = {}\n",
    "\n",
    "for column in chicago.columns:\n",
    "    nulls[column] = chicago[column].value_counts(dropna = False).get(np.nan, 0)\n",
    "    \n",
    "nulls # we have 0 null values in each and every column of the dataframe."
   ]
  },
  {
   "cell_type": "code",
   "execution_count": 4,
   "id": "073303ec",
   "metadata": {},
   "outputs": [
    {
     "data": {
      "text/plain": [
       "0            WATER RATE TAKER\n",
       "1              POLICE OFFICER\n",
       "2              POLICE OFFICER\n",
       "3    CHIEF CONTRACT EXPEDITER\n",
       "4           CIVIL ENGINEER IV\n",
       "Name: Position Title, dtype: object"
      ]
     },
     "execution_count": 4,
     "metadata": {},
     "output_type": "execute_result"
    }
   ],
   "source": [
    "positions = chicago['Position Title']\n",
    "positions.head()"
   ]
  },
  {
   "cell_type": "code",
   "execution_count": 5,
   "id": "385d9676",
   "metadata": {},
   "outputs": [
    {
     "data": {
      "text/plain": [
       "0                      water rate taker\n",
       "1                        police officer\n",
       "2                        police officer\n",
       "3              chief contract expediter\n",
       "4                     civil engineer iv\n",
       "                      ...              \n",
       "32057    frm of machinists - automotive\n",
       "32058                    police officer\n",
       "32059                    police officer\n",
       "32060                    police officer\n",
       "32061           chief data base analyst\n",
       "Name: Position Title, Length: 32062, dtype: object"
      ]
     },
     "execution_count": 5,
     "metadata": {},
     "output_type": "execute_result"
    }
   ],
   "source": [
    "positions.str.lower()"
   ]
  },
  {
   "cell_type": "code",
   "execution_count": 6,
   "id": "e991c3aa",
   "metadata": {},
   "outputs": [
    {
     "data": {
      "text/plain": [
       "0                      WATER RATE TAKER\n",
       "1                        POLICE OFFICER\n",
       "2                        POLICE OFFICER\n",
       "3              CHIEF CONTRACT EXPEDITER\n",
       "4                     CIVIL ENGINEER IV\n",
       "                      ...              \n",
       "32057    FRM OF MACHINISTS - AUTOMOTIVE\n",
       "32058                    POLICE OFFICER\n",
       "32059                    POLICE OFFICER\n",
       "32060                    POLICE OFFICER\n",
       "32061           CHIEF DATA BASE ANALYST\n",
       "Name: Position Title, Length: 32062, dtype: object"
      ]
     },
     "execution_count": 6,
     "metadata": {},
     "output_type": "execute_result"
    }
   ],
   "source": [
    "positions.str.upper()"
   ]
  },
  {
   "cell_type": "code",
   "execution_count": 7,
   "id": "dd17be6a",
   "metadata": {},
   "outputs": [
    {
     "data": {
      "text/plain": [
       "0                      Water Rate Taker\n",
       "1                        Police Officer\n",
       "2                        Police Officer\n",
       "3              Chief Contract Expediter\n",
       "4                     Civil Engineer Iv\n",
       "                      ...              \n",
       "32057    Frm Of Machinists - Automotive\n",
       "32058                    Police Officer\n",
       "32059                    Police Officer\n",
       "32060                    Police Officer\n",
       "32061           Chief Data Base Analyst\n",
       "Name: Position Title, Length: 32062, dtype: object"
      ]
     },
     "execution_count": 7,
     "metadata": {},
     "output_type": "execute_result"
    }
   ],
   "source": [
    "positions.str.title()"
   ]
  },
  {
   "cell_type": "code",
   "execution_count": 8,
   "id": "6e00349c",
   "metadata": {},
   "outputs": [
    {
     "data": {
      "text/plain": [
       "0        16\n",
       "1        14\n",
       "2        14\n",
       "3        24\n",
       "4        17\n",
       "         ..\n",
       "32057    30\n",
       "32058    14\n",
       "32059    14\n",
       "32060    14\n",
       "32061    23\n",
       "Name: Position Title, Length: 32062, dtype: int64"
      ]
     },
     "execution_count": 8,
     "metadata": {},
     "output_type": "execute_result"
    }
   ],
   "source": [
    "positions.str.len()"
   ]
  },
  {
   "cell_type": "markdown",
   "id": "180720d3",
   "metadata": {},
   "source": [
    "# strip, lstrip, rstrip methods"
   ]
  },
  {
   "cell_type": "code",
   "execution_count": 9,
   "id": "1d12c04a",
   "metadata": {},
   "outputs": [
    {
     "data": {
      "text/plain": [
       "0             WATER MGMNT\n",
       "1                  POLICE\n",
       "2                  POLICE\n",
       "3        GENERAL SERVICES\n",
       "4             WATER MGMNT\n",
       "               ...       \n",
       "32057    GENERAL SERVICES\n",
       "32058              POLICE\n",
       "32059              POLICE\n",
       "32060              POLICE\n",
       "32061                DoIT\n",
       "Name: Department, Length: 32062, dtype: object"
      ]
     },
     "execution_count": 9,
     "metadata": {},
     "output_type": "execute_result"
    }
   ],
   "source": [
    "departments = chicago['Department']\n",
    "departments"
   ]
  },
  {
   "cell_type": "code",
   "execution_count": 10,
   "id": "d9cd5633",
   "metadata": {},
   "outputs": [
    {
     "data": {
      "text/plain": [
       "0             WATER MGMNT\n",
       "1                  POLICE\n",
       "2                  POLICE\n",
       "3        GENERAL SERVICES\n",
       "4             WATER MGMNT\n",
       "               ...       \n",
       "32057    GENERAL SERVICES\n",
       "32058              POLICE\n",
       "32059              POLICE\n",
       "32060              POLICE\n",
       "32061                DoIT\n",
       "Name: Department, Length: 32062, dtype: object"
      ]
     },
     "execution_count": 10,
     "metadata": {},
     "output_type": "execute_result"
    }
   ],
   "source": [
    "departments.str.strip()"
   ]
  },
  {
   "cell_type": "code",
   "execution_count": 11,
   "id": "37c6c524",
   "metadata": {},
   "outputs": [
    {
     "data": {
      "text/plain": [
       "0             WATER MGMNT\n",
       "1                  POLICE\n",
       "2                  POLICE\n",
       "3        GENERAL SERVICES\n",
       "4             WATER MGMNT\n",
       "               ...       \n",
       "32057    GENERAL SERVICES\n",
       "32058              POLICE\n",
       "32059              POLICE\n",
       "32060              POLICE\n",
       "32061                DoIT\n",
       "Name: Department, Length: 32062, dtype: object"
      ]
     },
     "execution_count": 11,
     "metadata": {},
     "output_type": "execute_result"
    }
   ],
   "source": [
    "departments.str.lstrip()"
   ]
  },
  {
   "cell_type": "code",
   "execution_count": 12,
   "id": "76373d35",
   "metadata": {},
   "outputs": [
    {
     "data": {
      "text/plain": [
       "0             WATER MGMNT\n",
       "1                  POLICE\n",
       "2                  POLICE\n",
       "3        GENERAL SERVICES\n",
       "4             WATER MGMNT\n",
       "               ...       \n",
       "32057    GENERAL SERVICES\n",
       "32058              POLICE\n",
       "32059              POLICE\n",
       "32060              POLICE\n",
       "32061                DoIT\n",
       "Name: Department, Length: 32062, dtype: object"
      ]
     },
     "execution_count": 12,
     "metadata": {},
     "output_type": "execute_result"
    }
   ],
   "source": [
    "departments.str.rstrip()"
   ]
  },
  {
   "cell_type": "code",
   "execution_count": 13,
   "id": "12d13281",
   "metadata": {},
   "outputs": [
    {
     "data": {
      "text/plain": [
       "0        WATER MANAGEMENT\n",
       "1                  POLICE\n",
       "2                  POLICE\n",
       "3        GENERAL SERVICES\n",
       "4        WATER MANAGEMENT\n",
       "               ...       \n",
       "32057    GENERAL SERVICES\n",
       "32058              POLICE\n",
       "32059              POLICE\n",
       "32060              POLICE\n",
       "32061                DoIT\n",
       "Name: Department, Length: 32062, dtype: object"
      ]
     },
     "execution_count": 13,
     "metadata": {},
     "output_type": "execute_result"
    }
   ],
   "source": [
    "departments.str.replace('MGMNT', \"MANAGEMENT\")"
   ]
  },
  {
   "cell_type": "code",
   "execution_count": null,
   "id": "fe753f80",
   "metadata": {},
   "outputs": [],
   "source": [
    " "
   ]
  }
 ],
 "metadata": {
  "kernelspec": {
   "display_name": "Python 3 (ipykernel)",
   "language": "python",
   "name": "python3"
  },
  "language_info": {
   "codemirror_mode": {
    "name": "ipython",
    "version": 3
   },
   "file_extension": ".py",
   "mimetype": "text/x-python",
   "name": "python",
   "nbconvert_exporter": "python",
   "pygments_lexer": "ipython3",
   "version": "3.11.5"
  }
 },
 "nbformat": 4,
 "nbformat_minor": 5
}
