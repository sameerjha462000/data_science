{
 "cells": [
  {
   "cell_type": "markdown",
   "id": "84e25c4e",
   "metadata": {},
   "source": [
    "# Dataframes III"
   ]
  },
  {
   "cell_type": "code",
   "execution_count": null,
   "id": "cfe55f78",
   "metadata": {},
   "outputs": [],
   "source": [
    "import numpy as np\n",
    "import pandas as pd"
   ]
  },
  {
   "cell_type": "code",
   "execution_count": null,
   "id": "c7ce66e0",
   "metadata": {},
   "outputs": [],
   "source": [
    "bond = pd.read_csv('datasets/jamesbond.csv')\n",
    "bond.head()"
   ]
  },
  {
   "cell_type": "markdown",
   "id": "17a5bbc4",
   "metadata": {},
   "source": [
    "# set_index() and reset_index()\n",
    "\n",
    "    1. The set_index() is used to set a particular column as an index of the dataframe. It drops that column from\n",
    "       the dataframe which is used to be used as index.\n",
    "    \n",
    "    2. The reset_index() is used to give the default indexing to a dataframe. It doesn't drop the original index.\n",
    "       Instead it makes it as a new column in the dataframe."
   ]
  },
  {
   "cell_type": "code",
   "execution_count": null,
   "id": "a9bb7bcb",
   "metadata": {},
   "outputs": [],
   "source": [
    "film_bond = bond.set_index('Film')\n",
    "film_bond.head()"
   ]
  },
  {
   "cell_type": "markdown",
   "id": "b73af4cb",
   "metadata": {},
   "source": [
    "    Note that it removed the 'Film' column from the dataframe completely and made it as index."
   ]
  },
  {
   "cell_type": "markdown",
   "id": "f42af1be",
   "metadata": {},
   "source": [
    "    We can now reset the indexing in film_bond to default pandas implicit index by using the reset_index() method\n",
    "    This method will set the default index and make the current index as the column in the dataframe."
   ]
  },
  {
   "cell_type": "code",
   "execution_count": null,
   "id": "235d4623",
   "metadata": {},
   "outputs": [],
   "source": [
    "film_bond_reset = film_bond.reset_index()\n",
    "film_bond_reset.head()"
   ]
  },
  {
   "cell_type": "markdown",
   "id": "869c67d1",
   "metadata": {},
   "source": [
    "    We can also decide to completely drop the current index by setting drop = True."
   ]
  },
  {
   "cell_type": "code",
   "execution_count": null,
   "id": "e7169ba9",
   "metadata": {},
   "outputs": [],
   "source": [
    "film_bond_reset_2 = film_bond.reset_index(drop = True)\n",
    "film_bond_reset_2.head()"
   ]
  },
  {
   "cell_type": "markdown",
   "id": "0b72119a",
   "metadata": {},
   "source": [
    "# iloc and loc accessors"
   ]
  },
  {
   "cell_type": "code",
   "execution_count": null,
   "id": "37924ac4",
   "metadata": {},
   "outputs": [],
   "source": [
    "import numpy as np\n",
    "import pandas as pd"
   ]
  },
  {
   "cell_type": "code",
   "execution_count": null,
   "id": "f269696d",
   "metadata": {},
   "outputs": [],
   "source": [
    "bond = pd.read_csv('datasets/jamesbond.csv', index_col = 'Film')\n",
    "bond.head(10)"
   ]
  },
  {
   "cell_type": "code",
   "execution_count": null,
   "id": "c87792de",
   "metadata": {},
   "outputs": [],
   "source": [
    "bond.loc['Dr. No']"
   ]
  },
  {
   "cell_type": "code",
   "execution_count": null,
   "id": "95400097",
   "metadata": {},
   "outputs": [],
   "source": [
    "bond.head(10)"
   ]
  },
  {
   "cell_type": "code",
   "execution_count": null,
   "id": "c9a1881f",
   "metadata": {},
   "outputs": [],
   "source": [
    "bond.loc['Dr. No': 'Thunderball']"
   ]
  },
  {
   "cell_type": "code",
   "execution_count": null,
   "id": "c2698607",
   "metadata": {},
   "outputs": [],
   "source": [
    "bond.head(10)"
   ]
  },
  {
   "cell_type": "code",
   "execution_count": null,
   "id": "883a4954",
   "metadata": {},
   "outputs": [],
   "source": [
    "bond.loc['Casino Royale']"
   ]
  },
  {
   "cell_type": "code",
   "execution_count": null,
   "id": "cf19ddd7",
   "metadata": {},
   "outputs": [],
   "source": [
    "bond.head(10)"
   ]
  },
  {
   "cell_type": "code",
   "execution_count": null,
   "id": "e67af5a3",
   "metadata": {},
   "outputs": [],
   "source": [
    "bond.loc[['Dr. No', 'Casino Royale']]"
   ]
  },
  {
   "cell_type": "code",
   "execution_count": null,
   "id": "c4ce08bd",
   "metadata": {},
   "outputs": [],
   "source": [
    "bond.head(10)"
   ]
  },
  {
   "cell_type": "code",
   "execution_count": null,
   "id": "2f7c407a",
   "metadata": {},
   "outputs": [],
   "source": [
    "bond.loc[['Dr. No', 'Diamonds Are Forever', 'Live and Let Die']]"
   ]
  },
  {
   "cell_type": "markdown",
   "id": "d0491eaa",
   "metadata": {},
   "source": [
    "### similarily we can use iloc"
   ]
  },
  {
   "cell_type": "code",
   "execution_count": null,
   "id": "ba83a63f",
   "metadata": {},
   "outputs": [],
   "source": [
    "bond.head(10)"
   ]
  },
  {
   "cell_type": "code",
   "execution_count": null,
   "id": "5ba1aa17",
   "metadata": {},
   "outputs": [],
   "source": [
    "bond.iloc[0] # 'Dr. No'"
   ]
  },
  {
   "cell_type": "code",
   "execution_count": null,
   "id": "9daf034f",
   "metadata": {},
   "outputs": [],
   "source": [
    "bond.head(10)"
   ]
  },
  {
   "cell_type": "code",
   "execution_count": null,
   "id": "b250121d",
   "metadata": {},
   "outputs": [],
   "source": [
    "bond.iloc[1:6] # 'From Russia with Love' to 'You Only Live Twice' # This is slicing"
   ]
  },
  {
   "cell_type": "code",
   "execution_count": null,
   "id": "c2f04557",
   "metadata": {},
   "outputs": [],
   "source": [
    "bond.iloc[::2] # starts from the 0th row and takes a jump of 2 every time"
   ]
  },
  {
   "cell_type": "code",
   "execution_count": null,
   "id": "18ed77df",
   "metadata": {},
   "outputs": [],
   "source": [
    "bond.head(10)"
   ]
  },
  {
   "cell_type": "code",
   "execution_count": null,
   "id": "23932cc3",
   "metadata": {},
   "outputs": [],
   "source": [
    "bond.iloc[[0,5,0,4]] # Fancy Indexing"
   ]
  },
  {
   "cell_type": "markdown",
   "id": "d3cb0d8c",
   "metadata": {},
   "source": [
    "# second accessor to iloc and loc"
   ]
  },
  {
   "cell_type": "code",
   "execution_count": null,
   "id": "25d852c3",
   "metadata": {},
   "outputs": [],
   "source": [
    "import numpy as np\n",
    "import pandas as pd"
   ]
  },
  {
   "cell_type": "code",
   "execution_count": null,
   "id": "94cbb1ca",
   "metadata": {},
   "outputs": [],
   "source": [
    "bond = pd.read_csv('datasets/jamesbond.csv', index_col = 'Film')\n",
    "bond.head(10)"
   ]
  },
  {
   "cell_type": "code",
   "execution_count": null,
   "id": "111c45e0",
   "metadata": {},
   "outputs": [],
   "source": [
    "bond.loc['Dr. No', 'Actor']"
   ]
  },
  {
   "cell_type": "code",
   "execution_count": null,
   "id": "5d4f397c",
   "metadata": {},
   "outputs": [],
   "source": [
    "bond.loc['Dr. No', ['Actor', 'Bond Actor Salary']]"
   ]
  },
  {
   "cell_type": "code",
   "execution_count": null,
   "id": "780be56a",
   "metadata": {},
   "outputs": [],
   "source": [
    "bond.loc[['Dr. No', 'Thunderball'], ['Actor', 'Box Office']]"
   ]
  },
  {
   "cell_type": "code",
   "execution_count": null,
   "id": "cd106911",
   "metadata": {},
   "outputs": [],
   "source": [
    "bond.head(10)"
   ]
  },
  {
   "cell_type": "code",
   "execution_count": null,
   "id": "02bec04b",
   "metadata": {},
   "outputs": [],
   "source": [
    "bond.loc['Dr. No' : 'Thunderball', 'Budget': :-2]"
   ]
  },
  {
   "cell_type": "code",
   "execution_count": null,
   "id": "00a3c414",
   "metadata": {},
   "outputs": [],
   "source": [
    "bond.head(10)"
   ]
  },
  {
   "cell_type": "code",
   "execution_count": null,
   "id": "2693a6a0",
   "metadata": {},
   "outputs": [],
   "source": [
    "bond.loc['Dr. No' : 'Thunderball', ['Actor', 'Director', 'Year']]"
   ]
  },
  {
   "cell_type": "markdown",
   "id": "8021dab6",
   "metadata": {},
   "source": [
    "### We can also pass second parameter in iloc accessor."
   ]
  },
  {
   "cell_type": "code",
   "execution_count": null,
   "id": "744984d6",
   "metadata": {},
   "outputs": [],
   "source": [
    "bond.head(10)"
   ]
  },
  {
   "cell_type": "code",
   "execution_count": null,
   "id": "992b4255",
   "metadata": {},
   "outputs": [],
   "source": [
    "bond.iloc[0, 1]"
   ]
  },
  {
   "cell_type": "code",
   "execution_count": null,
   "id": "c4cf9fd7",
   "metadata": {},
   "outputs": [],
   "source": [
    "bond.iloc[0, [1,3]]"
   ]
  },
  {
   "cell_type": "code",
   "execution_count": null,
   "id": "a1009f1d",
   "metadata": {},
   "outputs": [],
   "source": [
    "bond.head(10)"
   ]
  },
  {
   "cell_type": "code",
   "execution_count": null,
   "id": "bb402077",
   "metadata": {},
   "outputs": [],
   "source": [
    "bond.iloc[0:4, 1]"
   ]
  },
  {
   "cell_type": "code",
   "execution_count": null,
   "id": "a13a1bab",
   "metadata": {},
   "outputs": [],
   "source": [
    "bond.head(10)"
   ]
  },
  {
   "cell_type": "code",
   "execution_count": null,
   "id": "11f063c2",
   "metadata": {},
   "outputs": [],
   "source": [
    "bond.iloc[0:4, [1, 4]]"
   ]
  },
  {
   "cell_type": "code",
   "execution_count": null,
   "id": "8d9d9619",
   "metadata": {},
   "outputs": [],
   "source": [
    "bond.iloc[0:4, 1:4]"
   ]
  },
  {
   "cell_type": "code",
   "execution_count": null,
   "id": "31395eb6",
   "metadata": {},
   "outputs": [],
   "source": [
    "bond.head(10)"
   ]
  },
  {
   "cell_type": "code",
   "execution_count": null,
   "id": "d83805d4",
   "metadata": {},
   "outputs": [],
   "source": [
    "bond.iloc[1, [0,3,2]]"
   ]
  },
  {
   "cell_type": "markdown",
   "id": "36d5b4fa",
   "metadata": {},
   "source": [
    "# Boolean masking using iloc and loc"
   ]
  },
  {
   "cell_type": "code",
   "execution_count": null,
   "id": "6d277f45",
   "metadata": {},
   "outputs": [],
   "source": [
    "import numpy as np\n",
    "import pandas as pd"
   ]
  },
  {
   "cell_type": "code",
   "execution_count": null,
   "id": "27a27be2",
   "metadata": {},
   "outputs": [],
   "source": [
    "bond = pd.read_csv('datasets/jamesbond.csv', index_col = 'Film')\n",
    "bond.head()"
   ]
  },
  {
   "cell_type": "code",
   "execution_count": null,
   "id": "ecd59e9b",
   "metadata": {},
   "outputs": [],
   "source": [
    "mask = (bond['Actor'] == 'Sean Connery')\n",
    "\n",
    "# bond[mask]['Actor'] = 'Sir Sean Connery'\n",
    "# bond[mask].iloc[::, 1] = 'Sir Sean Connery'\n",
    "bond[mask].loc[::, 'Actor'] = 'Sir Sean Connery'"
   ]
  },
  {
   "cell_type": "code",
   "execution_count": null,
   "id": "0ae6c8fd",
   "metadata": {},
   "outputs": [],
   "source": [
    "bond.loc[mask, 'Actor'] = 'Sir Sean Connery'"
   ]
  },
  {
   "cell_type": "code",
   "execution_count": null,
   "id": "bdfad99f",
   "metadata": {},
   "outputs": [],
   "source": [
    "bond"
   ]
  },
  {
   "cell_type": "markdown",
   "id": "609978be",
   "metadata": {},
   "source": [
    "# Rename columns in dataframe"
   ]
  },
  {
   "cell_type": "markdown",
   "id": "d50cd19b",
   "metadata": {},
   "source": [
    "    We can change the names of columns or row labels using the rename function. This function expects us to pass in\n",
    "    a dictionary in the columns or index parameter with keys as the current name of columns and values as the names \n",
    "    that we want."
   ]
  },
  {
   "cell_type": "code",
   "execution_count": null,
   "id": "660c8dff",
   "metadata": {},
   "outputs": [],
   "source": [
    "import numpy as np\n",
    "import pandas as pd\n",
    "\n",
    "bond = pd.read_csv('datasets/jamesbond.csv', index_col = 'Film')\n",
    "bond.head()"
   ]
  },
  {
   "cell_type": "code",
   "execution_count": null,
   "id": "adc1eebc",
   "metadata": {},
   "outputs": [],
   "source": [
    "bond = bond.rename(columns = {'Box Office' : 'box_office', 'Budget' : 'cost'})\n",
    "bond.head()"
   ]
  },
  {
   "cell_type": "markdown",
   "id": "ea40bf0e",
   "metadata": {},
   "source": [
    "    We can also use the axis paramter to rename columns or index. We need to pass in a mapper dictionary\n",
    "    and then need to specify the axis along which we want the renaming to be done.\n",
    "    \n",
    "    It can take 2 values. The value 0 means index and the value 1 means columns. we may also pass a string like 'index'\n",
    "    or 'columns'."
   ]
  },
  {
   "cell_type": "code",
   "execution_count": null,
   "id": "d56864de",
   "metadata": {},
   "outputs": [],
   "source": [
    "mapper = {\n",
    "    'Bond Actor Salary' : 'salary',\n",
    "    'Actor' : 'actor',\n",
    "    'Year' : 'year',\n",
    "    'Director' : 'director'\n",
    "}\n",
    "\n",
    "# bond = bond.rename(mapper = mapper, axis = 1) # axis = 0 means rows and axis = 1 means columns.\n",
    "bond = bond.rename(mapper = mapper, axis = 'columns')\n",
    "bond.head()"
   ]
  },
  {
   "cell_type": "code",
   "execution_count": null,
   "id": "93ec4685",
   "metadata": {},
   "outputs": [],
   "source": [
    "mapper = {\n",
    "    'Dr. No': 'dr_no',\n",
    "    'Goldfinger' : 'gold_finger',\n",
    "    'Thunderball' : 'thunder_ball'\n",
    "}\n",
    "\n",
    "bond = bond.rename(mapper = mapper, axis = 0)\n",
    "# bond = bond.rename(mapper = mapper, axis = 'index')\n",
    "bond.head()"
   ]
  },
  {
   "cell_type": "markdown",
   "id": "31a87d74",
   "metadata": {},
   "source": [
    "# Deleting rows and columns from a dataframe\n",
    "\n",
    "    1. The drop() method is used to drop a column or a row. For dropping a column, specify the labels and then mention\n",
    "       axis as 1 (or 'columns') and for dropping a row mention the axis as 0 (or 'index').\n",
    "       \n",
    "    2. We also have the pop() method wherein we can pass the name of the column to be removed. One special thing about \n",
    "       this method is that it gives us the column that we deleted and it mutates the original dataframe. This is one of\n",
    "       the very few mutating operations in the pandas library."
   ]
  },
  {
   "cell_type": "code",
   "execution_count": null,
   "id": "f7c3d0c6",
   "metadata": {},
   "outputs": [],
   "source": [
    "import numpy as np\n",
    "import pandas as pd"
   ]
  },
  {
   "cell_type": "code",
   "execution_count": null,
   "id": "b57948b6",
   "metadata": {},
   "outputs": [],
   "source": [
    "bond = pd.read_csv('datasets/jamesbond.csv', index_col = 'Film')\n",
    "bond.head()"
   ]
  },
  {
   "cell_type": "code",
   "execution_count": null,
   "id": "0fec1c4c",
   "metadata": {},
   "outputs": [],
   "source": [
    "bond = bond.drop('Actor', axis = 1)\n",
    "bond.head()"
   ]
  },
  {
   "cell_type": "code",
   "execution_count": null,
   "id": "2e51eb49",
   "metadata": {},
   "outputs": [],
   "source": [
    "bond = bond.drop(['Bond Actor Salary', 'Director'], axis = 'columns')\n",
    "bond.head()"
   ]
  },
  {
   "cell_type": "code",
   "execution_count": null,
   "id": "b1915982",
   "metadata": {},
   "outputs": [],
   "source": [
    "bond = bond.drop(['Dr. No', 'From Russia with Love'], axis = 0) # axis = 'index'\n",
    "bond.head()"
   ]
  },
  {
   "cell_type": "code",
   "execution_count": null,
   "id": "5b9f5043",
   "metadata": {},
   "outputs": [],
   "source": [
    "bond = bond.drop(index = [\"You Only Live Twice\", \"On Her Majesty's Secret Service\"])\n",
    "bond.head()"
   ]
  },
  {
   "cell_type": "code",
   "execution_count": null,
   "id": "e54f5ada",
   "metadata": {},
   "outputs": [],
   "source": [
    "bond.drop(columns = ['Budget', 'Box Office'], inplace = True)\n",
    "bond.head()"
   ]
  },
  {
   "cell_type": "markdown",
   "id": "c009a2d0",
   "metadata": {},
   "source": [
    "## pop() method\n",
    "\n",
    "    1. pop() is one of the very few methods in the pandas library which mutates the original dataframe.\n",
    "    2. It returns us the deleted column in the form of a series."
   ]
  },
  {
   "cell_type": "code",
   "execution_count": null,
   "id": "49451bb4",
   "metadata": {},
   "outputs": [],
   "source": [
    "import numpy as np\n",
    "import pandas as pd"
   ]
  },
  {
   "cell_type": "code",
   "execution_count": null,
   "id": "5f77524e",
   "metadata": {},
   "outputs": [],
   "source": [
    "bond = pd.read_csv('datasets/jamesbond.csv', index_col = 'Film')\n",
    "bond.head()"
   ]
  },
  {
   "cell_type": "code",
   "execution_count": null,
   "id": "1e233958",
   "metadata": {},
   "outputs": [],
   "source": [
    "bond.pop('Director')\n",
    "bond.head()"
   ]
  },
  {
   "cell_type": "code",
   "execution_count": null,
   "id": "4a9629ae",
   "metadata": {},
   "outputs": [],
   "source": [
    "salary = bond.pop('Bond Actor Salary')\n",
    "salary.head()"
   ]
  },
  {
   "cell_type": "code",
   "execution_count": null,
   "id": "d1c25ec1",
   "metadata": {},
   "outputs": [],
   "source": [
    "bond.head()"
   ]
  },
  {
   "cell_type": "markdown",
   "id": "a3065336",
   "metadata": {},
   "source": [
    "## del keyword to delete the columns from dataframe"
   ]
  },
  {
   "cell_type": "code",
   "execution_count": null,
   "id": "cfa43731",
   "metadata": {},
   "outputs": [],
   "source": [
    "import numpy as np\n",
    "import pandas as pd\n",
    "\n",
    "bond = pd.read_csv('datasets/jamesbond.csv', index_col = 'Film')\n",
    "bond.head()"
   ]
  },
  {
   "cell_type": "code",
   "execution_count": null,
   "id": "9a1bca73",
   "metadata": {},
   "outputs": [],
   "source": [
    "del bond['Actor'] # This will delete the Actor column from the bond dataframe.\n",
    "bond.head()"
   ]
  },
  {
   "cell_type": "markdown",
   "id": "b9b04f22",
   "metadata": {},
   "source": [
    "# sample() method\n",
    "    \n",
    "    1. The sample() method is used to select a random sample from the dataframe."
   ]
  },
  {
   "cell_type": "code",
   "execution_count": null,
   "id": "4464311f",
   "metadata": {},
   "outputs": [],
   "source": [
    "import numpy as np\n",
    "import pandas as pd"
   ]
  },
  {
   "cell_type": "code",
   "execution_count": null,
   "id": "a42c6f21",
   "metadata": {},
   "outputs": [],
   "source": [
    "bond = pd.read_csv('datasets/jamesbond.csv', index_col = 'Film')\n",
    "bond.head()"
   ]
  },
  {
   "cell_type": "code",
   "execution_count": null,
   "id": "26c4fbff",
   "metadata": {},
   "outputs": [],
   "source": [
    "bond.sample(n = 6) # will select 6 random rows from the dataframe."
   ]
  },
  {
   "cell_type": "code",
   "execution_count": null,
   "id": "6e9d9a51",
   "metadata": {},
   "outputs": [],
   "source": [
    "bond.sample() # will select a single row randomly from the dataframe. "
   ]
  },
  {
   "cell_type": "markdown",
   "id": "799b1e0b",
   "metadata": {},
   "source": [
    "# nlargest() and nsmallest() method"
   ]
  },
  {
   "cell_type": "code",
   "execution_count": null,
   "id": "df36f4bd",
   "metadata": {},
   "outputs": [],
   "source": [
    "import numpy as np\n",
    "import pandas as pd\n",
    "\n",
    "bond = pd.read_csv('datasets/jamesbond.csv', index_col = 'Film')\n",
    "bond.head()"
   ]
  },
  {
   "cell_type": "code",
   "execution_count": null,
   "id": "1d655a89",
   "metadata": {},
   "outputs": [],
   "source": [
    "bond.sort_values(by = 'Budget', ascending = False).head(5)"
   ]
  },
  {
   "cell_type": "markdown",
   "id": "e36353ae",
   "metadata": {},
   "source": [
    "    The above code the top 5 movies which have the highest budget. But we can also do this using nlargest() method."
   ]
  },
  {
   "cell_type": "code",
   "execution_count": null,
   "id": "7255b195",
   "metadata": {},
   "outputs": [],
   "source": [
    "bond.nlargest(n = 5, columns = 'Budget')"
   ]
  },
  {
   "cell_type": "markdown",
   "id": "475d5a3a",
   "metadata": {},
   "source": [
    "# apply() method\n",
    "\n",
    "    1. The apply() method is applied on a dataframe and then returns us a series.\n",
    "    \n",
    "    2. The series returned has the same index as the original dataframe.\n",
    "    \n",
    "    3. We can then append the series which we got into the dataframe."
   ]
  },
  {
   "cell_type": "code",
   "execution_count": null,
   "id": "a94bdda2",
   "metadata": {},
   "outputs": [],
   "source": [
    "import numpy as np\n",
    "import pandas as pd"
   ]
  },
  {
   "cell_type": "code",
   "execution_count": null,
   "id": "2515cbcf",
   "metadata": {},
   "outputs": [],
   "source": [
    "bond = pd.read_csv('datasets/jamesbond.csv', index_col = 'Film').head(5)\n",
    "bond"
   ]
  },
  {
   "cell_type": "code",
   "execution_count": null,
   "id": "ad382d0e",
   "metadata": {},
   "outputs": [],
   "source": [
    "def print_series(series):\n",
    "#     print(series)\n",
    "#     print('*' * 50)\n",
    "    pass"
   ]
  },
  {
   "cell_type": "code",
   "execution_count": null,
   "id": "e90fb298",
   "metadata": {},
   "outputs": [],
   "source": [
    "bond.apply(print_series, axis = 'columns')"
   ]
  },
  {
   "cell_type": "markdown",
   "id": "ed22977e",
   "metadata": {},
   "source": [
    "    suppose we want to create a new column in bond called as summary which gives us the summary of the current row."
   ]
  },
  {
   "cell_type": "code",
   "execution_count": null,
   "id": "b5512475",
   "metadata": {},
   "outputs": [],
   "source": [
    "def summary(film):\n",
    "    year = film['Year']\n",
    "    actor = film['Actor']\n",
    "    director = film['Director']\n",
    "    money_made = film['Box Office']\n",
    "    budget = film['Budget']\n",
    "    return f''' The movie was made in the year {year} under the direction of {director}. \n",
    "                It had an overall budget of {budget} crore\n",
    "                and the movie made around {money_made} crore on the box office.\n",
    "                '''\n",
    "\n",
    "\n",
    "bond['summary'] = bond.apply(summary, axis = 'columns')\n",
    "bond.head(1)"
   ]
  },
  {
   "cell_type": "code",
   "execution_count": null,
   "id": "c55b8b09",
   "metadata": {},
   "outputs": [],
   "source": []
  }
 ],
 "metadata": {
  "kernelspec": {
   "display_name": "Python 3 (ipykernel)",
   "language": "python",
   "name": "python3"
  },
  "language_info": {
   "codemirror_mode": {
    "name": "ipython",
    "version": 3
   },
   "file_extension": ".py",
   "mimetype": "text/x-python",
   "name": "python",
   "nbconvert_exporter": "python",
   "pygments_lexer": "ipython3",
   "version": "3.11.5"
  }
 },
 "nbformat": 4,
 "nbformat_minor": 5
}
