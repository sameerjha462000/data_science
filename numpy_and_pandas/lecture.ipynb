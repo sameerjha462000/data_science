{
 "cells": [
  {
   "cell_type": "markdown",
   "id": "89381b23",
   "metadata": {},
   "source": [
    "# Series"
   ]
  },
  {
   "cell_type": "markdown",
   "id": "b5b50a5e",
   "metadata": {},
   "source": [
    "    Series is a 1 DS in pandas."
   ]
  },
  {
   "cell_type": "markdown",
   "id": "05b3c294",
   "metadata": {},
   "source": [
    "    Associative containers -- key, value\n",
    "    [10, 20, 30, 40, 50]\n",
    "      0,   1, 2,  3,  4\n",
    "\n",
    "    {'name':'Abhishek', 'age' :23, 'city' :'New Delhi'}\n",
    "\n",
    "    pandas asscoiative container -- series(keys comes from index and values are provided in a list)"
   ]
  },
  {
   "cell_type": "code",
   "execution_count": 3,
   "id": "0eee7729",
   "metadata": {},
   "outputs": [
    {
     "data": {
      "text/plain": [
       "0    10\n",
       "1    20\n",
       "2    30\n",
       "3    40\n",
       "dtype: int64"
      ]
     },
     "execution_count": 3,
     "metadata": {},
     "output_type": "execute_result"
    }
   ],
   "source": [
    "import numpy as np\n",
    "import pandas as pd"
   ]
  },
  {
   "cell_type": "code",
   "execution_count": 4,
   "id": "45b674a5",
   "metadata": {},
   "outputs": [
    {
     "data": {
      "text/plain": [
       "0    10\n",
       "1    20\n",
       "2    30\n",
       "3    40\n",
       "dtype: int64"
      ]
     },
     "execution_count": 4,
     "metadata": {},
     "output_type": "execute_result"
    }
   ],
   "source": [
    "s = pd.Series([10,20,30,40])\n",
    "s"
   ]
  },
  {
   "cell_type": "code",
   "execution_count": 6,
   "id": "e6d2c0b5",
   "metadata": {},
   "outputs": [
    {
     "data": {
      "text/plain": [
       "[0, 1, 2, 3]"
      ]
     },
     "execution_count": 6,
     "metadata": {},
     "output_type": "execute_result"
    }
   ],
   "source": [
    "list(s.index)"
   ]
  },
  {
   "cell_type": "code",
   "execution_count": 8,
   "id": "c7ec2034",
   "metadata": {},
   "outputs": [
    {
     "data": {
      "text/plain": [
       "(array([10, 20, 30, 40], dtype=int64), numpy.ndarray)"
      ]
     },
     "execution_count": 8,
     "metadata": {},
     "output_type": "execute_result"
    }
   ],
   "source": [
    "s.values, type(s.values)"
   ]
  },
  {
   "cell_type": "code",
   "execution_count": 10,
   "id": "534072fb",
   "metadata": {},
   "outputs": [],
   "source": [
    "z = s.items() # It returns us the key value pairs\n",
    "# iterator"
   ]
  },
  {
   "cell_type": "code",
   "execution_count": 11,
   "id": "82d14a46",
   "metadata": {},
   "outputs": [
    {
     "data": {
      "text/plain": [
       "[(0, 10), (1, 20), (2, 30), (3, 40)]"
      ]
     },
     "execution_count": 11,
     "metadata": {},
     "output_type": "execute_result"
    }
   ],
   "source": [
    "list(z)"
   ]
  },
  {
   "cell_type": "code",
   "execution_count": 12,
   "id": "120b0ea0",
   "metadata": {},
   "outputs": [
    {
     "data": {
      "text/plain": [
       "[]"
      ]
     },
     "execution_count": 12,
     "metadata": {},
     "output_type": "execute_result"
    }
   ],
   "source": [
    "list(z)"
   ]
  },
  {
   "cell_type": "markdown",
   "id": "f82ae96a",
   "metadata": {},
   "source": [
    "# Explicit index"
   ]
  },
  {
   "cell_type": "code",
   "execution_count": 13,
   "id": "1ef46e11",
   "metadata": {},
   "outputs": [
    {
     "data": {
      "text/plain": [
       "a    10\n",
       "b    20\n",
       "c    30\n",
       "d    40\n",
       "dtype: int64"
      ]
     },
     "execution_count": 13,
     "metadata": {},
     "output_type": "execute_result"
    }
   ],
   "source": [
    "s = pd.Series([10, 20, 30, 40], index = list('abcd'))\n",
    "s"
   ]
  },
  {
   "cell_type": "code",
   "execution_count": 14,
   "id": "d4768ace",
   "metadata": {},
   "outputs": [
    {
     "data": {
      "text/plain": [
       "Index(['a', 'b', 'c', 'd'], dtype='object')"
      ]
     },
     "execution_count": 14,
     "metadata": {},
     "output_type": "execute_result"
    }
   ],
   "source": [
    "s.index"
   ]
  },
  {
   "cell_type": "code",
   "execution_count": 15,
   "id": "49c803b9",
   "metadata": {},
   "outputs": [
    {
     "data": {
      "text/plain": [
       "pandas.core.indexes.base.Index"
      ]
     },
     "execution_count": 15,
     "metadata": {},
     "output_type": "execute_result"
    }
   ],
   "source": [
    "type(s.index)"
   ]
  },
  {
   "cell_type": "code",
   "execution_count": 16,
   "id": "f2acaac9",
   "metadata": {},
   "outputs": [
    {
     "data": {
      "text/plain": [
       "array([10, 20, 30, 40], dtype=int64)"
      ]
     },
     "execution_count": 16,
     "metadata": {},
     "output_type": "execute_result"
    }
   ],
   "source": [
    "s.values"
   ]
  },
  {
   "cell_type": "code",
   "execution_count": 17,
   "id": "e241cadf",
   "metadata": {},
   "outputs": [
    {
     "data": {
      "text/plain": [
       "10"
      ]
     },
     "execution_count": 17,
     "metadata": {},
     "output_type": "execute_result"
    }
   ],
   "source": [
    "s['a']"
   ]
  },
  {
   "cell_type": "code",
   "execution_count": 18,
   "id": "a505ef05",
   "metadata": {},
   "outputs": [
    {
     "name": "stderr",
     "output_type": "stream",
     "text": [
      "C:\\Users\\HU496FA\\AppData\\Local\\Temp\\ipykernel_13372\\243613605.py:1: FutureWarning: Series.__getitem__ treating keys as positions is deprecated. In a future version, integer keys will always be treated as labels (consistent with DataFrame behavior). To access a value by position, use `ser.iloc[pos]`\n",
      "  s[0]\n"
     ]
    },
    {
     "data": {
      "text/plain": [
       "10"
      ]
     },
     "execution_count": 18,
     "metadata": {},
     "output_type": "execute_result"
    }
   ],
   "source": [
    "s[0]"
   ]
  },
  {
   "cell_type": "code",
   "execution_count": 19,
   "id": "1e903efd",
   "metadata": {},
   "outputs": [],
   "source": [
    "capitals = {\n",
    "    'USA' : 'Washington D.C.',\n",
    "    'Canada' : 'Ottawa',\n",
    "    'UK' : 'London',\n",
    "    \"France\":'Paris'\n",
    "}"
   ]
  },
  {
   "cell_type": "code",
   "execution_count": 20,
   "id": "9ed8c7f8",
   "metadata": {},
   "outputs": [],
   "source": [
    "s = pd.Series(capitals)"
   ]
  },
  {
   "cell_type": "code",
   "execution_count": 21,
   "id": "4d2812d1",
   "metadata": {},
   "outputs": [
    {
     "data": {
      "text/plain": [
       "USA       Washington D.C.\n",
       "Canada             Ottawa\n",
       "UK                 London\n",
       "France              Paris\n",
       "dtype: object"
      ]
     },
     "execution_count": 21,
     "metadata": {},
     "output_type": "execute_result"
    }
   ],
   "source": [
    "s"
   ]
  },
  {
   "cell_type": "code",
   "execution_count": 22,
   "id": "3a61dc31",
   "metadata": {},
   "outputs": [
    {
     "data": {
      "text/plain": [
       "Index(['USA', 'Canada', 'UK', 'France'], dtype='object')"
      ]
     },
     "execution_count": 22,
     "metadata": {},
     "output_type": "execute_result"
    }
   ],
   "source": [
    "s.index"
   ]
  },
  {
   "cell_type": "code",
   "execution_count": 23,
   "id": "93d86a47",
   "metadata": {},
   "outputs": [
    {
     "data": {
      "text/plain": [
       "array(['Washington D.C.', 'Ottawa', 'London', 'Paris'], dtype=object)"
      ]
     },
     "execution_count": 23,
     "metadata": {},
     "output_type": "execute_result"
    }
   ],
   "source": [
    "s.values"
   ]
  },
  {
   "cell_type": "code",
   "execution_count": 24,
   "id": "189759a4",
   "metadata": {},
   "outputs": [
    {
     "name": "stdout",
     "output_type": "stream",
     "text": [
      "Capital(USA) = Washington D.C.\n",
      "Capital(Canada) = Ottawa\n",
      "Capital(UK) = London\n",
      "Capital(France) = Paris\n"
     ]
    }
   ],
   "source": [
    "for country, capital in s.items():\n",
    "    print(f\"Capital({country}) = {capital}\")"
   ]
  },
  {
   "cell_type": "markdown",
   "id": "8b249345",
   "metadata": {},
   "source": [
    "# Fancy Indexing"
   ]
  },
  {
   "cell_type": "code",
   "execution_count": 25,
   "id": "b5f9d68c",
   "metadata": {},
   "outputs": [
    {
     "data": {
      "text/plain": [
       "USA       Washington D.C.\n",
       "Canada             Ottawa\n",
       "UK                 London\n",
       "France              Paris\n",
       "dtype: object"
      ]
     },
     "execution_count": 25,
     "metadata": {},
     "output_type": "execute_result"
    }
   ],
   "source": [
    "s"
   ]
  },
  {
   "cell_type": "code",
   "execution_count": 28,
   "id": "60a1606e",
   "metadata": {},
   "outputs": [
    {
     "data": {
      "text/plain": [
       "USA    Washington D.C.\n",
       "UK              London\n",
       "dtype: object"
      ]
     },
     "execution_count": 28,
     "metadata": {},
     "output_type": "execute_result"
    }
   ],
   "source": [
    "s[['USA', 'UK']] # series"
   ]
  },
  {
   "cell_type": "code",
   "execution_count": 29,
   "id": "9388738d",
   "metadata": {},
   "outputs": [
    {
     "data": {
      "text/plain": [
       "pandas.core.series.Series"
      ]
     },
     "execution_count": 29,
     "metadata": {},
     "output_type": "execute_result"
    }
   ],
   "source": [
    "type(s[['USA', 'UK']] )"
   ]
  },
  {
   "cell_type": "markdown",
   "id": "04b7cdda",
   "metadata": {},
   "source": [
    "# Boolean masking"
   ]
  },
  {
   "cell_type": "code",
   "execution_count": 30,
   "id": "a478ac73",
   "metadata": {},
   "outputs": [
    {
     "data": {
      "text/plain": [
       "a      1\n",
       "b      4\n",
       "c      9\n",
       "d     16\n",
       "e     25\n",
       "f     36\n",
       "g     49\n",
       "h     64\n",
       "i     81\n",
       "j    100\n",
       "dtype: int64"
      ]
     },
     "execution_count": 30,
     "metadata": {},
     "output_type": "execute_result"
    }
   ],
   "source": [
    "s = pd.Series([i ** 2 for i in range(1, 11)], index = list('abcdefghij'))\n",
    "s"
   ]
  },
  {
   "cell_type": "code",
   "execution_count": 32,
   "id": "fdd26ca3",
   "metadata": {},
   "outputs": [
    {
     "data": {
      "text/plain": [
       "a    False\n",
       "b    False\n",
       "c    False\n",
       "d    False\n",
       "e    False\n",
       "f     True\n",
       "g     True\n",
       "h     True\n",
       "i     True\n",
       "j     True\n",
       "dtype: bool"
      ]
     },
     "execution_count": 32,
     "metadata": {},
     "output_type": "execute_result"
    }
   ],
   "source": [
    "mask = s > 30\n",
    "mask # boolean series"
   ]
  },
  {
   "cell_type": "code",
   "execution_count": 33,
   "id": "98a96338",
   "metadata": {},
   "outputs": [
    {
     "data": {
      "text/plain": [
       "f     36\n",
       "g     49\n",
       "h     64\n",
       "i     81\n",
       "j    100\n",
       "dtype: int64"
      ]
     },
     "execution_count": 33,
     "metadata": {},
     "output_type": "execute_result"
    }
   ],
   "source": [
    "s[mask]"
   ]
  },
  {
   "cell_type": "markdown",
   "id": "041dfb69",
   "metadata": {},
   "source": [
    "# Slicing"
   ]
  },
  {
   "cell_type": "code",
   "execution_count": 34,
   "id": "0cb7092e",
   "metadata": {},
   "outputs": [
    {
     "data": {
      "text/plain": [
       "a      1\n",
       "b      4\n",
       "c      9\n",
       "d     16\n",
       "e     25\n",
       "f     36\n",
       "g     49\n",
       "h     64\n",
       "i     81\n",
       "j    100\n",
       "dtype: int64"
      ]
     },
     "execution_count": 34,
     "metadata": {},
     "output_type": "execute_result"
    }
   ],
   "source": [
    "s"
   ]
  },
  {
   "cell_type": "code",
   "execution_count": 35,
   "id": "04c04c1b",
   "metadata": {},
   "outputs": [
    {
     "data": {
      "text/plain": [
       "a     1\n",
       "b     4\n",
       "c     9\n",
       "d    16\n",
       "e    25\n",
       "dtype: int64"
      ]
     },
     "execution_count": 35,
     "metadata": {},
     "output_type": "execute_result"
    }
   ],
   "source": [
    "s[0:5] # last point is not included"
   ]
  },
  {
   "cell_type": "code",
   "execution_count": 37,
   "id": "bae5a98b",
   "metadata": {},
   "outputs": [
    {
     "data": {
      "text/plain": [
       "a     1\n",
       "c     9\n",
       "e    25\n",
       "dtype: int64"
      ]
     },
     "execution_count": 37,
     "metadata": {},
     "output_type": "execute_result"
    }
   ],
   "source": [
    "s['a':'f': 2] # last point is included"
   ]
  },
  {
   "cell_type": "markdown",
   "id": "e9eb76ee",
   "metadata": {},
   "source": [
    "# Point of confusion"
   ]
  },
  {
   "cell_type": "code",
   "execution_count": 41,
   "id": "e159fc12",
   "metadata": {},
   "outputs": [
    {
     "data": {
      "text/plain": [
       "1      34\n",
       "2      68\n",
       "3     102\n",
       "4     136\n",
       "5     170\n",
       "6     204\n",
       "7     238\n",
       "8     272\n",
       "9     306\n",
       "10    340\n",
       "dtype: int64"
      ]
     },
     "execution_count": 41,
     "metadata": {},
     "output_type": "execute_result"
    }
   ],
   "source": [
    "s = pd.Series([i * 34 for i in range(1, 11)], index = range(1,11))\n",
    "s"
   ]
  },
  {
   "cell_type": "code",
   "execution_count": 42,
   "id": "5136a2b0",
   "metadata": {},
   "outputs": [
    {
     "data": {
      "text/plain": [
       "102"
      ]
     },
     "execution_count": 42,
     "metadata": {},
     "output_type": "execute_result"
    }
   ],
   "source": [
    "s.iloc[2]\n",
    "# accesor --> .iloc[] .loc[]"
   ]
  },
  {
   "cell_type": "code",
   "execution_count": 43,
   "id": "0ec5ed38",
   "metadata": {},
   "outputs": [
    {
     "data": {
      "text/plain": [
       "68"
      ]
     },
     "execution_count": 43,
     "metadata": {},
     "output_type": "execute_result"
    }
   ],
   "source": [
    "s.loc[2]"
   ]
  },
  {
   "cell_type": "code",
   "execution_count": 44,
   "id": "d03142a8",
   "metadata": {},
   "outputs": [
    {
     "data": {
      "text/plain": [
       "2      68\n",
       "10    340\n",
       "1      34\n",
       "dtype: int64"
      ]
     },
     "execution_count": 44,
     "metadata": {},
     "output_type": "execute_result"
    }
   ],
   "source": [
    "s.loc[[2, 10, 2+7-8]]"
   ]
  },
  {
   "cell_type": "code",
   "execution_count": 45,
   "id": "ac1d4869",
   "metadata": {},
   "outputs": [
    {
     "data": {
      "text/plain": [
       "2     68\n",
       "1     34\n",
       "6    204\n",
       "dtype: int64"
      ]
     },
     "execution_count": 45,
     "metadata": {},
     "output_type": "execute_result"
    }
   ],
   "source": [
    "s.iloc[[1, 0, -5+10]]"
   ]
  },
  {
   "cell_type": "code",
   "execution_count": 46,
   "id": "6102201d",
   "metadata": {},
   "outputs": [
    {
     "data": {
      "text/plain": [
       "1      34\n",
       "2      68\n",
       "3     102\n",
       "4     136\n",
       "5     170\n",
       "6     204\n",
       "7     238\n",
       "8     272\n",
       "9     306\n",
       "10    340\n",
       "dtype: int64"
      ]
     },
     "execution_count": 46,
     "metadata": {},
     "output_type": "execute_result"
    }
   ],
   "source": [
    "s"
   ]
  },
  {
   "cell_type": "code",
   "execution_count": 47,
   "id": "5c7857e2",
   "metadata": {},
   "outputs": [
    {
     "data": {
      "text/plain": [
       "1     34\n",
       "2     68\n",
       "3    102\n",
       "4    136\n",
       "dtype: int64"
      ]
     },
     "execution_count": 47,
     "metadata": {},
     "output_type": "execute_result"
    }
   ],
   "source": [
    "s.iloc[0: 4] # end point is not included"
   ]
  },
  {
   "cell_type": "code",
   "execution_count": 48,
   "id": "8d89ee0b",
   "metadata": {},
   "outputs": [
    {
     "data": {
      "text/plain": [
       "1     34\n",
       "2     68\n",
       "3    102\n",
       "4    136\n",
       "5    170\n",
       "6    204\n",
       "dtype: int64"
      ]
     },
     "execution_count": 48,
     "metadata": {},
     "output_type": "execute_result"
    }
   ],
   "source": [
    "s.loc[1:6]"
   ]
  },
  {
   "cell_type": "markdown",
   "id": "ccb688fa",
   "metadata": {},
   "source": [
    "# Series Methods"
   ]
  },
  {
   "cell_type": "code",
   "execution_count": 59,
   "id": "4cee2526",
   "metadata": {},
   "outputs": [
    {
     "data": {
      "text/plain": [
       "0         2.490664\n",
       "1         2.515820\n",
       "2         2.758411\n",
       "3         2.770615\n",
       "4         2.614201\n",
       "           ...    \n",
       "4788    132.080002\n",
       "4789    132.998001\n",
       "4790    135.570007\n",
       "4791    137.050003\n",
       "4792    138.429993\n",
       "Name: Price, Length: 4793, dtype: float64"
      ]
     },
     "execution_count": 59,
     "metadata": {},
     "output_type": "execute_result"
    }
   ],
   "source": [
    "#pd.read_csv('datasets/google_stock_price.csv', usecols = ['Price', 'Date'])\n",
    "pd.read_csv('datasets/google_stock_price.csv', usecols = ['Price']).squeeze()\n",
    "pd.read_csv('datasets/google_stock_price.csv', usecols = ['Price']).squeeze('columns')\n",
    "google = pd.read_csv('datasets/google_stock_price.csv', usecols = ['Price']).squeeze(True)\n",
    "google"
   ]
  },
  {
   "cell_type": "code",
   "execution_count": 60,
   "id": "536bc06a",
   "metadata": {},
   "outputs": [
    {
     "data": {
      "text/plain": [
       "4793"
      ]
     },
     "execution_count": 60,
     "metadata": {},
     "output_type": "execute_result"
    }
   ],
   "source": [
    "len(google)"
   ]
  },
  {
   "cell_type": "code",
   "execution_count": 61,
   "id": "c8133ee1",
   "metadata": {},
   "outputs": [
    {
     "data": {
      "text/plain": [
       "151.863495"
      ]
     },
     "execution_count": 61,
     "metadata": {},
     "output_type": "execute_result"
    }
   ],
   "source": [
    "max(google)"
   ]
  },
  {
   "cell_type": "code",
   "execution_count": 62,
   "id": "b38bf60a",
   "metadata": {},
   "outputs": [
    {
     "data": {
      "text/plain": [
       "2.47049"
      ]
     },
     "execution_count": 62,
     "metadata": {},
     "output_type": "execute_result"
    }
   ],
   "source": [
    "min(google)"
   ]
  },
  {
   "cell_type": "code",
   "execution_count": 66,
   "id": "99529ec6",
   "metadata": {},
   "outputs": [
    {
     "data": {
      "text/plain": [
       "4793"
      ]
     },
     "execution_count": 66,
     "metadata": {},
     "output_type": "execute_result"
    }
   ],
   "source": [
    "google.size"
   ]
  },
  {
   "cell_type": "code",
   "execution_count": 67,
   "id": "b81754ad",
   "metadata": {},
   "outputs": [
    {
     "data": {
      "text/plain": [
       "151.863495"
      ]
     },
     "execution_count": 67,
     "metadata": {},
     "output_type": "execute_result"
    }
   ],
   "source": [
    "google.max()"
   ]
  },
  {
   "cell_type": "code",
   "execution_count": 68,
   "id": "35a959d2",
   "metadata": {},
   "outputs": [
    {
     "name": "stdout",
     "output_type": "stream",
     "text": [
      "17.3 µs ± 786 ns per loop (mean ± std. dev. of 7 runs, 10,000 loops each)\n"
     ]
    }
   ],
   "source": [
    "%timeit -n 10000 google.max()"
   ]
  },
  {
   "cell_type": "code",
   "execution_count": 69,
   "id": "b9bb5ddc",
   "metadata": {},
   "outputs": [
    {
     "name": "stdout",
     "output_type": "stream",
     "text": [
      "444 µs ± 95.4 µs per loop (mean ± std. dev. of 7 runs, 10,000 loops each)\n"
     ]
    }
   ],
   "source": [
    "%timeit -n 10000 max(google)"
   ]
  },
  {
   "cell_type": "code",
   "execution_count": 70,
   "id": "066411db",
   "metadata": {},
   "outputs": [
    {
     "data": {
      "text/plain": [
       "37.274752943868094"
      ]
     },
     "execution_count": 70,
     "metadata": {},
     "output_type": "execute_result"
    }
   ],
   "source": [
    "google.std()"
   ]
  },
  {
   "cell_type": "code",
   "execution_count": 71,
   "id": "a56860d4",
   "metadata": {},
   "outputs": [
    {
     "name": "stderr",
     "output_type": "stream",
     "text": [
      "C:\\Users\\HU496FA\\AppData\\Local\\Programs\\Python\\Python311\\Lib\\site-packages\\numpy\\core\\_methods.py:53: RuntimeWarning: overflow encountered in reduce\n",
      "  return umr_prod(a, axis, dtype, out, keepdims, initial, where)\n"
     ]
    },
    {
     "data": {
      "text/plain": [
       "inf"
      ]
     },
     "execution_count": 71,
     "metadata": {},
     "output_type": "execute_result"
    }
   ],
   "source": [
    "google.product()"
   ]
  },
  {
   "cell_type": "code",
   "execution_count": 72,
   "id": "8fa3d4e5",
   "metadata": {},
   "outputs": [],
   "source": [
    "google?"
   ]
  },
  {
   "cell_type": "code",
   "execution_count": 73,
   "id": "24127093",
   "metadata": {},
   "outputs": [
    {
     "data": {
      "text/plain": [
       "4793"
      ]
     },
     "execution_count": 73,
     "metadata": {},
     "output_type": "execute_result"
    }
   ],
   "source": [
    "google.count() # Missing values are not counted"
   ]
  },
  {
   "cell_type": "code",
   "execution_count": 74,
   "id": "e53a3376",
   "metadata": {},
   "outputs": [
    {
     "data": {
      "text/plain": [
       "4793"
      ]
     },
     "execution_count": 74,
     "metadata": {},
     "output_type": "execute_result"
    }
   ],
   "source": [
    "google.size # all values are counted"
   ]
  },
  {
   "cell_type": "code",
   "execution_count": 75,
   "id": "387be7b6",
   "metadata": {},
   "outputs": [
    {
     "data": {
      "text/plain": [
       "False"
      ]
     },
     "execution_count": 75,
     "metadata": {},
     "output_type": "execute_result"
    }
   ],
   "source": [
    "google.is_unique # "
   ]
  },
  {
   "cell_type": "code",
   "execution_count": 76,
   "id": "fb377676",
   "metadata": {},
   "outputs": [
    {
     "data": {
      "text/plain": [
       "Price\n",
       "14.719826     4\n",
       "49.000000     4\n",
       "67.500000     3\n",
       "13.113846     3\n",
       "15.317586     3\n",
       "             ..\n",
       "15.364161     1\n",
       "15.290189     1\n",
       "15.287449     1\n",
       "15.525307     1\n",
       "138.429993    1\n",
       "Name: count, Length: 4652, dtype: int64"
      ]
     },
     "execution_count": 76,
     "metadata": {},
     "output_type": "execute_result"
    }
   ],
   "source": [
    "google.value_counts()"
   ]
  },
  {
   "cell_type": "code",
   "execution_count": 78,
   "id": "2e3c71a1",
   "metadata": {},
   "outputs": [],
   "source": [
    "# df['col'].is_unique\n",
    "\n",
    "# df['col'][df['col'].value_counts() > 1].size != 0"
   ]
  },
  {
   "cell_type": "code",
   "execution_count": 102,
   "id": "509f9e8a",
   "metadata": {},
   "outputs": [
    {
     "data": {
      "text/plain": [
       "0      Boobasaur\n",
       "1        Ivysaur\n",
       "2       Venusaur\n",
       "3     Charmander\n",
       "4     Charmeleon\n",
       "5      Charizard\n",
       "6       Squirtle\n",
       "7      Wartortle\n",
       "8      Blastoise\n",
       "9       Caterpie\n",
       "10       Metapod\n",
       "11    Butterfree\n",
       "12        Weedle\n",
       "13        Kakuna\n",
       "14      Beedrill\n",
       "15        Pidgey\n",
       "16     Pidgeotto\n",
       "17       Pidgeot\n",
       "18       Rattata\n",
       "19      Raticate\n",
       "Name: Name, dtype: object"
      ]
     },
     "execution_count": 102,
     "metadata": {},
     "output_type": "execute_result"
    }
   ],
   "source": [
    "h = pokemon.head(20)\n",
    "h"
   ]
  },
  {
   "cell_type": "code",
   "execution_count": 103,
   "id": "0345b77e",
   "metadata": {},
   "outputs": [
    {
     "data": {
      "text/plain": [
       "{0: 'Boobasaur',\n",
       " 1: 'Ivysaur',\n",
       " 2: 'Venusaur',\n",
       " 3: 'Charmander',\n",
       " 4: 'Charmeleon',\n",
       " 5: 'Charizard',\n",
       " 6: 'Squirtle',\n",
       " 7: 'Wartortle',\n",
       " 8: 'Blastoise',\n",
       " 9: 'Caterpie',\n",
       " 10: 'Metapod',\n",
       " 11: 'Butterfree',\n",
       " 12: 'Weedle',\n",
       " 13: 'Kakuna',\n",
       " 14: 'Beedrill',\n",
       " 15: 'Pidgey',\n",
       " 16: 'Pidgeotto',\n",
       " 17: 'Pidgeot',\n",
       " 18: 'Rattata',\n",
       " 19: 'Raticate'}"
      ]
     },
     "execution_count": 103,
     "metadata": {},
     "output_type": "execute_result"
    }
   ],
   "source": [
    "dict(h)"
   ]
  },
  {
   "cell_type": "code",
   "execution_count": 104,
   "id": "b12ecd2b",
   "metadata": {},
   "outputs": [
    {
     "data": {
      "text/plain": [
       "['Boobasaur',\n",
       " 'Ivysaur',\n",
       " 'Venusaur',\n",
       " 'Charmander',\n",
       " 'Charmeleon',\n",
       " 'Charizard',\n",
       " 'Squirtle',\n",
       " 'Wartortle',\n",
       " 'Blastoise',\n",
       " 'Caterpie',\n",
       " 'Metapod',\n",
       " 'Butterfree',\n",
       " 'Weedle',\n",
       " 'Kakuna',\n",
       " 'Beedrill',\n",
       " 'Pidgey',\n",
       " 'Pidgeotto',\n",
       " 'Pidgeot',\n",
       " 'Rattata',\n",
       " 'Raticate']"
      ]
     },
     "execution_count": 104,
     "metadata": {},
     "output_type": "execute_result"
    }
   ],
   "source": [
    "list(h)"
   ]
  },
  {
   "cell_type": "code",
   "execution_count": 110,
   "id": "947ca91b",
   "metadata": {},
   "outputs": [
    {
     "data": {
      "text/plain": [
       "['Weedle',\n",
       " 'Wartortle',\n",
       " 'Venusaur',\n",
       " 'Squirtle',\n",
       " 'Rattata',\n",
       " 'Raticate',\n",
       " 'Pidgey',\n",
       " 'Pidgeotto',\n",
       " 'Pidgeot',\n",
       " 'Metapod',\n",
       " 'Kakuna',\n",
       " 'Ivysaur',\n",
       " 'Charmeleon',\n",
       " 'Charmander',\n",
       " 'Charizard',\n",
       " 'Caterpie',\n",
       " 'Butterfree',\n",
       " 'Boobasaur',\n",
       " 'Blastoise',\n",
       " 'Beedrill']"
      ]
     },
     "execution_count": 110,
     "metadata": {},
     "output_type": "execute_result"
    }
   ],
   "source": [
    "sorted(h, reverse=True)"
   ]
  },
  {
   "cell_type": "code",
   "execution_count": 111,
   "id": "c8e7612d",
   "metadata": {},
   "outputs": [
    {
     "data": {
      "text/plain": [
       "['Weedle',\n",
       " 'Kakuna',\n",
       " 'Pidgey',\n",
       " 'Ivysaur',\n",
       " 'Metapod',\n",
       " 'Pidgeot',\n",
       " 'Rattata',\n",
       " 'Venusaur',\n",
       " 'Squirtle',\n",
       " 'Caterpie',\n",
       " 'Beedrill',\n",
       " 'Raticate',\n",
       " 'Boobasaur',\n",
       " 'Charizard',\n",
       " 'Wartortle',\n",
       " 'Blastoise',\n",
       " 'Pidgeotto',\n",
       " 'Charmander',\n",
       " 'Charmeleon',\n",
       " 'Butterfree']"
      ]
     },
     "execution_count": 111,
     "metadata": {},
     "output_type": "execute_result"
    }
   ],
   "source": [
    "sorted(h, key = len)"
   ]
  },
  {
   "cell_type": "code",
   "execution_count": null,
   "id": "6b130981",
   "metadata": {},
   "outputs": [],
   "source": []
  },
  {
   "cell_type": "markdown",
   "id": "dd5ea142",
   "metadata": {},
   "source": [
    "# head() and tail() method"
   ]
  },
  {
   "cell_type": "code",
   "execution_count": 80,
   "id": "923c53b0",
   "metadata": {},
   "outputs": [
    {
     "data": {
      "text/plain": [
       "0          Bulbasaur\n",
       "1            Ivysaur\n",
       "2           Venusaur\n",
       "3         Charmander\n",
       "4         Charmeleon\n",
       "            ...     \n",
       "1005    Iron Valiant\n",
       "1006        Koraidon\n",
       "1007        Miraidon\n",
       "1008    Walking Wake\n",
       "1009     Iron Leaves\n",
       "Name: Name, Length: 1010, dtype: object"
      ]
     },
     "execution_count": 80,
     "metadata": {},
     "output_type": "execute_result"
    }
   ],
   "source": [
    "pokemon = pd.read_csv('datasets/pokemon.csv', usecols = [0]).squeeze(True)\n",
    "pokemon"
   ]
  },
  {
   "cell_type": "code",
   "execution_count": 81,
   "id": "71b634c6",
   "metadata": {},
   "outputs": [
    {
     "data": {
      "text/plain": [
       "0     Bulbasaur\n",
       "1       Ivysaur\n",
       "2      Venusaur\n",
       "3    Charmander\n",
       "4    Charmeleon\n",
       "Name: Name, dtype: object"
      ]
     },
     "execution_count": 81,
     "metadata": {},
     "output_type": "execute_result"
    }
   ],
   "source": [
    "pokemon.head()"
   ]
  },
  {
   "cell_type": "code",
   "execution_count": 82,
   "id": "66b50e18",
   "metadata": {},
   "outputs": [
    {
     "data": {
      "text/plain": [
       "0     Bulbasaur\n",
       "1       Ivysaur\n",
       "2      Venusaur\n",
       "3    Charmander\n",
       "4    Charmeleon\n",
       "5     Charizard\n",
       "6      Squirtle\n",
       "7     Wartortle\n",
       "8     Blastoise\n",
       "9      Caterpie\n",
       "Name: Name, dtype: object"
      ]
     },
     "execution_count": 82,
     "metadata": {},
     "output_type": "execute_result"
    }
   ],
   "source": [
    "pokemon.head(n=10)"
   ]
  },
  {
   "cell_type": "code",
   "execution_count": 83,
   "id": "4d85784a",
   "metadata": {},
   "outputs": [
    {
     "data": {
      "text/plain": [
       "1005    Iron Valiant\n",
       "1006        Koraidon\n",
       "1007        Miraidon\n",
       "1008    Walking Wake\n",
       "1009     Iron Leaves\n",
       "Name: Name, dtype: object"
      ]
     },
     "execution_count": 83,
     "metadata": {},
     "output_type": "execute_result"
    }
   ],
   "source": [
    "pokemon.tail()"
   ]
  },
  {
   "cell_type": "code",
   "execution_count": 84,
   "id": "ba11bb3c",
   "metadata": {},
   "outputs": [
    {
     "data": {
      "text/plain": [
       "1000        Wo-Chien\n",
       "1001       Chien-Pao\n",
       "1002         Ting-Lu\n",
       "1003          Chi-Yu\n",
       "1004    Roaring Moon\n",
       "1005    Iron Valiant\n",
       "1006        Koraidon\n",
       "1007        Miraidon\n",
       "1008    Walking Wake\n",
       "1009     Iron Leaves\n",
       "Name: Name, dtype: object"
      ]
     },
     "execution_count": 84,
     "metadata": {},
     "output_type": "execute_result"
    }
   ],
   "source": [
    "pokemon.tail(n=10)"
   ]
  },
  {
   "cell_type": "code",
   "execution_count": 90,
   "id": "bd5ab64e",
   "metadata": {},
   "outputs": [
    {
     "data": {
      "text/plain": [
       "0     Bulbasaur\n",
       "1       Ivysaur\n",
       "2      Venusaur\n",
       "3    Charmander\n",
       "4    Charmeleon\n",
       "5     Charizard\n",
       "6      Squirtle\n",
       "7     Wartortle\n",
       "8     Blastoise\n",
       "9      Caterpie\n",
       "Name: Name, dtype: object"
      ]
     },
     "execution_count": 90,
     "metadata": {},
     "output_type": "execute_result"
    }
   ],
   "source": [
    "# 10-19 tk ki entry \n",
    "s = pokemon.head(10)\n",
    "s"
   ]
  },
  {
   "cell_type": "code",
   "execution_count": 91,
   "id": "8b6f5a3a",
   "metadata": {},
   "outputs": [
    {
     "data": {
      "text/plain": [
       "0       Metapod\n",
       "1    Butterfree\n",
       "2        Weedle\n",
       "3        Kakuna\n",
       "4      Beedrill\n",
       "5        Pidgey\n",
       "6     Pidgeotto\n",
       "7       Pidgeot\n",
       "8       Rattata\n",
       "9      Raticate\n",
       "dtype: object"
      ]
     },
     "execution_count": 91,
     "metadata": {},
     "output_type": "execute_result"
    }
   ],
   "source": [
    "ans = [i for i in pokemon.values if i not in s.values]\n",
    "pd.Series([pokemon[value] for value in range(10, 20)])"
   ]
  },
  {
   "cell_type": "code",
   "execution_count": 89,
   "id": "4b623800",
   "metadata": {},
   "outputs": [],
   "source": [
    "# 10-19 [2nd slot 10 ka]"
   ]
  },
  {
   "cell_type": "code",
   "execution_count": 93,
   "id": "61b8a552",
   "metadata": {},
   "outputs": [
    {
     "data": {
      "text/plain": [
       "10       Metapod\n",
       "11    Butterfree\n",
       "12        Weedle\n",
       "13        Kakuna\n",
       "14      Beedrill\n",
       "15        Pidgey\n",
       "16     Pidgeotto\n",
       "17       Pidgeot\n",
       "18       Rattata\n",
       "19      Raticate\n",
       "Name: Name, dtype: object"
      ]
     },
     "execution_count": 93,
     "metadata": {},
     "output_type": "execute_result"
    }
   ],
   "source": [
    "pokemon.head(20).tail(10)\n",
    "pokemon[10:20]"
   ]
  },
  {
   "cell_type": "code",
   "execution_count": 94,
   "id": "c9430c98",
   "metadata": {},
   "outputs": [
    {
     "data": {
      "text/plain": [
       "0          Bulbasaur\n",
       "1            Ivysaur\n",
       "2           Venusaur\n",
       "3         Charmander\n",
       "4         Charmeleon\n",
       "            ...     \n",
       "1005    Iron Valiant\n",
       "1006        Koraidon\n",
       "1007        Miraidon\n",
       "1008    Walking Wake\n",
       "1009     Iron Leaves\n",
       "Name: Name, Length: 1010, dtype: object"
      ]
     },
     "execution_count": 94,
     "metadata": {},
     "output_type": "execute_result"
    }
   ],
   "source": [
    "pokemon"
   ]
  },
  {
   "cell_type": "code",
   "execution_count": 95,
   "id": "a9abe052",
   "metadata": {},
   "outputs": [],
   "source": [
    "h = pokemon.head(3)"
   ]
  },
  {
   "cell_type": "code",
   "execution_count": 96,
   "id": "d50bc042",
   "metadata": {},
   "outputs": [
    {
     "data": {
      "text/plain": [
       "0    Bulbasaur\n",
       "1      Ivysaur\n",
       "2     Venusaur\n",
       "Name: Name, dtype: object"
      ]
     },
     "execution_count": 96,
     "metadata": {},
     "output_type": "execute_result"
    }
   ],
   "source": [
    "h"
   ]
  },
  {
   "cell_type": "code",
   "execution_count": 97,
   "id": "7e6cf540",
   "metadata": {},
   "outputs": [
    {
     "data": {
      "text/plain": [
       "0    Boobasaur\n",
       "1      Ivysaur\n",
       "2     Venusaur\n",
       "Name: Name, dtype: object"
      ]
     },
     "execution_count": 97,
     "metadata": {},
     "output_type": "execute_result"
    }
   ],
   "source": [
    "h[0] = 'Boobasaur'\n",
    "h"
   ]
  },
  {
   "cell_type": "code",
   "execution_count": 98,
   "id": "95d5643a",
   "metadata": {},
   "outputs": [
    {
     "data": {
      "text/plain": [
       "0          Boobasaur\n",
       "1            Ivysaur\n",
       "2           Venusaur\n",
       "3         Charmander\n",
       "4         Charmeleon\n",
       "            ...     \n",
       "1005    Iron Valiant\n",
       "1006        Koraidon\n",
       "1007        Miraidon\n",
       "1008    Walking Wake\n",
       "1009     Iron Leaves\n",
       "Name: Name, Length: 1010, dtype: object"
      ]
     },
     "execution_count": 98,
     "metadata": {},
     "output_type": "execute_result"
    }
   ],
   "source": [
    "pokemon"
   ]
  },
  {
   "cell_type": "code",
   "execution_count": 101,
   "id": "eac27644",
   "metadata": {},
   "outputs": [
    {
     "data": {
      "text/plain": [
       "5      Charizard\n",
       "6       Squirtle\n",
       "7      Wartortle\n",
       "8      Blastoise\n",
       "9       Caterpie\n",
       "10       Metapod\n",
       "11    Butterfree\n",
       "12        Weedle\n",
       "13        Kakuna\n",
       "14      Beedrill\n",
       "15        Pidgey\n",
       "16     Pidgeotto\n",
       "17       Pidgeot\n",
       "18       Rattata\n",
       "19      Raticate\n",
       "20       Spearow\n",
       "21        Fearow\n",
       "22         Ekans\n",
       "23         Arbok\n",
       "Name: Name, dtype: object"
      ]
     },
     "execution_count": 101,
     "metadata": {},
     "output_type": "execute_result"
    }
   ],
   "source": [
    "def ans(series, m, n):\n",
    "    return series.head(m+n).tail(n)\n",
    "\n",
    "ans(pokemon, 5, 19)"
   ]
  },
  {
   "cell_type": "markdown",
   "id": "99b0860c",
   "metadata": {},
   "source": [
    "# Inclusion in series"
   ]
  },
  {
   "cell_type": "code",
   "execution_count": 112,
   "id": "d0929f38",
   "metadata": {},
   "outputs": [
    {
     "data": {
      "text/plain": [
       "0          Boobasaur\n",
       "1            Ivysaur\n",
       "2           Venusaur\n",
       "3         Charmander\n",
       "4         Charmeleon\n",
       "            ...     \n",
       "1005    Iron Valiant\n",
       "1006        Koraidon\n",
       "1007        Miraidon\n",
       "1008    Walking Wake\n",
       "1009     Iron Leaves\n",
       "Name: Name, Length: 1010, dtype: object"
      ]
     },
     "execution_count": 112,
     "metadata": {},
     "output_type": "execute_result"
    }
   ],
   "source": [
    "pokemon"
   ]
  },
  {
   "cell_type": "code",
   "execution_count": 113,
   "id": "57770ed0",
   "metadata": {},
   "outputs": [
    {
     "data": {
      "text/plain": [
       "True"
      ]
     },
     "execution_count": 113,
     "metadata": {},
     "output_type": "execute_result"
    }
   ],
   "source": [
    "23 in pokemon"
   ]
  },
  {
   "cell_type": "code",
   "execution_count": 114,
   "id": "39a0ec79",
   "metadata": {},
   "outputs": [
    {
     "data": {
      "text/plain": [
       "False"
      ]
     },
     "execution_count": 114,
     "metadata": {},
     "output_type": "execute_result"
    }
   ],
   "source": [
    "-90 in pokemon"
   ]
  },
  {
   "cell_type": "code",
   "execution_count": 115,
   "id": "25e079c6",
   "metadata": {},
   "outputs": [
    {
     "data": {
      "text/plain": [
       "False"
      ]
     },
     "execution_count": 115,
     "metadata": {},
     "output_type": "execute_result"
    }
   ],
   "source": [
    "'Ivysaur' in pokemon"
   ]
  },
  {
   "cell_type": "code",
   "execution_count": 116,
   "id": "7ff5f0d7",
   "metadata": {},
   "outputs": [
    {
     "data": {
      "text/plain": [
       "True"
      ]
     },
     "execution_count": 116,
     "metadata": {},
     "output_type": "execute_result"
    }
   ],
   "source": [
    "'Ivysaur' in pokemon.values"
   ]
  },
  {
   "cell_type": "markdown",
   "id": "9f24fb44",
   "metadata": {},
   "source": [
    "# sorting methods --  index(sort_index), values(sort_values)"
   ]
  },
  {
   "cell_type": "code",
   "execution_count": 120,
   "id": "5f637a96",
   "metadata": {},
   "outputs": [
    {
     "data": {
      "text/plain": [
       "459    Abomasnow\n",
       "62          Abra\n",
       "358        Absol\n",
       "616     Accelgor\n",
       "680    Aegislash\n",
       "         ...    \n",
       "570      Zoroark\n",
       "569        Zorua\n",
       "40         Zubat\n",
       "633     Zweilous\n",
       "717      Zygarde\n",
       "Name: Name, Length: 1010, dtype: object"
      ]
     },
     "execution_count": 120,
     "metadata": {},
     "output_type": "execute_result"
    }
   ],
   "source": [
    "s = pokemon.sort_values()\n",
    "s"
   ]
  },
  {
   "cell_type": "code",
   "execution_count": 127,
   "id": "31862573",
   "metadata": {},
   "outputs": [
    {
     "data": {
      "text/plain": [
       "0          Boobasaur\n",
       "1            Ivysaur\n",
       "2           Venusaur\n",
       "3         Charmander\n",
       "4         Charmeleon\n",
       "            ...     \n",
       "1005    Iron Valiant\n",
       "1006        Koraidon\n",
       "1007        Miraidon\n",
       "1008    Walking Wake\n",
       "1009     Iron Leaves\n",
       "Name: Name, Length: 1010, dtype: object"
      ]
     },
     "execution_count": 127,
     "metadata": {},
     "output_type": "execute_result"
    }
   ],
   "source": [
    "s.sort_index()"
   ]
  },
  {
   "cell_type": "code",
   "execution_count": 129,
   "id": "4658d381",
   "metadata": {},
   "outputs": [
    {
     "data": {
      "text/plain": [
       "0          Boobasaur\n",
       "1            Ivysaur\n",
       "2           Venusaur\n",
       "3         Charmander\n",
       "4         Charmeleon\n",
       "            ...     \n",
       "1005    Iron Valiant\n",
       "1006        Koraidon\n",
       "1007        Miraidon\n",
       "1008    Walking Wake\n",
       "1009     Iron Leaves\n",
       "Name: Name, Length: 1010, dtype: object"
      ]
     },
     "execution_count": 129,
     "metadata": {},
     "output_type": "execute_result"
    }
   ],
   "source": [
    "pokemon"
   ]
  },
  {
   "cell_type": "code",
   "execution_count": 133,
   "id": "3e4488b4",
   "metadata": {},
   "outputs": [
    {
     "data": {
      "text/plain": [
       "0          Boobasaur\n",
       "1            Ivysaur\n",
       "2           Venusaur\n",
       "3         Charmander\n",
       "4         Charmeleon\n",
       "            ...     \n",
       "1005    Iron Valiant\n",
       "1006        Koraidon\n",
       "1007        Miraidon\n",
       "1008    Walking Wake\n",
       "1009     Iron Leaves\n",
       "Name: Name, Length: 1010, dtype: object"
      ]
     },
     "execution_count": 133,
     "metadata": {},
     "output_type": "execute_result"
    }
   ],
   "source": [
    "pokemon2 = pokemon.sort_values().sort_index()\n",
    "pokemon2"
   ]
  },
  {
   "cell_type": "code",
   "execution_count": 134,
   "id": "3b5f3333",
   "metadata": {},
   "outputs": [
    {
     "data": {
      "text/plain": [
       "0          Boobasaur\n",
       "1            Ivysaur\n",
       "2           Venusaur\n",
       "3         Charmander\n",
       "4         Charmeleon\n",
       "            ...     \n",
       "1005    Iron Valiant\n",
       "1006        Koraidon\n",
       "1007        Miraidon\n",
       "1008    Walking Wake\n",
       "1009     Iron Leaves\n",
       "Name: Name, Length: 1010, dtype: object"
      ]
     },
     "execution_count": 134,
     "metadata": {},
     "output_type": "execute_result"
    }
   ],
   "source": [
    "pokemon"
   ]
  },
  {
   "cell_type": "code",
   "execution_count": 135,
   "id": "750b52c0",
   "metadata": {},
   "outputs": [
    {
     "data": {
      "text/plain": [
       "False"
      ]
     },
     "execution_count": 135,
     "metadata": {},
     "output_type": "execute_result"
    }
   ],
   "source": [
    "pokemon2 is pokemon"
   ]
  },
  {
   "cell_type": "code",
   "execution_count": 136,
   "id": "9d6339ad",
   "metadata": {},
   "outputs": [
    {
     "data": {
      "text/plain": [
       "0       True\n",
       "1       True\n",
       "2       True\n",
       "3       True\n",
       "4       True\n",
       "        ... \n",
       "1005    True\n",
       "1006    True\n",
       "1007    True\n",
       "1008    True\n",
       "1009    True\n",
       "Name: Name, Length: 1010, dtype: bool"
      ]
     },
     "execution_count": 136,
     "metadata": {},
     "output_type": "execute_result"
    }
   ],
   "source": [
    "pokemon2 == pokemon"
   ]
  },
  {
   "cell_type": "markdown",
   "id": "55303919",
   "metadata": {},
   "source": [
    "# Broadcasting"
   ]
  },
  {
   "cell_type": "code",
   "execution_count": 141,
   "id": "670023d8",
   "metadata": {},
   "outputs": [],
   "source": [
    "# 99 % operations ek new series bnate he"
   ]
  },
  {
   "cell_type": "code",
   "execution_count": 137,
   "id": "86546eb3",
   "metadata": {},
   "outputs": [
    {
     "data": {
      "text/plain": [
       "0         2.490664\n",
       "1         2.515820\n",
       "2         2.758411\n",
       "3         2.770615\n",
       "4         2.614201\n",
       "           ...    \n",
       "4788    132.080002\n",
       "4789    132.998001\n",
       "4790    135.570007\n",
       "4791    137.050003\n",
       "4792    138.429993\n",
       "Name: Price, Length: 4793, dtype: float64"
      ]
     },
     "execution_count": 137,
     "metadata": {},
     "output_type": "execute_result"
    }
   ],
   "source": [
    "google"
   ]
  },
  {
   "cell_type": "code",
   "execution_count": 143,
   "id": "3def855c",
   "metadata": {},
   "outputs": [
    {
     "data": {
      "text/plain": [
       "0         4.490664\n",
       "1         4.515820\n",
       "2         4.758411\n",
       "3         4.770615\n",
       "4         4.614201\n",
       "           ...    \n",
       "4788    134.080002\n",
       "4789    134.998001\n",
       "4790    137.570007\n",
       "4791    139.050003\n",
       "4792    140.429993\n",
       "Name: Price, Length: 4793, dtype: float64"
      ]
     },
     "execution_count": 143,
     "metadata": {},
     "output_type": "execute_result"
    }
   ],
   "source": [
    "google.add(2)\n",
    "google + 2"
   ]
  },
  {
   "cell_type": "code",
   "execution_count": 146,
   "id": "e8f4bfba",
   "metadata": {},
   "outputs": [
    {
     "data": {
      "text/plain": [
       "0        -7.509336\n",
       "1        -7.484180\n",
       "2        -7.241589\n",
       "3        -7.229385\n",
       "4        -7.385799\n",
       "           ...    \n",
       "4788    122.080002\n",
       "4789    122.998001\n",
       "4790    125.570007\n",
       "4791    127.050003\n",
       "4792    128.429993\n",
       "Name: Price, Length: 4793, dtype: float64"
      ]
     },
     "execution_count": 146,
     "metadata": {},
     "output_type": "execute_result"
    }
   ],
   "source": [
    "google.subtract(10)\n",
    "google-10"
   ]
  },
  {
   "cell_type": "code",
   "execution_count": 145,
   "id": "ef9ffe04",
   "metadata": {},
   "outputs": [
    {
     "data": {
      "text/plain": [
       "True"
      ]
     },
     "execution_count": 145,
     "metadata": {},
     "output_type": "execute_result"
    }
   ],
   "source": [
    "pokemon.head(5)[1] is pokemon[1]"
   ]
  },
  {
   "cell_type": "code",
   "execution_count": 148,
   "id": "bc3a5798",
   "metadata": {},
   "outputs": [
    {
     "data": {
      "text/plain": [
       "0         4.981328\n",
       "1         5.031640\n",
       "2         5.516822\n",
       "3         5.541230\n",
       "4         5.228402\n",
       "           ...    \n",
       "4788    264.160004\n",
       "4789    265.996002\n",
       "4790    271.140014\n",
       "4791    274.100006\n",
       "4792    276.859986\n",
       "Name: Price, Length: 4793, dtype: float64"
      ]
     },
     "execution_count": 148,
     "metadata": {},
     "output_type": "execute_result"
    }
   ],
   "source": [
    "google.mul(2)\n",
    "google * 2"
   ]
  },
  {
   "cell_type": "code",
   "execution_count": 150,
   "id": "fedb3916",
   "metadata": {},
   "outputs": [
    {
     "data": {
      "text/plain": [
       "0        1.245332\n",
       "1        1.257910\n",
       "2        1.379206\n",
       "3        1.385307\n",
       "4        1.307100\n",
       "          ...    \n",
       "4788    66.040001\n",
       "4789    66.499000\n",
       "4790    67.785004\n",
       "4791    68.525002\n",
       "4792    69.214996\n",
       "Name: Price, Length: 4793, dtype: float64"
      ]
     },
     "execution_count": 150,
     "metadata": {},
     "output_type": "execute_result"
    }
   ],
   "source": [
    "google.div(2)\n",
    "google/2"
   ]
  },
  {
   "cell_type": "code",
   "execution_count": 152,
   "id": "2a581aa5",
   "metadata": {},
   "outputs": [
    {
     "data": {
      "text/plain": [
       "0       1.545060e+01\n",
       "1       1.592351e+01\n",
       "2       2.098828e+01\n",
       "3       2.126809e+01\n",
       "4       1.786557e+01\n",
       "            ...     \n",
       "4788    2.304152e+06\n",
       "4789    2.352531e+06\n",
       "4790    2.491672e+06\n",
       "4791    2.574170e+06\n",
       "4792    2.652715e+06\n",
       "Name: Price, Length: 4793, dtype: float64"
      ]
     },
     "execution_count": 152,
     "metadata": {},
     "output_type": "execute_result"
    }
   ],
   "source": [
    "google.pow(3)\n",
    "google ** 3"
   ]
  },
  {
   "cell_type": "markdown",
   "id": "e363279f",
   "metadata": {},
   "source": [
    "# Math methods on series"
   ]
  },
  {
   "cell_type": "code",
   "execution_count": 153,
   "id": "fe8b43df",
   "metadata": {},
   "outputs": [],
   "source": [
    "import numpy as np\n",
    "import pandas as pd # map filter "
   ]
  },
  {
   "cell_type": "code",
   "execution_count": 154,
   "id": "dd33a413",
   "metadata": {},
   "outputs": [
    {
     "data": {
      "text/plain": [
       "0         2.490664\n",
       "1         2.515820\n",
       "2         2.758411\n",
       "3         2.770615\n",
       "4         2.614201\n",
       "           ...    \n",
       "4788    132.080002\n",
       "4789    132.998001\n",
       "4790    135.570007\n",
       "4791    137.050003\n",
       "4792    138.429993\n",
       "Name: Price, Length: 4793, dtype: float64"
      ]
     },
     "execution_count": 154,
     "metadata": {},
     "output_type": "execute_result"
    }
   ],
   "source": [
    "google = pd.read_csv('datasets/google_stock_price.csv', usecols = [1]).squeeze()\n",
    "google"
   ]
  },
  {
   "cell_type": "code",
   "execution_count": 155,
   "id": "47b34bef",
   "metadata": {},
   "outputs": [
    {
     "data": {
      "text/plain": [
       "40.211376870018775"
      ]
     },
     "execution_count": 155,
     "metadata": {},
     "output_type": "execute_result"
    }
   ],
   "source": [
    "google.mean()\n"
   ]
  },
  {
   "cell_type": "code",
   "execution_count": 156,
   "id": "4d4ec798",
   "metadata": {},
   "outputs": [
    {
     "data": {
      "text/plain": [
       "192733.129338"
      ]
     },
     "execution_count": 156,
     "metadata": {},
     "output_type": "execute_result"
    }
   ],
   "source": [
    "google.sum()"
   ]
  },
  {
   "cell_type": "code",
   "execution_count": 157,
   "id": "c0141176",
   "metadata": {},
   "outputs": [
    {
     "name": "stderr",
     "output_type": "stream",
     "text": [
      "C:\\Users\\HU496FA\\AppData\\Local\\Programs\\Python\\Python311\\Lib\\site-packages\\numpy\\core\\_methods.py:53: RuntimeWarning: overflow encountered in reduce\n",
      "  return umr_prod(a, axis, dtype, out, keepdims, initial, where)\n"
     ]
    },
    {
     "data": {
      "text/plain": [
       "inf"
      ]
     },
     "execution_count": 157,
     "metadata": {},
     "output_type": "execute_result"
    }
   ],
   "source": [
    "google.product()"
   ]
  },
  {
   "cell_type": "code",
   "execution_count": 158,
   "id": "dce2871c",
   "metadata": {},
   "outputs": [
    {
     "data": {
      "text/plain": [
       "26.327717"
      ]
     },
     "execution_count": 158,
     "metadata": {},
     "output_type": "execute_result"
    }
   ],
   "source": [
    "google.median()"
   ]
  },
  {
   "cell_type": "code",
   "execution_count": 160,
   "id": "b3396512",
   "metadata": {},
   "outputs": [
    {
     "data": {
      "text/plain": [
       "(0    14.719826\n",
       " 1    49.000000\n",
       " Name: Price, dtype: float64,\n",
       " pandas.core.series.Series)"
      ]
     },
     "execution_count": 160,
     "metadata": {},
     "output_type": "execute_result"
    }
   ],
   "source": [
    "google.mode(), type(google.mode())"
   ]
  },
  {
   "cell_type": "code",
   "execution_count": 161,
   "id": "860d7899",
   "metadata": {},
   "outputs": [
    {
     "data": {
      "text/plain": [
       "Price\n",
       "14.719826     4\n",
       "49.000000     4\n",
       "67.500000     3\n",
       "13.113846     3\n",
       "15.317586     3\n",
       "             ..\n",
       "15.364161     1\n",
       "15.290189     1\n",
       "15.287449     1\n",
       "15.525307     1\n",
       "138.429993    1\n",
       "Name: count, Length: 4652, dtype: int64"
      ]
     },
     "execution_count": 161,
     "metadata": {},
     "output_type": "execute_result"
    }
   ],
   "source": [
    "google.value_counts()"
   ]
  },
  {
   "cell_type": "code",
   "execution_count": 162,
   "id": "a0d1d968",
   "metadata": {},
   "outputs": [
    {
     "data": {
      "text/plain": [
       "37.274752943868094"
      ]
     },
     "execution_count": 162,
     "metadata": {},
     "output_type": "execute_result"
    }
   ],
   "source": [
    "google.std()"
   ]
  },
  {
   "cell_type": "code",
   "execution_count": 163,
   "id": "8ebe1eb1",
   "metadata": {},
   "outputs": [
    {
     "data": {
      "text/plain": [
       "2.47049"
      ]
     },
     "execution_count": 163,
     "metadata": {},
     "output_type": "execute_result"
    }
   ],
   "source": [
    "google.min()"
   ]
  },
  {
   "cell_type": "code",
   "execution_count": 164,
   "id": "f1d7c7fe",
   "metadata": {},
   "outputs": [
    {
     "data": {
      "text/plain": [
       "151.863495"
      ]
     },
     "execution_count": 164,
     "metadata": {},
     "output_type": "execute_result"
    }
   ],
   "source": [
    "google.max()"
   ]
  },
  {
   "cell_type": "code",
   "execution_count": 165,
   "id": "7149ae95",
   "metadata": {},
   "outputs": [
    {
     "data": {
      "text/plain": [
       "4793"
      ]
     },
     "execution_count": 165,
     "metadata": {},
     "output_type": "execute_result"
    }
   ],
   "source": [
    "google.count()"
   ]
  },
  {
   "cell_type": "code",
   "execution_count": 166,
   "id": "19877817",
   "metadata": {},
   "outputs": [
    {
     "data": {
      "text/plain": [
       "4793"
      ]
     },
     "execution_count": 166,
     "metadata": {},
     "output_type": "execute_result"
    }
   ],
   "source": [
    "len(google)"
   ]
  },
  {
   "cell_type": "code",
   "execution_count": 167,
   "id": "06e7c22d",
   "metadata": {},
   "outputs": [
    {
     "data": {
      "text/plain": [
       "151.863495"
      ]
     },
     "execution_count": 167,
     "metadata": {},
     "output_type": "execute_result"
    }
   ],
   "source": [
    "max(google)"
   ]
  },
  {
   "cell_type": "code",
   "execution_count": 168,
   "id": "bf30ceea",
   "metadata": {},
   "outputs": [
    {
     "data": {
      "text/plain": [
       "2.47049"
      ]
     },
     "execution_count": 168,
     "metadata": {},
     "output_type": "execute_result"
    }
   ],
   "source": [
    "min(google)"
   ]
  },
  {
   "cell_type": "code",
   "execution_count": 175,
   "id": "9653f53b",
   "metadata": {},
   "outputs": [
    {
     "data": {
      "text/plain": [
       "count    4793.000000\n",
       "mean       40.211377\n",
       "std        37.274753\n",
       "min         2.470490\n",
       "25%        12.767395\n",
       "50%        26.327717\n",
       "75%        56.311001\n",
       "max       151.863495\n",
       "Name: Price, dtype: float64"
      ]
     },
     "execution_count": 175,
     "metadata": {},
     "output_type": "execute_result"
    }
   ],
   "source": [
    "google.describe() # dataframe -- "
   ]
  },
  {
   "cell_type": "code",
   "execution_count": 176,
   "id": "072e6184",
   "metadata": {},
   "outputs": [
    {
     "data": {
      "text/plain": [
       "26.327717"
      ]
     },
     "execution_count": 176,
     "metadata": {},
     "output_type": "execute_result"
    }
   ],
   "source": [
    "google.median()"
   ]
  },
  {
   "cell_type": "code",
   "execution_count": 177,
   "id": "84a08ae8",
   "metadata": {},
   "outputs": [
    {
     "data": {
      "text/plain": [
       "26.327717"
      ]
     },
     "execution_count": 177,
     "metadata": {},
     "output_type": "execute_result"
    }
   ],
   "source": [
    "google.describe()['50%']"
   ]
  },
  {
   "cell_type": "code",
   "execution_count": 178,
   "id": "4cdb18b2",
   "metadata": {},
   "outputs": [
    {
     "data": {
      "text/plain": [
       "56.311001"
      ]
     },
     "execution_count": 178,
     "metadata": {},
     "output_type": "execute_result"
    }
   ],
   "source": [
    "google.describe()['75%']"
   ]
  },
  {
   "cell_type": "markdown",
   "id": "3fdd7210",
   "metadata": {},
   "source": [
    "# get() method"
   ]
  },
  {
   "cell_type": "code",
   "execution_count": 179,
   "id": "8c1a9760",
   "metadata": {},
   "outputs": [
    {
     "data": {
      "text/plain": [
       "0         2.490664\n",
       "1         2.515820\n",
       "2         2.758411\n",
       "3         2.770615\n",
       "4         2.614201\n",
       "           ...    \n",
       "4788    132.080002\n",
       "4789    132.998001\n",
       "4790    135.570007\n",
       "4791    137.050003\n",
       "4792    138.429993\n",
       "Name: Price, Length: 4793, dtype: float64"
      ]
     },
     "execution_count": 179,
     "metadata": {},
     "output_type": "execute_result"
    }
   ],
   "source": [
    "google"
   ]
  },
  {
   "cell_type": "code",
   "execution_count": 183,
   "id": "fff67ae9",
   "metadata": {},
   "outputs": [
    {
     "data": {
      "text/plain": [
       "Name\n",
       "Bulbasaur          Grass, Poison\n",
       "Ivysaur            Grass, Poison\n",
       "Venusaur           Grass, Poison\n",
       "Charmander                  Fire\n",
       "Charmeleon                  Fire\n",
       "                      ...       \n",
       "Iron Valiant     Fairy, Fighting\n",
       "Koraidon        Fighting, Dragon\n",
       "Miraidon        Electric, Dragon\n",
       "Walking Wake       Water, Dragon\n",
       "Iron Leaves       Grass, Psychic\n",
       "Name: Type, Length: 1010, dtype: object"
      ]
     },
     "execution_count": 183,
     "metadata": {},
     "output_type": "execute_result"
    }
   ],
   "source": [
    "pokemon = pd.read_csv('datasets/pokemon.csv', index_col = 'Name').squeeze(True)\n",
    "pokemon"
   ]
  },
  {
   "cell_type": "code",
   "execution_count": 185,
   "id": "4b8c2c7b",
   "metadata": {},
   "outputs": [
    {
     "data": {
      "text/plain": [
       "'Fire'"
      ]
     },
     "execution_count": 185,
     "metadata": {},
     "output_type": "execute_result"
    }
   ],
   "source": [
    "pokemon['Charmander']"
   ]
  },
  {
   "cell_type": "code",
   "execution_count": 186,
   "id": "3bcf5d8f",
   "metadata": {},
   "outputs": [
    {
     "ename": "KeyError",
     "evalue": "'Charmender'",
     "output_type": "error",
     "traceback": [
      "\u001b[1;31m---------------------------------------------------------------------------\u001b[0m",
      "\u001b[1;31mKeyError\u001b[0m                                  Traceback (most recent call last)",
      "File \u001b[1;32m~\\AppData\\Local\\Programs\\Python\\Python311\\Lib\\site-packages\\pandas\\core\\indexes\\base.py:3791\u001b[0m, in \u001b[0;36mIndex.get_loc\u001b[1;34m(self, key)\u001b[0m\n\u001b[0;32m   3790\u001b[0m \u001b[38;5;28;01mtry\u001b[39;00m:\n\u001b[1;32m-> 3791\u001b[0m     \u001b[38;5;28;01mreturn\u001b[39;00m \u001b[38;5;28;43mself\u001b[39;49m\u001b[38;5;241;43m.\u001b[39;49m\u001b[43m_engine\u001b[49m\u001b[38;5;241;43m.\u001b[39;49m\u001b[43mget_loc\u001b[49m\u001b[43m(\u001b[49m\u001b[43mcasted_key\u001b[49m\u001b[43m)\u001b[49m\n\u001b[0;32m   3792\u001b[0m \u001b[38;5;28;01mexcept\u001b[39;00m \u001b[38;5;167;01mKeyError\u001b[39;00m \u001b[38;5;28;01mas\u001b[39;00m err:\n",
      "File \u001b[1;32mindex.pyx:152\u001b[0m, in \u001b[0;36mpandas._libs.index.IndexEngine.get_loc\u001b[1;34m()\u001b[0m\n",
      "File \u001b[1;32mindex.pyx:181\u001b[0m, in \u001b[0;36mpandas._libs.index.IndexEngine.get_loc\u001b[1;34m()\u001b[0m\n",
      "File \u001b[1;32mpandas\\_libs\\hashtable_class_helper.pxi:7080\u001b[0m, in \u001b[0;36mpandas._libs.hashtable.PyObjectHashTable.get_item\u001b[1;34m()\u001b[0m\n",
      "File \u001b[1;32mpandas\\_libs\\hashtable_class_helper.pxi:7088\u001b[0m, in \u001b[0;36mpandas._libs.hashtable.PyObjectHashTable.get_item\u001b[1;34m()\u001b[0m\n",
      "\u001b[1;31mKeyError\u001b[0m: 'Charmender'",
      "\nThe above exception was the direct cause of the following exception:\n",
      "\u001b[1;31mKeyError\u001b[0m                                  Traceback (most recent call last)",
      "Cell \u001b[1;32mIn[186], line 1\u001b[0m\n\u001b[1;32m----> 1\u001b[0m \u001b[43mpokemon\u001b[49m\u001b[43m[\u001b[49m\u001b[38;5;124;43m'\u001b[39;49m\u001b[38;5;124;43mCharmender\u001b[39;49m\u001b[38;5;124;43m'\u001b[39;49m\u001b[43m]\u001b[49m\n",
      "File \u001b[1;32m~\\AppData\\Local\\Programs\\Python\\Python311\\Lib\\site-packages\\pandas\\core\\series.py:1040\u001b[0m, in \u001b[0;36mSeries.__getitem__\u001b[1;34m(self, key)\u001b[0m\n\u001b[0;32m   1037\u001b[0m     \u001b[38;5;28;01mreturn\u001b[39;00m \u001b[38;5;28mself\u001b[39m\u001b[38;5;241m.\u001b[39m_values[key]\n\u001b[0;32m   1039\u001b[0m \u001b[38;5;28;01melif\u001b[39;00m key_is_scalar:\n\u001b[1;32m-> 1040\u001b[0m     \u001b[38;5;28;01mreturn\u001b[39;00m \u001b[38;5;28;43mself\u001b[39;49m\u001b[38;5;241;43m.\u001b[39;49m\u001b[43m_get_value\u001b[49m\u001b[43m(\u001b[49m\u001b[43mkey\u001b[49m\u001b[43m)\u001b[49m\n\u001b[0;32m   1042\u001b[0m \u001b[38;5;66;03m# Convert generator to list before going through hashable part\u001b[39;00m\n\u001b[0;32m   1043\u001b[0m \u001b[38;5;66;03m# (We will iterate through the generator there to check for slices)\u001b[39;00m\n\u001b[0;32m   1044\u001b[0m \u001b[38;5;28;01mif\u001b[39;00m is_iterator(key):\n",
      "File \u001b[1;32m~\\AppData\\Local\\Programs\\Python\\Python311\\Lib\\site-packages\\pandas\\core\\series.py:1156\u001b[0m, in \u001b[0;36mSeries._get_value\u001b[1;34m(self, label, takeable)\u001b[0m\n\u001b[0;32m   1153\u001b[0m     \u001b[38;5;28;01mreturn\u001b[39;00m \u001b[38;5;28mself\u001b[39m\u001b[38;5;241m.\u001b[39m_values[label]\n\u001b[0;32m   1155\u001b[0m \u001b[38;5;66;03m# Similar to Index.get_value, but we do not fall back to positional\u001b[39;00m\n\u001b[1;32m-> 1156\u001b[0m loc \u001b[38;5;241m=\u001b[39m \u001b[38;5;28;43mself\u001b[39;49m\u001b[38;5;241;43m.\u001b[39;49m\u001b[43mindex\u001b[49m\u001b[38;5;241;43m.\u001b[39;49m\u001b[43mget_loc\u001b[49m\u001b[43m(\u001b[49m\u001b[43mlabel\u001b[49m\u001b[43m)\u001b[49m\n\u001b[0;32m   1158\u001b[0m \u001b[38;5;28;01mif\u001b[39;00m is_integer(loc):\n\u001b[0;32m   1159\u001b[0m     \u001b[38;5;28;01mreturn\u001b[39;00m \u001b[38;5;28mself\u001b[39m\u001b[38;5;241m.\u001b[39m_values[loc]\n",
      "File \u001b[1;32m~\\AppData\\Local\\Programs\\Python\\Python311\\Lib\\site-packages\\pandas\\core\\indexes\\base.py:3798\u001b[0m, in \u001b[0;36mIndex.get_loc\u001b[1;34m(self, key)\u001b[0m\n\u001b[0;32m   3793\u001b[0m     \u001b[38;5;28;01mif\u001b[39;00m \u001b[38;5;28misinstance\u001b[39m(casted_key, \u001b[38;5;28mslice\u001b[39m) \u001b[38;5;129;01mor\u001b[39;00m (\n\u001b[0;32m   3794\u001b[0m         \u001b[38;5;28misinstance\u001b[39m(casted_key, abc\u001b[38;5;241m.\u001b[39mIterable)\n\u001b[0;32m   3795\u001b[0m         \u001b[38;5;129;01mand\u001b[39;00m \u001b[38;5;28many\u001b[39m(\u001b[38;5;28misinstance\u001b[39m(x, \u001b[38;5;28mslice\u001b[39m) \u001b[38;5;28;01mfor\u001b[39;00m x \u001b[38;5;129;01min\u001b[39;00m casted_key)\n\u001b[0;32m   3796\u001b[0m     ):\n\u001b[0;32m   3797\u001b[0m         \u001b[38;5;28;01mraise\u001b[39;00m InvalidIndexError(key)\n\u001b[1;32m-> 3798\u001b[0m     \u001b[38;5;28;01mraise\u001b[39;00m \u001b[38;5;167;01mKeyError\u001b[39;00m(key) \u001b[38;5;28;01mfrom\u001b[39;00m \u001b[38;5;21;01merr\u001b[39;00m\n\u001b[0;32m   3799\u001b[0m \u001b[38;5;28;01mexcept\u001b[39;00m \u001b[38;5;167;01mTypeError\u001b[39;00m:\n\u001b[0;32m   3800\u001b[0m     \u001b[38;5;66;03m# If we have a listlike key, _check_indexing_error will raise\u001b[39;00m\n\u001b[0;32m   3801\u001b[0m     \u001b[38;5;66;03m#  InvalidIndexError. Otherwise we fall through and re-raise\u001b[39;00m\n\u001b[0;32m   3802\u001b[0m     \u001b[38;5;66;03m#  the TypeError.\u001b[39;00m\n\u001b[0;32m   3803\u001b[0m     \u001b[38;5;28mself\u001b[39m\u001b[38;5;241m.\u001b[39m_check_indexing_error(key)\n",
      "\u001b[1;31mKeyError\u001b[0m: 'Charmender'"
     ]
    }
   ],
   "source": [
    "pokemon['Charmender']"
   ]
  },
  {
   "cell_type": "code",
   "execution_count": 187,
   "id": "b25dc593",
   "metadata": {},
   "outputs": [
    {
     "name": "stderr",
     "output_type": "stream",
     "text": [
      "C:\\Users\\HU496FA\\AppData\\Local\\Temp\\ipykernel_13372\\2723385121.py:1: FutureWarning: Series.__getitem__ treating keys as positions is deprecated. In a future version, integer keys will always be treated as labels (consistent with DataFrame behavior). To access a value by position, use `ser.iloc[pos]`\n",
      "  pokemon[100]\n"
     ]
    },
    {
     "data": {
      "text/plain": [
       "'Electric'"
      ]
     },
     "execution_count": 187,
     "metadata": {},
     "output_type": "execute_result"
    }
   ],
   "source": [
    "pokemon[100]"
   ]
  },
  {
   "cell_type": "code",
   "execution_count": 188,
   "id": "ebd93848",
   "metadata": {},
   "outputs": [
    {
     "name": "stderr",
     "output_type": "stream",
     "text": [
      "C:\\Users\\HU496FA\\AppData\\Local\\Temp\\ipykernel_13372\\1425742977.py:1: FutureWarning: Series.__getitem__ treating keys as positions is deprecated. In a future version, integer keys will always be treated as labels (consistent with DataFrame behavior). To access a value by position, use `ser.iloc[pos]`\n",
      "  pokemon[1000000]\n"
     ]
    },
    {
     "ename": "IndexError",
     "evalue": "index 1000000 is out of bounds for axis 0 with size 1010",
     "output_type": "error",
     "traceback": [
      "\u001b[1;31m---------------------------------------------------------------------------\u001b[0m",
      "\u001b[1;31mIndexError\u001b[0m                                Traceback (most recent call last)",
      "Cell \u001b[1;32mIn[188], line 1\u001b[0m\n\u001b[1;32m----> 1\u001b[0m \u001b[43mpokemon\u001b[49m\u001b[43m[\u001b[49m\u001b[38;5;241;43m1000000\u001b[39;49m\u001b[43m]\u001b[49m\n",
      "File \u001b[1;32m~\\AppData\\Local\\Programs\\Python\\Python311\\Lib\\site-packages\\pandas\\core\\series.py:1037\u001b[0m, in \u001b[0;36mSeries.__getitem__\u001b[1;34m(self, key)\u001b[0m\n\u001b[0;32m   1027\u001b[0m \u001b[38;5;28;01mif\u001b[39;00m is_integer(key) \u001b[38;5;129;01mand\u001b[39;00m \u001b[38;5;28mself\u001b[39m\u001b[38;5;241m.\u001b[39mindex\u001b[38;5;241m.\u001b[39m_should_fallback_to_positional:\n\u001b[0;32m   1028\u001b[0m     warnings\u001b[38;5;241m.\u001b[39mwarn(\n\u001b[0;32m   1029\u001b[0m         \u001b[38;5;66;03m# GH#50617\u001b[39;00m\n\u001b[0;32m   1030\u001b[0m         \u001b[38;5;124m\"\u001b[39m\u001b[38;5;124mSeries.__getitem__ treating keys as positions is deprecated. \u001b[39m\u001b[38;5;124m\"\u001b[39m\n\u001b[1;32m   (...)\u001b[0m\n\u001b[0;32m   1035\u001b[0m         stacklevel\u001b[38;5;241m=\u001b[39mfind_stack_level(),\n\u001b[0;32m   1036\u001b[0m     )\n\u001b[1;32m-> 1037\u001b[0m     \u001b[38;5;28;01mreturn\u001b[39;00m \u001b[38;5;28;43mself\u001b[39;49m\u001b[38;5;241;43m.\u001b[39;49m\u001b[43m_values\u001b[49m\u001b[43m[\u001b[49m\u001b[43mkey\u001b[49m\u001b[43m]\u001b[49m\n\u001b[0;32m   1039\u001b[0m \u001b[38;5;28;01melif\u001b[39;00m key_is_scalar:\n\u001b[0;32m   1040\u001b[0m     \u001b[38;5;28;01mreturn\u001b[39;00m \u001b[38;5;28mself\u001b[39m\u001b[38;5;241m.\u001b[39m_get_value(key)\n",
      "\u001b[1;31mIndexError\u001b[0m: index 1000000 is out of bounds for axis 0 with size 1010"
     ]
    }
   ],
   "source": [
    "pokemon[1000000]"
   ]
  },
  {
   "cell_type": "code",
   "execution_count": 189,
   "id": "1b7f182f",
   "metadata": {},
   "outputs": [
    {
     "data": {
      "text/plain": [
       "Name\n",
       "Bulbasaur          Grass, Poison\n",
       "Ivysaur            Grass, Poison\n",
       "Venusaur           Grass, Poison\n",
       "Charmander                  Fire\n",
       "Charmeleon                  Fire\n",
       "                      ...       \n",
       "Iron Valiant     Fairy, Fighting\n",
       "Koraidon        Fighting, Dragon\n",
       "Miraidon        Electric, Dragon\n",
       "Walking Wake       Water, Dragon\n",
       "Iron Leaves       Grass, Psychic\n",
       "Name: Type, Length: 1010, dtype: object"
      ]
     },
     "execution_count": 189,
     "metadata": {},
     "output_type": "execute_result"
    }
   ],
   "source": [
    "pokemon"
   ]
  },
  {
   "cell_type": "code",
   "execution_count": 191,
   "id": "715edd7c",
   "metadata": {},
   "outputs": [],
   "source": [
    "pokemon.get('Boobasaur')"
   ]
  },
  {
   "cell_type": "code",
   "execution_count": 192,
   "id": "0f701e9a",
   "metadata": {},
   "outputs": [
    {
     "name": "stderr",
     "output_type": "stream",
     "text": [
      "C:\\Users\\HU496FA\\AppData\\Local\\Temp\\ipykernel_13372\\3488640322.py:1: FutureWarning: Series.__getitem__ treating keys as positions is deprecated. In a future version, integer keys will always be treated as labels (consistent with DataFrame behavior). To access a value by position, use `ser.iloc[pos]`\n",
      "  pokemon.get(0)\n"
     ]
    },
    {
     "data": {
      "text/plain": [
       "'Grass, Poison'"
      ]
     },
     "execution_count": 192,
     "metadata": {},
     "output_type": "execute_result"
    }
   ],
   "source": [
    "pokemon.get(0)"
   ]
  },
  {
   "cell_type": "code",
   "execution_count": 193,
   "id": "e9022e5f",
   "metadata": {},
   "outputs": [
    {
     "data": {
      "text/plain": [
       "'The key was not found'"
      ]
     },
     "execution_count": 193,
     "metadata": {},
     "output_type": "execute_result"
    }
   ],
   "source": [
    "pokemon.get('Boobasaur', default = 'The key was not found') # default = None"
   ]
  },
  {
   "cell_type": "code",
   "execution_count": 196,
   "id": "8df7bdec",
   "metadata": {},
   "outputs": [
    {
     "data": {
      "text/plain": [
       "Name\n",
       "Bulbasaur       Grass, Poison\n",
       "Iron Leaves    Grass, Psychic\n",
       "Name: Type, dtype: object"
      ]
     },
     "execution_count": 196,
     "metadata": {},
     "output_type": "execute_result"
    }
   ],
   "source": [
    "pokemon.get(['Bulbasaur', 'Iron Leaves'])"
   ]
  },
  {
   "cell_type": "code",
   "execution_count": 197,
   "id": "ad99d28a",
   "metadata": {},
   "outputs": [
    {
     "data": {
      "text/plain": [
       "'One of the keys was missing so no answer 😊'"
      ]
     },
     "execution_count": 197,
     "metadata": {},
     "output_type": "execute_result"
    }
   ],
   "source": [
    "pokemon.get(['Bulbasaur', 'Iron Leaves', 'Nonsense'], default = 'One of the keys was missing so no answer 😊')"
   ]
  },
  {
   "cell_type": "markdown",
   "id": "6eb36bb6",
   "metadata": {},
   "source": [
    "# apply() and map()\n",
    "    apply() method takes a function and evaluate thats function for each value in the series."
   ]
  },
  {
   "cell_type": "code",
   "execution_count": 198,
   "id": "32327ccc",
   "metadata": {},
   "outputs": [
    {
     "data": {
      "text/plain": [
       "0          Bulbasaur\n",
       "1            Ivysaur\n",
       "2           Venusaur\n",
       "3         Charmander\n",
       "4         Charmeleon\n",
       "            ...     \n",
       "1005    Iron Valiant\n",
       "1006        Koraidon\n",
       "1007        Miraidon\n",
       "1008    Walking Wake\n",
       "1009     Iron Leaves\n",
       "Name: Name, Length: 1010, dtype: object"
      ]
     },
     "execution_count": 198,
     "metadata": {},
     "output_type": "execute_result"
    }
   ],
   "source": [
    "pokemon = pd.read_csv('datasets/pokemon.csv', usecols = [0]).squeeze(True)\n",
    "pokemon"
   ]
  },
  {
   "cell_type": "code",
   "execution_count": 199,
   "id": "ce7b1db2",
   "metadata": {},
   "outputs": [
    {
     "data": {
      "text/plain": [
       "0        9\n",
       "1        7\n",
       "2        8\n",
       "3       10\n",
       "4       10\n",
       "        ..\n",
       "1005    12\n",
       "1006     8\n",
       "1007     8\n",
       "1008    12\n",
       "1009    11\n",
       "Name: Name, Length: 1010, dtype: int64"
      ]
     },
     "execution_count": 199,
     "metadata": {},
     "output_type": "execute_result"
    }
   ],
   "source": [
    "# apply() method\n",
    "pokemon.apply(len)"
   ]
  },
  {
   "cell_type": "code",
   "execution_count": 200,
   "id": "e34bedf9",
   "metadata": {},
   "outputs": [
    {
     "data": {
      "text/plain": [
       "0          Bulbasaur\n",
       "1            Ivysaur\n",
       "2           Venusaur\n",
       "3         Charmander\n",
       "4         Charmeleon\n",
       "            ...     \n",
       "1005    Iron Valiant\n",
       "1006        Koraidon\n",
       "1007        Miraidon\n",
       "1008    Walking Wake\n",
       "1009     Iron Leaves\n",
       "Name: Name, Length: 1010, dtype: object"
      ]
     },
     "execution_count": 200,
     "metadata": {},
     "output_type": "execute_result"
    }
   ],
   "source": [
    "pokemon"
   ]
  },
  {
   "cell_type": "code",
   "execution_count": 201,
   "id": "9c13e15f",
   "metadata": {},
   "outputs": [
    {
     "data": {
      "text/plain": [
       "0       2\n",
       "1       1\n",
       "2       1\n",
       "3       2\n",
       "4       1\n",
       "       ..\n",
       "1005    2\n",
       "1006    1\n",
       "1007    1\n",
       "1008    2\n",
       "1009    1\n",
       "Name: Name, Length: 1010, dtype: int64"
      ]
     },
     "execution_count": 201,
     "metadata": {},
     "output_type": "execute_result"
    }
   ],
   "source": [
    "pokemon.apply(lambda name : name.count('a'))"
   ]
  },
  {
   "cell_type": "code",
   "execution_count": 202,
   "id": "c1abafee",
   "metadata": {},
   "outputs": [],
   "source": [
    "# map() method is used for mapping the values"
   ]
  },
  {
   "cell_type": "code",
   "execution_count": 207,
   "id": "c468a418",
   "metadata": {},
   "outputs": [
    {
     "data": {
      "text/plain": [
       "Name\n",
       "Bulbasaur     Grass, Poison\n",
       "Ivysaur       Grass, Poison\n",
       "Venusaur      Grass, Poison\n",
       "Charmander             Fire\n",
       "Charmeleon             Fire\n",
       "Charizard      Fire, Flying\n",
       "Squirtle              Water\n",
       "Wartortle             Water\n",
       "Blastoise             Water\n",
       "Caterpie                Bug\n",
       "Name: Type, dtype: object"
      ]
     },
     "execution_count": 207,
     "metadata": {},
     "output_type": "execute_result"
    }
   ],
   "source": [
    "pokemon = pd.read_csv('datasets/pokemon.csv', index_col = [0]).squeeze(True).head(10)\n",
    "pokemon"
   ]
  },
  {
   "cell_type": "code",
   "execution_count": 209,
   "id": "91eea258",
   "metadata": {},
   "outputs": [],
   "source": [
    "mapped_pokemons = pokemon.map({\n",
    "    'Grass, Poison': 'GP', \n",
    "    'Fire' : 'F',\n",
    "    'Water' : 'W'\n",
    "})"
   ]
  },
  {
   "cell_type": "code",
   "execution_count": 210,
   "id": "230b4102",
   "metadata": {},
   "outputs": [
    {
     "data": {
      "text/plain": [
       "Name\n",
       "Bulbasaur      GP\n",
       "Ivysaur        GP\n",
       "Venusaur       GP\n",
       "Charmander      F\n",
       "Charmeleon      F\n",
       "Charizard     NaN\n",
       "Squirtle        W\n",
       "Wartortle       W\n",
       "Blastoise       W\n",
       "Caterpie      NaN\n",
       "Name: Type, dtype: object"
      ]
     },
     "execution_count": 210,
     "metadata": {},
     "output_type": "execute_result"
    }
   ],
   "source": [
    "mapped_pokemons"
   ]
  },
  {
   "cell_type": "code",
   "execution_count": 211,
   "id": "93da096a",
   "metadata": {},
   "outputs": [
    {
     "data": {
      "text/plain": [
       "10"
      ]
     },
     "execution_count": 211,
     "metadata": {},
     "output_type": "execute_result"
    }
   ],
   "source": [
    "mapped_pokemons.size"
   ]
  },
  {
   "cell_type": "code",
   "execution_count": 212,
   "id": "af928ab2",
   "metadata": {},
   "outputs": [
    {
     "data": {
      "text/plain": [
       "8"
      ]
     },
     "execution_count": 212,
     "metadata": {},
     "output_type": "execute_result"
    }
   ],
   "source": [
    "mapped_pokemons.count()"
   ]
  },
  {
   "cell_type": "markdown",
   "id": "4701ad49",
   "metadata": {},
   "source": [
    "# Dataframes"
   ]
  },
  {
   "cell_type": "code",
   "execution_count": 1,
   "id": "816e2bba",
   "metadata": {},
   "outputs": [],
   "source": [
    "import numpy as np\n",
    "import pandas as pd"
   ]
  },
  {
   "cell_type": "code",
   "execution_count": 2,
   "id": "efca7dc6",
   "metadata": {},
   "outputs": [
    {
     "data": {
      "text/html": [
       "<div>\n",
       "<style scoped>\n",
       "    .dataframe tbody tr th:only-of-type {\n",
       "        vertical-align: middle;\n",
       "    }\n",
       "\n",
       "    .dataframe tbody tr th {\n",
       "        vertical-align: top;\n",
       "    }\n",
       "\n",
       "    .dataframe thead th {\n",
       "        text-align: right;\n",
       "    }\n",
       "</style>\n",
       "<table border=\"1\" class=\"dataframe\">\n",
       "  <thead>\n",
       "    <tr style=\"text-align: right;\">\n",
       "      <th></th>\n",
       "      <th>Name</th>\n",
       "      <th>Team</th>\n",
       "      <th>Position</th>\n",
       "      <th>Height</th>\n",
       "      <th>Weight</th>\n",
       "      <th>College</th>\n",
       "      <th>Salary</th>\n",
       "    </tr>\n",
       "  </thead>\n",
       "  <tbody>\n",
       "    <tr>\n",
       "      <th>0</th>\n",
       "      <td>Saddiq Bey</td>\n",
       "      <td>Atlanta Hawks</td>\n",
       "      <td>F</td>\n",
       "      <td>6-7</td>\n",
       "      <td>215.0</td>\n",
       "      <td>Villanova</td>\n",
       "      <td>4556983.0</td>\n",
       "    </tr>\n",
       "    <tr>\n",
       "      <th>1</th>\n",
       "      <td>Bogdan Bogdanovic</td>\n",
       "      <td>Atlanta Hawks</td>\n",
       "      <td>G</td>\n",
       "      <td>6-5</td>\n",
       "      <td>225.0</td>\n",
       "      <td>Fenerbahce</td>\n",
       "      <td>18700000.0</td>\n",
       "    </tr>\n",
       "    <tr>\n",
       "      <th>2</th>\n",
       "      <td>Kobe Bufkin</td>\n",
       "      <td>Atlanta Hawks</td>\n",
       "      <td>G</td>\n",
       "      <td>6-5</td>\n",
       "      <td>195.0</td>\n",
       "      <td>Michigan</td>\n",
       "      <td>4094244.0</td>\n",
       "    </tr>\n",
       "    <tr>\n",
       "      <th>3</th>\n",
       "      <td>Clint Capela</td>\n",
       "      <td>Atlanta Hawks</td>\n",
       "      <td>C</td>\n",
       "      <td>6-10</td>\n",
       "      <td>256.0</td>\n",
       "      <td>Elan Chalon</td>\n",
       "      <td>20616000.0</td>\n",
       "    </tr>\n",
       "    <tr>\n",
       "      <th>4</th>\n",
       "      <td>Bruno Fernando</td>\n",
       "      <td>Atlanta Hawks</td>\n",
       "      <td>F-C</td>\n",
       "      <td>6-10</td>\n",
       "      <td>240.0</td>\n",
       "      <td>Maryland</td>\n",
       "      <td>2581522.0</td>\n",
       "    </tr>\n",
       "    <tr>\n",
       "      <th>...</th>\n",
       "      <td>...</td>\n",
       "      <td>...</td>\n",
       "      <td>...</td>\n",
       "      <td>...</td>\n",
       "      <td>...</td>\n",
       "      <td>...</td>\n",
       "      <td>...</td>\n",
       "    </tr>\n",
       "    <tr>\n",
       "      <th>587</th>\n",
       "      <td>Ryan Rollins</td>\n",
       "      <td>Washington Wizards</td>\n",
       "      <td>G</td>\n",
       "      <td>6-3</td>\n",
       "      <td>180.0</td>\n",
       "      <td>Toledo</td>\n",
       "      <td>1719864.0</td>\n",
       "    </tr>\n",
       "    <tr>\n",
       "      <th>588</th>\n",
       "      <td>Landry Shamet</td>\n",
       "      <td>Washington Wizards</td>\n",
       "      <td>G</td>\n",
       "      <td>6-4</td>\n",
       "      <td>190.0</td>\n",
       "      <td>Wichita State</td>\n",
       "      <td>10250000.0</td>\n",
       "    </tr>\n",
       "    <tr>\n",
       "      <th>589</th>\n",
       "      <td>Tristan Vukcevic</td>\n",
       "      <td>Washington Wizards</td>\n",
       "      <td>F</td>\n",
       "      <td>6-10</td>\n",
       "      <td>220.0</td>\n",
       "      <td>Real Madrid</td>\n",
       "      <td>NaN</td>\n",
       "    </tr>\n",
       "    <tr>\n",
       "      <th>590</th>\n",
       "      <td>Delon Wright</td>\n",
       "      <td>Washington Wizards</td>\n",
       "      <td>G</td>\n",
       "      <td>6-5</td>\n",
       "      <td>185.0</td>\n",
       "      <td>Utah</td>\n",
       "      <td>8195122.0</td>\n",
       "    </tr>\n",
       "    <tr>\n",
       "      <th>591</th>\n",
       "      <td>NaN</td>\n",
       "      <td>NaN</td>\n",
       "      <td>NaN</td>\n",
       "      <td>NaN</td>\n",
       "      <td>NaN</td>\n",
       "      <td>NaN</td>\n",
       "      <td>NaN</td>\n",
       "    </tr>\n",
       "  </tbody>\n",
       "</table>\n",
       "<p>592 rows × 7 columns</p>\n",
       "</div>"
      ],
      "text/plain": [
       "                  Name                Team Position Height  Weight  \\\n",
       "0           Saddiq Bey       Atlanta Hawks        F    6-7   215.0   \n",
       "1    Bogdan Bogdanovic       Atlanta Hawks        G    6-5   225.0   \n",
       "2          Kobe Bufkin       Atlanta Hawks        G    6-5   195.0   \n",
       "3         Clint Capela       Atlanta Hawks        C   6-10   256.0   \n",
       "4       Bruno Fernando       Atlanta Hawks      F-C   6-10   240.0   \n",
       "..                 ...                 ...      ...    ...     ...   \n",
       "587       Ryan Rollins  Washington Wizards        G    6-3   180.0   \n",
       "588      Landry Shamet  Washington Wizards        G    6-4   190.0   \n",
       "589   Tristan Vukcevic  Washington Wizards        F   6-10   220.0   \n",
       "590       Delon Wright  Washington Wizards        G    6-5   185.0   \n",
       "591                NaN                 NaN      NaN    NaN     NaN   \n",
       "\n",
       "           College      Salary  \n",
       "0        Villanova   4556983.0  \n",
       "1       Fenerbahce  18700000.0  \n",
       "2         Michigan   4094244.0  \n",
       "3      Elan Chalon  20616000.0  \n",
       "4         Maryland   2581522.0  \n",
       "..             ...         ...  \n",
       "587         Toledo   1719864.0  \n",
       "588  Wichita State  10250000.0  \n",
       "589    Real Madrid         NaN  \n",
       "590           Utah   8195122.0  \n",
       "591            NaN         NaN  \n",
       "\n",
       "[592 rows x 7 columns]"
      ]
     },
     "execution_count": 2,
     "metadata": {},
     "output_type": "execute_result"
    }
   ],
   "source": [
    "nba = pd.read_csv('datasets/nba.csv')\n",
    "nba"
   ]
  },
  {
   "cell_type": "code",
   "execution_count": 4,
   "id": "492cd891",
   "metadata": {},
   "outputs": [
    {
     "data": {
      "text/plain": [
       "0          Bulbasaur\n",
       "1            Ivysaur\n",
       "2           Venusaur\n",
       "3         Charmander\n",
       "4         Charmeleon\n",
       "            ...     \n",
       "1005    Iron Valiant\n",
       "1006        Koraidon\n",
       "1007        Miraidon\n",
       "1008    Walking Wake\n",
       "1009     Iron Leaves\n",
       "Name: Name, Length: 1010, dtype: object"
      ]
     },
     "execution_count": 4,
     "metadata": {},
     "output_type": "execute_result"
    }
   ],
   "source": [
    "s = pd.read_csv('datasets/pokemon.csv', usecols = [0]).squeeze(True)\n",
    "s"
   ]
  },
  {
   "cell_type": "code",
   "execution_count": 6,
   "id": "751f79d9",
   "metadata": {},
   "outputs": [
    {
     "data": {
      "text/plain": [
       "RangeIndex(start=0, stop=592, step=1)"
      ]
     },
     "execution_count": 6,
     "metadata": {},
     "output_type": "execute_result"
    }
   ],
   "source": [
    "s.index\n",
    "nba.index"
   ]
  },
  {
   "cell_type": "code",
   "execution_count": 9,
   "id": "d00e93c5",
   "metadata": {},
   "outputs": [
    {
     "data": {
      "text/plain": [
       "Index(['Name', 'Team', 'Position', 'Height', 'Weight', 'College', 'Salary'], dtype='object')"
      ]
     },
     "execution_count": 9,
     "metadata": {},
     "output_type": "execute_result"
    }
   ],
   "source": [
    "# s.columns\n",
    "nba.columns"
   ]
  },
  {
   "cell_type": "code",
   "execution_count": 11,
   "id": "6626812e",
   "metadata": {},
   "outputs": [
    {
     "data": {
      "text/plain": [
       "4144"
      ]
     },
     "execution_count": 11,
     "metadata": {},
     "output_type": "execute_result"
    }
   ],
   "source": [
    "s.size\n",
    "nba.size"
   ]
  },
  {
   "cell_type": "code",
   "execution_count": 13,
   "id": "89e0d5e1",
   "metadata": {},
   "outputs": [
    {
     "data": {
      "text/plain": [
       "(592, 7)"
      ]
     },
     "execution_count": 13,
     "metadata": {},
     "output_type": "execute_result"
    }
   ],
   "source": [
    "s.shape\n",
    "nba.shape"
   ]
  },
  {
   "cell_type": "code",
   "execution_count": 15,
   "id": "d5559f01",
   "metadata": {},
   "outputs": [
    {
     "data": {
      "text/plain": [
       "Name         object\n",
       "Team         object\n",
       "Position     object\n",
       "Height       object\n",
       "Weight      float64\n",
       "College      object\n",
       "Salary      float64\n",
       "dtype: object"
      ]
     },
     "execution_count": 15,
     "metadata": {},
     "output_type": "execute_result"
    }
   ],
   "source": [
    "s.dtype\n",
    "nba.dtypes"
   ]
  },
  {
   "cell_type": "code",
   "execution_count": 18,
   "id": "c3977331",
   "metadata": {},
   "outputs": [
    {
     "name": "stdout",
     "output_type": "stream",
     "text": [
      "<class 'pandas.core.series.Series'>\n",
      "RangeIndex: 1010 entries, 0 to 1009\n",
      "Series name: Name\n",
      "Non-Null Count  Dtype \n",
      "--------------  ----- \n",
      "1010 non-null   object\n",
      "dtypes: object(1)\n",
      "memory usage: 8.0+ KB\n",
      "None\n",
      "*******************************************************\n",
      "<class 'pandas.core.frame.DataFrame'>\n",
      "RangeIndex: 592 entries, 0 to 591\n",
      "Data columns (total 7 columns):\n",
      " #   Column    Non-Null Count  Dtype  \n",
      "---  ------    --------------  -----  \n",
      " 0   Name      591 non-null    object \n",
      " 1   Team      591 non-null    object \n",
      " 2   Position  584 non-null    object \n",
      " 3   Height    585 non-null    object \n",
      " 4   Weight    584 non-null    float64\n",
      " 5   College   578 non-null    object \n",
      " 6   Salary    488 non-null    float64\n",
      "dtypes: float64(2), object(5)\n",
      "memory usage: 32.5+ KB\n"
     ]
    }
   ],
   "source": [
    "print(s.info())\n",
    "print('*' * 55)\n",
    "nba.info()"
   ]
  },
  {
   "cell_type": "code",
   "execution_count": 19,
   "id": "73cce332",
   "metadata": {},
   "outputs": [
    {
     "data": {
      "text/plain": [
       "count          1010\n",
       "unique         1010\n",
       "top       Bulbasaur\n",
       "freq              1\n",
       "Name: Name, dtype: object"
      ]
     },
     "execution_count": 19,
     "metadata": {},
     "output_type": "execute_result"
    }
   ],
   "source": [
    "s.describe()"
   ]
  },
  {
   "cell_type": "code",
   "execution_count": 21,
   "id": "313eaf3e",
   "metadata": {},
   "outputs": [
    {
     "data": {
      "text/html": [
       "<div>\n",
       "<style scoped>\n",
       "    .dataframe tbody tr th:only-of-type {\n",
       "        vertical-align: middle;\n",
       "    }\n",
       "\n",
       "    .dataframe tbody tr th {\n",
       "        vertical-align: top;\n",
       "    }\n",
       "\n",
       "    .dataframe thead th {\n",
       "        text-align: right;\n",
       "    }\n",
       "</style>\n",
       "<table border=\"1\" class=\"dataframe\">\n",
       "  <thead>\n",
       "    <tr style=\"text-align: right;\">\n",
       "      <th></th>\n",
       "      <th>Name</th>\n",
       "      <th>Team</th>\n",
       "      <th>Position</th>\n",
       "      <th>Height</th>\n",
       "      <th>Weight</th>\n",
       "      <th>College</th>\n",
       "      <th>Salary</th>\n",
       "    </tr>\n",
       "  </thead>\n",
       "  <tbody>\n",
       "    <tr>\n",
       "      <th>0</th>\n",
       "      <td>Saddiq Bey</td>\n",
       "      <td>Atlanta Hawks</td>\n",
       "      <td>F</td>\n",
       "      <td>6-7</td>\n",
       "      <td>215.0</td>\n",
       "      <td>Villanova</td>\n",
       "      <td>4556983.0</td>\n",
       "    </tr>\n",
       "    <tr>\n",
       "      <th>1</th>\n",
       "      <td>Bogdan Bogdanovic</td>\n",
       "      <td>Atlanta Hawks</td>\n",
       "      <td>G</td>\n",
       "      <td>6-5</td>\n",
       "      <td>225.0</td>\n",
       "      <td>Fenerbahce</td>\n",
       "      <td>18700000.0</td>\n",
       "    </tr>\n",
       "    <tr>\n",
       "      <th>2</th>\n",
       "      <td>Kobe Bufkin</td>\n",
       "      <td>Atlanta Hawks</td>\n",
       "      <td>G</td>\n",
       "      <td>6-5</td>\n",
       "      <td>195.0</td>\n",
       "      <td>Michigan</td>\n",
       "      <td>4094244.0</td>\n",
       "    </tr>\n",
       "    <tr>\n",
       "      <th>3</th>\n",
       "      <td>Clint Capela</td>\n",
       "      <td>Atlanta Hawks</td>\n",
       "      <td>C</td>\n",
       "      <td>6-10</td>\n",
       "      <td>256.0</td>\n",
       "      <td>Elan Chalon</td>\n",
       "      <td>20616000.0</td>\n",
       "    </tr>\n",
       "    <tr>\n",
       "      <th>4</th>\n",
       "      <td>Bruno Fernando</td>\n",
       "      <td>Atlanta Hawks</td>\n",
       "      <td>F-C</td>\n",
       "      <td>6-10</td>\n",
       "      <td>240.0</td>\n",
       "      <td>Maryland</td>\n",
       "      <td>2581522.0</td>\n",
       "    </tr>\n",
       "    <tr>\n",
       "      <th>...</th>\n",
       "      <td>...</td>\n",
       "      <td>...</td>\n",
       "      <td>...</td>\n",
       "      <td>...</td>\n",
       "      <td>...</td>\n",
       "      <td>...</td>\n",
       "      <td>...</td>\n",
       "    </tr>\n",
       "    <tr>\n",
       "      <th>587</th>\n",
       "      <td>Ryan Rollins</td>\n",
       "      <td>Washington Wizards</td>\n",
       "      <td>G</td>\n",
       "      <td>6-3</td>\n",
       "      <td>180.0</td>\n",
       "      <td>Toledo</td>\n",
       "      <td>1719864.0</td>\n",
       "    </tr>\n",
       "    <tr>\n",
       "      <th>588</th>\n",
       "      <td>Landry Shamet</td>\n",
       "      <td>Washington Wizards</td>\n",
       "      <td>G</td>\n",
       "      <td>6-4</td>\n",
       "      <td>190.0</td>\n",
       "      <td>Wichita State</td>\n",
       "      <td>10250000.0</td>\n",
       "    </tr>\n",
       "    <tr>\n",
       "      <th>589</th>\n",
       "      <td>Tristan Vukcevic</td>\n",
       "      <td>Washington Wizards</td>\n",
       "      <td>F</td>\n",
       "      <td>6-10</td>\n",
       "      <td>220.0</td>\n",
       "      <td>Real Madrid</td>\n",
       "      <td>NaN</td>\n",
       "    </tr>\n",
       "    <tr>\n",
       "      <th>590</th>\n",
       "      <td>Delon Wright</td>\n",
       "      <td>Washington Wizards</td>\n",
       "      <td>G</td>\n",
       "      <td>6-5</td>\n",
       "      <td>185.0</td>\n",
       "      <td>Utah</td>\n",
       "      <td>8195122.0</td>\n",
       "    </tr>\n",
       "    <tr>\n",
       "      <th>591</th>\n",
       "      <td>NaN</td>\n",
       "      <td>NaN</td>\n",
       "      <td>NaN</td>\n",
       "      <td>NaN</td>\n",
       "      <td>NaN</td>\n",
       "      <td>NaN</td>\n",
       "      <td>NaN</td>\n",
       "    </tr>\n",
       "  </tbody>\n",
       "</table>\n",
       "<p>592 rows × 7 columns</p>\n",
       "</div>"
      ],
      "text/plain": [
       "                  Name                Team Position Height  Weight  \\\n",
       "0           Saddiq Bey       Atlanta Hawks        F    6-7   215.0   \n",
       "1    Bogdan Bogdanovic       Atlanta Hawks        G    6-5   225.0   \n",
       "2          Kobe Bufkin       Atlanta Hawks        G    6-5   195.0   \n",
       "3         Clint Capela       Atlanta Hawks        C   6-10   256.0   \n",
       "4       Bruno Fernando       Atlanta Hawks      F-C   6-10   240.0   \n",
       "..                 ...                 ...      ...    ...     ...   \n",
       "587       Ryan Rollins  Washington Wizards        G    6-3   180.0   \n",
       "588      Landry Shamet  Washington Wizards        G    6-4   190.0   \n",
       "589   Tristan Vukcevic  Washington Wizards        F   6-10   220.0   \n",
       "590       Delon Wright  Washington Wizards        G    6-5   185.0   \n",
       "591                NaN                 NaN      NaN    NaN     NaN   \n",
       "\n",
       "           College      Salary  \n",
       "0        Villanova   4556983.0  \n",
       "1       Fenerbahce  18700000.0  \n",
       "2         Michigan   4094244.0  \n",
       "3      Elan Chalon  20616000.0  \n",
       "4         Maryland   2581522.0  \n",
       "..             ...         ...  \n",
       "587         Toledo   1719864.0  \n",
       "588  Wichita State  10250000.0  \n",
       "589    Real Madrid         NaN  \n",
       "590           Utah   8195122.0  \n",
       "591            NaN         NaN  \n",
       "\n",
       "[592 rows x 7 columns]"
      ]
     },
     "execution_count": 21,
     "metadata": {},
     "output_type": "execute_result"
    }
   ],
   "source": [
    "nba"
   ]
  },
  {
   "cell_type": "code",
   "execution_count": 22,
   "id": "310bf8bd",
   "metadata": {},
   "outputs": [
    {
     "data": {
      "text/html": [
       "<div>\n",
       "<style scoped>\n",
       "    .dataframe tbody tr th:only-of-type {\n",
       "        vertical-align: middle;\n",
       "    }\n",
       "\n",
       "    .dataframe tbody tr th {\n",
       "        vertical-align: top;\n",
       "    }\n",
       "\n",
       "    .dataframe thead th {\n",
       "        text-align: right;\n",
       "    }\n",
       "</style>\n",
       "<table border=\"1\" class=\"dataframe\">\n",
       "  <thead>\n",
       "    <tr style=\"text-align: right;\">\n",
       "      <th></th>\n",
       "      <th>Name</th>\n",
       "      <th>Team</th>\n",
       "      <th>Position</th>\n",
       "      <th>Height</th>\n",
       "      <th>Weight</th>\n",
       "      <th>College</th>\n",
       "      <th>Salary</th>\n",
       "    </tr>\n",
       "  </thead>\n",
       "  <tbody>\n",
       "    <tr>\n",
       "      <th>count</th>\n",
       "      <td>591</td>\n",
       "      <td>591</td>\n",
       "      <td>584</td>\n",
       "      <td>585</td>\n",
       "      <td>584.000000</td>\n",
       "      <td>578</td>\n",
       "      <td>4.880000e+02</td>\n",
       "    </tr>\n",
       "    <tr>\n",
       "      <th>unique</th>\n",
       "      <td>591</td>\n",
       "      <td>30</td>\n",
       "      <td>7</td>\n",
       "      <td>20</td>\n",
       "      <td>NaN</td>\n",
       "      <td>182</td>\n",
       "      <td>NaN</td>\n",
       "    </tr>\n",
       "    <tr>\n",
       "      <th>top</th>\n",
       "      <td>Saddiq Bey</td>\n",
       "      <td>Dallas Mavericks</td>\n",
       "      <td>G</td>\n",
       "      <td>6-5</td>\n",
       "      <td>NaN</td>\n",
       "      <td>Kentucky</td>\n",
       "      <td>NaN</td>\n",
       "    </tr>\n",
       "    <tr>\n",
       "      <th>freq</th>\n",
       "      <td>1</td>\n",
       "      <td>23</td>\n",
       "      <td>229</td>\n",
       "      <td>74</td>\n",
       "      <td>NaN</td>\n",
       "      <td>29</td>\n",
       "      <td>NaN</td>\n",
       "    </tr>\n",
       "    <tr>\n",
       "      <th>mean</th>\n",
       "      <td>NaN</td>\n",
       "      <td>NaN</td>\n",
       "      <td>NaN</td>\n",
       "      <td>NaN</td>\n",
       "      <td>214.763699</td>\n",
       "      <td>NaN</td>\n",
       "      <td>9.218978e+06</td>\n",
       "    </tr>\n",
       "    <tr>\n",
       "      <th>std</th>\n",
       "      <td>NaN</td>\n",
       "      <td>NaN</td>\n",
       "      <td>NaN</td>\n",
       "      <td>NaN</td>\n",
       "      <td>23.460612</td>\n",
       "      <td>NaN</td>\n",
       "      <td>1.131927e+07</td>\n",
       "    </tr>\n",
       "    <tr>\n",
       "      <th>min</th>\n",
       "      <td>NaN</td>\n",
       "      <td>NaN</td>\n",
       "      <td>NaN</td>\n",
       "      <td>NaN</td>\n",
       "      <td>160.000000</td>\n",
       "      <td>NaN</td>\n",
       "      <td>5.088910e+05</td>\n",
       "    </tr>\n",
       "    <tr>\n",
       "      <th>25%</th>\n",
       "      <td>NaN</td>\n",
       "      <td>NaN</td>\n",
       "      <td>NaN</td>\n",
       "      <td>NaN</td>\n",
       "      <td>198.000000</td>\n",
       "      <td>NaN</td>\n",
       "      <td>1.980599e+06</td>\n",
       "    </tr>\n",
       "    <tr>\n",
       "      <th>50%</th>\n",
       "      <td>NaN</td>\n",
       "      <td>NaN</td>\n",
       "      <td>NaN</td>\n",
       "      <td>NaN</td>\n",
       "      <td>215.000000</td>\n",
       "      <td>NaN</td>\n",
       "      <td>4.018638e+06</td>\n",
       "    </tr>\n",
       "    <tr>\n",
       "      <th>75%</th>\n",
       "      <td>NaN</td>\n",
       "      <td>NaN</td>\n",
       "      <td>NaN</td>\n",
       "      <td>NaN</td>\n",
       "      <td>230.000000</td>\n",
       "      <td>NaN</td>\n",
       "      <td>1.169694e+07</td>\n",
       "    </tr>\n",
       "    <tr>\n",
       "      <th>max</th>\n",
       "      <td>NaN</td>\n",
       "      <td>NaN</td>\n",
       "      <td>NaN</td>\n",
       "      <td>NaN</td>\n",
       "      <td>290.000000</td>\n",
       "      <td>NaN</td>\n",
       "      <td>5.191562e+07</td>\n",
       "    </tr>\n",
       "  </tbody>\n",
       "</table>\n",
       "</div>"
      ],
      "text/plain": [
       "              Name              Team Position Height      Weight   College  \\\n",
       "count          591               591      584    585  584.000000       578   \n",
       "unique         591                30        7     20         NaN       182   \n",
       "top     Saddiq Bey  Dallas Mavericks        G    6-5         NaN  Kentucky   \n",
       "freq             1                23      229     74         NaN        29   \n",
       "mean           NaN               NaN      NaN    NaN  214.763699       NaN   \n",
       "std            NaN               NaN      NaN    NaN   23.460612       NaN   \n",
       "min            NaN               NaN      NaN    NaN  160.000000       NaN   \n",
       "25%            NaN               NaN      NaN    NaN  198.000000       NaN   \n",
       "50%            NaN               NaN      NaN    NaN  215.000000       NaN   \n",
       "75%            NaN               NaN      NaN    NaN  230.000000       NaN   \n",
       "max            NaN               NaN      NaN    NaN  290.000000       NaN   \n",
       "\n",
       "              Salary  \n",
       "count   4.880000e+02  \n",
       "unique           NaN  \n",
       "top              NaN  \n",
       "freq             NaN  \n",
       "mean    9.218978e+06  \n",
       "std     1.131927e+07  \n",
       "min     5.088910e+05  \n",
       "25%     1.980599e+06  \n",
       "50%     4.018638e+06  \n",
       "75%     1.169694e+07  \n",
       "max     5.191562e+07  "
      ]
     },
     "execution_count": 22,
     "metadata": {},
     "output_type": "execute_result"
    }
   ],
   "source": [
    "nba.describe(include = 'all')"
   ]
  },
  {
   "cell_type": "code",
   "execution_count": 23,
   "id": "46d9bd4e",
   "metadata": {},
   "outputs": [
    {
     "data": {
      "text/plain": [
       "0          Bulbasaur\n",
       "1            Ivysaur\n",
       "2           Venusaur\n",
       "3         Charmander\n",
       "4         Charmeleon\n",
       "            ...     \n",
       "1005    Iron Valiant\n",
       "1006        Koraidon\n",
       "1007        Miraidon\n",
       "1008    Walking Wake\n",
       "1009     Iron Leaves\n",
       "Name: Name, Length: 1010, dtype: object"
      ]
     },
     "execution_count": 23,
     "metadata": {},
     "output_type": "execute_result"
    }
   ],
   "source": [
    "s"
   ]
  },
  {
   "cell_type": "code",
   "execution_count": 24,
   "id": "0b45b348",
   "metadata": {},
   "outputs": [
    {
     "data": {
      "text/plain": [
       "[RangeIndex(start=0, stop=1010, step=1)]"
      ]
     },
     "execution_count": 24,
     "metadata": {},
     "output_type": "execute_result"
    }
   ],
   "source": [
    "s.axes"
   ]
  },
  {
   "cell_type": "code",
   "execution_count": 25,
   "id": "04578a66",
   "metadata": {},
   "outputs": [
    {
     "data": {
      "text/plain": [
       "[RangeIndex(start=0, stop=592, step=1),\n",
       " Index(['Name', 'Team', 'Position', 'Height', 'Weight', 'College', 'Salary'], dtype='object')]"
      ]
     },
     "execution_count": 25,
     "metadata": {},
     "output_type": "execute_result"
    }
   ],
   "source": [
    "nba.axes"
   ]
  },
  {
   "cell_type": "code",
   "execution_count": 26,
   "id": "a9dc83a5",
   "metadata": {},
   "outputs": [
    {
     "data": {
      "text/html": [
       "<div>\n",
       "<style scoped>\n",
       "    .dataframe tbody tr th:only-of-type {\n",
       "        vertical-align: middle;\n",
       "    }\n",
       "\n",
       "    .dataframe tbody tr th {\n",
       "        vertical-align: top;\n",
       "    }\n",
       "\n",
       "    .dataframe thead th {\n",
       "        text-align: right;\n",
       "    }\n",
       "</style>\n",
       "<table border=\"1\" class=\"dataframe\">\n",
       "  <thead>\n",
       "    <tr style=\"text-align: right;\">\n",
       "      <th></th>\n",
       "      <th>Name</th>\n",
       "      <th>Team</th>\n",
       "      <th>Position</th>\n",
       "      <th>Height</th>\n",
       "      <th>Weight</th>\n",
       "      <th>College</th>\n",
       "      <th>Salary</th>\n",
       "    </tr>\n",
       "  </thead>\n",
       "  <tbody>\n",
       "    <tr>\n",
       "      <th>0</th>\n",
       "      <td>Saddiq Bey</td>\n",
       "      <td>Atlanta Hawks</td>\n",
       "      <td>F</td>\n",
       "      <td>6-7</td>\n",
       "      <td>215.0</td>\n",
       "      <td>Villanova</td>\n",
       "      <td>4556983.0</td>\n",
       "    </tr>\n",
       "    <tr>\n",
       "      <th>1</th>\n",
       "      <td>Bogdan Bogdanovic</td>\n",
       "      <td>Atlanta Hawks</td>\n",
       "      <td>G</td>\n",
       "      <td>6-5</td>\n",
       "      <td>225.0</td>\n",
       "      <td>Fenerbahce</td>\n",
       "      <td>18700000.0</td>\n",
       "    </tr>\n",
       "    <tr>\n",
       "      <th>2</th>\n",
       "      <td>Kobe Bufkin</td>\n",
       "      <td>Atlanta Hawks</td>\n",
       "      <td>G</td>\n",
       "      <td>6-5</td>\n",
       "      <td>195.0</td>\n",
       "      <td>Michigan</td>\n",
       "      <td>4094244.0</td>\n",
       "    </tr>\n",
       "    <tr>\n",
       "      <th>3</th>\n",
       "      <td>Clint Capela</td>\n",
       "      <td>Atlanta Hawks</td>\n",
       "      <td>C</td>\n",
       "      <td>6-10</td>\n",
       "      <td>256.0</td>\n",
       "      <td>Elan Chalon</td>\n",
       "      <td>20616000.0</td>\n",
       "    </tr>\n",
       "    <tr>\n",
       "      <th>4</th>\n",
       "      <td>Bruno Fernando</td>\n",
       "      <td>Atlanta Hawks</td>\n",
       "      <td>F-C</td>\n",
       "      <td>6-10</td>\n",
       "      <td>240.0</td>\n",
       "      <td>Maryland</td>\n",
       "      <td>2581522.0</td>\n",
       "    </tr>\n",
       "  </tbody>\n",
       "</table>\n",
       "</div>"
      ],
      "text/plain": [
       "                Name           Team Position Height  Weight      College  \\\n",
       "0         Saddiq Bey  Atlanta Hawks        F    6-7   215.0    Villanova   \n",
       "1  Bogdan Bogdanovic  Atlanta Hawks        G    6-5   225.0   Fenerbahce   \n",
       "2        Kobe Bufkin  Atlanta Hawks        G    6-5   195.0     Michigan   \n",
       "3       Clint Capela  Atlanta Hawks        C   6-10   256.0  Elan Chalon   \n",
       "4     Bruno Fernando  Atlanta Hawks      F-C   6-10   240.0     Maryland   \n",
       "\n",
       "       Salary  \n",
       "0   4556983.0  \n",
       "1  18700000.0  \n",
       "2   4094244.0  \n",
       "3  20616000.0  \n",
       "4   2581522.0  "
      ]
     },
     "execution_count": 26,
     "metadata": {},
     "output_type": "execute_result"
    }
   ],
   "source": [
    "nba.head()"
   ]
  },
  {
   "cell_type": "code",
   "execution_count": 28,
   "id": "973f14d8",
   "metadata": {},
   "outputs": [
    {
     "data": {
      "text/html": [
       "<div>\n",
       "<style scoped>\n",
       "    .dataframe tbody tr th:only-of-type {\n",
       "        vertical-align: middle;\n",
       "    }\n",
       "\n",
       "    .dataframe tbody tr th {\n",
       "        vertical-align: top;\n",
       "    }\n",
       "\n",
       "    .dataframe thead th {\n",
       "        text-align: right;\n",
       "    }\n",
       "</style>\n",
       "<table border=\"1\" class=\"dataframe\">\n",
       "  <thead>\n",
       "    <tr style=\"text-align: right;\">\n",
       "      <th></th>\n",
       "      <th>Name</th>\n",
       "      <th>Team</th>\n",
       "      <th>Position</th>\n",
       "      <th>Height</th>\n",
       "      <th>Weight</th>\n",
       "      <th>College</th>\n",
       "      <th>Salary</th>\n",
       "    </tr>\n",
       "  </thead>\n",
       "  <tbody>\n",
       "    <tr>\n",
       "      <th>589</th>\n",
       "      <td>Tristan Vukcevic</td>\n",
       "      <td>Washington Wizards</td>\n",
       "      <td>F</td>\n",
       "      <td>6-10</td>\n",
       "      <td>220.0</td>\n",
       "      <td>Real Madrid</td>\n",
       "      <td>NaN</td>\n",
       "    </tr>\n",
       "    <tr>\n",
       "      <th>590</th>\n",
       "      <td>Delon Wright</td>\n",
       "      <td>Washington Wizards</td>\n",
       "      <td>G</td>\n",
       "      <td>6-5</td>\n",
       "      <td>185.0</td>\n",
       "      <td>Utah</td>\n",
       "      <td>8195122.0</td>\n",
       "    </tr>\n",
       "    <tr>\n",
       "      <th>591</th>\n",
       "      <td>NaN</td>\n",
       "      <td>NaN</td>\n",
       "      <td>NaN</td>\n",
       "      <td>NaN</td>\n",
       "      <td>NaN</td>\n",
       "      <td>NaN</td>\n",
       "      <td>NaN</td>\n",
       "    </tr>\n",
       "  </tbody>\n",
       "</table>\n",
       "</div>"
      ],
      "text/plain": [
       "                 Name                Team Position Height  Weight  \\\n",
       "589  Tristan Vukcevic  Washington Wizards        F   6-10   220.0   \n",
       "590      Delon Wright  Washington Wizards        G    6-5   185.0   \n",
       "591               NaN                 NaN      NaN    NaN     NaN   \n",
       "\n",
       "         College     Salary  \n",
       "589  Real Madrid        NaN  \n",
       "590         Utah  8195122.0  \n",
       "591          NaN        NaN  "
      ]
     },
     "execution_count": 28,
     "metadata": {},
     "output_type": "execute_result"
    }
   ],
   "source": [
    "nba.tail(n = 3)"
   ]
  },
  {
   "cell_type": "markdown",
   "id": "add3c543",
   "metadata": {},
   "source": [
    "# selecting a single column from a dataframe"
   ]
  },
  {
   "cell_type": "code",
   "execution_count": 29,
   "id": "0244b169",
   "metadata": {},
   "outputs": [
    {
     "data": {
      "text/html": [
       "<div>\n",
       "<style scoped>\n",
       "    .dataframe tbody tr th:only-of-type {\n",
       "        vertical-align: middle;\n",
       "    }\n",
       "\n",
       "    .dataframe tbody tr th {\n",
       "        vertical-align: top;\n",
       "    }\n",
       "\n",
       "    .dataframe thead th {\n",
       "        text-align: right;\n",
       "    }\n",
       "</style>\n",
       "<table border=\"1\" class=\"dataframe\">\n",
       "  <thead>\n",
       "    <tr style=\"text-align: right;\">\n",
       "      <th></th>\n",
       "      <th>Name</th>\n",
       "      <th>Team</th>\n",
       "      <th>Position</th>\n",
       "      <th>Height</th>\n",
       "      <th>Weight</th>\n",
       "      <th>College</th>\n",
       "      <th>Salary</th>\n",
       "    </tr>\n",
       "  </thead>\n",
       "  <tbody>\n",
       "    <tr>\n",
       "      <th>0</th>\n",
       "      <td>Saddiq Bey</td>\n",
       "      <td>Atlanta Hawks</td>\n",
       "      <td>F</td>\n",
       "      <td>6-7</td>\n",
       "      <td>215.0</td>\n",
       "      <td>Villanova</td>\n",
       "      <td>4556983.0</td>\n",
       "    </tr>\n",
       "    <tr>\n",
       "      <th>1</th>\n",
       "      <td>Bogdan Bogdanovic</td>\n",
       "      <td>Atlanta Hawks</td>\n",
       "      <td>G</td>\n",
       "      <td>6-5</td>\n",
       "      <td>225.0</td>\n",
       "      <td>Fenerbahce</td>\n",
       "      <td>18700000.0</td>\n",
       "    </tr>\n",
       "    <tr>\n",
       "      <th>2</th>\n",
       "      <td>Kobe Bufkin</td>\n",
       "      <td>Atlanta Hawks</td>\n",
       "      <td>G</td>\n",
       "      <td>6-5</td>\n",
       "      <td>195.0</td>\n",
       "      <td>Michigan</td>\n",
       "      <td>4094244.0</td>\n",
       "    </tr>\n",
       "    <tr>\n",
       "      <th>3</th>\n",
       "      <td>Clint Capela</td>\n",
       "      <td>Atlanta Hawks</td>\n",
       "      <td>C</td>\n",
       "      <td>6-10</td>\n",
       "      <td>256.0</td>\n",
       "      <td>Elan Chalon</td>\n",
       "      <td>20616000.0</td>\n",
       "    </tr>\n",
       "    <tr>\n",
       "      <th>4</th>\n",
       "      <td>Bruno Fernando</td>\n",
       "      <td>Atlanta Hawks</td>\n",
       "      <td>F-C</td>\n",
       "      <td>6-10</td>\n",
       "      <td>240.0</td>\n",
       "      <td>Maryland</td>\n",
       "      <td>2581522.0</td>\n",
       "    </tr>\n",
       "    <tr>\n",
       "      <th>...</th>\n",
       "      <td>...</td>\n",
       "      <td>...</td>\n",
       "      <td>...</td>\n",
       "      <td>...</td>\n",
       "      <td>...</td>\n",
       "      <td>...</td>\n",
       "      <td>...</td>\n",
       "    </tr>\n",
       "    <tr>\n",
       "      <th>587</th>\n",
       "      <td>Ryan Rollins</td>\n",
       "      <td>Washington Wizards</td>\n",
       "      <td>G</td>\n",
       "      <td>6-3</td>\n",
       "      <td>180.0</td>\n",
       "      <td>Toledo</td>\n",
       "      <td>1719864.0</td>\n",
       "    </tr>\n",
       "    <tr>\n",
       "      <th>588</th>\n",
       "      <td>Landry Shamet</td>\n",
       "      <td>Washington Wizards</td>\n",
       "      <td>G</td>\n",
       "      <td>6-4</td>\n",
       "      <td>190.0</td>\n",
       "      <td>Wichita State</td>\n",
       "      <td>10250000.0</td>\n",
       "    </tr>\n",
       "    <tr>\n",
       "      <th>589</th>\n",
       "      <td>Tristan Vukcevic</td>\n",
       "      <td>Washington Wizards</td>\n",
       "      <td>F</td>\n",
       "      <td>6-10</td>\n",
       "      <td>220.0</td>\n",
       "      <td>Real Madrid</td>\n",
       "      <td>NaN</td>\n",
       "    </tr>\n",
       "    <tr>\n",
       "      <th>590</th>\n",
       "      <td>Delon Wright</td>\n",
       "      <td>Washington Wizards</td>\n",
       "      <td>G</td>\n",
       "      <td>6-5</td>\n",
       "      <td>185.0</td>\n",
       "      <td>Utah</td>\n",
       "      <td>8195122.0</td>\n",
       "    </tr>\n",
       "    <tr>\n",
       "      <th>591</th>\n",
       "      <td>NaN</td>\n",
       "      <td>NaN</td>\n",
       "      <td>NaN</td>\n",
       "      <td>NaN</td>\n",
       "      <td>NaN</td>\n",
       "      <td>NaN</td>\n",
       "      <td>NaN</td>\n",
       "    </tr>\n",
       "  </tbody>\n",
       "</table>\n",
       "<p>592 rows × 7 columns</p>\n",
       "</div>"
      ],
      "text/plain": [
       "                  Name                Team Position Height  Weight  \\\n",
       "0           Saddiq Bey       Atlanta Hawks        F    6-7   215.0   \n",
       "1    Bogdan Bogdanovic       Atlanta Hawks        G    6-5   225.0   \n",
       "2          Kobe Bufkin       Atlanta Hawks        G    6-5   195.0   \n",
       "3         Clint Capela       Atlanta Hawks        C   6-10   256.0   \n",
       "4       Bruno Fernando       Atlanta Hawks      F-C   6-10   240.0   \n",
       "..                 ...                 ...      ...    ...     ...   \n",
       "587       Ryan Rollins  Washington Wizards        G    6-3   180.0   \n",
       "588      Landry Shamet  Washington Wizards        G    6-4   190.0   \n",
       "589   Tristan Vukcevic  Washington Wizards        F   6-10   220.0   \n",
       "590       Delon Wright  Washington Wizards        G    6-5   185.0   \n",
       "591                NaN                 NaN      NaN    NaN     NaN   \n",
       "\n",
       "           College      Salary  \n",
       "0        Villanova   4556983.0  \n",
       "1       Fenerbahce  18700000.0  \n",
       "2         Michigan   4094244.0  \n",
       "3      Elan Chalon  20616000.0  \n",
       "4         Maryland   2581522.0  \n",
       "..             ...         ...  \n",
       "587         Toledo   1719864.0  \n",
       "588  Wichita State  10250000.0  \n",
       "589    Real Madrid         NaN  \n",
       "590           Utah   8195122.0  \n",
       "591            NaN         NaN  \n",
       "\n",
       "[592 rows x 7 columns]"
      ]
     },
     "execution_count": 29,
     "metadata": {},
     "output_type": "execute_result"
    }
   ],
   "source": [
    "nba"
   ]
  },
  {
   "cell_type": "code",
   "execution_count": 37,
   "id": "f1c94646",
   "metadata": {},
   "outputs": [
    {
     "data": {
      "text/plain": [
       "0             Saddiq Bey\n",
       "1      Bogdan Bogdanovic\n",
       "2            Kobe Bufkin\n",
       "3           Clint Capela\n",
       "4         Bruno Fernando\n",
       "             ...        \n",
       "587         Ryan Rollins\n",
       "588        Landry Shamet\n",
       "589     Tristan Vukcevic\n",
       "590         Delon Wright\n",
       "591                  NaN\n",
       "Name: Name, Length: 592, dtype: object"
      ]
     },
     "execution_count": 37,
     "metadata": {},
     "output_type": "execute_result"
    }
   ],
   "source": [
    "nba['Name'].loc[3]\n",
    "nba['Name'].iloc[3]\n",
    "nba['Name'][3]\n",
    "nba['Name']"
   ]
  },
  {
   "cell_type": "code",
   "execution_count": 38,
   "id": "3be8a57a",
   "metadata": {},
   "outputs": [
    {
     "data": {
      "text/html": [
       "<div>\n",
       "<style scoped>\n",
       "    .dataframe tbody tr th:only-of-type {\n",
       "        vertical-align: middle;\n",
       "    }\n",
       "\n",
       "    .dataframe tbody tr th {\n",
       "        vertical-align: top;\n",
       "    }\n",
       "\n",
       "    .dataframe thead th {\n",
       "        text-align: right;\n",
       "    }\n",
       "</style>\n",
       "<table border=\"1\" class=\"dataframe\">\n",
       "  <thead>\n",
       "    <tr style=\"text-align: right;\">\n",
       "      <th></th>\n",
       "      <th>Name</th>\n",
       "      <th>Team</th>\n",
       "      <th>Position</th>\n",
       "      <th>Height</th>\n",
       "      <th>Weight</th>\n",
       "      <th>College</th>\n",
       "      <th>Salary</th>\n",
       "    </tr>\n",
       "  </thead>\n",
       "  <tbody>\n",
       "    <tr>\n",
       "      <th>0</th>\n",
       "      <td>Saddiq Bey</td>\n",
       "      <td>Atlanta Hawks</td>\n",
       "      <td>F</td>\n",
       "      <td>6-7</td>\n",
       "      <td>215.0</td>\n",
       "      <td>Villanova</td>\n",
       "      <td>4556983.0</td>\n",
       "    </tr>\n",
       "    <tr>\n",
       "      <th>1</th>\n",
       "      <td>Bogdan Bogdanovic</td>\n",
       "      <td>Atlanta Hawks</td>\n",
       "      <td>G</td>\n",
       "      <td>6-5</td>\n",
       "      <td>225.0</td>\n",
       "      <td>Fenerbahce</td>\n",
       "      <td>18700000.0</td>\n",
       "    </tr>\n",
       "    <tr>\n",
       "      <th>2</th>\n",
       "      <td>Kobe Bufkin</td>\n",
       "      <td>Atlanta Hawks</td>\n",
       "      <td>G</td>\n",
       "      <td>6-5</td>\n",
       "      <td>195.0</td>\n",
       "      <td>Michigan</td>\n",
       "      <td>4094244.0</td>\n",
       "    </tr>\n",
       "    <tr>\n",
       "      <th>3</th>\n",
       "      <td>Clint Capela</td>\n",
       "      <td>Atlanta Hawks</td>\n",
       "      <td>C</td>\n",
       "      <td>6-10</td>\n",
       "      <td>256.0</td>\n",
       "      <td>Elan Chalon</td>\n",
       "      <td>20616000.0</td>\n",
       "    </tr>\n",
       "    <tr>\n",
       "      <th>4</th>\n",
       "      <td>Bruno Fernando</td>\n",
       "      <td>Atlanta Hawks</td>\n",
       "      <td>F-C</td>\n",
       "      <td>6-10</td>\n",
       "      <td>240.0</td>\n",
       "      <td>Maryland</td>\n",
       "      <td>2581522.0</td>\n",
       "    </tr>\n",
       "    <tr>\n",
       "      <th>...</th>\n",
       "      <td>...</td>\n",
       "      <td>...</td>\n",
       "      <td>...</td>\n",
       "      <td>...</td>\n",
       "      <td>...</td>\n",
       "      <td>...</td>\n",
       "      <td>...</td>\n",
       "    </tr>\n",
       "    <tr>\n",
       "      <th>587</th>\n",
       "      <td>Ryan Rollins</td>\n",
       "      <td>Washington Wizards</td>\n",
       "      <td>G</td>\n",
       "      <td>6-3</td>\n",
       "      <td>180.0</td>\n",
       "      <td>Toledo</td>\n",
       "      <td>1719864.0</td>\n",
       "    </tr>\n",
       "    <tr>\n",
       "      <th>588</th>\n",
       "      <td>Landry Shamet</td>\n",
       "      <td>Washington Wizards</td>\n",
       "      <td>G</td>\n",
       "      <td>6-4</td>\n",
       "      <td>190.0</td>\n",
       "      <td>Wichita State</td>\n",
       "      <td>10250000.0</td>\n",
       "    </tr>\n",
       "    <tr>\n",
       "      <th>589</th>\n",
       "      <td>Tristan Vukcevic</td>\n",
       "      <td>Washington Wizards</td>\n",
       "      <td>F</td>\n",
       "      <td>6-10</td>\n",
       "      <td>220.0</td>\n",
       "      <td>Real Madrid</td>\n",
       "      <td>NaN</td>\n",
       "    </tr>\n",
       "    <tr>\n",
       "      <th>590</th>\n",
       "      <td>Delon Wright</td>\n",
       "      <td>Washington Wizards</td>\n",
       "      <td>G</td>\n",
       "      <td>6-5</td>\n",
       "      <td>185.0</td>\n",
       "      <td>Utah</td>\n",
       "      <td>8195122.0</td>\n",
       "    </tr>\n",
       "    <tr>\n",
       "      <th>591</th>\n",
       "      <td>NaN</td>\n",
       "      <td>NaN</td>\n",
       "      <td>NaN</td>\n",
       "      <td>NaN</td>\n",
       "      <td>NaN</td>\n",
       "      <td>NaN</td>\n",
       "      <td>NaN</td>\n",
       "    </tr>\n",
       "  </tbody>\n",
       "</table>\n",
       "<p>592 rows × 7 columns</p>\n",
       "</div>"
      ],
      "text/plain": [
       "                  Name                Team Position Height  Weight  \\\n",
       "0           Saddiq Bey       Atlanta Hawks        F    6-7   215.0   \n",
       "1    Bogdan Bogdanovic       Atlanta Hawks        G    6-5   225.0   \n",
       "2          Kobe Bufkin       Atlanta Hawks        G    6-5   195.0   \n",
       "3         Clint Capela       Atlanta Hawks        C   6-10   256.0   \n",
       "4       Bruno Fernando       Atlanta Hawks      F-C   6-10   240.0   \n",
       "..                 ...                 ...      ...    ...     ...   \n",
       "587       Ryan Rollins  Washington Wizards        G    6-3   180.0   \n",
       "588      Landry Shamet  Washington Wizards        G    6-4   190.0   \n",
       "589   Tristan Vukcevic  Washington Wizards        F   6-10   220.0   \n",
       "590       Delon Wright  Washington Wizards        G    6-5   185.0   \n",
       "591                NaN                 NaN      NaN    NaN     NaN   \n",
       "\n",
       "           College      Salary  \n",
       "0        Villanova   4556983.0  \n",
       "1       Fenerbahce  18700000.0  \n",
       "2         Michigan   4094244.0  \n",
       "3      Elan Chalon  20616000.0  \n",
       "4         Maryland   2581522.0  \n",
       "..             ...         ...  \n",
       "587         Toledo   1719864.0  \n",
       "588  Wichita State  10250000.0  \n",
       "589    Real Madrid         NaN  \n",
       "590           Utah   8195122.0  \n",
       "591            NaN         NaN  \n",
       "\n",
       "[592 rows x 7 columns]"
      ]
     },
     "execution_count": 38,
     "metadata": {},
     "output_type": "execute_result"
    }
   ],
   "source": [
    "nba"
   ]
  },
  {
   "cell_type": "code",
   "execution_count": 39,
   "id": "3ee7d41f",
   "metadata": {},
   "outputs": [
    {
     "data": {
      "text/plain": [
       "0             Saddiq Bey\n",
       "1      Bogdan Bogdanovic\n",
       "2            Kobe Bufkin\n",
       "3           Clint Capela\n",
       "4         Bruno Fernando\n",
       "             ...        \n",
       "587         Ryan Rollins\n",
       "588        Landry Shamet\n",
       "589     Tristan Vukcevic\n",
       "590         Delon Wright\n",
       "591                  NaN\n",
       "Name: Name, Length: 592, dtype: object"
      ]
     },
     "execution_count": 39,
     "metadata": {},
     "output_type": "execute_result"
    }
   ],
   "source": [
    "names = nba['Name']\n",
    "names # DO NOT MUTATE becoz it is a view"
   ]
  },
  {
   "cell_type": "code",
   "execution_count": 40,
   "id": "dbec9f7d",
   "metadata": {},
   "outputs": [
    {
     "name": "stderr",
     "output_type": "stream",
     "text": [
      "C:\\Users\\HU496FA\\AppData\\Local\\Temp\\ipykernel_7568\\3613814967.py:1: SettingWithCopyWarning: \n",
      "A value is trying to be set on a copy of a slice from a DataFrame\n",
      "\n",
      "See the caveats in the documentation: https://pandas.pydata.org/pandas-docs/stable/user_guide/indexing.html#returning-a-view-versus-a-copy\n",
      "  names[0] = 'Whatever'\n"
     ]
    },
    {
     "data": {
      "text/plain": [
       "0               Whatever\n",
       "1      Bogdan Bogdanovic\n",
       "2            Kobe Bufkin\n",
       "3           Clint Capela\n",
       "4         Bruno Fernando\n",
       "             ...        \n",
       "587         Ryan Rollins\n",
       "588        Landry Shamet\n",
       "589     Tristan Vukcevic\n",
       "590         Delon Wright\n",
       "591                  NaN\n",
       "Name: Name, Length: 592, dtype: object"
      ]
     },
     "execution_count": 40,
     "metadata": {},
     "output_type": "execute_result"
    }
   ],
   "source": [
    "names[0] = 'Whatever'\n",
    "names"
   ]
  },
  {
   "cell_type": "code",
   "execution_count": 41,
   "id": "c47f08a0",
   "metadata": {},
   "outputs": [
    {
     "data": {
      "text/html": [
       "<div>\n",
       "<style scoped>\n",
       "    .dataframe tbody tr th:only-of-type {\n",
       "        vertical-align: middle;\n",
       "    }\n",
       "\n",
       "    .dataframe tbody tr th {\n",
       "        vertical-align: top;\n",
       "    }\n",
       "\n",
       "    .dataframe thead th {\n",
       "        text-align: right;\n",
       "    }\n",
       "</style>\n",
       "<table border=\"1\" class=\"dataframe\">\n",
       "  <thead>\n",
       "    <tr style=\"text-align: right;\">\n",
       "      <th></th>\n",
       "      <th>Name</th>\n",
       "      <th>Team</th>\n",
       "      <th>Position</th>\n",
       "      <th>Height</th>\n",
       "      <th>Weight</th>\n",
       "      <th>College</th>\n",
       "      <th>Salary</th>\n",
       "    </tr>\n",
       "  </thead>\n",
       "  <tbody>\n",
       "    <tr>\n",
       "      <th>0</th>\n",
       "      <td>Whatever</td>\n",
       "      <td>Atlanta Hawks</td>\n",
       "      <td>F</td>\n",
       "      <td>6-7</td>\n",
       "      <td>215.0</td>\n",
       "      <td>Villanova</td>\n",
       "      <td>4556983.0</td>\n",
       "    </tr>\n",
       "    <tr>\n",
       "      <th>1</th>\n",
       "      <td>Bogdan Bogdanovic</td>\n",
       "      <td>Atlanta Hawks</td>\n",
       "      <td>G</td>\n",
       "      <td>6-5</td>\n",
       "      <td>225.0</td>\n",
       "      <td>Fenerbahce</td>\n",
       "      <td>18700000.0</td>\n",
       "    </tr>\n",
       "    <tr>\n",
       "      <th>2</th>\n",
       "      <td>Kobe Bufkin</td>\n",
       "      <td>Atlanta Hawks</td>\n",
       "      <td>G</td>\n",
       "      <td>6-5</td>\n",
       "      <td>195.0</td>\n",
       "      <td>Michigan</td>\n",
       "      <td>4094244.0</td>\n",
       "    </tr>\n",
       "    <tr>\n",
       "      <th>3</th>\n",
       "      <td>Clint Capela</td>\n",
       "      <td>Atlanta Hawks</td>\n",
       "      <td>C</td>\n",
       "      <td>6-10</td>\n",
       "      <td>256.0</td>\n",
       "      <td>Elan Chalon</td>\n",
       "      <td>20616000.0</td>\n",
       "    </tr>\n",
       "    <tr>\n",
       "      <th>4</th>\n",
       "      <td>Bruno Fernando</td>\n",
       "      <td>Atlanta Hawks</td>\n",
       "      <td>F-C</td>\n",
       "      <td>6-10</td>\n",
       "      <td>240.0</td>\n",
       "      <td>Maryland</td>\n",
       "      <td>2581522.0</td>\n",
       "    </tr>\n",
       "    <tr>\n",
       "      <th>...</th>\n",
       "      <td>...</td>\n",
       "      <td>...</td>\n",
       "      <td>...</td>\n",
       "      <td>...</td>\n",
       "      <td>...</td>\n",
       "      <td>...</td>\n",
       "      <td>...</td>\n",
       "    </tr>\n",
       "    <tr>\n",
       "      <th>587</th>\n",
       "      <td>Ryan Rollins</td>\n",
       "      <td>Washington Wizards</td>\n",
       "      <td>G</td>\n",
       "      <td>6-3</td>\n",
       "      <td>180.0</td>\n",
       "      <td>Toledo</td>\n",
       "      <td>1719864.0</td>\n",
       "    </tr>\n",
       "    <tr>\n",
       "      <th>588</th>\n",
       "      <td>Landry Shamet</td>\n",
       "      <td>Washington Wizards</td>\n",
       "      <td>G</td>\n",
       "      <td>6-4</td>\n",
       "      <td>190.0</td>\n",
       "      <td>Wichita State</td>\n",
       "      <td>10250000.0</td>\n",
       "    </tr>\n",
       "    <tr>\n",
       "      <th>589</th>\n",
       "      <td>Tristan Vukcevic</td>\n",
       "      <td>Washington Wizards</td>\n",
       "      <td>F</td>\n",
       "      <td>6-10</td>\n",
       "      <td>220.0</td>\n",
       "      <td>Real Madrid</td>\n",
       "      <td>NaN</td>\n",
       "    </tr>\n",
       "    <tr>\n",
       "      <th>590</th>\n",
       "      <td>Delon Wright</td>\n",
       "      <td>Washington Wizards</td>\n",
       "      <td>G</td>\n",
       "      <td>6-5</td>\n",
       "      <td>185.0</td>\n",
       "      <td>Utah</td>\n",
       "      <td>8195122.0</td>\n",
       "    </tr>\n",
       "    <tr>\n",
       "      <th>591</th>\n",
       "      <td>NaN</td>\n",
       "      <td>NaN</td>\n",
       "      <td>NaN</td>\n",
       "      <td>NaN</td>\n",
       "      <td>NaN</td>\n",
       "      <td>NaN</td>\n",
       "      <td>NaN</td>\n",
       "    </tr>\n",
       "  </tbody>\n",
       "</table>\n",
       "<p>592 rows × 7 columns</p>\n",
       "</div>"
      ],
      "text/plain": [
       "                  Name                Team Position Height  Weight  \\\n",
       "0             Whatever       Atlanta Hawks        F    6-7   215.0   \n",
       "1    Bogdan Bogdanovic       Atlanta Hawks        G    6-5   225.0   \n",
       "2          Kobe Bufkin       Atlanta Hawks        G    6-5   195.0   \n",
       "3         Clint Capela       Atlanta Hawks        C   6-10   256.0   \n",
       "4       Bruno Fernando       Atlanta Hawks      F-C   6-10   240.0   \n",
       "..                 ...                 ...      ...    ...     ...   \n",
       "587       Ryan Rollins  Washington Wizards        G    6-3   180.0   \n",
       "588      Landry Shamet  Washington Wizards        G    6-4   190.0   \n",
       "589   Tristan Vukcevic  Washington Wizards        F   6-10   220.0   \n",
       "590       Delon Wright  Washington Wizards        G    6-5   185.0   \n",
       "591                NaN                 NaN      NaN    NaN     NaN   \n",
       "\n",
       "           College      Salary  \n",
       "0        Villanova   4556983.0  \n",
       "1       Fenerbahce  18700000.0  \n",
       "2         Michigan   4094244.0  \n",
       "3      Elan Chalon  20616000.0  \n",
       "4         Maryland   2581522.0  \n",
       "..             ...         ...  \n",
       "587         Toledo   1719864.0  \n",
       "588  Wichita State  10250000.0  \n",
       "589    Real Madrid         NaN  \n",
       "590           Utah   8195122.0  \n",
       "591            NaN         NaN  \n",
       "\n",
       "[592 rows x 7 columns]"
      ]
     },
     "execution_count": 41,
     "metadata": {},
     "output_type": "execute_result"
    }
   ],
   "source": [
    "nba"
   ]
  },
  {
   "cell_type": "code",
   "execution_count": 42,
   "id": "da29971d",
   "metadata": {},
   "outputs": [
    {
     "name": "stderr",
     "output_type": "stream",
     "text": [
      "C:\\Users\\HU496FA\\AppData\\Local\\Temp\\ipykernel_7568\\1771513265.py:1: SettingWithCopyWarning: \n",
      "A value is trying to be set on a copy of a slice from a DataFrame\n",
      "\n",
      "See the caveats in the documentation: https://pandas.pydata.org/pandas-docs/stable/user_guide/indexing.html#returning-a-view-versus-a-copy\n",
      "  names[0] = 'Saddiq Bey'\n"
     ]
    },
    {
     "data": {
      "text/plain": [
       "0             Saddiq Bey\n",
       "1      Bogdan Bogdanovic\n",
       "2            Kobe Bufkin\n",
       "3           Clint Capela\n",
       "4         Bruno Fernando\n",
       "             ...        \n",
       "587         Ryan Rollins\n",
       "588        Landry Shamet\n",
       "589     Tristan Vukcevic\n",
       "590         Delon Wright\n",
       "591                  NaN\n",
       "Name: Name, Length: 592, dtype: object"
      ]
     },
     "execution_count": 42,
     "metadata": {},
     "output_type": "execute_result"
    }
   ],
   "source": [
    "names[0] = 'Saddiq Bey'\n",
    "names"
   ]
  },
  {
   "cell_type": "code",
   "execution_count": 43,
   "id": "a47a94fd",
   "metadata": {},
   "outputs": [
    {
     "data": {
      "text/html": [
       "<div>\n",
       "<style scoped>\n",
       "    .dataframe tbody tr th:only-of-type {\n",
       "        vertical-align: middle;\n",
       "    }\n",
       "\n",
       "    .dataframe tbody tr th {\n",
       "        vertical-align: top;\n",
       "    }\n",
       "\n",
       "    .dataframe thead th {\n",
       "        text-align: right;\n",
       "    }\n",
       "</style>\n",
       "<table border=\"1\" class=\"dataframe\">\n",
       "  <thead>\n",
       "    <tr style=\"text-align: right;\">\n",
       "      <th></th>\n",
       "      <th>Name</th>\n",
       "      <th>Team</th>\n",
       "      <th>Position</th>\n",
       "      <th>Height</th>\n",
       "      <th>Weight</th>\n",
       "      <th>College</th>\n",
       "      <th>Salary</th>\n",
       "    </tr>\n",
       "  </thead>\n",
       "  <tbody>\n",
       "    <tr>\n",
       "      <th>0</th>\n",
       "      <td>Saddiq Bey</td>\n",
       "      <td>Atlanta Hawks</td>\n",
       "      <td>F</td>\n",
       "      <td>6-7</td>\n",
       "      <td>215.0</td>\n",
       "      <td>Villanova</td>\n",
       "      <td>4556983.0</td>\n",
       "    </tr>\n",
       "    <tr>\n",
       "      <th>1</th>\n",
       "      <td>Bogdan Bogdanovic</td>\n",
       "      <td>Atlanta Hawks</td>\n",
       "      <td>G</td>\n",
       "      <td>6-5</td>\n",
       "      <td>225.0</td>\n",
       "      <td>Fenerbahce</td>\n",
       "      <td>18700000.0</td>\n",
       "    </tr>\n",
       "    <tr>\n",
       "      <th>2</th>\n",
       "      <td>Kobe Bufkin</td>\n",
       "      <td>Atlanta Hawks</td>\n",
       "      <td>G</td>\n",
       "      <td>6-5</td>\n",
       "      <td>195.0</td>\n",
       "      <td>Michigan</td>\n",
       "      <td>4094244.0</td>\n",
       "    </tr>\n",
       "    <tr>\n",
       "      <th>3</th>\n",
       "      <td>Clint Capela</td>\n",
       "      <td>Atlanta Hawks</td>\n",
       "      <td>C</td>\n",
       "      <td>6-10</td>\n",
       "      <td>256.0</td>\n",
       "      <td>Elan Chalon</td>\n",
       "      <td>20616000.0</td>\n",
       "    </tr>\n",
       "    <tr>\n",
       "      <th>4</th>\n",
       "      <td>Bruno Fernando</td>\n",
       "      <td>Atlanta Hawks</td>\n",
       "      <td>F-C</td>\n",
       "      <td>6-10</td>\n",
       "      <td>240.0</td>\n",
       "      <td>Maryland</td>\n",
       "      <td>2581522.0</td>\n",
       "    </tr>\n",
       "    <tr>\n",
       "      <th>...</th>\n",
       "      <td>...</td>\n",
       "      <td>...</td>\n",
       "      <td>...</td>\n",
       "      <td>...</td>\n",
       "      <td>...</td>\n",
       "      <td>...</td>\n",
       "      <td>...</td>\n",
       "    </tr>\n",
       "    <tr>\n",
       "      <th>587</th>\n",
       "      <td>Ryan Rollins</td>\n",
       "      <td>Washington Wizards</td>\n",
       "      <td>G</td>\n",
       "      <td>6-3</td>\n",
       "      <td>180.0</td>\n",
       "      <td>Toledo</td>\n",
       "      <td>1719864.0</td>\n",
       "    </tr>\n",
       "    <tr>\n",
       "      <th>588</th>\n",
       "      <td>Landry Shamet</td>\n",
       "      <td>Washington Wizards</td>\n",
       "      <td>G</td>\n",
       "      <td>6-4</td>\n",
       "      <td>190.0</td>\n",
       "      <td>Wichita State</td>\n",
       "      <td>10250000.0</td>\n",
       "    </tr>\n",
       "    <tr>\n",
       "      <th>589</th>\n",
       "      <td>Tristan Vukcevic</td>\n",
       "      <td>Washington Wizards</td>\n",
       "      <td>F</td>\n",
       "      <td>6-10</td>\n",
       "      <td>220.0</td>\n",
       "      <td>Real Madrid</td>\n",
       "      <td>NaN</td>\n",
       "    </tr>\n",
       "    <tr>\n",
       "      <th>590</th>\n",
       "      <td>Delon Wright</td>\n",
       "      <td>Washington Wizards</td>\n",
       "      <td>G</td>\n",
       "      <td>6-5</td>\n",
       "      <td>185.0</td>\n",
       "      <td>Utah</td>\n",
       "      <td>8195122.0</td>\n",
       "    </tr>\n",
       "    <tr>\n",
       "      <th>591</th>\n",
       "      <td>NaN</td>\n",
       "      <td>NaN</td>\n",
       "      <td>NaN</td>\n",
       "      <td>NaN</td>\n",
       "      <td>NaN</td>\n",
       "      <td>NaN</td>\n",
       "      <td>NaN</td>\n",
       "    </tr>\n",
       "  </tbody>\n",
       "</table>\n",
       "<p>592 rows × 7 columns</p>\n",
       "</div>"
      ],
      "text/plain": [
       "                  Name                Team Position Height  Weight  \\\n",
       "0           Saddiq Bey       Atlanta Hawks        F    6-7   215.0   \n",
       "1    Bogdan Bogdanovic       Atlanta Hawks        G    6-5   225.0   \n",
       "2          Kobe Bufkin       Atlanta Hawks        G    6-5   195.0   \n",
       "3         Clint Capela       Atlanta Hawks        C   6-10   256.0   \n",
       "4       Bruno Fernando       Atlanta Hawks      F-C   6-10   240.0   \n",
       "..                 ...                 ...      ...    ...     ...   \n",
       "587       Ryan Rollins  Washington Wizards        G    6-3   180.0   \n",
       "588      Landry Shamet  Washington Wizards        G    6-4   190.0   \n",
       "589   Tristan Vukcevic  Washington Wizards        F   6-10   220.0   \n",
       "590       Delon Wright  Washington Wizards        G    6-5   185.0   \n",
       "591                NaN                 NaN      NaN    NaN     NaN   \n",
       "\n",
       "           College      Salary  \n",
       "0        Villanova   4556983.0  \n",
       "1       Fenerbahce  18700000.0  \n",
       "2         Michigan   4094244.0  \n",
       "3      Elan Chalon  20616000.0  \n",
       "4         Maryland   2581522.0  \n",
       "..             ...         ...  \n",
       "587         Toledo   1719864.0  \n",
       "588  Wichita State  10250000.0  \n",
       "589    Real Madrid         NaN  \n",
       "590           Utah   8195122.0  \n",
       "591            NaN         NaN  \n",
       "\n",
       "[592 rows x 7 columns]"
      ]
     },
     "execution_count": 43,
     "metadata": {},
     "output_type": "execute_result"
    }
   ],
   "source": [
    "nba"
   ]
  },
  {
   "cell_type": "code",
   "execution_count": 44,
   "id": "d0b8f720",
   "metadata": {},
   "outputs": [
    {
     "data": {
      "text/plain": [
       "0             Saddiq Bey\n",
       "1      Bogdan Bogdanovic\n",
       "2            Kobe Bufkin\n",
       "3           Clint Capela\n",
       "4         Bruno Fernando\n",
       "             ...        \n",
       "587         Ryan Rollins\n",
       "588        Landry Shamet\n",
       "589     Tristan Vukcevic\n",
       "590         Delon Wright\n",
       "591                  NaN\n",
       "Name: Name, Length: 592, dtype: object"
      ]
     },
     "execution_count": 44,
     "metadata": {},
     "output_type": "execute_result"
    }
   ],
   "source": [
    "names = nba['Name'].copy()\n",
    "names"
   ]
  },
  {
   "cell_type": "code",
   "execution_count": 45,
   "id": "7d42908a",
   "metadata": {},
   "outputs": [
    {
     "data": {
      "text/plain": [
       "0               Whatever\n",
       "1      Bogdan Bogdanovic\n",
       "2            Kobe Bufkin\n",
       "3           Clint Capela\n",
       "4         Bruno Fernando\n",
       "             ...        \n",
       "587         Ryan Rollins\n",
       "588        Landry Shamet\n",
       "589     Tristan Vukcevic\n",
       "590         Delon Wright\n",
       "591                  NaN\n",
       "Name: Name, Length: 592, dtype: object"
      ]
     },
     "execution_count": 45,
     "metadata": {},
     "output_type": "execute_result"
    }
   ],
   "source": [
    "names[0] = 'Whatever'\n",
    "names"
   ]
  },
  {
   "cell_type": "code",
   "execution_count": 46,
   "id": "85f67f08",
   "metadata": {},
   "outputs": [
    {
     "data": {
      "text/html": [
       "<div>\n",
       "<style scoped>\n",
       "    .dataframe tbody tr th:only-of-type {\n",
       "        vertical-align: middle;\n",
       "    }\n",
       "\n",
       "    .dataframe tbody tr th {\n",
       "        vertical-align: top;\n",
       "    }\n",
       "\n",
       "    .dataframe thead th {\n",
       "        text-align: right;\n",
       "    }\n",
       "</style>\n",
       "<table border=\"1\" class=\"dataframe\">\n",
       "  <thead>\n",
       "    <tr style=\"text-align: right;\">\n",
       "      <th></th>\n",
       "      <th>Name</th>\n",
       "      <th>Team</th>\n",
       "      <th>Position</th>\n",
       "      <th>Height</th>\n",
       "      <th>Weight</th>\n",
       "      <th>College</th>\n",
       "      <th>Salary</th>\n",
       "    </tr>\n",
       "  </thead>\n",
       "  <tbody>\n",
       "    <tr>\n",
       "      <th>0</th>\n",
       "      <td>Saddiq Bey</td>\n",
       "      <td>Atlanta Hawks</td>\n",
       "      <td>F</td>\n",
       "      <td>6-7</td>\n",
       "      <td>215.0</td>\n",
       "      <td>Villanova</td>\n",
       "      <td>4556983.0</td>\n",
       "    </tr>\n",
       "    <tr>\n",
       "      <th>1</th>\n",
       "      <td>Bogdan Bogdanovic</td>\n",
       "      <td>Atlanta Hawks</td>\n",
       "      <td>G</td>\n",
       "      <td>6-5</td>\n",
       "      <td>225.0</td>\n",
       "      <td>Fenerbahce</td>\n",
       "      <td>18700000.0</td>\n",
       "    </tr>\n",
       "    <tr>\n",
       "      <th>2</th>\n",
       "      <td>Kobe Bufkin</td>\n",
       "      <td>Atlanta Hawks</td>\n",
       "      <td>G</td>\n",
       "      <td>6-5</td>\n",
       "      <td>195.0</td>\n",
       "      <td>Michigan</td>\n",
       "      <td>4094244.0</td>\n",
       "    </tr>\n",
       "    <tr>\n",
       "      <th>3</th>\n",
       "      <td>Clint Capela</td>\n",
       "      <td>Atlanta Hawks</td>\n",
       "      <td>C</td>\n",
       "      <td>6-10</td>\n",
       "      <td>256.0</td>\n",
       "      <td>Elan Chalon</td>\n",
       "      <td>20616000.0</td>\n",
       "    </tr>\n",
       "    <tr>\n",
       "      <th>4</th>\n",
       "      <td>Bruno Fernando</td>\n",
       "      <td>Atlanta Hawks</td>\n",
       "      <td>F-C</td>\n",
       "      <td>6-10</td>\n",
       "      <td>240.0</td>\n",
       "      <td>Maryland</td>\n",
       "      <td>2581522.0</td>\n",
       "    </tr>\n",
       "    <tr>\n",
       "      <th>...</th>\n",
       "      <td>...</td>\n",
       "      <td>...</td>\n",
       "      <td>...</td>\n",
       "      <td>...</td>\n",
       "      <td>...</td>\n",
       "      <td>...</td>\n",
       "      <td>...</td>\n",
       "    </tr>\n",
       "    <tr>\n",
       "      <th>587</th>\n",
       "      <td>Ryan Rollins</td>\n",
       "      <td>Washington Wizards</td>\n",
       "      <td>G</td>\n",
       "      <td>6-3</td>\n",
       "      <td>180.0</td>\n",
       "      <td>Toledo</td>\n",
       "      <td>1719864.0</td>\n",
       "    </tr>\n",
       "    <tr>\n",
       "      <th>588</th>\n",
       "      <td>Landry Shamet</td>\n",
       "      <td>Washington Wizards</td>\n",
       "      <td>G</td>\n",
       "      <td>6-4</td>\n",
       "      <td>190.0</td>\n",
       "      <td>Wichita State</td>\n",
       "      <td>10250000.0</td>\n",
       "    </tr>\n",
       "    <tr>\n",
       "      <th>589</th>\n",
       "      <td>Tristan Vukcevic</td>\n",
       "      <td>Washington Wizards</td>\n",
       "      <td>F</td>\n",
       "      <td>6-10</td>\n",
       "      <td>220.0</td>\n",
       "      <td>Real Madrid</td>\n",
       "      <td>NaN</td>\n",
       "    </tr>\n",
       "    <tr>\n",
       "      <th>590</th>\n",
       "      <td>Delon Wright</td>\n",
       "      <td>Washington Wizards</td>\n",
       "      <td>G</td>\n",
       "      <td>6-5</td>\n",
       "      <td>185.0</td>\n",
       "      <td>Utah</td>\n",
       "      <td>8195122.0</td>\n",
       "    </tr>\n",
       "    <tr>\n",
       "      <th>591</th>\n",
       "      <td>NaN</td>\n",
       "      <td>NaN</td>\n",
       "      <td>NaN</td>\n",
       "      <td>NaN</td>\n",
       "      <td>NaN</td>\n",
       "      <td>NaN</td>\n",
       "      <td>NaN</td>\n",
       "    </tr>\n",
       "  </tbody>\n",
       "</table>\n",
       "<p>592 rows × 7 columns</p>\n",
       "</div>"
      ],
      "text/plain": [
       "                  Name                Team Position Height  Weight  \\\n",
       "0           Saddiq Bey       Atlanta Hawks        F    6-7   215.0   \n",
       "1    Bogdan Bogdanovic       Atlanta Hawks        G    6-5   225.0   \n",
       "2          Kobe Bufkin       Atlanta Hawks        G    6-5   195.0   \n",
       "3         Clint Capela       Atlanta Hawks        C   6-10   256.0   \n",
       "4       Bruno Fernando       Atlanta Hawks      F-C   6-10   240.0   \n",
       "..                 ...                 ...      ...    ...     ...   \n",
       "587       Ryan Rollins  Washington Wizards        G    6-3   180.0   \n",
       "588      Landry Shamet  Washington Wizards        G    6-4   190.0   \n",
       "589   Tristan Vukcevic  Washington Wizards        F   6-10   220.0   \n",
       "590       Delon Wright  Washington Wizards        G    6-5   185.0   \n",
       "591                NaN                 NaN      NaN    NaN     NaN   \n",
       "\n",
       "           College      Salary  \n",
       "0        Villanova   4556983.0  \n",
       "1       Fenerbahce  18700000.0  \n",
       "2         Michigan   4094244.0  \n",
       "3      Elan Chalon  20616000.0  \n",
       "4         Maryland   2581522.0  \n",
       "..             ...         ...  \n",
       "587         Toledo   1719864.0  \n",
       "588  Wichita State  10250000.0  \n",
       "589    Real Madrid         NaN  \n",
       "590           Utah   8195122.0  \n",
       "591            NaN         NaN  \n",
       "\n",
       "[592 rows x 7 columns]"
      ]
     },
     "execution_count": 46,
     "metadata": {},
     "output_type": "execute_result"
    }
   ],
   "source": [
    "nba"
   ]
  },
  {
   "cell_type": "markdown",
   "id": "2c5e56b2",
   "metadata": {},
   "source": [
    "# selecting multiple columns from a dataframe\n",
    "# @FancyIndexing"
   ]
  },
  {
   "cell_type": "code",
   "execution_count": 47,
   "id": "ec9049d5",
   "metadata": {},
   "outputs": [
    {
     "data": {
      "text/html": [
       "<div>\n",
       "<style scoped>\n",
       "    .dataframe tbody tr th:only-of-type {\n",
       "        vertical-align: middle;\n",
       "    }\n",
       "\n",
       "    .dataframe tbody tr th {\n",
       "        vertical-align: top;\n",
       "    }\n",
       "\n",
       "    .dataframe thead th {\n",
       "        text-align: right;\n",
       "    }\n",
       "</style>\n",
       "<table border=\"1\" class=\"dataframe\">\n",
       "  <thead>\n",
       "    <tr style=\"text-align: right;\">\n",
       "      <th></th>\n",
       "      <th>Name</th>\n",
       "      <th>Team</th>\n",
       "      <th>Position</th>\n",
       "      <th>Height</th>\n",
       "      <th>Weight</th>\n",
       "      <th>College</th>\n",
       "      <th>Salary</th>\n",
       "    </tr>\n",
       "  </thead>\n",
       "  <tbody>\n",
       "    <tr>\n",
       "      <th>0</th>\n",
       "      <td>Saddiq Bey</td>\n",
       "      <td>Atlanta Hawks</td>\n",
       "      <td>F</td>\n",
       "      <td>6-7</td>\n",
       "      <td>215.0</td>\n",
       "      <td>Villanova</td>\n",
       "      <td>4556983.0</td>\n",
       "    </tr>\n",
       "    <tr>\n",
       "      <th>1</th>\n",
       "      <td>Bogdan Bogdanovic</td>\n",
       "      <td>Atlanta Hawks</td>\n",
       "      <td>G</td>\n",
       "      <td>6-5</td>\n",
       "      <td>225.0</td>\n",
       "      <td>Fenerbahce</td>\n",
       "      <td>18700000.0</td>\n",
       "    </tr>\n",
       "    <tr>\n",
       "      <th>2</th>\n",
       "      <td>Kobe Bufkin</td>\n",
       "      <td>Atlanta Hawks</td>\n",
       "      <td>G</td>\n",
       "      <td>6-5</td>\n",
       "      <td>195.0</td>\n",
       "      <td>Michigan</td>\n",
       "      <td>4094244.0</td>\n",
       "    </tr>\n",
       "    <tr>\n",
       "      <th>3</th>\n",
       "      <td>Clint Capela</td>\n",
       "      <td>Atlanta Hawks</td>\n",
       "      <td>C</td>\n",
       "      <td>6-10</td>\n",
       "      <td>256.0</td>\n",
       "      <td>Elan Chalon</td>\n",
       "      <td>20616000.0</td>\n",
       "    </tr>\n",
       "    <tr>\n",
       "      <th>4</th>\n",
       "      <td>Bruno Fernando</td>\n",
       "      <td>Atlanta Hawks</td>\n",
       "      <td>F-C</td>\n",
       "      <td>6-10</td>\n",
       "      <td>240.0</td>\n",
       "      <td>Maryland</td>\n",
       "      <td>2581522.0</td>\n",
       "    </tr>\n",
       "    <tr>\n",
       "      <th>...</th>\n",
       "      <td>...</td>\n",
       "      <td>...</td>\n",
       "      <td>...</td>\n",
       "      <td>...</td>\n",
       "      <td>...</td>\n",
       "      <td>...</td>\n",
       "      <td>...</td>\n",
       "    </tr>\n",
       "    <tr>\n",
       "      <th>587</th>\n",
       "      <td>Ryan Rollins</td>\n",
       "      <td>Washington Wizards</td>\n",
       "      <td>G</td>\n",
       "      <td>6-3</td>\n",
       "      <td>180.0</td>\n",
       "      <td>Toledo</td>\n",
       "      <td>1719864.0</td>\n",
       "    </tr>\n",
       "    <tr>\n",
       "      <th>588</th>\n",
       "      <td>Landry Shamet</td>\n",
       "      <td>Washington Wizards</td>\n",
       "      <td>G</td>\n",
       "      <td>6-4</td>\n",
       "      <td>190.0</td>\n",
       "      <td>Wichita State</td>\n",
       "      <td>10250000.0</td>\n",
       "    </tr>\n",
       "    <tr>\n",
       "      <th>589</th>\n",
       "      <td>Tristan Vukcevic</td>\n",
       "      <td>Washington Wizards</td>\n",
       "      <td>F</td>\n",
       "      <td>6-10</td>\n",
       "      <td>220.0</td>\n",
       "      <td>Real Madrid</td>\n",
       "      <td>NaN</td>\n",
       "    </tr>\n",
       "    <tr>\n",
       "      <th>590</th>\n",
       "      <td>Delon Wright</td>\n",
       "      <td>Washington Wizards</td>\n",
       "      <td>G</td>\n",
       "      <td>6-5</td>\n",
       "      <td>185.0</td>\n",
       "      <td>Utah</td>\n",
       "      <td>8195122.0</td>\n",
       "    </tr>\n",
       "    <tr>\n",
       "      <th>591</th>\n",
       "      <td>NaN</td>\n",
       "      <td>NaN</td>\n",
       "      <td>NaN</td>\n",
       "      <td>NaN</td>\n",
       "      <td>NaN</td>\n",
       "      <td>NaN</td>\n",
       "      <td>NaN</td>\n",
       "    </tr>\n",
       "  </tbody>\n",
       "</table>\n",
       "<p>592 rows × 7 columns</p>\n",
       "</div>"
      ],
      "text/plain": [
       "                  Name                Team Position Height  Weight  \\\n",
       "0           Saddiq Bey       Atlanta Hawks        F    6-7   215.0   \n",
       "1    Bogdan Bogdanovic       Atlanta Hawks        G    6-5   225.0   \n",
       "2          Kobe Bufkin       Atlanta Hawks        G    6-5   195.0   \n",
       "3         Clint Capela       Atlanta Hawks        C   6-10   256.0   \n",
       "4       Bruno Fernando       Atlanta Hawks      F-C   6-10   240.0   \n",
       "..                 ...                 ...      ...    ...     ...   \n",
       "587       Ryan Rollins  Washington Wizards        G    6-3   180.0   \n",
       "588      Landry Shamet  Washington Wizards        G    6-4   190.0   \n",
       "589   Tristan Vukcevic  Washington Wizards        F   6-10   220.0   \n",
       "590       Delon Wright  Washington Wizards        G    6-5   185.0   \n",
       "591                NaN                 NaN      NaN    NaN     NaN   \n",
       "\n",
       "           College      Salary  \n",
       "0        Villanova   4556983.0  \n",
       "1       Fenerbahce  18700000.0  \n",
       "2         Michigan   4094244.0  \n",
       "3      Elan Chalon  20616000.0  \n",
       "4         Maryland   2581522.0  \n",
       "..             ...         ...  \n",
       "587         Toledo   1719864.0  \n",
       "588  Wichita State  10250000.0  \n",
       "589    Real Madrid         NaN  \n",
       "590           Utah   8195122.0  \n",
       "591            NaN         NaN  \n",
       "\n",
       "[592 rows x 7 columns]"
      ]
     },
     "execution_count": 47,
     "metadata": {},
     "output_type": "execute_result"
    }
   ],
   "source": [
    "nba"
   ]
  },
  {
   "cell_type": "code",
   "execution_count": 48,
   "id": "0659771c",
   "metadata": {},
   "outputs": [
    {
     "data": {
      "text/html": [
       "<div>\n",
       "<style scoped>\n",
       "    .dataframe tbody tr th:only-of-type {\n",
       "        vertical-align: middle;\n",
       "    }\n",
       "\n",
       "    .dataframe tbody tr th {\n",
       "        vertical-align: top;\n",
       "    }\n",
       "\n",
       "    .dataframe thead th {\n",
       "        text-align: right;\n",
       "    }\n",
       "</style>\n",
       "<table border=\"1\" class=\"dataframe\">\n",
       "  <thead>\n",
       "    <tr style=\"text-align: right;\">\n",
       "      <th></th>\n",
       "      <th>Name</th>\n",
       "      <th>Team</th>\n",
       "    </tr>\n",
       "  </thead>\n",
       "  <tbody>\n",
       "    <tr>\n",
       "      <th>0</th>\n",
       "      <td>Saddiq Bey</td>\n",
       "      <td>Atlanta Hawks</td>\n",
       "    </tr>\n",
       "    <tr>\n",
       "      <th>1</th>\n",
       "      <td>Bogdan Bogdanovic</td>\n",
       "      <td>Atlanta Hawks</td>\n",
       "    </tr>\n",
       "    <tr>\n",
       "      <th>2</th>\n",
       "      <td>Kobe Bufkin</td>\n",
       "      <td>Atlanta Hawks</td>\n",
       "    </tr>\n",
       "    <tr>\n",
       "      <th>3</th>\n",
       "      <td>Clint Capela</td>\n",
       "      <td>Atlanta Hawks</td>\n",
       "    </tr>\n",
       "    <tr>\n",
       "      <th>4</th>\n",
       "      <td>Bruno Fernando</td>\n",
       "      <td>Atlanta Hawks</td>\n",
       "    </tr>\n",
       "    <tr>\n",
       "      <th>...</th>\n",
       "      <td>...</td>\n",
       "      <td>...</td>\n",
       "    </tr>\n",
       "    <tr>\n",
       "      <th>587</th>\n",
       "      <td>Ryan Rollins</td>\n",
       "      <td>Washington Wizards</td>\n",
       "    </tr>\n",
       "    <tr>\n",
       "      <th>588</th>\n",
       "      <td>Landry Shamet</td>\n",
       "      <td>Washington Wizards</td>\n",
       "    </tr>\n",
       "    <tr>\n",
       "      <th>589</th>\n",
       "      <td>Tristan Vukcevic</td>\n",
       "      <td>Washington Wizards</td>\n",
       "    </tr>\n",
       "    <tr>\n",
       "      <th>590</th>\n",
       "      <td>Delon Wright</td>\n",
       "      <td>Washington Wizards</td>\n",
       "    </tr>\n",
       "    <tr>\n",
       "      <th>591</th>\n",
       "      <td>NaN</td>\n",
       "      <td>NaN</td>\n",
       "    </tr>\n",
       "  </tbody>\n",
       "</table>\n",
       "<p>592 rows × 2 columns</p>\n",
       "</div>"
      ],
      "text/plain": [
       "                  Name                Team\n",
       "0           Saddiq Bey       Atlanta Hawks\n",
       "1    Bogdan Bogdanovic       Atlanta Hawks\n",
       "2          Kobe Bufkin       Atlanta Hawks\n",
       "3         Clint Capela       Atlanta Hawks\n",
       "4       Bruno Fernando       Atlanta Hawks\n",
       "..                 ...                 ...\n",
       "587       Ryan Rollins  Washington Wizards\n",
       "588      Landry Shamet  Washington Wizards\n",
       "589   Tristan Vukcevic  Washington Wizards\n",
       "590       Delon Wright  Washington Wizards\n",
       "591                NaN                 NaN\n",
       "\n",
       "[592 rows x 2 columns]"
      ]
     },
     "execution_count": 48,
     "metadata": {},
     "output_type": "execute_result"
    }
   ],
   "source": [
    "nba[['Name', 'Team']]\n",
    "# It creates a copy"
   ]
  },
  {
   "cell_type": "code",
   "execution_count": 50,
   "id": "37574e01",
   "metadata": {},
   "outputs": [
    {
     "data": {
      "text/plain": [
       "0             Saddiq Bey\n",
       "1      Bogdan Bogdanovic\n",
       "2            Kobe Bufkin\n",
       "3           Clint Capela\n",
       "4         Bruno Fernando\n",
       "             ...        \n",
       "587         Ryan Rollins\n",
       "588        Landry Shamet\n",
       "589     Tristan Vukcevic\n",
       "590         Delon Wright\n",
       "591                  NaN\n",
       "Name: Name, Length: 592, dtype: object"
      ]
     },
     "execution_count": 50,
     "metadata": {},
     "output_type": "execute_result"
    }
   ],
   "source": [
    "nba[['Name']].squeeze(True) # nba['Name'].copy()"
   ]
  },
  {
   "cell_type": "code",
   "execution_count": 51,
   "id": "51103fee",
   "metadata": {},
   "outputs": [
    {
     "data": {
      "text/html": [
       "<div>\n",
       "<style scoped>\n",
       "    .dataframe tbody tr th:only-of-type {\n",
       "        vertical-align: middle;\n",
       "    }\n",
       "\n",
       "    .dataframe tbody tr th {\n",
       "        vertical-align: top;\n",
       "    }\n",
       "\n",
       "    .dataframe thead th {\n",
       "        text-align: right;\n",
       "    }\n",
       "</style>\n",
       "<table border=\"1\" class=\"dataframe\">\n",
       "  <thead>\n",
       "    <tr style=\"text-align: right;\">\n",
       "      <th></th>\n",
       "      <th>Name</th>\n",
       "      <th>Team</th>\n",
       "      <th>Name</th>\n",
       "    </tr>\n",
       "  </thead>\n",
       "  <tbody>\n",
       "    <tr>\n",
       "      <th>0</th>\n",
       "      <td>Saddiq Bey</td>\n",
       "      <td>Atlanta Hawks</td>\n",
       "      <td>Saddiq Bey</td>\n",
       "    </tr>\n",
       "    <tr>\n",
       "      <th>1</th>\n",
       "      <td>Bogdan Bogdanovic</td>\n",
       "      <td>Atlanta Hawks</td>\n",
       "      <td>Bogdan Bogdanovic</td>\n",
       "    </tr>\n",
       "    <tr>\n",
       "      <th>2</th>\n",
       "      <td>Kobe Bufkin</td>\n",
       "      <td>Atlanta Hawks</td>\n",
       "      <td>Kobe Bufkin</td>\n",
       "    </tr>\n",
       "    <tr>\n",
       "      <th>3</th>\n",
       "      <td>Clint Capela</td>\n",
       "      <td>Atlanta Hawks</td>\n",
       "      <td>Clint Capela</td>\n",
       "    </tr>\n",
       "    <tr>\n",
       "      <th>4</th>\n",
       "      <td>Bruno Fernando</td>\n",
       "      <td>Atlanta Hawks</td>\n",
       "      <td>Bruno Fernando</td>\n",
       "    </tr>\n",
       "    <tr>\n",
       "      <th>...</th>\n",
       "      <td>...</td>\n",
       "      <td>...</td>\n",
       "      <td>...</td>\n",
       "    </tr>\n",
       "    <tr>\n",
       "      <th>587</th>\n",
       "      <td>Ryan Rollins</td>\n",
       "      <td>Washington Wizards</td>\n",
       "      <td>Ryan Rollins</td>\n",
       "    </tr>\n",
       "    <tr>\n",
       "      <th>588</th>\n",
       "      <td>Landry Shamet</td>\n",
       "      <td>Washington Wizards</td>\n",
       "      <td>Landry Shamet</td>\n",
       "    </tr>\n",
       "    <tr>\n",
       "      <th>589</th>\n",
       "      <td>Tristan Vukcevic</td>\n",
       "      <td>Washington Wizards</td>\n",
       "      <td>Tristan Vukcevic</td>\n",
       "    </tr>\n",
       "    <tr>\n",
       "      <th>590</th>\n",
       "      <td>Delon Wright</td>\n",
       "      <td>Washington Wizards</td>\n",
       "      <td>Delon Wright</td>\n",
       "    </tr>\n",
       "    <tr>\n",
       "      <th>591</th>\n",
       "      <td>NaN</td>\n",
       "      <td>NaN</td>\n",
       "      <td>NaN</td>\n",
       "    </tr>\n",
       "  </tbody>\n",
       "</table>\n",
       "<p>592 rows × 3 columns</p>\n",
       "</div>"
      ],
      "text/plain": [
       "                  Name                Team               Name\n",
       "0           Saddiq Bey       Atlanta Hawks         Saddiq Bey\n",
       "1    Bogdan Bogdanovic       Atlanta Hawks  Bogdan Bogdanovic\n",
       "2          Kobe Bufkin       Atlanta Hawks        Kobe Bufkin\n",
       "3         Clint Capela       Atlanta Hawks       Clint Capela\n",
       "4       Bruno Fernando       Atlanta Hawks     Bruno Fernando\n",
       "..                 ...                 ...                ...\n",
       "587       Ryan Rollins  Washington Wizards       Ryan Rollins\n",
       "588      Landry Shamet  Washington Wizards      Landry Shamet\n",
       "589   Tristan Vukcevic  Washington Wizards   Tristan Vukcevic\n",
       "590       Delon Wright  Washington Wizards       Delon Wright\n",
       "591                NaN                 NaN                NaN\n",
       "\n",
       "[592 rows x 3 columns]"
      ]
     },
     "execution_count": 51,
     "metadata": {},
     "output_type": "execute_result"
    }
   ],
   "source": [
    "nba[['Name', 'Team', 'Name']]"
   ]
  },
  {
   "cell_type": "code",
   "execution_count": 54,
   "id": "c49ac2d9",
   "metadata": {},
   "outputs": [
    {
     "data": {
      "text/html": [
       "<div>\n",
       "<style scoped>\n",
       "    .dataframe tbody tr th:only-of-type {\n",
       "        vertical-align: middle;\n",
       "    }\n",
       "\n",
       "    .dataframe tbody tr th {\n",
       "        vertical-align: top;\n",
       "    }\n",
       "\n",
       "    .dataframe thead th {\n",
       "        text-align: right;\n",
       "    }\n",
       "</style>\n",
       "<table border=\"1\" class=\"dataframe\">\n",
       "  <thead>\n",
       "    <tr style=\"text-align: right;\">\n",
       "      <th></th>\n",
       "      <th>Team</th>\n",
       "      <th>Name</th>\n",
       "    </tr>\n",
       "  </thead>\n",
       "  <tbody>\n",
       "    <tr>\n",
       "      <th>0</th>\n",
       "      <td>Atlanta Hawks</td>\n",
       "      <td>Saddiq Bey</td>\n",
       "    </tr>\n",
       "    <tr>\n",
       "      <th>1</th>\n",
       "      <td>Atlanta Hawks</td>\n",
       "      <td>Bogdan Bogdanovic</td>\n",
       "    </tr>\n",
       "    <tr>\n",
       "      <th>2</th>\n",
       "      <td>Atlanta Hawks</td>\n",
       "      <td>Kobe Bufkin</td>\n",
       "    </tr>\n",
       "    <tr>\n",
       "      <th>3</th>\n",
       "      <td>Atlanta Hawks</td>\n",
       "      <td>Clint Capela</td>\n",
       "    </tr>\n",
       "    <tr>\n",
       "      <th>4</th>\n",
       "      <td>Atlanta Hawks</td>\n",
       "      <td>Bruno Fernando</td>\n",
       "    </tr>\n",
       "    <tr>\n",
       "      <th>...</th>\n",
       "      <td>...</td>\n",
       "      <td>...</td>\n",
       "    </tr>\n",
       "    <tr>\n",
       "      <th>587</th>\n",
       "      <td>Washington Wizards</td>\n",
       "      <td>Ryan Rollins</td>\n",
       "    </tr>\n",
       "    <tr>\n",
       "      <th>588</th>\n",
       "      <td>Washington Wizards</td>\n",
       "      <td>Landry Shamet</td>\n",
       "    </tr>\n",
       "    <tr>\n",
       "      <th>589</th>\n",
       "      <td>Washington Wizards</td>\n",
       "      <td>Tristan Vukcevic</td>\n",
       "    </tr>\n",
       "    <tr>\n",
       "      <th>590</th>\n",
       "      <td>Washington Wizards</td>\n",
       "      <td>Delon Wright</td>\n",
       "    </tr>\n",
       "    <tr>\n",
       "      <th>591</th>\n",
       "      <td>NaN</td>\n",
       "      <td>NaN</td>\n",
       "    </tr>\n",
       "  </tbody>\n",
       "</table>\n",
       "<p>592 rows × 2 columns</p>\n",
       "</div>"
      ],
      "text/plain": [
       "                   Team               Name\n",
       "0         Atlanta Hawks         Saddiq Bey\n",
       "1         Atlanta Hawks  Bogdan Bogdanovic\n",
       "2         Atlanta Hawks        Kobe Bufkin\n",
       "3         Atlanta Hawks       Clint Capela\n",
       "4         Atlanta Hawks     Bruno Fernando\n",
       "..                  ...                ...\n",
       "587  Washington Wizards       Ryan Rollins\n",
       "588  Washington Wizards      Landry Shamet\n",
       "589  Washington Wizards   Tristan Vukcevic\n",
       "590  Washington Wizards       Delon Wright\n",
       "591                 NaN                NaN\n",
       "\n",
       "[592 rows x 2 columns]"
      ]
     },
     "execution_count": 54,
     "metadata": {},
     "output_type": "execute_result"
    }
   ],
   "source": [
    "nba[['Team', 'Name']]"
   ]
  },
  {
   "cell_type": "code",
   "execution_count": 55,
   "id": "fbc9c2f8",
   "metadata": {},
   "outputs": [
    {
     "data": {
      "text/plain": [
       "'Ryan Rollins'"
      ]
     },
     "execution_count": 55,
     "metadata": {},
     "output_type": "execute_result"
    }
   ],
   "source": [
    "nba[['Team', 'Name']]['Name'].iloc[587]"
   ]
  },
  {
   "cell_type": "code",
   "execution_count": 56,
   "id": "688af1a3",
   "metadata": {},
   "outputs": [
    {
     "data": {
      "text/html": [
       "<div>\n",
       "<style scoped>\n",
       "    .dataframe tbody tr th:only-of-type {\n",
       "        vertical-align: middle;\n",
       "    }\n",
       "\n",
       "    .dataframe tbody tr th {\n",
       "        vertical-align: top;\n",
       "    }\n",
       "\n",
       "    .dataframe thead th {\n",
       "        text-align: right;\n",
       "    }\n",
       "</style>\n",
       "<table border=\"1\" class=\"dataframe\">\n",
       "  <thead>\n",
       "    <tr style=\"text-align: right;\">\n",
       "      <th></th>\n",
       "      <th>Name</th>\n",
       "      <th>Team</th>\n",
       "      <th>Position</th>\n",
       "      <th>Height</th>\n",
       "      <th>Weight</th>\n",
       "      <th>College</th>\n",
       "      <th>Salary</th>\n",
       "    </tr>\n",
       "  </thead>\n",
       "  <tbody>\n",
       "    <tr>\n",
       "      <th>0</th>\n",
       "      <td>Saddiq Bey</td>\n",
       "      <td>Atlanta Hawks</td>\n",
       "      <td>F</td>\n",
       "      <td>6-7</td>\n",
       "      <td>215.0</td>\n",
       "      <td>Villanova</td>\n",
       "      <td>4556983.0</td>\n",
       "    </tr>\n",
       "    <tr>\n",
       "      <th>1</th>\n",
       "      <td>Bogdan Bogdanovic</td>\n",
       "      <td>Atlanta Hawks</td>\n",
       "      <td>G</td>\n",
       "      <td>6-5</td>\n",
       "      <td>225.0</td>\n",
       "      <td>Fenerbahce</td>\n",
       "      <td>18700000.0</td>\n",
       "    </tr>\n",
       "    <tr>\n",
       "      <th>2</th>\n",
       "      <td>Kobe Bufkin</td>\n",
       "      <td>Atlanta Hawks</td>\n",
       "      <td>G</td>\n",
       "      <td>6-5</td>\n",
       "      <td>195.0</td>\n",
       "      <td>Michigan</td>\n",
       "      <td>4094244.0</td>\n",
       "    </tr>\n",
       "    <tr>\n",
       "      <th>3</th>\n",
       "      <td>Clint Capela</td>\n",
       "      <td>Atlanta Hawks</td>\n",
       "      <td>C</td>\n",
       "      <td>6-10</td>\n",
       "      <td>256.0</td>\n",
       "      <td>Elan Chalon</td>\n",
       "      <td>20616000.0</td>\n",
       "    </tr>\n",
       "    <tr>\n",
       "      <th>4</th>\n",
       "      <td>Bruno Fernando</td>\n",
       "      <td>Atlanta Hawks</td>\n",
       "      <td>F-C</td>\n",
       "      <td>6-10</td>\n",
       "      <td>240.0</td>\n",
       "      <td>Maryland</td>\n",
       "      <td>2581522.0</td>\n",
       "    </tr>\n",
       "    <tr>\n",
       "      <th>...</th>\n",
       "      <td>...</td>\n",
       "      <td>...</td>\n",
       "      <td>...</td>\n",
       "      <td>...</td>\n",
       "      <td>...</td>\n",
       "      <td>...</td>\n",
       "      <td>...</td>\n",
       "    </tr>\n",
       "    <tr>\n",
       "      <th>587</th>\n",
       "      <td>Ryan Rollins</td>\n",
       "      <td>Washington Wizards</td>\n",
       "      <td>G</td>\n",
       "      <td>6-3</td>\n",
       "      <td>180.0</td>\n",
       "      <td>Toledo</td>\n",
       "      <td>1719864.0</td>\n",
       "    </tr>\n",
       "    <tr>\n",
       "      <th>588</th>\n",
       "      <td>Landry Shamet</td>\n",
       "      <td>Washington Wizards</td>\n",
       "      <td>G</td>\n",
       "      <td>6-4</td>\n",
       "      <td>190.0</td>\n",
       "      <td>Wichita State</td>\n",
       "      <td>10250000.0</td>\n",
       "    </tr>\n",
       "    <tr>\n",
       "      <th>589</th>\n",
       "      <td>Tristan Vukcevic</td>\n",
       "      <td>Washington Wizards</td>\n",
       "      <td>F</td>\n",
       "      <td>6-10</td>\n",
       "      <td>220.0</td>\n",
       "      <td>Real Madrid</td>\n",
       "      <td>NaN</td>\n",
       "    </tr>\n",
       "    <tr>\n",
       "      <th>590</th>\n",
       "      <td>Delon Wright</td>\n",
       "      <td>Washington Wizards</td>\n",
       "      <td>G</td>\n",
       "      <td>6-5</td>\n",
       "      <td>185.0</td>\n",
       "      <td>Utah</td>\n",
       "      <td>8195122.0</td>\n",
       "    </tr>\n",
       "    <tr>\n",
       "      <th>591</th>\n",
       "      <td>NaN</td>\n",
       "      <td>NaN</td>\n",
       "      <td>NaN</td>\n",
       "      <td>NaN</td>\n",
       "      <td>NaN</td>\n",
       "      <td>NaN</td>\n",
       "      <td>NaN</td>\n",
       "    </tr>\n",
       "  </tbody>\n",
       "</table>\n",
       "<p>592 rows × 7 columns</p>\n",
       "</div>"
      ],
      "text/plain": [
       "                  Name                Team Position Height  Weight  \\\n",
       "0           Saddiq Bey       Atlanta Hawks        F    6-7   215.0   \n",
       "1    Bogdan Bogdanovic       Atlanta Hawks        G    6-5   225.0   \n",
       "2          Kobe Bufkin       Atlanta Hawks        G    6-5   195.0   \n",
       "3         Clint Capela       Atlanta Hawks        C   6-10   256.0   \n",
       "4       Bruno Fernando       Atlanta Hawks      F-C   6-10   240.0   \n",
       "..                 ...                 ...      ...    ...     ...   \n",
       "587       Ryan Rollins  Washington Wizards        G    6-3   180.0   \n",
       "588      Landry Shamet  Washington Wizards        G    6-4   190.0   \n",
       "589   Tristan Vukcevic  Washington Wizards        F   6-10   220.0   \n",
       "590       Delon Wright  Washington Wizards        G    6-5   185.0   \n",
       "591                NaN                 NaN      NaN    NaN     NaN   \n",
       "\n",
       "           College      Salary  \n",
       "0        Villanova   4556983.0  \n",
       "1       Fenerbahce  18700000.0  \n",
       "2         Michigan   4094244.0  \n",
       "3      Elan Chalon  20616000.0  \n",
       "4         Maryland   2581522.0  \n",
       "..             ...         ...  \n",
       "587         Toledo   1719864.0  \n",
       "588  Wichita State  10250000.0  \n",
       "589    Real Madrid         NaN  \n",
       "590           Utah   8195122.0  \n",
       "591            NaN         NaN  \n",
       "\n",
       "[592 rows x 7 columns]"
      ]
     },
     "execution_count": 56,
     "metadata": {},
     "output_type": "execute_result"
    }
   ],
   "source": [
    "nba"
   ]
  },
  {
   "cell_type": "markdown",
   "id": "dad93e30",
   "metadata": {},
   "source": [
    "# Adding column into your dataframe"
   ]
  },
  {
   "cell_type": "code",
   "execution_count": 57,
   "id": "ffb7d8e2",
   "metadata": {},
   "outputs": [
    {
     "data": {
      "text/html": [
       "<div>\n",
       "<style scoped>\n",
       "    .dataframe tbody tr th:only-of-type {\n",
       "        vertical-align: middle;\n",
       "    }\n",
       "\n",
       "    .dataframe tbody tr th {\n",
       "        vertical-align: top;\n",
       "    }\n",
       "\n",
       "    .dataframe thead th {\n",
       "        text-align: right;\n",
       "    }\n",
       "</style>\n",
       "<table border=\"1\" class=\"dataframe\">\n",
       "  <thead>\n",
       "    <tr style=\"text-align: right;\">\n",
       "      <th></th>\n",
       "      <th>Name</th>\n",
       "      <th>Team</th>\n",
       "      <th>Position</th>\n",
       "      <th>Height</th>\n",
       "      <th>Weight</th>\n",
       "      <th>College</th>\n",
       "      <th>Salary</th>\n",
       "    </tr>\n",
       "  </thead>\n",
       "  <tbody>\n",
       "    <tr>\n",
       "      <th>0</th>\n",
       "      <td>Saddiq Bey</td>\n",
       "      <td>Atlanta Hawks</td>\n",
       "      <td>F</td>\n",
       "      <td>6-7</td>\n",
       "      <td>215.0</td>\n",
       "      <td>Villanova</td>\n",
       "      <td>4556983.0</td>\n",
       "    </tr>\n",
       "    <tr>\n",
       "      <th>1</th>\n",
       "      <td>Bogdan Bogdanovic</td>\n",
       "      <td>Atlanta Hawks</td>\n",
       "      <td>G</td>\n",
       "      <td>6-5</td>\n",
       "      <td>225.0</td>\n",
       "      <td>Fenerbahce</td>\n",
       "      <td>18700000.0</td>\n",
       "    </tr>\n",
       "    <tr>\n",
       "      <th>2</th>\n",
       "      <td>Kobe Bufkin</td>\n",
       "      <td>Atlanta Hawks</td>\n",
       "      <td>G</td>\n",
       "      <td>6-5</td>\n",
       "      <td>195.0</td>\n",
       "      <td>Michigan</td>\n",
       "      <td>4094244.0</td>\n",
       "    </tr>\n",
       "    <tr>\n",
       "      <th>3</th>\n",
       "      <td>Clint Capela</td>\n",
       "      <td>Atlanta Hawks</td>\n",
       "      <td>C</td>\n",
       "      <td>6-10</td>\n",
       "      <td>256.0</td>\n",
       "      <td>Elan Chalon</td>\n",
       "      <td>20616000.0</td>\n",
       "    </tr>\n",
       "    <tr>\n",
       "      <th>4</th>\n",
       "      <td>Bruno Fernando</td>\n",
       "      <td>Atlanta Hawks</td>\n",
       "      <td>F-C</td>\n",
       "      <td>6-10</td>\n",
       "      <td>240.0</td>\n",
       "      <td>Maryland</td>\n",
       "      <td>2581522.0</td>\n",
       "    </tr>\n",
       "    <tr>\n",
       "      <th>...</th>\n",
       "      <td>...</td>\n",
       "      <td>...</td>\n",
       "      <td>...</td>\n",
       "      <td>...</td>\n",
       "      <td>...</td>\n",
       "      <td>...</td>\n",
       "      <td>...</td>\n",
       "    </tr>\n",
       "    <tr>\n",
       "      <th>587</th>\n",
       "      <td>Ryan Rollins</td>\n",
       "      <td>Washington Wizards</td>\n",
       "      <td>G</td>\n",
       "      <td>6-3</td>\n",
       "      <td>180.0</td>\n",
       "      <td>Toledo</td>\n",
       "      <td>1719864.0</td>\n",
       "    </tr>\n",
       "    <tr>\n",
       "      <th>588</th>\n",
       "      <td>Landry Shamet</td>\n",
       "      <td>Washington Wizards</td>\n",
       "      <td>G</td>\n",
       "      <td>6-4</td>\n",
       "      <td>190.0</td>\n",
       "      <td>Wichita State</td>\n",
       "      <td>10250000.0</td>\n",
       "    </tr>\n",
       "    <tr>\n",
       "      <th>589</th>\n",
       "      <td>Tristan Vukcevic</td>\n",
       "      <td>Washington Wizards</td>\n",
       "      <td>F</td>\n",
       "      <td>6-10</td>\n",
       "      <td>220.0</td>\n",
       "      <td>Real Madrid</td>\n",
       "      <td>NaN</td>\n",
       "    </tr>\n",
       "    <tr>\n",
       "      <th>590</th>\n",
       "      <td>Delon Wright</td>\n",
       "      <td>Washington Wizards</td>\n",
       "      <td>G</td>\n",
       "      <td>6-5</td>\n",
       "      <td>185.0</td>\n",
       "      <td>Utah</td>\n",
       "      <td>8195122.0</td>\n",
       "    </tr>\n",
       "    <tr>\n",
       "      <th>591</th>\n",
       "      <td>NaN</td>\n",
       "      <td>NaN</td>\n",
       "      <td>NaN</td>\n",
       "      <td>NaN</td>\n",
       "      <td>NaN</td>\n",
       "      <td>NaN</td>\n",
       "      <td>NaN</td>\n",
       "    </tr>\n",
       "  </tbody>\n",
       "</table>\n",
       "<p>592 rows × 7 columns</p>\n",
       "</div>"
      ],
      "text/plain": [
       "                  Name                Team Position Height  Weight  \\\n",
       "0           Saddiq Bey       Atlanta Hawks        F    6-7   215.0   \n",
       "1    Bogdan Bogdanovic       Atlanta Hawks        G    6-5   225.0   \n",
       "2          Kobe Bufkin       Atlanta Hawks        G    6-5   195.0   \n",
       "3         Clint Capela       Atlanta Hawks        C   6-10   256.0   \n",
       "4       Bruno Fernando       Atlanta Hawks      F-C   6-10   240.0   \n",
       "..                 ...                 ...      ...    ...     ...   \n",
       "587       Ryan Rollins  Washington Wizards        G    6-3   180.0   \n",
       "588      Landry Shamet  Washington Wizards        G    6-4   190.0   \n",
       "589   Tristan Vukcevic  Washington Wizards        F   6-10   220.0   \n",
       "590       Delon Wright  Washington Wizards        G    6-5   185.0   \n",
       "591                NaN                 NaN      NaN    NaN     NaN   \n",
       "\n",
       "           College      Salary  \n",
       "0        Villanova   4556983.0  \n",
       "1       Fenerbahce  18700000.0  \n",
       "2         Michigan   4094244.0  \n",
       "3      Elan Chalon  20616000.0  \n",
       "4         Maryland   2581522.0  \n",
       "..             ...         ...  \n",
       "587         Toledo   1719864.0  \n",
       "588  Wichita State  10250000.0  \n",
       "589    Real Madrid         NaN  \n",
       "590           Utah   8195122.0  \n",
       "591            NaN         NaN  \n",
       "\n",
       "[592 rows x 7 columns]"
      ]
     },
     "execution_count": 57,
     "metadata": {},
     "output_type": "execute_result"
    }
   ],
   "source": [
    "nba"
   ]
  },
  {
   "cell_type": "code",
   "execution_count": 58,
   "id": "de07804c",
   "metadata": {},
   "outputs": [
    {
     "data": {
      "text/html": [
       "<div>\n",
       "<style scoped>\n",
       "    .dataframe tbody tr th:only-of-type {\n",
       "        vertical-align: middle;\n",
       "    }\n",
       "\n",
       "    .dataframe tbody tr th {\n",
       "        vertical-align: top;\n",
       "    }\n",
       "\n",
       "    .dataframe thead th {\n",
       "        text-align: right;\n",
       "    }\n",
       "</style>\n",
       "<table border=\"1\" class=\"dataframe\">\n",
       "  <thead>\n",
       "    <tr style=\"text-align: right;\">\n",
       "      <th></th>\n",
       "      <th>Name</th>\n",
       "      <th>Type</th>\n",
       "    </tr>\n",
       "  </thead>\n",
       "  <tbody>\n",
       "    <tr>\n",
       "      <th>0</th>\n",
       "      <td>Bulbasaur</td>\n",
       "      <td>Grass, Poison</td>\n",
       "    </tr>\n",
       "    <tr>\n",
       "      <th>1</th>\n",
       "      <td>Ivysaur</td>\n",
       "      <td>Grass, Poison</td>\n",
       "    </tr>\n",
       "    <tr>\n",
       "      <th>2</th>\n",
       "      <td>Venusaur</td>\n",
       "      <td>Grass, Poison</td>\n",
       "    </tr>\n",
       "    <tr>\n",
       "      <th>3</th>\n",
       "      <td>Charmander</td>\n",
       "      <td>Fire</td>\n",
       "    </tr>\n",
       "    <tr>\n",
       "      <th>4</th>\n",
       "      <td>Charmeleon</td>\n",
       "      <td>Fire</td>\n",
       "    </tr>\n",
       "    <tr>\n",
       "      <th>...</th>\n",
       "      <td>...</td>\n",
       "      <td>...</td>\n",
       "    </tr>\n",
       "    <tr>\n",
       "      <th>1005</th>\n",
       "      <td>Iron Valiant</td>\n",
       "      <td>Fairy, Fighting</td>\n",
       "    </tr>\n",
       "    <tr>\n",
       "      <th>1006</th>\n",
       "      <td>Koraidon</td>\n",
       "      <td>Fighting, Dragon</td>\n",
       "    </tr>\n",
       "    <tr>\n",
       "      <th>1007</th>\n",
       "      <td>Miraidon</td>\n",
       "      <td>Electric, Dragon</td>\n",
       "    </tr>\n",
       "    <tr>\n",
       "      <th>1008</th>\n",
       "      <td>Walking Wake</td>\n",
       "      <td>Water, Dragon</td>\n",
       "    </tr>\n",
       "    <tr>\n",
       "      <th>1009</th>\n",
       "      <td>Iron Leaves</td>\n",
       "      <td>Grass, Psychic</td>\n",
       "    </tr>\n",
       "  </tbody>\n",
       "</table>\n",
       "<p>1010 rows × 2 columns</p>\n",
       "</div>"
      ],
      "text/plain": [
       "              Name              Type\n",
       "0        Bulbasaur     Grass, Poison\n",
       "1          Ivysaur     Grass, Poison\n",
       "2         Venusaur     Grass, Poison\n",
       "3       Charmander              Fire\n",
       "4       Charmeleon              Fire\n",
       "...            ...               ...\n",
       "1005  Iron Valiant   Fairy, Fighting\n",
       "1006      Koraidon  Fighting, Dragon\n",
       "1007      Miraidon  Electric, Dragon\n",
       "1008  Walking Wake     Water, Dragon\n",
       "1009   Iron Leaves    Grass, Psychic\n",
       "\n",
       "[1010 rows x 2 columns]"
      ]
     },
     "execution_count": 58,
     "metadata": {},
     "output_type": "execute_result"
    }
   ],
   "source": [
    "pokemon = pd.read_csv('datasets/pokemon.csv')\n",
    "pokemon"
   ]
  },
  {
   "cell_type": "code",
   "execution_count": 59,
   "id": "769f72c6",
   "metadata": {},
   "outputs": [
    {
     "data": {
      "text/html": [
       "<div>\n",
       "<style scoped>\n",
       "    .dataframe tbody tr th:only-of-type {\n",
       "        vertical-align: middle;\n",
       "    }\n",
       "\n",
       "    .dataframe tbody tr th {\n",
       "        vertical-align: top;\n",
       "    }\n",
       "\n",
       "    .dataframe thead th {\n",
       "        text-align: right;\n",
       "    }\n",
       "</style>\n",
       "<table border=\"1\" class=\"dataframe\">\n",
       "  <thead>\n",
       "    <tr style=\"text-align: right;\">\n",
       "      <th></th>\n",
       "      <th>Name</th>\n",
       "      <th>Type</th>\n",
       "      <th>Sport</th>\n",
       "    </tr>\n",
       "  </thead>\n",
       "  <tbody>\n",
       "    <tr>\n",
       "      <th>0</th>\n",
       "      <td>Bulbasaur</td>\n",
       "      <td>Grass, Poison</td>\n",
       "      <td>Basketball</td>\n",
       "    </tr>\n",
       "    <tr>\n",
       "      <th>1</th>\n",
       "      <td>Ivysaur</td>\n",
       "      <td>Grass, Poison</td>\n",
       "      <td>Basketball</td>\n",
       "    </tr>\n",
       "    <tr>\n",
       "      <th>2</th>\n",
       "      <td>Venusaur</td>\n",
       "      <td>Grass, Poison</td>\n",
       "      <td>Basketball</td>\n",
       "    </tr>\n",
       "    <tr>\n",
       "      <th>3</th>\n",
       "      <td>Charmander</td>\n",
       "      <td>Fire</td>\n",
       "      <td>Basketball</td>\n",
       "    </tr>\n",
       "    <tr>\n",
       "      <th>4</th>\n",
       "      <td>Charmeleon</td>\n",
       "      <td>Fire</td>\n",
       "      <td>Basketball</td>\n",
       "    </tr>\n",
       "    <tr>\n",
       "      <th>...</th>\n",
       "      <td>...</td>\n",
       "      <td>...</td>\n",
       "      <td>...</td>\n",
       "    </tr>\n",
       "    <tr>\n",
       "      <th>1005</th>\n",
       "      <td>Iron Valiant</td>\n",
       "      <td>Fairy, Fighting</td>\n",
       "      <td>Basketball</td>\n",
       "    </tr>\n",
       "    <tr>\n",
       "      <th>1006</th>\n",
       "      <td>Koraidon</td>\n",
       "      <td>Fighting, Dragon</td>\n",
       "      <td>Basketball</td>\n",
       "    </tr>\n",
       "    <tr>\n",
       "      <th>1007</th>\n",
       "      <td>Miraidon</td>\n",
       "      <td>Electric, Dragon</td>\n",
       "      <td>Basketball</td>\n",
       "    </tr>\n",
       "    <tr>\n",
       "      <th>1008</th>\n",
       "      <td>Walking Wake</td>\n",
       "      <td>Water, Dragon</td>\n",
       "      <td>Basketball</td>\n",
       "    </tr>\n",
       "    <tr>\n",
       "      <th>1009</th>\n",
       "      <td>Iron Leaves</td>\n",
       "      <td>Grass, Psychic</td>\n",
       "      <td>Basketball</td>\n",
       "    </tr>\n",
       "  </tbody>\n",
       "</table>\n",
       "<p>1010 rows × 3 columns</p>\n",
       "</div>"
      ],
      "text/plain": [
       "              Name              Type       Sport\n",
       "0        Bulbasaur     Grass, Poison  Basketball\n",
       "1          Ivysaur     Grass, Poison  Basketball\n",
       "2         Venusaur     Grass, Poison  Basketball\n",
       "3       Charmander              Fire  Basketball\n",
       "4       Charmeleon              Fire  Basketball\n",
       "...            ...               ...         ...\n",
       "1005  Iron Valiant   Fairy, Fighting  Basketball\n",
       "1006      Koraidon  Fighting, Dragon  Basketball\n",
       "1007      Miraidon  Electric, Dragon  Basketball\n",
       "1008  Walking Wake     Water, Dragon  Basketball\n",
       "1009   Iron Leaves    Grass, Psychic  Basketball\n",
       "\n",
       "[1010 rows x 3 columns]"
      ]
     },
     "execution_count": 59,
     "metadata": {},
     "output_type": "execute_result"
    }
   ],
   "source": [
    "pokemon['Sport'] = 'Basketball'\n",
    "pokemon"
   ]
  },
  {
   "cell_type": "code",
   "execution_count": 61,
   "id": "d07de45f",
   "metadata": {},
   "outputs": [
    {
     "data": {
      "text/html": [
       "<div>\n",
       "<style scoped>\n",
       "    .dataframe tbody tr th:only-of-type {\n",
       "        vertical-align: middle;\n",
       "    }\n",
       "\n",
       "    .dataframe tbody tr th {\n",
       "        vertical-align: top;\n",
       "    }\n",
       "\n",
       "    .dataframe thead th {\n",
       "        text-align: right;\n",
       "    }\n",
       "</style>\n",
       "<table border=\"1\" class=\"dataframe\">\n",
       "  <thead>\n",
       "    <tr style=\"text-align: right;\">\n",
       "      <th></th>\n",
       "      <th>Name</th>\n",
       "      <th>Sport2</th>\n",
       "      <th>Type</th>\n",
       "      <th>Sport</th>\n",
       "    </tr>\n",
       "  </thead>\n",
       "  <tbody>\n",
       "    <tr>\n",
       "      <th>0</th>\n",
       "      <td>Bulbasaur</td>\n",
       "      <td>Alpha</td>\n",
       "      <td>Grass, Poison</td>\n",
       "      <td>Basketball</td>\n",
       "    </tr>\n",
       "    <tr>\n",
       "      <th>1</th>\n",
       "      <td>Ivysaur</td>\n",
       "      <td>Alpha</td>\n",
       "      <td>Grass, Poison</td>\n",
       "      <td>Basketball</td>\n",
       "    </tr>\n",
       "    <tr>\n",
       "      <th>2</th>\n",
       "      <td>Venusaur</td>\n",
       "      <td>Alpha</td>\n",
       "      <td>Grass, Poison</td>\n",
       "      <td>Basketball</td>\n",
       "    </tr>\n",
       "    <tr>\n",
       "      <th>3</th>\n",
       "      <td>Charmander</td>\n",
       "      <td>Alpha</td>\n",
       "      <td>Fire</td>\n",
       "      <td>Basketball</td>\n",
       "    </tr>\n",
       "    <tr>\n",
       "      <th>4</th>\n",
       "      <td>Charmeleon</td>\n",
       "      <td>Alpha</td>\n",
       "      <td>Fire</td>\n",
       "      <td>Basketball</td>\n",
       "    </tr>\n",
       "    <tr>\n",
       "      <th>...</th>\n",
       "      <td>...</td>\n",
       "      <td>...</td>\n",
       "      <td>...</td>\n",
       "      <td>...</td>\n",
       "    </tr>\n",
       "    <tr>\n",
       "      <th>1005</th>\n",
       "      <td>Iron Valiant</td>\n",
       "      <td>Alpha</td>\n",
       "      <td>Fairy, Fighting</td>\n",
       "      <td>Basketball</td>\n",
       "    </tr>\n",
       "    <tr>\n",
       "      <th>1006</th>\n",
       "      <td>Koraidon</td>\n",
       "      <td>Alpha</td>\n",
       "      <td>Fighting, Dragon</td>\n",
       "      <td>Basketball</td>\n",
       "    </tr>\n",
       "    <tr>\n",
       "      <th>1007</th>\n",
       "      <td>Miraidon</td>\n",
       "      <td>Alpha</td>\n",
       "      <td>Electric, Dragon</td>\n",
       "      <td>Basketball</td>\n",
       "    </tr>\n",
       "    <tr>\n",
       "      <th>1008</th>\n",
       "      <td>Walking Wake</td>\n",
       "      <td>Alpha</td>\n",
       "      <td>Water, Dragon</td>\n",
       "      <td>Basketball</td>\n",
       "    </tr>\n",
       "    <tr>\n",
       "      <th>1009</th>\n",
       "      <td>Iron Leaves</td>\n",
       "      <td>Alpha</td>\n",
       "      <td>Grass, Psychic</td>\n",
       "      <td>Basketball</td>\n",
       "    </tr>\n",
       "  </tbody>\n",
       "</table>\n",
       "<p>1010 rows × 4 columns</p>\n",
       "</div>"
      ],
      "text/plain": [
       "              Name Sport2              Type       Sport\n",
       "0        Bulbasaur  Alpha     Grass, Poison  Basketball\n",
       "1          Ivysaur  Alpha     Grass, Poison  Basketball\n",
       "2         Venusaur  Alpha     Grass, Poison  Basketball\n",
       "3       Charmander  Alpha              Fire  Basketball\n",
       "4       Charmeleon  Alpha              Fire  Basketball\n",
       "...            ...    ...               ...         ...\n",
       "1005  Iron Valiant  Alpha   Fairy, Fighting  Basketball\n",
       "1006      Koraidon  Alpha  Fighting, Dragon  Basketball\n",
       "1007      Miraidon  Alpha  Electric, Dragon  Basketball\n",
       "1008  Walking Wake  Alpha     Water, Dragon  Basketball\n",
       "1009   Iron Leaves  Alpha    Grass, Psychic  Basketball\n",
       "\n",
       "[1010 rows x 4 columns]"
      ]
     },
     "execution_count": 61,
     "metadata": {},
     "output_type": "execute_result"
    }
   ],
   "source": [
    "pokemon.insert(loc = 1, value = 'Alpha', column = 'Sport2')\n",
    "pokemon"
   ]
  },
  {
   "cell_type": "code",
   "execution_count": 65,
   "id": "05c71d4f",
   "metadata": {},
   "outputs": [
    {
     "data": {
      "text/html": [
       "<div>\n",
       "<style scoped>\n",
       "    .dataframe tbody tr th:only-of-type {\n",
       "        vertical-align: middle;\n",
       "    }\n",
       "\n",
       "    .dataframe tbody tr th {\n",
       "        vertical-align: top;\n",
       "    }\n",
       "\n",
       "    .dataframe thead th {\n",
       "        text-align: right;\n",
       "    }\n",
       "</style>\n",
       "<table border=\"1\" class=\"dataframe\">\n",
       "  <thead>\n",
       "    <tr style=\"text-align: right;\">\n",
       "      <th></th>\n",
       "      <th>Name</th>\n",
       "      <th>Type</th>\n",
       "    </tr>\n",
       "  </thead>\n",
       "  <tbody>\n",
       "    <tr>\n",
       "      <th>0</th>\n",
       "      <td>Bulbasaur</td>\n",
       "      <td>Grass, Poison</td>\n",
       "    </tr>\n",
       "    <tr>\n",
       "      <th>1</th>\n",
       "      <td>Ivysaur</td>\n",
       "      <td>Grass, Poison</td>\n",
       "    </tr>\n",
       "    <tr>\n",
       "      <th>2</th>\n",
       "      <td>Venusaur</td>\n",
       "      <td>Grass, Poison</td>\n",
       "    </tr>\n",
       "    <tr>\n",
       "      <th>3</th>\n",
       "      <td>Charmander</td>\n",
       "      <td>Fire</td>\n",
       "    </tr>\n",
       "    <tr>\n",
       "      <th>4</th>\n",
       "      <td>Charmeleon</td>\n",
       "      <td>Fire</td>\n",
       "    </tr>\n",
       "    <tr>\n",
       "      <th>...</th>\n",
       "      <td>...</td>\n",
       "      <td>...</td>\n",
       "    </tr>\n",
       "    <tr>\n",
       "      <th>1005</th>\n",
       "      <td>Iron Valiant</td>\n",
       "      <td>Fairy, Fighting</td>\n",
       "    </tr>\n",
       "    <tr>\n",
       "      <th>1006</th>\n",
       "      <td>Koraidon</td>\n",
       "      <td>Fighting, Dragon</td>\n",
       "    </tr>\n",
       "    <tr>\n",
       "      <th>1007</th>\n",
       "      <td>Miraidon</td>\n",
       "      <td>Electric, Dragon</td>\n",
       "    </tr>\n",
       "    <tr>\n",
       "      <th>1008</th>\n",
       "      <td>Walking Wake</td>\n",
       "      <td>Water, Dragon</td>\n",
       "    </tr>\n",
       "    <tr>\n",
       "      <th>1009</th>\n",
       "      <td>Iron Leaves</td>\n",
       "      <td>Grass, Psychic</td>\n",
       "    </tr>\n",
       "  </tbody>\n",
       "</table>\n",
       "<p>1010 rows × 2 columns</p>\n",
       "</div>"
      ],
      "text/plain": [
       "              Name              Type\n",
       "0        Bulbasaur     Grass, Poison\n",
       "1          Ivysaur     Grass, Poison\n",
       "2         Venusaur     Grass, Poison\n",
       "3       Charmander              Fire\n",
       "4       Charmeleon              Fire\n",
       "...            ...               ...\n",
       "1005  Iron Valiant   Fairy, Fighting\n",
       "1006      Koraidon  Fighting, Dragon\n",
       "1007      Miraidon  Electric, Dragon\n",
       "1008  Walking Wake     Water, Dragon\n",
       "1009   Iron Leaves    Grass, Psychic\n",
       "\n",
       "[1010 rows x 2 columns]"
      ]
     },
     "execution_count": 65,
     "metadata": {},
     "output_type": "execute_result"
    }
   ],
   "source": [
    "pokemon = pd.read_csv('datasets/pokemon.csv')\n",
    "pokemon"
   ]
  },
  {
   "cell_type": "code",
   "execution_count": 64,
   "id": "41ce67cd",
   "metadata": {},
   "outputs": [
    {
     "data": {
      "text/html": [
       "<div>\n",
       "<style scoped>\n",
       "    .dataframe tbody tr th:only-of-type {\n",
       "        vertical-align: middle;\n",
       "    }\n",
       "\n",
       "    .dataframe tbody tr th {\n",
       "        vertical-align: top;\n",
       "    }\n",
       "\n",
       "    .dataframe thead th {\n",
       "        text-align: right;\n",
       "    }\n",
       "</style>\n",
       "<table border=\"1\" class=\"dataframe\">\n",
       "  <thead>\n",
       "    <tr style=\"text-align: right;\">\n",
       "      <th></th>\n",
       "      <th>Name</th>\n",
       "      <th>Type</th>\n",
       "      <th>name_length</th>\n",
       "    </tr>\n",
       "  </thead>\n",
       "  <tbody>\n",
       "    <tr>\n",
       "      <th>0</th>\n",
       "      <td>Bulbasaur</td>\n",
       "      <td>Grass, Poison</td>\n",
       "      <td>1010</td>\n",
       "    </tr>\n",
       "    <tr>\n",
       "      <th>1</th>\n",
       "      <td>Ivysaur</td>\n",
       "      <td>Grass, Poison</td>\n",
       "      <td>1010</td>\n",
       "    </tr>\n",
       "    <tr>\n",
       "      <th>2</th>\n",
       "      <td>Venusaur</td>\n",
       "      <td>Grass, Poison</td>\n",
       "      <td>1010</td>\n",
       "    </tr>\n",
       "    <tr>\n",
       "      <th>3</th>\n",
       "      <td>Charmander</td>\n",
       "      <td>Fire</td>\n",
       "      <td>1010</td>\n",
       "    </tr>\n",
       "    <tr>\n",
       "      <th>4</th>\n",
       "      <td>Charmeleon</td>\n",
       "      <td>Fire</td>\n",
       "      <td>1010</td>\n",
       "    </tr>\n",
       "    <tr>\n",
       "      <th>...</th>\n",
       "      <td>...</td>\n",
       "      <td>...</td>\n",
       "      <td>...</td>\n",
       "    </tr>\n",
       "    <tr>\n",
       "      <th>1005</th>\n",
       "      <td>Iron Valiant</td>\n",
       "      <td>Fairy, Fighting</td>\n",
       "      <td>1010</td>\n",
       "    </tr>\n",
       "    <tr>\n",
       "      <th>1006</th>\n",
       "      <td>Koraidon</td>\n",
       "      <td>Fighting, Dragon</td>\n",
       "      <td>1010</td>\n",
       "    </tr>\n",
       "    <tr>\n",
       "      <th>1007</th>\n",
       "      <td>Miraidon</td>\n",
       "      <td>Electric, Dragon</td>\n",
       "      <td>1010</td>\n",
       "    </tr>\n",
       "    <tr>\n",
       "      <th>1008</th>\n",
       "      <td>Walking Wake</td>\n",
       "      <td>Water, Dragon</td>\n",
       "      <td>1010</td>\n",
       "    </tr>\n",
       "    <tr>\n",
       "      <th>1009</th>\n",
       "      <td>Iron Leaves</td>\n",
       "      <td>Grass, Psychic</td>\n",
       "      <td>1010</td>\n",
       "    </tr>\n",
       "  </tbody>\n",
       "</table>\n",
       "<p>1010 rows × 3 columns</p>\n",
       "</div>"
      ],
      "text/plain": [
       "              Name              Type  name_length\n",
       "0        Bulbasaur     Grass, Poison         1010\n",
       "1          Ivysaur     Grass, Poison         1010\n",
       "2         Venusaur     Grass, Poison         1010\n",
       "3       Charmander              Fire         1010\n",
       "4       Charmeleon              Fire         1010\n",
       "...            ...               ...          ...\n",
       "1005  Iron Valiant   Fairy, Fighting         1010\n",
       "1006      Koraidon  Fighting, Dragon         1010\n",
       "1007      Miraidon  Electric, Dragon         1010\n",
       "1008  Walking Wake     Water, Dragon         1010\n",
       "1009   Iron Leaves    Grass, Psychic         1010\n",
       "\n",
       "[1010 rows x 3 columns]"
      ]
     },
     "execution_count": 64,
     "metadata": {},
     "output_type": "execute_result"
    }
   ],
   "source": [
    "# name_length\n",
    "# pokemon['name_length'] = len(pokemon['Name'])\n",
    "# pokemon['name_length'] = 1010"
   ]
  },
  {
   "cell_type": "code",
   "execution_count": 66,
   "id": "2ae3b1de",
   "metadata": {},
   "outputs": [
    {
     "data": {
      "text/html": [
       "<div>\n",
       "<style scoped>\n",
       "    .dataframe tbody tr th:only-of-type {\n",
       "        vertical-align: middle;\n",
       "    }\n",
       "\n",
       "    .dataframe tbody tr th {\n",
       "        vertical-align: top;\n",
       "    }\n",
       "\n",
       "    .dataframe thead th {\n",
       "        text-align: right;\n",
       "    }\n",
       "</style>\n",
       "<table border=\"1\" class=\"dataframe\">\n",
       "  <thead>\n",
       "    <tr style=\"text-align: right;\">\n",
       "      <th></th>\n",
       "      <th>Name</th>\n",
       "      <th>Type</th>\n",
       "    </tr>\n",
       "  </thead>\n",
       "  <tbody>\n",
       "    <tr>\n",
       "      <th>0</th>\n",
       "      <td>Bulbasaur</td>\n",
       "      <td>Grass, Poison</td>\n",
       "    </tr>\n",
       "    <tr>\n",
       "      <th>1</th>\n",
       "      <td>Ivysaur</td>\n",
       "      <td>Grass, Poison</td>\n",
       "    </tr>\n",
       "    <tr>\n",
       "      <th>2</th>\n",
       "      <td>Venusaur</td>\n",
       "      <td>Grass, Poison</td>\n",
       "    </tr>\n",
       "    <tr>\n",
       "      <th>3</th>\n",
       "      <td>Charmander</td>\n",
       "      <td>Fire</td>\n",
       "    </tr>\n",
       "    <tr>\n",
       "      <th>4</th>\n",
       "      <td>Charmeleon</td>\n",
       "      <td>Fire</td>\n",
       "    </tr>\n",
       "    <tr>\n",
       "      <th>...</th>\n",
       "      <td>...</td>\n",
       "      <td>...</td>\n",
       "    </tr>\n",
       "    <tr>\n",
       "      <th>1005</th>\n",
       "      <td>Iron Valiant</td>\n",
       "      <td>Fairy, Fighting</td>\n",
       "    </tr>\n",
       "    <tr>\n",
       "      <th>1006</th>\n",
       "      <td>Koraidon</td>\n",
       "      <td>Fighting, Dragon</td>\n",
       "    </tr>\n",
       "    <tr>\n",
       "      <th>1007</th>\n",
       "      <td>Miraidon</td>\n",
       "      <td>Electric, Dragon</td>\n",
       "    </tr>\n",
       "    <tr>\n",
       "      <th>1008</th>\n",
       "      <td>Walking Wake</td>\n",
       "      <td>Water, Dragon</td>\n",
       "    </tr>\n",
       "    <tr>\n",
       "      <th>1009</th>\n",
       "      <td>Iron Leaves</td>\n",
       "      <td>Grass, Psychic</td>\n",
       "    </tr>\n",
       "  </tbody>\n",
       "</table>\n",
       "<p>1010 rows × 2 columns</p>\n",
       "</div>"
      ],
      "text/plain": [
       "              Name              Type\n",
       "0        Bulbasaur     Grass, Poison\n",
       "1          Ivysaur     Grass, Poison\n",
       "2         Venusaur     Grass, Poison\n",
       "3       Charmander              Fire\n",
       "4       Charmeleon              Fire\n",
       "...            ...               ...\n",
       "1005  Iron Valiant   Fairy, Fighting\n",
       "1006      Koraidon  Fighting, Dragon\n",
       "1007      Miraidon  Electric, Dragon\n",
       "1008  Walking Wake     Water, Dragon\n",
       "1009   Iron Leaves    Grass, Psychic\n",
       "\n",
       "[1010 rows x 2 columns]"
      ]
     },
     "execution_count": 66,
     "metadata": {},
     "output_type": "execute_result"
    }
   ],
   "source": [
    "# apply()\n",
    "pokemon"
   ]
  },
  {
   "cell_type": "code",
   "execution_count": 68,
   "id": "80840724",
   "metadata": {},
   "outputs": [
    {
     "data": {
      "text/html": [
       "<div>\n",
       "<style scoped>\n",
       "    .dataframe tbody tr th:only-of-type {\n",
       "        vertical-align: middle;\n",
       "    }\n",
       "\n",
       "    .dataframe tbody tr th {\n",
       "        vertical-align: top;\n",
       "    }\n",
       "\n",
       "    .dataframe thead th {\n",
       "        text-align: right;\n",
       "    }\n",
       "</style>\n",
       "<table border=\"1\" class=\"dataframe\">\n",
       "  <thead>\n",
       "    <tr style=\"text-align: right;\">\n",
       "      <th></th>\n",
       "      <th>Name</th>\n",
       "      <th>Type</th>\n",
       "      <th>name_length</th>\n",
       "    </tr>\n",
       "  </thead>\n",
       "  <tbody>\n",
       "    <tr>\n",
       "      <th>0</th>\n",
       "      <td>Bulbasaur</td>\n",
       "      <td>Grass, Poison</td>\n",
       "      <td>9</td>\n",
       "    </tr>\n",
       "    <tr>\n",
       "      <th>1</th>\n",
       "      <td>Ivysaur</td>\n",
       "      <td>Grass, Poison</td>\n",
       "      <td>7</td>\n",
       "    </tr>\n",
       "    <tr>\n",
       "      <th>2</th>\n",
       "      <td>Venusaur</td>\n",
       "      <td>Grass, Poison</td>\n",
       "      <td>8</td>\n",
       "    </tr>\n",
       "    <tr>\n",
       "      <th>3</th>\n",
       "      <td>Charmander</td>\n",
       "      <td>Fire</td>\n",
       "      <td>10</td>\n",
       "    </tr>\n",
       "    <tr>\n",
       "      <th>4</th>\n",
       "      <td>Charmeleon</td>\n",
       "      <td>Fire</td>\n",
       "      <td>10</td>\n",
       "    </tr>\n",
       "    <tr>\n",
       "      <th>...</th>\n",
       "      <td>...</td>\n",
       "      <td>...</td>\n",
       "      <td>...</td>\n",
       "    </tr>\n",
       "    <tr>\n",
       "      <th>1005</th>\n",
       "      <td>Iron Valiant</td>\n",
       "      <td>Fairy, Fighting</td>\n",
       "      <td>12</td>\n",
       "    </tr>\n",
       "    <tr>\n",
       "      <th>1006</th>\n",
       "      <td>Koraidon</td>\n",
       "      <td>Fighting, Dragon</td>\n",
       "      <td>8</td>\n",
       "    </tr>\n",
       "    <tr>\n",
       "      <th>1007</th>\n",
       "      <td>Miraidon</td>\n",
       "      <td>Electric, Dragon</td>\n",
       "      <td>8</td>\n",
       "    </tr>\n",
       "    <tr>\n",
       "      <th>1008</th>\n",
       "      <td>Walking Wake</td>\n",
       "      <td>Water, Dragon</td>\n",
       "      <td>12</td>\n",
       "    </tr>\n",
       "    <tr>\n",
       "      <th>1009</th>\n",
       "      <td>Iron Leaves</td>\n",
       "      <td>Grass, Psychic</td>\n",
       "      <td>11</td>\n",
       "    </tr>\n",
       "  </tbody>\n",
       "</table>\n",
       "<p>1010 rows × 3 columns</p>\n",
       "</div>"
      ],
      "text/plain": [
       "              Name              Type  name_length\n",
       "0        Bulbasaur     Grass, Poison            9\n",
       "1          Ivysaur     Grass, Poison            7\n",
       "2         Venusaur     Grass, Poison            8\n",
       "3       Charmander              Fire           10\n",
       "4       Charmeleon              Fire           10\n",
       "...            ...               ...          ...\n",
       "1005  Iron Valiant   Fairy, Fighting           12\n",
       "1006      Koraidon  Fighting, Dragon            8\n",
       "1007      Miraidon  Electric, Dragon            8\n",
       "1008  Walking Wake     Water, Dragon           12\n",
       "1009   Iron Leaves    Grass, Psychic           11\n",
       "\n",
       "[1010 rows x 3 columns]"
      ]
     },
     "execution_count": 68,
     "metadata": {},
     "output_type": "execute_result"
    }
   ],
   "source": [
    "pokemon['name_length'] = pokemon['Name'].apply(len)\n",
    "pokemon"
   ]
  },
  {
   "cell_type": "code",
   "execution_count": 70,
   "id": "8aca0b21",
   "metadata": {},
   "outputs": [
    {
     "data": {
      "text/html": [
       "<div>\n",
       "<style scoped>\n",
       "    .dataframe tbody tr th:only-of-type {\n",
       "        vertical-align: middle;\n",
       "    }\n",
       "\n",
       "    .dataframe tbody tr th {\n",
       "        vertical-align: top;\n",
       "    }\n",
       "\n",
       "    .dataframe thead th {\n",
       "        text-align: right;\n",
       "    }\n",
       "</style>\n",
       "<table border=\"1\" class=\"dataframe\">\n",
       "  <thead>\n",
       "    <tr style=\"text-align: right;\">\n",
       "      <th></th>\n",
       "      <th>Name</th>\n",
       "      <th>Type</th>\n",
       "      <th>name_length</th>\n",
       "      <th>test</th>\n",
       "    </tr>\n",
       "  </thead>\n",
       "  <tbody>\n",
       "    <tr>\n",
       "      <th>0</th>\n",
       "      <td>Bulbasaur</td>\n",
       "      <td>Grass, Poison</td>\n",
       "      <td>9</td>\n",
       "      <td>1.0</td>\n",
       "    </tr>\n",
       "    <tr>\n",
       "      <th>1</th>\n",
       "      <td>Ivysaur</td>\n",
       "      <td>Grass, Poison</td>\n",
       "      <td>7</td>\n",
       "      <td>1.0</td>\n",
       "    </tr>\n",
       "    <tr>\n",
       "      <th>2</th>\n",
       "      <td>Venusaur</td>\n",
       "      <td>Grass, Poison</td>\n",
       "      <td>8</td>\n",
       "      <td>1.0</td>\n",
       "    </tr>\n",
       "    <tr>\n",
       "      <th>3</th>\n",
       "      <td>Charmander</td>\n",
       "      <td>Fire</td>\n",
       "      <td>10</td>\n",
       "      <td>2.0</td>\n",
       "    </tr>\n",
       "    <tr>\n",
       "      <th>4</th>\n",
       "      <td>Charmeleon</td>\n",
       "      <td>Fire</td>\n",
       "      <td>10</td>\n",
       "      <td>2.0</td>\n",
       "    </tr>\n",
       "    <tr>\n",
       "      <th>...</th>\n",
       "      <td>...</td>\n",
       "      <td>...</td>\n",
       "      <td>...</td>\n",
       "      <td>...</td>\n",
       "    </tr>\n",
       "    <tr>\n",
       "      <th>1005</th>\n",
       "      <td>Iron Valiant</td>\n",
       "      <td>Fairy, Fighting</td>\n",
       "      <td>12</td>\n",
       "      <td>3.0</td>\n",
       "    </tr>\n",
       "    <tr>\n",
       "      <th>1006</th>\n",
       "      <td>Koraidon</td>\n",
       "      <td>Fighting, Dragon</td>\n",
       "      <td>8</td>\n",
       "      <td>NaN</td>\n",
       "    </tr>\n",
       "    <tr>\n",
       "      <th>1007</th>\n",
       "      <td>Miraidon</td>\n",
       "      <td>Electric, Dragon</td>\n",
       "      <td>8</td>\n",
       "      <td>NaN</td>\n",
       "    </tr>\n",
       "    <tr>\n",
       "      <th>1008</th>\n",
       "      <td>Walking Wake</td>\n",
       "      <td>Water, Dragon</td>\n",
       "      <td>12</td>\n",
       "      <td>NaN</td>\n",
       "    </tr>\n",
       "    <tr>\n",
       "      <th>1009</th>\n",
       "      <td>Iron Leaves</td>\n",
       "      <td>Grass, Psychic</td>\n",
       "      <td>11</td>\n",
       "      <td>NaN</td>\n",
       "    </tr>\n",
       "  </tbody>\n",
       "</table>\n",
       "<p>1010 rows × 4 columns</p>\n",
       "</div>"
      ],
      "text/plain": [
       "              Name              Type  name_length  test\n",
       "0        Bulbasaur     Grass, Poison            9   1.0\n",
       "1          Ivysaur     Grass, Poison            7   1.0\n",
       "2         Venusaur     Grass, Poison            8   1.0\n",
       "3       Charmander              Fire           10   2.0\n",
       "4       Charmeleon              Fire           10   2.0\n",
       "...            ...               ...          ...   ...\n",
       "1005  Iron Valiant   Fairy, Fighting           12   3.0\n",
       "1006      Koraidon  Fighting, Dragon            8   NaN\n",
       "1007      Miraidon  Electric, Dragon            8   NaN\n",
       "1008  Walking Wake     Water, Dragon           12   NaN\n",
       "1009   Iron Leaves    Grass, Psychic           11   NaN\n",
       "\n",
       "[1010 rows x 4 columns]"
      ]
     },
     "execution_count": 70,
     "metadata": {},
     "output_type": "execute_result"
    }
   ],
   "source": [
    "pokemon['test'] = pokemon['Type'].map({'Grass, Poison':1, 'Fire':2, 'Fairy, Fighting':3})\n",
    "pokemon"
   ]
  },
  {
   "cell_type": "markdown",
   "id": "4b0e3432",
   "metadata": {},
   "source": [
    "# value_counts() method"
   ]
  },
  {
   "cell_type": "code",
   "execution_count": 1,
   "id": "d6796fb0",
   "metadata": {},
   "outputs": [],
   "source": [
    "import numpy as np\n",
    "import pandas as pd"
   ]
  },
  {
   "cell_type": "code",
   "execution_count": 2,
   "id": "37973bd4",
   "metadata": {},
   "outputs": [
    {
     "data": {
      "text/html": [
       "<div>\n",
       "<style scoped>\n",
       "    .dataframe tbody tr th:only-of-type {\n",
       "        vertical-align: middle;\n",
       "    }\n",
       "\n",
       "    .dataframe tbody tr th {\n",
       "        vertical-align: top;\n",
       "    }\n",
       "\n",
       "    .dataframe thead th {\n",
       "        text-align: right;\n",
       "    }\n",
       "</style>\n",
       "<table border=\"1\" class=\"dataframe\">\n",
       "  <thead>\n",
       "    <tr style=\"text-align: right;\">\n",
       "      <th></th>\n",
       "      <th>Name</th>\n",
       "      <th>Type</th>\n",
       "    </tr>\n",
       "  </thead>\n",
       "  <tbody>\n",
       "    <tr>\n",
       "      <th>0</th>\n",
       "      <td>Bulbasaur</td>\n",
       "      <td>Grass, Poison</td>\n",
       "    </tr>\n",
       "    <tr>\n",
       "      <th>1</th>\n",
       "      <td>Ivysaur</td>\n",
       "      <td>Grass, Poison</td>\n",
       "    </tr>\n",
       "    <tr>\n",
       "      <th>2</th>\n",
       "      <td>Venusaur</td>\n",
       "      <td>Grass, Poison</td>\n",
       "    </tr>\n",
       "    <tr>\n",
       "      <th>3</th>\n",
       "      <td>Charmander</td>\n",
       "      <td>Fire</td>\n",
       "    </tr>\n",
       "    <tr>\n",
       "      <th>4</th>\n",
       "      <td>Charmeleon</td>\n",
       "      <td>Fire</td>\n",
       "    </tr>\n",
       "  </tbody>\n",
       "</table>\n",
       "</div>"
      ],
      "text/plain": [
       "         Name           Type\n",
       "0   Bulbasaur  Grass, Poison\n",
       "1     Ivysaur  Grass, Poison\n",
       "2    Venusaur  Grass, Poison\n",
       "3  Charmander           Fire\n",
       "4  Charmeleon           Fire"
      ]
     },
     "execution_count": 2,
     "metadata": {},
     "output_type": "execute_result"
    }
   ],
   "source": [
    "pokemon = pd.read_csv('datasets/pokemon.csv')\n",
    "pokemon.head()"
   ]
  },
  {
   "cell_type": "code",
   "execution_count": 5,
   "id": "1e24bd46",
   "metadata": {},
   "outputs": [
    {
     "data": {
      "text/plain": [
       "Type\n",
       "Water               74\n",
       "Normal              74\n",
       "Grass               46\n",
       "Psychic             39\n",
       "Fire                36\n",
       "                    ..\n",
       "Fighting, Ice        1\n",
       "Fire, Dragon         1\n",
       "Normal, Dragon       1\n",
       "Psychic, Steel       1\n",
       "Fighting, Dragon     1\n",
       "Name: count, Length: 200, dtype: int64"
      ]
     },
     "execution_count": 5,
     "metadata": {},
     "output_type": "execute_result"
    }
   ],
   "source": [
    "pokemon['Type'].value_counts()"
   ]
  },
  {
   "cell_type": "code",
   "execution_count": 7,
   "id": "24ae1df6",
   "metadata": {
    "collapsed": true
   },
   "outputs": [
    {
     "data": {
      "text/plain": [
       "['Water',\n",
       " 'Normal',\n",
       " 'Grass',\n",
       " 'Psychic',\n",
       " 'Fire',\n",
       " 'Electric',\n",
       " 'Fighting',\n",
       " 'Normal, Flying',\n",
       " 'Bug',\n",
       " 'Fairy',\n",
       " 'Rock',\n",
       " 'Ground',\n",
       " 'Ghost',\n",
       " 'Ice',\n",
       " 'Poison',\n",
       " 'Grass, Poison',\n",
       " 'Dark',\n",
       " 'Bug, Flying',\n",
       " 'Dragon',\n",
       " 'Bug, Poison',\n",
       " 'Steel',\n",
       " 'Water, Ground',\n",
       " 'Psychic, Fairy',\n",
       " 'Water, Flying',\n",
       " 'Fire, Fighting',\n",
       " 'Dark, Flying',\n",
       " 'Grass, Flying',\n",
       " 'Psychic, Flying',\n",
       " 'Rock, Water',\n",
       " 'Steel, Psychic',\n",
       " 'Water, Psychic',\n",
       " 'Bug, Grass',\n",
       " 'Fire, Flying',\n",
       " 'Rock, Ground',\n",
       " 'Bug, Steel',\n",
       " 'Normal, Psychic',\n",
       " 'Electric, Flying',\n",
       " 'Ghost, Grass',\n",
       " 'Grass, Dark',\n",
       " 'Grass, Fairy',\n",
       " 'Water, Rock',\n",
       " 'Bug, Fighting',\n",
       " 'Bug, Rock',\n",
       " 'Steel, Ghost',\n",
       " 'Bug, Electric',\n",
       " 'Dragon, Ground',\n",
       " 'Rock, Steel',\n",
       " 'Ice, Water',\n",
       " 'Normal, Fairy',\n",
       " 'Water, Dragon',\n",
       " 'Water, Dark',\n",
       " 'Dragon, Flying',\n",
       " 'Rock, Flying',\n",
       " 'Electric, Steel',\n",
       " 'Water, Fairy',\n",
       " 'Water, Ice',\n",
       " 'Dragon, Ice',\n",
       " 'Dark, Dragon',\n",
       " 'Water, Ghost',\n",
       " 'Flying',\n",
       " 'Dark, Fairy',\n",
       " 'Poison, Ground',\n",
       " 'Grass, Ghost',\n",
       " 'Dark, Steel',\n",
       " 'Poison, Dark',\n",
       " 'Ground, Rock',\n",
       " 'Ground, Ghost',\n",
       " 'Dragon, Ghost',\n",
       " 'Poison, Dragon',\n",
       " 'Poison, Water',\n",
       " 'Fairy, Steel',\n",
       " 'Ghost, Fire',\n",
       " 'Ground, Dark',\n",
       " 'Grass, Steel',\n",
       " 'Ice, Psychic',\n",
       " 'Grass, Normal',\n",
       " 'Poison, Flying',\n",
       " 'Water, Fighting',\n",
       " 'Fire, Ghost',\n",
       " 'Ice, Ground',\n",
       " 'Bug, Psychic',\n",
       " 'Dark, Ice',\n",
       " 'Water, Grass',\n",
       " 'Bug, Water',\n",
       " 'Grass, Fighting',\n",
       " 'Ground, Flying',\n",
       " 'Rock, Poison',\n",
       " 'Water, Poison',\n",
       " 'Fairy, Flying',\n",
       " 'Steel, Fairy',\n",
       " 'Steel, Rock',\n",
       " 'Grass, Dragon',\n",
       " 'Ghost, Poison',\n",
       " 'Grass, Psychic',\n",
       " 'Dark, Fire',\n",
       " 'Rock, Fire',\n",
       " 'Ice, Bug',\n",
       " 'Fire, Psychic',\n",
       " 'Fire, Normal',\n",
       " 'Fighting, Dark',\n",
       " 'Electric, Poison',\n",
       " 'Dark, Psychic',\n",
       " 'Normal, Fighting',\n",
       " 'Fighting, Ghost',\n",
       " 'Dark, Grass',\n",
       " 'Water, Bug',\n",
       " 'Bug, Fairy',\n",
       " 'Electric, Fighting',\n",
       " 'Electric, Dragon',\n",
       " 'Ghost, Fairy',\n",
       " 'Dragon, Fighting',\n",
       " 'Psychic, Ghost',\n",
       " 'Poison, Fire',\n",
       " 'Flying, Dragon',\n",
       " 'Rock, Fairy',\n",
       " 'Electric, Fairy',\n",
       " 'Rock, Ice',\n",
       " 'Rock, Dragon',\n",
       " 'Electric, Normal',\n",
       " 'Ghost, Ground',\n",
       " 'Steel, Poison',\n",
       " 'Bug, Fire',\n",
       " 'Ghost, Flying',\n",
       " 'Ice, Flying',\n",
       " 'Water, Electric',\n",
       " 'Steel, Flying',\n",
       " 'Psychic, Grass',\n",
       " 'Fighting, Psychic',\n",
       " 'Fire, Ground',\n",
       " 'Ground, Dragon',\n",
       " 'Rock, Psychic',\n",
       " 'Ground, Psychic',\n",
       " 'Rock, Grass',\n",
       " 'Rock, Bug',\n",
       " 'Dragon, Psychic',\n",
       " 'Ground, Steel',\n",
       " 'Grass, Ice',\n",
       " 'Poison, Normal',\n",
       " 'Normal, Grass',\n",
       " 'Dark, Fighting',\n",
       " 'Ground, Grass',\n",
       " 'Steel, Dragon',\n",
       " 'Fire, Bug',\n",
       " 'Poison, Fighting',\n",
       " 'Bug, Dark',\n",
       " 'Psychic, Normal',\n",
       " 'Dark, Poison',\n",
       " 'Dark, Normal',\n",
       " 'Flying, Fighting',\n",
       " 'Fairy, Fighting',\n",
       " 'Dragon, Dark',\n",
       " 'Dragon, Water',\n",
       " 'Dark, Ground',\n",
       " 'Fighting, Poison',\n",
       " 'Rock, Electric',\n",
       " 'Fire, Poison',\n",
       " 'Electric, Ground',\n",
       " 'Electric, Dark',\n",
       " 'Fighting, Electric',\n",
       " 'Ground, Normal',\n",
       " 'Ground, Fighting',\n",
       " 'Grass, Fire',\n",
       " 'Fairy, Psychic',\n",
       " 'Flying, Dark',\n",
       " 'Electric, Ice',\n",
       " 'Dragon, Normal',\n",
       " 'Electric, Ghost',\n",
       " 'Flying, Water',\n",
       " 'Fire, Steel',\n",
       " 'Steel, Ground',\n",
       " 'Fire, Rock',\n",
       " 'Rock, Dark',\n",
       " 'Bug, Ground',\n",
       " 'Bug, Ghost',\n",
       " 'Dark, Ghost',\n",
       " 'Grass, Ground',\n",
       " 'Water, Steel',\n",
       " 'Normal, Water',\n",
       " 'Ghost, Dark',\n",
       " 'Fighting, Steel',\n",
       " 'Poison, Bug',\n",
       " 'Psychic, Fighting',\n",
       " 'Ice, Ghost',\n",
       " 'Ghost, Dragon',\n",
       " 'Flying, Steel',\n",
       " 'Psychic, Fire',\n",
       " 'Ground, Electric',\n",
       " 'Steel, Fighting',\n",
       " 'Rock, Fighting',\n",
       " 'Dragon, Fire',\n",
       " 'Dragon, Electric',\n",
       " 'Normal, Ground',\n",
       " 'Fighting, Flying',\n",
       " 'Fire, Water',\n",
       " 'Fire, Dark',\n",
       " 'Fighting, Ice',\n",
       " 'Fire, Dragon',\n",
       " 'Normal, Dragon',\n",
       " 'Psychic, Steel',\n",
       " 'Fighting, Dragon']"
      ]
     },
     "execution_count": 7,
     "metadata": {},
     "output_type": "execute_result"
    }
   ],
   "source": [
    "pokemon['Type'].value_counts().index.tolist()"
   ]
  },
  {
   "cell_type": "code",
   "execution_count": 8,
   "id": "21be6b88",
   "metadata": {},
   "outputs": [
    {
     "data": {
      "text/plain": [
       "array(['Grass, Poison', 'Fire', 'Fire, Flying', 'Water', 'Bug',\n",
       "       'Bug, Flying', 'Bug, Poison', 'Normal, Flying', 'Normal', 'Poison',\n",
       "       'Electric', 'Ground', 'Poison, Ground', 'Fairy', 'Normal, Fairy',\n",
       "       'Poison, Flying', 'Bug, Grass', 'Fighting', 'Water, Fighting',\n",
       "       'Psychic', 'Water, Poison', 'Rock, Ground', 'Water, Psychic',\n",
       "       'Electric, Steel', 'Water, Ice', 'Ghost, Poison', 'Grass, Psychic',\n",
       "       'Ground, Rock', 'Grass', 'Psychic, Fairy', 'Ice, Psychic',\n",
       "       'Water, Flying', 'Rock, Water', 'Rock, Flying', 'Ice, Flying',\n",
       "       'Electric, Flying', 'Dragon', 'Dragon, Flying', 'Water, Electric',\n",
       "       'Fairy, Flying', 'Psychic, Flying', 'Water, Fairy', 'Rock',\n",
       "       'Grass, Flying', 'Water, Ground', 'Dark', 'Dark, Flying', 'Ghost',\n",
       "       'Normal, Psychic', 'Bug, Steel', 'Ground, Flying', 'Steel, Ground',\n",
       "       'Bug, Rock', 'Bug, Fighting', 'Dark, Ice', 'Fire, Rock',\n",
       "       'Ice, Ground', 'Water, Rock', 'Steel, Flying', 'Dark, Fire',\n",
       "       'Water, Dragon', 'Rock, Dark', 'Psychic, Grass', 'Fire, Fighting',\n",
       "       'Water, Grass', 'Grass, Dark', 'Bug, Water', 'Grass, Fighting',\n",
       "       'Bug, Ground', 'Bug, Ghost', 'Dark, Ghost', 'Steel, Fairy',\n",
       "       'Steel, Rock', 'Fighting, Psychic', 'Water, Dark', 'Fire, Ground',\n",
       "       'Ground, Dragon', 'Rock, Psychic', 'Ground, Psychic',\n",
       "       'Rock, Grass', 'Rock, Bug', 'Ice', 'Ice, Water', 'Steel, Psychic',\n",
       "       'Steel', 'Dragon, Psychic', 'Grass, Ground', 'Water, Steel',\n",
       "       'Normal, Water', 'Rock, Steel', 'Ghost, Flying', 'Poison, Dark',\n",
       "       'Ghost, Dark', 'Dragon, Ground', 'Fighting, Steel', 'Poison, Bug',\n",
       "       'Poison, Fighting', 'Grass, Ice', 'Psychic, Fighting',\n",
       "       'Ice, Ghost', 'Electric, Ghost', 'Steel, Dragon', 'Fire, Steel',\n",
       "       'Ghost, Dragon', 'Psychic, Fire', 'Ground, Steel', 'Grass, Fairy',\n",
       "       'Ground, Dark', 'Dark, Fighting', 'Normal, Grass', 'Water, Ghost',\n",
       "       'Bug, Electric', 'Grass, Steel', 'Ghost, Fire', 'Ground, Electric',\n",
       "       'Ground, Ghost', 'Dark, Steel', 'Dark, Dragon', 'Bug, Fire',\n",
       "       'Steel, Fighting', 'Rock, Fighting', 'Flying', 'Dragon, Fire',\n",
       "       'Dragon, Electric', 'Dragon, Ice', 'Fire, Psychic',\n",
       "       'Normal, Ground', 'Fire, Normal', 'Fighting, Dark', 'Steel, Ghost',\n",
       "       'Dark, Psychic', 'Poison, Water', 'Poison, Dragon',\n",
       "       'Electric, Normal', 'Rock, Dragon', 'Rock, Ice',\n",
       "       'Fighting, Flying', 'Electric, Fairy', 'Rock, Fairy',\n",
       "       'Ghost, Grass', 'Flying, Dragon', 'Psychic, Ghost', 'Fire, Water',\n",
       "       'Grass, Ghost', 'Fire, Dark', 'Fighting, Ice', 'Bug, Fairy',\n",
       "       'Water, Bug', 'Poison, Fire', 'Normal, Fighting', 'Ghost, Ground',\n",
       "       'Fire, Dragon', 'Ghost, Fairy', 'Normal, Dragon',\n",
       "       'Dragon, Fighting', 'Psychic, Steel', 'Rock, Poison',\n",
       "       'Fighting, Ghost', 'Fire, Ghost', 'Flying, Steel', 'Bug, Psychic',\n",
       "       'Rock, Fire', 'Grass, Dragon', 'Flying, Water', 'Electric, Poison',\n",
       "       'Fire, Bug', 'Dark, Fairy', 'Dark, Normal', 'Ice, Bug',\n",
       "       'Psychic, Normal', 'Electric, Dark', 'Electric, Dragon',\n",
       "       'Electric, Ice', 'Dragon, Ghost', 'Dark, Grass', 'Ground, Normal',\n",
       "       'Fighting, Poison', 'Dark, Poison', 'Bug, Dark',\n",
       "       'Electric, Fighting', 'Grass, Normal', 'Poison, Normal',\n",
       "       'Ground, Grass', 'Grass, Fire', 'Fairy, Steel', 'Flying, Dark',\n",
       "       'Steel, Poison', 'Dragon, Normal', 'Flying, Fighting',\n",
       "       'Dragon, Water', 'Ground, Fighting', 'Fairy, Psychic',\n",
       "       'Electric, Ground', 'Fighting, Electric', 'Fire, Poison',\n",
       "       'Rock, Electric', 'Dark, Ground', 'Dragon, Dark',\n",
       "       'Fairy, Fighting', 'Fighting, Dragon'], dtype=object)"
      ]
     },
     "execution_count": 8,
     "metadata": {},
     "output_type": "execute_result"
    }
   ],
   "source": [
    "pokemon['Type'].unique()"
   ]
  },
  {
   "cell_type": "code",
   "execution_count": 9,
   "id": "2cc33f53",
   "metadata": {},
   "outputs": [],
   "source": [
    "l = ['B','B','A','B','C','A','B','B','A','C']"
   ]
  },
  {
   "cell_type": "code",
   "execution_count": 10,
   "id": "6483114b",
   "metadata": {},
   "outputs": [],
   "source": [
    "from collections import Counter"
   ]
  },
  {
   "cell_type": "code",
   "execution_count": 11,
   "id": "b13fabfb",
   "metadata": {},
   "outputs": [
    {
     "data": {
      "text/plain": [
       "Counter({'B': 5, 'A': 3, 'C': 2})"
      ]
     },
     "execution_count": 11,
     "metadata": {},
     "output_type": "execute_result"
    }
   ],
   "source": [
    "Counter(l)"
   ]
  },
  {
   "cell_type": "code",
   "execution_count": 12,
   "id": "3675ba89",
   "metadata": {},
   "outputs": [],
   "source": [
    "s = pd.Series(['Abhishek', 'Amrusha', 'Abhishek', 'Priyanka', 'Amrusha', np.nan, np.nan])"
   ]
  },
  {
   "cell_type": "code",
   "execution_count": 13,
   "id": "79f8a7d4",
   "metadata": {},
   "outputs": [
    {
     "data": {
      "text/plain": [
       "0    Abhishek\n",
       "1     Amrusha\n",
       "2    Abhishek\n",
       "3    Priyanka\n",
       "4     Amrusha\n",
       "5         NaN\n",
       "6         NaN\n",
       "dtype: object"
      ]
     },
     "execution_count": 13,
     "metadata": {},
     "output_type": "execute_result"
    }
   ],
   "source": [
    "s"
   ]
  },
  {
   "cell_type": "code",
   "execution_count": 14,
   "id": "0d322626",
   "metadata": {},
   "outputs": [
    {
     "data": {
      "text/plain": [
       "Abhishek    2\n",
       "Amrusha     2\n",
       "Priyanka    1\n",
       "Name: count, dtype: int64"
      ]
     },
     "execution_count": 14,
     "metadata": {},
     "output_type": "execute_result"
    }
   ],
   "source": [
    "s.value_counts() # does not tell us how many times null value comes"
   ]
  },
  {
   "cell_type": "code",
   "execution_count": 15,
   "id": "13a1eeca",
   "metadata": {},
   "outputs": [
    {
     "data": {
      "text/plain": [
       "Abhishek    2\n",
       "Amrusha     2\n",
       "NaN         2\n",
       "Priyanka    1\n",
       "Name: count, dtype: int64"
      ]
     },
     "execution_count": 15,
     "metadata": {},
     "output_type": "execute_result"
    }
   ],
   "source": [
    "s.value_counts(dropna = False)"
   ]
  },
  {
   "cell_type": "code",
   "execution_count": 16,
   "id": "c9ed5f11",
   "metadata": {},
   "outputs": [
    {
     "data": {
      "text/plain": [
       "Index(['Abhishek', 'Amrusha', 'Priyanka'], dtype='object')"
      ]
     },
     "execution_count": 16,
     "metadata": {},
     "output_type": "execute_result"
    }
   ],
   "source": [
    "s.value_counts().index"
   ]
  },
  {
   "cell_type": "code",
   "execution_count": 17,
   "id": "90e9a3c3",
   "metadata": {},
   "outputs": [],
   "source": [
    "import seaborn as sns"
   ]
  },
  {
   "cell_type": "code",
   "execution_count": 18,
   "id": "c313c65d",
   "metadata": {},
   "outputs": [
    {
     "data": {
      "text/html": [
       "<div>\n",
       "<style scoped>\n",
       "    .dataframe tbody tr th:only-of-type {\n",
       "        vertical-align: middle;\n",
       "    }\n",
       "\n",
       "    .dataframe tbody tr th {\n",
       "        vertical-align: top;\n",
       "    }\n",
       "\n",
       "    .dataframe thead th {\n",
       "        text-align: right;\n",
       "    }\n",
       "</style>\n",
       "<table border=\"1\" class=\"dataframe\">\n",
       "  <thead>\n",
       "    <tr style=\"text-align: right;\">\n",
       "      <th></th>\n",
       "      <th>sepal_length</th>\n",
       "      <th>sepal_width</th>\n",
       "      <th>petal_length</th>\n",
       "      <th>petal_width</th>\n",
       "      <th>species</th>\n",
       "    </tr>\n",
       "  </thead>\n",
       "  <tbody>\n",
       "    <tr>\n",
       "      <th>0</th>\n",
       "      <td>5.1</td>\n",
       "      <td>3.5</td>\n",
       "      <td>1.4</td>\n",
       "      <td>0.2</td>\n",
       "      <td>setosa</td>\n",
       "    </tr>\n",
       "    <tr>\n",
       "      <th>1</th>\n",
       "      <td>4.9</td>\n",
       "      <td>3.0</td>\n",
       "      <td>1.4</td>\n",
       "      <td>0.2</td>\n",
       "      <td>setosa</td>\n",
       "    </tr>\n",
       "    <tr>\n",
       "      <th>2</th>\n",
       "      <td>4.7</td>\n",
       "      <td>3.2</td>\n",
       "      <td>1.3</td>\n",
       "      <td>0.2</td>\n",
       "      <td>setosa</td>\n",
       "    </tr>\n",
       "    <tr>\n",
       "      <th>3</th>\n",
       "      <td>4.6</td>\n",
       "      <td>3.1</td>\n",
       "      <td>1.5</td>\n",
       "      <td>0.2</td>\n",
       "      <td>setosa</td>\n",
       "    </tr>\n",
       "    <tr>\n",
       "      <th>4</th>\n",
       "      <td>5.0</td>\n",
       "      <td>3.6</td>\n",
       "      <td>1.4</td>\n",
       "      <td>0.2</td>\n",
       "      <td>setosa</td>\n",
       "    </tr>\n",
       "  </tbody>\n",
       "</table>\n",
       "</div>"
      ],
      "text/plain": [
       "   sepal_length  sepal_width  petal_length  petal_width species\n",
       "0           5.1          3.5           1.4          0.2  setosa\n",
       "1           4.9          3.0           1.4          0.2  setosa\n",
       "2           4.7          3.2           1.3          0.2  setosa\n",
       "3           4.6          3.1           1.5          0.2  setosa\n",
       "4           5.0          3.6           1.4          0.2  setosa"
      ]
     },
     "execution_count": 18,
     "metadata": {},
     "output_type": "execute_result"
    }
   ],
   "source": [
    "iris = sns.load_dataset('iris')\n",
    "iris.head()"
   ]
  },
  {
   "cell_type": "code",
   "execution_count": 22,
   "id": "bb457163",
   "metadata": {},
   "outputs": [
    {
     "data": {
      "text/plain": [
       "array(['setosa', 'versicolor', 'virginica'], dtype='<U10')"
      ]
     },
     "execution_count": 22,
     "metadata": {},
     "output_type": "execute_result"
    }
   ],
   "source": [
    "np.array(iris['species'].value_counts().index.tolist())"
   ]
  },
  {
   "cell_type": "code",
   "execution_count": 23,
   "id": "02d279e9",
   "metadata": {},
   "outputs": [],
   "source": [
    "# Generally it is used for categorical columns"
   ]
  },
  {
   "cell_type": "code",
   "execution_count": 24,
   "id": "3b25cf8d",
   "metadata": {},
   "outputs": [],
   "source": [
    "titanic = sns.load_dataset('titanic')"
   ]
  },
  {
   "cell_type": "code",
   "execution_count": 25,
   "id": "0ec56adc",
   "metadata": {},
   "outputs": [
    {
     "data": {
      "text/html": [
       "<div>\n",
       "<style scoped>\n",
       "    .dataframe tbody tr th:only-of-type {\n",
       "        vertical-align: middle;\n",
       "    }\n",
       "\n",
       "    .dataframe tbody tr th {\n",
       "        vertical-align: top;\n",
       "    }\n",
       "\n",
       "    .dataframe thead th {\n",
       "        text-align: right;\n",
       "    }\n",
       "</style>\n",
       "<table border=\"1\" class=\"dataframe\">\n",
       "  <thead>\n",
       "    <tr style=\"text-align: right;\">\n",
       "      <th></th>\n",
       "      <th>survived</th>\n",
       "      <th>pclass</th>\n",
       "      <th>sex</th>\n",
       "      <th>age</th>\n",
       "      <th>sibsp</th>\n",
       "      <th>parch</th>\n",
       "      <th>fare</th>\n",
       "      <th>embarked</th>\n",
       "      <th>class</th>\n",
       "      <th>who</th>\n",
       "      <th>adult_male</th>\n",
       "      <th>deck</th>\n",
       "      <th>embark_town</th>\n",
       "      <th>alive</th>\n",
       "      <th>alone</th>\n",
       "    </tr>\n",
       "  </thead>\n",
       "  <tbody>\n",
       "    <tr>\n",
       "      <th>0</th>\n",
       "      <td>0</td>\n",
       "      <td>3</td>\n",
       "      <td>male</td>\n",
       "      <td>22.0</td>\n",
       "      <td>1</td>\n",
       "      <td>0</td>\n",
       "      <td>7.2500</td>\n",
       "      <td>S</td>\n",
       "      <td>Third</td>\n",
       "      <td>man</td>\n",
       "      <td>True</td>\n",
       "      <td>NaN</td>\n",
       "      <td>Southampton</td>\n",
       "      <td>no</td>\n",
       "      <td>False</td>\n",
       "    </tr>\n",
       "    <tr>\n",
       "      <th>1</th>\n",
       "      <td>1</td>\n",
       "      <td>1</td>\n",
       "      <td>female</td>\n",
       "      <td>38.0</td>\n",
       "      <td>1</td>\n",
       "      <td>0</td>\n",
       "      <td>71.2833</td>\n",
       "      <td>C</td>\n",
       "      <td>First</td>\n",
       "      <td>woman</td>\n",
       "      <td>False</td>\n",
       "      <td>C</td>\n",
       "      <td>Cherbourg</td>\n",
       "      <td>yes</td>\n",
       "      <td>False</td>\n",
       "    </tr>\n",
       "    <tr>\n",
       "      <th>2</th>\n",
       "      <td>1</td>\n",
       "      <td>3</td>\n",
       "      <td>female</td>\n",
       "      <td>26.0</td>\n",
       "      <td>0</td>\n",
       "      <td>0</td>\n",
       "      <td>7.9250</td>\n",
       "      <td>S</td>\n",
       "      <td>Third</td>\n",
       "      <td>woman</td>\n",
       "      <td>False</td>\n",
       "      <td>NaN</td>\n",
       "      <td>Southampton</td>\n",
       "      <td>yes</td>\n",
       "      <td>True</td>\n",
       "    </tr>\n",
       "    <tr>\n",
       "      <th>3</th>\n",
       "      <td>1</td>\n",
       "      <td>1</td>\n",
       "      <td>female</td>\n",
       "      <td>35.0</td>\n",
       "      <td>1</td>\n",
       "      <td>0</td>\n",
       "      <td>53.1000</td>\n",
       "      <td>S</td>\n",
       "      <td>First</td>\n",
       "      <td>woman</td>\n",
       "      <td>False</td>\n",
       "      <td>C</td>\n",
       "      <td>Southampton</td>\n",
       "      <td>yes</td>\n",
       "      <td>False</td>\n",
       "    </tr>\n",
       "    <tr>\n",
       "      <th>4</th>\n",
       "      <td>0</td>\n",
       "      <td>3</td>\n",
       "      <td>male</td>\n",
       "      <td>35.0</td>\n",
       "      <td>0</td>\n",
       "      <td>0</td>\n",
       "      <td>8.0500</td>\n",
       "      <td>S</td>\n",
       "      <td>Third</td>\n",
       "      <td>man</td>\n",
       "      <td>True</td>\n",
       "      <td>NaN</td>\n",
       "      <td>Southampton</td>\n",
       "      <td>no</td>\n",
       "      <td>True</td>\n",
       "    </tr>\n",
       "  </tbody>\n",
       "</table>\n",
       "</div>"
      ],
      "text/plain": [
       "   survived  pclass     sex   age  sibsp  parch     fare embarked  class  \\\n",
       "0         0       3    male  22.0      1      0   7.2500        S  Third   \n",
       "1         1       1  female  38.0      1      0  71.2833        C  First   \n",
       "2         1       3  female  26.0      0      0   7.9250        S  Third   \n",
       "3         1       1  female  35.0      1      0  53.1000        S  First   \n",
       "4         0       3    male  35.0      0      0   8.0500        S  Third   \n",
       "\n",
       "     who  adult_male deck  embark_town alive  alone  \n",
       "0    man        True  NaN  Southampton    no  False  \n",
       "1  woman       False    C    Cherbourg   yes  False  \n",
       "2  woman       False  NaN  Southampton   yes   True  \n",
       "3  woman       False    C  Southampton   yes  False  \n",
       "4    man        True  NaN  Southampton    no   True  "
      ]
     },
     "execution_count": 25,
     "metadata": {},
     "output_type": "execute_result"
    }
   ],
   "source": [
    "titanic.head()"
   ]
  },
  {
   "cell_type": "code",
   "execution_count": 26,
   "id": "bed4cc8c",
   "metadata": {},
   "outputs": [
    {
     "data": {
      "text/plain": [
       "(891, 15)"
      ]
     },
     "execution_count": 26,
     "metadata": {},
     "output_type": "execute_result"
    }
   ],
   "source": [
    "titanic.shape # 891 rows"
   ]
  },
  {
   "cell_type": "code",
   "execution_count": 27,
   "id": "9ecf7ee5",
   "metadata": {},
   "outputs": [
    {
     "data": {
      "text/plain": [
       "False"
      ]
     },
     "execution_count": 27,
     "metadata": {},
     "output_type": "execute_result"
    }
   ],
   "source": [
    "titanic['survived'].hasnans"
   ]
  },
  {
   "cell_type": "code",
   "execution_count": 28,
   "id": "0f293dd9",
   "metadata": {},
   "outputs": [
    {
     "data": {
      "text/plain": [
       "survived\n",
       "0    549\n",
       "1    342\n",
       "Name: count, dtype: int64"
      ]
     },
     "execution_count": 28,
     "metadata": {},
     "output_type": "execute_result"
    }
   ],
   "source": [
    "titanic['survived'].value_counts()"
   ]
  },
  {
   "cell_type": "code",
   "execution_count": 32,
   "id": "4723320c",
   "metadata": {},
   "outputs": [
    {
     "data": {
      "text/plain": [
       "True"
      ]
     },
     "execution_count": 32,
     "metadata": {},
     "output_type": "execute_result"
    }
   ],
   "source": [
    "titanic['deck'].hasnans"
   ]
  },
  {
   "cell_type": "code",
   "execution_count": 34,
   "id": "99c8afbe",
   "metadata": {},
   "outputs": [
    {
     "data": {
      "text/plain": [
       "deck\n",
       "A    15\n",
       "B    47\n",
       "C    59\n",
       "D    33\n",
       "E    32\n",
       "F    13\n",
       "G     4\n",
       "Name: count, dtype: int64"
      ]
     },
     "execution_count": 34,
     "metadata": {},
     "output_type": "execute_result"
    }
   ],
   "source": [
    "titanic['deck'].value_counts().sort_index()"
   ]
  },
  {
   "cell_type": "code",
   "execution_count": 37,
   "id": "0c15c361",
   "metadata": {},
   "outputs": [
    {
     "data": {
      "text/plain": [
       "deck\n",
       "NaN    688\n",
       "C       59\n",
       "B       47\n",
       "D       33\n",
       "E       32\n",
       "A       15\n",
       "F       13\n",
       "G        4\n",
       "Name: count, dtype: int64"
      ]
     },
     "execution_count": 37,
     "metadata": {},
     "output_type": "execute_result"
    }
   ],
   "source": [
    "titanic['deck'].value_counts(dropna = False)"
   ]
  },
  {
   "cell_type": "code",
   "execution_count": 39,
   "id": "e6247c42",
   "metadata": {},
   "outputs": [
    {
     "data": {
      "text/plain": [
       "deck\n",
       "NaN    77.216611\n",
       "C       6.621773\n",
       "B       5.274972\n",
       "D       3.703704\n",
       "E       3.591470\n",
       "A       1.683502\n",
       "F       1.459035\n",
       "G       0.448934\n",
       "Name: proportion, dtype: float64"
      ]
     },
     "execution_count": 39,
     "metadata": {},
     "output_type": "execute_result"
    }
   ],
   "source": [
    "titanic['deck'].value_counts(dropna = False, normalize = True) * 100"
   ]
  },
  {
   "cell_type": "markdown",
   "id": "c1881b2e",
   "metadata": {},
   "source": [
    "# dropna() and fillna()"
   ]
  },
  {
   "cell_type": "markdown",
   "id": "2dd8ec1d",
   "metadata": {},
   "source": [
    "    we have two options for null values -- either we drop them or either we fill them with something\n",
    "    for droping -- dropna() and for filling -- fillna()"
   ]
  },
  {
   "cell_type": "code",
   "execution_count": 41,
   "id": "aa5bf7a2",
   "metadata": {},
   "outputs": [
    {
     "data": {
      "text/html": [
       "<div>\n",
       "<style scoped>\n",
       "    .dataframe tbody tr th:only-of-type {\n",
       "        vertical-align: middle;\n",
       "    }\n",
       "\n",
       "    .dataframe tbody tr th {\n",
       "        vertical-align: top;\n",
       "    }\n",
       "\n",
       "    .dataframe thead th {\n",
       "        text-align: right;\n",
       "    }\n",
       "</style>\n",
       "<table border=\"1\" class=\"dataframe\">\n",
       "  <thead>\n",
       "    <tr style=\"text-align: right;\">\n",
       "      <th></th>\n",
       "      <th>Name</th>\n",
       "      <th>Team</th>\n",
       "      <th>Position</th>\n",
       "      <th>Height</th>\n",
       "      <th>Weight</th>\n",
       "      <th>College</th>\n",
       "      <th>Salary</th>\n",
       "    </tr>\n",
       "  </thead>\n",
       "  <tbody>\n",
       "    <tr>\n",
       "      <th>0</th>\n",
       "      <td>Saddiq Bey</td>\n",
       "      <td>Atlanta Hawks</td>\n",
       "      <td>F</td>\n",
       "      <td>6-7</td>\n",
       "      <td>215.0</td>\n",
       "      <td>Villanova</td>\n",
       "      <td>4556983.0</td>\n",
       "    </tr>\n",
       "    <tr>\n",
       "      <th>1</th>\n",
       "      <td>Bogdan Bogdanovic</td>\n",
       "      <td>Atlanta Hawks</td>\n",
       "      <td>G</td>\n",
       "      <td>6-5</td>\n",
       "      <td>225.0</td>\n",
       "      <td>Fenerbahce</td>\n",
       "      <td>18700000.0</td>\n",
       "    </tr>\n",
       "    <tr>\n",
       "      <th>2</th>\n",
       "      <td>Kobe Bufkin</td>\n",
       "      <td>Atlanta Hawks</td>\n",
       "      <td>G</td>\n",
       "      <td>6-5</td>\n",
       "      <td>195.0</td>\n",
       "      <td>Michigan</td>\n",
       "      <td>4094244.0</td>\n",
       "    </tr>\n",
       "    <tr>\n",
       "      <th>3</th>\n",
       "      <td>Clint Capela</td>\n",
       "      <td>Atlanta Hawks</td>\n",
       "      <td>C</td>\n",
       "      <td>6-10</td>\n",
       "      <td>256.0</td>\n",
       "      <td>Elan Chalon</td>\n",
       "      <td>20616000.0</td>\n",
       "    </tr>\n",
       "    <tr>\n",
       "      <th>4</th>\n",
       "      <td>Bruno Fernando</td>\n",
       "      <td>Atlanta Hawks</td>\n",
       "      <td>F-C</td>\n",
       "      <td>6-10</td>\n",
       "      <td>240.0</td>\n",
       "      <td>Maryland</td>\n",
       "      <td>2581522.0</td>\n",
       "    </tr>\n",
       "    <tr>\n",
       "      <th>...</th>\n",
       "      <td>...</td>\n",
       "      <td>...</td>\n",
       "      <td>...</td>\n",
       "      <td>...</td>\n",
       "      <td>...</td>\n",
       "      <td>...</td>\n",
       "      <td>...</td>\n",
       "    </tr>\n",
       "    <tr>\n",
       "      <th>587</th>\n",
       "      <td>Ryan Rollins</td>\n",
       "      <td>Washington Wizards</td>\n",
       "      <td>G</td>\n",
       "      <td>6-3</td>\n",
       "      <td>180.0</td>\n",
       "      <td>Toledo</td>\n",
       "      <td>1719864.0</td>\n",
       "    </tr>\n",
       "    <tr>\n",
       "      <th>588</th>\n",
       "      <td>Landry Shamet</td>\n",
       "      <td>Washington Wizards</td>\n",
       "      <td>G</td>\n",
       "      <td>6-4</td>\n",
       "      <td>190.0</td>\n",
       "      <td>Wichita State</td>\n",
       "      <td>10250000.0</td>\n",
       "    </tr>\n",
       "    <tr>\n",
       "      <th>589</th>\n",
       "      <td>Tristan Vukcevic</td>\n",
       "      <td>Washington Wizards</td>\n",
       "      <td>F</td>\n",
       "      <td>6-10</td>\n",
       "      <td>220.0</td>\n",
       "      <td>Real Madrid</td>\n",
       "      <td>NaN</td>\n",
       "    </tr>\n",
       "    <tr>\n",
       "      <th>590</th>\n",
       "      <td>Delon Wright</td>\n",
       "      <td>Washington Wizards</td>\n",
       "      <td>G</td>\n",
       "      <td>6-5</td>\n",
       "      <td>185.0</td>\n",
       "      <td>Utah</td>\n",
       "      <td>8195122.0</td>\n",
       "    </tr>\n",
       "    <tr>\n",
       "      <th>591</th>\n",
       "      <td>NaN</td>\n",
       "      <td>NaN</td>\n",
       "      <td>NaN</td>\n",
       "      <td>NaN</td>\n",
       "      <td>NaN</td>\n",
       "      <td>NaN</td>\n",
       "      <td>NaN</td>\n",
       "    </tr>\n",
       "  </tbody>\n",
       "</table>\n",
       "<p>592 rows × 7 columns</p>\n",
       "</div>"
      ],
      "text/plain": [
       "                  Name                Team Position Height  Weight  \\\n",
       "0           Saddiq Bey       Atlanta Hawks        F    6-7   215.0   \n",
       "1    Bogdan Bogdanovic       Atlanta Hawks        G    6-5   225.0   \n",
       "2          Kobe Bufkin       Atlanta Hawks        G    6-5   195.0   \n",
       "3         Clint Capela       Atlanta Hawks        C   6-10   256.0   \n",
       "4       Bruno Fernando       Atlanta Hawks      F-C   6-10   240.0   \n",
       "..                 ...                 ...      ...    ...     ...   \n",
       "587       Ryan Rollins  Washington Wizards        G    6-3   180.0   \n",
       "588      Landry Shamet  Washington Wizards        G    6-4   190.0   \n",
       "589   Tristan Vukcevic  Washington Wizards        F   6-10   220.0   \n",
       "590       Delon Wright  Washington Wizards        G    6-5   185.0   \n",
       "591                NaN                 NaN      NaN    NaN     NaN   \n",
       "\n",
       "           College      Salary  \n",
       "0        Villanova   4556983.0  \n",
       "1       Fenerbahce  18700000.0  \n",
       "2         Michigan   4094244.0  \n",
       "3      Elan Chalon  20616000.0  \n",
       "4         Maryland   2581522.0  \n",
       "..             ...         ...  \n",
       "587         Toledo   1719864.0  \n",
       "588  Wichita State  10250000.0  \n",
       "589    Real Madrid         NaN  \n",
       "590           Utah   8195122.0  \n",
       "591            NaN         NaN  \n",
       "\n",
       "[592 rows x 7 columns]"
      ]
     },
     "execution_count": 41,
     "metadata": {},
     "output_type": "execute_result"
    }
   ],
   "source": [
    "nba = pd.read_csv('datasets/nba.csv')\n",
    "nba"
   ]
  },
  {
   "cell_type": "code",
   "execution_count": 54,
   "id": "d2d0db9e",
   "metadata": {},
   "outputs": [
    {
     "data": {
      "text/plain": [
       "{'Name': 1,\n",
       " 'Team': 1,\n",
       " 'Position': 8,\n",
       " 'Height': 7,\n",
       " 'Weight': 8,\n",
       " 'College': 14,\n",
       " 'Salary': 104}"
      ]
     },
     "execution_count": 54,
     "metadata": {},
     "output_type": "execute_result"
    }
   ],
   "source": [
    "l = {}\n",
    "for column in nba.columns:\n",
    "    l[column] = nba[column].value_counts(dropna = False)[np.nan] # nba[column].value_counts(dropna = False)['NaN']  XXX\n",
    "    \n",
    "l"
   ]
  },
  {
   "cell_type": "code",
   "execution_count": 56,
   "id": "72a6a1a3",
   "metadata": {},
   "outputs": [
    {
     "data": {
      "text/html": [
       "<div>\n",
       "<style scoped>\n",
       "    .dataframe tbody tr th:only-of-type {\n",
       "        vertical-align: middle;\n",
       "    }\n",
       "\n",
       "    .dataframe tbody tr th {\n",
       "        vertical-align: top;\n",
       "    }\n",
       "\n",
       "    .dataframe thead th {\n",
       "        text-align: right;\n",
       "    }\n",
       "</style>\n",
       "<table border=\"1\" class=\"dataframe\">\n",
       "  <thead>\n",
       "    <tr style=\"text-align: right;\">\n",
       "      <th></th>\n",
       "      <th>Name</th>\n",
       "      <th>Team</th>\n",
       "      <th>Position</th>\n",
       "      <th>Height</th>\n",
       "      <th>Weight</th>\n",
       "      <th>College</th>\n",
       "      <th>Salary</th>\n",
       "    </tr>\n",
       "  </thead>\n",
       "  <tbody>\n",
       "    <tr>\n",
       "      <th>0</th>\n",
       "      <td>Saddiq Bey</td>\n",
       "      <td>Atlanta Hawks</td>\n",
       "      <td>F</td>\n",
       "      <td>6-7</td>\n",
       "      <td>215.0</td>\n",
       "      <td>Villanova</td>\n",
       "      <td>4556983.0</td>\n",
       "    </tr>\n",
       "    <tr>\n",
       "      <th>1</th>\n",
       "      <td>Bogdan Bogdanovic</td>\n",
       "      <td>Atlanta Hawks</td>\n",
       "      <td>G</td>\n",
       "      <td>6-5</td>\n",
       "      <td>225.0</td>\n",
       "      <td>Fenerbahce</td>\n",
       "      <td>18700000.0</td>\n",
       "    </tr>\n",
       "    <tr>\n",
       "      <th>2</th>\n",
       "      <td>Kobe Bufkin</td>\n",
       "      <td>Atlanta Hawks</td>\n",
       "      <td>G</td>\n",
       "      <td>6-5</td>\n",
       "      <td>195.0</td>\n",
       "      <td>Michigan</td>\n",
       "      <td>4094244.0</td>\n",
       "    </tr>\n",
       "    <tr>\n",
       "      <th>3</th>\n",
       "      <td>Clint Capela</td>\n",
       "      <td>Atlanta Hawks</td>\n",
       "      <td>C</td>\n",
       "      <td>6-10</td>\n",
       "      <td>256.0</td>\n",
       "      <td>Elan Chalon</td>\n",
       "      <td>20616000.0</td>\n",
       "    </tr>\n",
       "    <tr>\n",
       "      <th>4</th>\n",
       "      <td>Bruno Fernando</td>\n",
       "      <td>Atlanta Hawks</td>\n",
       "      <td>F-C</td>\n",
       "      <td>6-10</td>\n",
       "      <td>240.0</td>\n",
       "      <td>Maryland</td>\n",
       "      <td>2581522.0</td>\n",
       "    </tr>\n",
       "    <tr>\n",
       "      <th>...</th>\n",
       "      <td>...</td>\n",
       "      <td>...</td>\n",
       "      <td>...</td>\n",
       "      <td>...</td>\n",
       "      <td>...</td>\n",
       "      <td>...</td>\n",
       "      <td>...</td>\n",
       "    </tr>\n",
       "    <tr>\n",
       "      <th>587</th>\n",
       "      <td>Ryan Rollins</td>\n",
       "      <td>Washington Wizards</td>\n",
       "      <td>G</td>\n",
       "      <td>6-3</td>\n",
       "      <td>180.0</td>\n",
       "      <td>Toledo</td>\n",
       "      <td>1719864.0</td>\n",
       "    </tr>\n",
       "    <tr>\n",
       "      <th>588</th>\n",
       "      <td>Landry Shamet</td>\n",
       "      <td>Washington Wizards</td>\n",
       "      <td>G</td>\n",
       "      <td>6-4</td>\n",
       "      <td>190.0</td>\n",
       "      <td>Wichita State</td>\n",
       "      <td>10250000.0</td>\n",
       "    </tr>\n",
       "    <tr>\n",
       "      <th>589</th>\n",
       "      <td>Tristan Vukcevic</td>\n",
       "      <td>Washington Wizards</td>\n",
       "      <td>F</td>\n",
       "      <td>6-10</td>\n",
       "      <td>220.0</td>\n",
       "      <td>Real Madrid</td>\n",
       "      <td>NaN</td>\n",
       "    </tr>\n",
       "    <tr>\n",
       "      <th>590</th>\n",
       "      <td>Delon Wright</td>\n",
       "      <td>Washington Wizards</td>\n",
       "      <td>G</td>\n",
       "      <td>6-5</td>\n",
       "      <td>185.0</td>\n",
       "      <td>Utah</td>\n",
       "      <td>8195122.0</td>\n",
       "    </tr>\n",
       "    <tr>\n",
       "      <th>591</th>\n",
       "      <td>NaN</td>\n",
       "      <td>NaN</td>\n",
       "      <td>NaN</td>\n",
       "      <td>NaN</td>\n",
       "      <td>NaN</td>\n",
       "      <td>NaN</td>\n",
       "      <td>NaN</td>\n",
       "    </tr>\n",
       "  </tbody>\n",
       "</table>\n",
       "<p>592 rows × 7 columns</p>\n",
       "</div>"
      ],
      "text/plain": [
       "                  Name                Team Position Height  Weight  \\\n",
       "0           Saddiq Bey       Atlanta Hawks        F    6-7   215.0   \n",
       "1    Bogdan Bogdanovic       Atlanta Hawks        G    6-5   225.0   \n",
       "2          Kobe Bufkin       Atlanta Hawks        G    6-5   195.0   \n",
       "3         Clint Capela       Atlanta Hawks        C   6-10   256.0   \n",
       "4       Bruno Fernando       Atlanta Hawks      F-C   6-10   240.0   \n",
       "..                 ...                 ...      ...    ...     ...   \n",
       "587       Ryan Rollins  Washington Wizards        G    6-3   180.0   \n",
       "588      Landry Shamet  Washington Wizards        G    6-4   190.0   \n",
       "589   Tristan Vukcevic  Washington Wizards        F   6-10   220.0   \n",
       "590       Delon Wright  Washington Wizards        G    6-5   185.0   \n",
       "591                NaN                 NaN      NaN    NaN     NaN   \n",
       "\n",
       "           College      Salary  \n",
       "0        Villanova   4556983.0  \n",
       "1       Fenerbahce  18700000.0  \n",
       "2         Michigan   4094244.0  \n",
       "3      Elan Chalon  20616000.0  \n",
       "4         Maryland   2581522.0  \n",
       "..             ...         ...  \n",
       "587         Toledo   1719864.0  \n",
       "588  Wichita State  10250000.0  \n",
       "589    Real Madrid         NaN  \n",
       "590           Utah   8195122.0  \n",
       "591            NaN         NaN  \n",
       "\n",
       "[592 rows x 7 columns]"
      ]
     },
     "execution_count": 56,
     "metadata": {},
     "output_type": "execute_result"
    }
   ],
   "source": [
    "nba"
   ]
  },
  {
   "cell_type": "code",
   "execution_count": 59,
   "id": "60b57597",
   "metadata": {},
   "outputs": [
    {
     "data": {
      "text/html": [
       "<div>\n",
       "<style scoped>\n",
       "    .dataframe tbody tr th:only-of-type {\n",
       "        vertical-align: middle;\n",
       "    }\n",
       "\n",
       "    .dataframe tbody tr th {\n",
       "        vertical-align: top;\n",
       "    }\n",
       "\n",
       "    .dataframe thead th {\n",
       "        text-align: right;\n",
       "    }\n",
       "</style>\n",
       "<table border=\"1\" class=\"dataframe\">\n",
       "  <thead>\n",
       "    <tr style=\"text-align: right;\">\n",
       "      <th></th>\n",
       "      <th>Name</th>\n",
       "      <th>Team</th>\n",
       "      <th>Position</th>\n",
       "      <th>Height</th>\n",
       "      <th>Weight</th>\n",
       "      <th>College</th>\n",
       "      <th>Salary</th>\n",
       "    </tr>\n",
       "  </thead>\n",
       "  <tbody>\n",
       "    <tr>\n",
       "      <th>0</th>\n",
       "      <td>Saddiq Bey</td>\n",
       "      <td>Atlanta Hawks</td>\n",
       "      <td>F</td>\n",
       "      <td>6-7</td>\n",
       "      <td>215.0</td>\n",
       "      <td>Villanova</td>\n",
       "      <td>4556983.0</td>\n",
       "    </tr>\n",
       "    <tr>\n",
       "      <th>1</th>\n",
       "      <td>Bogdan Bogdanovic</td>\n",
       "      <td>Atlanta Hawks</td>\n",
       "      <td>G</td>\n",
       "      <td>6-5</td>\n",
       "      <td>225.0</td>\n",
       "      <td>Fenerbahce</td>\n",
       "      <td>18700000.0</td>\n",
       "    </tr>\n",
       "    <tr>\n",
       "      <th>2</th>\n",
       "      <td>Kobe Bufkin</td>\n",
       "      <td>Atlanta Hawks</td>\n",
       "      <td>G</td>\n",
       "      <td>6-5</td>\n",
       "      <td>195.0</td>\n",
       "      <td>Michigan</td>\n",
       "      <td>4094244.0</td>\n",
       "    </tr>\n",
       "    <tr>\n",
       "      <th>3</th>\n",
       "      <td>Clint Capela</td>\n",
       "      <td>Atlanta Hawks</td>\n",
       "      <td>C</td>\n",
       "      <td>6-10</td>\n",
       "      <td>256.0</td>\n",
       "      <td>Elan Chalon</td>\n",
       "      <td>20616000.0</td>\n",
       "    </tr>\n",
       "    <tr>\n",
       "      <th>4</th>\n",
       "      <td>Bruno Fernando</td>\n",
       "      <td>Atlanta Hawks</td>\n",
       "      <td>F-C</td>\n",
       "      <td>6-10</td>\n",
       "      <td>240.0</td>\n",
       "      <td>Maryland</td>\n",
       "      <td>2581522.0</td>\n",
       "    </tr>\n",
       "    <tr>\n",
       "      <th>...</th>\n",
       "      <td>...</td>\n",
       "      <td>...</td>\n",
       "      <td>...</td>\n",
       "      <td>...</td>\n",
       "      <td>...</td>\n",
       "      <td>...</td>\n",
       "      <td>...</td>\n",
       "    </tr>\n",
       "    <tr>\n",
       "      <th>585</th>\n",
       "      <td>Eugene Omoruyi</td>\n",
       "      <td>Washington Wizards</td>\n",
       "      <td>F</td>\n",
       "      <td>6-6</td>\n",
       "      <td>235.0</td>\n",
       "      <td>Oregon</td>\n",
       "      <td>559782.0</td>\n",
       "    </tr>\n",
       "    <tr>\n",
       "      <th>586</th>\n",
       "      <td>Jordan Poole</td>\n",
       "      <td>Washington Wizards</td>\n",
       "      <td>G</td>\n",
       "      <td>6-4</td>\n",
       "      <td>194.0</td>\n",
       "      <td>Michigan</td>\n",
       "      <td>27955357.0</td>\n",
       "    </tr>\n",
       "    <tr>\n",
       "      <th>587</th>\n",
       "      <td>Ryan Rollins</td>\n",
       "      <td>Washington Wizards</td>\n",
       "      <td>G</td>\n",
       "      <td>6-3</td>\n",
       "      <td>180.0</td>\n",
       "      <td>Toledo</td>\n",
       "      <td>1719864.0</td>\n",
       "    </tr>\n",
       "    <tr>\n",
       "      <th>588</th>\n",
       "      <td>Landry Shamet</td>\n",
       "      <td>Washington Wizards</td>\n",
       "      <td>G</td>\n",
       "      <td>6-4</td>\n",
       "      <td>190.0</td>\n",
       "      <td>Wichita State</td>\n",
       "      <td>10250000.0</td>\n",
       "    </tr>\n",
       "    <tr>\n",
       "      <th>590</th>\n",
       "      <td>Delon Wright</td>\n",
       "      <td>Washington Wizards</td>\n",
       "      <td>G</td>\n",
       "      <td>6-5</td>\n",
       "      <td>185.0</td>\n",
       "      <td>Utah</td>\n",
       "      <td>8195122.0</td>\n",
       "    </tr>\n",
       "  </tbody>\n",
       "</table>\n",
       "<p>475 rows × 7 columns</p>\n",
       "</div>"
      ],
      "text/plain": [
       "                  Name                Team Position Height  Weight  \\\n",
       "0           Saddiq Bey       Atlanta Hawks        F    6-7   215.0   \n",
       "1    Bogdan Bogdanovic       Atlanta Hawks        G    6-5   225.0   \n",
       "2          Kobe Bufkin       Atlanta Hawks        G    6-5   195.0   \n",
       "3         Clint Capela       Atlanta Hawks        C   6-10   256.0   \n",
       "4       Bruno Fernando       Atlanta Hawks      F-C   6-10   240.0   \n",
       "..                 ...                 ...      ...    ...     ...   \n",
       "585     Eugene Omoruyi  Washington Wizards        F    6-6   235.0   \n",
       "586       Jordan Poole  Washington Wizards        G    6-4   194.0   \n",
       "587       Ryan Rollins  Washington Wizards        G    6-3   180.0   \n",
       "588      Landry Shamet  Washington Wizards        G    6-4   190.0   \n",
       "590       Delon Wright  Washington Wizards        G    6-5   185.0   \n",
       "\n",
       "           College      Salary  \n",
       "0        Villanova   4556983.0  \n",
       "1       Fenerbahce  18700000.0  \n",
       "2         Michigan   4094244.0  \n",
       "3      Elan Chalon  20616000.0  \n",
       "4         Maryland   2581522.0  \n",
       "..             ...         ...  \n",
       "585         Oregon    559782.0  \n",
       "586       Michigan  27955357.0  \n",
       "587         Toledo   1719864.0  \n",
       "588  Wichita State  10250000.0  \n",
       "590           Utah   8195122.0  \n",
       "\n",
       "[475 rows x 7 columns]"
      ]
     },
     "execution_count": 59,
     "metadata": {},
     "output_type": "execute_result"
    }
   ],
   "source": [
    "nba = nba.dropna()\n",
    "nba"
   ]
  },
  {
   "cell_type": "code",
   "execution_count": 61,
   "id": "c4a20b1a",
   "metadata": {},
   "outputs": [
    {
     "data": {
      "text/plain": [
       "{'Name': 0,\n",
       " 'Team': 0,\n",
       " 'Position': 0,\n",
       " 'Height': 0,\n",
       " 'Weight': 0,\n",
       " 'College': 0,\n",
       " 'Salary': 0}"
      ]
     },
     "execution_count": 61,
     "metadata": {},
     "output_type": "execute_result"
    }
   ],
   "source": [
    "l = {}\n",
    "for column in nba.columns:\n",
    "    l[column] = nba[column].value_counts(dropna = False).get(np.nan, 0)\n",
    "    \n",
    "l"
   ]
  },
  {
   "cell_type": "code",
   "execution_count": 62,
   "id": "926c8742",
   "metadata": {},
   "outputs": [],
   "source": [
    "# EDA -- Data collection, Data preprocessing -- Data cleaning, Data analyiszing, Data visulization\n",
    "# ETL -- power BI, tranform load"
   ]
  },
  {
   "cell_type": "code",
   "execution_count": 63,
   "id": "83dfa06e",
   "metadata": {},
   "outputs": [
    {
     "data": {
      "text/html": [
       "<div>\n",
       "<style scoped>\n",
       "    .dataframe tbody tr th:only-of-type {\n",
       "        vertical-align: middle;\n",
       "    }\n",
       "\n",
       "    .dataframe tbody tr th {\n",
       "        vertical-align: top;\n",
       "    }\n",
       "\n",
       "    .dataframe thead th {\n",
       "        text-align: right;\n",
       "    }\n",
       "</style>\n",
       "<table border=\"1\" class=\"dataframe\">\n",
       "  <thead>\n",
       "    <tr style=\"text-align: right;\">\n",
       "      <th></th>\n",
       "      <th>Name</th>\n",
       "      <th>Team</th>\n",
       "      <th>Position</th>\n",
       "      <th>Height</th>\n",
       "      <th>Weight</th>\n",
       "      <th>College</th>\n",
       "      <th>Salary</th>\n",
       "    </tr>\n",
       "  </thead>\n",
       "  <tbody>\n",
       "    <tr>\n",
       "      <th>0</th>\n",
       "      <td>Saddiq Bey</td>\n",
       "      <td>Atlanta Hawks</td>\n",
       "      <td>F</td>\n",
       "      <td>6-7</td>\n",
       "      <td>215.0</td>\n",
       "      <td>Villanova</td>\n",
       "      <td>4556983.0</td>\n",
       "    </tr>\n",
       "    <tr>\n",
       "      <th>1</th>\n",
       "      <td>Bogdan Bogdanovic</td>\n",
       "      <td>Atlanta Hawks</td>\n",
       "      <td>G</td>\n",
       "      <td>6-5</td>\n",
       "      <td>225.0</td>\n",
       "      <td>Fenerbahce</td>\n",
       "      <td>18700000.0</td>\n",
       "    </tr>\n",
       "    <tr>\n",
       "      <th>2</th>\n",
       "      <td>Kobe Bufkin</td>\n",
       "      <td>Atlanta Hawks</td>\n",
       "      <td>G</td>\n",
       "      <td>6-5</td>\n",
       "      <td>195.0</td>\n",
       "      <td>Michigan</td>\n",
       "      <td>4094244.0</td>\n",
       "    </tr>\n",
       "    <tr>\n",
       "      <th>3</th>\n",
       "      <td>Clint Capela</td>\n",
       "      <td>Atlanta Hawks</td>\n",
       "      <td>C</td>\n",
       "      <td>6-10</td>\n",
       "      <td>256.0</td>\n",
       "      <td>Elan Chalon</td>\n",
       "      <td>20616000.0</td>\n",
       "    </tr>\n",
       "    <tr>\n",
       "      <th>4</th>\n",
       "      <td>Bruno Fernando</td>\n",
       "      <td>Atlanta Hawks</td>\n",
       "      <td>F-C</td>\n",
       "      <td>6-10</td>\n",
       "      <td>240.0</td>\n",
       "      <td>Maryland</td>\n",
       "      <td>2581522.0</td>\n",
       "    </tr>\n",
       "    <tr>\n",
       "      <th>...</th>\n",
       "      <td>...</td>\n",
       "      <td>...</td>\n",
       "      <td>...</td>\n",
       "      <td>...</td>\n",
       "      <td>...</td>\n",
       "      <td>...</td>\n",
       "      <td>...</td>\n",
       "    </tr>\n",
       "    <tr>\n",
       "      <th>587</th>\n",
       "      <td>Ryan Rollins</td>\n",
       "      <td>Washington Wizards</td>\n",
       "      <td>G</td>\n",
       "      <td>6-3</td>\n",
       "      <td>180.0</td>\n",
       "      <td>Toledo</td>\n",
       "      <td>1719864.0</td>\n",
       "    </tr>\n",
       "    <tr>\n",
       "      <th>588</th>\n",
       "      <td>Landry Shamet</td>\n",
       "      <td>Washington Wizards</td>\n",
       "      <td>G</td>\n",
       "      <td>6-4</td>\n",
       "      <td>190.0</td>\n",
       "      <td>Wichita State</td>\n",
       "      <td>10250000.0</td>\n",
       "    </tr>\n",
       "    <tr>\n",
       "      <th>589</th>\n",
       "      <td>Tristan Vukcevic</td>\n",
       "      <td>Washington Wizards</td>\n",
       "      <td>F</td>\n",
       "      <td>6-10</td>\n",
       "      <td>220.0</td>\n",
       "      <td>Real Madrid</td>\n",
       "      <td>NaN</td>\n",
       "    </tr>\n",
       "    <tr>\n",
       "      <th>590</th>\n",
       "      <td>Delon Wright</td>\n",
       "      <td>Washington Wizards</td>\n",
       "      <td>G</td>\n",
       "      <td>6-5</td>\n",
       "      <td>185.0</td>\n",
       "      <td>Utah</td>\n",
       "      <td>8195122.0</td>\n",
       "    </tr>\n",
       "    <tr>\n",
       "      <th>591</th>\n",
       "      <td>NaN</td>\n",
       "      <td>NaN</td>\n",
       "      <td>NaN</td>\n",
       "      <td>NaN</td>\n",
       "      <td>NaN</td>\n",
       "      <td>NaN</td>\n",
       "      <td>NaN</td>\n",
       "    </tr>\n",
       "  </tbody>\n",
       "</table>\n",
       "<p>592 rows × 7 columns</p>\n",
       "</div>"
      ],
      "text/plain": [
       "                  Name                Team Position Height  Weight  \\\n",
       "0           Saddiq Bey       Atlanta Hawks        F    6-7   215.0   \n",
       "1    Bogdan Bogdanovic       Atlanta Hawks        G    6-5   225.0   \n",
       "2          Kobe Bufkin       Atlanta Hawks        G    6-5   195.0   \n",
       "3         Clint Capela       Atlanta Hawks        C   6-10   256.0   \n",
       "4       Bruno Fernando       Atlanta Hawks      F-C   6-10   240.0   \n",
       "..                 ...                 ...      ...    ...     ...   \n",
       "587       Ryan Rollins  Washington Wizards        G    6-3   180.0   \n",
       "588      Landry Shamet  Washington Wizards        G    6-4   190.0   \n",
       "589   Tristan Vukcevic  Washington Wizards        F   6-10   220.0   \n",
       "590       Delon Wright  Washington Wizards        G    6-5   185.0   \n",
       "591                NaN                 NaN      NaN    NaN     NaN   \n",
       "\n",
       "           College      Salary  \n",
       "0        Villanova   4556983.0  \n",
       "1       Fenerbahce  18700000.0  \n",
       "2         Michigan   4094244.0  \n",
       "3      Elan Chalon  20616000.0  \n",
       "4         Maryland   2581522.0  \n",
       "..             ...         ...  \n",
       "587         Toledo   1719864.0  \n",
       "588  Wichita State  10250000.0  \n",
       "589    Real Madrid         NaN  \n",
       "590           Utah   8195122.0  \n",
       "591            NaN         NaN  \n",
       "\n",
       "[592 rows x 7 columns]"
      ]
     },
     "execution_count": 63,
     "metadata": {},
     "output_type": "execute_result"
    }
   ],
   "source": [
    "nba = pd.read_csv('datasets/nba.csv')\n",
    "nba"
   ]
  },
  {
   "cell_type": "code",
   "execution_count": 65,
   "id": "af87e4b8",
   "metadata": {},
   "outputs": [
    {
     "data": {
      "text/html": [
       "<div>\n",
       "<style scoped>\n",
       "    .dataframe tbody tr th:only-of-type {\n",
       "        vertical-align: middle;\n",
       "    }\n",
       "\n",
       "    .dataframe tbody tr th {\n",
       "        vertical-align: top;\n",
       "    }\n",
       "\n",
       "    .dataframe thead th {\n",
       "        text-align: right;\n",
       "    }\n",
       "</style>\n",
       "<table border=\"1\" class=\"dataframe\">\n",
       "  <thead>\n",
       "    <tr style=\"text-align: right;\">\n",
       "      <th></th>\n",
       "      <th>Name</th>\n",
       "      <th>Team</th>\n",
       "      <th>Position</th>\n",
       "      <th>Height</th>\n",
       "      <th>Weight</th>\n",
       "      <th>College</th>\n",
       "      <th>Salary</th>\n",
       "    </tr>\n",
       "  </thead>\n",
       "  <tbody>\n",
       "    <tr>\n",
       "      <th>0</th>\n",
       "      <td>Saddiq Bey</td>\n",
       "      <td>Atlanta Hawks</td>\n",
       "      <td>F</td>\n",
       "      <td>6-7</td>\n",
       "      <td>215.0</td>\n",
       "      <td>Villanova</td>\n",
       "      <td>4556983.0</td>\n",
       "    </tr>\n",
       "    <tr>\n",
       "      <th>1</th>\n",
       "      <td>Bogdan Bogdanovic</td>\n",
       "      <td>Atlanta Hawks</td>\n",
       "      <td>G</td>\n",
       "      <td>6-5</td>\n",
       "      <td>225.0</td>\n",
       "      <td>Fenerbahce</td>\n",
       "      <td>18700000.0</td>\n",
       "    </tr>\n",
       "    <tr>\n",
       "      <th>2</th>\n",
       "      <td>Kobe Bufkin</td>\n",
       "      <td>Atlanta Hawks</td>\n",
       "      <td>G</td>\n",
       "      <td>6-5</td>\n",
       "      <td>195.0</td>\n",
       "      <td>Michigan</td>\n",
       "      <td>4094244.0</td>\n",
       "    </tr>\n",
       "    <tr>\n",
       "      <th>3</th>\n",
       "      <td>Clint Capela</td>\n",
       "      <td>Atlanta Hawks</td>\n",
       "      <td>C</td>\n",
       "      <td>6-10</td>\n",
       "      <td>256.0</td>\n",
       "      <td>Elan Chalon</td>\n",
       "      <td>20616000.0</td>\n",
       "    </tr>\n",
       "    <tr>\n",
       "      <th>4</th>\n",
       "      <td>Bruno Fernando</td>\n",
       "      <td>Atlanta Hawks</td>\n",
       "      <td>F-C</td>\n",
       "      <td>6-10</td>\n",
       "      <td>240.0</td>\n",
       "      <td>Maryland</td>\n",
       "      <td>2581522.0</td>\n",
       "    </tr>\n",
       "    <tr>\n",
       "      <th>...</th>\n",
       "      <td>...</td>\n",
       "      <td>...</td>\n",
       "      <td>...</td>\n",
       "      <td>...</td>\n",
       "      <td>...</td>\n",
       "      <td>...</td>\n",
       "      <td>...</td>\n",
       "    </tr>\n",
       "    <tr>\n",
       "      <th>586</th>\n",
       "      <td>Jordan Poole</td>\n",
       "      <td>Washington Wizards</td>\n",
       "      <td>G</td>\n",
       "      <td>6-4</td>\n",
       "      <td>194.0</td>\n",
       "      <td>Michigan</td>\n",
       "      <td>27955357.0</td>\n",
       "    </tr>\n",
       "    <tr>\n",
       "      <th>587</th>\n",
       "      <td>Ryan Rollins</td>\n",
       "      <td>Washington Wizards</td>\n",
       "      <td>G</td>\n",
       "      <td>6-3</td>\n",
       "      <td>180.0</td>\n",
       "      <td>Toledo</td>\n",
       "      <td>1719864.0</td>\n",
       "    </tr>\n",
       "    <tr>\n",
       "      <th>588</th>\n",
       "      <td>Landry Shamet</td>\n",
       "      <td>Washington Wizards</td>\n",
       "      <td>G</td>\n",
       "      <td>6-4</td>\n",
       "      <td>190.0</td>\n",
       "      <td>Wichita State</td>\n",
       "      <td>10250000.0</td>\n",
       "    </tr>\n",
       "    <tr>\n",
       "      <th>589</th>\n",
       "      <td>Tristan Vukcevic</td>\n",
       "      <td>Washington Wizards</td>\n",
       "      <td>F</td>\n",
       "      <td>6-10</td>\n",
       "      <td>220.0</td>\n",
       "      <td>Real Madrid</td>\n",
       "      <td>NaN</td>\n",
       "    </tr>\n",
       "    <tr>\n",
       "      <th>590</th>\n",
       "      <td>Delon Wright</td>\n",
       "      <td>Washington Wizards</td>\n",
       "      <td>G</td>\n",
       "      <td>6-5</td>\n",
       "      <td>185.0</td>\n",
       "      <td>Utah</td>\n",
       "      <td>8195122.0</td>\n",
       "    </tr>\n",
       "  </tbody>\n",
       "</table>\n",
       "<p>591 rows × 7 columns</p>\n",
       "</div>"
      ],
      "text/plain": [
       "                  Name                Team Position Height  Weight  \\\n",
       "0           Saddiq Bey       Atlanta Hawks        F    6-7   215.0   \n",
       "1    Bogdan Bogdanovic       Atlanta Hawks        G    6-5   225.0   \n",
       "2          Kobe Bufkin       Atlanta Hawks        G    6-5   195.0   \n",
       "3         Clint Capela       Atlanta Hawks        C   6-10   256.0   \n",
       "4       Bruno Fernando       Atlanta Hawks      F-C   6-10   240.0   \n",
       "..                 ...                 ...      ...    ...     ...   \n",
       "586       Jordan Poole  Washington Wizards        G    6-4   194.0   \n",
       "587       Ryan Rollins  Washington Wizards        G    6-3   180.0   \n",
       "588      Landry Shamet  Washington Wizards        G    6-4   190.0   \n",
       "589   Tristan Vukcevic  Washington Wizards        F   6-10   220.0   \n",
       "590       Delon Wright  Washington Wizards        G    6-5   185.0   \n",
       "\n",
       "           College      Salary  \n",
       "0        Villanova   4556983.0  \n",
       "1       Fenerbahce  18700000.0  \n",
       "2         Michigan   4094244.0  \n",
       "3      Elan Chalon  20616000.0  \n",
       "4         Maryland   2581522.0  \n",
       "..             ...         ...  \n",
       "586       Michigan  27955357.0  \n",
       "587         Toledo   1719864.0  \n",
       "588  Wichita State  10250000.0  \n",
       "589    Real Madrid         NaN  \n",
       "590           Utah   8195122.0  \n",
       "\n",
       "[591 rows x 7 columns]"
      ]
     },
     "execution_count": 65,
     "metadata": {},
     "output_type": "execute_result"
    }
   ],
   "source": [
    "# nba.dropna(how = 'any') by default\n",
    "nba.dropna(how = 'all') # removes null row -- jisme every value is null"
   ]
  },
  {
   "cell_type": "code",
   "execution_count": 66,
   "id": "f52c80c3",
   "metadata": {},
   "outputs": [
    {
     "data": {
      "text/html": [
       "<div>\n",
       "<style scoped>\n",
       "    .dataframe tbody tr th:only-of-type {\n",
       "        vertical-align: middle;\n",
       "    }\n",
       "\n",
       "    .dataframe tbody tr th {\n",
       "        vertical-align: top;\n",
       "    }\n",
       "\n",
       "    .dataframe thead th {\n",
       "        text-align: right;\n",
       "    }\n",
       "</style>\n",
       "<table border=\"1\" class=\"dataframe\">\n",
       "  <thead>\n",
       "    <tr style=\"text-align: right;\">\n",
       "      <th></th>\n",
       "      <th>Name</th>\n",
       "      <th>Team</th>\n",
       "      <th>Position</th>\n",
       "      <th>Height</th>\n",
       "      <th>Weight</th>\n",
       "      <th>College</th>\n",
       "      <th>Salary</th>\n",
       "    </tr>\n",
       "  </thead>\n",
       "  <tbody>\n",
       "    <tr>\n",
       "      <th>0</th>\n",
       "      <td>Saddiq Bey</td>\n",
       "      <td>Atlanta Hawks</td>\n",
       "      <td>F</td>\n",
       "      <td>6-7</td>\n",
       "      <td>215.0</td>\n",
       "      <td>Villanova</td>\n",
       "      <td>4556983.0</td>\n",
       "    </tr>\n",
       "    <tr>\n",
       "      <th>1</th>\n",
       "      <td>Bogdan Bogdanovic</td>\n",
       "      <td>Atlanta Hawks</td>\n",
       "      <td>G</td>\n",
       "      <td>6-5</td>\n",
       "      <td>225.0</td>\n",
       "      <td>Fenerbahce</td>\n",
       "      <td>18700000.0</td>\n",
       "    </tr>\n",
       "    <tr>\n",
       "      <th>2</th>\n",
       "      <td>Kobe Bufkin</td>\n",
       "      <td>Atlanta Hawks</td>\n",
       "      <td>G</td>\n",
       "      <td>6-5</td>\n",
       "      <td>195.0</td>\n",
       "      <td>Michigan</td>\n",
       "      <td>4094244.0</td>\n",
       "    </tr>\n",
       "    <tr>\n",
       "      <th>3</th>\n",
       "      <td>Clint Capela</td>\n",
       "      <td>Atlanta Hawks</td>\n",
       "      <td>C</td>\n",
       "      <td>6-10</td>\n",
       "      <td>256.0</td>\n",
       "      <td>Elan Chalon</td>\n",
       "      <td>20616000.0</td>\n",
       "    </tr>\n",
       "    <tr>\n",
       "      <th>4</th>\n",
       "      <td>Bruno Fernando</td>\n",
       "      <td>Atlanta Hawks</td>\n",
       "      <td>F-C</td>\n",
       "      <td>6-10</td>\n",
       "      <td>240.0</td>\n",
       "      <td>Maryland</td>\n",
       "      <td>2581522.0</td>\n",
       "    </tr>\n",
       "    <tr>\n",
       "      <th>...</th>\n",
       "      <td>...</td>\n",
       "      <td>...</td>\n",
       "      <td>...</td>\n",
       "      <td>...</td>\n",
       "      <td>...</td>\n",
       "      <td>...</td>\n",
       "      <td>...</td>\n",
       "    </tr>\n",
       "    <tr>\n",
       "      <th>587</th>\n",
       "      <td>Ryan Rollins</td>\n",
       "      <td>Washington Wizards</td>\n",
       "      <td>G</td>\n",
       "      <td>6-3</td>\n",
       "      <td>180.0</td>\n",
       "      <td>Toledo</td>\n",
       "      <td>1719864.0</td>\n",
       "    </tr>\n",
       "    <tr>\n",
       "      <th>588</th>\n",
       "      <td>Landry Shamet</td>\n",
       "      <td>Washington Wizards</td>\n",
       "      <td>G</td>\n",
       "      <td>6-4</td>\n",
       "      <td>190.0</td>\n",
       "      <td>Wichita State</td>\n",
       "      <td>10250000.0</td>\n",
       "    </tr>\n",
       "    <tr>\n",
       "      <th>589</th>\n",
       "      <td>Tristan Vukcevic</td>\n",
       "      <td>Washington Wizards</td>\n",
       "      <td>F</td>\n",
       "      <td>6-10</td>\n",
       "      <td>220.0</td>\n",
       "      <td>Real Madrid</td>\n",
       "      <td>NaN</td>\n",
       "    </tr>\n",
       "    <tr>\n",
       "      <th>590</th>\n",
       "      <td>Delon Wright</td>\n",
       "      <td>Washington Wizards</td>\n",
       "      <td>G</td>\n",
       "      <td>6-5</td>\n",
       "      <td>185.0</td>\n",
       "      <td>Utah</td>\n",
       "      <td>8195122.0</td>\n",
       "    </tr>\n",
       "    <tr>\n",
       "      <th>591</th>\n",
       "      <td>NaN</td>\n",
       "      <td>NaN</td>\n",
       "      <td>NaN</td>\n",
       "      <td>NaN</td>\n",
       "      <td>NaN</td>\n",
       "      <td>NaN</td>\n",
       "      <td>NaN</td>\n",
       "    </tr>\n",
       "  </tbody>\n",
       "</table>\n",
       "<p>592 rows × 7 columns</p>\n",
       "</div>"
      ],
      "text/plain": [
       "                  Name                Team Position Height  Weight  \\\n",
       "0           Saddiq Bey       Atlanta Hawks        F    6-7   215.0   \n",
       "1    Bogdan Bogdanovic       Atlanta Hawks        G    6-5   225.0   \n",
       "2          Kobe Bufkin       Atlanta Hawks        G    6-5   195.0   \n",
       "3         Clint Capela       Atlanta Hawks        C   6-10   256.0   \n",
       "4       Bruno Fernando       Atlanta Hawks      F-C   6-10   240.0   \n",
       "..                 ...                 ...      ...    ...     ...   \n",
       "587       Ryan Rollins  Washington Wizards        G    6-3   180.0   \n",
       "588      Landry Shamet  Washington Wizards        G    6-4   190.0   \n",
       "589   Tristan Vukcevic  Washington Wizards        F   6-10   220.0   \n",
       "590       Delon Wright  Washington Wizards        G    6-5   185.0   \n",
       "591                NaN                 NaN      NaN    NaN     NaN   \n",
       "\n",
       "           College      Salary  \n",
       "0        Villanova   4556983.0  \n",
       "1       Fenerbahce  18700000.0  \n",
       "2         Michigan   4094244.0  \n",
       "3      Elan Chalon  20616000.0  \n",
       "4         Maryland   2581522.0  \n",
       "..             ...         ...  \n",
       "587         Toledo   1719864.0  \n",
       "588  Wichita State  10250000.0  \n",
       "589    Real Madrid         NaN  \n",
       "590           Utah   8195122.0  \n",
       "591            NaN         NaN  \n",
       "\n",
       "[592 rows x 7 columns]"
      ]
     },
     "execution_count": 66,
     "metadata": {},
     "output_type": "execute_result"
    }
   ],
   "source": [
    "nba"
   ]
  },
  {
   "cell_type": "code",
   "execution_count": 67,
   "id": "4184441c",
   "metadata": {},
   "outputs": [
    {
     "data": {
      "text/plain": [
       "{'Name': 1,\n",
       " 'Team': 1,\n",
       " 'Position': 8,\n",
       " 'Height': 7,\n",
       " 'Weight': 8,\n",
       " 'College': 14,\n",
       " 'Salary': 104}"
      ]
     },
     "execution_count": 67,
     "metadata": {},
     "output_type": "execute_result"
    }
   ],
   "source": [
    "l = {}\n",
    "for column in nba.columns:\n",
    "    l[column] = nba[column].value_counts(dropna = False).get(np.nan, 0)\n",
    "    \n",
    "l"
   ]
  },
  {
   "cell_type": "code",
   "execution_count": 68,
   "id": "8d573fa6",
   "metadata": {},
   "outputs": [
    {
     "data": {
      "text/html": [
       "<div>\n",
       "<style scoped>\n",
       "    .dataframe tbody tr th:only-of-type {\n",
       "        vertical-align: middle;\n",
       "    }\n",
       "\n",
       "    .dataframe tbody tr th {\n",
       "        vertical-align: top;\n",
       "    }\n",
       "\n",
       "    .dataframe thead th {\n",
       "        text-align: right;\n",
       "    }\n",
       "</style>\n",
       "<table border=\"1\" class=\"dataframe\">\n",
       "  <thead>\n",
       "    <tr style=\"text-align: right;\">\n",
       "      <th></th>\n",
       "      <th>Name</th>\n",
       "      <th>Team</th>\n",
       "      <th>Position</th>\n",
       "      <th>Height</th>\n",
       "      <th>Weight</th>\n",
       "      <th>College</th>\n",
       "      <th>Salary</th>\n",
       "    </tr>\n",
       "  </thead>\n",
       "  <tbody>\n",
       "    <tr>\n",
       "      <th>0</th>\n",
       "      <td>Saddiq Bey</td>\n",
       "      <td>Atlanta Hawks</td>\n",
       "      <td>F</td>\n",
       "      <td>6-7</td>\n",
       "      <td>215.0</td>\n",
       "      <td>Villanova</td>\n",
       "      <td>4556983.0</td>\n",
       "    </tr>\n",
       "    <tr>\n",
       "      <th>1</th>\n",
       "      <td>Bogdan Bogdanovic</td>\n",
       "      <td>Atlanta Hawks</td>\n",
       "      <td>G</td>\n",
       "      <td>6-5</td>\n",
       "      <td>225.0</td>\n",
       "      <td>Fenerbahce</td>\n",
       "      <td>18700000.0</td>\n",
       "    </tr>\n",
       "    <tr>\n",
       "      <th>2</th>\n",
       "      <td>Kobe Bufkin</td>\n",
       "      <td>Atlanta Hawks</td>\n",
       "      <td>G</td>\n",
       "      <td>6-5</td>\n",
       "      <td>195.0</td>\n",
       "      <td>Michigan</td>\n",
       "      <td>4094244.0</td>\n",
       "    </tr>\n",
       "    <tr>\n",
       "      <th>3</th>\n",
       "      <td>Clint Capela</td>\n",
       "      <td>Atlanta Hawks</td>\n",
       "      <td>C</td>\n",
       "      <td>6-10</td>\n",
       "      <td>256.0</td>\n",
       "      <td>Elan Chalon</td>\n",
       "      <td>20616000.0</td>\n",
       "    </tr>\n",
       "    <tr>\n",
       "      <th>4</th>\n",
       "      <td>Bruno Fernando</td>\n",
       "      <td>Atlanta Hawks</td>\n",
       "      <td>F-C</td>\n",
       "      <td>6-10</td>\n",
       "      <td>240.0</td>\n",
       "      <td>Maryland</td>\n",
       "      <td>2581522.0</td>\n",
       "    </tr>\n",
       "    <tr>\n",
       "      <th>...</th>\n",
       "      <td>...</td>\n",
       "      <td>...</td>\n",
       "      <td>...</td>\n",
       "      <td>...</td>\n",
       "      <td>...</td>\n",
       "      <td>...</td>\n",
       "      <td>...</td>\n",
       "    </tr>\n",
       "    <tr>\n",
       "      <th>585</th>\n",
       "      <td>Eugene Omoruyi</td>\n",
       "      <td>Washington Wizards</td>\n",
       "      <td>F</td>\n",
       "      <td>6-6</td>\n",
       "      <td>235.0</td>\n",
       "      <td>Oregon</td>\n",
       "      <td>559782.0</td>\n",
       "    </tr>\n",
       "    <tr>\n",
       "      <th>586</th>\n",
       "      <td>Jordan Poole</td>\n",
       "      <td>Washington Wizards</td>\n",
       "      <td>G</td>\n",
       "      <td>6-4</td>\n",
       "      <td>194.0</td>\n",
       "      <td>Michigan</td>\n",
       "      <td>27955357.0</td>\n",
       "    </tr>\n",
       "    <tr>\n",
       "      <th>587</th>\n",
       "      <td>Ryan Rollins</td>\n",
       "      <td>Washington Wizards</td>\n",
       "      <td>G</td>\n",
       "      <td>6-3</td>\n",
       "      <td>180.0</td>\n",
       "      <td>Toledo</td>\n",
       "      <td>1719864.0</td>\n",
       "    </tr>\n",
       "    <tr>\n",
       "      <th>588</th>\n",
       "      <td>Landry Shamet</td>\n",
       "      <td>Washington Wizards</td>\n",
       "      <td>G</td>\n",
       "      <td>6-4</td>\n",
       "      <td>190.0</td>\n",
       "      <td>Wichita State</td>\n",
       "      <td>10250000.0</td>\n",
       "    </tr>\n",
       "    <tr>\n",
       "      <th>590</th>\n",
       "      <td>Delon Wright</td>\n",
       "      <td>Washington Wizards</td>\n",
       "      <td>G</td>\n",
       "      <td>6-5</td>\n",
       "      <td>185.0</td>\n",
       "      <td>Utah</td>\n",
       "      <td>8195122.0</td>\n",
       "    </tr>\n",
       "  </tbody>\n",
       "</table>\n",
       "<p>488 rows × 7 columns</p>\n",
       "</div>"
      ],
      "text/plain": [
       "                  Name                Team Position Height  Weight  \\\n",
       "0           Saddiq Bey       Atlanta Hawks        F    6-7   215.0   \n",
       "1    Bogdan Bogdanovic       Atlanta Hawks        G    6-5   225.0   \n",
       "2          Kobe Bufkin       Atlanta Hawks        G    6-5   195.0   \n",
       "3         Clint Capela       Atlanta Hawks        C   6-10   256.0   \n",
       "4       Bruno Fernando       Atlanta Hawks      F-C   6-10   240.0   \n",
       "..                 ...                 ...      ...    ...     ...   \n",
       "585     Eugene Omoruyi  Washington Wizards        F    6-6   235.0   \n",
       "586       Jordan Poole  Washington Wizards        G    6-4   194.0   \n",
       "587       Ryan Rollins  Washington Wizards        G    6-3   180.0   \n",
       "588      Landry Shamet  Washington Wizards        G    6-4   190.0   \n",
       "590       Delon Wright  Washington Wizards        G    6-5   185.0   \n",
       "\n",
       "           College      Salary  \n",
       "0        Villanova   4556983.0  \n",
       "1       Fenerbahce  18700000.0  \n",
       "2         Michigan   4094244.0  \n",
       "3      Elan Chalon  20616000.0  \n",
       "4         Maryland   2581522.0  \n",
       "..             ...         ...  \n",
       "585         Oregon    559782.0  \n",
       "586       Michigan  27955357.0  \n",
       "587         Toledo   1719864.0  \n",
       "588  Wichita State  10250000.0  \n",
       "590           Utah   8195122.0  \n",
       "\n",
       "[488 rows x 7 columns]"
      ]
     },
     "execution_count": 68,
     "metadata": {},
     "output_type": "execute_result"
    }
   ],
   "source": [
    "nba.dropna(subset = 'Salary')"
   ]
  },
  {
   "cell_type": "code",
   "execution_count": 69,
   "id": "a8a8fb84",
   "metadata": {},
   "outputs": [
    {
     "data": {
      "text/html": [
       "<div>\n",
       "<style scoped>\n",
       "    .dataframe tbody tr th:only-of-type {\n",
       "        vertical-align: middle;\n",
       "    }\n",
       "\n",
       "    .dataframe tbody tr th {\n",
       "        vertical-align: top;\n",
       "    }\n",
       "\n",
       "    .dataframe thead th {\n",
       "        text-align: right;\n",
       "    }\n",
       "</style>\n",
       "<table border=\"1\" class=\"dataframe\">\n",
       "  <thead>\n",
       "    <tr style=\"text-align: right;\">\n",
       "      <th></th>\n",
       "      <th>Name</th>\n",
       "      <th>Team</th>\n",
       "      <th>Position</th>\n",
       "      <th>Height</th>\n",
       "      <th>Weight</th>\n",
       "      <th>College</th>\n",
       "      <th>Salary</th>\n",
       "    </tr>\n",
       "  </thead>\n",
       "  <tbody>\n",
       "    <tr>\n",
       "      <th>0</th>\n",
       "      <td>Saddiq Bey</td>\n",
       "      <td>Atlanta Hawks</td>\n",
       "      <td>F</td>\n",
       "      <td>6-7</td>\n",
       "      <td>215.0</td>\n",
       "      <td>Villanova</td>\n",
       "      <td>4556983.0</td>\n",
       "    </tr>\n",
       "    <tr>\n",
       "      <th>1</th>\n",
       "      <td>Bogdan Bogdanovic</td>\n",
       "      <td>Atlanta Hawks</td>\n",
       "      <td>G</td>\n",
       "      <td>6-5</td>\n",
       "      <td>225.0</td>\n",
       "      <td>Fenerbahce</td>\n",
       "      <td>18700000.0</td>\n",
       "    </tr>\n",
       "    <tr>\n",
       "      <th>2</th>\n",
       "      <td>Kobe Bufkin</td>\n",
       "      <td>Atlanta Hawks</td>\n",
       "      <td>G</td>\n",
       "      <td>6-5</td>\n",
       "      <td>195.0</td>\n",
       "      <td>Michigan</td>\n",
       "      <td>4094244.0</td>\n",
       "    </tr>\n",
       "    <tr>\n",
       "      <th>3</th>\n",
       "      <td>Clint Capela</td>\n",
       "      <td>Atlanta Hawks</td>\n",
       "      <td>C</td>\n",
       "      <td>6-10</td>\n",
       "      <td>256.0</td>\n",
       "      <td>Elan Chalon</td>\n",
       "      <td>20616000.0</td>\n",
       "    </tr>\n",
       "    <tr>\n",
       "      <th>4</th>\n",
       "      <td>Bruno Fernando</td>\n",
       "      <td>Atlanta Hawks</td>\n",
       "      <td>F-C</td>\n",
       "      <td>6-10</td>\n",
       "      <td>240.0</td>\n",
       "      <td>Maryland</td>\n",
       "      <td>2581522.0</td>\n",
       "    </tr>\n",
       "    <tr>\n",
       "      <th>...</th>\n",
       "      <td>...</td>\n",
       "      <td>...</td>\n",
       "      <td>...</td>\n",
       "      <td>...</td>\n",
       "      <td>...</td>\n",
       "      <td>...</td>\n",
       "      <td>...</td>\n",
       "    </tr>\n",
       "    <tr>\n",
       "      <th>585</th>\n",
       "      <td>Eugene Omoruyi</td>\n",
       "      <td>Washington Wizards</td>\n",
       "      <td>F</td>\n",
       "      <td>6-6</td>\n",
       "      <td>235.0</td>\n",
       "      <td>Oregon</td>\n",
       "      <td>559782.0</td>\n",
       "    </tr>\n",
       "    <tr>\n",
       "      <th>586</th>\n",
       "      <td>Jordan Poole</td>\n",
       "      <td>Washington Wizards</td>\n",
       "      <td>G</td>\n",
       "      <td>6-4</td>\n",
       "      <td>194.0</td>\n",
       "      <td>Michigan</td>\n",
       "      <td>27955357.0</td>\n",
       "    </tr>\n",
       "    <tr>\n",
       "      <th>587</th>\n",
       "      <td>Ryan Rollins</td>\n",
       "      <td>Washington Wizards</td>\n",
       "      <td>G</td>\n",
       "      <td>6-3</td>\n",
       "      <td>180.0</td>\n",
       "      <td>Toledo</td>\n",
       "      <td>1719864.0</td>\n",
       "    </tr>\n",
       "    <tr>\n",
       "      <th>588</th>\n",
       "      <td>Landry Shamet</td>\n",
       "      <td>Washington Wizards</td>\n",
       "      <td>G</td>\n",
       "      <td>6-4</td>\n",
       "      <td>190.0</td>\n",
       "      <td>Wichita State</td>\n",
       "      <td>10250000.0</td>\n",
       "    </tr>\n",
       "    <tr>\n",
       "      <th>590</th>\n",
       "      <td>Delon Wright</td>\n",
       "      <td>Washington Wizards</td>\n",
       "      <td>G</td>\n",
       "      <td>6-5</td>\n",
       "      <td>185.0</td>\n",
       "      <td>Utah</td>\n",
       "      <td>8195122.0</td>\n",
       "    </tr>\n",
       "  </tbody>\n",
       "</table>\n",
       "<p>476 rows × 7 columns</p>\n",
       "</div>"
      ],
      "text/plain": [
       "                  Name                Team Position Height  Weight  \\\n",
       "0           Saddiq Bey       Atlanta Hawks        F    6-7   215.0   \n",
       "1    Bogdan Bogdanovic       Atlanta Hawks        G    6-5   225.0   \n",
       "2          Kobe Bufkin       Atlanta Hawks        G    6-5   195.0   \n",
       "3         Clint Capela       Atlanta Hawks        C   6-10   256.0   \n",
       "4       Bruno Fernando       Atlanta Hawks      F-C   6-10   240.0   \n",
       "..                 ...                 ...      ...    ...     ...   \n",
       "585     Eugene Omoruyi  Washington Wizards        F    6-6   235.0   \n",
       "586       Jordan Poole  Washington Wizards        G    6-4   194.0   \n",
       "587       Ryan Rollins  Washington Wizards        G    6-3   180.0   \n",
       "588      Landry Shamet  Washington Wizards        G    6-4   190.0   \n",
       "590       Delon Wright  Washington Wizards        G    6-5   185.0   \n",
       "\n",
       "           College      Salary  \n",
       "0        Villanova   4556983.0  \n",
       "1       Fenerbahce  18700000.0  \n",
       "2         Michigan   4094244.0  \n",
       "3      Elan Chalon  20616000.0  \n",
       "4         Maryland   2581522.0  \n",
       "..             ...         ...  \n",
       "585         Oregon    559782.0  \n",
       "586       Michigan  27955357.0  \n",
       "587         Toledo   1719864.0  \n",
       "588  Wichita State  10250000.0  \n",
       "590           Utah   8195122.0  \n",
       "\n",
       "[476 rows x 7 columns]"
      ]
     },
     "execution_count": 69,
     "metadata": {},
     "output_type": "execute_result"
    }
   ],
   "source": [
    "nba.dropna(subset = ['Salary', 'College']) # OR either salary  null or either college null"
   ]
  },
  {
   "cell_type": "code",
   "execution_count": 70,
   "id": "b07f7f0d",
   "metadata": {},
   "outputs": [
    {
     "data": {
      "text/html": [
       "<div>\n",
       "<style scoped>\n",
       "    .dataframe tbody tr th:only-of-type {\n",
       "        vertical-align: middle;\n",
       "    }\n",
       "\n",
       "    .dataframe tbody tr th {\n",
       "        vertical-align: top;\n",
       "    }\n",
       "\n",
       "    .dataframe thead th {\n",
       "        text-align: right;\n",
       "    }\n",
       "</style>\n",
       "<table border=\"1\" class=\"dataframe\">\n",
       "  <thead>\n",
       "    <tr style=\"text-align: right;\">\n",
       "      <th></th>\n",
       "      <th>Name</th>\n",
       "      <th>Team</th>\n",
       "      <th>Position</th>\n",
       "      <th>Height</th>\n",
       "      <th>Weight</th>\n",
       "      <th>College</th>\n",
       "      <th>Salary</th>\n",
       "    </tr>\n",
       "  </thead>\n",
       "  <tbody>\n",
       "    <tr>\n",
       "      <th>0</th>\n",
       "      <td>Saddiq Bey</td>\n",
       "      <td>Atlanta Hawks</td>\n",
       "      <td>F</td>\n",
       "      <td>6-7</td>\n",
       "      <td>215.0</td>\n",
       "      <td>Villanova</td>\n",
       "      <td>4556983.0</td>\n",
       "    </tr>\n",
       "    <tr>\n",
       "      <th>1</th>\n",
       "      <td>Bogdan Bogdanovic</td>\n",
       "      <td>Atlanta Hawks</td>\n",
       "      <td>G</td>\n",
       "      <td>6-5</td>\n",
       "      <td>225.0</td>\n",
       "      <td>Fenerbahce</td>\n",
       "      <td>18700000.0</td>\n",
       "    </tr>\n",
       "    <tr>\n",
       "      <th>2</th>\n",
       "      <td>Kobe Bufkin</td>\n",
       "      <td>Atlanta Hawks</td>\n",
       "      <td>G</td>\n",
       "      <td>6-5</td>\n",
       "      <td>195.0</td>\n",
       "      <td>Michigan</td>\n",
       "      <td>4094244.0</td>\n",
       "    </tr>\n",
       "    <tr>\n",
       "      <th>3</th>\n",
       "      <td>Clint Capela</td>\n",
       "      <td>Atlanta Hawks</td>\n",
       "      <td>C</td>\n",
       "      <td>6-10</td>\n",
       "      <td>256.0</td>\n",
       "      <td>Elan Chalon</td>\n",
       "      <td>20616000.0</td>\n",
       "    </tr>\n",
       "    <tr>\n",
       "      <th>4</th>\n",
       "      <td>Bruno Fernando</td>\n",
       "      <td>Atlanta Hawks</td>\n",
       "      <td>F-C</td>\n",
       "      <td>6-10</td>\n",
       "      <td>240.0</td>\n",
       "      <td>Maryland</td>\n",
       "      <td>2581522.0</td>\n",
       "    </tr>\n",
       "    <tr>\n",
       "      <th>...</th>\n",
       "      <td>...</td>\n",
       "      <td>...</td>\n",
       "      <td>...</td>\n",
       "      <td>...</td>\n",
       "      <td>...</td>\n",
       "      <td>...</td>\n",
       "      <td>...</td>\n",
       "    </tr>\n",
       "    <tr>\n",
       "      <th>586</th>\n",
       "      <td>Jordan Poole</td>\n",
       "      <td>Washington Wizards</td>\n",
       "      <td>G</td>\n",
       "      <td>6-4</td>\n",
       "      <td>194.0</td>\n",
       "      <td>Michigan</td>\n",
       "      <td>27955357.0</td>\n",
       "    </tr>\n",
       "    <tr>\n",
       "      <th>587</th>\n",
       "      <td>Ryan Rollins</td>\n",
       "      <td>Washington Wizards</td>\n",
       "      <td>G</td>\n",
       "      <td>6-3</td>\n",
       "      <td>180.0</td>\n",
       "      <td>Toledo</td>\n",
       "      <td>1719864.0</td>\n",
       "    </tr>\n",
       "    <tr>\n",
       "      <th>588</th>\n",
       "      <td>Landry Shamet</td>\n",
       "      <td>Washington Wizards</td>\n",
       "      <td>G</td>\n",
       "      <td>6-4</td>\n",
       "      <td>190.0</td>\n",
       "      <td>Wichita State</td>\n",
       "      <td>10250000.0</td>\n",
       "    </tr>\n",
       "    <tr>\n",
       "      <th>589</th>\n",
       "      <td>Tristan Vukcevic</td>\n",
       "      <td>Washington Wizards</td>\n",
       "      <td>F</td>\n",
       "      <td>6-10</td>\n",
       "      <td>220.0</td>\n",
       "      <td>Real Madrid</td>\n",
       "      <td>NaN</td>\n",
       "    </tr>\n",
       "    <tr>\n",
       "      <th>590</th>\n",
       "      <td>Delon Wright</td>\n",
       "      <td>Washington Wizards</td>\n",
       "      <td>G</td>\n",
       "      <td>6-5</td>\n",
       "      <td>185.0</td>\n",
       "      <td>Utah</td>\n",
       "      <td>8195122.0</td>\n",
       "    </tr>\n",
       "  </tbody>\n",
       "</table>\n",
       "<p>590 rows × 7 columns</p>\n",
       "</div>"
      ],
      "text/plain": [
       "                  Name                Team Position Height  Weight  \\\n",
       "0           Saddiq Bey       Atlanta Hawks        F    6-7   215.0   \n",
       "1    Bogdan Bogdanovic       Atlanta Hawks        G    6-5   225.0   \n",
       "2          Kobe Bufkin       Atlanta Hawks        G    6-5   195.0   \n",
       "3         Clint Capela       Atlanta Hawks        C   6-10   256.0   \n",
       "4       Bruno Fernando       Atlanta Hawks      F-C   6-10   240.0   \n",
       "..                 ...                 ...      ...    ...     ...   \n",
       "586       Jordan Poole  Washington Wizards        G    6-4   194.0   \n",
       "587       Ryan Rollins  Washington Wizards        G    6-3   180.0   \n",
       "588      Landry Shamet  Washington Wizards        G    6-4   190.0   \n",
       "589   Tristan Vukcevic  Washington Wizards        F   6-10   220.0   \n",
       "590       Delon Wright  Washington Wizards        G    6-5   185.0   \n",
       "\n",
       "           College      Salary  \n",
       "0        Villanova   4556983.0  \n",
       "1       Fenerbahce  18700000.0  \n",
       "2         Michigan   4094244.0  \n",
       "3      Elan Chalon  20616000.0  \n",
       "4         Maryland   2581522.0  \n",
       "..             ...         ...  \n",
       "586       Michigan  27955357.0  \n",
       "587         Toledo   1719864.0  \n",
       "588  Wichita State  10250000.0  \n",
       "589    Real Madrid         NaN  \n",
       "590           Utah   8195122.0  \n",
       "\n",
       "[590 rows x 7 columns]"
      ]
     },
     "execution_count": 70,
     "metadata": {},
     "output_type": "execute_result"
    }
   ],
   "source": [
    "nba.dropna(subset = ['Salary', 'College'], how = 'all')"
   ]
  },
  {
   "cell_type": "code",
   "execution_count": null,
   "id": "b6e680d2",
   "metadata": {},
   "outputs": [],
   "source": []
  }
 ],
 "metadata": {
  "kernelspec": {
   "display_name": "Python 3 (ipykernel)",
   "language": "python",
   "name": "python3"
  },
  "language_info": {
   "codemirror_mode": {
    "name": "ipython",
    "version": 3
   },
   "file_extension": ".py",
   "mimetype": "text/x-python",
   "name": "python",
   "nbconvert_exporter": "python",
   "pygments_lexer": "ipython3",
   "version": "3.11.5"
  }
 },
 "nbformat": 4,
 "nbformat_minor": 5
}
