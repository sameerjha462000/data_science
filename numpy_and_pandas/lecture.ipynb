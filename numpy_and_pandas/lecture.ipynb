{
 "cells": [
  {
   "cell_type": "markdown",
   "id": "89381b23",
   "metadata": {},
   "source": [
    "# Series"
   ]
  },
  {
   "cell_type": "markdown",
   "id": "b5b50a5e",
   "metadata": {},
   "source": [
    "    Series is a 1 DS in pandas."
   ]
  },
  {
   "cell_type": "markdown",
   "id": "05b3c294",
   "metadata": {},
   "source": [
    "    Associative containers -- key, value\n",
    "    [10, 20, 30, 40, 50]\n",
    "      0,   1, 2,  3,  4\n",
    "\n",
    "    {'name':'Abhishek', 'age' :23, 'city' :'New Delhi'}\n",
    "\n",
    "    pandas asscoiative container -- series(keys comes from index and values are provided in a list)"
   ]
  },
  {
   "cell_type": "code",
   "execution_count": 3,
   "id": "0eee7729",
   "metadata": {},
   "outputs": [
    {
     "data": {
      "text/plain": [
       "0    10\n",
       "1    20\n",
       "2    30\n",
       "3    40\n",
       "dtype: int64"
      ]
     },
     "execution_count": 3,
     "metadata": {},
     "output_type": "execute_result"
    }
   ],
   "source": [
    "import numpy as np\n",
    "import pandas as pd"
   ]
  },
  {
   "cell_type": "code",
   "execution_count": 4,
   "id": "45b674a5",
   "metadata": {},
   "outputs": [
    {
     "data": {
      "text/plain": [
       "0    10\n",
       "1    20\n",
       "2    30\n",
       "3    40\n",
       "dtype: int64"
      ]
     },
     "execution_count": 4,
     "metadata": {},
     "output_type": "execute_result"
    }
   ],
   "source": [
    "s = pd.Series([10,20,30,40])\n",
    "s"
   ]
  },
  {
   "cell_type": "code",
   "execution_count": 6,
   "id": "e6d2c0b5",
   "metadata": {},
   "outputs": [
    {
     "data": {
      "text/plain": [
       "[0, 1, 2, 3]"
      ]
     },
     "execution_count": 6,
     "metadata": {},
     "output_type": "execute_result"
    }
   ],
   "source": [
    "list(s.index)"
   ]
  },
  {
   "cell_type": "code",
   "execution_count": 8,
   "id": "c7ec2034",
   "metadata": {},
   "outputs": [
    {
     "data": {
      "text/plain": [
       "(array([10, 20, 30, 40], dtype=int64), numpy.ndarray)"
      ]
     },
     "execution_count": 8,
     "metadata": {},
     "output_type": "execute_result"
    }
   ],
   "source": [
    "s.values, type(s.values)"
   ]
  },
  {
   "cell_type": "code",
   "execution_count": 10,
   "id": "534072fb",
   "metadata": {},
   "outputs": [],
   "source": [
    "z = s.items() # It returns us the key value pairs\n",
    "# iterator"
   ]
  },
  {
   "cell_type": "code",
   "execution_count": 11,
   "id": "82d14a46",
   "metadata": {},
   "outputs": [
    {
     "data": {
      "text/plain": [
       "[(0, 10), (1, 20), (2, 30), (3, 40)]"
      ]
     },
     "execution_count": 11,
     "metadata": {},
     "output_type": "execute_result"
    }
   ],
   "source": [
    "list(z)"
   ]
  },
  {
   "cell_type": "code",
   "execution_count": 12,
   "id": "120b0ea0",
   "metadata": {},
   "outputs": [
    {
     "data": {
      "text/plain": [
       "[]"
      ]
     },
     "execution_count": 12,
     "metadata": {},
     "output_type": "execute_result"
    }
   ],
   "source": [
    "list(z)"
   ]
  },
  {
   "cell_type": "markdown",
   "id": "f82ae96a",
   "metadata": {},
   "source": [
    "# Explicit index"
   ]
  },
  {
   "cell_type": "code",
   "execution_count": 13,
   "id": "1ef46e11",
   "metadata": {},
   "outputs": [
    {
     "data": {
      "text/plain": [
       "a    10\n",
       "b    20\n",
       "c    30\n",
       "d    40\n",
       "dtype: int64"
      ]
     },
     "execution_count": 13,
     "metadata": {},
     "output_type": "execute_result"
    }
   ],
   "source": [
    "s = pd.Series([10, 20, 30, 40], index = list('abcd'))\n",
    "s"
   ]
  },
  {
   "cell_type": "code",
   "execution_count": 14,
   "id": "d4768ace",
   "metadata": {},
   "outputs": [
    {
     "data": {
      "text/plain": [
       "Index(['a', 'b', 'c', 'd'], dtype='object')"
      ]
     },
     "execution_count": 14,
     "metadata": {},
     "output_type": "execute_result"
    }
   ],
   "source": [
    "s.index"
   ]
  },
  {
   "cell_type": "code",
   "execution_count": 15,
   "id": "49c803b9",
   "metadata": {},
   "outputs": [
    {
     "data": {
      "text/plain": [
       "pandas.core.indexes.base.Index"
      ]
     },
     "execution_count": 15,
     "metadata": {},
     "output_type": "execute_result"
    }
   ],
   "source": [
    "type(s.index)"
   ]
  },
  {
   "cell_type": "code",
   "execution_count": 16,
   "id": "f2acaac9",
   "metadata": {},
   "outputs": [
    {
     "data": {
      "text/plain": [
       "array([10, 20, 30, 40], dtype=int64)"
      ]
     },
     "execution_count": 16,
     "metadata": {},
     "output_type": "execute_result"
    }
   ],
   "source": [
    "s.values"
   ]
  },
  {
   "cell_type": "code",
   "execution_count": 17,
   "id": "e241cadf",
   "metadata": {},
   "outputs": [
    {
     "data": {
      "text/plain": [
       "10"
      ]
     },
     "execution_count": 17,
     "metadata": {},
     "output_type": "execute_result"
    }
   ],
   "source": [
    "s['a']"
   ]
  },
  {
   "cell_type": "code",
   "execution_count": 18,
   "id": "a505ef05",
   "metadata": {},
   "outputs": [
    {
     "name": "stderr",
     "output_type": "stream",
     "text": [
      "C:\\Users\\HU496FA\\AppData\\Local\\Temp\\ipykernel_13372\\243613605.py:1: FutureWarning: Series.__getitem__ treating keys as positions is deprecated. In a future version, integer keys will always be treated as labels (consistent with DataFrame behavior). To access a value by position, use `ser.iloc[pos]`\n",
      "  s[0]\n"
     ]
    },
    {
     "data": {
      "text/plain": [
       "10"
      ]
     },
     "execution_count": 18,
     "metadata": {},
     "output_type": "execute_result"
    }
   ],
   "source": [
    "s[0]"
   ]
  },
  {
   "cell_type": "code",
   "execution_count": 19,
   "id": "1e903efd",
   "metadata": {},
   "outputs": [],
   "source": [
    "capitals = {\n",
    "    'USA' : 'Washington D.C.',\n",
    "    'Canada' : 'Ottawa',\n",
    "    'UK' : 'London',\n",
    "    \"France\":'Paris'\n",
    "}"
   ]
  },
  {
   "cell_type": "code",
   "execution_count": 20,
   "id": "9ed8c7f8",
   "metadata": {},
   "outputs": [],
   "source": [
    "s = pd.Series(capitals)"
   ]
  },
  {
   "cell_type": "code",
   "execution_count": 21,
   "id": "4d2812d1",
   "metadata": {},
   "outputs": [
    {
     "data": {
      "text/plain": [
       "USA       Washington D.C.\n",
       "Canada             Ottawa\n",
       "UK                 London\n",
       "France              Paris\n",
       "dtype: object"
      ]
     },
     "execution_count": 21,
     "metadata": {},
     "output_type": "execute_result"
    }
   ],
   "source": [
    "s"
   ]
  },
  {
   "cell_type": "code",
   "execution_count": 22,
   "id": "3a61dc31",
   "metadata": {},
   "outputs": [
    {
     "data": {
      "text/plain": [
       "Index(['USA', 'Canada', 'UK', 'France'], dtype='object')"
      ]
     },
     "execution_count": 22,
     "metadata": {},
     "output_type": "execute_result"
    }
   ],
   "source": [
    "s.index"
   ]
  },
  {
   "cell_type": "code",
   "execution_count": 23,
   "id": "93d86a47",
   "metadata": {},
   "outputs": [
    {
     "data": {
      "text/plain": [
       "array(['Washington D.C.', 'Ottawa', 'London', 'Paris'], dtype=object)"
      ]
     },
     "execution_count": 23,
     "metadata": {},
     "output_type": "execute_result"
    }
   ],
   "source": [
    "s.values"
   ]
  },
  {
   "cell_type": "code",
   "execution_count": 24,
   "id": "189759a4",
   "metadata": {},
   "outputs": [
    {
     "name": "stdout",
     "output_type": "stream",
     "text": [
      "Capital(USA) = Washington D.C.\n",
      "Capital(Canada) = Ottawa\n",
      "Capital(UK) = London\n",
      "Capital(France) = Paris\n"
     ]
    }
   ],
   "source": [
    "for country, capital in s.items():\n",
    "    print(f\"Capital({country}) = {capital}\")"
   ]
  },
  {
   "cell_type": "markdown",
   "id": "8b249345",
   "metadata": {},
   "source": [
    "# Fancy Indexing"
   ]
  },
  {
   "cell_type": "code",
   "execution_count": 25,
   "id": "b5f9d68c",
   "metadata": {},
   "outputs": [
    {
     "data": {
      "text/plain": [
       "USA       Washington D.C.\n",
       "Canada             Ottawa\n",
       "UK                 London\n",
       "France              Paris\n",
       "dtype: object"
      ]
     },
     "execution_count": 25,
     "metadata": {},
     "output_type": "execute_result"
    }
   ],
   "source": [
    "s"
   ]
  },
  {
   "cell_type": "code",
   "execution_count": 28,
   "id": "60a1606e",
   "metadata": {},
   "outputs": [
    {
     "data": {
      "text/plain": [
       "USA    Washington D.C.\n",
       "UK              London\n",
       "dtype: object"
      ]
     },
     "execution_count": 28,
     "metadata": {},
     "output_type": "execute_result"
    }
   ],
   "source": [
    "s[['USA', 'UK']] # series"
   ]
  },
  {
   "cell_type": "code",
   "execution_count": 29,
   "id": "9388738d",
   "metadata": {},
   "outputs": [
    {
     "data": {
      "text/plain": [
       "pandas.core.series.Series"
      ]
     },
     "execution_count": 29,
     "metadata": {},
     "output_type": "execute_result"
    }
   ],
   "source": [
    "type(s[['USA', 'UK']] )"
   ]
  },
  {
   "cell_type": "markdown",
   "id": "04b7cdda",
   "metadata": {},
   "source": [
    "# Boolean masking"
   ]
  },
  {
   "cell_type": "code",
   "execution_count": 30,
   "id": "a478ac73",
   "metadata": {},
   "outputs": [
    {
     "data": {
      "text/plain": [
       "a      1\n",
       "b      4\n",
       "c      9\n",
       "d     16\n",
       "e     25\n",
       "f     36\n",
       "g     49\n",
       "h     64\n",
       "i     81\n",
       "j    100\n",
       "dtype: int64"
      ]
     },
     "execution_count": 30,
     "metadata": {},
     "output_type": "execute_result"
    }
   ],
   "source": [
    "s = pd.Series([i ** 2 for i in range(1, 11)], index = list('abcdefghij'))\n",
    "s"
   ]
  },
  {
   "cell_type": "code",
   "execution_count": 32,
   "id": "fdd26ca3",
   "metadata": {},
   "outputs": [
    {
     "data": {
      "text/plain": [
       "a    False\n",
       "b    False\n",
       "c    False\n",
       "d    False\n",
       "e    False\n",
       "f     True\n",
       "g     True\n",
       "h     True\n",
       "i     True\n",
       "j     True\n",
       "dtype: bool"
      ]
     },
     "execution_count": 32,
     "metadata": {},
     "output_type": "execute_result"
    }
   ],
   "source": [
    "mask = s > 30\n",
    "mask # boolean series"
   ]
  },
  {
   "cell_type": "code",
   "execution_count": 33,
   "id": "98a96338",
   "metadata": {},
   "outputs": [
    {
     "data": {
      "text/plain": [
       "f     36\n",
       "g     49\n",
       "h     64\n",
       "i     81\n",
       "j    100\n",
       "dtype: int64"
      ]
     },
     "execution_count": 33,
     "metadata": {},
     "output_type": "execute_result"
    }
   ],
   "source": [
    "s[mask]"
   ]
  },
  {
   "cell_type": "markdown",
   "id": "041dfb69",
   "metadata": {},
   "source": [
    "# Slicing"
   ]
  },
  {
   "cell_type": "code",
   "execution_count": 34,
   "id": "0cb7092e",
   "metadata": {},
   "outputs": [
    {
     "data": {
      "text/plain": [
       "a      1\n",
       "b      4\n",
       "c      9\n",
       "d     16\n",
       "e     25\n",
       "f     36\n",
       "g     49\n",
       "h     64\n",
       "i     81\n",
       "j    100\n",
       "dtype: int64"
      ]
     },
     "execution_count": 34,
     "metadata": {},
     "output_type": "execute_result"
    }
   ],
   "source": [
    "s"
   ]
  },
  {
   "cell_type": "code",
   "execution_count": 35,
   "id": "04c04c1b",
   "metadata": {},
   "outputs": [
    {
     "data": {
      "text/plain": [
       "a     1\n",
       "b     4\n",
       "c     9\n",
       "d    16\n",
       "e    25\n",
       "dtype: int64"
      ]
     },
     "execution_count": 35,
     "metadata": {},
     "output_type": "execute_result"
    }
   ],
   "source": [
    "s[0:5] # last point is not included"
   ]
  },
  {
   "cell_type": "code",
   "execution_count": 37,
   "id": "bae5a98b",
   "metadata": {},
   "outputs": [
    {
     "data": {
      "text/plain": [
       "a     1\n",
       "c     9\n",
       "e    25\n",
       "dtype: int64"
      ]
     },
     "execution_count": 37,
     "metadata": {},
     "output_type": "execute_result"
    }
   ],
   "source": [
    "s['a':'f': 2] # last point is included"
   ]
  },
  {
   "cell_type": "markdown",
   "id": "e9eb76ee",
   "metadata": {},
   "source": [
    "# Point of confusion"
   ]
  },
  {
   "cell_type": "code",
   "execution_count": 41,
   "id": "e159fc12",
   "metadata": {},
   "outputs": [
    {
     "data": {
      "text/plain": [
       "1      34\n",
       "2      68\n",
       "3     102\n",
       "4     136\n",
       "5     170\n",
       "6     204\n",
       "7     238\n",
       "8     272\n",
       "9     306\n",
       "10    340\n",
       "dtype: int64"
      ]
     },
     "execution_count": 41,
     "metadata": {},
     "output_type": "execute_result"
    }
   ],
   "source": [
    "s = pd.Series([i * 34 for i in range(1, 11)], index = range(1,11))\n",
    "s"
   ]
  },
  {
   "cell_type": "code",
   "execution_count": 42,
   "id": "5136a2b0",
   "metadata": {},
   "outputs": [
    {
     "data": {
      "text/plain": [
       "102"
      ]
     },
     "execution_count": 42,
     "metadata": {},
     "output_type": "execute_result"
    }
   ],
   "source": [
    "s.iloc[2]\n",
    "# accesor --> .iloc[] .loc[]"
   ]
  },
  {
   "cell_type": "code",
   "execution_count": 43,
   "id": "0ec5ed38",
   "metadata": {},
   "outputs": [
    {
     "data": {
      "text/plain": [
       "68"
      ]
     },
     "execution_count": 43,
     "metadata": {},
     "output_type": "execute_result"
    }
   ],
   "source": [
    "s.loc[2]"
   ]
  },
  {
   "cell_type": "code",
   "execution_count": 44,
   "id": "d03142a8",
   "metadata": {},
   "outputs": [
    {
     "data": {
      "text/plain": [
       "2      68\n",
       "10    340\n",
       "1      34\n",
       "dtype: int64"
      ]
     },
     "execution_count": 44,
     "metadata": {},
     "output_type": "execute_result"
    }
   ],
   "source": [
    "s.loc[[2, 10, 2+7-8]]"
   ]
  },
  {
   "cell_type": "code",
   "execution_count": 45,
   "id": "ac1d4869",
   "metadata": {},
   "outputs": [
    {
     "data": {
      "text/plain": [
       "2     68\n",
       "1     34\n",
       "6    204\n",
       "dtype: int64"
      ]
     },
     "execution_count": 45,
     "metadata": {},
     "output_type": "execute_result"
    }
   ],
   "source": [
    "s.iloc[[1, 0, -5+10]]"
   ]
  },
  {
   "cell_type": "code",
   "execution_count": 46,
   "id": "6102201d",
   "metadata": {},
   "outputs": [
    {
     "data": {
      "text/plain": [
       "1      34\n",
       "2      68\n",
       "3     102\n",
       "4     136\n",
       "5     170\n",
       "6     204\n",
       "7     238\n",
       "8     272\n",
       "9     306\n",
       "10    340\n",
       "dtype: int64"
      ]
     },
     "execution_count": 46,
     "metadata": {},
     "output_type": "execute_result"
    }
   ],
   "source": [
    "s"
   ]
  },
  {
   "cell_type": "code",
   "execution_count": 47,
   "id": "5c7857e2",
   "metadata": {},
   "outputs": [
    {
     "data": {
      "text/plain": [
       "1     34\n",
       "2     68\n",
       "3    102\n",
       "4    136\n",
       "dtype: int64"
      ]
     },
     "execution_count": 47,
     "metadata": {},
     "output_type": "execute_result"
    }
   ],
   "source": [
    "s.iloc[0: 4] # end point is not included"
   ]
  },
  {
   "cell_type": "code",
   "execution_count": 48,
   "id": "8d89ee0b",
   "metadata": {},
   "outputs": [
    {
     "data": {
      "text/plain": [
       "1     34\n",
       "2     68\n",
       "3    102\n",
       "4    136\n",
       "5    170\n",
       "6    204\n",
       "dtype: int64"
      ]
     },
     "execution_count": 48,
     "metadata": {},
     "output_type": "execute_result"
    }
   ],
   "source": [
    "s.loc[1:6]"
   ]
  },
  {
   "cell_type": "code",
   "execution_count": null,
   "id": "2b8b0fb7",
   "metadata": {},
   "outputs": [],
   "source": []
  }
 ],
 "metadata": {
  "kernelspec": {
   "display_name": "Python 3 (ipykernel)",
   "language": "python",
   "name": "python3"
  },
  "language_info": {
   "codemirror_mode": {
    "name": "ipython",
    "version": 3
   },
   "file_extension": ".py",
   "mimetype": "text/x-python",
   "name": "python",
   "nbconvert_exporter": "python",
   "pygments_lexer": "ipython3",
   "version": "3.11.5"
  }
 },
 "nbformat": 4,
 "nbformat_minor": 5
}
