{
 "cells": [
  {
   "cell_type": "markdown",
   "id": "89381b23",
   "metadata": {},
   "source": [
    "# Series"
   ]
  },
  {
   "cell_type": "markdown",
   "id": "b5b50a5e",
   "metadata": {},
   "source": [
    "    Series is a 1 DS in pandas."
   ]
  },
  {
   "cell_type": "markdown",
   "id": "05b3c294",
   "metadata": {},
   "source": [
    "    Associative containers -- key, value\n",
    "    [10, 20, 30, 40, 50]\n",
    "      0,   1, 2,  3,  4\n",
    "\n",
    "    {'name':'Abhishek', 'age' :23, 'city' :'New Delhi'}\n",
    "\n",
    "    pandas asscoiative container -- series(keys comes from index and values are provided in a list)"
   ]
  },
  {
   "cell_type": "code",
   "execution_count": 3,
   "id": "0eee7729",
   "metadata": {},
   "outputs": [
    {
     "data": {
      "text/plain": [
       "0    10\n",
       "1    20\n",
       "2    30\n",
       "3    40\n",
       "dtype: int64"
      ]
     },
     "execution_count": 3,
     "metadata": {},
     "output_type": "execute_result"
    }
   ],
   "source": [
    "import numpy as np\n",
    "import pandas as pd"
   ]
  },
  {
   "cell_type": "code",
   "execution_count": 4,
   "id": "45b674a5",
   "metadata": {},
   "outputs": [
    {
     "data": {
      "text/plain": [
       "0    10\n",
       "1    20\n",
       "2    30\n",
       "3    40\n",
       "dtype: int64"
      ]
     },
     "execution_count": 4,
     "metadata": {},
     "output_type": "execute_result"
    }
   ],
   "source": [
    "s = pd.Series([10,20,30,40])\n",
    "s"
   ]
  },
  {
   "cell_type": "code",
   "execution_count": 6,
   "id": "e6d2c0b5",
   "metadata": {},
   "outputs": [
    {
     "data": {
      "text/plain": [
       "[0, 1, 2, 3]"
      ]
     },
     "execution_count": 6,
     "metadata": {},
     "output_type": "execute_result"
    }
   ],
   "source": [
    "list(s.index)"
   ]
  },
  {
   "cell_type": "code",
   "execution_count": 8,
   "id": "c7ec2034",
   "metadata": {},
   "outputs": [
    {
     "data": {
      "text/plain": [
       "(array([10, 20, 30, 40], dtype=int64), numpy.ndarray)"
      ]
     },
     "execution_count": 8,
     "metadata": {},
     "output_type": "execute_result"
    }
   ],
   "source": [
    "s.values, type(s.values)"
   ]
  },
  {
   "cell_type": "code",
   "execution_count": 10,
   "id": "534072fb",
   "metadata": {},
   "outputs": [],
   "source": [
    "z = s.items() # It returns us the key value pairs\n",
    "# iterator"
   ]
  },
  {
   "cell_type": "code",
   "execution_count": 11,
   "id": "82d14a46",
   "metadata": {},
   "outputs": [
    {
     "data": {
      "text/plain": [
       "[(0, 10), (1, 20), (2, 30), (3, 40)]"
      ]
     },
     "execution_count": 11,
     "metadata": {},
     "output_type": "execute_result"
    }
   ],
   "source": [
    "list(z)"
   ]
  },
  {
   "cell_type": "code",
   "execution_count": 12,
   "id": "120b0ea0",
   "metadata": {},
   "outputs": [
    {
     "data": {
      "text/plain": [
       "[]"
      ]
     },
     "execution_count": 12,
     "metadata": {},
     "output_type": "execute_result"
    }
   ],
   "source": [
    "list(z)"
   ]
  },
  {
   "cell_type": "markdown",
   "id": "f82ae96a",
   "metadata": {},
   "source": [
    "# Explicit index"
   ]
  },
  {
   "cell_type": "code",
   "execution_count": 13,
   "id": "1ef46e11",
   "metadata": {},
   "outputs": [
    {
     "data": {
      "text/plain": [
       "a    10\n",
       "b    20\n",
       "c    30\n",
       "d    40\n",
       "dtype: int64"
      ]
     },
     "execution_count": 13,
     "metadata": {},
     "output_type": "execute_result"
    }
   ],
   "source": [
    "s = pd.Series([10, 20, 30, 40], index = list('abcd'))\n",
    "s"
   ]
  },
  {
   "cell_type": "code",
   "execution_count": 14,
   "id": "d4768ace",
   "metadata": {},
   "outputs": [
    {
     "data": {
      "text/plain": [
       "Index(['a', 'b', 'c', 'd'], dtype='object')"
      ]
     },
     "execution_count": 14,
     "metadata": {},
     "output_type": "execute_result"
    }
   ],
   "source": [
    "s.index"
   ]
  },
  {
   "cell_type": "code",
   "execution_count": 15,
   "id": "49c803b9",
   "metadata": {},
   "outputs": [
    {
     "data": {
      "text/plain": [
       "pandas.core.indexes.base.Index"
      ]
     },
     "execution_count": 15,
     "metadata": {},
     "output_type": "execute_result"
    }
   ],
   "source": [
    "type(s.index)"
   ]
  },
  {
   "cell_type": "code",
   "execution_count": 16,
   "id": "f2acaac9",
   "metadata": {},
   "outputs": [
    {
     "data": {
      "text/plain": [
       "array([10, 20, 30, 40], dtype=int64)"
      ]
     },
     "execution_count": 16,
     "metadata": {},
     "output_type": "execute_result"
    }
   ],
   "source": [
    "s.values"
   ]
  },
  {
   "cell_type": "code",
   "execution_count": 17,
   "id": "e241cadf",
   "metadata": {},
   "outputs": [
    {
     "data": {
      "text/plain": [
       "10"
      ]
     },
     "execution_count": 17,
     "metadata": {},
     "output_type": "execute_result"
    }
   ],
   "source": [
    "s['a']"
   ]
  },
  {
   "cell_type": "code",
   "execution_count": 18,
   "id": "a505ef05",
   "metadata": {},
   "outputs": [
    {
     "name": "stderr",
     "output_type": "stream",
     "text": [
      "C:\\Users\\HU496FA\\AppData\\Local\\Temp\\ipykernel_13372\\243613605.py:1: FutureWarning: Series.__getitem__ treating keys as positions is deprecated. In a future version, integer keys will always be treated as labels (consistent with DataFrame behavior). To access a value by position, use `ser.iloc[pos]`\n",
      "  s[0]\n"
     ]
    },
    {
     "data": {
      "text/plain": [
       "10"
      ]
     },
     "execution_count": 18,
     "metadata": {},
     "output_type": "execute_result"
    }
   ],
   "source": [
    "s[0]"
   ]
  },
  {
   "cell_type": "code",
   "execution_count": 19,
   "id": "1e903efd",
   "metadata": {},
   "outputs": [],
   "source": [
    "capitals = {\n",
    "    'USA' : 'Washington D.C.',\n",
    "    'Canada' : 'Ottawa',\n",
    "    'UK' : 'London',\n",
    "    \"France\":'Paris'\n",
    "}"
   ]
  },
  {
   "cell_type": "code",
   "execution_count": 20,
   "id": "9ed8c7f8",
   "metadata": {},
   "outputs": [],
   "source": [
    "s = pd.Series(capitals)"
   ]
  },
  {
   "cell_type": "code",
   "execution_count": 21,
   "id": "4d2812d1",
   "metadata": {},
   "outputs": [
    {
     "data": {
      "text/plain": [
       "USA       Washington D.C.\n",
       "Canada             Ottawa\n",
       "UK                 London\n",
       "France              Paris\n",
       "dtype: object"
      ]
     },
     "execution_count": 21,
     "metadata": {},
     "output_type": "execute_result"
    }
   ],
   "source": [
    "s"
   ]
  },
  {
   "cell_type": "code",
   "execution_count": 22,
   "id": "3a61dc31",
   "metadata": {},
   "outputs": [
    {
     "data": {
      "text/plain": [
       "Index(['USA', 'Canada', 'UK', 'France'], dtype='object')"
      ]
     },
     "execution_count": 22,
     "metadata": {},
     "output_type": "execute_result"
    }
   ],
   "source": [
    "s.index"
   ]
  },
  {
   "cell_type": "code",
   "execution_count": 23,
   "id": "93d86a47",
   "metadata": {},
   "outputs": [
    {
     "data": {
      "text/plain": [
       "array(['Washington D.C.', 'Ottawa', 'London', 'Paris'], dtype=object)"
      ]
     },
     "execution_count": 23,
     "metadata": {},
     "output_type": "execute_result"
    }
   ],
   "source": [
    "s.values"
   ]
  },
  {
   "cell_type": "code",
   "execution_count": 24,
   "id": "189759a4",
   "metadata": {},
   "outputs": [
    {
     "name": "stdout",
     "output_type": "stream",
     "text": [
      "Capital(USA) = Washington D.C.\n",
      "Capital(Canada) = Ottawa\n",
      "Capital(UK) = London\n",
      "Capital(France) = Paris\n"
     ]
    }
   ],
   "source": [
    "for country, capital in s.items():\n",
    "    print(f\"Capital({country}) = {capital}\")"
   ]
  },
  {
   "cell_type": "markdown",
   "id": "8b249345",
   "metadata": {},
   "source": [
    "# Fancy Indexing"
   ]
  },
  {
   "cell_type": "code",
   "execution_count": 25,
   "id": "b5f9d68c",
   "metadata": {},
   "outputs": [
    {
     "data": {
      "text/plain": [
       "USA       Washington D.C.\n",
       "Canada             Ottawa\n",
       "UK                 London\n",
       "France              Paris\n",
       "dtype: object"
      ]
     },
     "execution_count": 25,
     "metadata": {},
     "output_type": "execute_result"
    }
   ],
   "source": [
    "s"
   ]
  },
  {
   "cell_type": "code",
   "execution_count": 28,
   "id": "60a1606e",
   "metadata": {},
   "outputs": [
    {
     "data": {
      "text/plain": [
       "USA    Washington D.C.\n",
       "UK              London\n",
       "dtype: object"
      ]
     },
     "execution_count": 28,
     "metadata": {},
     "output_type": "execute_result"
    }
   ],
   "source": [
    "s[['USA', 'UK']] # series"
   ]
  },
  {
   "cell_type": "code",
   "execution_count": 29,
   "id": "9388738d",
   "metadata": {},
   "outputs": [
    {
     "data": {
      "text/plain": [
       "pandas.core.series.Series"
      ]
     },
     "execution_count": 29,
     "metadata": {},
     "output_type": "execute_result"
    }
   ],
   "source": [
    "type(s[['USA', 'UK']] )"
   ]
  },
  {
   "cell_type": "markdown",
   "id": "04b7cdda",
   "metadata": {},
   "source": [
    "# Boolean masking"
   ]
  },
  {
   "cell_type": "code",
   "execution_count": 30,
   "id": "a478ac73",
   "metadata": {},
   "outputs": [
    {
     "data": {
      "text/plain": [
       "a      1\n",
       "b      4\n",
       "c      9\n",
       "d     16\n",
       "e     25\n",
       "f     36\n",
       "g     49\n",
       "h     64\n",
       "i     81\n",
       "j    100\n",
       "dtype: int64"
      ]
     },
     "execution_count": 30,
     "metadata": {},
     "output_type": "execute_result"
    }
   ],
   "source": [
    "s = pd.Series([i ** 2 for i in range(1, 11)], index = list('abcdefghij'))\n",
    "s"
   ]
  },
  {
   "cell_type": "code",
   "execution_count": 32,
   "id": "fdd26ca3",
   "metadata": {},
   "outputs": [
    {
     "data": {
      "text/plain": [
       "a    False\n",
       "b    False\n",
       "c    False\n",
       "d    False\n",
       "e    False\n",
       "f     True\n",
       "g     True\n",
       "h     True\n",
       "i     True\n",
       "j     True\n",
       "dtype: bool"
      ]
     },
     "execution_count": 32,
     "metadata": {},
     "output_type": "execute_result"
    }
   ],
   "source": [
    "mask = s > 30\n",
    "mask # boolean series"
   ]
  },
  {
   "cell_type": "code",
   "execution_count": 33,
   "id": "98a96338",
   "metadata": {},
   "outputs": [
    {
     "data": {
      "text/plain": [
       "f     36\n",
       "g     49\n",
       "h     64\n",
       "i     81\n",
       "j    100\n",
       "dtype: int64"
      ]
     },
     "execution_count": 33,
     "metadata": {},
     "output_type": "execute_result"
    }
   ],
   "source": [
    "s[mask]"
   ]
  },
  {
   "cell_type": "markdown",
   "id": "041dfb69",
   "metadata": {},
   "source": [
    "# Slicing"
   ]
  },
  {
   "cell_type": "code",
   "execution_count": 34,
   "id": "0cb7092e",
   "metadata": {},
   "outputs": [
    {
     "data": {
      "text/plain": [
       "a      1\n",
       "b      4\n",
       "c      9\n",
       "d     16\n",
       "e     25\n",
       "f     36\n",
       "g     49\n",
       "h     64\n",
       "i     81\n",
       "j    100\n",
       "dtype: int64"
      ]
     },
     "execution_count": 34,
     "metadata": {},
     "output_type": "execute_result"
    }
   ],
   "source": [
    "s"
   ]
  },
  {
   "cell_type": "code",
   "execution_count": 35,
   "id": "04c04c1b",
   "metadata": {},
   "outputs": [
    {
     "data": {
      "text/plain": [
       "a     1\n",
       "b     4\n",
       "c     9\n",
       "d    16\n",
       "e    25\n",
       "dtype: int64"
      ]
     },
     "execution_count": 35,
     "metadata": {},
     "output_type": "execute_result"
    }
   ],
   "source": [
    "s[0:5] # last point is not included"
   ]
  },
  {
   "cell_type": "code",
   "execution_count": 37,
   "id": "bae5a98b",
   "metadata": {},
   "outputs": [
    {
     "data": {
      "text/plain": [
       "a     1\n",
       "c     9\n",
       "e    25\n",
       "dtype: int64"
      ]
     },
     "execution_count": 37,
     "metadata": {},
     "output_type": "execute_result"
    }
   ],
   "source": [
    "s['a':'f': 2] # last point is included"
   ]
  },
  {
   "cell_type": "markdown",
   "id": "e9eb76ee",
   "metadata": {},
   "source": [
    "# Point of confusion"
   ]
  },
  {
   "cell_type": "code",
   "execution_count": 41,
   "id": "e159fc12",
   "metadata": {},
   "outputs": [
    {
     "data": {
      "text/plain": [
       "1      34\n",
       "2      68\n",
       "3     102\n",
       "4     136\n",
       "5     170\n",
       "6     204\n",
       "7     238\n",
       "8     272\n",
       "9     306\n",
       "10    340\n",
       "dtype: int64"
      ]
     },
     "execution_count": 41,
     "metadata": {},
     "output_type": "execute_result"
    }
   ],
   "source": [
    "s = pd.Series([i * 34 for i in range(1, 11)], index = range(1,11))\n",
    "s"
   ]
  },
  {
   "cell_type": "code",
   "execution_count": 42,
   "id": "5136a2b0",
   "metadata": {},
   "outputs": [
    {
     "data": {
      "text/plain": [
       "102"
      ]
     },
     "execution_count": 42,
     "metadata": {},
     "output_type": "execute_result"
    }
   ],
   "source": [
    "s.iloc[2]\n",
    "# accesor --> .iloc[] .loc[]"
   ]
  },
  {
   "cell_type": "code",
   "execution_count": 43,
   "id": "0ec5ed38",
   "metadata": {},
   "outputs": [
    {
     "data": {
      "text/plain": [
       "68"
      ]
     },
     "execution_count": 43,
     "metadata": {},
     "output_type": "execute_result"
    }
   ],
   "source": [
    "s.loc[2]"
   ]
  },
  {
   "cell_type": "code",
   "execution_count": 44,
   "id": "d03142a8",
   "metadata": {},
   "outputs": [
    {
     "data": {
      "text/plain": [
       "2      68\n",
       "10    340\n",
       "1      34\n",
       "dtype: int64"
      ]
     },
     "execution_count": 44,
     "metadata": {},
     "output_type": "execute_result"
    }
   ],
   "source": [
    "s.loc[[2, 10, 2+7-8]]"
   ]
  },
  {
   "cell_type": "code",
   "execution_count": 45,
   "id": "ac1d4869",
   "metadata": {},
   "outputs": [
    {
     "data": {
      "text/plain": [
       "2     68\n",
       "1     34\n",
       "6    204\n",
       "dtype: int64"
      ]
     },
     "execution_count": 45,
     "metadata": {},
     "output_type": "execute_result"
    }
   ],
   "source": [
    "s.iloc[[1, 0, -5+10]]"
   ]
  },
  {
   "cell_type": "code",
   "execution_count": 46,
   "id": "6102201d",
   "metadata": {},
   "outputs": [
    {
     "data": {
      "text/plain": [
       "1      34\n",
       "2      68\n",
       "3     102\n",
       "4     136\n",
       "5     170\n",
       "6     204\n",
       "7     238\n",
       "8     272\n",
       "9     306\n",
       "10    340\n",
       "dtype: int64"
      ]
     },
     "execution_count": 46,
     "metadata": {},
     "output_type": "execute_result"
    }
   ],
   "source": [
    "s"
   ]
  },
  {
   "cell_type": "code",
   "execution_count": 47,
   "id": "5c7857e2",
   "metadata": {},
   "outputs": [
    {
     "data": {
      "text/plain": [
       "1     34\n",
       "2     68\n",
       "3    102\n",
       "4    136\n",
       "dtype: int64"
      ]
     },
     "execution_count": 47,
     "metadata": {},
     "output_type": "execute_result"
    }
   ],
   "source": [
    "s.iloc[0: 4] # end point is not included"
   ]
  },
  {
   "cell_type": "code",
   "execution_count": 48,
   "id": "8d89ee0b",
   "metadata": {},
   "outputs": [
    {
     "data": {
      "text/plain": [
       "1     34\n",
       "2     68\n",
       "3    102\n",
       "4    136\n",
       "5    170\n",
       "6    204\n",
       "dtype: int64"
      ]
     },
     "execution_count": 48,
     "metadata": {},
     "output_type": "execute_result"
    }
   ],
   "source": [
    "s.loc[1:6]"
   ]
  },
  {
   "cell_type": "markdown",
   "id": "2873349a",
   "metadata": {},
   "source": [
    "# Series Methods"
   ]
  },
  {
   "cell_type": "code",
   "execution_count": 59,
   "id": "9b63269a",
   "metadata": {},
   "outputs": [
    {
     "data": {
      "text/plain": [
       "0         2.490664\n",
       "1         2.515820\n",
       "2         2.758411\n",
       "3         2.770615\n",
       "4         2.614201\n",
       "           ...    \n",
       "4788    132.080002\n",
       "4789    132.998001\n",
       "4790    135.570007\n",
       "4791    137.050003\n",
       "4792    138.429993\n",
       "Name: Price, Length: 4793, dtype: float64"
      ]
     },
     "execution_count": 59,
     "metadata": {},
     "output_type": "execute_result"
    }
   ],
   "source": [
    "#pd.read_csv('datasets/google_stock_price.csv', usecols = ['Price', 'Date'])\n",
    "pd.read_csv('datasets/google_stock_price.csv', usecols = ['Price']).squeeze()\n",
    "pd.read_csv('datasets/google_stock_price.csv', usecols = ['Price']).squeeze('columns')\n",
    "google = pd.read_csv('datasets/google_stock_price.csv', usecols = ['Price']).squeeze(True)\n",
    "google"
   ]
  },
  {
   "cell_type": "code",
   "execution_count": 60,
   "id": "e226ed51",
   "metadata": {},
   "outputs": [
    {
     "data": {
      "text/plain": [
       "4793"
      ]
     },
     "execution_count": 60,
     "metadata": {},
     "output_type": "execute_result"
    }
   ],
   "source": [
    "len(google)"
   ]
  },
  {
   "cell_type": "code",
   "execution_count": 61,
   "id": "698907ee",
   "metadata": {},
   "outputs": [
    {
     "data": {
      "text/plain": [
       "151.863495"
      ]
     },
     "execution_count": 61,
     "metadata": {},
     "output_type": "execute_result"
    }
   ],
   "source": [
    "max(google)"
   ]
  },
  {
   "cell_type": "code",
   "execution_count": 62,
   "id": "3da020de",
   "metadata": {},
   "outputs": [
    {
     "data": {
      "text/plain": [
       "2.47049"
      ]
     },
     "execution_count": 62,
     "metadata": {},
     "output_type": "execute_result"
    }
   ],
   "source": [
    "min(google)"
   ]
  },
  {
   "cell_type": "code",
   "execution_count": 66,
   "id": "6afd32e3",
   "metadata": {},
   "outputs": [
    {
     "data": {
      "text/plain": [
       "4793"
      ]
     },
     "execution_count": 66,
     "metadata": {},
     "output_type": "execute_result"
    }
   ],
   "source": [
    "google.size"
   ]
  },
  {
   "cell_type": "code",
   "execution_count": 67,
   "id": "75335691",
   "metadata": {},
   "outputs": [
    {
     "data": {
      "text/plain": [
       "151.863495"
      ]
     },
     "execution_count": 67,
     "metadata": {},
     "output_type": "execute_result"
    }
   ],
   "source": [
    "google.max()"
   ]
  },
  {
   "cell_type": "code",
   "execution_count": 68,
   "id": "f8183429",
   "metadata": {},
   "outputs": [
    {
     "name": "stdout",
     "output_type": "stream",
     "text": [
      "17.3 µs ± 786 ns per loop (mean ± std. dev. of 7 runs, 10,000 loops each)\n"
     ]
    }
   ],
   "source": [
    "%timeit -n 10000 google.max()"
   ]
  },
  {
   "cell_type": "code",
   "execution_count": 69,
   "id": "4276a2e4",
   "metadata": {},
   "outputs": [
    {
     "name": "stdout",
     "output_type": "stream",
     "text": [
      "444 µs ± 95.4 µs per loop (mean ± std. dev. of 7 runs, 10,000 loops each)\n"
     ]
    }
   ],
   "source": [
    "%timeit -n 10000 max(google)"
   ]
  },
  {
   "cell_type": "code",
   "execution_count": 70,
   "id": "c39251b0",
   "metadata": {},
   "outputs": [
    {
     "data": {
      "text/plain": [
       "37.274752943868094"
      ]
     },
     "execution_count": 70,
     "metadata": {},
     "output_type": "execute_result"
    }
   ],
   "source": [
    "google.std()"
   ]
  },
  {
   "cell_type": "code",
   "execution_count": 71,
   "id": "1435147c",
   "metadata": {},
   "outputs": [
    {
     "name": "stderr",
     "output_type": "stream",
     "text": [
      "C:\\Users\\HU496FA\\AppData\\Local\\Programs\\Python\\Python311\\Lib\\site-packages\\numpy\\core\\_methods.py:53: RuntimeWarning: overflow encountered in reduce\n",
      "  return umr_prod(a, axis, dtype, out, keepdims, initial, where)\n"
     ]
    },
    {
     "data": {
      "text/plain": [
       "inf"
      ]
     },
     "execution_count": 71,
     "metadata": {},
     "output_type": "execute_result"
    }
   ],
   "source": [
    "google.product()"
   ]
  },
  {
   "cell_type": "code",
   "execution_count": 72,
   "id": "4a154e27",
   "metadata": {},
   "outputs": [],
   "source": [
    "google?"
   ]
  },
  {
   "cell_type": "code",
   "execution_count": 73,
   "id": "f5d9e90f",
   "metadata": {},
   "outputs": [
    {
     "data": {
      "text/plain": [
       "4793"
      ]
     },
     "execution_count": 73,
     "metadata": {},
     "output_type": "execute_result"
    }
   ],
   "source": [
    "google.count() # Missing values are not counted"
   ]
  },
  {
   "cell_type": "code",
   "execution_count": 74,
   "id": "50a529b6",
   "metadata": {},
   "outputs": [
    {
     "data": {
      "text/plain": [
       "4793"
      ]
     },
     "execution_count": 74,
     "metadata": {},
     "output_type": "execute_result"
    }
   ],
   "source": [
    "google.size # all values are counted"
   ]
  },
  {
   "cell_type": "code",
   "execution_count": 75,
   "id": "4c930763",
   "metadata": {},
   "outputs": [
    {
     "data": {
      "text/plain": [
       "False"
      ]
     },
     "execution_count": 75,
     "metadata": {},
     "output_type": "execute_result"
    }
   ],
   "source": [
    "google.is_unique # "
   ]
  },
  {
   "cell_type": "code",
   "execution_count": 76,
   "id": "df5e808b",
   "metadata": {},
   "outputs": [
    {
     "data": {
      "text/plain": [
       "Price\n",
       "14.719826     4\n",
       "49.000000     4\n",
       "67.500000     3\n",
       "13.113846     3\n",
       "15.317586     3\n",
       "             ..\n",
       "15.364161     1\n",
       "15.290189     1\n",
       "15.287449     1\n",
       "15.525307     1\n",
       "138.429993    1\n",
       "Name: count, Length: 4652, dtype: int64"
      ]
     },
     "execution_count": 76,
     "metadata": {},
     "output_type": "execute_result"
    }
   ],
   "source": [
    "google.value_counts()"
   ]
  },
  {
   "cell_type": "code",
   "execution_count": 78,
   "id": "f8842c05",
   "metadata": {},
   "outputs": [],
   "source": [
    "# df['col'].is_unique\n",
    "\n",
    "# df['col'][df['col'].value_counts() > 1].size != 0"
   ]
  },
  {
   "cell_type": "code",
   "execution_count": 102,
   "id": "486c7822",
   "metadata": {},
   "outputs": [
    {
     "data": {
      "text/plain": [
       "0      Boobasaur\n",
       "1        Ivysaur\n",
       "2       Venusaur\n",
       "3     Charmander\n",
       "4     Charmeleon\n",
       "5      Charizard\n",
       "6       Squirtle\n",
       "7      Wartortle\n",
       "8      Blastoise\n",
       "9       Caterpie\n",
       "10       Metapod\n",
       "11    Butterfree\n",
       "12        Weedle\n",
       "13        Kakuna\n",
       "14      Beedrill\n",
       "15        Pidgey\n",
       "16     Pidgeotto\n",
       "17       Pidgeot\n",
       "18       Rattata\n",
       "19      Raticate\n",
       "Name: Name, dtype: object"
      ]
     },
     "execution_count": 102,
     "metadata": {},
     "output_type": "execute_result"
    }
   ],
   "source": [
    "h = pokemon.head(20)\n",
    "h"
   ]
  },
  {
   "cell_type": "code",
   "execution_count": 103,
   "id": "1c2a811e",
   "metadata": {},
   "outputs": [
    {
     "data": {
      "text/plain": [
       "{0: 'Boobasaur',\n",
       " 1: 'Ivysaur',\n",
       " 2: 'Venusaur',\n",
       " 3: 'Charmander',\n",
       " 4: 'Charmeleon',\n",
       " 5: 'Charizard',\n",
       " 6: 'Squirtle',\n",
       " 7: 'Wartortle',\n",
       " 8: 'Blastoise',\n",
       " 9: 'Caterpie',\n",
       " 10: 'Metapod',\n",
       " 11: 'Butterfree',\n",
       " 12: 'Weedle',\n",
       " 13: 'Kakuna',\n",
       " 14: 'Beedrill',\n",
       " 15: 'Pidgey',\n",
       " 16: 'Pidgeotto',\n",
       " 17: 'Pidgeot',\n",
       " 18: 'Rattata',\n",
       " 19: 'Raticate'}"
      ]
     },
     "execution_count": 103,
     "metadata": {},
     "output_type": "execute_result"
    }
   ],
   "source": [
    "dict(h)"
   ]
  },
  {
   "cell_type": "code",
   "execution_count": 104,
   "id": "e8c5cfe4",
   "metadata": {},
   "outputs": [
    {
     "data": {
      "text/plain": [
       "['Boobasaur',\n",
       " 'Ivysaur',\n",
       " 'Venusaur',\n",
       " 'Charmander',\n",
       " 'Charmeleon',\n",
       " 'Charizard',\n",
       " 'Squirtle',\n",
       " 'Wartortle',\n",
       " 'Blastoise',\n",
       " 'Caterpie',\n",
       " 'Metapod',\n",
       " 'Butterfree',\n",
       " 'Weedle',\n",
       " 'Kakuna',\n",
       " 'Beedrill',\n",
       " 'Pidgey',\n",
       " 'Pidgeotto',\n",
       " 'Pidgeot',\n",
       " 'Rattata',\n",
       " 'Raticate']"
      ]
     },
     "execution_count": 104,
     "metadata": {},
     "output_type": "execute_result"
    }
   ],
   "source": [
    "list(h)"
   ]
  },
  {
   "cell_type": "code",
   "execution_count": 110,
   "id": "46f80ce2",
   "metadata": {},
   "outputs": [
    {
     "data": {
      "text/plain": [
       "['Weedle',\n",
       " 'Wartortle',\n",
       " 'Venusaur',\n",
       " 'Squirtle',\n",
       " 'Rattata',\n",
       " 'Raticate',\n",
       " 'Pidgey',\n",
       " 'Pidgeotto',\n",
       " 'Pidgeot',\n",
       " 'Metapod',\n",
       " 'Kakuna',\n",
       " 'Ivysaur',\n",
       " 'Charmeleon',\n",
       " 'Charmander',\n",
       " 'Charizard',\n",
       " 'Caterpie',\n",
       " 'Butterfree',\n",
       " 'Boobasaur',\n",
       " 'Blastoise',\n",
       " 'Beedrill']"
      ]
     },
     "execution_count": 110,
     "metadata": {},
     "output_type": "execute_result"
    }
   ],
   "source": [
    "sorted(h, reverse=True)"
   ]
  },
  {
   "cell_type": "code",
   "execution_count": 111,
   "id": "5bbb1c52",
   "metadata": {},
   "outputs": [
    {
     "data": {
      "text/plain": [
       "['Weedle',\n",
       " 'Kakuna',\n",
       " 'Pidgey',\n",
       " 'Ivysaur',\n",
       " 'Metapod',\n",
       " 'Pidgeot',\n",
       " 'Rattata',\n",
       " 'Venusaur',\n",
       " 'Squirtle',\n",
       " 'Caterpie',\n",
       " 'Beedrill',\n",
       " 'Raticate',\n",
       " 'Boobasaur',\n",
       " 'Charizard',\n",
       " 'Wartortle',\n",
       " 'Blastoise',\n",
       " 'Pidgeotto',\n",
       " 'Charmander',\n",
       " 'Charmeleon',\n",
       " 'Butterfree']"
      ]
     },
     "execution_count": 111,
     "metadata": {},
     "output_type": "execute_result"
    }
   ],
   "source": [
    "sorted(h, key = len)"
   ]
  },
  {
   "cell_type": "code",
   "execution_count": null,
   "id": "3da32f26",
   "metadata": {},
   "outputs": [],
   "source": []
  },
  {
   "cell_type": "markdown",
   "id": "0d02aabb",
   "metadata": {},
   "source": [
    "# head() and tail() method"
   ]
  },
  {
   "cell_type": "code",
   "execution_count": 80,
   "id": "d238732f",
   "metadata": {},
   "outputs": [
    {
     "data": {
      "text/plain": [
       "0          Bulbasaur\n",
       "1            Ivysaur\n",
       "2           Venusaur\n",
       "3         Charmander\n",
       "4         Charmeleon\n",
       "            ...     \n",
       "1005    Iron Valiant\n",
       "1006        Koraidon\n",
       "1007        Miraidon\n",
       "1008    Walking Wake\n",
       "1009     Iron Leaves\n",
       "Name: Name, Length: 1010, dtype: object"
      ]
     },
     "execution_count": 80,
     "metadata": {},
     "output_type": "execute_result"
    }
   ],
   "source": [
    "pokemon = pd.read_csv('datasets/pokemon.csv', usecols = [0]).squeeze(True)\n",
    "pokemon"
   ]
  },
  {
   "cell_type": "code",
   "execution_count": 81,
   "id": "7d154ce4",
   "metadata": {},
   "outputs": [
    {
     "data": {
      "text/plain": [
       "0     Bulbasaur\n",
       "1       Ivysaur\n",
       "2      Venusaur\n",
       "3    Charmander\n",
       "4    Charmeleon\n",
       "Name: Name, dtype: object"
      ]
     },
     "execution_count": 81,
     "metadata": {},
     "output_type": "execute_result"
    }
   ],
   "source": [
    "pokemon.head()"
   ]
  },
  {
   "cell_type": "code",
   "execution_count": 82,
   "id": "e7ea70d6",
   "metadata": {},
   "outputs": [
    {
     "data": {
      "text/plain": [
       "0     Bulbasaur\n",
       "1       Ivysaur\n",
       "2      Venusaur\n",
       "3    Charmander\n",
       "4    Charmeleon\n",
       "5     Charizard\n",
       "6      Squirtle\n",
       "7     Wartortle\n",
       "8     Blastoise\n",
       "9      Caterpie\n",
       "Name: Name, dtype: object"
      ]
     },
     "execution_count": 82,
     "metadata": {},
     "output_type": "execute_result"
    }
   ],
   "source": [
    "pokemon.head(n=10)"
   ]
  },
  {
   "cell_type": "code",
   "execution_count": 83,
   "id": "0c475098",
   "metadata": {},
   "outputs": [
    {
     "data": {
      "text/plain": [
       "1005    Iron Valiant\n",
       "1006        Koraidon\n",
       "1007        Miraidon\n",
       "1008    Walking Wake\n",
       "1009     Iron Leaves\n",
       "Name: Name, dtype: object"
      ]
     },
     "execution_count": 83,
     "metadata": {},
     "output_type": "execute_result"
    }
   ],
   "source": [
    "pokemon.tail()"
   ]
  },
  {
   "cell_type": "code",
   "execution_count": 84,
   "id": "5d45c6a6",
   "metadata": {},
   "outputs": [
    {
     "data": {
      "text/plain": [
       "1000        Wo-Chien\n",
       "1001       Chien-Pao\n",
       "1002         Ting-Lu\n",
       "1003          Chi-Yu\n",
       "1004    Roaring Moon\n",
       "1005    Iron Valiant\n",
       "1006        Koraidon\n",
       "1007        Miraidon\n",
       "1008    Walking Wake\n",
       "1009     Iron Leaves\n",
       "Name: Name, dtype: object"
      ]
     },
     "execution_count": 84,
     "metadata": {},
     "output_type": "execute_result"
    }
   ],
   "source": [
    "pokemon.tail(n=10)"
   ]
  },
  {
   "cell_type": "code",
   "execution_count": 90,
   "id": "65808662",
   "metadata": {},
   "outputs": [
    {
     "data": {
      "text/plain": [
       "0     Bulbasaur\n",
       "1       Ivysaur\n",
       "2      Venusaur\n",
       "3    Charmander\n",
       "4    Charmeleon\n",
       "5     Charizard\n",
       "6      Squirtle\n",
       "7     Wartortle\n",
       "8     Blastoise\n",
       "9      Caterpie\n",
       "Name: Name, dtype: object"
      ]
     },
     "execution_count": 90,
     "metadata": {},
     "output_type": "execute_result"
    }
   ],
   "source": [
    "# 10-19 tk ki entry \n",
    "s = pokemon.head(10)\n",
    "s"
   ]
  },
  {
   "cell_type": "code",
   "execution_count": 91,
   "id": "4eae4839",
   "metadata": {},
   "outputs": [
    {
     "data": {
      "text/plain": [
       "0       Metapod\n",
       "1    Butterfree\n",
       "2        Weedle\n",
       "3        Kakuna\n",
       "4      Beedrill\n",
       "5        Pidgey\n",
       "6     Pidgeotto\n",
       "7       Pidgeot\n",
       "8       Rattata\n",
       "9      Raticate\n",
       "dtype: object"
      ]
     },
     "execution_count": 91,
     "metadata": {},
     "output_type": "execute_result"
    }
   ],
   "source": [
    "ans = [i for i in pokemon.values if i not in s.values]\n",
    "pd.Series([pokemon[value] for value in range(10, 20)])"
   ]
  },
  {
   "cell_type": "code",
   "execution_count": 89,
   "id": "c05cf253",
   "metadata": {},
   "outputs": [],
   "source": [
    "# 10-19 [2nd slot 10 ka]"
   ]
  },
  {
   "cell_type": "code",
   "execution_count": 93,
   "id": "2720b803",
   "metadata": {},
   "outputs": [
    {
     "data": {
      "text/plain": [
       "10       Metapod\n",
       "11    Butterfree\n",
       "12        Weedle\n",
       "13        Kakuna\n",
       "14      Beedrill\n",
       "15        Pidgey\n",
       "16     Pidgeotto\n",
       "17       Pidgeot\n",
       "18       Rattata\n",
       "19      Raticate\n",
       "Name: Name, dtype: object"
      ]
     },
     "execution_count": 93,
     "metadata": {},
     "output_type": "execute_result"
    }
   ],
   "source": [
    "pokemon.head(20).tail(10)\n",
    "pokemon[10:20]"
   ]
  },
  {
   "cell_type": "code",
   "execution_count": 94,
   "id": "746ef333",
   "metadata": {},
   "outputs": [
    {
     "data": {
      "text/plain": [
       "0          Bulbasaur\n",
       "1            Ivysaur\n",
       "2           Venusaur\n",
       "3         Charmander\n",
       "4         Charmeleon\n",
       "            ...     \n",
       "1005    Iron Valiant\n",
       "1006        Koraidon\n",
       "1007        Miraidon\n",
       "1008    Walking Wake\n",
       "1009     Iron Leaves\n",
       "Name: Name, Length: 1010, dtype: object"
      ]
     },
     "execution_count": 94,
     "metadata": {},
     "output_type": "execute_result"
    }
   ],
   "source": [
    "pokemon"
   ]
  },
  {
   "cell_type": "code",
   "execution_count": 95,
   "id": "6bf45bcf",
   "metadata": {},
   "outputs": [],
   "source": [
    "h = pokemon.head(3)"
   ]
  },
  {
   "cell_type": "code",
   "execution_count": 96,
   "id": "a3912bd8",
   "metadata": {},
   "outputs": [
    {
     "data": {
      "text/plain": [
       "0    Bulbasaur\n",
       "1      Ivysaur\n",
       "2     Venusaur\n",
       "Name: Name, dtype: object"
      ]
     },
     "execution_count": 96,
     "metadata": {},
     "output_type": "execute_result"
    }
   ],
   "source": [
    "h"
   ]
  },
  {
   "cell_type": "code",
   "execution_count": 97,
   "id": "4778e0d7",
   "metadata": {},
   "outputs": [
    {
     "data": {
      "text/plain": [
       "0    Boobasaur\n",
       "1      Ivysaur\n",
       "2     Venusaur\n",
       "Name: Name, dtype: object"
      ]
     },
     "execution_count": 97,
     "metadata": {},
     "output_type": "execute_result"
    }
   ],
   "source": [
    "h[0] = 'Boobasaur'\n",
    "h"
   ]
  },
  {
   "cell_type": "code",
   "execution_count": 98,
   "id": "7c59d7fc",
   "metadata": {},
   "outputs": [
    {
     "data": {
      "text/plain": [
       "0          Boobasaur\n",
       "1            Ivysaur\n",
       "2           Venusaur\n",
       "3         Charmander\n",
       "4         Charmeleon\n",
       "            ...     \n",
       "1005    Iron Valiant\n",
       "1006        Koraidon\n",
       "1007        Miraidon\n",
       "1008    Walking Wake\n",
       "1009     Iron Leaves\n",
       "Name: Name, Length: 1010, dtype: object"
      ]
     },
     "execution_count": 98,
     "metadata": {},
     "output_type": "execute_result"
    }
   ],
   "source": [
    "pokemon"
   ]
  },
  {
   "cell_type": "code",
   "execution_count": 101,
   "id": "0bec3ac1",
   "metadata": {},
   "outputs": [
    {
     "data": {
      "text/plain": [
       "5      Charizard\n",
       "6       Squirtle\n",
       "7      Wartortle\n",
       "8      Blastoise\n",
       "9       Caterpie\n",
       "10       Metapod\n",
       "11    Butterfree\n",
       "12        Weedle\n",
       "13        Kakuna\n",
       "14      Beedrill\n",
       "15        Pidgey\n",
       "16     Pidgeotto\n",
       "17       Pidgeot\n",
       "18       Rattata\n",
       "19      Raticate\n",
       "20       Spearow\n",
       "21        Fearow\n",
       "22         Ekans\n",
       "23         Arbok\n",
       "Name: Name, dtype: object"
      ]
     },
     "execution_count": 101,
     "metadata": {},
     "output_type": "execute_result"
    }
   ],
   "source": [
    "def ans(series, m, n):\n",
    "    return series.head(m+n).tail(n)\n",
    "\n",
    "ans(pokemon, 5, 19)"
   ]
  },
  {
   "cell_type": "markdown",
   "id": "e5118a25",
   "metadata": {},
   "source": [
    "# Inclusion in series"
   ]
  },
  {
   "cell_type": "code",
   "execution_count": 112,
   "id": "72e53d57",
   "metadata": {},
   "outputs": [
    {
     "data": {
      "text/plain": [
       "0          Boobasaur\n",
       "1            Ivysaur\n",
       "2           Venusaur\n",
       "3         Charmander\n",
       "4         Charmeleon\n",
       "            ...     \n",
       "1005    Iron Valiant\n",
       "1006        Koraidon\n",
       "1007        Miraidon\n",
       "1008    Walking Wake\n",
       "1009     Iron Leaves\n",
       "Name: Name, Length: 1010, dtype: object"
      ]
     },
     "execution_count": 112,
     "metadata": {},
     "output_type": "execute_result"
    }
   ],
   "source": [
    "pokemon"
   ]
  },
  {
   "cell_type": "code",
   "execution_count": 113,
   "id": "d1774760",
   "metadata": {},
   "outputs": [
    {
     "data": {
      "text/plain": [
       "True"
      ]
     },
     "execution_count": 113,
     "metadata": {},
     "output_type": "execute_result"
    }
   ],
   "source": [
    "23 in pokemon"
   ]
  },
  {
   "cell_type": "code",
   "execution_count": 114,
   "id": "ac4288df",
   "metadata": {},
   "outputs": [
    {
     "data": {
      "text/plain": [
       "False"
      ]
     },
     "execution_count": 114,
     "metadata": {},
     "output_type": "execute_result"
    }
   ],
   "source": [
    "-90 in pokemon"
   ]
  },
  {
   "cell_type": "code",
   "execution_count": 115,
   "id": "24b28d05",
   "metadata": {},
   "outputs": [
    {
     "data": {
      "text/plain": [
       "False"
      ]
     },
     "execution_count": 115,
     "metadata": {},
     "output_type": "execute_result"
    }
   ],
   "source": [
    "'Ivysaur' in pokemon"
   ]
  },
  {
   "cell_type": "code",
   "execution_count": 116,
   "id": "afe2aed5",
   "metadata": {},
   "outputs": [
    {
     "data": {
      "text/plain": [
       "True"
      ]
     },
     "execution_count": 116,
     "metadata": {},
     "output_type": "execute_result"
    }
   ],
   "source": [
    "'Ivysaur' in pokemon.values"
   ]
  },
  {
   "cell_type": "markdown",
   "id": "05510ab8",
   "metadata": {},
   "source": [
    "# sorting methods --  index(sort_index), values(sort_values)"
   ]
  },
  {
   "cell_type": "code",
   "execution_count": 120,
   "id": "059fa50d",
   "metadata": {},
   "outputs": [
    {
     "data": {
      "text/plain": [
       "459    Abomasnow\n",
       "62          Abra\n",
       "358        Absol\n",
       "616     Accelgor\n",
       "680    Aegislash\n",
       "         ...    \n",
       "570      Zoroark\n",
       "569        Zorua\n",
       "40         Zubat\n",
       "633     Zweilous\n",
       "717      Zygarde\n",
       "Name: Name, Length: 1010, dtype: object"
      ]
     },
     "execution_count": 120,
     "metadata": {},
     "output_type": "execute_result"
    }
   ],
   "source": [
    "s = pokemon.sort_values()\n",
    "s"
   ]
  },
  {
   "cell_type": "code",
   "execution_count": 127,
   "id": "0dc64853",
   "metadata": {},
   "outputs": [
    {
     "data": {
      "text/plain": [
       "0          Boobasaur\n",
       "1            Ivysaur\n",
       "2           Venusaur\n",
       "3         Charmander\n",
       "4         Charmeleon\n",
       "            ...     \n",
       "1005    Iron Valiant\n",
       "1006        Koraidon\n",
       "1007        Miraidon\n",
       "1008    Walking Wake\n",
       "1009     Iron Leaves\n",
       "Name: Name, Length: 1010, dtype: object"
      ]
     },
     "execution_count": 127,
     "metadata": {},
     "output_type": "execute_result"
    }
   ],
   "source": [
    "s.sort_index()"
   ]
  },
  {
   "cell_type": "code",
   "execution_count": 129,
   "id": "4a9275c2",
   "metadata": {},
   "outputs": [
    {
     "data": {
      "text/plain": [
       "0          Boobasaur\n",
       "1            Ivysaur\n",
       "2           Venusaur\n",
       "3         Charmander\n",
       "4         Charmeleon\n",
       "            ...     \n",
       "1005    Iron Valiant\n",
       "1006        Koraidon\n",
       "1007        Miraidon\n",
       "1008    Walking Wake\n",
       "1009     Iron Leaves\n",
       "Name: Name, Length: 1010, dtype: object"
      ]
     },
     "execution_count": 129,
     "metadata": {},
     "output_type": "execute_result"
    }
   ],
   "source": [
    "pokemon"
   ]
  },
  {
   "cell_type": "code",
   "execution_count": 133,
   "id": "40cca0e9",
   "metadata": {},
   "outputs": [
    {
     "data": {
      "text/plain": [
       "0          Boobasaur\n",
       "1            Ivysaur\n",
       "2           Venusaur\n",
       "3         Charmander\n",
       "4         Charmeleon\n",
       "            ...     \n",
       "1005    Iron Valiant\n",
       "1006        Koraidon\n",
       "1007        Miraidon\n",
       "1008    Walking Wake\n",
       "1009     Iron Leaves\n",
       "Name: Name, Length: 1010, dtype: object"
      ]
     },
     "execution_count": 133,
     "metadata": {},
     "output_type": "execute_result"
    }
   ],
   "source": [
    "pokemon2 = pokemon.sort_values().sort_index()\n",
    "pokemon2"
   ]
  },
  {
   "cell_type": "code",
   "execution_count": 134,
   "id": "742996da",
   "metadata": {},
   "outputs": [
    {
     "data": {
      "text/plain": [
       "0          Boobasaur\n",
       "1            Ivysaur\n",
       "2           Venusaur\n",
       "3         Charmander\n",
       "4         Charmeleon\n",
       "            ...     \n",
       "1005    Iron Valiant\n",
       "1006        Koraidon\n",
       "1007        Miraidon\n",
       "1008    Walking Wake\n",
       "1009     Iron Leaves\n",
       "Name: Name, Length: 1010, dtype: object"
      ]
     },
     "execution_count": 134,
     "metadata": {},
     "output_type": "execute_result"
    }
   ],
   "source": [
    "pokemon"
   ]
  },
  {
   "cell_type": "code",
   "execution_count": 135,
   "id": "967b79e8",
   "metadata": {},
   "outputs": [
    {
     "data": {
      "text/plain": [
       "False"
      ]
     },
     "execution_count": 135,
     "metadata": {},
     "output_type": "execute_result"
    }
   ],
   "source": [
    "pokemon2 is pokemon"
   ]
  },
  {
   "cell_type": "code",
   "execution_count": 136,
   "id": "d7d1aa6a",
   "metadata": {},
   "outputs": [
    {
     "data": {
      "text/plain": [
       "0       True\n",
       "1       True\n",
       "2       True\n",
       "3       True\n",
       "4       True\n",
       "        ... \n",
       "1005    True\n",
       "1006    True\n",
       "1007    True\n",
       "1008    True\n",
       "1009    True\n",
       "Name: Name, Length: 1010, dtype: bool"
      ]
     },
     "execution_count": 136,
     "metadata": {},
     "output_type": "execute_result"
    }
   ],
   "source": [
    "pokemon2 == pokemon"
   ]
  },
  {
   "cell_type": "code",
   "execution_count": null,
   "id": "a4f5e60c",
   "metadata": {},
   "outputs": [],
   "source": []
  }
 ],
 "metadata": {
  "kernelspec": {
   "display_name": "Python 3 (ipykernel)",
   "language": "python",
   "name": "python3"
  },
  "language_info": {
   "codemirror_mode": {
    "name": "ipython",
    "version": 3
   },
   "file_extension": ".py",
   "mimetype": "text/x-python",
   "name": "python",
   "nbconvert_exporter": "python",
   "pygments_lexer": "ipython3",
   "version": "3.11.5"
  }
 },
 "nbformat": 4,
 "nbformat_minor": 5
}
