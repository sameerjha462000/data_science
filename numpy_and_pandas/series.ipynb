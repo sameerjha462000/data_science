{
 "cells": [
  {
   "cell_type": "markdown",
   "id": "05a7eeae",
   "metadata": {},
   "source": [
    "# series"
   ]
  },
  {
   "cell_type": "markdown",
   "id": "fde9c999",
   "metadata": {},
   "source": [
    "    Pandas series are a type of associative arrays\n",
    "    --> has some dcitionary-like properties\n",
    "    --> has some sequence-like properties\n",
    "    \n",
    "    It is a sequence type -- so elements have a definite position in collection --> positional index.\n",
    "    \n",
    "    We can also define an explicit index --> a second index.\n",
    "    \n",
    "    0 10 a\n",
    "    1 20 b\n",
    "    2 30 c\n",
    "    3 40 d\n",
    "    \n",
    "    We can reference items by positional indices [0] [1]\n",
    "    or by using the explicit index ['a'] ['b'].\n",
    "    \n",
    "    We can have slicing as well as fancy indexing.\n",
    "    \n",
    "    We can slice by positional index as well as explicit indexing. However there is a slight difference between the two.\n",
    "    When we use implicit indexing, it excludes endpoint.\n",
    "    However, when we use explicit indexing, the endpoint is excluded."
   ]
  },
  {
   "cell_type": "markdown",
   "id": "19df2e09",
   "metadata": {},
   "source": [
    "# A point of confusion"
   ]
  },
  {
   "cell_type": "markdown",
   "id": "8d0e82f9",
   "metadata": {},
   "source": [
    "    We can use numerical index in case of explicit index as well.\n",
    "    \n",
    "       0,   1,   2,   3\n",
    "    [100, 200, 300, 400]\n",
    "       2,   3,   4,   5\n",
    "     \n",
    "    \n",
    "      [2] --> is this using explicit index?\n",
    "    [2:3] --> or explicit index?\n",
    "    \n",
    "    There is a rule:\n",
    "    \n",
    "    If both implicit as well as explicit index are integers, then\n",
    "    \n",
    "      [2] --> explicit index\n",
    "    [2,3] --> implicit index  \n",
    "    \n",
    "    \n",
    "    However, to resolve this problem we have something called as iloc and loc.\n",
    "    \n",
    "    iloc allows us to specifically use the implicit index.\n",
    "    and loc is used for explicit index.\n",
    "    \n",
    "    These two are not functions, they are properties and thus they use square brackets."
   ]
  },
  {
   "cell_type": "code",
   "execution_count": 1,
   "id": "105f370d",
   "metadata": {},
   "outputs": [],
   "source": [
    "import numpy as np\n",
    "import pandas as pd"
   ]
  },
  {
   "cell_type": "code",
   "execution_count": 2,
   "id": "bb379be9",
   "metadata": {},
   "outputs": [
    {
     "data": {
      "text/plain": [
       "a    10\n",
       "b    20\n",
       "c    30\n",
       "dtype: int64"
      ]
     },
     "execution_count": 2,
     "metadata": {},
     "output_type": "execute_result"
    }
   ],
   "source": [
    "s = pd.Series([10, 20, 30], index = list('abc'))\n",
    "s"
   ]
  },
  {
   "cell_type": "code",
   "execution_count": 3,
   "id": "0ffe257e",
   "metadata": {},
   "outputs": [
    {
     "data": {
      "text/plain": [
       "10"
      ]
     },
     "execution_count": 3,
     "metadata": {},
     "output_type": "execute_result"
    }
   ],
   "source": [
    "s['a']"
   ]
  },
  {
   "cell_type": "code",
   "execution_count": 4,
   "id": "9ac011c1",
   "metadata": {},
   "outputs": [
    {
     "name": "stderr",
     "output_type": "stream",
     "text": [
      "C:\\Users\\HU496FA\\AppData\\Local\\Temp\\ipykernel_25184\\2635755408.py:1: FutureWarning: Series.__getitem__ treating keys as positions is deprecated. In a future version, integer keys will always be treated as labels (consistent with DataFrame behavior). To access a value by position, use `ser.iloc[pos]`\n",
      "  s[2]\n"
     ]
    },
    {
     "data": {
      "text/plain": [
       "30"
      ]
     },
     "execution_count": 4,
     "metadata": {},
     "output_type": "execute_result"
    }
   ],
   "source": [
    "s[2]"
   ]
  },
  {
   "cell_type": "markdown",
   "id": "3d6a7749",
   "metadata": {},
   "source": [
    "    We can also add new values to the series by directly using the assignment operator."
   ]
  },
  {
   "cell_type": "code",
   "execution_count": 5,
   "id": "462313d0",
   "metadata": {},
   "outputs": [],
   "source": [
    "s['d'] = 500"
   ]
  },
  {
   "cell_type": "code",
   "execution_count": 6,
   "id": "a4d8dadc",
   "metadata": {},
   "outputs": [
    {
     "data": {
      "text/plain": [
       "a     10\n",
       "b     20\n",
       "c     30\n",
       "d    500\n",
       "dtype: int64"
      ]
     },
     "execution_count": 6,
     "metadata": {},
     "output_type": "execute_result"
    }
   ],
   "source": [
    "s"
   ]
  },
  {
   "cell_type": "markdown",
   "id": "442cf49b",
   "metadata": {},
   "source": [
    "    We can also make a series object by using the dictionaries. At the end of the day, series objects are just like an associative arrays."
   ]
  },
  {
   "cell_type": "code",
   "execution_count": 7,
   "id": "8ad4812c",
   "metadata": {},
   "outputs": [],
   "source": [
    "capitals = {\n",
    "    'USA' : 'Washington D.C.',\n",
    "    'Canada' : 'Ottawa',\n",
    "    'UK' : 'London',\n",
    "    'France' : 'Paris'\n",
    "}"
   ]
  },
  {
   "cell_type": "code",
   "execution_count": 8,
   "id": "673a9df0",
   "metadata": {},
   "outputs": [],
   "source": [
    "s = pd.Series(capitals)"
   ]
  },
  {
   "cell_type": "code",
   "execution_count": 9,
   "id": "b12017e4",
   "metadata": {},
   "outputs": [
    {
     "data": {
      "text/plain": [
       "USA       Washington D.C.\n",
       "Canada             Ottawa\n",
       "UK                 London\n",
       "France              Paris\n",
       "dtype: object"
      ]
     },
     "execution_count": 9,
     "metadata": {},
     "output_type": "execute_result"
    }
   ],
   "source": [
    "s"
   ]
  },
  {
   "cell_type": "markdown",
   "id": "dd475a91",
   "metadata": {},
   "source": [
    "    We can access the index and values of series using the index and values attributes."
   ]
  },
  {
   "cell_type": "code",
   "execution_count": 10,
   "id": "7c304d5d",
   "metadata": {},
   "outputs": [
    {
     "data": {
      "text/plain": [
       "Index(['USA', 'Canada', 'UK', 'France'], dtype='object')"
      ]
     },
     "execution_count": 10,
     "metadata": {},
     "output_type": "execute_result"
    }
   ],
   "source": [
    "s.index"
   ]
  },
  {
   "cell_type": "code",
   "execution_count": 11,
   "id": "f8b30048",
   "metadata": {},
   "outputs": [
    {
     "data": {
      "text/plain": [
       "array(['Washington D.C.', 'Ottawa', 'London', 'Paris'], dtype=object)"
      ]
     },
     "execution_count": 11,
     "metadata": {},
     "output_type": "execute_result"
    }
   ],
   "source": [
    "s.values"
   ]
  },
  {
   "cell_type": "code",
   "execution_count": 12,
   "id": "c166a263",
   "metadata": {},
   "outputs": [
    {
     "data": {
      "text/plain": [
       "<zip at 0x16dfdad78c0>"
      ]
     },
     "execution_count": 12,
     "metadata": {},
     "output_type": "execute_result"
    }
   ],
   "source": [
    "s.items()"
   ]
  },
  {
   "cell_type": "code",
   "execution_count": 13,
   "id": "98a90aa9",
   "metadata": {},
   "outputs": [
    {
     "data": {
      "text/plain": [
       "[('USA', 'Washington D.C.'),\n",
       " ('Canada', 'Ottawa'),\n",
       " ('UK', 'London'),\n",
       " ('France', 'Paris')]"
      ]
     },
     "execution_count": 13,
     "metadata": {},
     "output_type": "execute_result"
    }
   ],
   "source": [
    "list(s.items())"
   ]
  },
  {
   "cell_type": "code",
   "execution_count": 14,
   "id": "cb3df125",
   "metadata": {},
   "outputs": [
    {
     "name": "stdout",
     "output_type": "stream",
     "text": [
      "Capital(USA) = Washington D.C.\n",
      "Capital(Canada) = Ottawa\n",
      "Capital(UK) = London\n",
      "Capital(France) = Paris\n"
     ]
    }
   ],
   "source": [
    "for country, capital in s.items():\n",
    "    print(f\"Capital({country}) = {capital}\")"
   ]
  },
  {
   "cell_type": "markdown",
   "id": "1bc3a596",
   "metadata": {},
   "source": [
    "    We can also use fancy indexing and boolean masking in series as it is built on top of numpy library."
   ]
  },
  {
   "cell_type": "code",
   "execution_count": 15,
   "id": "2ce80968",
   "metadata": {},
   "outputs": [
    {
     "data": {
      "text/plain": [
       "USA       Washington D.C.\n",
       "Canada             Ottawa\n",
       "UK                 London\n",
       "France              Paris\n",
       "dtype: object"
      ]
     },
     "execution_count": 15,
     "metadata": {},
     "output_type": "execute_result"
    }
   ],
   "source": [
    "s"
   ]
  },
  {
   "cell_type": "code",
   "execution_count": 16,
   "id": "38adba38",
   "metadata": {},
   "outputs": [
    {
     "data": {
      "text/plain": [
       "USA    Washington D.C.\n",
       "UK              London\n",
       "dtype: object"
      ]
     },
     "execution_count": 16,
     "metadata": {},
     "output_type": "execute_result"
    }
   ],
   "source": [
    "s[['USA', 'UK']]"
   ]
  },
  {
   "cell_type": "code",
   "execution_count": null,
   "id": "735e75e9",
   "metadata": {},
   "outputs": [],
   "source": [
    "mask = (s == 'London')\n",
    "mask"
   ]
  },
  {
   "cell_type": "code",
   "execution_count": null,
   "id": "ebe793b1",
   "metadata": {},
   "outputs": [],
   "source": [
    "s[mask]"
   ]
  },
  {
   "cell_type": "code",
   "execution_count": null,
   "id": "7134fcac",
   "metadata": {},
   "outputs": [],
   "source": [
    "type(s[mask])"
   ]
  },
  {
   "cell_type": "markdown",
   "id": "d0f08b94",
   "metadata": {},
   "source": [
    "    We can also use slicing in pandas series the same way we do in numpy arrays and list"
   ]
  },
  {
   "cell_type": "code",
   "execution_count": null,
   "id": "52548fdf",
   "metadata": {},
   "outputs": [],
   "source": [
    "s = pd.Series([i*10 for i in range(1, 11)], index = list('abcdefghij'))\n",
    "s"
   ]
  },
  {
   "cell_type": "code",
   "execution_count": null,
   "id": "4ec26695",
   "metadata": {},
   "outputs": [],
   "source": [
    "s.index"
   ]
  },
  {
   "cell_type": "code",
   "execution_count": null,
   "id": "530059d5",
   "metadata": {},
   "outputs": [],
   "source": [
    "s['a': 'g'] # when we do slicing using the explicit indexing then the last index is included"
   ]
  },
  {
   "cell_type": "code",
   "execution_count": null,
   "id": "95671611",
   "metadata": {},
   "outputs": [],
   "source": [
    "s[0:7] # The element at the 7th index is not included as we have used implicit indexing"
   ]
  },
  {
   "cell_type": "markdown",
   "id": "79b167b4",
   "metadata": {},
   "source": [
    "### point of confusion\n",
    "    We can also use numerical values for the explicit index. In this case confusion arises while slicing and using [] operator."
   ]
  },
  {
   "cell_type": "code",
   "execution_count": null,
   "id": "fc26a861",
   "metadata": {},
   "outputs": [],
   "source": [
    "s = pd.Series(list('abcdefghij'), index = [i * 10 for i in range(1, 11)])\n",
    "s"
   ]
  },
  {
   "cell_type": "code",
   "execution_count": null,
   "id": "d002f8c9",
   "metadata": {},
   "outputs": [],
   "source": [
    "s[0] # as 0 is not present in the explicit index"
   ]
  },
  {
   "cell_type": "code",
   "execution_count": null,
   "id": "8f22ef5f",
   "metadata": {},
   "outputs": [],
   "source": [
    "s[10]"
   ]
  },
  {
   "cell_type": "code",
   "execution_count": null,
   "id": "ef23d015",
   "metadata": {},
   "outputs": [],
   "source": [
    "s[0:5] # while slicing it uses the implicit indexing and not explicit indexing."
   ]
  },
  {
   "cell_type": "code",
   "execution_count": null,
   "id": "7a0b3bd2",
   "metadata": {},
   "outputs": [],
   "source": [
    "s[10:50] # as when we use numerical index as explicit index, then while slicing it uses the implicit indexing"
   ]
  },
  {
   "cell_type": "markdown",
   "id": "26568343",
   "metadata": {},
   "source": [
    "# iloc and loc properties"
   ]
  },
  {
   "cell_type": "code",
   "execution_count": null,
   "id": "f5685176",
   "metadata": {},
   "outputs": [],
   "source": [
    "s"
   ]
  },
  {
   "cell_type": "code",
   "execution_count": null,
   "id": "8a6bf7a9",
   "metadata": {},
   "outputs": [],
   "source": [
    "s.iloc[0]"
   ]
  },
  {
   "cell_type": "code",
   "execution_count": null,
   "id": "bfda8735",
   "metadata": {},
   "outputs": [],
   "source": [
    "s.iloc[0:6]"
   ]
  },
  {
   "cell_type": "code",
   "execution_count": null,
   "id": "062e350a",
   "metadata": {},
   "outputs": [],
   "source": [
    "s.loc[10]"
   ]
  },
  {
   "cell_type": "code",
   "execution_count": null,
   "id": "fbb21205",
   "metadata": {},
   "outputs": [],
   "source": [
    "s.loc[10:50]"
   ]
  },
  {
   "cell_type": "code",
   "execution_count": null,
   "id": "a02961f4",
   "metadata": {},
   "outputs": [],
   "source": []
  }
 ],
 "metadata": {
  "kernelspec": {
   "display_name": "Python 3 (ipykernel)",
   "language": "python",
   "name": "python3"
  },
  "language_info": {
   "codemirror_mode": {
    "name": "ipython",
    "version": 3
   },
   "file_extension": ".py",
   "mimetype": "text/x-python",
   "name": "python",
   "nbconvert_exporter": "python",
   "pygments_lexer": "ipython3",
   "version": "3.11.5"
  }
 },
 "nbformat": 4,
 "nbformat_minor": 5
}
