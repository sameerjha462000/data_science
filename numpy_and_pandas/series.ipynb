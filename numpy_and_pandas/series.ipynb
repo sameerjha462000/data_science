{
 "cells": [
  {
   "cell_type": "markdown",
   "id": "05a7eeae",
   "metadata": {},
   "source": [
    "# series"
   ]
  },
  {
   "cell_type": "markdown",
   "id": "fde9c999",
   "metadata": {},
   "source": [
    "    Pandas series are a type of associative arrays\n",
    "    --> has some dcitionary-like properties\n",
    "    --> has some sequence-like properties\n",
    "    \n",
    "    It is a sequence type -- so elements have a definite position in collection --> positional index.\n",
    "    \n",
    "    We can also define an explicit index --> a second index.\n",
    "    \n",
    "    0 10 a\n",
    "    1 20 b\n",
    "    2 30 c\n",
    "    3 40 d\n",
    "    \n",
    "    We can reference items by positional indices [0] [1]\n",
    "    or by using the explicit index ['a'] ['b'].\n",
    "    \n",
    "    We can have slicing as well as fancy indexing.\n",
    "    \n",
    "    We can slice by positional index as well as explicit indexing. However there is a slight difference between the two.\n",
    "    When we use implicit indexing, it excludes endpoint.\n",
    "    However, when we use explicit indexing, the endpoint is excluded."
   ]
  },
  {
   "cell_type": "markdown",
   "id": "19df2e09",
   "metadata": {},
   "source": [
    "# A point of confusion"
   ]
  },
  {
   "cell_type": "markdown",
   "id": "8d0e82f9",
   "metadata": {},
   "source": [
    "    We can use numerical index in case of explicit index as well.\n",
    "    \n",
    "       0,   1,   2,   3\n",
    "    [100, 200, 300, 400]\n",
    "       2,   3,   4,   5\n",
    "     \n",
    "    \n",
    "      [2] --> is this using explicit index?\n",
    "    [2:3] --> or explicit index?\n",
    "    \n",
    "    There is a rule:\n",
    "    \n",
    "    If both implicit as well as explicit index are integers, then\n",
    "    \n",
    "      [2] --> explicit index\n",
    "    [2,3] --> implicit index  \n",
    "    \n",
    "    \n",
    "    However, to resolve this problem we have something called as iloc and loc.\n",
    "    \n",
    "    iloc allows us to specifically use the implicit index.\n",
    "    and loc is used for explicit index.\n",
    "    \n",
    "    These two are not functions, they are properties and thus they use square brackets."
   ]
  },
  {
   "cell_type": "code",
   "execution_count": 1,
   "id": "9fcff4d9",
   "metadata": {},
   "outputs": [],
   "source": [
    "import numpy as np\n",
    "import pandas as pd"
   ]
  },
  {
   "cell_type": "code",
   "execution_count": 2,
   "id": "689c34e8",
   "metadata": {},
   "outputs": [
    {
     "data": {
      "text/plain": [
       "a    10\n",
       "b    20\n",
       "c    30\n",
       "dtype: int64"
      ]
     },
     "execution_count": 2,
     "metadata": {},
     "output_type": "execute_result"
    }
   ],
   "source": [
    "s = pd.Series([10, 20, 30], index = list('abc'))\n",
    "s"
   ]
  },
  {
   "cell_type": "code",
   "execution_count": 3,
   "id": "cdc18db9",
   "metadata": {},
   "outputs": [
    {
     "data": {
      "text/plain": [
       "10"
      ]
     },
     "execution_count": 3,
     "metadata": {},
     "output_type": "execute_result"
    }
   ],
   "source": [
    "s['a']"
   ]
  },
  {
   "cell_type": "code",
   "execution_count": 4,
   "id": "ad0a6daa",
   "metadata": {},
   "outputs": [
    {
     "name": "stderr",
     "output_type": "stream",
     "text": [
      "C:\\Users\\HU496FA\\AppData\\Local\\Temp\\ipykernel_25184\\2635755408.py:1: FutureWarning: Series.__getitem__ treating keys as positions is deprecated. In a future version, integer keys will always be treated as labels (consistent with DataFrame behavior). To access a value by position, use `ser.iloc[pos]`\n",
      "  s[2]\n"
     ]
    },
    {
     "data": {
      "text/plain": [
       "30"
      ]
     },
     "execution_count": 4,
     "metadata": {},
     "output_type": "execute_result"
    }
   ],
   "source": [
    "s[2]"
   ]
  },
  {
   "cell_type": "markdown",
   "id": "fbcec2c3",
   "metadata": {},
   "source": [
    "    We can also add new values to the series by directly using the assignment operator."
   ]
  },
  {
   "cell_type": "code",
   "execution_count": 5,
   "id": "e835e109",
   "metadata": {},
   "outputs": [],
   "source": [
    "s['d'] = 500"
   ]
  },
  {
   "cell_type": "code",
   "execution_count": 6,
   "id": "4ac57fd5",
   "metadata": {},
   "outputs": [
    {
     "data": {
      "text/plain": [
       "a     10\n",
       "b     20\n",
       "c     30\n",
       "d    500\n",
       "dtype: int64"
      ]
     },
     "execution_count": 6,
     "metadata": {},
     "output_type": "execute_result"
    }
   ],
   "source": [
    "s"
   ]
  },
  {
   "cell_type": "markdown",
   "id": "4883479d",
   "metadata": {},
   "source": [
    "    We can also make a series object by using the dictionaries. At the end of the day, series objects are just like an associative arrays."
   ]
  },
  {
   "cell_type": "code",
   "execution_count": 7,
   "id": "c8da9168",
   "metadata": {},
   "outputs": [],
   "source": [
    "capitals = {\n",
    "    'USA' : 'Washington D.C.',\n",
    "    'Canada' : 'Ottawa',\n",
    "    'UK' : 'London',\n",
    "    'France' : 'Paris'\n",
    "}"
   ]
  },
  {
   "cell_type": "code",
   "execution_count": 8,
   "id": "502c587b",
   "metadata": {},
   "outputs": [],
   "source": [
    "s = pd.Series(capitals)"
   ]
  },
  {
   "cell_type": "code",
   "execution_count": 9,
   "id": "f5f3d3a9",
   "metadata": {},
   "outputs": [
    {
     "data": {
      "text/plain": [
       "USA       Washington D.C.\n",
       "Canada             Ottawa\n",
       "UK                 London\n",
       "France              Paris\n",
       "dtype: object"
      ]
     },
     "execution_count": 9,
     "metadata": {},
     "output_type": "execute_result"
    }
   ],
   "source": [
    "s"
   ]
  },
  {
   "cell_type": "markdown",
   "id": "2831ea1c",
   "metadata": {},
   "source": [
    "    We can access the index and values of series using the index and values attributes."
   ]
  },
  {
   "cell_type": "code",
   "execution_count": 10,
   "id": "330bfde5",
   "metadata": {},
   "outputs": [
    {
     "data": {
      "text/plain": [
       "Index(['USA', 'Canada', 'UK', 'France'], dtype='object')"
      ]
     },
     "execution_count": 10,
     "metadata": {},
     "output_type": "execute_result"
    }
   ],
   "source": [
    "s.index"
   ]
  },
  {
   "cell_type": "code",
   "execution_count": 11,
   "id": "0602f78e",
   "metadata": {},
   "outputs": [
    {
     "data": {
      "text/plain": [
       "array(['Washington D.C.', 'Ottawa', 'London', 'Paris'], dtype=object)"
      ]
     },
     "execution_count": 11,
     "metadata": {},
     "output_type": "execute_result"
    }
   ],
   "source": [
    "s.values"
   ]
  },
  {
   "cell_type": "code",
   "execution_count": 12,
   "id": "e77c6e97",
   "metadata": {},
   "outputs": [
    {
     "data": {
      "text/plain": [
       "<zip at 0x16dfdad78c0>"
      ]
     },
     "execution_count": 12,
     "metadata": {},
     "output_type": "execute_result"
    }
   ],
   "source": [
    "s.items()"
   ]
  },
  {
   "cell_type": "code",
   "execution_count": 13,
   "id": "d67933a1",
   "metadata": {},
   "outputs": [
    {
     "data": {
      "text/plain": [
       "[('USA', 'Washington D.C.'),\n",
       " ('Canada', 'Ottawa'),\n",
       " ('UK', 'London'),\n",
       " ('France', 'Paris')]"
      ]
     },
     "execution_count": 13,
     "metadata": {},
     "output_type": "execute_result"
    }
   ],
   "source": [
    "list(s.items())"
   ]
  },
  {
   "cell_type": "code",
   "execution_count": 14,
   "id": "06ab610e",
   "metadata": {},
   "outputs": [
    {
     "name": "stdout",
     "output_type": "stream",
     "text": [
      "Capital(USA) = Washington D.C.\n",
      "Capital(Canada) = Ottawa\n",
      "Capital(UK) = London\n",
      "Capital(France) = Paris\n"
     ]
    }
   ],
   "source": [
    "for country, capital in s.items():\n",
    "    print(f\"Capital({country}) = {capital}\")"
   ]
  },
  {
   "cell_type": "markdown",
   "id": "89087803",
   "metadata": {},
   "source": [
    "    We can also use fancy indexing and boolean masking in series as it is built on top of numpy library."
   ]
  },
  {
   "cell_type": "code",
   "execution_count": 15,
   "id": "83902542",
   "metadata": {},
   "outputs": [
    {
     "data": {
      "text/plain": [
       "USA       Washington D.C.\n",
       "Canada             Ottawa\n",
       "UK                 London\n",
       "France              Paris\n",
       "dtype: object"
      ]
     },
     "execution_count": 15,
     "metadata": {},
     "output_type": "execute_result"
    }
   ],
   "source": [
    "s"
   ]
  },
  {
   "cell_type": "code",
   "execution_count": 16,
   "id": "f7a8d305",
   "metadata": {},
   "outputs": [
    {
     "data": {
      "text/plain": [
       "USA    Washington D.C.\n",
       "UK              London\n",
       "dtype: object"
      ]
     },
     "execution_count": 16,
     "metadata": {},
     "output_type": "execute_result"
    }
   ],
   "source": [
    "s[['USA', 'UK']]"
   ]
  },
  {
   "cell_type": "code",
   "execution_count": 17,
   "id": "a2ceb151",
   "metadata": {},
   "outputs": [
    {
     "data": {
      "text/plain": [
       "USA       False\n",
       "Canada    False\n",
       "UK         True\n",
       "France    False\n",
       "dtype: bool"
      ]
     },
     "execution_count": 17,
     "metadata": {},
     "output_type": "execute_result"
    }
   ],
   "source": [
    "mask = (s == 'London')\n",
    "mask"
   ]
  },
  {
   "cell_type": "code",
   "execution_count": 18,
   "id": "6a2acdbf",
   "metadata": {},
   "outputs": [
    {
     "data": {
      "text/plain": [
       "UK    London\n",
       "dtype: object"
      ]
     },
     "execution_count": 18,
     "metadata": {},
     "output_type": "execute_result"
    }
   ],
   "source": [
    "s[mask]"
   ]
  },
  {
   "cell_type": "code",
   "execution_count": 19,
   "id": "c90868d4",
   "metadata": {},
   "outputs": [
    {
     "data": {
      "text/plain": [
       "pandas.core.series.Series"
      ]
     },
     "execution_count": 19,
     "metadata": {},
     "output_type": "execute_result"
    }
   ],
   "source": [
    "type(s[mask])"
   ]
  },
  {
   "cell_type": "markdown",
   "id": "91cfa7d2",
   "metadata": {},
   "source": [
    "    We can also use slicing in pandas series the same way we do in numpy arrays and list"
   ]
  },
  {
   "cell_type": "code",
   "execution_count": 20,
   "id": "24273aa6",
   "metadata": {},
   "outputs": [
    {
     "data": {
      "text/plain": [
       "a     10\n",
       "b     20\n",
       "c     30\n",
       "d     40\n",
       "e     50\n",
       "f     60\n",
       "g     70\n",
       "h     80\n",
       "i     90\n",
       "j    100\n",
       "dtype: int64"
      ]
     },
     "execution_count": 20,
     "metadata": {},
     "output_type": "execute_result"
    }
   ],
   "source": [
    "s = pd.Series([i*10 for i in range(1, 11)], index = list('abcdefghij'))\n",
    "s"
   ]
  },
  {
   "cell_type": "code",
   "execution_count": 21,
   "id": "8fabf77f",
   "metadata": {},
   "outputs": [
    {
     "data": {
      "text/plain": [
       "Index(['a', 'b', 'c', 'd', 'e', 'f', 'g', 'h', 'i', 'j'], dtype='object')"
      ]
     },
     "execution_count": 21,
     "metadata": {},
     "output_type": "execute_result"
    }
   ],
   "source": [
    "s.index"
   ]
  },
  {
   "cell_type": "code",
   "execution_count": 22,
   "id": "bae6ceee",
   "metadata": {},
   "outputs": [
    {
     "data": {
      "text/plain": [
       "a    10\n",
       "b    20\n",
       "c    30\n",
       "d    40\n",
       "e    50\n",
       "f    60\n",
       "g    70\n",
       "dtype: int64"
      ]
     },
     "execution_count": 22,
     "metadata": {},
     "output_type": "execute_result"
    }
   ],
   "source": [
    "s['a': 'g'] # when we do slicing using the explicit indexing then the last index is included"
   ]
  },
  {
   "cell_type": "code",
   "execution_count": 23,
   "id": "1a235c0e",
   "metadata": {},
   "outputs": [
    {
     "data": {
      "text/plain": [
       "a    10\n",
       "b    20\n",
       "c    30\n",
       "d    40\n",
       "e    50\n",
       "f    60\n",
       "g    70\n",
       "dtype: int64"
      ]
     },
     "execution_count": 23,
     "metadata": {},
     "output_type": "execute_result"
    }
   ],
   "source": [
    "s[0:7] # The element at the 7th index is not included as we have used implicit indexing"
   ]
  },
  {
   "cell_type": "markdown",
   "id": "1c649c13",
   "metadata": {},
   "source": [
    "### point of confusion\n",
    "    We can also use numerical values for the explicit index. In this case confusion arises while slicing and using [] operator."
   ]
  },
  {
   "cell_type": "code",
   "execution_count": 24,
   "id": "e63e57ac",
   "metadata": {},
   "outputs": [
    {
     "data": {
      "text/plain": [
       "10     a\n",
       "20     b\n",
       "30     c\n",
       "40     d\n",
       "50     e\n",
       "60     f\n",
       "70     g\n",
       "80     h\n",
       "90     i\n",
       "100    j\n",
       "dtype: object"
      ]
     },
     "execution_count": 24,
     "metadata": {},
     "output_type": "execute_result"
    }
   ],
   "source": [
    "s = pd.Series(list('abcdefghij'), index = [i * 10 for i in range(1, 11)])\n",
    "s"
   ]
  },
  {
   "cell_type": "code",
   "execution_count": 25,
   "id": "892d1933",
   "metadata": {},
   "outputs": [
    {
     "ename": "KeyError",
     "evalue": "0",
     "output_type": "error",
     "traceback": [
      "\u001b[1;31m---------------------------------------------------------------------------\u001b[0m",
      "\u001b[1;31mKeyError\u001b[0m                                  Traceback (most recent call last)",
      "File \u001b[1;32m~\\AppData\\Local\\Programs\\Python\\Python311\\Lib\\site-packages\\pandas\\core\\indexes\\base.py:3791\u001b[0m, in \u001b[0;36mIndex.get_loc\u001b[1;34m(self, key)\u001b[0m\n\u001b[0;32m   3790\u001b[0m \u001b[38;5;28;01mtry\u001b[39;00m:\n\u001b[1;32m-> 3791\u001b[0m     \u001b[38;5;28;01mreturn\u001b[39;00m \u001b[38;5;28;43mself\u001b[39;49m\u001b[38;5;241;43m.\u001b[39;49m\u001b[43m_engine\u001b[49m\u001b[38;5;241;43m.\u001b[39;49m\u001b[43mget_loc\u001b[49m\u001b[43m(\u001b[49m\u001b[43mcasted_key\u001b[49m\u001b[43m)\u001b[49m\n\u001b[0;32m   3792\u001b[0m \u001b[38;5;28;01mexcept\u001b[39;00m \u001b[38;5;167;01mKeyError\u001b[39;00m \u001b[38;5;28;01mas\u001b[39;00m err:\n",
      "File \u001b[1;32mindex.pyx:152\u001b[0m, in \u001b[0;36mpandas._libs.index.IndexEngine.get_loc\u001b[1;34m()\u001b[0m\n",
      "File \u001b[1;32mindex.pyx:181\u001b[0m, in \u001b[0;36mpandas._libs.index.IndexEngine.get_loc\u001b[1;34m()\u001b[0m\n",
      "File \u001b[1;32mpandas\\_libs\\hashtable_class_helper.pxi:2606\u001b[0m, in \u001b[0;36mpandas._libs.hashtable.Int64HashTable.get_item\u001b[1;34m()\u001b[0m\n",
      "File \u001b[1;32mpandas\\_libs\\hashtable_class_helper.pxi:2630\u001b[0m, in \u001b[0;36mpandas._libs.hashtable.Int64HashTable.get_item\u001b[1;34m()\u001b[0m\n",
      "\u001b[1;31mKeyError\u001b[0m: 0",
      "\nThe above exception was the direct cause of the following exception:\n",
      "\u001b[1;31mKeyError\u001b[0m                                  Traceback (most recent call last)",
      "Cell \u001b[1;32mIn[25], line 1\u001b[0m\n\u001b[1;32m----> 1\u001b[0m \u001b[43ms\u001b[49m\u001b[43m[\u001b[49m\u001b[38;5;241;43m0\u001b[39;49m\u001b[43m]\u001b[49m \u001b[38;5;66;03m# as 0 is not present in the explicit index\u001b[39;00m\n",
      "File \u001b[1;32m~\\AppData\\Local\\Programs\\Python\\Python311\\Lib\\site-packages\\pandas\\core\\series.py:1040\u001b[0m, in \u001b[0;36mSeries.__getitem__\u001b[1;34m(self, key)\u001b[0m\n\u001b[0;32m   1037\u001b[0m     \u001b[38;5;28;01mreturn\u001b[39;00m \u001b[38;5;28mself\u001b[39m\u001b[38;5;241m.\u001b[39m_values[key]\n\u001b[0;32m   1039\u001b[0m \u001b[38;5;28;01melif\u001b[39;00m key_is_scalar:\n\u001b[1;32m-> 1040\u001b[0m     \u001b[38;5;28;01mreturn\u001b[39;00m \u001b[38;5;28;43mself\u001b[39;49m\u001b[38;5;241;43m.\u001b[39;49m\u001b[43m_get_value\u001b[49m\u001b[43m(\u001b[49m\u001b[43mkey\u001b[49m\u001b[43m)\u001b[49m\n\u001b[0;32m   1042\u001b[0m \u001b[38;5;66;03m# Convert generator to list before going through hashable part\u001b[39;00m\n\u001b[0;32m   1043\u001b[0m \u001b[38;5;66;03m# (We will iterate through the generator there to check for slices)\u001b[39;00m\n\u001b[0;32m   1044\u001b[0m \u001b[38;5;28;01mif\u001b[39;00m is_iterator(key):\n",
      "File \u001b[1;32m~\\AppData\\Local\\Programs\\Python\\Python311\\Lib\\site-packages\\pandas\\core\\series.py:1156\u001b[0m, in \u001b[0;36mSeries._get_value\u001b[1;34m(self, label, takeable)\u001b[0m\n\u001b[0;32m   1153\u001b[0m     \u001b[38;5;28;01mreturn\u001b[39;00m \u001b[38;5;28mself\u001b[39m\u001b[38;5;241m.\u001b[39m_values[label]\n\u001b[0;32m   1155\u001b[0m \u001b[38;5;66;03m# Similar to Index.get_value, but we do not fall back to positional\u001b[39;00m\n\u001b[1;32m-> 1156\u001b[0m loc \u001b[38;5;241m=\u001b[39m \u001b[38;5;28;43mself\u001b[39;49m\u001b[38;5;241;43m.\u001b[39;49m\u001b[43mindex\u001b[49m\u001b[38;5;241;43m.\u001b[39;49m\u001b[43mget_loc\u001b[49m\u001b[43m(\u001b[49m\u001b[43mlabel\u001b[49m\u001b[43m)\u001b[49m\n\u001b[0;32m   1158\u001b[0m \u001b[38;5;28;01mif\u001b[39;00m is_integer(loc):\n\u001b[0;32m   1159\u001b[0m     \u001b[38;5;28;01mreturn\u001b[39;00m \u001b[38;5;28mself\u001b[39m\u001b[38;5;241m.\u001b[39m_values[loc]\n",
      "File \u001b[1;32m~\\AppData\\Local\\Programs\\Python\\Python311\\Lib\\site-packages\\pandas\\core\\indexes\\base.py:3798\u001b[0m, in \u001b[0;36mIndex.get_loc\u001b[1;34m(self, key)\u001b[0m\n\u001b[0;32m   3793\u001b[0m     \u001b[38;5;28;01mif\u001b[39;00m \u001b[38;5;28misinstance\u001b[39m(casted_key, \u001b[38;5;28mslice\u001b[39m) \u001b[38;5;129;01mor\u001b[39;00m (\n\u001b[0;32m   3794\u001b[0m         \u001b[38;5;28misinstance\u001b[39m(casted_key, abc\u001b[38;5;241m.\u001b[39mIterable)\n\u001b[0;32m   3795\u001b[0m         \u001b[38;5;129;01mand\u001b[39;00m \u001b[38;5;28many\u001b[39m(\u001b[38;5;28misinstance\u001b[39m(x, \u001b[38;5;28mslice\u001b[39m) \u001b[38;5;28;01mfor\u001b[39;00m x \u001b[38;5;129;01min\u001b[39;00m casted_key)\n\u001b[0;32m   3796\u001b[0m     ):\n\u001b[0;32m   3797\u001b[0m         \u001b[38;5;28;01mraise\u001b[39;00m InvalidIndexError(key)\n\u001b[1;32m-> 3798\u001b[0m     \u001b[38;5;28;01mraise\u001b[39;00m \u001b[38;5;167;01mKeyError\u001b[39;00m(key) \u001b[38;5;28;01mfrom\u001b[39;00m \u001b[38;5;21;01merr\u001b[39;00m\n\u001b[0;32m   3799\u001b[0m \u001b[38;5;28;01mexcept\u001b[39;00m \u001b[38;5;167;01mTypeError\u001b[39;00m:\n\u001b[0;32m   3800\u001b[0m     \u001b[38;5;66;03m# If we have a listlike key, _check_indexing_error will raise\u001b[39;00m\n\u001b[0;32m   3801\u001b[0m     \u001b[38;5;66;03m#  InvalidIndexError. Otherwise we fall through and re-raise\u001b[39;00m\n\u001b[0;32m   3802\u001b[0m     \u001b[38;5;66;03m#  the TypeError.\u001b[39;00m\n\u001b[0;32m   3803\u001b[0m     \u001b[38;5;28mself\u001b[39m\u001b[38;5;241m.\u001b[39m_check_indexing_error(key)\n",
      "\u001b[1;31mKeyError\u001b[0m: 0"
     ]
    }
   ],
   "source": [
    "s[0] # as 0 is not present in the explicit index"
   ]
  },
  {
   "cell_type": "code",
   "execution_count": 26,
   "id": "a6b05240",
   "metadata": {},
   "outputs": [
    {
     "data": {
      "text/plain": [
       "'a'"
      ]
     },
     "execution_count": 26,
     "metadata": {},
     "output_type": "execute_result"
    }
   ],
   "source": [
    "s[10]"
   ]
  },
  {
   "cell_type": "code",
   "execution_count": 27,
   "id": "3be79186",
   "metadata": {},
   "outputs": [
    {
     "data": {
      "text/plain": [
       "10    a\n",
       "20    b\n",
       "30    c\n",
       "40    d\n",
       "50    e\n",
       "dtype: object"
      ]
     },
     "execution_count": 27,
     "metadata": {},
     "output_type": "execute_result"
    }
   ],
   "source": [
    "s[0:5] # while slicing it uses the implicit indexing and not explicit indexing."
   ]
  },
  {
   "cell_type": "code",
   "execution_count": 28,
   "id": "4569d609",
   "metadata": {},
   "outputs": [
    {
     "data": {
      "text/plain": [
       "Series([], dtype: object)"
      ]
     },
     "execution_count": 28,
     "metadata": {},
     "output_type": "execute_result"
    }
   ],
   "source": [
    "s[10:50] # as when we use numerical index as explicit index, then while slicing it uses the implicit indexing"
   ]
  },
  {
   "cell_type": "markdown",
   "id": "758e1003",
   "metadata": {},
   "source": [
    "# iloc and loc properties"
   ]
  },
  {
   "cell_type": "code",
   "execution_count": 29,
   "id": "89ec34ca",
   "metadata": {},
   "outputs": [
    {
     "data": {
      "text/plain": [
       "10     a\n",
       "20     b\n",
       "30     c\n",
       "40     d\n",
       "50     e\n",
       "60     f\n",
       "70     g\n",
       "80     h\n",
       "90     i\n",
       "100    j\n",
       "dtype: object"
      ]
     },
     "execution_count": 29,
     "metadata": {},
     "output_type": "execute_result"
    }
   ],
   "source": [
    "s"
   ]
  },
  {
   "cell_type": "code",
   "execution_count": 30,
   "id": "954a6bae",
   "metadata": {},
   "outputs": [
    {
     "data": {
      "text/plain": [
       "'a'"
      ]
     },
     "execution_count": 30,
     "metadata": {},
     "output_type": "execute_result"
    }
   ],
   "source": [
    "s.iloc[0]"
   ]
  },
  {
   "cell_type": "code",
   "execution_count": 31,
   "id": "513488c0",
   "metadata": {},
   "outputs": [
    {
     "data": {
      "text/plain": [
       "10    a\n",
       "20    b\n",
       "30    c\n",
       "40    d\n",
       "50    e\n",
       "60    f\n",
       "dtype: object"
      ]
     },
     "execution_count": 31,
     "metadata": {},
     "output_type": "execute_result"
    }
   ],
   "source": [
    "s.iloc[0:6]"
   ]
  },
  {
   "cell_type": "code",
   "execution_count": 32,
   "id": "f0d00a84",
   "metadata": {},
   "outputs": [
    {
     "data": {
      "text/plain": [
       "'a'"
      ]
     },
     "execution_count": 32,
     "metadata": {},
     "output_type": "execute_result"
    }
   ],
   "source": [
    "s.loc[10]"
   ]
  },
  {
   "cell_type": "code",
   "execution_count": 33,
   "id": "4b5e75b0",
   "metadata": {},
   "outputs": [
    {
     "data": {
      "text/plain": [
       "10    a\n",
       "20    b\n",
       "30    c\n",
       "40    d\n",
       "50    e\n",
       "dtype: object"
      ]
     },
     "execution_count": 33,
     "metadata": {},
     "output_type": "execute_result"
    }
   ],
   "source": [
    "s.loc[10:50]"
   ]
  },
  {
   "cell_type": "markdown",
   "id": "51890177",
   "metadata": {},
   "source": [
    "# Intro to Series Methods"
   ]
  },
  {
   "cell_type": "code",
   "execution_count": 37,
   "id": "07790494",
   "metadata": {},
   "outputs": [
    {
     "data": {
      "text/plain": [
       "0    2.99\n",
       "1    4.45\n",
       "2    1.36\n",
       "dtype: float64"
      ]
     },
     "execution_count": 37,
     "metadata": {},
     "output_type": "execute_result"
    }
   ],
   "source": [
    "prices = pd.Series([2.99, 4.45, 1.36])\n",
    "prices"
   ]
  },
  {
   "cell_type": "code",
   "execution_count": 38,
   "id": "5cae8bac",
   "metadata": {},
   "outputs": [
    {
     "name": "stdout",
     "output_type": "stream",
     "text": [
      "8.8\n",
      "2.9333333333333336\n",
      "18.095480000000006\n",
      "1.5457791994115246\n"
     ]
    }
   ],
   "source": [
    "print(prices.sum())\n",
    "print(prices.mean())\n",
    "print(prices.product())\n",
    "print(prices.std())"
   ]
  },
  {
   "cell_type": "markdown",
   "id": "c40e5647",
   "metadata": {},
   "source": [
    "# Intro to Attributes\n",
    "    An attribute is a piece of data that lives on an object.\n",
    "    An attribute is a fact, a detail, a characteristic of the object.\n",
    "    Access an attribute with object.attribute syntax."
   ]
  },
  {
   "cell_type": "code",
   "execution_count": 39,
   "id": "eb37289b",
   "metadata": {},
   "outputs": [
    {
     "data": {
      "text/plain": [
       "0        Smart\n",
       "1     Handsome\n",
       "2     Charming\n",
       "3    Brilliant\n",
       "4       Humble\n",
       "5        Smart\n",
       "dtype: object"
      ]
     },
     "execution_count": 39,
     "metadata": {},
     "output_type": "execute_result"
    }
   ],
   "source": [
    "adjectives = pd.Series(['Smart', 'Handsome', 'Charming', 'Brilliant', 'Humble', 'Smart'])\n",
    "adjectives"
   ]
  },
  {
   "cell_type": "code",
   "execution_count": 40,
   "id": "4b4b13a9",
   "metadata": {},
   "outputs": [
    {
     "data": {
      "text/plain": [
       "6"
      ]
     },
     "execution_count": 40,
     "metadata": {},
     "output_type": "execute_result"
    }
   ],
   "source": [
    "adjectives.size"
   ]
  },
  {
   "cell_type": "code",
   "execution_count": 41,
   "id": "2cbcdc7a",
   "metadata": {},
   "outputs": [
    {
     "data": {
      "text/plain": [
       "False"
      ]
     },
     "execution_count": 41,
     "metadata": {},
     "output_type": "execute_result"
    }
   ],
   "source": [
    "adjectives.is_unique"
   ]
  },
  {
   "cell_type": "markdown",
   "id": "ca2ec415",
   "metadata": {},
   "source": [
    " # Import series with pd.read_csv().squeeze() method"
   ]
  },
  {
   "cell_type": "markdown",
   "id": "96b8d354",
   "metadata": {},
   "source": [
    "    A CSV is a plain text file that uses line breaks to seperate rows and commas to seperate row values.\n",
    "    Pandas ships with many different read_ functions for different types of files.\n",
    "    The read_csv() function accepts many different paramters. The first one specifies the file name/path.\n",
    "    The read_csv() function will import the dataset as a Dataframe, a 2-dimensional table.\n",
    "    The usecols parameter accepts a list of the columns to import.\n",
    "    The squeeze method converts a DataFrame to Series."
   ]
  },
  {
   "cell_type": "code",
   "execution_count": 42,
   "id": "7ea30928",
   "metadata": {},
   "outputs": [
    {
     "data": {
      "text/html": [
       "<div>\n",
       "<style scoped>\n",
       "    .dataframe tbody tr th:only-of-type {\n",
       "        vertical-align: middle;\n",
       "    }\n",
       "\n",
       "    .dataframe tbody tr th {\n",
       "        vertical-align: top;\n",
       "    }\n",
       "\n",
       "    .dataframe thead th {\n",
       "        text-align: right;\n",
       "    }\n",
       "</style>\n",
       "<table border=\"1\" class=\"dataframe\">\n",
       "  <thead>\n",
       "    <tr style=\"text-align: right;\">\n",
       "      <th></th>\n",
       "      <th>Name</th>\n",
       "      <th>Type</th>\n",
       "    </tr>\n",
       "  </thead>\n",
       "  <tbody>\n",
       "    <tr>\n",
       "      <th>0</th>\n",
       "      <td>Bulbasaur</td>\n",
       "      <td>Grass, Poison</td>\n",
       "    </tr>\n",
       "    <tr>\n",
       "      <th>1</th>\n",
       "      <td>Ivysaur</td>\n",
       "      <td>Grass, Poison</td>\n",
       "    </tr>\n",
       "    <tr>\n",
       "      <th>2</th>\n",
       "      <td>Venusaur</td>\n",
       "      <td>Grass, Poison</td>\n",
       "    </tr>\n",
       "    <tr>\n",
       "      <th>3</th>\n",
       "      <td>Charmander</td>\n",
       "      <td>Fire</td>\n",
       "    </tr>\n",
       "    <tr>\n",
       "      <th>4</th>\n",
       "      <td>Charmeleon</td>\n",
       "      <td>Fire</td>\n",
       "    </tr>\n",
       "    <tr>\n",
       "      <th>...</th>\n",
       "      <td>...</td>\n",
       "      <td>...</td>\n",
       "    </tr>\n",
       "    <tr>\n",
       "      <th>1005</th>\n",
       "      <td>Iron Valiant</td>\n",
       "      <td>Fairy, Fighting</td>\n",
       "    </tr>\n",
       "    <tr>\n",
       "      <th>1006</th>\n",
       "      <td>Koraidon</td>\n",
       "      <td>Fighting, Dragon</td>\n",
       "    </tr>\n",
       "    <tr>\n",
       "      <th>1007</th>\n",
       "      <td>Miraidon</td>\n",
       "      <td>Electric, Dragon</td>\n",
       "    </tr>\n",
       "    <tr>\n",
       "      <th>1008</th>\n",
       "      <td>Walking Wake</td>\n",
       "      <td>Water, Dragon</td>\n",
       "    </tr>\n",
       "    <tr>\n",
       "      <th>1009</th>\n",
       "      <td>Iron Leaves</td>\n",
       "      <td>Grass, Psychic</td>\n",
       "    </tr>\n",
       "  </tbody>\n",
       "</table>\n",
       "<p>1010 rows × 2 columns</p>\n",
       "</div>"
      ],
      "text/plain": [
       "              Name              Type\n",
       "0        Bulbasaur     Grass, Poison\n",
       "1          Ivysaur     Grass, Poison\n",
       "2         Venusaur     Grass, Poison\n",
       "3       Charmander              Fire\n",
       "4       Charmeleon              Fire\n",
       "...            ...               ...\n",
       "1005  Iron Valiant   Fairy, Fighting\n",
       "1006      Koraidon  Fighting, Dragon\n",
       "1007      Miraidon  Electric, Dragon\n",
       "1008  Walking Wake     Water, Dragon\n",
       "1009   Iron Leaves    Grass, Psychic\n",
       "\n",
       "[1010 rows x 2 columns]"
      ]
     },
     "execution_count": 42,
     "metadata": {},
     "output_type": "execute_result"
    }
   ],
   "source": [
    "pokemon = pd.read_csv('datasets/pokemon.csv')\n",
    "pokemon"
   ]
  },
  {
   "cell_type": "code",
   "execution_count": 43,
   "id": "cc4f9c9c",
   "metadata": {},
   "outputs": [
    {
     "data": {
      "text/html": [
       "<div>\n",
       "<style scoped>\n",
       "    .dataframe tbody tr th:only-of-type {\n",
       "        vertical-align: middle;\n",
       "    }\n",
       "\n",
       "    .dataframe tbody tr th {\n",
       "        vertical-align: top;\n",
       "    }\n",
       "\n",
       "    .dataframe thead th {\n",
       "        text-align: right;\n",
       "    }\n",
       "</style>\n",
       "<table border=\"1\" class=\"dataframe\">\n",
       "  <thead>\n",
       "    <tr style=\"text-align: right;\">\n",
       "      <th></th>\n",
       "      <th>Name</th>\n",
       "    </tr>\n",
       "  </thead>\n",
       "  <tbody>\n",
       "    <tr>\n",
       "      <th>0</th>\n",
       "      <td>Bulbasaur</td>\n",
       "    </tr>\n",
       "    <tr>\n",
       "      <th>1</th>\n",
       "      <td>Ivysaur</td>\n",
       "    </tr>\n",
       "    <tr>\n",
       "      <th>2</th>\n",
       "      <td>Venusaur</td>\n",
       "    </tr>\n",
       "    <tr>\n",
       "      <th>3</th>\n",
       "      <td>Charmander</td>\n",
       "    </tr>\n",
       "    <tr>\n",
       "      <th>4</th>\n",
       "      <td>Charmeleon</td>\n",
       "    </tr>\n",
       "    <tr>\n",
       "      <th>...</th>\n",
       "      <td>...</td>\n",
       "    </tr>\n",
       "    <tr>\n",
       "      <th>1005</th>\n",
       "      <td>Iron Valiant</td>\n",
       "    </tr>\n",
       "    <tr>\n",
       "      <th>1006</th>\n",
       "      <td>Koraidon</td>\n",
       "    </tr>\n",
       "    <tr>\n",
       "      <th>1007</th>\n",
       "      <td>Miraidon</td>\n",
       "    </tr>\n",
       "    <tr>\n",
       "      <th>1008</th>\n",
       "      <td>Walking Wake</td>\n",
       "    </tr>\n",
       "    <tr>\n",
       "      <th>1009</th>\n",
       "      <td>Iron Leaves</td>\n",
       "    </tr>\n",
       "  </tbody>\n",
       "</table>\n",
       "<p>1010 rows × 1 columns</p>\n",
       "</div>"
      ],
      "text/plain": [
       "              Name\n",
       "0        Bulbasaur\n",
       "1          Ivysaur\n",
       "2         Venusaur\n",
       "3       Charmander\n",
       "4       Charmeleon\n",
       "...            ...\n",
       "1005  Iron Valiant\n",
       "1006      Koraidon\n",
       "1007      Miraidon\n",
       "1008  Walking Wake\n",
       "1009   Iron Leaves\n",
       "\n",
       "[1010 rows x 1 columns]"
      ]
     },
     "execution_count": 43,
     "metadata": {},
     "output_type": "execute_result"
    }
   ],
   "source": [
    "pokemon = pd.read_csv('datasets/pokemon.csv', usecols=['Name'])\n",
    "pokemon"
   ]
  },
  {
   "cell_type": "code",
   "execution_count": 44,
   "id": "5e65cfc9",
   "metadata": {},
   "outputs": [
    {
     "data": {
      "text/plain": [
       "0          Bulbasaur\n",
       "1            Ivysaur\n",
       "2           Venusaur\n",
       "3         Charmander\n",
       "4         Charmeleon\n",
       "            ...     \n",
       "1005    Iron Valiant\n",
       "1006        Koraidon\n",
       "1007        Miraidon\n",
       "1008    Walking Wake\n",
       "1009     Iron Leaves\n",
       "Name: Name, Length: 1010, dtype: object"
      ]
     },
     "execution_count": 44,
     "metadata": {},
     "output_type": "execute_result"
    }
   ],
   "source": [
    "pokemon = pd.read_csv('datasets/pokemon.csv', usecols=['Name']).squeeze()\n",
    "pokemon"
   ]
  },
  {
   "cell_type": "markdown",
   "id": "cd41d92a",
   "metadata": {},
   "source": [
    "# head and tail method"
   ]
  },
  {
   "cell_type": "code",
   "execution_count": 46,
   "id": "55acc233",
   "metadata": {},
   "outputs": [
    {
     "data": {
      "text/plain": [
       "0          Bulbasaur\n",
       "1            Ivysaur\n",
       "2           Venusaur\n",
       "3         Charmander\n",
       "4         Charmeleon\n",
       "            ...     \n",
       "1005    Iron Valiant\n",
       "1006        Koraidon\n",
       "1007        Miraidon\n",
       "1008    Walking Wake\n",
       "1009     Iron Leaves\n",
       "Name: Name, Length: 1010, dtype: object"
      ]
     },
     "execution_count": 46,
     "metadata": {},
     "output_type": "execute_result"
    }
   ],
   "source": [
    "pokemon = pd.read_csv('datasets/pokemon.csv', usecols=['Name']).squeeze()\n",
    "pokemon"
   ]
  },
  {
   "cell_type": "code",
   "execution_count": 47,
   "id": "fa0c4eef",
   "metadata": {},
   "outputs": [
    {
     "data": {
      "text/plain": [
       "0     Bulbasaur\n",
       "1       Ivysaur\n",
       "2      Venusaur\n",
       "3    Charmander\n",
       "4    Charmeleon\n",
       "Name: Name, dtype: object"
      ]
     },
     "execution_count": 47,
     "metadata": {},
     "output_type": "execute_result"
    }
   ],
   "source": [
    "first_five_pokemons = pokemon.head()\n",
    "first_five_pokemons"
   ]
  },
  {
   "cell_type": "markdown",
   "id": "2d3ca290",
   "metadata": {},
   "source": [
    "    The head and tail methods create a view and not a copy."
   ]
  },
  {
   "cell_type": "code",
   "execution_count": 48,
   "id": "ebd2d53e",
   "metadata": {},
   "outputs": [
    {
     "data": {
      "text/plain": [
       "0     Bulbasaur\n",
       "1     Alphasaur\n",
       "2      Venusaur\n",
       "3    Charmander\n",
       "4    Charmeleon\n",
       "Name: Name, dtype: object"
      ]
     },
     "execution_count": 48,
     "metadata": {},
     "output_type": "execute_result"
    }
   ],
   "source": [
    "first_five_pokemons.iloc[1] = 'Alphasaur'\n",
    "first_five_pokemons"
   ]
  },
  {
   "cell_type": "code",
   "execution_count": 51,
   "id": "074e266c",
   "metadata": {},
   "outputs": [
    {
     "data": {
      "text/plain": [
       "0          Bulbasaur\n",
       "1          Alphasaur\n",
       "2           Venusaur\n",
       "3         Charmander\n",
       "4         Charmeleon\n",
       "            ...     \n",
       "1005    Iron Valiant\n",
       "1006        Koraidon\n",
       "1007        Miraidon\n",
       "1008    Walking Wake\n",
       "1009     Iron Leaves\n",
       "Name: Name, Length: 1010, dtype: object"
      ]
     },
     "execution_count": 51,
     "metadata": {},
     "output_type": "execute_result"
    }
   ],
   "source": [
    "pokemon \n",
    "# Note that changing the head also changed the \n",
    "# original dataframe(series)."
   ]
  },
  {
   "cell_type": "code",
   "execution_count": 52,
   "id": "130a169f",
   "metadata": {},
   "outputs": [
    {
     "data": {
      "text/plain": [
       "0     Bulbasaur\n",
       "1     Alphasaur\n",
       "2      Venusaur\n",
       "3    Charmander\n",
       "4    Charmeleon\n",
       "5     Charizard\n",
       "6      Squirtle\n",
       "7     Wartortle\n",
       "8     Blastoise\n",
       "9      Caterpie\n",
       "Name: Name, dtype: object"
      ]
     },
     "execution_count": 52,
     "metadata": {},
     "output_type": "execute_result"
    }
   ],
   "source": [
    "pokemon.head(10)"
   ]
  },
  {
   "cell_type": "code",
   "execution_count": 53,
   "id": "21faac04",
   "metadata": {},
   "outputs": [
    {
     "data": {
      "text/plain": [
       "1005    Iron Valiant\n",
       "1006        Koraidon\n",
       "1007        Miraidon\n",
       "1008    Walking Wake\n",
       "1009     Iron Leaves\n",
       "Name: Name, dtype: object"
      ]
     },
     "execution_count": 53,
     "metadata": {},
     "output_type": "execute_result"
    }
   ],
   "source": [
    "pokemon.tail()"
   ]
  },
  {
   "cell_type": "code",
   "execution_count": 54,
   "id": "18630bc6",
   "metadata": {},
   "outputs": [
    {
     "data": {
      "text/plain": [
       "1000        Wo-Chien\n",
       "1001       Chien-Pao\n",
       "1002         Ting-Lu\n",
       "1003          Chi-Yu\n",
       "1004    Roaring Moon\n",
       "1005    Iron Valiant\n",
       "1006        Koraidon\n",
       "1007        Miraidon\n",
       "1008    Walking Wake\n",
       "1009     Iron Leaves\n",
       "Name: Name, dtype: object"
      ]
     },
     "execution_count": 54,
     "metadata": {},
     "output_type": "execute_result"
    }
   ],
   "source": [
    "pokemon.tail(10)"
   ]
  },
  {
   "cell_type": "markdown",
   "id": "d9d083ab",
   "metadata": {},
   "source": [
    "# Passing series to python built-in functions"
   ]
  },
  {
   "cell_type": "code",
   "execution_count": 58,
   "id": "1e733171",
   "metadata": {},
   "outputs": [
    {
     "data": {
      "text/plain": [
       "0          Bulbasaur\n",
       "1            Ivysaur\n",
       "2           Venusaur\n",
       "3         Charmander\n",
       "4         Charmeleon\n",
       "            ...     \n",
       "1005    Iron Valiant\n",
       "1006        Koraidon\n",
       "1007        Miraidon\n",
       "1008    Walking Wake\n",
       "1009     Iron Leaves\n",
       "Name: Name, Length: 1010, dtype: object"
      ]
     },
     "execution_count": 58,
     "metadata": {},
     "output_type": "execute_result"
    }
   ],
   "source": [
    "pokemon = pd.read_csv('datasets/pokemon.csv', usecols = [0]).squeeze('columns')\n",
    "pokemon"
   ]
  },
  {
   "cell_type": "code",
   "execution_count": 59,
   "id": "f4fc56f3",
   "metadata": {},
   "outputs": [
    {
     "data": {
      "text/plain": [
       "1010"
      ]
     },
     "execution_count": 59,
     "metadata": {},
     "output_type": "execute_result"
    }
   ],
   "source": [
    "len(pokemon)"
   ]
  },
  {
   "cell_type": "code",
   "execution_count": 60,
   "id": "88e01dab",
   "metadata": {},
   "outputs": [
    {
     "data": {
      "text/plain": [
       "pandas.core.series.Series"
      ]
     },
     "execution_count": 60,
     "metadata": {},
     "output_type": "execute_result"
    }
   ],
   "source": [
    "type(pokemon)"
   ]
  },
  {
   "cell_type": "code",
   "execution_count": 63,
   "id": "7636a010",
   "metadata": {},
   "outputs": [
    {
     "data": {
      "text/plain": [
       "['Bulbasaur', 'Ivysaur', 'Venusaur', 'Charmander', 'Charmeleon']"
      ]
     },
     "execution_count": 63,
     "metadata": {},
     "output_type": "execute_result"
    }
   ],
   "source": [
    "list(pokemon.head())"
   ]
  },
  {
   "cell_type": "code",
   "execution_count": 64,
   "id": "7646d71f",
   "metadata": {},
   "outputs": [
    {
     "data": {
      "text/plain": [
       "{0: 'Bulbasaur', 1: 'Ivysaur', 2: 'Venusaur', 3: 'Charmander', 4: 'Charmeleon'}"
      ]
     },
     "execution_count": 64,
     "metadata": {},
     "output_type": "execute_result"
    }
   ],
   "source": [
    "dict(pokemon.head())"
   ]
  },
  {
   "cell_type": "code",
   "execution_count": 65,
   "id": "05b17319",
   "metadata": {},
   "outputs": [
    {
     "data": {
      "text/plain": [
       "['Bulbasaur', 'Charmander', 'Charmeleon', 'Ivysaur', 'Venusaur']"
      ]
     },
     "execution_count": 65,
     "metadata": {},
     "output_type": "execute_result"
    }
   ],
   "source": [
    "sorted(pokemon.head())"
   ]
  },
  {
   "cell_type": "code",
   "execution_count": 66,
   "id": "0707ca31",
   "metadata": {},
   "outputs": [
    {
     "data": {
      "text/plain": [
       "'Zygarde'"
      ]
     },
     "execution_count": 66,
     "metadata": {},
     "output_type": "execute_result"
    }
   ],
   "source": [
    "max(pokemon)"
   ]
  },
  {
   "cell_type": "code",
   "execution_count": 67,
   "id": "f4cb7c4c",
   "metadata": {},
   "outputs": [
    {
     "data": {
      "text/plain": [
       "'Abomasnow'"
      ]
     },
     "execution_count": 67,
     "metadata": {},
     "output_type": "execute_result"
    }
   ],
   "source": [
    "min(pokemon)"
   ]
  },
  {
   "cell_type": "markdown",
   "id": "a747aa19",
   "metadata": {},
   "source": [
    "# Inclusion in series\n",
    "    The inclusion is checked using the 'in' keyword. It checks in the index object of the series by default."
   ]
  },
  {
   "cell_type": "code",
   "execution_count": 70,
   "id": "c913070f",
   "metadata": {},
   "outputs": [
    {
     "data": {
      "text/plain": [
       "0          Bulbasaur\n",
       "1            Ivysaur\n",
       "2           Venusaur\n",
       "3         Charmander\n",
       "4         Charmeleon\n",
       "            ...     \n",
       "1005    Iron Valiant\n",
       "1006        Koraidon\n",
       "1007        Miraidon\n",
       "1008    Walking Wake\n",
       "1009     Iron Leaves\n",
       "Name: Name, Length: 1010, dtype: object"
      ]
     },
     "execution_count": 70,
     "metadata": {},
     "output_type": "execute_result"
    }
   ],
   "source": [
    "pokemon = pd.read_csv('datasets/pokemon.csv', usecols = [0]).squeeze('columns')\n",
    "pokemon"
   ]
  },
  {
   "cell_type": "code",
   "execution_count": 71,
   "id": "e93687c8",
   "metadata": {},
   "outputs": [
    {
     "data": {
      "text/plain": [
       "False"
      ]
     },
     "execution_count": 71,
     "metadata": {},
     "output_type": "execute_result"
    }
   ],
   "source": [
    "'Bulbasaur' in pokemon # as it checks by default in index of the series"
   ]
  },
  {
   "cell_type": "code",
   "execution_count": 72,
   "id": "543f53f1",
   "metadata": {},
   "outputs": [
    {
     "data": {
      "text/plain": [
       "True"
      ]
     },
     "execution_count": 72,
     "metadata": {},
     "output_type": "execute_result"
    }
   ],
   "source": [
    "1009 in pokemon"
   ]
  },
  {
   "cell_type": "code",
   "execution_count": 73,
   "id": "4c45b70b",
   "metadata": {},
   "outputs": [
    {
     "data": {
      "text/plain": [
       "True"
      ]
     },
     "execution_count": 73,
     "metadata": {},
     "output_type": "execute_result"
    }
   ],
   "source": [
    "'Bulbasaur' in pokemon.values"
   ]
  },
  {
   "cell_type": "code",
   "execution_count": 74,
   "id": "6fe4ad9a",
   "metadata": {},
   "outputs": [
    {
     "data": {
      "text/plain": [
       "False"
      ]
     },
     "execution_count": 74,
     "metadata": {},
     "output_type": "execute_result"
    }
   ],
   "source": [
    "'Koraidon' not in pokemon.values"
   ]
  },
  {
   "cell_type": "markdown",
   "id": "d5c03e21",
   "metadata": {},
   "source": [
    "# sort_values in series"
   ]
  },
  {
   "cell_type": "code",
   "execution_count": 75,
   "id": "92a53aa5",
   "metadata": {},
   "outputs": [],
   "source": [
    "pokemon = pd.read_csv('datasets/pokemon.csv', usecols = [0]).squeeze('columns')\n",
    "google = pd.read_csv('datasets/google_stock_price.csv', usecols = ['Price']).squeeze('columns')"
   ]
  },
  {
   "cell_type": "code",
   "execution_count": 76,
   "id": "2e9a76b4",
   "metadata": {},
   "outputs": [
    {
     "data": {
      "text/plain": [
       "0         2.490664\n",
       "1         2.515820\n",
       "2         2.758411\n",
       "3         2.770615\n",
       "4         2.614201\n",
       "           ...    \n",
       "4788    132.080002\n",
       "4789    132.998001\n",
       "4790    135.570007\n",
       "4791    137.050003\n",
       "4792    138.429993\n",
       "Name: Price, Length: 4793, dtype: float64"
      ]
     },
     "execution_count": 76,
     "metadata": {},
     "output_type": "execute_result"
    }
   ],
   "source": [
    "google"
   ]
  },
  {
   "cell_type": "markdown",
   "id": "5ac467e1",
   "metadata": {},
   "source": [
    "    The sort_values method a series values in order.\n",
    "    By default, pandas applies an ascending sort(smallest to largest).\n",
    "    We can customize the sort order with the ascending parameter.\n",
    "    \n",
    "    This operation however does not modify the original series. It in fact returns us a new series."
   ]
  },
  {
   "cell_type": "code",
   "execution_count": 77,
   "id": "9d0ea8cf",
   "metadata": {},
   "outputs": [
    {
     "data": {
      "text/plain": [
       "10        2.470490\n",
       "0         2.490664\n",
       "13        2.509095\n",
       "11        2.514326\n",
       "1         2.515820\n",
       "           ...    \n",
       "4341    150.000000\n",
       "4336    150.000000\n",
       "4346    150.141754\n",
       "4345    151.000000\n",
       "4395    151.863495\n",
       "Name: Price, Length: 4793, dtype: float64"
      ]
     },
     "execution_count": 77,
     "metadata": {},
     "output_type": "execute_result"
    }
   ],
   "source": [
    "google.sort_values()"
   ]
  },
  {
   "cell_type": "code",
   "execution_count": 83,
   "id": "53e3503e",
   "metadata": {},
   "outputs": [
    {
     "data": {
      "text/plain": [
       "717     Zygarde\n",
       "633    Zweilous\n",
       "40        Zubat\n",
       "Name: Name, dtype: object"
      ]
     },
     "execution_count": 83,
     "metadata": {},
     "output_type": "execute_result"
    }
   ],
   "source": [
    "pokemon.sort_values(ascending=False).head(3)"
   ]
  },
  {
   "cell_type": "markdown",
   "id": "dff8b928",
   "metadata": {},
   "source": [
    "# sort_index() method"
   ]
  },
  {
   "cell_type": "code",
   "execution_count": 84,
   "id": "bd49d6fe",
   "metadata": {},
   "outputs": [
    {
     "data": {
      "text/plain": [
       "0          Bulbasaur\n",
       "1            Ivysaur\n",
       "2           Venusaur\n",
       "3         Charmander\n",
       "4         Charmeleon\n",
       "            ...     \n",
       "1005    Iron Valiant\n",
       "1006        Koraidon\n",
       "1007        Miraidon\n",
       "1008    Walking Wake\n",
       "1009     Iron Leaves\n",
       "Name: Name, Length: 1010, dtype: object"
      ]
     },
     "execution_count": 84,
     "metadata": {},
     "output_type": "execute_result"
    }
   ],
   "source": [
    "pokemon = pd.read_csv('datasets/pokemon.csv', usecols = [0])\n",
    "pokemon"
   ]
  },
  {
   "cell_type": "code",
   "execution_count": 85,
   "id": "90a7c064",
   "metadata": {},
   "outputs": [],
   "source": [
    "sorted_desc_pokemon = pokemon.sort_values(ascending = False)"
   ]
  },
  {
   "cell_type": "code",
   "execution_count": 86,
   "id": "aba44895",
   "metadata": {},
   "outputs": [
    {
     "data": {
      "text/plain": [
       "717      Zygarde\n",
       "633     Zweilous\n",
       "40         Zubat\n",
       "569        Zorua\n",
       "570      Zoroark\n",
       "         ...    \n",
       "680    Aegislash\n",
       "616     Accelgor\n",
       "358        Absol\n",
       "62          Abra\n",
       "459    Abomasnow\n",
       "Name: Name, Length: 1010, dtype: object"
      ]
     },
     "execution_count": 86,
     "metadata": {},
     "output_type": "execute_result"
    }
   ],
   "source": [
    "sorted_desc_pokemon"
   ]
  },
  {
   "cell_type": "code",
   "execution_count": 88,
   "id": "c93a3aed",
   "metadata": {},
   "outputs": [],
   "source": [
    "original_pokemon = sorted_desc_pokemon.sort_index()"
   ]
  },
  {
   "cell_type": "code",
   "execution_count": 90,
   "id": "a865f6e4",
   "metadata": {},
   "outputs": [
    {
     "data": {
      "text/plain": [
       "0          Bulbasaur\n",
       "1            Ivysaur\n",
       "2           Venusaur\n",
       "3         Charmander\n",
       "4         Charmeleon\n",
       "            ...     \n",
       "1005    Iron Valiant\n",
       "1006        Koraidon\n",
       "1007        Miraidon\n",
       "1008    Walking Wake\n",
       "1009     Iron Leaves\n",
       "Name: Name, Length: 1010, dtype: object"
      ]
     },
     "execution_count": 90,
     "metadata": {},
     "output_type": "execute_result"
    }
   ],
   "source": [
    "original_pokemon"
   ]
  },
  {
   "cell_type": "markdown",
   "id": "9b3466f6",
   "metadata": {},
   "source": [
    "#### Example 2"
   ]
  },
  {
   "cell_type": "code",
   "execution_count": 92,
   "id": "3cb29dab",
   "metadata": {},
   "outputs": [],
   "source": [
    "pokemon = pd.read_csv('datasets/pokemon.csv', index_col = 'Name').squeeze('columns')"
   ]
  },
  {
   "cell_type": "code",
   "execution_count": 93,
   "id": "6f5bb1f8",
   "metadata": {},
   "outputs": [
    {
     "data": {
      "text/plain": [
       "Name\n",
       "Bulbasaur          Grass, Poison\n",
       "Ivysaur            Grass, Poison\n",
       "Venusaur           Grass, Poison\n",
       "Charmander                  Fire\n",
       "Charmeleon                  Fire\n",
       "                      ...       \n",
       "Iron Valiant     Fairy, Fighting\n",
       "Koraidon        Fighting, Dragon\n",
       "Miraidon        Electric, Dragon\n",
       "Walking Wake       Water, Dragon\n",
       "Iron Leaves       Grass, Psychic\n",
       "Name: Type, Length: 1010, dtype: object"
      ]
     },
     "execution_count": 93,
     "metadata": {},
     "output_type": "execute_result"
    }
   ],
   "source": [
    "pokemon"
   ]
  },
  {
   "cell_type": "code",
   "execution_count": 94,
   "id": "625f6f1b",
   "metadata": {},
   "outputs": [
    {
     "data": {
      "text/plain": [
       "Name\n",
       "Abomasnow        Grass, Ice\n",
       "Abra                Psychic\n",
       "Absol                  Dark\n",
       "Accelgor                Bug\n",
       "Aegislash      Steel, Ghost\n",
       "                  ...      \n",
       "Zoroark                Dark\n",
       "Zorua                  Dark\n",
       "Zubat        Poison, Flying\n",
       "Zweilous       Dark, Dragon\n",
       "Zygarde      Dragon, Ground\n",
       "Name: Type, Length: 1010, dtype: object"
      ]
     },
     "execution_count": 94,
     "metadata": {},
     "output_type": "execute_result"
    }
   ],
   "source": [
    "pokemon.sort_index()"
   ]
  },
  {
   "cell_type": "markdown",
   "id": "9a51776a",
   "metadata": {},
   "source": [
    "# get() method"
   ]
  },
  {
   "cell_type": "code",
   "execution_count": 97,
   "id": "2288fa7b",
   "metadata": {},
   "outputs": [
    {
     "data": {
      "text/plain": [
       "Name\n",
       "Bulbasaur          Grass, Poison\n",
       "Ivysaur            Grass, Poison\n",
       "Venusaur           Grass, Poison\n",
       "Charmander                  Fire\n",
       "Charmeleon                  Fire\n",
       "                      ...       \n",
       "Iron Valiant     Fairy, Fighting\n",
       "Koraidon        Fighting, Dragon\n",
       "Miraidon        Electric, Dragon\n",
       "Walking Wake       Water, Dragon\n",
       "Iron Leaves       Grass, Psychic\n",
       "Name: Type, Length: 1010, dtype: object"
      ]
     },
     "execution_count": 97,
     "metadata": {},
     "output_type": "execute_result"
    }
   ],
   "source": [
    "pokemon = pd.read_csv('datasets/pokemon.csv', index_col = 0).squeeze('columns')\n",
    "pokemon"
   ]
  },
  {
   "cell_type": "code",
   "execution_count": 98,
   "id": "5f4735ea",
   "metadata": {},
   "outputs": [
    {
     "data": {
      "text/plain": [
       "'Grass, Poison'"
      ]
     },
     "execution_count": 98,
     "metadata": {},
     "output_type": "execute_result"
    }
   ],
   "source": [
    "pokemon.get('Bulbasaur')"
   ]
  },
  {
   "cell_type": "code",
   "execution_count": 99,
   "id": "aa9b7197",
   "metadata": {},
   "outputs": [
    {
     "data": {
      "text/plain": [
       "'Fire'"
      ]
     },
     "execution_count": 99,
     "metadata": {},
     "output_type": "execute_result"
    }
   ],
   "source": [
    "pokemon.get('Charmander')"
   ]
  },
  {
   "cell_type": "code",
   "execution_count": 100,
   "id": "551a71f6",
   "metadata": {},
   "outputs": [
    {
     "data": {
      "text/plain": [
       "Name\n",
       "Charmeleon             Fire\n",
       "Bulbasaur     Grass, Poison\n",
       "Name: Type, dtype: object"
      ]
     },
     "execution_count": 100,
     "metadata": {},
     "output_type": "execute_result"
    }
   ],
   "source": [
    "pokemon.get(['Charmeleon', 'Bulbasaur'])"
   ]
  },
  {
   "cell_type": "markdown",
   "id": "64184cf3",
   "metadata": {},
   "source": [
    "#### If a value is not present then it returns None.\n",
    "#### However, we can also specify the default value to be returned when it does not find a value."
   ]
  },
  {
   "cell_type": "code",
   "execution_count": 101,
   "id": "5d188f16",
   "metadata": {},
   "outputs": [
    {
     "data": {
      "text/plain": [
       "'We cannot find Nonsense'"
      ]
     },
     "execution_count": 101,
     "metadata": {},
     "output_type": "execute_result"
    }
   ],
   "source": [
    "pokemon.get('Nonsense', default='We cannot find Nonsense')"
   ]
  },
  {
   "cell_type": "markdown",
   "id": "aadf130b",
   "metadata": {},
   "source": [
    "#### Even if one value is missing then also we get the default value."
   ]
  },
  {
   "cell_type": "code",
   "execution_count": 103,
   "id": "d95c6fa4",
   "metadata": {},
   "outputs": [
    {
     "data": {
      "text/plain": [
       "'We could not find the value corresponding to one of the keys.'"
      ]
     },
     "execution_count": 103,
     "metadata": {},
     "output_type": "execute_result"
    }
   ],
   "source": [
    "pokemon.get(['Nonsense', 'Charmeleon'], \n",
    "            default = 'We could not find the value corresponding to one of the keys.')"
   ]
  },
  {
   "cell_type": "markdown",
   "id": "fefc447b",
   "metadata": {},
   "source": [
    "# Math methods on series objects"
   ]
  },
  {
   "cell_type": "markdown",
   "id": "c15b3e12",
   "metadata": {},
   "source": [
    "    The count() method returns the number of values in the series. It excludes missing values, the size attribute includes missing values.\n",
    "    The sum() method adds together the series's values.\n",
    "    The product() method multiplies together the series values.\n",
    "    The mean() method calculates the average of the series values.\n",
    "    The std() method calculates the standard deviation of the series values.\n",
    "    The max() method returns the largest value in the series.\n",
    "    The min() method returns the largest value in the series.\n",
    "    The median() method returns the median of the series.\n",
    "    The mode() method returns the mode of the series.\n",
    "    The describe() method returns a summary with various mathematical calculations."
   ]
  },
  {
   "cell_type": "code",
   "execution_count": 106,
   "id": "c54dbf24",
   "metadata": {},
   "outputs": [
    {
     "data": {
      "text/plain": [
       "0         2.490664\n",
       "1         2.515820\n",
       "2         2.758411\n",
       "3         2.770615\n",
       "4         2.614201\n",
       "           ...    \n",
       "4788    132.080002\n",
       "4789    132.998001\n",
       "4790    135.570007\n",
       "4791    137.050003\n",
       "4792    138.429993\n",
       "Name: Price, Length: 4793, dtype: float64"
      ]
     },
     "execution_count": 106,
     "metadata": {},
     "output_type": "execute_result"
    }
   ],
   "source": [
    "google = pd.read_csv('datasets/google_stock_price.csv', usecols= [1]).squeeze()\n",
    "google"
   ]
  },
  {
   "cell_type": "code",
   "execution_count": 110,
   "id": "46d38de4",
   "metadata": {},
   "outputs": [
    {
     "data": {
      "text/plain": [
       "192733.129338"
      ]
     },
     "execution_count": 110,
     "metadata": {},
     "output_type": "execute_result"
    }
   ],
   "source": [
    "google.sum()"
   ]
  },
  {
   "cell_type": "code",
   "execution_count": 112,
   "id": "9d3b3808",
   "metadata": {},
   "outputs": [
    {
     "data": {
      "text/plain": [
       "40.211376870018775"
      ]
     },
     "execution_count": 112,
     "metadata": {},
     "output_type": "execute_result"
    }
   ],
   "source": [
    "google.mean()"
   ]
  },
  {
   "cell_type": "code",
   "execution_count": 113,
   "id": "52b00204",
   "metadata": {},
   "outputs": [
    {
     "data": {
      "text/plain": [
       "2.47049"
      ]
     },
     "execution_count": 113,
     "metadata": {},
     "output_type": "execute_result"
    }
   ],
   "source": [
    "google.min()"
   ]
  },
  {
   "cell_type": "code",
   "execution_count": 114,
   "id": "55f1e89d",
   "metadata": {},
   "outputs": [
    {
     "data": {
      "text/plain": [
       "151.863495"
      ]
     },
     "execution_count": 114,
     "metadata": {},
     "output_type": "execute_result"
    }
   ],
   "source": [
    "google.max()"
   ]
  },
  {
   "cell_type": "code",
   "execution_count": 115,
   "id": "5d8153b1",
   "metadata": {},
   "outputs": [
    {
     "data": {
      "text/plain": [
       "37.274752943868094"
      ]
     },
     "execution_count": 115,
     "metadata": {},
     "output_type": "execute_result"
    }
   ],
   "source": [
    "google.std()"
   ]
  },
  {
   "cell_type": "code",
   "execution_count": 116,
   "id": "fa219665",
   "metadata": {},
   "outputs": [
    {
     "data": {
      "text/plain": [
       "26.327717"
      ]
     },
     "execution_count": 116,
     "metadata": {},
     "output_type": "execute_result"
    }
   ],
   "source": [
    "google.median()"
   ]
  },
  {
   "cell_type": "code",
   "execution_count": 117,
   "id": "2521df29",
   "metadata": {},
   "outputs": [
    {
     "data": {
      "text/plain": [
       "0    14.719826\n",
       "1    49.000000\n",
       "Name: Price, dtype: float64"
      ]
     },
     "execution_count": 117,
     "metadata": {},
     "output_type": "execute_result"
    }
   ],
   "source": [
    "google.mode()"
   ]
  },
  {
   "cell_type": "code",
   "execution_count": 118,
   "id": "64b7b7ac",
   "metadata": {},
   "outputs": [
    {
     "data": {
      "text/plain": [
       "count    4793.000000\n",
       "mean       40.211377\n",
       "std        37.274753\n",
       "min         2.470490\n",
       "25%        12.767395\n",
       "50%        26.327717\n",
       "75%        56.311001\n",
       "max       151.863495\n",
       "Name: Price, dtype: float64"
      ]
     },
     "execution_count": 118,
     "metadata": {},
     "output_type": "execute_result"
    }
   ],
   "source": [
    "google.describe() # This returns a series"
   ]
  },
  {
   "cell_type": "code",
   "execution_count": 120,
   "id": "94ab53a0",
   "metadata": {},
   "outputs": [
    {
     "data": {
      "text/plain": [
       "56.311001"
      ]
     },
     "execution_count": 120,
     "metadata": {},
     "output_type": "execute_result"
    }
   ],
   "source": [
    "google.describe()['75%'] # 3rd quartile"
   ]
  },
  {
   "cell_type": "code",
   "execution_count": 121,
   "id": "e8ed1cc2",
   "metadata": {},
   "outputs": [
    {
     "data": {
      "text/plain": [
       "4793"
      ]
     },
     "execution_count": 121,
     "metadata": {},
     "output_type": "execute_result"
    }
   ],
   "source": [
    "google.count()"
   ]
  },
  {
   "cell_type": "markdown",
   "id": "6f1216cf",
   "metadata": {},
   "source": [
    "# Broadcasting in series"
   ]
  },
  {
   "cell_type": "code",
   "execution_count": 122,
   "id": "d25b98e6",
   "metadata": {},
   "outputs": [
    {
     "data": {
      "text/plain": [
       "0         2.490664\n",
       "1         2.515820\n",
       "2         2.758411\n",
       "3         2.770615\n",
       "4         2.614201\n",
       "           ...    \n",
       "4788    132.080002\n",
       "4789    132.998001\n",
       "4790    135.570007\n",
       "4791    137.050003\n",
       "4792    138.429993\n",
       "Name: Price, Length: 4793, dtype: float64"
      ]
     },
     "execution_count": 122,
     "metadata": {},
     "output_type": "execute_result"
    }
   ],
   "source": [
    "google = pd.read_csv('datasets/google_stock_price.csv', usecols = [1]).squeeze('columns')\n",
    "google"
   ]
  },
  {
   "cell_type": "code",
   "execution_count": 124,
   "id": "90208740",
   "metadata": {},
   "outputs": [
    {
     "data": {
      "text/plain": [
       "0        12.490664\n",
       "1        12.515820\n",
       "2        12.758411\n",
       "3        12.770615\n",
       "4        12.614201\n",
       "           ...    \n",
       "4788    142.080002\n",
       "4789    142.998001\n",
       "4790    145.570007\n",
       "4791    147.050003\n",
       "4792    148.429993\n",
       "Name: Price, Length: 4793, dtype: float64"
      ]
     },
     "execution_count": 124,
     "metadata": {},
     "output_type": "execute_result"
    }
   ],
   "source": [
    "google.add(10)\n",
    "google + 10"
   ]
  },
  {
   "cell_type": "code",
   "execution_count": 126,
   "id": "54c6071c",
   "metadata": {},
   "outputs": [
    {
     "data": {
      "text/plain": [
       "0       -17.509336\n",
       "1       -17.484180\n",
       "2       -17.241589\n",
       "3       -17.229385\n",
       "4       -17.385799\n",
       "           ...    \n",
       "4788    112.080002\n",
       "4789    112.998001\n",
       "4790    115.570007\n",
       "4791    117.050003\n",
       "4792    118.429993\n",
       "Name: Price, Length: 4793, dtype: float64"
      ]
     },
     "execution_count": 126,
     "metadata": {},
     "output_type": "execute_result"
    }
   ],
   "source": [
    "google.subtract(20)\n",
    "google - 20"
   ]
  },
  {
   "cell_type": "code",
   "execution_count": 129,
   "id": "807b1370",
   "metadata": {},
   "outputs": [
    {
     "data": {
      "text/plain": [
       "0         3.113330\n",
       "1         3.144775\n",
       "2         3.448014\n",
       "3         3.463269\n",
       "4         3.267751\n",
       "           ...    \n",
       "4788    165.100003\n",
       "4789    166.247501\n",
       "4790    169.462509\n",
       "4791    171.312504\n",
       "4792    173.037491\n",
       "Name: Price, Length: 4793, dtype: float64"
      ]
     },
     "execution_count": 129,
     "metadata": {},
     "output_type": "execute_result"
    }
   ],
   "source": [
    "google.mul(1.25)\n",
    "google * 1.25"
   ]
  },
  {
   "cell_type": "code",
   "execution_count": 131,
   "id": "581484e2",
   "metadata": {},
   "outputs": [
    {
     "data": {
      "text/plain": [
       "0        1.245332\n",
       "1        1.257910\n",
       "2        1.379206\n",
       "3        1.385307\n",
       "4        1.307100\n",
       "          ...    \n",
       "4788    66.040001\n",
       "4789    66.499000\n",
       "4790    67.785004\n",
       "4791    68.525002\n",
       "4792    69.214996\n",
       "Name: Price, Length: 4793, dtype: float64"
      ]
     },
     "execution_count": 131,
     "metadata": {},
     "output_type": "execute_result"
    }
   ],
   "source": [
    "google.div(2)\n",
    "google / 2"
   ]
  },
  {
   "cell_type": "code",
   "execution_count": 134,
   "id": "50a976e2",
   "metadata": {},
   "outputs": [
    {
     "data": {
      "text/plain": [
       "0           6.203407\n",
       "1           6.329350\n",
       "2           7.608831\n",
       "3           7.676307\n",
       "4           6.834047\n",
       "            ...     \n",
       "4788    17445.126928\n",
       "4789    17688.468270\n",
       "4790    18379.226798\n",
       "4791    18782.703322\n",
       "4792    19162.862962\n",
       "Name: Price, Length: 4793, dtype: float64"
      ]
     },
     "execution_count": 134,
     "metadata": {},
     "output_type": "execute_result"
    }
   ],
   "source": [
    "google.pow(2)\n",
    "google ** 2"
   ]
  },
  {
   "cell_type": "markdown",
   "id": "653dee10",
   "metadata": {},
   "source": [
    "# The value_counts() method"
   ]
  },
  {
   "cell_type": "markdown",
   "id": "367ffc55",
   "metadata": {},
   "source": [
    "    The value_counts() method returns the number of times each unique value occurs in the series.\n",
    "    The normalize parameter returns the relative frequencies/percentages of the values instead of the counts"
   ]
  },
  {
   "cell_type": "code",
   "execution_count": 140,
   "id": "f4cbf93d",
   "metadata": {},
   "outputs": [
    {
     "data": {
      "text/plain": [
       "Name\n",
       "Bulbasaur     Grass, Poison\n",
       "Ivysaur       Grass, Poison\n",
       "Venusaur      Grass, Poison\n",
       "Charmander             Fire\n",
       "Charmeleon             Fire\n",
       "Name: Type, dtype: object"
      ]
     },
     "execution_count": 140,
     "metadata": {},
     "output_type": "execute_result"
    }
   ],
   "source": [
    "pokemon = pd.read_csv('datasets/pokemon.csv', index_col = 'Name').squeeze('columns')\n",
    "pokemon.head()"
   ]
  },
  {
   "cell_type": "code",
   "execution_count": 141,
   "id": "90b8f3b5",
   "metadata": {},
   "outputs": [
    {
     "data": {
      "text/plain": [
       "Type\n",
       "Water               74\n",
       "Normal              74\n",
       "Grass               46\n",
       "Psychic             39\n",
       "Fire                36\n",
       "                    ..\n",
       "Fighting, Ice        1\n",
       "Fire, Dragon         1\n",
       "Normal, Dragon       1\n",
       "Psychic, Steel       1\n",
       "Fighting, Dragon     1\n",
       "Name: count, Length: 200, dtype: int64"
      ]
     },
     "execution_count": 141,
     "metadata": {},
     "output_type": "execute_result"
    }
   ],
   "source": [
    "pokemon.value_counts()"
   ]
  },
  {
   "cell_type": "code",
   "execution_count": 142,
   "id": "f3c9070c",
   "metadata": {},
   "outputs": [
    {
     "data": {
      "text/plain": [
       "Type\n",
       "Bug, Dark             1\n",
       "Psychic, Normal       1\n",
       "Dark, Poison          1\n",
       "Dark, Normal          1\n",
       "Flying, Fighting      1\n",
       "Fairy, Fighting       1\n",
       "Dragon, Dark          1\n",
       "Dragon, Water         1\n",
       "Dark, Ground          1\n",
       "Fighting, Poison      1\n",
       "Rock, Electric        1\n",
       "Fire, Poison          1\n",
       "Electric, Ground      1\n",
       "Electric, Dark        1\n",
       "Fighting, Electric    1\n",
       "Ground, Normal        1\n",
       "Ground, Fighting      1\n",
       "Grass, Fire           1\n",
       "Fairy, Psychic        1\n",
       "Flying, Dark          1\n",
       "Electric, Ice         1\n",
       "Dragon, Normal        1\n",
       "Electric, Ghost       1\n",
       "Flying, Water         1\n",
       "Fire, Steel           1\n",
       "Steel, Ground         1\n",
       "Fire, Rock            1\n",
       "Rock, Dark            1\n",
       "Bug, Ground           1\n",
       "Bug, Ghost            1\n",
       "Dark, Ghost           1\n",
       "Grass, Ground         1\n",
       "Water, Steel          1\n",
       "Normal, Water         1\n",
       "Ghost, Dark           1\n",
       "Fighting, Steel       1\n",
       "Poison, Bug           1\n",
       "Psychic, Fighting     1\n",
       "Ice, Ghost            1\n",
       "Ghost, Dragon         1\n",
       "Flying, Steel         1\n",
       "Psychic, Fire         1\n",
       "Ground, Electric      1\n",
       "Steel, Fighting       1\n",
       "Rock, Fighting        1\n",
       "Dragon, Fire          1\n",
       "Dragon, Electric      1\n",
       "Normal, Ground        1\n",
       "Fighting, Flying      1\n",
       "Fire, Water           1\n",
       "Fire, Dark            1\n",
       "Fighting, Ice         1\n",
       "Fire, Dragon          1\n",
       "Normal, Dragon        1\n",
       "Psychic, Steel        1\n",
       "Fighting, Dragon      1\n",
       "Name: count, dtype: int64"
      ]
     },
     "execution_count": 142,
     "metadata": {},
     "output_type": "execute_result"
    }
   ],
   "source": [
    "# Returns all the unique pokemons\n",
    "pokemon.value_counts()[pokemon.value_counts() == 1]"
   ]
  },
  {
   "cell_type": "code",
   "execution_count": 145,
   "id": "9322eb50",
   "metadata": {},
   "outputs": [
    {
     "data": {
      "text/plain": [
       "Type\n",
       "Water               0.073267\n",
       "Normal              0.073267\n",
       "Grass               0.045545\n",
       "Psychic             0.038614\n",
       "Fire                0.035644\n",
       "                      ...   \n",
       "Fighting, Ice       0.000990\n",
       "Fire, Dragon        0.000990\n",
       "Normal, Dragon      0.000990\n",
       "Psychic, Steel      0.000990\n",
       "Fighting, Dragon    0.000990\n",
       "Name: proportion, Length: 200, dtype: float64"
      ]
     },
     "execution_count": 145,
     "metadata": {},
     "output_type": "execute_result"
    }
   ],
   "source": [
    "pokemon.value_counts(normalize = True)"
   ]
  },
  {
   "cell_type": "code",
   "execution_count": 146,
   "id": "4988a0c0",
   "metadata": {},
   "outputs": [
    {
     "data": {
      "text/plain": [
       "Type\n",
       "Water               7.326733\n",
       "Normal              7.326733\n",
       "Grass               4.554455\n",
       "Psychic             3.861386\n",
       "Fire                3.564356\n",
       "                      ...   \n",
       "Fighting, Ice       0.099010\n",
       "Fire, Dragon        0.099010\n",
       "Normal, Dragon      0.099010\n",
       "Psychic, Steel      0.099010\n",
       "Fighting, Dragon    0.099010\n",
       "Name: proportion, Length: 200, dtype: float64"
      ]
     },
     "execution_count": 146,
     "metadata": {},
     "output_type": "execute_result"
    }
   ],
   "source": [
    "pokemon.value_counts(normalize = True) * 100"
   ]
  },
  {
   "cell_type": "markdown",
   "id": "0f91a4f5",
   "metadata": {},
   "source": [
    "# apply() method"
   ]
  },
  {
   "cell_type": "markdown",
   "id": "7484fb91",
   "metadata": {},
   "source": [
    "    The apply() method on a series takes in a function and applies that function to every value in the series and returns us a new series."
   ]
  },
  {
   "cell_type": "code",
   "execution_count": 152,
   "id": "d71a18f5",
   "metadata": {},
   "outputs": [
    {
     "data": {
      "text/plain": [
       "0          Bulbasaur\n",
       "1            Ivysaur\n",
       "2           Venusaur\n",
       "3         Charmander\n",
       "4         Charmeleon\n",
       "            ...     \n",
       "1005    Iron Valiant\n",
       "1006        Koraidon\n",
       "1007        Miraidon\n",
       "1008    Walking Wake\n",
       "1009     Iron Leaves\n",
       "Name: Name, Length: 1010, dtype: object"
      ]
     },
     "execution_count": 152,
     "metadata": {},
     "output_type": "execute_result"
    }
   ],
   "source": [
    "pokemon = pd.read_csv('datasets/pokemon.csv', usecols = [0]).squeeze('columns')\n",
    "pokemon"
   ]
  },
  {
   "cell_type": "markdown",
   "id": "0f8b0cc7",
   "metadata": {},
   "source": [
    "#### suppose we want to make a series which stores how many a's are there in a value of pokemon series."
   ]
  },
  {
   "cell_type": "code",
   "execution_count": 153,
   "id": "4a2aebe1",
   "metadata": {},
   "outputs": [],
   "source": [
    "def count_a(value : str) -> int:\n",
    "    return value.count('a')"
   ]
  },
  {
   "cell_type": "code",
   "execution_count": 158,
   "id": "191df115",
   "metadata": {},
   "outputs": [
    {
     "data": {
      "text/plain": [
       "0       2\n",
       "1       1\n",
       "2       1\n",
       "3       2\n",
       "4       1\n",
       "       ..\n",
       "1005    2\n",
       "1006    1\n",
       "1007    1\n",
       "1008    2\n",
       "1009    1\n",
       "Name: Name, Length: 1010, dtype: int64"
      ]
     },
     "execution_count": 158,
     "metadata": {},
     "output_type": "execute_result"
    }
   ],
   "source": [
    "ans = pokemon.apply(count_a)\n",
    "ans"
   ]
  },
  {
   "cell_type": "markdown",
   "id": "72ca6fbc",
   "metadata": {},
   "source": [
    "#### Now filter out the pokemons which have 2 a's in their name."
   ]
  },
  {
   "cell_type": "code",
   "execution_count": 159,
   "id": "548ac21f",
   "metadata": {},
   "outputs": [
    {
     "data": {
      "text/plain": [
       "0        True\n",
       "1       False\n",
       "2       False\n",
       "3        True\n",
       "4       False\n",
       "        ...  \n",
       "1005     True\n",
       "1006    False\n",
       "1007    False\n",
       "1008     True\n",
       "1009    False\n",
       "Name: Name, Length: 1010, dtype: bool"
      ]
     },
     "execution_count": 159,
     "metadata": {},
     "output_type": "execute_result"
    }
   ],
   "source": [
    "mask = ans == 2\n",
    "mask"
   ]
  },
  {
   "cell_type": "code",
   "execution_count": 160,
   "id": "b4913ddc",
   "metadata": {},
   "outputs": [],
   "source": [
    "pokemons_with_two_a_s = pokemon[mask] "
   ]
  },
  {
   "cell_type": "code",
   "execution_count": 161,
   "id": "62e13299",
   "metadata": {},
   "outputs": [
    {
     "data": {
      "text/plain": [
       "0          Bulbasaur\n",
       "3         Charmander\n",
       "5          Charizard\n",
       "13            Kakuna\n",
       "19          Raticate\n",
       "            ...     \n",
       "980        Farigiraf\n",
       "984      Scream Tail\n",
       "997       Baxcalibur\n",
       "1005    Iron Valiant\n",
       "1008    Walking Wake\n",
       "Name: Name, Length: 115, dtype: object"
      ]
     },
     "execution_count": 161,
     "metadata": {},
     "output_type": "execute_result"
    }
   ],
   "source": [
    "pokemons_with_two_a_s"
   ]
  },
  {
   "cell_type": "markdown",
   "id": "08e65dae",
   "metadata": {},
   "source": [
    "# map() method"
   ]
  },
  {
   "cell_type": "markdown",
   "id": "f350db30",
   "metadata": {},
   "source": [
    "    The map() method is used to map the values of a series to another set of values using a dictionary.\n",
    "    The values which are not a key in mapper_dictionary will be mapped to NaN."
   ]
  },
  {
   "cell_type": "code",
   "execution_count": 163,
   "id": "d23458f5",
   "metadata": {},
   "outputs": [
    {
     "data": {
      "text/plain": [
       "0      Grass, Poison\n",
       "1      Grass, Poison\n",
       "2      Grass, Poison\n",
       "3               Fire\n",
       "4               Fire\n",
       "5       Fire, Flying\n",
       "6              Water\n",
       "7              Water\n",
       "8              Water\n",
       "9                Bug\n",
       "10               Bug\n",
       "11       Bug, Flying\n",
       "12       Bug, Poison\n",
       "13       Bug, Poison\n",
       "14       Bug, Poison\n",
       "15    Normal, Flying\n",
       "16    Normal, Flying\n",
       "17    Normal, Flying\n",
       "18            Normal\n",
       "19            Normal\n",
       "Name: Type, dtype: object"
      ]
     },
     "execution_count": 163,
     "metadata": {},
     "output_type": "execute_result"
    }
   ],
   "source": [
    "pokemon = pd.read_csv('datasets/pokemon.csv', usecols = [1]).squeeze('columns').head(20)\n",
    "pokemon"
   ]
  },
  {
   "cell_type": "code",
   "execution_count": 164,
   "id": "d62074e1",
   "metadata": {},
   "outputs": [],
   "source": [
    "mapper_dictionary = {\n",
    "    'Grass, Poison' : 'GP',\n",
    "    'Fire':'F',\n",
    "    'Fire, Flying' : 'FF',\n",
    "    'Water' : 'W',\n",
    "    'Normal' : 'N'\n",
    "}"
   ]
  },
  {
   "cell_type": "code",
   "execution_count": 165,
   "id": "83c6ce1f",
   "metadata": {},
   "outputs": [
    {
     "data": {
      "text/plain": [
       "0      GP\n",
       "1      GP\n",
       "2      GP\n",
       "3       F\n",
       "4       F\n",
       "5      FF\n",
       "6       W\n",
       "7       W\n",
       "8       W\n",
       "9     NaN\n",
       "10    NaN\n",
       "11    NaN\n",
       "12    NaN\n",
       "13    NaN\n",
       "14    NaN\n",
       "15    NaN\n",
       "16    NaN\n",
       "17    NaN\n",
       "18      N\n",
       "19      N\n",
       "Name: Type, dtype: object"
      ]
     },
     "execution_count": 165,
     "metadata": {},
     "output_type": "execute_result"
    }
   ],
   "source": [
    "pokemon.map(mapper_dictionary) # The values which are not a key in mapper_dictionary will be mapped to NaN."
   ]
  },
  {
   "cell_type": "code",
   "execution_count": null,
   "id": "4c14c732",
   "metadata": {},
   "outputs": [],
   "source": []
  }
 ],
 "metadata": {
  "kernelspec": {
   "display_name": "Python 3 (ipykernel)",
   "language": "python",
   "name": "python3"
  },
  "language_info": {
   "codemirror_mode": {
    "name": "ipython",
    "version": 3
   },
   "file_extension": ".py",
   "mimetype": "text/x-python",
   "name": "python",
   "nbconvert_exporter": "python",
   "pygments_lexer": "ipython3",
   "version": "3.11.5"
  }
 },
 "nbformat": 4,
 "nbformat_minor": 5
}
