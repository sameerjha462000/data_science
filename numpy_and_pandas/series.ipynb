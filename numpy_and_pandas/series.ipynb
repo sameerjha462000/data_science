{
 "cells": [
  {
   "cell_type": "markdown",
   "id": "05a7eeae",
   "metadata": {},
   "source": [
    "# series"
   ]
  },
  {
   "cell_type": "markdown",
   "id": "fde9c999",
   "metadata": {},
   "source": [
    "    Pandas series are a type of associative arrays\n",
    "    --> has some dcitionary-like properties\n",
    "    --> has some sequence-like properties\n",
    "    \n",
    "    It is a sequence type -- so elements have a definite position in collection --> positional index.\n",
    "    \n",
    "    We can also define an explicit index --> a second index.\n",
    "    \n",
    "    0 10 a\n",
    "    1 20 b\n",
    "    2 30 c\n",
    "    3 40 d\n",
    "    \n",
    "    We can reference items by positional indices [0] [1]\n",
    "    or by using the explicit index ['a'] ['b'].\n",
    "    \n",
    "    We can have slicing as well as fancy indexing.\n",
    "    \n",
    "    We can slice by positional index as well as explicit indexing. However there is a slight difference between the two.\n",
    "    When we use implicit indexing, it excludes endpoint.\n",
    "    However, when we use explicit indexing, the endpoint is excluded."
   ]
  },
  {
   "cell_type": "markdown",
   "id": "19df2e09",
   "metadata": {},
   "source": [
    "# A point of confusion"
   ]
  },
  {
   "cell_type": "markdown",
   "id": "8d0e82f9",
   "metadata": {},
   "source": [
    "    We can use numerical index in case of explicit index as well.\n",
    "    \n",
    "       0,   1,   2,   3\n",
    "    [100, 200, 300, 400]\n",
    "       2,   3,   4,   5\n",
    "     \n",
    "    \n",
    "      [2] --> is this using explicit index?\n",
    "    [2:3] --> or explicit index?\n",
    "    \n",
    "    There is a rule:\n",
    "    \n",
    "    If both implicit as well as explicit index are integers, then\n",
    "    \n",
    "      [2] --> explicit index\n",
    "    [2,3] --> implicit index  \n",
    "    \n",
    "    \n",
    "    However, to resolve this problem we have something called as iloc and loc.\n",
    "    \n",
    "    iloc allows us to specifically use the implicit index.\n",
    "    and loc is used for explicit index.\n",
    "    \n",
    "    These two are not functions, they are properties and thus they use square brackets."
   ]
  },
  {
   "cell_type": "code",
   "execution_count": 1,
   "id": "500fdf2c",
   "metadata": {},
   "outputs": [],
   "source": [
    "import numpy as np\n",
    "import pandas as pd"
   ]
  },
  {
   "cell_type": "code",
   "execution_count": 2,
   "id": "258f766e",
   "metadata": {},
   "outputs": [
    {
     "data": {
      "text/plain": [
       "a    10\n",
       "b    20\n",
       "c    30\n",
       "dtype: int64"
      ]
     },
     "execution_count": 2,
     "metadata": {},
     "output_type": "execute_result"
    }
   ],
   "source": [
    "s = pd.Series([10, 20, 30], index = list('abc'))\n",
    "s"
   ]
  },
  {
   "cell_type": "code",
   "execution_count": 3,
   "id": "970c709b",
   "metadata": {},
   "outputs": [
    {
     "data": {
      "text/plain": [
       "10"
      ]
     },
     "execution_count": 3,
     "metadata": {},
     "output_type": "execute_result"
    }
   ],
   "source": [
    "s['a']"
   ]
  },
  {
   "cell_type": "code",
   "execution_count": 4,
   "id": "44df929b",
   "metadata": {},
   "outputs": [
    {
     "name": "stderr",
     "output_type": "stream",
     "text": [
      "C:\\Users\\HU496FA\\AppData\\Local\\Temp\\ipykernel_25184\\2635755408.py:1: FutureWarning: Series.__getitem__ treating keys as positions is deprecated. In a future version, integer keys will always be treated as labels (consistent with DataFrame behavior). To access a value by position, use `ser.iloc[pos]`\n",
      "  s[2]\n"
     ]
    },
    {
     "data": {
      "text/plain": [
       "30"
      ]
     },
     "execution_count": 4,
     "metadata": {},
     "output_type": "execute_result"
    }
   ],
   "source": [
    "s[2]"
   ]
  },
  {
   "cell_type": "markdown",
   "id": "5242a929",
   "metadata": {},
   "source": [
    "    We can also add new values to the series by directly using the assignment operator."
   ]
  },
  {
   "cell_type": "code",
   "execution_count": 5,
   "id": "9ee81397",
   "metadata": {},
   "outputs": [],
   "source": [
    "s['d'] = 500"
   ]
  },
  {
   "cell_type": "code",
   "execution_count": 6,
   "id": "5700cdf7",
   "metadata": {},
   "outputs": [
    {
     "data": {
      "text/plain": [
       "a     10\n",
       "b     20\n",
       "c     30\n",
       "d    500\n",
       "dtype: int64"
      ]
     },
     "execution_count": 6,
     "metadata": {},
     "output_type": "execute_result"
    }
   ],
   "source": [
    "s"
   ]
  },
  {
   "cell_type": "markdown",
   "id": "84e8474e",
   "metadata": {},
   "source": [
    "    We can also make a series object by using the dictionaries. At the end of the day, series objects are just like an associative arrays."
   ]
  },
  {
   "cell_type": "code",
   "execution_count": 7,
   "id": "d835c580",
   "metadata": {},
   "outputs": [],
   "source": [
    "capitals = {\n",
    "    'USA' : 'Washington D.C.',\n",
    "    'Canada' : 'Ottawa',\n",
    "    'UK' : 'London',\n",
    "    'France' : 'Paris'\n",
    "}"
   ]
  },
  {
   "cell_type": "code",
   "execution_count": 8,
   "id": "84ffb866",
   "metadata": {},
   "outputs": [],
   "source": [
    "s = pd.Series(capitals)"
   ]
  },
  {
   "cell_type": "code",
   "execution_count": 9,
   "id": "e522df0a",
   "metadata": {},
   "outputs": [
    {
     "data": {
      "text/plain": [
       "USA       Washington D.C.\n",
       "Canada             Ottawa\n",
       "UK                 London\n",
       "France              Paris\n",
       "dtype: object"
      ]
     },
     "execution_count": 9,
     "metadata": {},
     "output_type": "execute_result"
    }
   ],
   "source": [
    "s"
   ]
  },
  {
   "cell_type": "markdown",
   "id": "4656d39a",
   "metadata": {},
   "source": [
    "    We can access the index and values of series using the index and values attributes."
   ]
  },
  {
   "cell_type": "code",
   "execution_count": 10,
   "id": "3aed7078",
   "metadata": {},
   "outputs": [
    {
     "data": {
      "text/plain": [
       "Index(['USA', 'Canada', 'UK', 'France'], dtype='object')"
      ]
     },
     "execution_count": 10,
     "metadata": {},
     "output_type": "execute_result"
    }
   ],
   "source": [
    "s.index"
   ]
  },
  {
   "cell_type": "code",
   "execution_count": 11,
   "id": "22bcf69e",
   "metadata": {},
   "outputs": [
    {
     "data": {
      "text/plain": [
       "array(['Washington D.C.', 'Ottawa', 'London', 'Paris'], dtype=object)"
      ]
     },
     "execution_count": 11,
     "metadata": {},
     "output_type": "execute_result"
    }
   ],
   "source": [
    "s.values"
   ]
  },
  {
   "cell_type": "code",
   "execution_count": 12,
   "id": "9e879f1d",
   "metadata": {},
   "outputs": [
    {
     "data": {
      "text/plain": [
       "<zip at 0x16dfdad78c0>"
      ]
     },
     "execution_count": 12,
     "metadata": {},
     "output_type": "execute_result"
    }
   ],
   "source": [
    "s.items()"
   ]
  },
  {
   "cell_type": "code",
   "execution_count": 13,
   "id": "286ca8b8",
   "metadata": {},
   "outputs": [
    {
     "data": {
      "text/plain": [
       "[('USA', 'Washington D.C.'),\n",
       " ('Canada', 'Ottawa'),\n",
       " ('UK', 'London'),\n",
       " ('France', 'Paris')]"
      ]
     },
     "execution_count": 13,
     "metadata": {},
     "output_type": "execute_result"
    }
   ],
   "source": [
    "list(s.items())"
   ]
  },
  {
   "cell_type": "code",
   "execution_count": 14,
   "id": "3b1ed5d2",
   "metadata": {},
   "outputs": [
    {
     "name": "stdout",
     "output_type": "stream",
     "text": [
      "Capital(USA) = Washington D.C.\n",
      "Capital(Canada) = Ottawa\n",
      "Capital(UK) = London\n",
      "Capital(France) = Paris\n"
     ]
    }
   ],
   "source": [
    "for country, capital in s.items():\n",
    "    print(f\"Capital({country}) = {capital}\")"
   ]
  },
  {
   "cell_type": "markdown",
   "id": "34867ea6",
   "metadata": {},
   "source": [
    "    We can also use fancy indexing and boolean masking in series as it is built on top of numpy library."
   ]
  },
  {
   "cell_type": "code",
   "execution_count": 15,
   "id": "3f0b873a",
   "metadata": {},
   "outputs": [
    {
     "data": {
      "text/plain": [
       "USA       Washington D.C.\n",
       "Canada             Ottawa\n",
       "UK                 London\n",
       "France              Paris\n",
       "dtype: object"
      ]
     },
     "execution_count": 15,
     "metadata": {},
     "output_type": "execute_result"
    }
   ],
   "source": [
    "s"
   ]
  },
  {
   "cell_type": "code",
   "execution_count": 16,
   "id": "6b880911",
   "metadata": {},
   "outputs": [
    {
     "data": {
      "text/plain": [
       "USA    Washington D.C.\n",
       "UK              London\n",
       "dtype: object"
      ]
     },
     "execution_count": 16,
     "metadata": {},
     "output_type": "execute_result"
    }
   ],
   "source": [
    "s[['USA', 'UK']]"
   ]
  },
  {
   "cell_type": "code",
   "execution_count": 17,
   "id": "71f28098",
   "metadata": {},
   "outputs": [
    {
     "data": {
      "text/plain": [
       "USA       False\n",
       "Canada    False\n",
       "UK         True\n",
       "France    False\n",
       "dtype: bool"
      ]
     },
     "execution_count": 17,
     "metadata": {},
     "output_type": "execute_result"
    }
   ],
   "source": [
    "mask = (s == 'London')\n",
    "mask"
   ]
  },
  {
   "cell_type": "code",
   "execution_count": 18,
   "id": "47159f71",
   "metadata": {},
   "outputs": [
    {
     "data": {
      "text/plain": [
       "UK    London\n",
       "dtype: object"
      ]
     },
     "execution_count": 18,
     "metadata": {},
     "output_type": "execute_result"
    }
   ],
   "source": [
    "s[mask]"
   ]
  },
  {
   "cell_type": "code",
   "execution_count": 19,
   "id": "0f1967ee",
   "metadata": {},
   "outputs": [
    {
     "data": {
      "text/plain": [
       "pandas.core.series.Series"
      ]
     },
     "execution_count": 19,
     "metadata": {},
     "output_type": "execute_result"
    }
   ],
   "source": [
    "type(s[mask])"
   ]
  },
  {
   "cell_type": "markdown",
   "id": "a1f7b5fc",
   "metadata": {},
   "source": [
    "    We can also use slicing in pandas series the same way we do in numpy arrays and list"
   ]
  },
  {
   "cell_type": "code",
   "execution_count": 20,
   "id": "fcf6b0c3",
   "metadata": {},
   "outputs": [
    {
     "data": {
      "text/plain": [
       "a     10\n",
       "b     20\n",
       "c     30\n",
       "d     40\n",
       "e     50\n",
       "f     60\n",
       "g     70\n",
       "h     80\n",
       "i     90\n",
       "j    100\n",
       "dtype: int64"
      ]
     },
     "execution_count": 20,
     "metadata": {},
     "output_type": "execute_result"
    }
   ],
   "source": [
    "s = pd.Series([i*10 for i in range(1, 11)], index = list('abcdefghij'))\n",
    "s"
   ]
  },
  {
   "cell_type": "code",
   "execution_count": 21,
   "id": "aa23d488",
   "metadata": {},
   "outputs": [
    {
     "data": {
      "text/plain": [
       "Index(['a', 'b', 'c', 'd', 'e', 'f', 'g', 'h', 'i', 'j'], dtype='object')"
      ]
     },
     "execution_count": 21,
     "metadata": {},
     "output_type": "execute_result"
    }
   ],
   "source": [
    "s.index"
   ]
  },
  {
   "cell_type": "code",
   "execution_count": 22,
   "id": "cd1900ae",
   "metadata": {},
   "outputs": [
    {
     "data": {
      "text/plain": [
       "a    10\n",
       "b    20\n",
       "c    30\n",
       "d    40\n",
       "e    50\n",
       "f    60\n",
       "g    70\n",
       "dtype: int64"
      ]
     },
     "execution_count": 22,
     "metadata": {},
     "output_type": "execute_result"
    }
   ],
   "source": [
    "s['a': 'g'] # when we do slicing using the explicit indexing then the last index is included"
   ]
  },
  {
   "cell_type": "code",
   "execution_count": 23,
   "id": "d22bf11f",
   "metadata": {},
   "outputs": [
    {
     "data": {
      "text/plain": [
       "a    10\n",
       "b    20\n",
       "c    30\n",
       "d    40\n",
       "e    50\n",
       "f    60\n",
       "g    70\n",
       "dtype: int64"
      ]
     },
     "execution_count": 23,
     "metadata": {},
     "output_type": "execute_result"
    }
   ],
   "source": [
    "s[0:7] # The element at the 7th index is not included as we have used implicit indexing"
   ]
  },
  {
   "cell_type": "markdown",
   "id": "c48f854d",
   "metadata": {},
   "source": [
    "### point of confusion\n",
    "    We can also use numerical values for the explicit index. In this case confusion arises while slicing and using [] operator."
   ]
  },
  {
   "cell_type": "code",
   "execution_count": 24,
   "id": "15d947f4",
   "metadata": {},
   "outputs": [
    {
     "data": {
      "text/plain": [
       "10     a\n",
       "20     b\n",
       "30     c\n",
       "40     d\n",
       "50     e\n",
       "60     f\n",
       "70     g\n",
       "80     h\n",
       "90     i\n",
       "100    j\n",
       "dtype: object"
      ]
     },
     "execution_count": 24,
     "metadata": {},
     "output_type": "execute_result"
    }
   ],
   "source": [
    "s = pd.Series(list('abcdefghij'), index = [i * 10 for i in range(1, 11)])\n",
    "s"
   ]
  },
  {
   "cell_type": "code",
   "execution_count": 25,
   "id": "6bd0aac0",
   "metadata": {},
   "outputs": [
    {
     "ename": "KeyError",
     "evalue": "0",
     "output_type": "error",
     "traceback": [
      "\u001b[1;31m---------------------------------------------------------------------------\u001b[0m",
      "\u001b[1;31mKeyError\u001b[0m                                  Traceback (most recent call last)",
      "File \u001b[1;32m~\\AppData\\Local\\Programs\\Python\\Python311\\Lib\\site-packages\\pandas\\core\\indexes\\base.py:3791\u001b[0m, in \u001b[0;36mIndex.get_loc\u001b[1;34m(self, key)\u001b[0m\n\u001b[0;32m   3790\u001b[0m \u001b[38;5;28;01mtry\u001b[39;00m:\n\u001b[1;32m-> 3791\u001b[0m     \u001b[38;5;28;01mreturn\u001b[39;00m \u001b[38;5;28;43mself\u001b[39;49m\u001b[38;5;241;43m.\u001b[39;49m\u001b[43m_engine\u001b[49m\u001b[38;5;241;43m.\u001b[39;49m\u001b[43mget_loc\u001b[49m\u001b[43m(\u001b[49m\u001b[43mcasted_key\u001b[49m\u001b[43m)\u001b[49m\n\u001b[0;32m   3792\u001b[0m \u001b[38;5;28;01mexcept\u001b[39;00m \u001b[38;5;167;01mKeyError\u001b[39;00m \u001b[38;5;28;01mas\u001b[39;00m err:\n",
      "File \u001b[1;32mindex.pyx:152\u001b[0m, in \u001b[0;36mpandas._libs.index.IndexEngine.get_loc\u001b[1;34m()\u001b[0m\n",
      "File \u001b[1;32mindex.pyx:181\u001b[0m, in \u001b[0;36mpandas._libs.index.IndexEngine.get_loc\u001b[1;34m()\u001b[0m\n",
      "File \u001b[1;32mpandas\\_libs\\hashtable_class_helper.pxi:2606\u001b[0m, in \u001b[0;36mpandas._libs.hashtable.Int64HashTable.get_item\u001b[1;34m()\u001b[0m\n",
      "File \u001b[1;32mpandas\\_libs\\hashtable_class_helper.pxi:2630\u001b[0m, in \u001b[0;36mpandas._libs.hashtable.Int64HashTable.get_item\u001b[1;34m()\u001b[0m\n",
      "\u001b[1;31mKeyError\u001b[0m: 0",
      "\nThe above exception was the direct cause of the following exception:\n",
      "\u001b[1;31mKeyError\u001b[0m                                  Traceback (most recent call last)",
      "Cell \u001b[1;32mIn[25], line 1\u001b[0m\n\u001b[1;32m----> 1\u001b[0m \u001b[43ms\u001b[49m\u001b[43m[\u001b[49m\u001b[38;5;241;43m0\u001b[39;49m\u001b[43m]\u001b[49m \u001b[38;5;66;03m# as 0 is not present in the explicit index\u001b[39;00m\n",
      "File \u001b[1;32m~\\AppData\\Local\\Programs\\Python\\Python311\\Lib\\site-packages\\pandas\\core\\series.py:1040\u001b[0m, in \u001b[0;36mSeries.__getitem__\u001b[1;34m(self, key)\u001b[0m\n\u001b[0;32m   1037\u001b[0m     \u001b[38;5;28;01mreturn\u001b[39;00m \u001b[38;5;28mself\u001b[39m\u001b[38;5;241m.\u001b[39m_values[key]\n\u001b[0;32m   1039\u001b[0m \u001b[38;5;28;01melif\u001b[39;00m key_is_scalar:\n\u001b[1;32m-> 1040\u001b[0m     \u001b[38;5;28;01mreturn\u001b[39;00m \u001b[38;5;28;43mself\u001b[39;49m\u001b[38;5;241;43m.\u001b[39;49m\u001b[43m_get_value\u001b[49m\u001b[43m(\u001b[49m\u001b[43mkey\u001b[49m\u001b[43m)\u001b[49m\n\u001b[0;32m   1042\u001b[0m \u001b[38;5;66;03m# Convert generator to list before going through hashable part\u001b[39;00m\n\u001b[0;32m   1043\u001b[0m \u001b[38;5;66;03m# (We will iterate through the generator there to check for slices)\u001b[39;00m\n\u001b[0;32m   1044\u001b[0m \u001b[38;5;28;01mif\u001b[39;00m is_iterator(key):\n",
      "File \u001b[1;32m~\\AppData\\Local\\Programs\\Python\\Python311\\Lib\\site-packages\\pandas\\core\\series.py:1156\u001b[0m, in \u001b[0;36mSeries._get_value\u001b[1;34m(self, label, takeable)\u001b[0m\n\u001b[0;32m   1153\u001b[0m     \u001b[38;5;28;01mreturn\u001b[39;00m \u001b[38;5;28mself\u001b[39m\u001b[38;5;241m.\u001b[39m_values[label]\n\u001b[0;32m   1155\u001b[0m \u001b[38;5;66;03m# Similar to Index.get_value, but we do not fall back to positional\u001b[39;00m\n\u001b[1;32m-> 1156\u001b[0m loc \u001b[38;5;241m=\u001b[39m \u001b[38;5;28;43mself\u001b[39;49m\u001b[38;5;241;43m.\u001b[39;49m\u001b[43mindex\u001b[49m\u001b[38;5;241;43m.\u001b[39;49m\u001b[43mget_loc\u001b[49m\u001b[43m(\u001b[49m\u001b[43mlabel\u001b[49m\u001b[43m)\u001b[49m\n\u001b[0;32m   1158\u001b[0m \u001b[38;5;28;01mif\u001b[39;00m is_integer(loc):\n\u001b[0;32m   1159\u001b[0m     \u001b[38;5;28;01mreturn\u001b[39;00m \u001b[38;5;28mself\u001b[39m\u001b[38;5;241m.\u001b[39m_values[loc]\n",
      "File \u001b[1;32m~\\AppData\\Local\\Programs\\Python\\Python311\\Lib\\site-packages\\pandas\\core\\indexes\\base.py:3798\u001b[0m, in \u001b[0;36mIndex.get_loc\u001b[1;34m(self, key)\u001b[0m\n\u001b[0;32m   3793\u001b[0m     \u001b[38;5;28;01mif\u001b[39;00m \u001b[38;5;28misinstance\u001b[39m(casted_key, \u001b[38;5;28mslice\u001b[39m) \u001b[38;5;129;01mor\u001b[39;00m (\n\u001b[0;32m   3794\u001b[0m         \u001b[38;5;28misinstance\u001b[39m(casted_key, abc\u001b[38;5;241m.\u001b[39mIterable)\n\u001b[0;32m   3795\u001b[0m         \u001b[38;5;129;01mand\u001b[39;00m \u001b[38;5;28many\u001b[39m(\u001b[38;5;28misinstance\u001b[39m(x, \u001b[38;5;28mslice\u001b[39m) \u001b[38;5;28;01mfor\u001b[39;00m x \u001b[38;5;129;01min\u001b[39;00m casted_key)\n\u001b[0;32m   3796\u001b[0m     ):\n\u001b[0;32m   3797\u001b[0m         \u001b[38;5;28;01mraise\u001b[39;00m InvalidIndexError(key)\n\u001b[1;32m-> 3798\u001b[0m     \u001b[38;5;28;01mraise\u001b[39;00m \u001b[38;5;167;01mKeyError\u001b[39;00m(key) \u001b[38;5;28;01mfrom\u001b[39;00m \u001b[38;5;21;01merr\u001b[39;00m\n\u001b[0;32m   3799\u001b[0m \u001b[38;5;28;01mexcept\u001b[39;00m \u001b[38;5;167;01mTypeError\u001b[39;00m:\n\u001b[0;32m   3800\u001b[0m     \u001b[38;5;66;03m# If we have a listlike key, _check_indexing_error will raise\u001b[39;00m\n\u001b[0;32m   3801\u001b[0m     \u001b[38;5;66;03m#  InvalidIndexError. Otherwise we fall through and re-raise\u001b[39;00m\n\u001b[0;32m   3802\u001b[0m     \u001b[38;5;66;03m#  the TypeError.\u001b[39;00m\n\u001b[0;32m   3803\u001b[0m     \u001b[38;5;28mself\u001b[39m\u001b[38;5;241m.\u001b[39m_check_indexing_error(key)\n",
      "\u001b[1;31mKeyError\u001b[0m: 0"
     ]
    }
   ],
   "source": [
    "s[0] # as 0 is not present in the explicit index"
   ]
  },
  {
   "cell_type": "code",
   "execution_count": 26,
   "id": "b24670d0",
   "metadata": {},
   "outputs": [
    {
     "data": {
      "text/plain": [
       "'a'"
      ]
     },
     "execution_count": 26,
     "metadata": {},
     "output_type": "execute_result"
    }
   ],
   "source": [
    "s[10]"
   ]
  },
  {
   "cell_type": "code",
   "execution_count": 27,
   "id": "bf901acd",
   "metadata": {},
   "outputs": [
    {
     "data": {
      "text/plain": [
       "10    a\n",
       "20    b\n",
       "30    c\n",
       "40    d\n",
       "50    e\n",
       "dtype: object"
      ]
     },
     "execution_count": 27,
     "metadata": {},
     "output_type": "execute_result"
    }
   ],
   "source": [
    "s[0:5] # while slicing it uses the implicit indexing and not explicit indexing."
   ]
  },
  {
   "cell_type": "code",
   "execution_count": 28,
   "id": "fbde7637",
   "metadata": {},
   "outputs": [
    {
     "data": {
      "text/plain": [
       "Series([], dtype: object)"
      ]
     },
     "execution_count": 28,
     "metadata": {},
     "output_type": "execute_result"
    }
   ],
   "source": [
    "s[10:50] # as when we use numerical index as explicit index, then while slicing it uses the implicit indexing"
   ]
  },
  {
   "cell_type": "markdown",
   "id": "48beb644",
   "metadata": {},
   "source": [
    "# iloc and loc properties"
   ]
  },
  {
   "cell_type": "code",
   "execution_count": 29,
   "id": "5f77ce52",
   "metadata": {},
   "outputs": [
    {
     "data": {
      "text/plain": [
       "10     a\n",
       "20     b\n",
       "30     c\n",
       "40     d\n",
       "50     e\n",
       "60     f\n",
       "70     g\n",
       "80     h\n",
       "90     i\n",
       "100    j\n",
       "dtype: object"
      ]
     },
     "execution_count": 29,
     "metadata": {},
     "output_type": "execute_result"
    }
   ],
   "source": [
    "s"
   ]
  },
  {
   "cell_type": "code",
   "execution_count": 30,
   "id": "b6e0d099",
   "metadata": {},
   "outputs": [
    {
     "data": {
      "text/plain": [
       "'a'"
      ]
     },
     "execution_count": 30,
     "metadata": {},
     "output_type": "execute_result"
    }
   ],
   "source": [
    "s.iloc[0]"
   ]
  },
  {
   "cell_type": "code",
   "execution_count": 31,
   "id": "cc523be3",
   "metadata": {},
   "outputs": [
    {
     "data": {
      "text/plain": [
       "10    a\n",
       "20    b\n",
       "30    c\n",
       "40    d\n",
       "50    e\n",
       "60    f\n",
       "dtype: object"
      ]
     },
     "execution_count": 31,
     "metadata": {},
     "output_type": "execute_result"
    }
   ],
   "source": [
    "s.iloc[0:6]"
   ]
  },
  {
   "cell_type": "code",
   "execution_count": 32,
   "id": "aa9afc9d",
   "metadata": {},
   "outputs": [
    {
     "data": {
      "text/plain": [
       "'a'"
      ]
     },
     "execution_count": 32,
     "metadata": {},
     "output_type": "execute_result"
    }
   ],
   "source": [
    "s.loc[10]"
   ]
  },
  {
   "cell_type": "code",
   "execution_count": 33,
   "id": "6f32c639",
   "metadata": {},
   "outputs": [
    {
     "data": {
      "text/plain": [
       "10    a\n",
       "20    b\n",
       "30    c\n",
       "40    d\n",
       "50    e\n",
       "dtype: object"
      ]
     },
     "execution_count": 33,
     "metadata": {},
     "output_type": "execute_result"
    }
   ],
   "source": [
    "s.loc[10:50]"
   ]
  },
  {
   "cell_type": "markdown",
   "id": "7b7d3e97",
   "metadata": {},
   "source": [
    "# Intro to Series Methods"
   ]
  },
  {
   "cell_type": "code",
   "execution_count": 37,
   "id": "751f7bc0",
   "metadata": {},
   "outputs": [
    {
     "data": {
      "text/plain": [
       "0    2.99\n",
       "1    4.45\n",
       "2    1.36\n",
       "dtype: float64"
      ]
     },
     "execution_count": 37,
     "metadata": {},
     "output_type": "execute_result"
    }
   ],
   "source": [
    "prices = pd.Series([2.99, 4.45, 1.36])\n",
    "prices"
   ]
  },
  {
   "cell_type": "code",
   "execution_count": 38,
   "id": "088e7b08",
   "metadata": {},
   "outputs": [
    {
     "name": "stdout",
     "output_type": "stream",
     "text": [
      "8.8\n",
      "2.9333333333333336\n",
      "18.095480000000006\n",
      "1.5457791994115246\n"
     ]
    }
   ],
   "source": [
    "print(prices.sum())\n",
    "print(prices.mean())\n",
    "print(prices.product())\n",
    "print(prices.std())"
   ]
  },
  {
   "cell_type": "markdown",
   "id": "f4c268dd",
   "metadata": {},
   "source": [
    "# Intro to Attributes\n",
    "    An attribute is a piece of data that lives on an object.\n",
    "    An attribute is a fact, a detail, a characteristic of the object.\n",
    "    Access an attribute with object.attribute syntax."
   ]
  },
  {
   "cell_type": "code",
   "execution_count": 39,
   "id": "b8dda7ee",
   "metadata": {},
   "outputs": [
    {
     "data": {
      "text/plain": [
       "0        Smart\n",
       "1     Handsome\n",
       "2     Charming\n",
       "3    Brilliant\n",
       "4       Humble\n",
       "5        Smart\n",
       "dtype: object"
      ]
     },
     "execution_count": 39,
     "metadata": {},
     "output_type": "execute_result"
    }
   ],
   "source": [
    "adjectives = pd.Series(['Smart', 'Handsome', 'Charming', 'Brilliant', 'Humble', 'Smart'])\n",
    "adjectives"
   ]
  },
  {
   "cell_type": "code",
   "execution_count": 40,
   "id": "27624728",
   "metadata": {},
   "outputs": [
    {
     "data": {
      "text/plain": [
       "6"
      ]
     },
     "execution_count": 40,
     "metadata": {},
     "output_type": "execute_result"
    }
   ],
   "source": [
    "adjectives.size"
   ]
  },
  {
   "cell_type": "code",
   "execution_count": 41,
   "id": "d2e12641",
   "metadata": {},
   "outputs": [
    {
     "data": {
      "text/plain": [
       "False"
      ]
     },
     "execution_count": 41,
     "metadata": {},
     "output_type": "execute_result"
    }
   ],
   "source": [
    "adjectives.is_unique"
   ]
  },
  {
   "cell_type": "markdown",
   "id": "88c0a5a1",
   "metadata": {},
   "source": [
    " # Import series with pd.read_csv().squeeze() method"
   ]
  },
  {
   "cell_type": "markdown",
   "id": "c542f260",
   "metadata": {},
   "source": [
    "    A CSV is a plain text file that uses line breaks to seperate rows and commas to seperate row values.\n",
    "    Pandas ships with many different read_ functions for different types of files.\n",
    "    The read_csv() function accepts many different paramters. The first one specifies the file name/path.\n",
    "    The read_csv() function will import the dataset as a Dataframe, a 2-dimensional table.\n",
    "    The usecols parameter accepts a list of the columns to import.\n",
    "    The squeeze method converts a DataFrame to Series."
   ]
  },
  {
   "cell_type": "code",
   "execution_count": 42,
   "id": "1012c34c",
   "metadata": {},
   "outputs": [
    {
     "data": {
      "text/html": [
       "<div>\n",
       "<style scoped>\n",
       "    .dataframe tbody tr th:only-of-type {\n",
       "        vertical-align: middle;\n",
       "    }\n",
       "\n",
       "    .dataframe tbody tr th {\n",
       "        vertical-align: top;\n",
       "    }\n",
       "\n",
       "    .dataframe thead th {\n",
       "        text-align: right;\n",
       "    }\n",
       "</style>\n",
       "<table border=\"1\" class=\"dataframe\">\n",
       "  <thead>\n",
       "    <tr style=\"text-align: right;\">\n",
       "      <th></th>\n",
       "      <th>Name</th>\n",
       "      <th>Type</th>\n",
       "    </tr>\n",
       "  </thead>\n",
       "  <tbody>\n",
       "    <tr>\n",
       "      <th>0</th>\n",
       "      <td>Bulbasaur</td>\n",
       "      <td>Grass, Poison</td>\n",
       "    </tr>\n",
       "    <tr>\n",
       "      <th>1</th>\n",
       "      <td>Ivysaur</td>\n",
       "      <td>Grass, Poison</td>\n",
       "    </tr>\n",
       "    <tr>\n",
       "      <th>2</th>\n",
       "      <td>Venusaur</td>\n",
       "      <td>Grass, Poison</td>\n",
       "    </tr>\n",
       "    <tr>\n",
       "      <th>3</th>\n",
       "      <td>Charmander</td>\n",
       "      <td>Fire</td>\n",
       "    </tr>\n",
       "    <tr>\n",
       "      <th>4</th>\n",
       "      <td>Charmeleon</td>\n",
       "      <td>Fire</td>\n",
       "    </tr>\n",
       "    <tr>\n",
       "      <th>...</th>\n",
       "      <td>...</td>\n",
       "      <td>...</td>\n",
       "    </tr>\n",
       "    <tr>\n",
       "      <th>1005</th>\n",
       "      <td>Iron Valiant</td>\n",
       "      <td>Fairy, Fighting</td>\n",
       "    </tr>\n",
       "    <tr>\n",
       "      <th>1006</th>\n",
       "      <td>Koraidon</td>\n",
       "      <td>Fighting, Dragon</td>\n",
       "    </tr>\n",
       "    <tr>\n",
       "      <th>1007</th>\n",
       "      <td>Miraidon</td>\n",
       "      <td>Electric, Dragon</td>\n",
       "    </tr>\n",
       "    <tr>\n",
       "      <th>1008</th>\n",
       "      <td>Walking Wake</td>\n",
       "      <td>Water, Dragon</td>\n",
       "    </tr>\n",
       "    <tr>\n",
       "      <th>1009</th>\n",
       "      <td>Iron Leaves</td>\n",
       "      <td>Grass, Psychic</td>\n",
       "    </tr>\n",
       "  </tbody>\n",
       "</table>\n",
       "<p>1010 rows × 2 columns</p>\n",
       "</div>"
      ],
      "text/plain": [
       "              Name              Type\n",
       "0        Bulbasaur     Grass, Poison\n",
       "1          Ivysaur     Grass, Poison\n",
       "2         Venusaur     Grass, Poison\n",
       "3       Charmander              Fire\n",
       "4       Charmeleon              Fire\n",
       "...            ...               ...\n",
       "1005  Iron Valiant   Fairy, Fighting\n",
       "1006      Koraidon  Fighting, Dragon\n",
       "1007      Miraidon  Electric, Dragon\n",
       "1008  Walking Wake     Water, Dragon\n",
       "1009   Iron Leaves    Grass, Psychic\n",
       "\n",
       "[1010 rows x 2 columns]"
      ]
     },
     "execution_count": 42,
     "metadata": {},
     "output_type": "execute_result"
    }
   ],
   "source": [
    "pokemon = pd.read_csv('datasets/pokemon.csv')\n",
    "pokemon"
   ]
  },
  {
   "cell_type": "code",
   "execution_count": 43,
   "id": "ebf977c8",
   "metadata": {},
   "outputs": [
    {
     "data": {
      "text/html": [
       "<div>\n",
       "<style scoped>\n",
       "    .dataframe tbody tr th:only-of-type {\n",
       "        vertical-align: middle;\n",
       "    }\n",
       "\n",
       "    .dataframe tbody tr th {\n",
       "        vertical-align: top;\n",
       "    }\n",
       "\n",
       "    .dataframe thead th {\n",
       "        text-align: right;\n",
       "    }\n",
       "</style>\n",
       "<table border=\"1\" class=\"dataframe\">\n",
       "  <thead>\n",
       "    <tr style=\"text-align: right;\">\n",
       "      <th></th>\n",
       "      <th>Name</th>\n",
       "    </tr>\n",
       "  </thead>\n",
       "  <tbody>\n",
       "    <tr>\n",
       "      <th>0</th>\n",
       "      <td>Bulbasaur</td>\n",
       "    </tr>\n",
       "    <tr>\n",
       "      <th>1</th>\n",
       "      <td>Ivysaur</td>\n",
       "    </tr>\n",
       "    <tr>\n",
       "      <th>2</th>\n",
       "      <td>Venusaur</td>\n",
       "    </tr>\n",
       "    <tr>\n",
       "      <th>3</th>\n",
       "      <td>Charmander</td>\n",
       "    </tr>\n",
       "    <tr>\n",
       "      <th>4</th>\n",
       "      <td>Charmeleon</td>\n",
       "    </tr>\n",
       "    <tr>\n",
       "      <th>...</th>\n",
       "      <td>...</td>\n",
       "    </tr>\n",
       "    <tr>\n",
       "      <th>1005</th>\n",
       "      <td>Iron Valiant</td>\n",
       "    </tr>\n",
       "    <tr>\n",
       "      <th>1006</th>\n",
       "      <td>Koraidon</td>\n",
       "    </tr>\n",
       "    <tr>\n",
       "      <th>1007</th>\n",
       "      <td>Miraidon</td>\n",
       "    </tr>\n",
       "    <tr>\n",
       "      <th>1008</th>\n",
       "      <td>Walking Wake</td>\n",
       "    </tr>\n",
       "    <tr>\n",
       "      <th>1009</th>\n",
       "      <td>Iron Leaves</td>\n",
       "    </tr>\n",
       "  </tbody>\n",
       "</table>\n",
       "<p>1010 rows × 1 columns</p>\n",
       "</div>"
      ],
      "text/plain": [
       "              Name\n",
       "0        Bulbasaur\n",
       "1          Ivysaur\n",
       "2         Venusaur\n",
       "3       Charmander\n",
       "4       Charmeleon\n",
       "...            ...\n",
       "1005  Iron Valiant\n",
       "1006      Koraidon\n",
       "1007      Miraidon\n",
       "1008  Walking Wake\n",
       "1009   Iron Leaves\n",
       "\n",
       "[1010 rows x 1 columns]"
      ]
     },
     "execution_count": 43,
     "metadata": {},
     "output_type": "execute_result"
    }
   ],
   "source": [
    "pokemon = pd.read_csv('datasets/pokemon.csv', usecols=['Name'])\n",
    "pokemon"
   ]
  },
  {
   "cell_type": "code",
   "execution_count": 44,
   "id": "c5b459e7",
   "metadata": {},
   "outputs": [
    {
     "data": {
      "text/plain": [
       "0          Bulbasaur\n",
       "1            Ivysaur\n",
       "2           Venusaur\n",
       "3         Charmander\n",
       "4         Charmeleon\n",
       "            ...     \n",
       "1005    Iron Valiant\n",
       "1006        Koraidon\n",
       "1007        Miraidon\n",
       "1008    Walking Wake\n",
       "1009     Iron Leaves\n",
       "Name: Name, Length: 1010, dtype: object"
      ]
     },
     "execution_count": 44,
     "metadata": {},
     "output_type": "execute_result"
    }
   ],
   "source": [
    "pokemon = pd.read_csv('datasets/pokemon.csv', usecols=['Name']).squeeze()\n",
    "pokemon"
   ]
  },
  {
   "cell_type": "markdown",
   "id": "3c7b1d34",
   "metadata": {},
   "source": [
    "# head and tail method"
   ]
  },
  {
   "cell_type": "code",
   "execution_count": 46,
   "id": "8785b609",
   "metadata": {},
   "outputs": [
    {
     "data": {
      "text/plain": [
       "0          Bulbasaur\n",
       "1            Ivysaur\n",
       "2           Venusaur\n",
       "3         Charmander\n",
       "4         Charmeleon\n",
       "            ...     \n",
       "1005    Iron Valiant\n",
       "1006        Koraidon\n",
       "1007        Miraidon\n",
       "1008    Walking Wake\n",
       "1009     Iron Leaves\n",
       "Name: Name, Length: 1010, dtype: object"
      ]
     },
     "execution_count": 46,
     "metadata": {},
     "output_type": "execute_result"
    }
   ],
   "source": [
    "pokemon = pd.read_csv('datasets/pokemon.csv', usecols=['Name']).squeeze()\n",
    "pokemon"
   ]
  },
  {
   "cell_type": "code",
   "execution_count": 47,
   "id": "ef151ed5",
   "metadata": {},
   "outputs": [
    {
     "data": {
      "text/plain": [
       "0     Bulbasaur\n",
       "1       Ivysaur\n",
       "2      Venusaur\n",
       "3    Charmander\n",
       "4    Charmeleon\n",
       "Name: Name, dtype: object"
      ]
     },
     "execution_count": 47,
     "metadata": {},
     "output_type": "execute_result"
    }
   ],
   "source": [
    "first_five_pokemons = pokemon.head()\n",
    "first_five_pokemons"
   ]
  },
  {
   "cell_type": "markdown",
   "id": "1794b595",
   "metadata": {},
   "source": [
    "    The head and tail methods create a view and not a copy."
   ]
  },
  {
   "cell_type": "code",
   "execution_count": 48,
   "id": "59987dc3",
   "metadata": {},
   "outputs": [
    {
     "data": {
      "text/plain": [
       "0     Bulbasaur\n",
       "1     Alphasaur\n",
       "2      Venusaur\n",
       "3    Charmander\n",
       "4    Charmeleon\n",
       "Name: Name, dtype: object"
      ]
     },
     "execution_count": 48,
     "metadata": {},
     "output_type": "execute_result"
    }
   ],
   "source": [
    "first_five_pokemons.iloc[1] = 'Alphasaur'\n",
    "first_five_pokemons"
   ]
  },
  {
   "cell_type": "code",
   "execution_count": 51,
   "id": "4caab22a",
   "metadata": {},
   "outputs": [
    {
     "data": {
      "text/plain": [
       "0          Bulbasaur\n",
       "1          Alphasaur\n",
       "2           Venusaur\n",
       "3         Charmander\n",
       "4         Charmeleon\n",
       "            ...     \n",
       "1005    Iron Valiant\n",
       "1006        Koraidon\n",
       "1007        Miraidon\n",
       "1008    Walking Wake\n",
       "1009     Iron Leaves\n",
       "Name: Name, Length: 1010, dtype: object"
      ]
     },
     "execution_count": 51,
     "metadata": {},
     "output_type": "execute_result"
    }
   ],
   "source": [
    "pokemon \n",
    "# Note that changing the head also changed the \n",
    "# original dataframe(series)."
   ]
  },
  {
   "cell_type": "code",
   "execution_count": 52,
   "id": "ef328ebe",
   "metadata": {},
   "outputs": [
    {
     "data": {
      "text/plain": [
       "0     Bulbasaur\n",
       "1     Alphasaur\n",
       "2      Venusaur\n",
       "3    Charmander\n",
       "4    Charmeleon\n",
       "5     Charizard\n",
       "6      Squirtle\n",
       "7     Wartortle\n",
       "8     Blastoise\n",
       "9      Caterpie\n",
       "Name: Name, dtype: object"
      ]
     },
     "execution_count": 52,
     "metadata": {},
     "output_type": "execute_result"
    }
   ],
   "source": [
    "pokemon.head(10)"
   ]
  },
  {
   "cell_type": "code",
   "execution_count": 53,
   "id": "854439bf",
   "metadata": {},
   "outputs": [
    {
     "data": {
      "text/plain": [
       "1005    Iron Valiant\n",
       "1006        Koraidon\n",
       "1007        Miraidon\n",
       "1008    Walking Wake\n",
       "1009     Iron Leaves\n",
       "Name: Name, dtype: object"
      ]
     },
     "execution_count": 53,
     "metadata": {},
     "output_type": "execute_result"
    }
   ],
   "source": [
    "pokemon.tail()"
   ]
  },
  {
   "cell_type": "code",
   "execution_count": 54,
   "id": "d8490263",
   "metadata": {},
   "outputs": [
    {
     "data": {
      "text/plain": [
       "1000        Wo-Chien\n",
       "1001       Chien-Pao\n",
       "1002         Ting-Lu\n",
       "1003          Chi-Yu\n",
       "1004    Roaring Moon\n",
       "1005    Iron Valiant\n",
       "1006        Koraidon\n",
       "1007        Miraidon\n",
       "1008    Walking Wake\n",
       "1009     Iron Leaves\n",
       "Name: Name, dtype: object"
      ]
     },
     "execution_count": 54,
     "metadata": {},
     "output_type": "execute_result"
    }
   ],
   "source": [
    "pokemon.tail(10)"
   ]
  },
  {
   "cell_type": "markdown",
   "id": "d36e4cae",
   "metadata": {},
   "source": [
    "# Passing series to python built-in functions"
   ]
  },
  {
   "cell_type": "code",
   "execution_count": 58,
   "id": "9840a208",
   "metadata": {},
   "outputs": [
    {
     "data": {
      "text/plain": [
       "0          Bulbasaur\n",
       "1            Ivysaur\n",
       "2           Venusaur\n",
       "3         Charmander\n",
       "4         Charmeleon\n",
       "            ...     \n",
       "1005    Iron Valiant\n",
       "1006        Koraidon\n",
       "1007        Miraidon\n",
       "1008    Walking Wake\n",
       "1009     Iron Leaves\n",
       "Name: Name, Length: 1010, dtype: object"
      ]
     },
     "execution_count": 58,
     "metadata": {},
     "output_type": "execute_result"
    }
   ],
   "source": [
    "pokemon = pd.read_csv('datasets/pokemon.csv', usecols = [0]).squeeze('columns')\n",
    "pokemon"
   ]
  },
  {
   "cell_type": "code",
   "execution_count": 59,
   "id": "d6aa575b",
   "metadata": {},
   "outputs": [
    {
     "data": {
      "text/plain": [
       "1010"
      ]
     },
     "execution_count": 59,
     "metadata": {},
     "output_type": "execute_result"
    }
   ],
   "source": [
    "len(pokemon)"
   ]
  },
  {
   "cell_type": "code",
   "execution_count": 60,
   "id": "42686ecd",
   "metadata": {},
   "outputs": [
    {
     "data": {
      "text/plain": [
       "pandas.core.series.Series"
      ]
     },
     "execution_count": 60,
     "metadata": {},
     "output_type": "execute_result"
    }
   ],
   "source": [
    "type(pokemon)"
   ]
  },
  {
   "cell_type": "code",
   "execution_count": 63,
   "id": "b75f6c2c",
   "metadata": {},
   "outputs": [
    {
     "data": {
      "text/plain": [
       "['Bulbasaur', 'Ivysaur', 'Venusaur', 'Charmander', 'Charmeleon']"
      ]
     },
     "execution_count": 63,
     "metadata": {},
     "output_type": "execute_result"
    }
   ],
   "source": [
    "list(pokemon.head())"
   ]
  },
  {
   "cell_type": "code",
   "execution_count": 64,
   "id": "78225f3f",
   "metadata": {},
   "outputs": [
    {
     "data": {
      "text/plain": [
       "{0: 'Bulbasaur', 1: 'Ivysaur', 2: 'Venusaur', 3: 'Charmander', 4: 'Charmeleon'}"
      ]
     },
     "execution_count": 64,
     "metadata": {},
     "output_type": "execute_result"
    }
   ],
   "source": [
    "dict(pokemon.head())"
   ]
  },
  {
   "cell_type": "code",
   "execution_count": 65,
   "id": "f5bfc85d",
   "metadata": {},
   "outputs": [
    {
     "data": {
      "text/plain": [
       "['Bulbasaur', 'Charmander', 'Charmeleon', 'Ivysaur', 'Venusaur']"
      ]
     },
     "execution_count": 65,
     "metadata": {},
     "output_type": "execute_result"
    }
   ],
   "source": [
    "sorted(pokemon.head())"
   ]
  },
  {
   "cell_type": "code",
   "execution_count": 66,
   "id": "0149f501",
   "metadata": {},
   "outputs": [
    {
     "data": {
      "text/plain": [
       "'Zygarde'"
      ]
     },
     "execution_count": 66,
     "metadata": {},
     "output_type": "execute_result"
    }
   ],
   "source": [
    "max(pokemon)"
   ]
  },
  {
   "cell_type": "code",
   "execution_count": 67,
   "id": "ba71654e",
   "metadata": {},
   "outputs": [
    {
     "data": {
      "text/plain": [
       "'Abomasnow'"
      ]
     },
     "execution_count": 67,
     "metadata": {},
     "output_type": "execute_result"
    }
   ],
   "source": [
    "min(pokemon)"
   ]
  },
  {
   "cell_type": "markdown",
   "id": "2c3891da",
   "metadata": {},
   "source": [
    "# Inclusion in series\n",
    "    The inclusion is checked using the 'in' keyword. It checks in the index object of the series by default."
   ]
  },
  {
   "cell_type": "code",
   "execution_count": 70,
   "id": "a8a81379",
   "metadata": {},
   "outputs": [
    {
     "data": {
      "text/plain": [
       "0          Bulbasaur\n",
       "1            Ivysaur\n",
       "2           Venusaur\n",
       "3         Charmander\n",
       "4         Charmeleon\n",
       "            ...     \n",
       "1005    Iron Valiant\n",
       "1006        Koraidon\n",
       "1007        Miraidon\n",
       "1008    Walking Wake\n",
       "1009     Iron Leaves\n",
       "Name: Name, Length: 1010, dtype: object"
      ]
     },
     "execution_count": 70,
     "metadata": {},
     "output_type": "execute_result"
    }
   ],
   "source": [
    "pokemon = pd.read_csv('datasets/pokemon.csv', usecols = [0]).squeeze('columns')\n",
    "pokemon"
   ]
  },
  {
   "cell_type": "code",
   "execution_count": 71,
   "id": "291a85b6",
   "metadata": {},
   "outputs": [
    {
     "data": {
      "text/plain": [
       "False"
      ]
     },
     "execution_count": 71,
     "metadata": {},
     "output_type": "execute_result"
    }
   ],
   "source": [
    "'Bulbasaur' in pokemon # as it checks by default in index of the series"
   ]
  },
  {
   "cell_type": "code",
   "execution_count": 72,
   "id": "80c0cd98",
   "metadata": {},
   "outputs": [
    {
     "data": {
      "text/plain": [
       "True"
      ]
     },
     "execution_count": 72,
     "metadata": {},
     "output_type": "execute_result"
    }
   ],
   "source": [
    "1009 in pokemon"
   ]
  },
  {
   "cell_type": "code",
   "execution_count": 73,
   "id": "af189a40",
   "metadata": {},
   "outputs": [
    {
     "data": {
      "text/plain": [
       "True"
      ]
     },
     "execution_count": 73,
     "metadata": {},
     "output_type": "execute_result"
    }
   ],
   "source": [
    "'Bulbasaur' in pokemon.values"
   ]
  },
  {
   "cell_type": "code",
   "execution_count": 74,
   "id": "e02c3e50",
   "metadata": {},
   "outputs": [
    {
     "data": {
      "text/plain": [
       "False"
      ]
     },
     "execution_count": 74,
     "metadata": {},
     "output_type": "execute_result"
    }
   ],
   "source": [
    "'Koraidon' not in pokemon.values"
   ]
  },
  {
   "cell_type": "markdown",
   "id": "161fc807",
   "metadata": {},
   "source": [
    "# sort_values in series"
   ]
  },
  {
   "cell_type": "code",
   "execution_count": 75,
   "id": "0457e5f9",
   "metadata": {},
   "outputs": [],
   "source": [
    "pokemon = pd.read_csv('datasets/pokemon.csv', usecols = [0]).squeeze('columns')\n",
    "google = pd.read_csv('datasets/google_stock_price.csv', usecols = ['Price']).squeeze('columns')"
   ]
  },
  {
   "cell_type": "code",
   "execution_count": 76,
   "id": "40f05028",
   "metadata": {},
   "outputs": [
    {
     "data": {
      "text/plain": [
       "0         2.490664\n",
       "1         2.515820\n",
       "2         2.758411\n",
       "3         2.770615\n",
       "4         2.614201\n",
       "           ...    \n",
       "4788    132.080002\n",
       "4789    132.998001\n",
       "4790    135.570007\n",
       "4791    137.050003\n",
       "4792    138.429993\n",
       "Name: Price, Length: 4793, dtype: float64"
      ]
     },
     "execution_count": 76,
     "metadata": {},
     "output_type": "execute_result"
    }
   ],
   "source": [
    "google"
   ]
  },
  {
   "cell_type": "markdown",
   "id": "3625ebf8",
   "metadata": {},
   "source": [
    "    The sort_values method a series values in order.\n",
    "    By default, pandas applies an ascending sort(smallest to largest).\n",
    "    We can customize the sort order with the ascending parameter.\n",
    "    \n",
    "    This operation however does not modify the original series. It in fact returns us a new series."
   ]
  },
  {
   "cell_type": "code",
   "execution_count": 77,
   "id": "2c2aec00",
   "metadata": {},
   "outputs": [
    {
     "data": {
      "text/plain": [
       "10        2.470490\n",
       "0         2.490664\n",
       "13        2.509095\n",
       "11        2.514326\n",
       "1         2.515820\n",
       "           ...    \n",
       "4341    150.000000\n",
       "4336    150.000000\n",
       "4346    150.141754\n",
       "4345    151.000000\n",
       "4395    151.863495\n",
       "Name: Price, Length: 4793, dtype: float64"
      ]
     },
     "execution_count": 77,
     "metadata": {},
     "output_type": "execute_result"
    }
   ],
   "source": [
    "google.sort_values()"
   ]
  },
  {
   "cell_type": "code",
   "execution_count": 83,
   "id": "6d9e7f6b",
   "metadata": {},
   "outputs": [
    {
     "data": {
      "text/plain": [
       "717     Zygarde\n",
       "633    Zweilous\n",
       "40        Zubat\n",
       "Name: Name, dtype: object"
      ]
     },
     "execution_count": 83,
     "metadata": {},
     "output_type": "execute_result"
    }
   ],
   "source": [
    "pokemon.sort_values(ascending=False).head(3)"
   ]
  },
  {
   "cell_type": "markdown",
   "id": "f4090b0f",
   "metadata": {},
   "source": [
    "# sort_index() method"
   ]
  },
  {
   "cell_type": "code",
   "execution_count": 84,
   "id": "5ddbcbd7",
   "metadata": {},
   "outputs": [
    {
     "data": {
      "text/plain": [
       "0          Bulbasaur\n",
       "1            Ivysaur\n",
       "2           Venusaur\n",
       "3         Charmander\n",
       "4         Charmeleon\n",
       "            ...     \n",
       "1005    Iron Valiant\n",
       "1006        Koraidon\n",
       "1007        Miraidon\n",
       "1008    Walking Wake\n",
       "1009     Iron Leaves\n",
       "Name: Name, Length: 1010, dtype: object"
      ]
     },
     "execution_count": 84,
     "metadata": {},
     "output_type": "execute_result"
    }
   ],
   "source": [
    "pokemon = pd.read_csv('datasets/pokemon.csv', usecols = [0])\n",
    "pokemon"
   ]
  },
  {
   "cell_type": "code",
   "execution_count": 85,
   "id": "b9fbf6ea",
   "metadata": {},
   "outputs": [],
   "source": [
    "sorted_desc_pokemon = pokemon.sort_values(ascending = False)"
   ]
  },
  {
   "cell_type": "code",
   "execution_count": 86,
   "id": "352a5e55",
   "metadata": {},
   "outputs": [
    {
     "data": {
      "text/plain": [
       "717      Zygarde\n",
       "633     Zweilous\n",
       "40         Zubat\n",
       "569        Zorua\n",
       "570      Zoroark\n",
       "         ...    \n",
       "680    Aegislash\n",
       "616     Accelgor\n",
       "358        Absol\n",
       "62          Abra\n",
       "459    Abomasnow\n",
       "Name: Name, Length: 1010, dtype: object"
      ]
     },
     "execution_count": 86,
     "metadata": {},
     "output_type": "execute_result"
    }
   ],
   "source": [
    "sorted_desc_pokemon"
   ]
  },
  {
   "cell_type": "code",
   "execution_count": 88,
   "id": "85fd8975",
   "metadata": {},
   "outputs": [],
   "source": [
    "original_pokemon = sorted_desc_pokemon.sort_index()"
   ]
  },
  {
   "cell_type": "code",
   "execution_count": 90,
   "id": "81078705",
   "metadata": {},
   "outputs": [
    {
     "data": {
      "text/plain": [
       "0          Bulbasaur\n",
       "1            Ivysaur\n",
       "2           Venusaur\n",
       "3         Charmander\n",
       "4         Charmeleon\n",
       "            ...     \n",
       "1005    Iron Valiant\n",
       "1006        Koraidon\n",
       "1007        Miraidon\n",
       "1008    Walking Wake\n",
       "1009     Iron Leaves\n",
       "Name: Name, Length: 1010, dtype: object"
      ]
     },
     "execution_count": 90,
     "metadata": {},
     "output_type": "execute_result"
    }
   ],
   "source": [
    "original_pokemon"
   ]
  },
  {
   "cell_type": "markdown",
   "id": "68addda0",
   "metadata": {},
   "source": [
    "#### Example 2"
   ]
  },
  {
   "cell_type": "code",
   "execution_count": 92,
   "id": "a28b6c1d",
   "metadata": {},
   "outputs": [],
   "source": [
    "pokemon = pd.read_csv('datasets/pokemon.csv', index_col = 'Name').squeeze('columns')"
   ]
  },
  {
   "cell_type": "code",
   "execution_count": 93,
   "id": "8980165e",
   "metadata": {},
   "outputs": [
    {
     "data": {
      "text/plain": [
       "Name\n",
       "Bulbasaur          Grass, Poison\n",
       "Ivysaur            Grass, Poison\n",
       "Venusaur           Grass, Poison\n",
       "Charmander                  Fire\n",
       "Charmeleon                  Fire\n",
       "                      ...       \n",
       "Iron Valiant     Fairy, Fighting\n",
       "Koraidon        Fighting, Dragon\n",
       "Miraidon        Electric, Dragon\n",
       "Walking Wake       Water, Dragon\n",
       "Iron Leaves       Grass, Psychic\n",
       "Name: Type, Length: 1010, dtype: object"
      ]
     },
     "execution_count": 93,
     "metadata": {},
     "output_type": "execute_result"
    }
   ],
   "source": [
    "pokemon"
   ]
  },
  {
   "cell_type": "code",
   "execution_count": 94,
   "id": "8c6e8537",
   "metadata": {},
   "outputs": [
    {
     "data": {
      "text/plain": [
       "Name\n",
       "Abomasnow        Grass, Ice\n",
       "Abra                Psychic\n",
       "Absol                  Dark\n",
       "Accelgor                Bug\n",
       "Aegislash      Steel, Ghost\n",
       "                  ...      \n",
       "Zoroark                Dark\n",
       "Zorua                  Dark\n",
       "Zubat        Poison, Flying\n",
       "Zweilous       Dark, Dragon\n",
       "Zygarde      Dragon, Ground\n",
       "Name: Type, Length: 1010, dtype: object"
      ]
     },
     "execution_count": 94,
     "metadata": {},
     "output_type": "execute_result"
    }
   ],
   "source": [
    "pokemon.sort_index()"
   ]
  },
  {
   "cell_type": "markdown",
   "id": "f3a9f9b7",
   "metadata": {},
   "source": [
    "# get() method"
   ]
  },
  {
   "cell_type": "code",
   "execution_count": 97,
   "id": "ccabe50b",
   "metadata": {},
   "outputs": [
    {
     "data": {
      "text/plain": [
       "Name\n",
       "Bulbasaur          Grass, Poison\n",
       "Ivysaur            Grass, Poison\n",
       "Venusaur           Grass, Poison\n",
       "Charmander                  Fire\n",
       "Charmeleon                  Fire\n",
       "                      ...       \n",
       "Iron Valiant     Fairy, Fighting\n",
       "Koraidon        Fighting, Dragon\n",
       "Miraidon        Electric, Dragon\n",
       "Walking Wake       Water, Dragon\n",
       "Iron Leaves       Grass, Psychic\n",
       "Name: Type, Length: 1010, dtype: object"
      ]
     },
     "execution_count": 97,
     "metadata": {},
     "output_type": "execute_result"
    }
   ],
   "source": [
    "pokemon = pd.read_csv('datasets/pokemon.csv', index_col = 0).squeeze('columns')\n",
    "pokemon"
   ]
  },
  {
   "cell_type": "code",
   "execution_count": 98,
   "id": "63e3549a",
   "metadata": {},
   "outputs": [
    {
     "data": {
      "text/plain": [
       "'Grass, Poison'"
      ]
     },
     "execution_count": 98,
     "metadata": {},
     "output_type": "execute_result"
    }
   ],
   "source": [
    "pokemon.get('Bulbasaur')"
   ]
  },
  {
   "cell_type": "code",
   "execution_count": 99,
   "id": "76fb892c",
   "metadata": {},
   "outputs": [
    {
     "data": {
      "text/plain": [
       "'Fire'"
      ]
     },
     "execution_count": 99,
     "metadata": {},
     "output_type": "execute_result"
    }
   ],
   "source": [
    "pokemon.get('Charmander')"
   ]
  },
  {
   "cell_type": "code",
   "execution_count": 100,
   "id": "4fe16b7c",
   "metadata": {},
   "outputs": [
    {
     "data": {
      "text/plain": [
       "Name\n",
       "Charmeleon             Fire\n",
       "Bulbasaur     Grass, Poison\n",
       "Name: Type, dtype: object"
      ]
     },
     "execution_count": 100,
     "metadata": {},
     "output_type": "execute_result"
    }
   ],
   "source": [
    "pokemon.get(['Charmeleon', 'Bulbasaur'])"
   ]
  },
  {
   "cell_type": "markdown",
   "id": "9522ca56",
   "metadata": {},
   "source": [
    "#### If a value is not present then it returns None.\n",
    "#### However, we can also specify the default value to be returned when it does not find a value."
   ]
  },
  {
   "cell_type": "code",
   "execution_count": 101,
   "id": "7986aad3",
   "metadata": {},
   "outputs": [
    {
     "data": {
      "text/plain": [
       "'We cannot find Nonsense'"
      ]
     },
     "execution_count": 101,
     "metadata": {},
     "output_type": "execute_result"
    }
   ],
   "source": [
    "pokemon.get('Nonsense', default='We cannot find Nonsense')"
   ]
  },
  {
   "cell_type": "markdown",
   "id": "285a3fce",
   "metadata": {},
   "source": [
    "#### Even if one value is missing then also we get the default value."
   ]
  },
  {
   "cell_type": "code",
   "execution_count": 103,
   "id": "8a005902",
   "metadata": {},
   "outputs": [
    {
     "data": {
      "text/plain": [
       "'We could not find the value corresponding to one of the keys.'"
      ]
     },
     "execution_count": 103,
     "metadata": {},
     "output_type": "execute_result"
    }
   ],
   "source": [
    "pokemon.get(['Nonsense', 'Charmeleon'], \n",
    "            default = 'We could not find the value corresponding to one of the keys.')"
   ]
  },
  {
   "cell_type": "code",
   "execution_count": null,
   "id": "84511917",
   "metadata": {},
   "outputs": [],
   "source": []
  }
 ],
 "metadata": {
  "kernelspec": {
   "display_name": "Python 3 (ipykernel)",
   "language": "python",
   "name": "python3"
  },
  "language_info": {
   "codemirror_mode": {
    "name": "ipython",
    "version": 3
   },
   "file_extension": ".py",
   "mimetype": "text/x-python",
   "name": "python",
   "nbconvert_exporter": "python",
   "pygments_lexer": "ipython3",
   "version": "3.11.5"
  }
 },
 "nbformat": 4,
 "nbformat_minor": 5
}
