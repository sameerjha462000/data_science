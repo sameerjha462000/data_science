{
 "cells": [
  {
   "cell_type": "markdown",
   "id": "a7d8d55a",
   "metadata": {},
   "source": [
    "# DataFrame I"
   ]
  },
  {
   "cell_type": "code",
   "execution_count": 1,
   "id": "135106e9",
   "metadata": {},
   "outputs": [],
   "source": [
    "import numpy as np\n",
    "import pandas as pd"
   ]
  },
  {
   "cell_type": "code",
   "execution_count": 2,
   "id": "bc792a12",
   "metadata": {},
   "outputs": [
    {
     "data": {
      "text/plain": [
       "Name\n",
       "Bulbasaur          Grass, Poison\n",
       "Ivysaur            Grass, Poison\n",
       "Venusaur           Grass, Poison\n",
       "Charmander                  Fire\n",
       "Charmeleon                  Fire\n",
       "                      ...       \n",
       "Iron Valiant     Fairy, Fighting\n",
       "Koraidon        Fighting, Dragon\n",
       "Miraidon        Electric, Dragon\n",
       "Walking Wake       Water, Dragon\n",
       "Iron Leaves       Grass, Psychic\n",
       "Name: Type, Length: 1010, dtype: object"
      ]
     },
     "execution_count": 2,
     "metadata": {},
     "output_type": "execute_result"
    }
   ],
   "source": [
    "pokemons = pd.read_csv('datasets/pokemon.csv', index_col = [0]).squeeze(True)\n",
    "pokemons"
   ]
  },
  {
   "cell_type": "code",
   "execution_count": 3,
   "id": "2a045b09",
   "metadata": {},
   "outputs": [
    {
     "data": {
      "text/html": [
       "<div>\n",
       "<style scoped>\n",
       "    .dataframe tbody tr th:only-of-type {\n",
       "        vertical-align: middle;\n",
       "    }\n",
       "\n",
       "    .dataframe tbody tr th {\n",
       "        vertical-align: top;\n",
       "    }\n",
       "\n",
       "    .dataframe thead th {\n",
       "        text-align: right;\n",
       "    }\n",
       "</style>\n",
       "<table border=\"1\" class=\"dataframe\">\n",
       "  <thead>\n",
       "    <tr style=\"text-align: right;\">\n",
       "      <th></th>\n",
       "      <th>Name</th>\n",
       "      <th>Team</th>\n",
       "      <th>Position</th>\n",
       "      <th>Height</th>\n",
       "      <th>Weight</th>\n",
       "      <th>College</th>\n",
       "      <th>Salary</th>\n",
       "    </tr>\n",
       "  </thead>\n",
       "  <tbody>\n",
       "    <tr>\n",
       "      <th>0</th>\n",
       "      <td>Saddiq Bey</td>\n",
       "      <td>Atlanta Hawks</td>\n",
       "      <td>F</td>\n",
       "      <td>6-7</td>\n",
       "      <td>215.0</td>\n",
       "      <td>Villanova</td>\n",
       "      <td>4556983.0</td>\n",
       "    </tr>\n",
       "    <tr>\n",
       "      <th>1</th>\n",
       "      <td>Bogdan Bogdanovic</td>\n",
       "      <td>Atlanta Hawks</td>\n",
       "      <td>G</td>\n",
       "      <td>6-5</td>\n",
       "      <td>225.0</td>\n",
       "      <td>Fenerbahce</td>\n",
       "      <td>18700000.0</td>\n",
       "    </tr>\n",
       "    <tr>\n",
       "      <th>2</th>\n",
       "      <td>Kobe Bufkin</td>\n",
       "      <td>Atlanta Hawks</td>\n",
       "      <td>G</td>\n",
       "      <td>6-5</td>\n",
       "      <td>195.0</td>\n",
       "      <td>Michigan</td>\n",
       "      <td>4094244.0</td>\n",
       "    </tr>\n",
       "    <tr>\n",
       "      <th>3</th>\n",
       "      <td>Clint Capela</td>\n",
       "      <td>Atlanta Hawks</td>\n",
       "      <td>C</td>\n",
       "      <td>6-10</td>\n",
       "      <td>256.0</td>\n",
       "      <td>Elan Chalon</td>\n",
       "      <td>20616000.0</td>\n",
       "    </tr>\n",
       "    <tr>\n",
       "      <th>4</th>\n",
       "      <td>Bruno Fernando</td>\n",
       "      <td>Atlanta Hawks</td>\n",
       "      <td>F-C</td>\n",
       "      <td>6-10</td>\n",
       "      <td>240.0</td>\n",
       "      <td>Maryland</td>\n",
       "      <td>2581522.0</td>\n",
       "    </tr>\n",
       "    <tr>\n",
       "      <th>...</th>\n",
       "      <td>...</td>\n",
       "      <td>...</td>\n",
       "      <td>...</td>\n",
       "      <td>...</td>\n",
       "      <td>...</td>\n",
       "      <td>...</td>\n",
       "      <td>...</td>\n",
       "    </tr>\n",
       "    <tr>\n",
       "      <th>587</th>\n",
       "      <td>Ryan Rollins</td>\n",
       "      <td>Washington Wizards</td>\n",
       "      <td>G</td>\n",
       "      <td>6-3</td>\n",
       "      <td>180.0</td>\n",
       "      <td>Toledo</td>\n",
       "      <td>1719864.0</td>\n",
       "    </tr>\n",
       "    <tr>\n",
       "      <th>588</th>\n",
       "      <td>Landry Shamet</td>\n",
       "      <td>Washington Wizards</td>\n",
       "      <td>G</td>\n",
       "      <td>6-4</td>\n",
       "      <td>190.0</td>\n",
       "      <td>Wichita State</td>\n",
       "      <td>10250000.0</td>\n",
       "    </tr>\n",
       "    <tr>\n",
       "      <th>589</th>\n",
       "      <td>Tristan Vukcevic</td>\n",
       "      <td>Washington Wizards</td>\n",
       "      <td>F</td>\n",
       "      <td>6-10</td>\n",
       "      <td>220.0</td>\n",
       "      <td>Real Madrid</td>\n",
       "      <td>NaN</td>\n",
       "    </tr>\n",
       "    <tr>\n",
       "      <th>590</th>\n",
       "      <td>Delon Wright</td>\n",
       "      <td>Washington Wizards</td>\n",
       "      <td>G</td>\n",
       "      <td>6-5</td>\n",
       "      <td>185.0</td>\n",
       "      <td>Utah</td>\n",
       "      <td>8195122.0</td>\n",
       "    </tr>\n",
       "    <tr>\n",
       "      <th>591</th>\n",
       "      <td>NaN</td>\n",
       "      <td>NaN</td>\n",
       "      <td>NaN</td>\n",
       "      <td>NaN</td>\n",
       "      <td>NaN</td>\n",
       "      <td>NaN</td>\n",
       "      <td>NaN</td>\n",
       "    </tr>\n",
       "  </tbody>\n",
       "</table>\n",
       "<p>592 rows × 7 columns</p>\n",
       "</div>"
      ],
      "text/plain": [
       "                  Name                Team Position Height  Weight  \\\n",
       "0           Saddiq Bey       Atlanta Hawks        F    6-7   215.0   \n",
       "1    Bogdan Bogdanovic       Atlanta Hawks        G    6-5   225.0   \n",
       "2          Kobe Bufkin       Atlanta Hawks        G    6-5   195.0   \n",
       "3         Clint Capela       Atlanta Hawks        C   6-10   256.0   \n",
       "4       Bruno Fernando       Atlanta Hawks      F-C   6-10   240.0   \n",
       "..                 ...                 ...      ...    ...     ...   \n",
       "587       Ryan Rollins  Washington Wizards        G    6-3   180.0   \n",
       "588      Landry Shamet  Washington Wizards        G    6-4   190.0   \n",
       "589   Tristan Vukcevic  Washington Wizards        F   6-10   220.0   \n",
       "590       Delon Wright  Washington Wizards        G    6-5   185.0   \n",
       "591                NaN                 NaN      NaN    NaN     NaN   \n",
       "\n",
       "           College      Salary  \n",
       "0        Villanova   4556983.0  \n",
       "1       Fenerbahce  18700000.0  \n",
       "2         Michigan   4094244.0  \n",
       "3      Elan Chalon  20616000.0  \n",
       "4         Maryland   2581522.0  \n",
       "..             ...         ...  \n",
       "587         Toledo   1719864.0  \n",
       "588  Wichita State  10250000.0  \n",
       "589    Real Madrid         NaN  \n",
       "590           Utah   8195122.0  \n",
       "591            NaN         NaN  \n",
       "\n",
       "[592 rows x 7 columns]"
      ]
     },
     "execution_count": 3,
     "metadata": {},
     "output_type": "execute_result"
    }
   ],
   "source": [
    "nba = pd.read_csv('datasets/nba.csv')\n",
    "nba"
   ]
  },
  {
   "cell_type": "markdown",
   "id": "c57c96fa",
   "metadata": {},
   "source": [
    "#### some methds and attributes are common in series and dataframes."
   ]
  },
  {
   "cell_type": "code",
   "execution_count": 4,
   "id": "0833c7b3",
   "metadata": {},
   "outputs": [
    {
     "name": "stdout",
     "output_type": "stream",
     "text": [
      "(1010,)\n",
      "(592, 7)\n"
     ]
    }
   ],
   "source": [
    "print(pokemons.shape)\n",
    "print(nba.shape)"
   ]
  },
  {
   "cell_type": "code",
   "execution_count": 5,
   "id": "6b1839fc",
   "metadata": {},
   "outputs": [
    {
     "name": "stdout",
     "output_type": "stream",
     "text": [
      "1010\n",
      "4144\n"
     ]
    }
   ],
   "source": [
    "print(pokemons.size)\n",
    "print(nba.size)"
   ]
  },
  {
   "cell_type": "code",
   "execution_count": 6,
   "id": "c2019779",
   "metadata": {},
   "outputs": [
    {
     "name": "stdout",
     "output_type": "stream",
     "text": [
      "1\n",
      "2\n"
     ]
    }
   ],
   "source": [
    "print(pokemons.ndim)\n",
    "print(nba.ndim)"
   ]
  },
  {
   "cell_type": "code",
   "execution_count": 7,
   "id": "7158a1a6",
   "metadata": {},
   "outputs": [
    {
     "name": "stdout",
     "output_type": "stream",
     "text": [
      "object\n",
      "********************\n",
      "Name         object\n",
      "Team         object\n",
      "Position     object\n",
      "Height       object\n",
      "Weight      float64\n",
      "College      object\n",
      "Salary      float64\n",
      "dtype: object\n"
     ]
    }
   ],
   "source": [
    "print(pokemons.dtype)\n",
    "print('*' * 20)\n",
    "print(nba.dtypes) # Note that here we have 'dtypes'"
   ]
  },
  {
   "cell_type": "code",
   "execution_count": 8,
   "id": "83fc56a3",
   "metadata": {},
   "outputs": [
    {
     "name": "stdout",
     "output_type": "stream",
     "text": [
      "Index(['Bulbasaur', 'Ivysaur', 'Venusaur', 'Charmander', 'Charmeleon',\n",
      "       'Charizard', 'Squirtle', 'Wartortle', 'Blastoise', 'Caterpie',\n",
      "       ...\n",
      "       'Wo-Chien', 'Chien-Pao', 'Ting-Lu', 'Chi-Yu', 'Roaring Moon',\n",
      "       'Iron Valiant', 'Koraidon', 'Miraidon', 'Walking Wake', 'Iron Leaves'],\n",
      "      dtype='object', name='Name', length=1010)\n",
      "****************************************************************************************************\n",
      "RangeIndex(start=0, stop=592, step=1)\n"
     ]
    }
   ],
   "source": [
    "print(pokemons.index)\n",
    "print('*' * 100)\n",
    "print(nba.index)"
   ]
  },
  {
   "cell_type": "markdown",
   "id": "03b139ba",
   "metadata": {},
   "source": [
    "#### some attributes are present only in dataframes"
   ]
  },
  {
   "cell_type": "code",
   "execution_count": 9,
   "id": "5b9948ed",
   "metadata": {},
   "outputs": [
    {
     "name": "stdout",
     "output_type": "stream",
     "text": [
      "'Series' object has no attribute 'columns'\n"
     ]
    }
   ],
   "source": [
    "try:\n",
    "    pokemons.columns\n",
    "except AttributeError as ex:\n",
    "    print(ex)"
   ]
  },
  {
   "cell_type": "code",
   "execution_count": 10,
   "id": "01d910a1",
   "metadata": {},
   "outputs": [
    {
     "data": {
      "text/plain": [
       "Index(['Name', 'Team', 'Position', 'Height', 'Weight', 'College', 'Salary'], dtype='object')"
      ]
     },
     "execution_count": 10,
     "metadata": {},
     "output_type": "execute_result"
    }
   ],
   "source": [
    "# pokemons.columns # error\n",
    "nba.columns"
   ]
  },
  {
   "cell_type": "markdown",
   "id": "df2214f6",
   "metadata": {},
   "source": [
    "#### some attributes are present only in series."
   ]
  },
  {
   "cell_type": "code",
   "execution_count": 11,
   "id": "fcc2a501",
   "metadata": {},
   "outputs": [
    {
     "data": {
      "text/plain": [
       "False"
      ]
     },
     "execution_count": 11,
     "metadata": {},
     "output_type": "execute_result"
    }
   ],
   "source": [
    "pokemons.hasnans"
   ]
  },
  {
   "cell_type": "code",
   "execution_count": 12,
   "id": "c4dee421",
   "metadata": {},
   "outputs": [
    {
     "name": "stdout",
     "output_type": "stream",
     "text": [
      "'DataFrame' object has no attribute 'hasnans'\n"
     ]
    }
   ],
   "source": [
    "try:\n",
    "    nba.hasnans\n",
    "except AttributeError as ex:\n",
    "    print(ex)"
   ]
  },
  {
   "cell_type": "markdown",
   "id": "3ea3a384",
   "metadata": {},
   "source": [
    "### Then we have some methods which are same in series and dataframes."
   ]
  },
  {
   "cell_type": "code",
   "execution_count": 13,
   "id": "d5dedb0d",
   "metadata": {},
   "outputs": [
    {
     "data": {
      "text/html": [
       "<div>\n",
       "<style scoped>\n",
       "    .dataframe tbody tr th:only-of-type {\n",
       "        vertical-align: middle;\n",
       "    }\n",
       "\n",
       "    .dataframe tbody tr th {\n",
       "        vertical-align: top;\n",
       "    }\n",
       "\n",
       "    .dataframe thead th {\n",
       "        text-align: right;\n",
       "    }\n",
       "</style>\n",
       "<table border=\"1\" class=\"dataframe\">\n",
       "  <thead>\n",
       "    <tr style=\"text-align: right;\">\n",
       "      <th></th>\n",
       "      <th>Name</th>\n",
       "      <th>Team</th>\n",
       "      <th>Position</th>\n",
       "      <th>Height</th>\n",
       "      <th>Weight</th>\n",
       "      <th>College</th>\n",
       "      <th>Salary</th>\n",
       "    </tr>\n",
       "  </thead>\n",
       "  <tbody>\n",
       "    <tr>\n",
       "      <th>0</th>\n",
       "      <td>Saddiq Bey</td>\n",
       "      <td>Atlanta Hawks</td>\n",
       "      <td>F</td>\n",
       "      <td>6-7</td>\n",
       "      <td>215.0</td>\n",
       "      <td>Villanova</td>\n",
       "      <td>4556983.0</td>\n",
       "    </tr>\n",
       "    <tr>\n",
       "      <th>1</th>\n",
       "      <td>Bogdan Bogdanovic</td>\n",
       "      <td>Atlanta Hawks</td>\n",
       "      <td>G</td>\n",
       "      <td>6-5</td>\n",
       "      <td>225.0</td>\n",
       "      <td>Fenerbahce</td>\n",
       "      <td>18700000.0</td>\n",
       "    </tr>\n",
       "    <tr>\n",
       "      <th>2</th>\n",
       "      <td>Kobe Bufkin</td>\n",
       "      <td>Atlanta Hawks</td>\n",
       "      <td>G</td>\n",
       "      <td>6-5</td>\n",
       "      <td>195.0</td>\n",
       "      <td>Michigan</td>\n",
       "      <td>4094244.0</td>\n",
       "    </tr>\n",
       "    <tr>\n",
       "      <th>3</th>\n",
       "      <td>Clint Capela</td>\n",
       "      <td>Atlanta Hawks</td>\n",
       "      <td>C</td>\n",
       "      <td>6-10</td>\n",
       "      <td>256.0</td>\n",
       "      <td>Elan Chalon</td>\n",
       "      <td>20616000.0</td>\n",
       "    </tr>\n",
       "    <tr>\n",
       "      <th>4</th>\n",
       "      <td>Bruno Fernando</td>\n",
       "      <td>Atlanta Hawks</td>\n",
       "      <td>F-C</td>\n",
       "      <td>6-10</td>\n",
       "      <td>240.0</td>\n",
       "      <td>Maryland</td>\n",
       "      <td>2581522.0</td>\n",
       "    </tr>\n",
       "  </tbody>\n",
       "</table>\n",
       "</div>"
      ],
      "text/plain": [
       "                Name           Team Position Height  Weight      College  \\\n",
       "0         Saddiq Bey  Atlanta Hawks        F    6-7   215.0    Villanova   \n",
       "1  Bogdan Bogdanovic  Atlanta Hawks        G    6-5   225.0   Fenerbahce   \n",
       "2        Kobe Bufkin  Atlanta Hawks        G    6-5   195.0     Michigan   \n",
       "3       Clint Capela  Atlanta Hawks        C   6-10   256.0  Elan Chalon   \n",
       "4     Bruno Fernando  Atlanta Hawks      F-C   6-10   240.0     Maryland   \n",
       "\n",
       "       Salary  \n",
       "0   4556983.0  \n",
       "1  18700000.0  \n",
       "2   4094244.0  \n",
       "3  20616000.0  \n",
       "4   2581522.0  "
      ]
     },
     "execution_count": 13,
     "metadata": {},
     "output_type": "execute_result"
    }
   ],
   "source": [
    "nba.head()"
   ]
  },
  {
   "cell_type": "code",
   "execution_count": 14,
   "id": "4d5bf47a",
   "metadata": {},
   "outputs": [
    {
     "data": {
      "text/html": [
       "<div>\n",
       "<style scoped>\n",
       "    .dataframe tbody tr th:only-of-type {\n",
       "        vertical-align: middle;\n",
       "    }\n",
       "\n",
       "    .dataframe tbody tr th {\n",
       "        vertical-align: top;\n",
       "    }\n",
       "\n",
       "    .dataframe thead th {\n",
       "        text-align: right;\n",
       "    }\n",
       "</style>\n",
       "<table border=\"1\" class=\"dataframe\">\n",
       "  <thead>\n",
       "    <tr style=\"text-align: right;\">\n",
       "      <th></th>\n",
       "      <th>Name</th>\n",
       "      <th>Team</th>\n",
       "      <th>Position</th>\n",
       "      <th>Height</th>\n",
       "      <th>Weight</th>\n",
       "      <th>College</th>\n",
       "      <th>Salary</th>\n",
       "    </tr>\n",
       "  </thead>\n",
       "  <tbody>\n",
       "    <tr>\n",
       "      <th>587</th>\n",
       "      <td>Ryan Rollins</td>\n",
       "      <td>Washington Wizards</td>\n",
       "      <td>G</td>\n",
       "      <td>6-3</td>\n",
       "      <td>180.0</td>\n",
       "      <td>Toledo</td>\n",
       "      <td>1719864.0</td>\n",
       "    </tr>\n",
       "    <tr>\n",
       "      <th>588</th>\n",
       "      <td>Landry Shamet</td>\n",
       "      <td>Washington Wizards</td>\n",
       "      <td>G</td>\n",
       "      <td>6-4</td>\n",
       "      <td>190.0</td>\n",
       "      <td>Wichita State</td>\n",
       "      <td>10250000.0</td>\n",
       "    </tr>\n",
       "    <tr>\n",
       "      <th>589</th>\n",
       "      <td>Tristan Vukcevic</td>\n",
       "      <td>Washington Wizards</td>\n",
       "      <td>F</td>\n",
       "      <td>6-10</td>\n",
       "      <td>220.0</td>\n",
       "      <td>Real Madrid</td>\n",
       "      <td>NaN</td>\n",
       "    </tr>\n",
       "    <tr>\n",
       "      <th>590</th>\n",
       "      <td>Delon Wright</td>\n",
       "      <td>Washington Wizards</td>\n",
       "      <td>G</td>\n",
       "      <td>6-5</td>\n",
       "      <td>185.0</td>\n",
       "      <td>Utah</td>\n",
       "      <td>8195122.0</td>\n",
       "    </tr>\n",
       "    <tr>\n",
       "      <th>591</th>\n",
       "      <td>NaN</td>\n",
       "      <td>NaN</td>\n",
       "      <td>NaN</td>\n",
       "      <td>NaN</td>\n",
       "      <td>NaN</td>\n",
       "      <td>NaN</td>\n",
       "      <td>NaN</td>\n",
       "    </tr>\n",
       "  </tbody>\n",
       "</table>\n",
       "</div>"
      ],
      "text/plain": [
       "                 Name                Team Position Height  Weight  \\\n",
       "587      Ryan Rollins  Washington Wizards        G    6-3   180.0   \n",
       "588     Landry Shamet  Washington Wizards        G    6-4   190.0   \n",
       "589  Tristan Vukcevic  Washington Wizards        F   6-10   220.0   \n",
       "590      Delon Wright  Washington Wizards        G    6-5   185.0   \n",
       "591               NaN                 NaN      NaN    NaN     NaN   \n",
       "\n",
       "           College      Salary  \n",
       "587         Toledo   1719864.0  \n",
       "588  Wichita State  10250000.0  \n",
       "589    Real Madrid         NaN  \n",
       "590           Utah   8195122.0  \n",
       "591            NaN         NaN  "
      ]
     },
     "execution_count": 14,
     "metadata": {},
     "output_type": "execute_result"
    }
   ],
   "source": [
    "nba.tail()"
   ]
  },
  {
   "cell_type": "code",
   "execution_count": 15,
   "id": "60568b56",
   "metadata": {},
   "outputs": [
    {
     "data": {
      "text/html": [
       "<div>\n",
       "<style scoped>\n",
       "    .dataframe tbody tr th:only-of-type {\n",
       "        vertical-align: middle;\n",
       "    }\n",
       "\n",
       "    .dataframe tbody tr th {\n",
       "        vertical-align: top;\n",
       "    }\n",
       "\n",
       "    .dataframe thead th {\n",
       "        text-align: right;\n",
       "    }\n",
       "</style>\n",
       "<table border=\"1\" class=\"dataframe\">\n",
       "  <thead>\n",
       "    <tr style=\"text-align: right;\">\n",
       "      <th></th>\n",
       "      <th>Name</th>\n",
       "      <th>Team</th>\n",
       "      <th>Position</th>\n",
       "      <th>Height</th>\n",
       "      <th>Weight</th>\n",
       "      <th>College</th>\n",
       "      <th>Salary</th>\n",
       "    </tr>\n",
       "  </thead>\n",
       "  <tbody>\n",
       "    <tr>\n",
       "      <th>5</th>\n",
       "      <td>Trent Forrest</td>\n",
       "      <td>Atlanta Hawks</td>\n",
       "      <td>G</td>\n",
       "      <td>6-4</td>\n",
       "      <td>210.0</td>\n",
       "      <td>Florida State</td>\n",
       "      <td>508891.0</td>\n",
       "    </tr>\n",
       "    <tr>\n",
       "      <th>6</th>\n",
       "      <td>AJ Griffin</td>\n",
       "      <td>Atlanta Hawks</td>\n",
       "      <td>F</td>\n",
       "      <td>6-6</td>\n",
       "      <td>220.0</td>\n",
       "      <td>Duke</td>\n",
       "      <td>3712920.0</td>\n",
       "    </tr>\n",
       "    <tr>\n",
       "      <th>7</th>\n",
       "      <td>Mouhamed Gueye</td>\n",
       "      <td>Atlanta Hawks</td>\n",
       "      <td>F</td>\n",
       "      <td>6-11</td>\n",
       "      <td>210.0</td>\n",
       "      <td>Washington State</td>\n",
       "      <td>1119563.0</td>\n",
       "    </tr>\n",
       "    <tr>\n",
       "      <th>8</th>\n",
       "      <td>De'Andre Hunter</td>\n",
       "      <td>Atlanta Hawks</td>\n",
       "      <td>F-G</td>\n",
       "      <td>6-8</td>\n",
       "      <td>221.0</td>\n",
       "      <td>Virginia</td>\n",
       "      <td>20089286.0</td>\n",
       "    </tr>\n",
       "    <tr>\n",
       "      <th>9</th>\n",
       "      <td>Jalen Johnson</td>\n",
       "      <td>Atlanta Hawks</td>\n",
       "      <td>F</td>\n",
       "      <td>6-8</td>\n",
       "      <td>219.0</td>\n",
       "      <td>Duke</td>\n",
       "      <td>2925360.0</td>\n",
       "    </tr>\n",
       "  </tbody>\n",
       "</table>\n",
       "</div>"
      ],
      "text/plain": [
       "              Name           Team Position Height  Weight           College  \\\n",
       "5    Trent Forrest  Atlanta Hawks        G    6-4   210.0     Florida State   \n",
       "6       AJ Griffin  Atlanta Hawks        F    6-6   220.0              Duke   \n",
       "7   Mouhamed Gueye  Atlanta Hawks        F   6-11   210.0  Washington State   \n",
       "8  De'Andre Hunter  Atlanta Hawks      F-G    6-8   221.0          Virginia   \n",
       "9    Jalen Johnson  Atlanta Hawks        F    6-8   219.0              Duke   \n",
       "\n",
       "       Salary  \n",
       "5    508891.0  \n",
       "6   3712920.0  \n",
       "7   1119563.0  \n",
       "8  20089286.0  \n",
       "9   2925360.0  "
      ]
     },
     "execution_count": 15,
     "metadata": {},
     "output_type": "execute_result"
    }
   ],
   "source": [
    "nba.head(10).tail(5)"
   ]
  },
  {
   "cell_type": "code",
   "execution_count": 16,
   "id": "593d1038",
   "metadata": {},
   "outputs": [
    {
     "data": {
      "text/html": [
       "<div>\n",
       "<style scoped>\n",
       "    .dataframe tbody tr th:only-of-type {\n",
       "        vertical-align: middle;\n",
       "    }\n",
       "\n",
       "    .dataframe tbody tr th {\n",
       "        vertical-align: top;\n",
       "    }\n",
       "\n",
       "    .dataframe thead th {\n",
       "        text-align: right;\n",
       "    }\n",
       "</style>\n",
       "<table border=\"1\" class=\"dataframe\">\n",
       "  <thead>\n",
       "    <tr style=\"text-align: right;\">\n",
       "      <th></th>\n",
       "      <th>Name</th>\n",
       "      <th>Team</th>\n",
       "      <th>Position</th>\n",
       "      <th>Height</th>\n",
       "      <th>Weight</th>\n",
       "      <th>College</th>\n",
       "      <th>Salary</th>\n",
       "    </tr>\n",
       "  </thead>\n",
       "  <tbody>\n",
       "    <tr>\n",
       "      <th>count</th>\n",
       "      <td>591</td>\n",
       "      <td>591</td>\n",
       "      <td>584</td>\n",
       "      <td>585</td>\n",
       "      <td>584.000000</td>\n",
       "      <td>578</td>\n",
       "      <td>4.880000e+02</td>\n",
       "    </tr>\n",
       "    <tr>\n",
       "      <th>unique</th>\n",
       "      <td>591</td>\n",
       "      <td>30</td>\n",
       "      <td>7</td>\n",
       "      <td>20</td>\n",
       "      <td>NaN</td>\n",
       "      <td>182</td>\n",
       "      <td>NaN</td>\n",
       "    </tr>\n",
       "    <tr>\n",
       "      <th>top</th>\n",
       "      <td>Saddiq Bey</td>\n",
       "      <td>Dallas Mavericks</td>\n",
       "      <td>G</td>\n",
       "      <td>6-5</td>\n",
       "      <td>NaN</td>\n",
       "      <td>Kentucky</td>\n",
       "      <td>NaN</td>\n",
       "    </tr>\n",
       "    <tr>\n",
       "      <th>freq</th>\n",
       "      <td>1</td>\n",
       "      <td>23</td>\n",
       "      <td>229</td>\n",
       "      <td>74</td>\n",
       "      <td>NaN</td>\n",
       "      <td>29</td>\n",
       "      <td>NaN</td>\n",
       "    </tr>\n",
       "    <tr>\n",
       "      <th>mean</th>\n",
       "      <td>NaN</td>\n",
       "      <td>NaN</td>\n",
       "      <td>NaN</td>\n",
       "      <td>NaN</td>\n",
       "      <td>214.763699</td>\n",
       "      <td>NaN</td>\n",
       "      <td>9.218978e+06</td>\n",
       "    </tr>\n",
       "    <tr>\n",
       "      <th>std</th>\n",
       "      <td>NaN</td>\n",
       "      <td>NaN</td>\n",
       "      <td>NaN</td>\n",
       "      <td>NaN</td>\n",
       "      <td>23.460612</td>\n",
       "      <td>NaN</td>\n",
       "      <td>1.131927e+07</td>\n",
       "    </tr>\n",
       "    <tr>\n",
       "      <th>min</th>\n",
       "      <td>NaN</td>\n",
       "      <td>NaN</td>\n",
       "      <td>NaN</td>\n",
       "      <td>NaN</td>\n",
       "      <td>160.000000</td>\n",
       "      <td>NaN</td>\n",
       "      <td>5.088910e+05</td>\n",
       "    </tr>\n",
       "    <tr>\n",
       "      <th>25%</th>\n",
       "      <td>NaN</td>\n",
       "      <td>NaN</td>\n",
       "      <td>NaN</td>\n",
       "      <td>NaN</td>\n",
       "      <td>198.000000</td>\n",
       "      <td>NaN</td>\n",
       "      <td>1.980599e+06</td>\n",
       "    </tr>\n",
       "    <tr>\n",
       "      <th>50%</th>\n",
       "      <td>NaN</td>\n",
       "      <td>NaN</td>\n",
       "      <td>NaN</td>\n",
       "      <td>NaN</td>\n",
       "      <td>215.000000</td>\n",
       "      <td>NaN</td>\n",
       "      <td>4.018638e+06</td>\n",
       "    </tr>\n",
       "    <tr>\n",
       "      <th>75%</th>\n",
       "      <td>NaN</td>\n",
       "      <td>NaN</td>\n",
       "      <td>NaN</td>\n",
       "      <td>NaN</td>\n",
       "      <td>230.000000</td>\n",
       "      <td>NaN</td>\n",
       "      <td>1.169694e+07</td>\n",
       "    </tr>\n",
       "    <tr>\n",
       "      <th>max</th>\n",
       "      <td>NaN</td>\n",
       "      <td>NaN</td>\n",
       "      <td>NaN</td>\n",
       "      <td>NaN</td>\n",
       "      <td>290.000000</td>\n",
       "      <td>NaN</td>\n",
       "      <td>5.191562e+07</td>\n",
       "    </tr>\n",
       "  </tbody>\n",
       "</table>\n",
       "</div>"
      ],
      "text/plain": [
       "              Name              Team Position Height      Weight   College  \\\n",
       "count          591               591      584    585  584.000000       578   \n",
       "unique         591                30        7     20         NaN       182   \n",
       "top     Saddiq Bey  Dallas Mavericks        G    6-5         NaN  Kentucky   \n",
       "freq             1                23      229     74         NaN        29   \n",
       "mean           NaN               NaN      NaN    NaN  214.763699       NaN   \n",
       "std            NaN               NaN      NaN    NaN   23.460612       NaN   \n",
       "min            NaN               NaN      NaN    NaN  160.000000       NaN   \n",
       "25%            NaN               NaN      NaN    NaN  198.000000       NaN   \n",
       "50%            NaN               NaN      NaN    NaN  215.000000       NaN   \n",
       "75%            NaN               NaN      NaN    NaN  230.000000       NaN   \n",
       "max            NaN               NaN      NaN    NaN  290.000000       NaN   \n",
       "\n",
       "              Salary  \n",
       "count   4.880000e+02  \n",
       "unique           NaN  \n",
       "top              NaN  \n",
       "freq             NaN  \n",
       "mean    9.218978e+06  \n",
       "std     1.131927e+07  \n",
       "min     5.088910e+05  \n",
       "25%     1.980599e+06  \n",
       "50%     4.018638e+06  \n",
       "75%     1.169694e+07  \n",
       "max     5.191562e+07  "
      ]
     },
     "execution_count": 16,
     "metadata": {},
     "output_type": "execute_result"
    }
   ],
   "source": [
    "nba.describe(include='all')"
   ]
  },
  {
   "cell_type": "code",
   "execution_count": 17,
   "id": "fc01a1ef",
   "metadata": {},
   "outputs": [
    {
     "name": "stdout",
     "output_type": "stream",
     "text": [
      "<class 'pandas.core.frame.DataFrame'>\n",
      "RangeIndex: 592 entries, 0 to 591\n",
      "Data columns (total 7 columns):\n",
      " #   Column    Non-Null Count  Dtype  \n",
      "---  ------    --------------  -----  \n",
      " 0   Name      591 non-null    object \n",
      " 1   Team      591 non-null    object \n",
      " 2   Position  584 non-null    object \n",
      " 3   Height    585 non-null    object \n",
      " 4   Weight    584 non-null    float64\n",
      " 5   College   578 non-null    object \n",
      " 6   Salary    488 non-null    float64\n",
      "dtypes: float64(2), object(5)\n",
      "memory usage: 32.5+ KB\n"
     ]
    }
   ],
   "source": [
    "nba.info()"
   ]
  },
  {
   "cell_type": "code",
   "execution_count": null,
   "id": "39d76c33",
   "metadata": {},
   "outputs": [],
   "source": []
  },
  {
   "cell_type": "code",
   "execution_count": null,
   "id": "aa65b3fd",
   "metadata": {},
   "outputs": [],
   "source": []
  }
 ],
 "metadata": {
  "kernelspec": {
   "display_name": "Python 3 (ipykernel)",
   "language": "python",
   "name": "python3"
  },
  "language_info": {
   "codemirror_mode": {
    "name": "ipython",
    "version": 3
   },
   "file_extension": ".py",
   "mimetype": "text/x-python",
   "name": "python",
   "nbconvert_exporter": "python",
   "pygments_lexer": "ipython3",
   "version": "3.11.5"
  }
 },
 "nbformat": 4,
 "nbformat_minor": 5
}
