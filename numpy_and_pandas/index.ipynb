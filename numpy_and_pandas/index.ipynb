{
 "cells": [
  {
   "cell_type": "markdown",
   "id": "43be5762",
   "metadata": {},
   "source": [
    "# pandas"
   ]
  },
  {
   "cell_type": "code",
   "execution_count": 1,
   "id": "3d20cb57",
   "metadata": {},
   "outputs": [],
   "source": [
    "import pandas as pd"
   ]
  },
  {
   "cell_type": "markdown",
   "id": "7ad5395f",
   "metadata": {},
   "source": [
    "    numpy -- numerical python -- vectorization -- mathematical calculations faster\n",
    "    numpy is not sufficient for real life data -- mathematical purposes -- linear algebra\n",
    "    numpy -- scientist\n",
    "    pandas -- real life data -- bussiness cases\n",
    "    pandas -- panel data structures\n",
    "\n",
    "    list, dict, set, tuple, range, frozen-set(exotic)\n",
    "    pandas DS -- index, series, dataframes\n",
    "                   1D,   1D,     2D\n",
    "    index --> series --> dataframes(collection of series)\n",
    "    data science -- quality XX"
   ]
  },
  {
   "cell_type": "markdown",
   "id": "cfa7336c",
   "metadata": {},
   "source": [
    "    index -- series indexing \n",
    "    It is used to index the series and dataframe\n",
    "    index -- singular\n",
    "    indexes or indices\n",
    "    indices means multiple elements of an index object I\n",
    "    [1, 2, 3] -- 1 , 2, 3 are the indices\n",
    "    Indexes -- multiple Index objects\n",
    "    [1,2,4], [1,2,3], ['a', 'b', 'c'] -- indexes"
   ]
  },
  {
   "cell_type": "code",
   "execution_count": 10,
   "id": "9da3c78e",
   "metadata": {},
   "outputs": [
    {
     "data": {
      "text/plain": [
       "Index([1, 2, 3, 4], dtype='uint8')"
      ]
     },
     "execution_count": 10,
     "metadata": {},
     "output_type": "execute_result"
    }
   ],
   "source": [
    "import numpy as np\n",
    "ind = pd.Index([1,2,3,4], dtype = np.uint8)\n",
    "ind"
   ]
  },
  {
   "cell_type": "code",
   "execution_count": 11,
   "id": "d1187ce1",
   "metadata": {},
   "outputs": [
    {
     "data": {
      "text/plain": [
       "pandas.core.indexes.base.Index"
      ]
     },
     "execution_count": 11,
     "metadata": {},
     "output_type": "execute_result"
    }
   ],
   "source": [
    "type(ind)"
   ]
  },
  {
   "cell_type": "markdown",
   "id": "d0fca8e7",
   "metadata": {},
   "source": [
    "       since pandas is built on top of numpy library, it has features \n",
    "       \n",
    "       emotional + spiritually intelligent"
   ]
  },
  {
   "cell_type": "code",
   "execution_count": 15,
   "id": "34a6f050",
   "metadata": {},
   "outputs": [
    {
     "data": {
      "text/plain": [
       "(1, (4,), 4, dtype('uint8'))"
      ]
     },
     "execution_count": 15,
     "metadata": {},
     "output_type": "execute_result"
    }
   ],
   "source": [
    "ind.ndim, ind.shape, ind.size, ind.dtype"
   ]
  },
  {
   "cell_type": "markdown",
   "id": "5121341a",
   "metadata": {},
   "source": [
    "    Index\n",
    "    Float64,\n",
    "    Int64\n",
    "    RangeIndex, boolean Index"
   ]
  },
  {
   "cell_type": "code",
   "execution_count": 16,
   "id": "32682c10",
   "metadata": {},
   "outputs": [],
   "source": [
    "ind = pd.Index([1,2,3,4.5])"
   ]
  },
  {
   "cell_type": "code",
   "execution_count": 19,
   "id": "b2df4ecd",
   "metadata": {},
   "outputs": [
    {
     "data": {
      "text/plain": [
       "Index([1.0, 2.0, 3.0, 4.5], dtype='float64')"
      ]
     },
     "execution_count": 19,
     "metadata": {},
     "output_type": "execute_result"
    }
   ],
   "source": [
    "ind"
   ]
  },
  {
   "cell_type": "code",
   "execution_count": 20,
   "id": "ff25f039",
   "metadata": {},
   "outputs": [],
   "source": [
    "ind = pd.Index([1,2,3])"
   ]
  },
  {
   "cell_type": "code",
   "execution_count": 21,
   "id": "a2efc68a",
   "metadata": {},
   "outputs": [
    {
     "data": {
      "text/plain": [
       "Index([1, 2, 3], dtype='int64')"
      ]
     },
     "execution_count": 21,
     "metadata": {},
     "output_type": "execute_result"
    }
   ],
   "source": [
    "ind"
   ]
  },
  {
   "cell_type": "code",
   "execution_count": 24,
   "id": "f2128de6",
   "metadata": {},
   "outputs": [],
   "source": [
    "range_index = pd.Index(range(1,20,3))"
   ]
  },
  {
   "cell_type": "code",
   "execution_count": 25,
   "id": "6275ac8e",
   "metadata": {},
   "outputs": [
    {
     "data": {
      "text/plain": [
       "RangeIndex(start=1, stop=20, step=3)"
      ]
     },
     "execution_count": 25,
     "metadata": {},
     "output_type": "execute_result"
    }
   ],
   "source": [
    "range_index"
   ]
  },
  {
   "cell_type": "code",
   "execution_count": 26,
   "id": "b9a0b6c9",
   "metadata": {},
   "outputs": [
    {
     "data": {
      "text/plain": [
       "RangeIndex(start=1, stop=20, step=3)"
      ]
     },
     "execution_count": 26,
     "metadata": {},
     "output_type": "execute_result"
    }
   ],
   "source": [
    "pd.RangeIndex(start = 1, stop = 20, step = 3)"
   ]
  },
  {
   "cell_type": "code",
   "execution_count": 27,
   "id": "76db04b0",
   "metadata": {},
   "outputs": [],
   "source": [
    "# Index objects are iterable"
   ]
  },
  {
   "cell_type": "code",
   "execution_count": 28,
   "id": "dff1e264",
   "metadata": {},
   "outputs": [
    {
     "data": {
      "text/plain": [
       "Index([1, 2, 3, 4, 5, 6], dtype='int64')"
      ]
     },
     "execution_count": 28,
     "metadata": {},
     "output_type": "execute_result"
    }
   ],
   "source": [
    "ind"
   ]
  },
  {
   "cell_type": "code",
   "execution_count": 29,
   "id": "cc3d1a79",
   "metadata": {},
   "outputs": [
    {
     "name": "stdout",
     "output_type": "stream",
     "text": [
      "1\n",
      "2\n",
      "3\n",
      "4\n",
      "5\n",
      "6\n"
     ]
    }
   ],
   "source": [
    "for ele in ind:\n",
    "    print(ele)"
   ]
  },
  {
   "cell_type": "code",
   "execution_count": 30,
   "id": "72408daf",
   "metadata": {},
   "outputs": [],
   "source": [
    "# Membership testing"
   ]
  },
  {
   "cell_type": "code",
   "execution_count": 31,
   "id": "6e1c6047",
   "metadata": {},
   "outputs": [],
   "source": [
    "# in operator"
   ]
  },
  {
   "cell_type": "code",
   "execution_count": 32,
   "id": "f1e32688",
   "metadata": {},
   "outputs": [
    {
     "data": {
      "text/plain": [
       "Index([1, 2, 3, 4, 5, 6], dtype='int64')"
      ]
     },
     "execution_count": 32,
     "metadata": {},
     "output_type": "execute_result"
    }
   ],
   "source": [
    "ind"
   ]
  },
  {
   "cell_type": "code",
   "execution_count": 33,
   "id": "b0680e0f",
   "metadata": {},
   "outputs": [
    {
     "data": {
      "text/plain": [
       "False"
      ]
     },
     "execution_count": 33,
     "metadata": {},
     "output_type": "execute_result"
    }
   ],
   "source": [
    "64 in ind"
   ]
  },
  {
   "cell_type": "code",
   "execution_count": 34,
   "id": "90e5e2da",
   "metadata": {},
   "outputs": [
    {
     "data": {
      "text/plain": [
       "True"
      ]
     },
     "execution_count": 34,
     "metadata": {},
     "output_type": "execute_result"
    }
   ],
   "source": [
    "1 in ind"
   ]
  },
  {
   "cell_type": "code",
   "execution_count": 35,
   "id": "b472d005",
   "metadata": {},
   "outputs": [
    {
     "data": {
      "text/plain": [
       "False"
      ]
     },
     "execution_count": 35,
     "metadata": {},
     "output_type": "execute_result"
    }
   ],
   "source": [
    "2 not in ind"
   ]
  },
  {
   "cell_type": "code",
   "execution_count": 36,
   "id": "90050f4d",
   "metadata": {},
   "outputs": [],
   "source": [
    "# Index objects behave like sets"
   ]
  },
  {
   "cell_type": "code",
   "execution_count": 37,
   "id": "33576627",
   "metadata": {},
   "outputs": [],
   "source": [
    "ind1 = pd.Index([1,2,3])\n",
    "ind2 = pd.Index([5,6,7])"
   ]
  },
  {
   "cell_type": "code",
   "execution_count": 38,
   "id": "086e9e7f",
   "metadata": {},
   "outputs": [
    {
     "data": {
      "text/plain": [
       "(Index([1, 2, 3], dtype='int64'), Index([5, 6, 7], dtype='int64'))"
      ]
     },
     "execution_count": 38,
     "metadata": {},
     "output_type": "execute_result"
    }
   ],
   "source": [
    "ind1, ind2"
   ]
  },
  {
   "cell_type": "code",
   "execution_count": 42,
   "id": "0577bb91",
   "metadata": {},
   "outputs": [
    {
     "data": {
      "text/plain": [
       "Index([1, 2, 3, 5, 6, 7], dtype='int64')"
      ]
     },
     "execution_count": 42,
     "metadata": {},
     "output_type": "execute_result"
    }
   ],
   "source": [
    "ind1.union(ind2)"
   ]
  },
  {
   "cell_type": "code",
   "execution_count": 43,
   "id": "32331eab",
   "metadata": {},
   "outputs": [
    {
     "data": {
      "text/plain": [
       "Index([], dtype='int64')"
      ]
     },
     "execution_count": 43,
     "metadata": {},
     "output_type": "execute_result"
    }
   ],
   "source": [
    "ind1.intersection(ind2)"
   ]
  },
  {
   "cell_type": "code",
   "execution_count": 50,
   "id": "252d4ad9",
   "metadata": {},
   "outputs": [
    {
     "name": "stdout",
     "output_type": "stream",
     "text": [
      "Index([1, 2, 3], dtype='int64')\n"
     ]
    },
    {
     "data": {
      "text/plain": [
       "Index([1, 2, 3, 5, 6, 7], dtype='int64')"
      ]
     },
     "execution_count": 50,
     "metadata": {},
     "output_type": "execute_result"
    }
   ],
   "source": [
    "# difference \n",
    "print(ind1.difference(ind2))\n",
    "ind1.symmetric_difference(ind2)\n",
    "\n",
    "# difference A - B = elements of A which are not in B\n",
    "# symmetric diff of A and B  = (A-B).union(B-A)"
   ]
  },
  {
   "cell_type": "code",
   "execution_count": 51,
   "id": "7a53d34f",
   "metadata": {},
   "outputs": [
    {
     "data": {
      "text/plain": [
       "Index([1, 2, 3, 5, 6, 7], dtype='int64')"
      ]
     },
     "execution_count": 51,
     "metadata": {},
     "output_type": "execute_result"
    }
   ],
   "source": [
    "ind1.difference(ind2).union(ind2.difference(ind1))"
   ]
  },
  {
   "cell_type": "markdown",
   "id": "9fffb2e9",
   "metadata": {},
   "source": [
    "${\\displaystyle A\\vartriangle B}$"
   ]
  },
  {
   "cell_type": "markdown",
   "id": "3cd50cb2",
   "metadata": {},
   "source": [
    "# Mutablity"
   ]
  },
  {
   "cell_type": "code",
   "execution_count": 53,
   "id": "0d14ceb8",
   "metadata": {},
   "outputs": [],
   "source": [
    "# index objects are not mutable\n",
    "# size --> element \n",
    "# list 2\n",
    "# numpy array 1\n",
    "# index 0"
   ]
  },
  {
   "cell_type": "code",
   "execution_count": 54,
   "id": "24fe158d",
   "metadata": {},
   "outputs": [],
   "source": [
    "# numpy arrays are mutable but their size is fixed"
   ]
  },
  {
   "cell_type": "code",
   "execution_count": 55,
   "id": "47bfef2c",
   "metadata": {},
   "outputs": [],
   "source": [
    "n = np.array([1,2,3])"
   ]
  },
  {
   "cell_type": "code",
   "execution_count": 56,
   "id": "b24767aa",
   "metadata": {},
   "outputs": [
    {
     "data": {
      "text/plain": [
       "2"
      ]
     },
     "execution_count": 56,
     "metadata": {},
     "output_type": "execute_result"
    }
   ],
   "source": [
    "n[1]"
   ]
  },
  {
   "cell_type": "code",
   "execution_count": 57,
   "id": "7ca835cf",
   "metadata": {},
   "outputs": [],
   "source": [
    "n[1] = 200"
   ]
  },
  {
   "cell_type": "code",
   "execution_count": 58,
   "id": "477d71e2",
   "metadata": {},
   "outputs": [
    {
     "data": {
      "text/plain": [
       "array([  1, 200,   3])"
      ]
     },
     "execution_count": 58,
     "metadata": {},
     "output_type": "execute_result"
    }
   ],
   "source": [
    "n"
   ]
  },
  {
   "cell_type": "code",
   "execution_count": 60,
   "id": "152a65ef",
   "metadata": {},
   "outputs": [
    {
     "data": {
      "text/plain": [
       "Index([1, 2, 3, 4, 5, 6], dtype='int64')"
      ]
     },
     "execution_count": 60,
     "metadata": {},
     "output_type": "execute_result"
    }
   ],
   "source": [
    "ind"
   ]
  },
  {
   "cell_type": "code",
   "execution_count": 61,
   "id": "4f791ae9",
   "metadata": {},
   "outputs": [
    {
     "data": {
      "text/plain": [
       "2"
      ]
     },
     "execution_count": 61,
     "metadata": {},
     "output_type": "execute_result"
    }
   ],
   "source": [
    "ind[1]"
   ]
  },
  {
   "cell_type": "code",
   "execution_count": 63,
   "id": "2dbf9e8f",
   "metadata": {},
   "outputs": [
    {
     "name": "stdout",
     "output_type": "stream",
     "text": [
      "Index does not support mutable operations\n"
     ]
    }
   ],
   "source": [
    "try:\n",
    "    ind[1] = 200\n",
    "except TypeError as ex:\n",
    "    print(ex)"
   ]
  },
  {
   "cell_type": "code",
   "execution_count": 64,
   "id": "868f5c32",
   "metadata": {},
   "outputs": [
    {
     "data": {
      "text/plain": [
       "Index([1, 2, 3, 4, 5, 6], dtype='int64')"
      ]
     },
     "execution_count": 64,
     "metadata": {},
     "output_type": "execute_result"
    }
   ],
   "source": [
    "ind"
   ]
  },
  {
   "cell_type": "code",
   "execution_count": 65,
   "id": "10bdca91",
   "metadata": {},
   "outputs": [
    {
     "data": {
      "text/plain": [
       "Index([2, 4, 6], dtype='int64')"
      ]
     },
     "execution_count": 65,
     "metadata": {},
     "output_type": "execute_result"
    }
   ],
   "source": [
    "ind[1::2]"
   ]
  },
  {
   "cell_type": "code",
   "execution_count": 66,
   "id": "859a9d0d",
   "metadata": {},
   "outputs": [],
   "source": [
    "ind = pd.Index(['Tokyo', 'Delhi', \"Japan\", 'India', 'USA'])"
   ]
  },
  {
   "cell_type": "code",
   "execution_count": 67,
   "id": "1cce2f46",
   "metadata": {},
   "outputs": [
    {
     "data": {
      "text/plain": [
       "Index(['Tokyo', 'Delhi', 'Japan', 'India', 'USA'], dtype='object')"
      ]
     },
     "execution_count": 67,
     "metadata": {},
     "output_type": "execute_result"
    }
   ],
   "source": [
    "ind"
   ]
  },
  {
   "cell_type": "code",
   "execution_count": 68,
   "id": "793d19bb",
   "metadata": {},
   "outputs": [
    {
     "data": {
      "text/plain": [
       "array([False,  True,  True,  True,  True])"
      ]
     },
     "execution_count": 68,
     "metadata": {},
     "output_type": "execute_result"
    }
   ],
   "source": [
    "mask = (ind != 'Tokyo')\n",
    "mask"
   ]
  },
  {
   "cell_type": "code",
   "execution_count": 69,
   "id": "151b723d",
   "metadata": {},
   "outputs": [
    {
     "data": {
      "text/plain": [
       "Index(['Delhi', 'Japan', 'India', 'USA'], dtype='object')"
      ]
     },
     "execution_count": 69,
     "metadata": {},
     "output_type": "execute_result"
    }
   ],
   "source": [
    "ind[mask]"
   ]
  },
  {
   "cell_type": "code",
   "execution_count": 70,
   "id": "2fe6ccd4",
   "metadata": {},
   "outputs": [
    {
     "data": {
      "text/plain": [
       "{'a', 'b'}"
      ]
     },
     "execution_count": 70,
     "metadata": {},
     "output_type": "execute_result"
    }
   ],
   "source": [
    "{'a', 'a', 'b'}"
   ]
  },
  {
   "cell_type": "code",
   "execution_count": 71,
   "id": "16f6d02b",
   "metadata": {},
   "outputs": [
    {
     "data": {
      "text/plain": [
       "Index(['a', 'a', 'b', 'b'], dtype='object')"
      ]
     },
     "execution_count": 71,
     "metadata": {},
     "output_type": "execute_result"
    }
   ],
   "source": [
    "pd.Index(['a', 'a', 'b', 'b'])"
   ]
  },
  {
   "cell_type": "code",
   "execution_count": null,
   "id": "9452405f",
   "metadata": {},
   "outputs": [],
   "source": []
  }
 ],
 "metadata": {
  "kernelspec": {
   "display_name": "Python 3 (ipykernel)",
   "language": "python",
   "name": "python3"
  },
  "language_info": {
   "codemirror_mode": {
    "name": "ipython",
    "version": 3
   },
   "file_extension": ".py",
   "mimetype": "text/x-python",
   "name": "python",
   "nbconvert_exporter": "python",
   "pygments_lexer": "ipython3",
   "version": "3.11.5"
  }
 },
 "nbformat": 4,
 "nbformat_minor": 5
}
