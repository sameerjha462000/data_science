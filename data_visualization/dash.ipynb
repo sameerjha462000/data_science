{
 "cells": [
  {
   "cell_type": "code",
   "execution_count": null,
   "id": "46af9518",
   "metadata": {},
   "outputs": [],
   "source": [
    "from dash import Dash\n",
    "import dash_core_components as dcc # deprecated\n",
    "import dash_html_components as html # deprecated"
   ]
  },
  {
   "cell_type": "code",
   "execution_count": null,
   "id": "48b46102",
   "metadata": {},
   "outputs": [],
   "source": [
    "from dash import Dash, html, dcc"
   ]
  },
  {
   "cell_type": "code",
   "execution_count": null,
   "id": "a266df5b",
   "metadata": {},
   "outputs": [],
   "source": [
    "# create an instance of Dash\n",
    "app = Dash(__name__)\n",
    "\n",
    "# layout of the dash application\n",
    "app.layout = html.Div(children = html.H1('My First Dash App'))\n",
    "\n",
    "# to run the dash application\n",
    "if __name__ == '__main__':\n",
    "    # by default also the port number is 8050 and by default the debug value is False.\n",
    "    app.run_server(port = 8050, debug = True)"
   ]
  },
  {
   "cell_type": "markdown",
   "id": "ff521288",
   "metadata": {},
   "source": [
    "# Interactive elements in Dash app"
   ]
  },
  {
   "cell_type": "markdown",
   "id": "a64a55b9",
   "metadata": {},
   "source": [
    "    Dash has many interactive elements that can be added to apps for user interaction.\n",
    "    \n",
    "    These are provided by the Dash Core Components module(dcc).\n",
    "    \n",
    "    These are:\n",
    "    1. Dropdown\n",
    "    2. Slider\n",
    "    3. RangeSlider\n",
    "    4. Checklist\n",
    "    5. RadioItems\n",
    "    6. DatePickerSingle\n",
    "    7. DatePickerRange\n",
    "    8. Tabs\n",
    "    9. Graphs\n",
    "    \n",
    "    These interactive elements are useless until they are processed in the back-end with callback functions."
   ]
  },
  {
   "cell_type": "markdown",
   "id": "795556c1",
   "metadata": {},
   "source": [
    "### Dash dropdown component example\n",
    "\n",
    "    The dcc.Dropdown() component has three properties:\n",
    "    1. options: contains the contents of the dropdown\n",
    "    2. id: the identifier for the value passed through\n",
    "    3. value: the option selected"
   ]
  },
  {
   "cell_type": "code",
   "execution_count": null,
   "id": "06a97b68",
   "metadata": {},
   "outputs": [],
   "source": [
    "from dash import Dash, html, dcc"
   ]
  },
  {
   "cell_type": "code",
   "execution_count": null,
   "id": "4fa9f4a1",
   "metadata": {},
   "outputs": [],
   "source": [
    "app = Dash(__name__)\n",
    "\n",
    "dropdown = dcc.Dropdown(options=['Red', 'Blue', 'Green', 'Yellow', 'Pink'], value = '')\n",
    "\n",
    "children = ['Pick a Color !', dropdown]\n",
    "\n",
    "app.layout = html.Div(children=children)\n",
    "\n",
    "if __name__ == '__main__':\n",
    "    app.run_server(debug=True, port=8050)"
   ]
  },
  {
   "cell_type": "markdown",
   "id": "44805278",
   "metadata": {},
   "source": [
    "### callback functions\n",
    "    Callback functions process user inputs and update the app accordingly.\n",
    "    \n",
    "    1. They are triggered by a change to a property of an HTML component(input)\n",
    "    2. They then change the property of another HTML component(output).\n",
    "    \n",
    "    callback functions are defined by using the @app.callback decorator and have atleast two arguments(output and input),\n",
    "    followed by the function itself.\n",
    "    \n",
    "    \n",
    "    @app.callback(Output(component_id, component_property), Input(component_id, component_property))"
   ]
  },
  {
   "cell_type": "code",
   "execution_count": null,
   "id": "b9038eb6",
   "metadata": {},
   "outputs": [],
   "source": [
    "from dash import Dash, html, dcc\n",
    "from dash.dependencies import Input, Output\n",
    "from dash.exceptions import PreventUpdate"
   ]
  },
  {
   "cell_type": "code",
   "execution_count": null,
   "id": "b4742570",
   "metadata": {},
   "outputs": [],
   "source": [
    "app = Dash(__name__)\n",
    "\n",
    "dropdown = dcc.Dropdown(options=['Red', 'Blue', 'Green'], id='color-input')\n",
    "\n",
    "app.layout = html.Div(children = [dropdown, html.Div(id = 'color-output')])\n",
    "\n",
    "\n",
    "@app.callback(Output('color-output', 'children'), Input('color-input', 'value'))\n",
    "def update_div(color :str) -> str:\n",
    "    if color is None:\n",
    "        raise PreventUpdate\n",
    "    return f\"color selected : {color}\"\n",
    "\n",
    "if __name__ == '__main__':\n",
    "    app.run_server(debug=True, port=8050)"
   ]
  },
  {
   "cell_type": "markdown",
   "id": "033d107f",
   "metadata": {},
   "source": [
    "# Assignment 1: Simple Dash App"
   ]
  },
  {
   "cell_type": "markdown",
   "id": "c9e9e6b9",
   "metadata": {},
   "source": [
    "    Create a dash application with the following front-end components\n",
    "    1. A text title 'Select a State to Analyze'.\n",
    "    2. A dropdown menu that contains the options 'California', 'Oregon' and 'Washington'.\n",
    "    3. Text 'State Selected: X' where X is the state selected in the dropdown menu.\n",
    "    \n",
    "    You will need to build a callback function that takes the selected state and returns output text based on the value selected in the dropdown menu."
   ]
  },
  {
   "cell_type": "code",
   "execution_count": null,
   "id": "a4a76c33",
   "metadata": {},
   "outputs": [],
   "source": [
    "from dash import Dash, html, dcc\n",
    "from dash.dependencies import Input, Output"
   ]
  },
  {
   "cell_type": "code",
   "execution_count": null,
   "id": "badfcd5b",
   "metadata": {},
   "outputs": [],
   "source": [
    "app = Dash(__name__)\n",
    "\n",
    "options = ['California', 'Oregon', 'Washington']\n",
    "dropdown = dcc.Dropdown(id = 'state-input', options = options)\n",
    "\n",
    "app.layout = html.Div(children = [html.H3('Pick a state'), dropdown, html.Div(id = 'state-output')])\n",
    "\n",
    "\n",
    "@app.callback(\n",
    "    Output('state-output', 'children'),\n",
    "    Input('state-input', 'value')\n",
    ")\n",
    "def update_output_div(state: str) -> str:\n",
    "    if state is None:\n",
    "        raise PreventUpdate\n",
    "    return f'The selected state is {state}'\n",
    "\n",
    "if __name__ == '__main__':\n",
    "    app.run_server(port=8050, debug=True)"
   ]
  },
  {
   "cell_type": "markdown",
   "id": "f379c9d7",
   "metadata": {},
   "source": [
    "# Adding plotly visuals to Dash applications"
   ]
  },
  {
   "cell_type": "code",
   "execution_count": 1,
   "id": "167062ca",
   "metadata": {},
   "outputs": [],
   "source": [
    "from dash import Dash, html, dcc\n",
    "from dash.dependencies import Input, Output\n",
    "from dash.exceptions import PreventUpdate\n",
    "import numpy as np\n",
    "import pandas as pd\n",
    "import plotly.graph_objs as go\n",
    "import plotly.offline as pyo\n",
    "import plotly.express as px"
   ]
  },
  {
   "cell_type": "code",
   "execution_count": 2,
   "id": "b5f037be",
   "metadata": {},
   "outputs": [],
   "source": [
    "iris = pd.read_csv('datasets/iris.csv')"
   ]
  },
  {
   "cell_type": "code",
   "execution_count": null,
   "id": "12f203bc",
   "metadata": {},
   "outputs": [],
   "source": [
    "iris"
   ]
  },
  {
   "cell_type": "code",
   "execution_count": 3,
   "id": "e309c604",
   "metadata": {},
   "outputs": [
    {
     "data": {
      "text/plain": [
       "['Iris-setosa', 'Iris-versicolor', 'Iris-virginica']"
      ]
     },
     "execution_count": 3,
     "metadata": {},
     "output_type": "execute_result"
    }
   ],
   "source": [
    "species = iris['class'].value_counts().index.tolist()\n",
    "species"
   ]
  },
  {
   "cell_type": "code",
   "execution_count": 4,
   "id": "4b8e9531",
   "metadata": {},
   "outputs": [
    {
     "data": {
      "text/html": [
       "\n",
       "        <iframe\n",
       "            width=\"100%\"\n",
       "            height=\"650\"\n",
       "            src=\"http://127.0.0.1:8050/\"\n",
       "            frameborder=\"0\"\n",
       "            allowfullscreen\n",
       "            \n",
       "        ></iframe>\n",
       "        "
      ],
      "text/plain": [
       "<IPython.lib.display.IFrame at 0x1cb199ab110>"
      ]
     },
     "metadata": {},
     "output_type": "display_data"
    }
   ],
   "source": [
    "app = Dash(__name__)\n",
    "\n",
    "app.layout = html.Div(children = ['Pick a specie', \n",
    "                                  dcc.Dropdown(id='specie-input', options=species),\n",
    "                                  dcc.Graph(id='specie-output')\n",
    "                                 ])\n",
    "\n",
    "@app.callback(Output('specie-output', 'figure'), Input('specie-input', 'value'))\n",
    "def update_output_graph(specie : str):\n",
    "    \n",
    "    if specie is None:\n",
    "        raise PreventUpdate\n",
    "    \n",
    "    df = iris[iris['class'] == specie]\n",
    "    \n",
    "    trace = go.Scatter(x= df['sepal_length'].values, y=df['petal_length'].values, mode='markers')\n",
    "    \n",
    "    data = [trace]\n",
    "    \n",
    "    layout = go.Layout(title='sepal_length vs petal_length', xaxis={'title':'sepal_length'}, yaxis=dict(title='petal_length'))\n",
    "    \n",
    "    return go.Figure(data=data, layout=layout)\n",
    "    \n",
    "    \n",
    "if __name__ == '__main__':\n",
    "    app.run_server(port=8050, debug=True)"
   ]
  },
  {
   "cell_type": "markdown",
   "id": "0a418eee",
   "metadata": {},
   "source": [
    "# adding HTML components "
   ]
  },
  {
   "cell_type": "code",
   "execution_count": 8,
   "id": "22a36cb3",
   "metadata": {},
   "outputs": [
    {
     "data": {
      "text/html": [
       "\n",
       "        <iframe\n",
       "            width=\"100%\"\n",
       "            height=\"650\"\n",
       "            src=\"http://127.0.0.1:8050/\"\n",
       "            frameborder=\"0\"\n",
       "            allowfullscreen\n",
       "            \n",
       "        ></iframe>\n",
       "        "
      ],
      "text/plain": [
       "<IPython.lib.display.IFrame at 0x1cb09576c90>"
      ]
     },
     "metadata": {},
     "output_type": "display_data"
    }
   ],
   "source": [
    "from dash import Dash, html, dcc\n",
    "from dash.dependencies import Input, Output\n",
    "\n",
    "app = Dash(__name__)\n",
    "\n",
    "dropdown = dcc.Dropdown(id = 'color-input', options = ['red', 'blue', 'green', 'yellow', 'pink'])\n",
    "\n",
    "app.layout = html.Div(children = [dropdown, html.H3('This is inside an HTML component', id ='color-output')])\n",
    "\n",
    "\n",
    "@app.callback(Output('color-output', 'style'), Input('color-input', 'value'))\n",
    "def update_div_text_color(color : str) -> dict:\n",
    "    return dict(color = color)\n",
    "    \n",
    "\n",
    "if __name__ == '__main__':\n",
    "    app.run_server(port=8050, debug=True)"
   ]
  },
  {
   "cell_type": "markdown",
   "id": "98e6d9d9",
   "metadata": {},
   "source": [
    "# core components"
   ]
  },
  {
   "cell_type": "code",
   "execution_count": 10,
   "id": "60738647",
   "metadata": {},
   "outputs": [],
   "source": [
    "from dash import Dash, dcc, html\n",
    "from dash.dependencies import Input, Output"
   ]
  },
  {
   "cell_type": "code",
   "execution_count": 17,
   "id": "73a57ba3",
   "metadata": {},
   "outputs": [
    {
     "data": {
      "text/html": [
       "\n",
       "        <iframe\n",
       "            width=\"100%\"\n",
       "            height=\"650\"\n",
       "            src=\"http://127.0.0.1:8050/\"\n",
       "            frameborder=\"0\"\n",
       "            allowfullscreen\n",
       "            \n",
       "        ></iframe>\n",
       "        "
      ],
      "text/plain": [
       "<IPython.lib.display.IFrame at 0x1cb1d0b5fd0>"
      ]
     },
     "metadata": {},
     "output_type": "display_data"
    }
   ],
   "source": [
    "app = Dash(__name__)\n",
    "\n",
    "options = [dict(label = 'San Francisco', value = 'SF'), dict(label = 'New York City', value = 'NYC')]\n",
    "\n",
    "dropdown = dcc.Dropdown(options = options, value = 'SF')\n",
    "\n",
    "slider = dcc.Slider(min = -10, max = 10, step=1, value = 0, marks = {i:chr(75+i) for i in range(-10, 11)})\n",
    "\n",
    "app.layout = html.Div(children = [html.H3('Dropdown'), dropdown, html.H3('Slider'), slider])\n",
    "\n",
    "if __name__ == '__main__':\n",
    "    app.run_server(port=8050, debug=True)"
   ]
  },
  {
   "cell_type": "markdown",
   "id": "ba8f1ebb",
   "metadata": {},
   "source": [
    "# Input bar in Dash dashboard with callback"
   ]
  },
  {
   "cell_type": "code",
   "execution_count": 20,
   "id": "45cab31d",
   "metadata": {},
   "outputs": [],
   "source": [
    "from dash import Dash, html, dcc\n",
    "from dash.dependencies import Input, Output\n",
    "from dash.exceptions import PreventUpdate"
   ]
  },
  {
   "cell_type": "code",
   "execution_count": 28,
   "id": "ec1b188d",
   "metadata": {},
   "outputs": [
    {
     "data": {
      "text/html": [
       "\n",
       "        <iframe\n",
       "            width=\"100%\"\n",
       "            height=\"650\"\n",
       "            src=\"http://127.0.0.1:8050/\"\n",
       "            frameborder=\"0\"\n",
       "            allowfullscreen\n",
       "            \n",
       "        ></iframe>\n",
       "        "
      ],
      "text/plain": [
       "<IPython.lib.display.IFrame at 0x1cb1ce8bf50>"
      ]
     },
     "metadata": {},
     "output_type": "display_data"
    }
   ],
   "source": [
    "app = Dash(__name__)\n",
    "\n",
    "app.layout = html.Div(children = [dcc.Input(id = 'name-input', type = 'text'), html.H3(id = 'name-output')])\n",
    "\n",
    "\n",
    "@app.callback(Output('name-output', 'children'), Input('name-input', 'value'))\n",
    "def update_name(name : str) -> str:\n",
    "    if name is None:\n",
    "        raise PreventUpdate\n",
    "    elif name == '':\n",
    "        return f''\n",
    "    else:\n",
    "        return f\"Your name is {name}\"\n",
    "\n",
    "if __name__ == '__main__':\n",
    "    app.run_server(port=8050, debug=True)"
   ]
  },
  {
   "cell_type": "code",
   "execution_count": null,
   "id": "ba97a099",
   "metadata": {},
   "outputs": [],
   "source": []
  },
  {
   "cell_type": "code",
   "execution_count": null,
   "id": "e3de7235",
   "metadata": {},
   "outputs": [],
   "source": []
  }
 ],
 "metadata": {
  "kernelspec": {
   "display_name": "Python 3 (ipykernel)",
   "language": "python",
   "name": "python3"
  },
  "language_info": {
   "codemirror_mode": {
    "name": "ipython",
    "version": 3
   },
   "file_extension": ".py",
   "mimetype": "text/x-python",
   "name": "python",
   "nbconvert_exporter": "python",
   "pygments_lexer": "ipython3",
   "version": "3.11.5"
  }
 },
 "nbformat": 4,
 "nbformat_minor": 5
}
