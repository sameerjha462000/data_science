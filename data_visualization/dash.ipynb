{
 "cells": [
  {
   "cell_type": "code",
   "execution_count": null,
   "id": "46af9518",
   "metadata": {},
   "outputs": [],
   "source": [
    "from dash import Dash\n",
    "import dash_core_components as dcc # deprecated\n",
    "import dash_html_components as html # deprecated"
   ]
  },
  {
   "cell_type": "code",
   "execution_count": null,
   "id": "48b46102",
   "metadata": {},
   "outputs": [],
   "source": [
    "from dash import Dash, html, dcc"
   ]
  },
  {
   "cell_type": "code",
   "execution_count": null,
   "id": "a266df5b",
   "metadata": {},
   "outputs": [],
   "source": [
    "# create an instance of Dash\n",
    "app = Dash(__name__)\n",
    "\n",
    "# layout of the dash application\n",
    "app.layout = html.Div(children = html.H1('My First Dash App'))\n",
    "\n",
    "# to run the dash application\n",
    "if __name__ == '__main__':\n",
    "    # by default also the port number is 8050 and by default the debug value is False.\n",
    "    app.run_server(port = 8050, debug = True)"
   ]
  },
  {
   "cell_type": "markdown",
   "id": "8765040b",
   "metadata": {},
   "source": [
    "# Interactive elements in Dash app"
   ]
  },
  {
   "cell_type": "markdown",
   "id": "7060d590",
   "metadata": {},
   "source": [
    "    Dash has many interactive elements that can be added to apps for user interaction.\n",
    "    \n",
    "    These are provided by the Dash Core Components module(dcc).\n",
    "    \n",
    "    These are:\n",
    "    1. Dropdown\n",
    "    2. Slider\n",
    "    3. RangeSlider\n",
    "    4. Checklist\n",
    "    5. RadioItems\n",
    "    6. DatePickerSingle\n",
    "    7. DatePickerRange\n",
    "    8. Tabs\n",
    "    9. Graphs\n",
    "    \n",
    "    These interactive elements are useless until they are processed in the back-end with callback functions."
   ]
  },
  {
   "cell_type": "markdown",
   "id": "a85c20eb",
   "metadata": {},
   "source": [
    "### Dash dropdown component example\n",
    "\n",
    "    The dcc.Dropdown() component has three properties:\n",
    "    1. options: contains the contents of the dropdown\n",
    "    2. id: the identifier for the value passed through\n",
    "    3. value: the option selected"
   ]
  },
  {
   "cell_type": "code",
   "execution_count": null,
   "id": "da1e5fed",
   "metadata": {},
   "outputs": [],
   "source": [
    "from dash import Dash, html, dcc"
   ]
  },
  {
   "cell_type": "code",
   "execution_count": null,
   "id": "e44b24ec",
   "metadata": {},
   "outputs": [],
   "source": [
    "app = Dash(__name__)\n",
    "\n",
    "dropdown = dcc.Dropdown(options=['Red', 'Blue', 'Green', 'Yellow', 'Pink'], value = '')\n",
    "\n",
    "children = ['Pick a Color !', dropdown]\n",
    "\n",
    "app.layout = html.Div(children=children)\n",
    "\n",
    "if __name__ == '__main__':\n",
    "    app.run_server(debug=True, port=8050)"
   ]
  },
  {
   "cell_type": "markdown",
   "id": "165f15a9",
   "metadata": {},
   "source": [
    "### callback functions\n",
    "    Callback functions process user inputs and update the app accordingly.\n",
    "    \n",
    "    1. They are triggered by a change to a property of an HTML component(input)\n",
    "    2. They then change the property of another HTML component(output).\n",
    "    \n",
    "    callback functions are defined by using the @app.callback decorator and have atleast two arguments(output and input),\n",
    "    followed by the function itself.\n",
    "    \n",
    "    \n",
    "    @app.callback(Output(component_id, component_property), Input(component_id, component_property))"
   ]
  },
  {
   "cell_type": "code",
   "execution_count": null,
   "id": "8182e57b",
   "metadata": {},
   "outputs": [],
   "source": [
    "from dash import Dash, html, dcc\n",
    "from dash.dependencies import Input, Output\n",
    "from dash.exceptions import PreventUpdate"
   ]
  },
  {
   "cell_type": "code",
   "execution_count": null,
   "id": "f7d9e63f",
   "metadata": {},
   "outputs": [],
   "source": [
    "app = Dash(__name__)\n",
    "\n",
    "dropdown = dcc.Dropdown(options=['Red', 'Blue', 'Green'], id='color-input')\n",
    "\n",
    "app.layout = html.Div(children = [dropdown, html.Div(id = 'color-output')])\n",
    "\n",
    "\n",
    "@app.callback(Output('color-output', 'children'), Input('color-input', 'value'))\n",
    "def update_div(color :str) -> str:\n",
    "    if color is None:\n",
    "        raise PreventUpdate\n",
    "    return f\"color selected : {color}\"\n",
    "\n",
    "if __name__ == '__main__':\n",
    "    app.run_server(debug=True, port=8050)"
   ]
  },
  {
   "cell_type": "markdown",
   "id": "49970ede",
   "metadata": {},
   "source": [
    "# Assignment 1: Simple Dash App"
   ]
  },
  {
   "cell_type": "markdown",
   "id": "51f9bfce",
   "metadata": {},
   "source": [
    "    Create a dash application with the following front-end components\n",
    "    1. A text title 'Select a State to Analyze'.\n",
    "    2. A dropdown menu that contains the options 'California', 'Oregon' and 'Washington'.\n",
    "    3. Text 'State Selected: X' where X is the state selected in the dropdown menu.\n",
    "    \n",
    "    You will need to build a callback function that takes the selected state and returns output text based on the value selected in the dropdown menu."
   ]
  },
  {
   "cell_type": "code",
   "execution_count": null,
   "id": "ad8f9a61",
   "metadata": {},
   "outputs": [],
   "source": [
    "from dash import Dash, html, dcc\n",
    "from dash.dependencies import Input, Output"
   ]
  },
  {
   "cell_type": "code",
   "execution_count": null,
   "id": "86beb982",
   "metadata": {},
   "outputs": [],
   "source": [
    "app = Dash(__name__)\n",
    "\n",
    "options = ['California', 'Oregon', 'Washington']\n",
    "dropdown = dcc.Dropdown(id = 'state-input', options = options)\n",
    "\n",
    "app.layout = html.Div(children = [html.H3('Pick a state'), dropdown, html.Div(id = 'state-output')])\n",
    "\n",
    "\n",
    "@app.callback(\n",
    "    Output('state-output', 'children'),\n",
    "    Input('state-input', 'value')\n",
    ")\n",
    "def update_output_div(state: str) -> str:\n",
    "    if state is None:\n",
    "        raise PreventUpdate\n",
    "    return f'The selected state is {state}'\n",
    "\n",
    "if __name__ == '__main__':\n",
    "    app.run_server(port=8050, debug=True)"
   ]
  },
  {
   "cell_type": "markdown",
   "id": "749a2a41",
   "metadata": {},
   "source": [
    "# Adding plotly visuals to Dash applications"
   ]
  },
  {
   "cell_type": "code",
   "execution_count": null,
   "id": "d0158c35",
   "metadata": {},
   "outputs": [],
   "source": [
    "from dash import Dash, html, dcc\n",
    "from dash.dependencies import Input, Output\n",
    "from dash.exceptions import PreventUpdate\n",
    "import numpy as np\n",
    "import pandas as pd\n",
    "import plotly.graph_objs as go\n",
    "import plotly.offline as pyo\n",
    "import plotly.express as px"
   ]
  },
  {
   "cell_type": "code",
   "execution_count": null,
   "id": "0f227b80",
   "metadata": {},
   "outputs": [],
   "source": [
    "iris = pd.read_csv('datasets/iris.csv')"
   ]
  },
  {
   "cell_type": "code",
   "execution_count": null,
   "id": "4c536f06",
   "metadata": {},
   "outputs": [],
   "source": [
    "iris"
   ]
  },
  {
   "cell_type": "code",
   "execution_count": null,
   "id": "d5a0ae36",
   "metadata": {},
   "outputs": [],
   "source": [
    "species = iris['class'].value_counts().index.tolist()\n",
    "species"
   ]
  },
  {
   "cell_type": "code",
   "execution_count": null,
   "id": "750647ff",
   "metadata": {},
   "outputs": [],
   "source": [
    "app = Dash(__name__)\n",
    "\n",
    "app.layout = html.Div(children = ['Pick a specie', \n",
    "                                  dcc.Dropdown(id='specie-input', options=species),\n",
    "                                  dcc.Graph(id='specie-output')\n",
    "                                 ])\n",
    "\n",
    "@app.callback(Output('specie-output', 'figure'), Input('specie-input', 'value'))\n",
    "def update_output_graph(specie : str):\n",
    "    \n",
    "    if specie is None:\n",
    "        raise PreventUpdate\n",
    "    \n",
    "    df = iris[iris['class'] == specie]\n",
    "    \n",
    "    trace = go.Scatter(x= df['sepal_length'].values, y=df['petal_length'].values, mode='markers')\n",
    "    \n",
    "    data = [trace]\n",
    "    \n",
    "    layout = go.Layout(title='sepal_length vs petal_length', xaxis={'title':'sepal_length'}, yaxis=dict(title='petal_length'))\n",
    "    \n",
    "    return go.Figure(data=data, layout=layout)\n",
    "    \n",
    "    \n",
    "if __name__ == '__main__':\n",
    "    app.run_server(port=8050, debug=True)"
   ]
  },
  {
   "cell_type": "code",
   "execution_count": null,
   "id": "7daa6f24",
   "metadata": {},
   "outputs": [],
   "source": []
  }
 ],
 "metadata": {
  "kernelspec": {
   "display_name": "Python 3 (ipykernel)",
   "language": "python",
   "name": "python3"
  },
  "language_info": {
   "codemirror_mode": {
    "name": "ipython",
    "version": 3
   },
   "file_extension": ".py",
   "mimetype": "text/x-python",
   "name": "python",
   "nbconvert_exporter": "python",
   "pygments_lexer": "ipython3",
   "version": "3.11.5"
  }
 },
 "nbformat": 4,
 "nbformat_minor": 5
}
