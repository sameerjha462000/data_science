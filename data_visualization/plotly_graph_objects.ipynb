{
 "cells": [
  {
   "cell_type": "markdown",
   "id": "6e885162",
   "metadata": {},
   "source": [
    "# Plotly"
   ]
  },
  {
   "cell_type": "markdown",
   "id": "02c96857",
   "metadata": {},
   "source": [
    "    Scatter plots allow the comparison of two variables for a set of data.\n",
    "    "
   ]
  },
  {
   "cell_type": "code",
   "execution_count": null,
   "id": "558d6bfd",
   "metadata": {},
   "outputs": [],
   "source": [
    "import numpy as np\n",
    "import plotly.offline as pyo\n",
    "import plotly.graph_objs as go\n",
    "import pandas as pd"
   ]
  },
  {
   "cell_type": "code",
   "execution_count": null,
   "id": "6785a55c",
   "metadata": {},
   "outputs": [],
   "source": [
    "np.random.seed(42)\n",
    "random_x = np.random.randint(1, 101, 100)\n",
    "random_y = np.random.randint(1, 101, 100)\n",
    "\n",
    "data = [go.Scatter(x = random_x, y = random_y, \n",
    "                   mode = 'markers')]\n",
    "\n",
    "pyo.plot(data)"
   ]
  },
  {
   "cell_type": "code",
   "execution_count": null,
   "id": "2fd3c511",
   "metadata": {},
   "outputs": [],
   "source": [
    "np.random.seed(42)\n",
    "random_x = np.random.randint(1, 101, 100)\n",
    "random_y = np.random.randint(1, 101, 100)\n",
    "\n",
    "trace = go.Scatter(x = random_x, \n",
    "                   y = random_y, \n",
    "                   mode = 'markers', \n",
    "                   marker = dict(\n",
    "                                    color='green',\n",
    "                                    symbol = 'pentagon',\n",
    "                                    size=20,\n",
    "                                    line=dict(\n",
    "                                        color='black',\n",
    "                                        width=2\n",
    "                                    )\n",
    "                    ))\n",
    "\n",
    "data = [trace]\n",
    "\n",
    "layout = go.Layout(\n",
    "                    title = 'Hello First Plot',\n",
    "                    xaxis = dict(title = 'My X Axis'),\n",
    "                    yaxis = dict(title = 'My Y Axis'),\n",
    "                    hovermode = 'closest'\n",
    "                  )\n",
    "\n",
    "fig = go.Figure(data = data, layout = layout)\n",
    "pyo.plot(fig)"
   ]
  },
  {
   "cell_type": "markdown",
   "id": "77c24224",
   "metadata": {},
   "source": [
    "# Line plots in plotly"
   ]
  },
  {
   "cell_type": "code",
   "execution_count": null,
   "id": "ef8f7f39",
   "metadata": {},
   "outputs": [],
   "source": [
    "np.random.seed(56)\n",
    "x_values = np.linspace(0, 1, 100)\n",
    "y_values = np.random.randn(100)\n",
    "\n",
    "trace0 = go.Scatter(x = x_values, y = y_values+5, mode = 'markers')\n",
    "\n",
    "data = [trace0]\n",
    "\n",
    "layout = go.Layout(title = 'This is to show different modes', xaxis = {'title':'My X Axis'}, yaxis = dict(title = 'My Y Axis'))\n",
    "\n",
    "fig = go.Figure(data = data, layout = layout)\n",
    "\n",
    "pyo.plot(fig)"
   ]
  },
  {
   "cell_type": "code",
   "execution_count": null,
   "id": "e2dd1b47",
   "metadata": {},
   "outputs": [],
   "source": [
    "np.random.seed(56)\n",
    "x_values = np.linspace(0, 1, 100)\n",
    "y_values = np.random.randn(100)\n",
    "\n",
    "trace0 = go.Scatter(x = x_values, y = y_values+5, mode = 'markers', name = 'markers')\n",
    "trace1 = go.Scatter(x = x_values, y = y_values, mode = 'markers+lines', name = 'markers with lines')\n",
    "\n",
    "data = [trace0, trace1]\n",
    "\n",
    "layout = go.Layout(title = 'This is to show different modes', xaxis = {'title':'My X Axis'}, yaxis = dict(title = 'My Y Axis'))\n",
    "\n",
    "fig = go.Figure(data = data, layout = layout)\n",
    "\n",
    "pyo.plot(fig)"
   ]
  },
  {
   "cell_type": "code",
   "execution_count": null,
   "id": "6a8df428",
   "metadata": {},
   "outputs": [],
   "source": [
    "np.random.seed(56)\n",
    "x_values = np.linspace(0, 1, 100)\n",
    "y_values = np.random.randn(100)\n",
    "\n",
    "trace0 = go.Scatter(x = x_values, y = y_values+5, mode = 'markers',  name = 'markers')\n",
    "trace1 = go.Scatter(x = x_values, y = y_values, mode = 'markers+lines', name = 'markers with lines')\n",
    "trace2 = go.Scatter(x = x_values, y = y_values-5, mode = 'lines', name = 'lines')\n",
    "\n",
    "data = [trace0, trace1, trace2]\n",
    "\n",
    "layout = go.Layout(title = 'This is to show different modes', xaxis = {'title':'My X Axis'}, yaxis = dict(title = 'My Y Axis'))\n",
    "\n",
    "fig = go.Figure(data = data, layout = layout)\n",
    "\n",
    "pyo.plot(fig)"
   ]
  },
  {
   "cell_type": "markdown",
   "id": "f2415ea1",
   "metadata": {},
   "source": [
    "# plotting iris dataset using plotly"
   ]
  },
  {
   "cell_type": "code",
   "execution_count": null,
   "id": "7f99d44e",
   "metadata": {},
   "outputs": [],
   "source": [
    "# perform the imports\n",
    "import numpy as np\n",
    "import pandas as pd\n",
    "import plotly.offline as pyo\n",
    "import plotly.graph_objs as go"
   ]
  },
  {
   "cell_type": "code",
   "execution_count": null,
   "id": "a7be5662",
   "metadata": {},
   "outputs": [],
   "source": [
    "iris = pd.read_csv('datasets/iris.csv')\n",
    "iris"
   ]
  },
  {
   "cell_type": "code",
   "execution_count": null,
   "id": "0ac68295",
   "metadata": {},
   "outputs": [],
   "source": [
    "species = iris['class'].value_counts().index\n",
    "species"
   ]
  },
  {
   "cell_type": "code",
   "execution_count": null,
   "id": "a3bced36",
   "metadata": {},
   "outputs": [],
   "source": [
    "iris[iris['class'] == 'Iris-setosa'].sepal_length.values"
   ]
  },
  {
   "cell_type": "code",
   "execution_count": null,
   "id": "6541858a",
   "metadata": {},
   "outputs": [],
   "source": [
    "# returns a list of all the sepal lengths for a given specie\n",
    "def x_values_generator(specie: str):\n",
    "    return iris[iris['class'] == specie].sepal_length.values\n",
    "\n",
    "# returns a list of all the petal lengths for a given specie\n",
    "def y_values_generator(specie: str):\n",
    "    return iris[iris['class'] == specie].petal_length.values"
   ]
  },
  {
   "cell_type": "code",
   "execution_count": null,
   "id": "6daf4688",
   "metadata": {},
   "outputs": [],
   "source": [
    "trace0 = go.Scatter(x = x_values_generator(species[0]), y = y_values_generator(species[0]),\n",
    "                    mode = 'markers', marker = dict(color = 'red'), name = species[0])\n",
    "\n",
    "trace1 = go.Scatter(x = x_values_generator(species[1]), y = y_values_generator(species[1]),\n",
    "                    mode = 'markers', marker = dict(color = 'blue'), name = species[1])\n",
    "\n",
    "trace2 = go.Scatter(x = x_values_generator(species[2]), y = y_values_generator(species[2]),\n",
    "                    mode = 'markers', marker = dict(color = 'green'), name = species[2])\n",
    "\n",
    "\n",
    "data = [trace0, trace1, trace2]"
   ]
  },
  {
   "cell_type": "code",
   "execution_count": null,
   "id": "66fe5069",
   "metadata": {},
   "outputs": [],
   "source": [
    "# create the layout\n",
    "layout = go.Layout(title = 'Iris Species Sepal Vs Petal Lengths', \n",
    "                  xaxis = {'title': 'Sepal Length'},\n",
    "                  yaxis = {'title': 'Petal Length'})\n",
    "\n",
    "# create the figure\n",
    "fig = go.Figure(data = data, layout = layout)\n",
    "\n",
    "pyo.plot(fig)"
   ]
  },
  {
   "cell_type": "markdown",
   "id": "1439a919",
   "metadata": {},
   "source": [
    "# Line chart assignment"
   ]
  },
  {
   "cell_type": "markdown",
   "id": "074cb3b7",
   "metadata": {},
   "source": [
    "    Using the file 2010YumaAZ.csv, develop a line chart that plots seven days worth of temperature data on one graph.\n",
    "    You can use a for loop to assign each day to its own trace."
   ]
  },
  {
   "cell_type": "code",
   "execution_count": null,
   "id": "ff821693",
   "metadata": {},
   "outputs": [],
   "source": [
    "df = pd.read_csv('datasets/2010YumaAZ.csv')\n",
    "df"
   ]
  },
  {
   "cell_type": "code",
   "execution_count": null,
   "id": "d343def9",
   "metadata": {},
   "outputs": [],
   "source": [
    "days = df.DAY.value_counts().index\n",
    "days"
   ]
  },
  {
   "cell_type": "code",
   "execution_count": null,
   "id": "e10c1a71",
   "metadata": {},
   "outputs": [],
   "source": [
    "def temperatures(day : str):\n",
    "    return df[df['DAY'] == day]['T_HR_AVG'].values\n",
    "\n",
    "def times(day: str):\n",
    "    return df[df['DAY'] == day]['LST_TIME'].values"
   ]
  },
  {
   "cell_type": "code",
   "execution_count": null,
   "id": "08ece6f8",
   "metadata": {},
   "outputs": [],
   "source": [
    "data = [go.Scatter(x = times(day), y = temperatures(day), mode = 'lines', name = day) for day in days]\n",
    "data"
   ]
  },
  {
   "cell_type": "code",
   "execution_count": null,
   "id": "15ca59d2",
   "metadata": {},
   "outputs": [],
   "source": [
    "# create the layout\n",
    "layout = go.Layout(title = 'Temperature Vs Time Graph For Various Days', \n",
    "                   xaxis = dict(title = 'time'), \n",
    "                   yaxis = dict(title = 'temperature'))\n",
    "\n",
    "# create the figure\n",
    "fig = go.Figure(data = data, layout = layout)\n",
    "\n",
    "pyo.plot(fig)"
   ]
  },
  {
   "cell_type": "markdown",
   "id": "36d6c5e9",
   "metadata": {},
   "source": [
    "# Line chart assignment 2"
   ]
  },
  {
   "cell_type": "markdown",
   "id": "18e1bac7",
   "metadata": {},
   "source": [
    "    Take the data 'population.csv' and plot the lines + markers graph for the population estimates of the six new england states."
   ]
  },
  {
   "cell_type": "code",
   "execution_count": null,
   "id": "8d18a7da",
   "metadata": {},
   "outputs": [],
   "source": [
    "population = pd.read_csv('datasets/population.csv')\n",
    "population"
   ]
  },
  {
   "cell_type": "code",
   "execution_count": null,
   "id": "06ed652c",
   "metadata": {},
   "outputs": [],
   "source": [
    "states = population['Name'].values\n",
    "states\n",
    "enumerated_states = list(enumerate(states))\n",
    "enumerated_states"
   ]
  },
  {
   "cell_type": "code",
   "execution_count": null,
   "id": "541299fd",
   "metadata": {},
   "outputs": [],
   "source": [
    "years = population.columns[1:]\n",
    "years"
   ]
  },
  {
   "cell_type": "code",
   "execution_count": null,
   "id": "ab377d0f",
   "metadata": {},
   "outputs": [],
   "source": [
    "def population_by_enumerated_state(enumerated_state: tuple[int, str]):\n",
    "    index, state = enumerated_state\n",
    "    \n",
    "    return np.array([population[year][index] for year in years])\n",
    "\n",
    "population_by_enumerated_state(enumerated_states[2])"
   ]
  },
  {
   "cell_type": "code",
   "execution_count": null,
   "id": "347b8350",
   "metadata": {},
   "outputs": [],
   "source": [
    "data = [go.Scatter(x = years, y = population_by_enumerated_state(enumerated_state), mode = 'markers+lines', \n",
    "                   name = enumerated_state[1]) \\\n",
    "        for enumerated_state in enumerated_states\n",
    "       ]\n",
    "\n",
    "data"
   ]
  },
  {
   "cell_type": "code",
   "execution_count": null,
   "id": "94904115",
   "metadata": {},
   "outputs": [],
   "source": [
    "# create the layout\n",
    "layout = go.Layout(title = 'population estimates of the six new england states.',\n",
    "                   xaxis = dict(title = 'years'),\n",
    "                   yaxis = dict(title = 'population'))\n",
    "\n",
    "# create the figure\n",
    "fig = go.Figure(data = data, layout = layout)\n",
    "\n",
    "pyo.plot(fig)"
   ]
  },
  {
   "cell_type": "markdown",
   "id": "4ba6ba00",
   "metadata": {},
   "source": [
    "# Bar chart"
   ]
  },
  {
   "cell_type": "markdown",
   "id": "c9c25951",
   "metadata": {},
   "source": [
    "    Using Bar charts, we can visualize categorical data.\n",
    "    Typically, the x-axis is the categories and the y-axis is the number of elements in each category.\n",
    "    \n",
    "    We have different types of bar chart:\n",
    "    1. Simple bar chart\n",
    "    2. Stacked bar chart\n",
    "    3. Nested bar chart"
   ]
  },
  {
   "cell_type": "code",
   "execution_count": 1,
   "id": "a73c30f1",
   "metadata": {},
   "outputs": [],
   "source": [
    "# perform the imports\n",
    "import numpy as np\n",
    "import pandas as pd\n",
    "import plotly.offline as pyo\n",
    "import plotly.graph_objs as go"
   ]
  },
  {
   "cell_type": "code",
   "execution_count": 2,
   "id": "13b31b2f",
   "metadata": {},
   "outputs": [
    {
     "data": {
      "text/html": [
       "<div>\n",
       "<style scoped>\n",
       "    .dataframe tbody tr th:only-of-type {\n",
       "        vertical-align: middle;\n",
       "    }\n",
       "\n",
       "    .dataframe tbody tr th {\n",
       "        vertical-align: top;\n",
       "    }\n",
       "\n",
       "    .dataframe thead th {\n",
       "        text-align: right;\n",
       "    }\n",
       "</style>\n",
       "<table border=\"1\" class=\"dataframe\">\n",
       "  <thead>\n",
       "    <tr style=\"text-align: right;\">\n",
       "      <th></th>\n",
       "      <th>Rank</th>\n",
       "      <th>NOC</th>\n",
       "      <th>Gold</th>\n",
       "      <th>Silver</th>\n",
       "      <th>Bronze</th>\n",
       "      <th>Total</th>\n",
       "    </tr>\n",
       "  </thead>\n",
       "  <tbody>\n",
       "    <tr>\n",
       "      <th>0</th>\n",
       "      <td>1</td>\n",
       "      <td>Norway</td>\n",
       "      <td>14</td>\n",
       "      <td>14</td>\n",
       "      <td>11</td>\n",
       "      <td>39</td>\n",
       "    </tr>\n",
       "    <tr>\n",
       "      <th>1</th>\n",
       "      <td>2</td>\n",
       "      <td>Germany</td>\n",
       "      <td>14</td>\n",
       "      <td>10</td>\n",
       "      <td>7</td>\n",
       "      <td>31</td>\n",
       "    </tr>\n",
       "    <tr>\n",
       "      <th>2</th>\n",
       "      <td>3</td>\n",
       "      <td>Canada</td>\n",
       "      <td>11</td>\n",
       "      <td>8</td>\n",
       "      <td>10</td>\n",
       "      <td>29</td>\n",
       "    </tr>\n",
       "    <tr>\n",
       "      <th>3</th>\n",
       "      <td>4</td>\n",
       "      <td>United States</td>\n",
       "      <td>9</td>\n",
       "      <td>8</td>\n",
       "      <td>6</td>\n",
       "      <td>23</td>\n",
       "    </tr>\n",
       "    <tr>\n",
       "      <th>4</th>\n",
       "      <td>5</td>\n",
       "      <td>Netherlands</td>\n",
       "      <td>8</td>\n",
       "      <td>6</td>\n",
       "      <td>6</td>\n",
       "      <td>20</td>\n",
       "    </tr>\n",
       "    <tr>\n",
       "      <th>5</th>\n",
       "      <td>6</td>\n",
       "      <td>Sweden</td>\n",
       "      <td>7</td>\n",
       "      <td>6</td>\n",
       "      <td>1</td>\n",
       "      <td>14</td>\n",
       "    </tr>\n",
       "    <tr>\n",
       "      <th>6</th>\n",
       "      <td>7</td>\n",
       "      <td>Republic of Korea</td>\n",
       "      <td>5</td>\n",
       "      <td>8</td>\n",
       "      <td>4</td>\n",
       "      <td>17</td>\n",
       "    </tr>\n",
       "    <tr>\n",
       "      <th>7</th>\n",
       "      <td>8</td>\n",
       "      <td>Switzerland</td>\n",
       "      <td>5</td>\n",
       "      <td>6</td>\n",
       "      <td>4</td>\n",
       "      <td>15</td>\n",
       "    </tr>\n",
       "    <tr>\n",
       "      <th>8</th>\n",
       "      <td>9</td>\n",
       "      <td>France</td>\n",
       "      <td>5</td>\n",
       "      <td>4</td>\n",
       "      <td>6</td>\n",
       "      <td>15</td>\n",
       "    </tr>\n",
       "    <tr>\n",
       "      <th>9</th>\n",
       "      <td>10</td>\n",
       "      <td>Austria</td>\n",
       "      <td>5</td>\n",
       "      <td>3</td>\n",
       "      <td>6</td>\n",
       "      <td>14</td>\n",
       "    </tr>\n",
       "    <tr>\n",
       "      <th>10</th>\n",
       "      <td>11</td>\n",
       "      <td>Japan</td>\n",
       "      <td>4</td>\n",
       "      <td>5</td>\n",
       "      <td>4</td>\n",
       "      <td>13</td>\n",
       "    </tr>\n",
       "    <tr>\n",
       "      <th>11</th>\n",
       "      <td>12</td>\n",
       "      <td>Italy</td>\n",
       "      <td>3</td>\n",
       "      <td>2</td>\n",
       "      <td>5</td>\n",
       "      <td>10</td>\n",
       "    </tr>\n",
       "    <tr>\n",
       "      <th>12</th>\n",
       "      <td>13</td>\n",
       "      <td>OAR</td>\n",
       "      <td>2</td>\n",
       "      <td>6</td>\n",
       "      <td>9</td>\n",
       "      <td>17</td>\n",
       "    </tr>\n",
       "    <tr>\n",
       "      <th>13</th>\n",
       "      <td>14</td>\n",
       "      <td>Czech Republic</td>\n",
       "      <td>2</td>\n",
       "      <td>2</td>\n",
       "      <td>3</td>\n",
       "      <td>7</td>\n",
       "    </tr>\n",
       "    <tr>\n",
       "      <th>14</th>\n",
       "      <td>15</td>\n",
       "      <td>Belarus</td>\n",
       "      <td>2</td>\n",
       "      <td>1</td>\n",
       "      <td>0</td>\n",
       "      <td>3</td>\n",
       "    </tr>\n",
       "    <tr>\n",
       "      <th>15</th>\n",
       "      <td>16</td>\n",
       "      <td>China</td>\n",
       "      <td>1</td>\n",
       "      <td>6</td>\n",
       "      <td>2</td>\n",
       "      <td>9</td>\n",
       "    </tr>\n",
       "    <tr>\n",
       "      <th>16</th>\n",
       "      <td>17</td>\n",
       "      <td>Slovakia</td>\n",
       "      <td>1</td>\n",
       "      <td>2</td>\n",
       "      <td>0</td>\n",
       "      <td>3</td>\n",
       "    </tr>\n",
       "    <tr>\n",
       "      <th>17</th>\n",
       "      <td>18</td>\n",
       "      <td>Finland</td>\n",
       "      <td>1</td>\n",
       "      <td>1</td>\n",
       "      <td>4</td>\n",
       "      <td>6</td>\n",
       "    </tr>\n",
       "    <tr>\n",
       "      <th>18</th>\n",
       "      <td>19</td>\n",
       "      <td>Great Britain</td>\n",
       "      <td>1</td>\n",
       "      <td>0</td>\n",
       "      <td>4</td>\n",
       "      <td>5</td>\n",
       "    </tr>\n",
       "    <tr>\n",
       "      <th>19</th>\n",
       "      <td>20</td>\n",
       "      <td>Poland</td>\n",
       "      <td>1</td>\n",
       "      <td>0</td>\n",
       "      <td>1</td>\n",
       "      <td>2</td>\n",
       "    </tr>\n",
       "    <tr>\n",
       "      <th>20</th>\n",
       "      <td>21</td>\n",
       "      <td>Hungary</td>\n",
       "      <td>1</td>\n",
       "      <td>0</td>\n",
       "      <td>0</td>\n",
       "      <td>1</td>\n",
       "    </tr>\n",
       "    <tr>\n",
       "      <th>21</th>\n",
       "      <td>21</td>\n",
       "      <td>Ukraine</td>\n",
       "      <td>1</td>\n",
       "      <td>0</td>\n",
       "      <td>0</td>\n",
       "      <td>1</td>\n",
       "    </tr>\n",
       "    <tr>\n",
       "      <th>22</th>\n",
       "      <td>23</td>\n",
       "      <td>Australia</td>\n",
       "      <td>0</td>\n",
       "      <td>2</td>\n",
       "      <td>1</td>\n",
       "      <td>3</td>\n",
       "    </tr>\n",
       "    <tr>\n",
       "      <th>23</th>\n",
       "      <td>24</td>\n",
       "      <td>Slovenia</td>\n",
       "      <td>0</td>\n",
       "      <td>1</td>\n",
       "      <td>1</td>\n",
       "      <td>2</td>\n",
       "    </tr>\n",
       "    <tr>\n",
       "      <th>24</th>\n",
       "      <td>25</td>\n",
       "      <td>Belgium</td>\n",
       "      <td>0</td>\n",
       "      <td>1</td>\n",
       "      <td>0</td>\n",
       "      <td>1</td>\n",
       "    </tr>\n",
       "    <tr>\n",
       "      <th>25</th>\n",
       "      <td>26</td>\n",
       "      <td>Spain</td>\n",
       "      <td>0</td>\n",
       "      <td>0</td>\n",
       "      <td>2</td>\n",
       "      <td>2</td>\n",
       "    </tr>\n",
       "    <tr>\n",
       "      <th>26</th>\n",
       "      <td>26</td>\n",
       "      <td>New Zealand</td>\n",
       "      <td>0</td>\n",
       "      <td>0</td>\n",
       "      <td>2</td>\n",
       "      <td>2</td>\n",
       "    </tr>\n",
       "    <tr>\n",
       "      <th>27</th>\n",
       "      <td>28</td>\n",
       "      <td>Kazakhstan</td>\n",
       "      <td>0</td>\n",
       "      <td>0</td>\n",
       "      <td>1</td>\n",
       "      <td>1</td>\n",
       "    </tr>\n",
       "    <tr>\n",
       "      <th>28</th>\n",
       "      <td>28</td>\n",
       "      <td>Latvia</td>\n",
       "      <td>0</td>\n",
       "      <td>0</td>\n",
       "      <td>1</td>\n",
       "      <td>1</td>\n",
       "    </tr>\n",
       "    <tr>\n",
       "      <th>29</th>\n",
       "      <td>28</td>\n",
       "      <td>Liechtenstein</td>\n",
       "      <td>0</td>\n",
       "      <td>0</td>\n",
       "      <td>1</td>\n",
       "      <td>1</td>\n",
       "    </tr>\n",
       "  </tbody>\n",
       "</table>\n",
       "</div>"
      ],
      "text/plain": [
       "    Rank                NOC  Gold  Silver  Bronze  Total\n",
       "0      1             Norway    14      14      11     39\n",
       "1      2            Germany    14      10       7     31\n",
       "2      3             Canada    11       8      10     29\n",
       "3      4      United States     9       8       6     23\n",
       "4      5        Netherlands     8       6       6     20\n",
       "5      6             Sweden     7       6       1     14\n",
       "6      7  Republic of Korea     5       8       4     17\n",
       "7      8        Switzerland     5       6       4     15\n",
       "8      9             France     5       4       6     15\n",
       "9     10            Austria     5       3       6     14\n",
       "10    11              Japan     4       5       4     13\n",
       "11    12              Italy     3       2       5     10\n",
       "12    13                OAR     2       6       9     17\n",
       "13    14     Czech Republic     2       2       3      7\n",
       "14    15            Belarus     2       1       0      3\n",
       "15    16              China     1       6       2      9\n",
       "16    17           Slovakia     1       2       0      3\n",
       "17    18            Finland     1       1       4      6\n",
       "18    19      Great Britain     1       0       4      5\n",
       "19    20             Poland     1       0       1      2\n",
       "20    21            Hungary     1       0       0      1\n",
       "21    21            Ukraine     1       0       0      1\n",
       "22    23          Australia     0       2       1      3\n",
       "23    24           Slovenia     0       1       1      2\n",
       "24    25            Belgium     0       1       0      1\n",
       "25    26              Spain     0       0       2      2\n",
       "26    26        New Zealand     0       0       2      2\n",
       "27    28         Kazakhstan     0       0       1      1\n",
       "28    28             Latvia     0       0       1      1\n",
       "29    28      Liechtenstein     0       0       1      1"
      ]
     },
     "execution_count": 2,
     "metadata": {},
     "output_type": "execute_result"
    }
   ],
   "source": [
    "df = pd.read_csv('datasets/2018WinterOlympics.csv')\n",
    "df"
   ]
  },
  {
   "cell_type": "code",
   "execution_count": null,
   "id": "a2f93116",
   "metadata": {},
   "outputs": [],
   "source": [
    "data = [go.Bar(x = df['NOC'], y = df['Total'])]\n",
    "\n",
    "# create the layout\n",
    "layout = go.Layout(title = 'Medals')\n",
    "\n",
    "# create the figure\n",
    "fig = go.Figure(data = data, layout = layout)\n",
    "\n",
    "pyo.plot(fig)"
   ]
  },
  {
   "cell_type": "markdown",
   "id": "eff118ae",
   "metadata": {},
   "source": [
    "### Nested bar chart example"
   ]
  },
  {
   "cell_type": "markdown",
   "id": "74516ca6",
   "metadata": {},
   "source": [
    "    By default if we plot multiple bar charts, plotly creates nested bar charts."
   ]
  },
  {
   "cell_type": "code",
   "execution_count": null,
   "id": "add3c311",
   "metadata": {},
   "outputs": [],
   "source": [
    "trace0 = go.Bar(x = df['NOC'], y = df['Gold'], name = 'Gold', marker = dict(color = '#FFD700'))\n",
    "trace1 = go.Bar(x = df['NOC'], y = df['Silver'], name = 'Silver', marker = dict(color = '#C0C0C0'))\n",
    "trace2 = go.Bar(x = df['NOC'], y = df['Bronze'], name = 'Bronze', marker = dict(color = '#CD7F32'))\n",
    "\n",
    "data = [trace0, trace1, trace2]\n",
    "\n",
    "# create the layout\n",
    "layout = go.Layout(title = 'Medals')\n",
    "\n",
    "# create the figure\n",
    "fig = go.Figure(data = data, layout = layout)\n",
    "\n",
    "pyo.plot(fig)"
   ]
  },
  {
   "cell_type": "markdown",
   "id": "f628621a",
   "metadata": {},
   "source": [
    "### Stacked bar chart"
   ]
  },
  {
   "cell_type": "markdown",
   "id": "c7bd7b00",
   "metadata": {},
   "source": [
    "    To change the default mode from nested bar chart to stacked bar chart we need to mention barmode = 'stack' while creating\n",
    "    layout."
   ]
  },
  {
   "cell_type": "code",
   "execution_count": null,
   "id": "ca019d5a",
   "metadata": {},
   "outputs": [],
   "source": [
    "trace0 = go.Bar(x = df['NOC'], y = df['Gold'], name = 'Gold', marker = dict(color = '#FFD700'))\n",
    "trace1 = go.Bar(x = df['NOC'], y = df['Silver'], name = 'Silver', marker = dict(color = '#C0C0C0'))\n",
    "trace2 = go.Bar(x = df['NOC'], y = df['Bronze'], name = 'Bronze', marker = dict(color = '#CD7F32'))\n",
    "\n",
    "data = [trace0, trace1, trace2]\n",
    "\n",
    "\n",
    "# just set the barmode to 'stack' in go.Layout() method\n",
    "layout = go.Layout(title = 'Medals', barmode = 'stack')\n",
    "\n",
    "# create the figure\n",
    "fig = go.Figure(data = data, layout = layout)\n",
    "\n",
    "pyo.plot(fig)"
   ]
  },
  {
   "cell_type": "markdown",
   "id": "32ad1383",
   "metadata": {},
   "source": [
    "### Bar chart exercise"
   ]
  },
  {
   "cell_type": "markdown",
   "id": "3f9affee",
   "metadata": {},
   "source": [
    "        Create a stacked bar chart from the file 'mocksurvey.csv'. Note that the questions appear in the index\n",
    "        (and should be used for the x axis), while responses appear as column labels."
   ]
  },
  {
   "cell_type": "code",
   "execution_count": null,
   "id": "0d6b3a91",
   "metadata": {},
   "outputs": [],
   "source": [
    "df = pd.read_csv('datasets/mocksurvey.csv')\n",
    "df"
   ]
  },
  {
   "cell_type": "code",
   "execution_count": null,
   "id": "300be866",
   "metadata": {},
   "outputs": [],
   "source": [
    "questions = df['Unnamed: 0'].values\n",
    "questions # These will be used as x axis labels."
   ]
  },
  {
   "cell_type": "code",
   "execution_count": null,
   "id": "a9a27cc2",
   "metadata": {},
   "outputs": [],
   "source": [
    "categories = df.columns[1:]\n",
    "categories"
   ]
  },
  {
   "cell_type": "code",
   "execution_count": null,
   "id": "bb550bce",
   "metadata": {},
   "outputs": [],
   "source": [
    "def values_giver(category:str):\n",
    "    return [df[category][i] for i in range(len(questions))]\n",
    "\n",
    "values_giver('Strongly Agree')"
   ]
  },
  {
   "cell_type": "code",
   "execution_count": null,
   "id": "ea133a23",
   "metadata": {},
   "outputs": [],
   "source": [
    "data = [go.Bar(x = questions, y = values_giver(category), name = category) for category in categories]\n",
    "data"
   ]
  },
  {
   "cell_type": "code",
   "execution_count": null,
   "id": "a25e525b",
   "metadata": {},
   "outputs": [],
   "source": [
    "# create the layout\n",
    "layout = go.Layout(title = 'bar_chart_assignment_one', \n",
    "                   xaxis = dict(title = 'questions'), \n",
    "                   yaxis = dict(title = 'opinion'), \n",
    "                   barmode = 'stack')\n",
    "\n",
    "# create the figure\n",
    "fig = go.Figure(data = data, layout = layout)\n",
    "\n",
    "pyo.plot(fig)"
   ]
  },
  {
   "cell_type": "markdown",
   "id": "777e26ab",
   "metadata": {},
   "source": [
    "### How to make horizontal chart?"
   ]
  },
  {
   "cell_type": "markdown",
   "id": "2b2de4fb",
   "metadata": {},
   "source": [
    "    To make a bar chart horizontal we just need to pass \"orientation = 'h'\" in the go.Bar() method and reverse x and y."
   ]
  },
  {
   "cell_type": "code",
   "execution_count": null,
   "id": "1c7cbe2f",
   "metadata": {},
   "outputs": [],
   "source": [
    "df = pd.read_csv('datasets/mocksurvey.csv')\n",
    "questions = df['Unnamed: 0'].values\n",
    "categories = df.columns[1:]\n",
    "\n",
    "def values_giver(category:str):\n",
    "    return [df[category][i] for i in range(len(questions))]\n",
    "\n",
    "\n",
    "# Reverse the x and y and mention orientation as 'h'.\n",
    "data = [go.Bar(y = questions, x = values_giver(category), name = category, orientation='h') for category in categories]\n",
    "\n",
    "layout = go.Layout(title = 'bar_chart_assignment_one', xaxis = dict(title = 'questions'), \n",
    "                   yaxis = dict(title = 'opinion'), barmode = 'stack')\n",
    "fig = go.Figure(data = data, layout = layout)\n",
    "\n",
    "pyo.plot(fig)"
   ]
  },
  {
   "cell_type": "markdown",
   "id": "c1da0f10",
   "metadata": {},
   "source": [
    "# Bubble chart"
   ]
  },
  {
   "cell_type": "markdown",
   "id": "5540e132",
   "metadata": {},
   "source": [
    "    Bubble chart is the same as the scatter plot. It is just that we have different sizes for each marker based on some other numerical plot.\n",
    "    For plotting the bubble chart, we use pyo.Scatter() method and just use the size parameter in the marker attribute of this function."
   ]
  },
  {
   "cell_type": "code",
   "execution_count": 5,
   "id": "690a2254",
   "metadata": {},
   "outputs": [],
   "source": [
    "import plotly.offline as pyo\n",
    "import plotly.graph_objs as go\n",
    "import pandas as pd\n",
    "\n",
    "df = pd.read_csv('datasets/mpg.csv')"
   ]
  },
  {
   "cell_type": "code",
   "execution_count": 6,
   "id": "b74bae2b",
   "metadata": {},
   "outputs": [
    {
     "data": {
      "text/html": [
       "<div>\n",
       "<style scoped>\n",
       "    .dataframe tbody tr th:only-of-type {\n",
       "        vertical-align: middle;\n",
       "    }\n",
       "\n",
       "    .dataframe tbody tr th {\n",
       "        vertical-align: top;\n",
       "    }\n",
       "\n",
       "    .dataframe thead th {\n",
       "        text-align: right;\n",
       "    }\n",
       "</style>\n",
       "<table border=\"1\" class=\"dataframe\">\n",
       "  <thead>\n",
       "    <tr style=\"text-align: right;\">\n",
       "      <th></th>\n",
       "      <th>mpg</th>\n",
       "      <th>cylinders</th>\n",
       "      <th>displacement</th>\n",
       "      <th>horsepower</th>\n",
       "      <th>weight</th>\n",
       "      <th>acceleration</th>\n",
       "      <th>model_year</th>\n",
       "      <th>origin</th>\n",
       "      <th>name</th>\n",
       "    </tr>\n",
       "  </thead>\n",
       "  <tbody>\n",
       "    <tr>\n",
       "      <th>0</th>\n",
       "      <td>18.0</td>\n",
       "      <td>8</td>\n",
       "      <td>307.0</td>\n",
       "      <td>130</td>\n",
       "      <td>3504</td>\n",
       "      <td>12.0</td>\n",
       "      <td>70</td>\n",
       "      <td>1</td>\n",
       "      <td>chevrolet chevelle malibu</td>\n",
       "    </tr>\n",
       "    <tr>\n",
       "      <th>1</th>\n",
       "      <td>15.0</td>\n",
       "      <td>8</td>\n",
       "      <td>350.0</td>\n",
       "      <td>165</td>\n",
       "      <td>3693</td>\n",
       "      <td>11.5</td>\n",
       "      <td>70</td>\n",
       "      <td>1</td>\n",
       "      <td>buick skylark 320</td>\n",
       "    </tr>\n",
       "    <tr>\n",
       "      <th>2</th>\n",
       "      <td>18.0</td>\n",
       "      <td>8</td>\n",
       "      <td>318.0</td>\n",
       "      <td>150</td>\n",
       "      <td>3436</td>\n",
       "      <td>11.0</td>\n",
       "      <td>70</td>\n",
       "      <td>1</td>\n",
       "      <td>plymouth satellite</td>\n",
       "    </tr>\n",
       "    <tr>\n",
       "      <th>3</th>\n",
       "      <td>16.0</td>\n",
       "      <td>8</td>\n",
       "      <td>304.0</td>\n",
       "      <td>150</td>\n",
       "      <td>3433</td>\n",
       "      <td>12.0</td>\n",
       "      <td>70</td>\n",
       "      <td>1</td>\n",
       "      <td>amc rebel sst</td>\n",
       "    </tr>\n",
       "    <tr>\n",
       "      <th>4</th>\n",
       "      <td>17.0</td>\n",
       "      <td>8</td>\n",
       "      <td>302.0</td>\n",
       "      <td>140</td>\n",
       "      <td>3449</td>\n",
       "      <td>10.5</td>\n",
       "      <td>70</td>\n",
       "      <td>1</td>\n",
       "      <td>ford torino</td>\n",
       "    </tr>\n",
       "    <tr>\n",
       "      <th>...</th>\n",
       "      <td>...</td>\n",
       "      <td>...</td>\n",
       "      <td>...</td>\n",
       "      <td>...</td>\n",
       "      <td>...</td>\n",
       "      <td>...</td>\n",
       "      <td>...</td>\n",
       "      <td>...</td>\n",
       "      <td>...</td>\n",
       "    </tr>\n",
       "    <tr>\n",
       "      <th>393</th>\n",
       "      <td>27.0</td>\n",
       "      <td>4</td>\n",
       "      <td>140.0</td>\n",
       "      <td>86</td>\n",
       "      <td>2790</td>\n",
       "      <td>15.6</td>\n",
       "      <td>82</td>\n",
       "      <td>1</td>\n",
       "      <td>ford mustang gl</td>\n",
       "    </tr>\n",
       "    <tr>\n",
       "      <th>394</th>\n",
       "      <td>44.0</td>\n",
       "      <td>4</td>\n",
       "      <td>97.0</td>\n",
       "      <td>52</td>\n",
       "      <td>2130</td>\n",
       "      <td>24.6</td>\n",
       "      <td>82</td>\n",
       "      <td>2</td>\n",
       "      <td>vw pickup</td>\n",
       "    </tr>\n",
       "    <tr>\n",
       "      <th>395</th>\n",
       "      <td>32.0</td>\n",
       "      <td>4</td>\n",
       "      <td>135.0</td>\n",
       "      <td>84</td>\n",
       "      <td>2295</td>\n",
       "      <td>11.6</td>\n",
       "      <td>82</td>\n",
       "      <td>1</td>\n",
       "      <td>dodge rampage</td>\n",
       "    </tr>\n",
       "    <tr>\n",
       "      <th>396</th>\n",
       "      <td>28.0</td>\n",
       "      <td>4</td>\n",
       "      <td>120.0</td>\n",
       "      <td>79</td>\n",
       "      <td>2625</td>\n",
       "      <td>18.6</td>\n",
       "      <td>82</td>\n",
       "      <td>1</td>\n",
       "      <td>ford ranger</td>\n",
       "    </tr>\n",
       "    <tr>\n",
       "      <th>397</th>\n",
       "      <td>31.0</td>\n",
       "      <td>4</td>\n",
       "      <td>119.0</td>\n",
       "      <td>82</td>\n",
       "      <td>2720</td>\n",
       "      <td>19.4</td>\n",
       "      <td>82</td>\n",
       "      <td>1</td>\n",
       "      <td>chevy s-10</td>\n",
       "    </tr>\n",
       "  </tbody>\n",
       "</table>\n",
       "<p>398 rows × 9 columns</p>\n",
       "</div>"
      ],
      "text/plain": [
       "      mpg  cylinders  displacement horsepower  weight  acceleration  \\\n",
       "0    18.0          8         307.0        130    3504          12.0   \n",
       "1    15.0          8         350.0        165    3693          11.5   \n",
       "2    18.0          8         318.0        150    3436          11.0   \n",
       "3    16.0          8         304.0        150    3433          12.0   \n",
       "4    17.0          8         302.0        140    3449          10.5   \n",
       "..    ...        ...           ...        ...     ...           ...   \n",
       "393  27.0          4         140.0         86    2790          15.6   \n",
       "394  44.0          4          97.0         52    2130          24.6   \n",
       "395  32.0          4         135.0         84    2295          11.6   \n",
       "396  28.0          4         120.0         79    2625          18.6   \n",
       "397  31.0          4         119.0         82    2720          19.4   \n",
       "\n",
       "     model_year  origin                       name  \n",
       "0            70       1  chevrolet chevelle malibu  \n",
       "1            70       1          buick skylark 320  \n",
       "2            70       1         plymouth satellite  \n",
       "3            70       1              amc rebel sst  \n",
       "4            70       1                ford torino  \n",
       "..          ...     ...                        ...  \n",
       "393          82       1            ford mustang gl  \n",
       "394          82       2                  vw pickup  \n",
       "395          82       1              dodge rampage  \n",
       "396          82       1                ford ranger  \n",
       "397          82       1                 chevy s-10  \n",
       "\n",
       "[398 rows x 9 columns]"
      ]
     },
     "execution_count": 6,
     "metadata": {},
     "output_type": "execute_result"
    }
   ],
   "source": [
    "df"
   ]
  },
  {
   "cell_type": "code",
   "execution_count": 7,
   "id": "b14fdbf7",
   "metadata": {},
   "outputs": [
    {
     "data": {
      "text/plain": [
       "'temp-plot.html'"
      ]
     },
     "execution_count": 7,
     "metadata": {},
     "output_type": "execute_result"
    }
   ],
   "source": [
    "trace = go.Scatter(x = df['horsepower'], \n",
    "                   y = df['mpg'], \n",
    "                   text = df['name'],\n",
    "                   mode = 'markers',\n",
    "                   marker = dict(size = df['weight'] / 100, \n",
    "                                 color = df['cylinders'], \n",
    "                                 showscale=True # parameter to show the color scale ## very very important\n",
    "                                ),\n",
    "                  )\n",
    "\n",
    "data = [trace]\n",
    "\n",
    "layout = go.Layout(title = 'Bubble Chart')\n",
    "\n",
    "fig = go.Figure(data = data, layout = layout)\n",
    "pyo.plot(fig)"
   ]
  },
  {
   "cell_type": "markdown",
   "id": "ff656884",
   "metadata": {},
   "source": [
    "# Box plots\n",
    "    Box plots visualize the variation of a numerical column by depicting the continuos numerical data through quartiles.\n",
    "    \n",
    "    It is used for univariate analysis.\n",
    "    \n",
    "    Suppose we have two columns heights and gender(male and female). Then we create two box plots. \n",
    "    The first one for males and the second one for females.\n",
    "    \n",
    "    It works on the concept of quartiles. Quartiles seperate the data into 4 equal categories.\n",
    "    \n",
    "    The IQR(inter quartile range) is the length of the filled in box Q3-Q1. The middle line depicts median.\n",
    "        \n",
    "    Outliers are the value which are above the Q3 by (1.5)*IQR or are below the Q1 by (1.5)*IQR.\n",
    "    \n",
    "    Outliers will be displayed as singular markers outside the whiskers.    "
   ]
  },
  {
   "cell_type": "code",
   "execution_count": 3,
   "id": "9175de8f",
   "metadata": {},
   "outputs": [],
   "source": [
    "import numpy as np\n",
    "import pandas as pd\n",
    "import plotly.offline as pyo\n",
    "import plotly.graph_objs as go"
   ]
  },
  {
   "cell_type": "code",
   "execution_count": 4,
   "id": "27beea69",
   "metadata": {},
   "outputs": [
    {
     "data": {
      "text/plain": [
       "'temp-plot.html'"
      ]
     },
     "execution_count": 4,
     "metadata": {},
     "output_type": "execute_result"
    }
   ],
   "source": [
    "y = [1, 14, 14, 15, 16, 18, 18, 19, 19, 20, 20, 23, 24, \n",
    "     26, 27, 27, 28, 29, 33, 54]\n",
    "\n",
    "trace = go.Box(y=y)\n",
    "data = [trace]\n",
    "pyo.plot(data)"
   ]
  },
  {
   "cell_type": "markdown",
   "id": "62098a40",
   "metadata": {},
   "source": [
    "### boxpoints\n",
    "    The default value for boxpoints is 'outliers'. If we want to see all the points then we can set it to 'all'."
   ]
  },
  {
   "cell_type": "code",
   "execution_count": null,
   "id": "001b5375",
   "metadata": {},
   "outputs": [],
   "source": [
    "y = [1, 14, 14, 15, 16, 18, 18, 19, 19, 20, 20, 23, 24, \n",
    "     26, 27, 27, 28, 29, 33, 54]\n",
    "\n",
    "trace = go.Box(y=y, boxpoints='all')\n",
    "data = [trace]\n",
    "pyo.plot(data)"
   ]
  },
  {
   "cell_type": "markdown",
   "id": "2341a96d",
   "metadata": {},
   "source": [
    "### pointpos\n",
    "    A -ve pointpos means that points will be positioned to the left of the box. A +ve pointpos means that points will be positioned to the right of the box.\n",
    "    A 0 pointpos means that the points will be shown inside the box."
   ]
  },
  {
   "cell_type": "code",
   "execution_count": null,
   "id": "3168af85",
   "metadata": {},
   "outputs": [],
   "source": [
    "y = [1, 14, 14, 15, 16, 18, 18, 19, 19, 20, 20, 23, 24, \n",
    "     26, 27, 27, 28, 29, 33, 54]\n",
    "\n",
    "trace = go.Box(y=y, boxpoints='all', \n",
    "               pointpos = 0, \n",
    "              )\n",
    "\n",
    "data = [trace]\n",
    "pyo.plot(data)"
   ]
  },
  {
   "cell_type": "markdown",
   "id": "a1edba22",
   "metadata": {},
   "source": [
    "### jitter\n",
    "    The jitter parameter is used to increase the spacing between the points.\n",
    "    The value of jitter must lie in the interval [0,1]."
   ]
  },
  {
   "cell_type": "code",
   "execution_count": null,
   "id": "e66795bf",
   "metadata": {},
   "outputs": [],
   "source": [
    "y = [1, 14, 14, 15, 16, 18, 18, 19, 19, 20, 20, 23, 24, \n",
    "     26, 27, 27, 28, 29, 33, 54]\n",
    "\n",
    "trace = go.Box(y=y, \n",
    "               boxpoints='all', \n",
    "               pointpos = 0, \n",
    "               jitter = 0.6 \n",
    "              )\n",
    "data = [trace]\n",
    "pyo.plot(data)"
   ]
  },
  {
   "cell_type": "markdown",
   "id": "9164213b",
   "metadata": {},
   "source": [
    "# Histogram"
   ]
  },
  {
   "cell_type": "markdown",
   "id": "4ade2ed1",
   "metadata": {},
   "source": [
    "    1. Histogram displays an accurate representation of the overall distribution of a continous feature.\n",
    "    2. To create a histogram, we divide the entire range of values of the continuous feature into a series of intervals."
   ]
  },
  {
   "cell_type": "code",
   "execution_count": null,
   "id": "99d9bb7b",
   "metadata": {},
   "outputs": [],
   "source": [
    "# perform the necessary imports\n",
    "import numpy as np\n",
    "import pandas as pd\n",
    "import plotly.offline as pyo\n",
    "import plotly.graph_objs as go\n"
   ]
  },
  {
   "cell_type": "code",
   "execution_count": null,
   "id": "11b8a54c",
   "metadata": {},
   "outputs": [],
   "source": [
    "df = pd.read_csv('datasets/mpg.csv')\n",
    "df"
   ]
  },
  {
   "cell_type": "code",
   "execution_count": null,
   "id": "7b4e4993",
   "metadata": {},
   "outputs": [],
   "source": [
    "trace = go.Histogram(x = df['mpg'],)\n",
    "\n",
    "data = [trace]\n",
    "\n",
    "layout = go.Layout(title = 'Histogram')\n",
    "\n",
    "fig = go.Figure(data = data, layout = layout)\n",
    "\n",
    "pyo.plot(fig)"
   ]
  },
  {
   "cell_type": "markdown",
   "id": "7f95c2c8",
   "metadata": {},
   "source": [
    "# Histogram plot exercise"
   ]
  },
  {
   "cell_type": "markdown",
   "id": "1a9632c4",
   "metadata": {},
   "source": [
    "    Create a histogram that plots the 'length' field from the Abalone dataset (../data/abalone.csv). Set the range from 0 to 1, with a bin size of 0.02."
   ]
  },
  {
   "cell_type": "code",
   "execution_count": null,
   "id": "4a0aad3e",
   "metadata": {},
   "outputs": [],
   "source": [
    "import pandas as pd\n",
    "import numpy  as np\n",
    "import plotly.offline as pyo\n",
    "import plotly.graph_objs as go"
   ]
  },
  {
   "cell_type": "code",
   "execution_count": null,
   "id": "1ea34fce",
   "metadata": {},
   "outputs": [],
   "source": [
    "df = pd.read_csv('datasets/abalone.csv')\n",
    "df"
   ]
  },
  {
   "cell_type": "code",
   "execution_count": null,
   "id": "4dd35290",
   "metadata": {},
   "outputs": [],
   "source": [
    "trace = go.Histogram(x = df['length'], \n",
    "                     xbins=dict(start=0, \n",
    "                                end=1, \n",
    "                                size=0.02))\n",
    "\n",
    "data = [trace]\n",
    "\n",
    "# layout\n",
    "layout = go.Layout(title = 'Histogram exercise',\n",
    "                   xaxis = {'title': 'length'}, \n",
    "                   yaxis = dict(title='frequency'))\n",
    "\n",
    "# fig\n",
    "fig = go.Figure(data = data, layout = layout)\n",
    "\n",
    "pyo.plot(fig)"
   ]
  },
  {
   "cell_type": "markdown",
   "id": "f13bd55b",
   "metadata": {},
   "source": [
    "# Distplots\n",
    "    These are combination of histogram, rug plot and kde(kernel density estimation plot).\n",
    "    "
   ]
  },
  {
   "cell_type": "code",
   "execution_count": 8,
   "id": "e4f059c5",
   "metadata": {},
   "outputs": [],
   "source": [
    "import numpy as np\n",
    "import pandas as pd\n",
    "import plotly.offline as pyo\n",
    "import plotly.figure_factory as ff"
   ]
  },
  {
   "cell_type": "code",
   "execution_count": 9,
   "id": "b430f229",
   "metadata": {},
   "outputs": [],
   "source": [
    "np.random.seed(42)\n",
    "x = np.random.randn(200)"
   ]
  },
  {
   "cell_type": "code",
   "execution_count": 10,
   "id": "ab1920d8",
   "metadata": {},
   "outputs": [
    {
     "data": {
      "text/plain": [
       "'temp-plot.html'"
      ]
     },
     "execution_count": 10,
     "metadata": {},
     "output_type": "execute_result"
    }
   ],
   "source": [
    "hist_data = [x]\n",
    "group_labels = ['distplot']\n",
    "\n",
    "# fig\n",
    "fig = ff.create_distplot(hist_data = hist_data, \n",
    "                         group_labels=group_labels)\n",
    "\n",
    "pyo.plot(fig)"
   ]
  },
  {
   "cell_type": "code",
   "execution_count": null,
   "id": "f308e446",
   "metadata": {},
   "outputs": [],
   "source": []
  }
 ],
 "metadata": {
  "kernelspec": {
   "display_name": "Python 3 (ipykernel)",
   "language": "python",
   "name": "python3"
  },
  "language_info": {
   "codemirror_mode": {
    "name": "ipython",
    "version": 3
   },
   "file_extension": ".py",
   "mimetype": "text/x-python",
   "name": "python",
   "nbconvert_exporter": "python",
   "pygments_lexer": "ipython3",
   "version": "3.11.5"
  }
 },
 "nbformat": 4,
 "nbformat_minor": 5
}
