{
 "cells": [
  {
   "cell_type": "markdown",
   "id": "9322a184",
   "metadata": {},
   "source": [
    "# plotly\n",
    "    Scatter plots allow the comparison of two variables for a set of data.\n",
    "    OOP method, plotly.express\n",
    "    ==========================\n",
    "    1. traces --> graph objects\n",
    "    2. Then store all the traces in an list\n",
    "    3. layout --> graph objects\n",
    "    4. fig --> list + layout -- graph objects\n",
    "    5. plot(fig) -- plotly.offline.plot(fig)"
   ]
  },
  {
   "cell_type": "code",
   "execution_count": 4,
   "id": "34000ec4",
   "metadata": {},
   "outputs": [],
   "source": [
    "import numpy as np\n",
    "import pandas as pd\n",
    "import plotly.graph_objs as go\n",
    "import plotly.offline as pyo # plot method"
   ]
  },
  {
   "cell_type": "code",
   "execution_count": 5,
   "id": "1a0a9a36",
   "metadata": {},
   "outputs": [],
   "source": [
    "# random data generator\n",
    "np.random.seed(42)\n",
    "random_x = np.random.randint(1, 101,  # not included\n",
    "                             100)\n",
    "random_y = np.random.randint(1, 101, 100)"
   ]
  },
  {
   "cell_type": "code",
   "execution_count": 6,
   "id": "d360bf5a",
   "metadata": {},
   "outputs": [
    {
     "data": {
      "text/plain": [
       "'My first graph.html'"
      ]
     },
     "execution_count": 6,
     "metadata": {},
     "output_type": "execute_result"
    }
   ],
   "source": [
    "# trace\n",
    "trace = go.Scatter(x = random_x, y = random_y)\n",
    "\n",
    "# list of trace\n",
    "data = [trace]\n",
    "\n",
    "# layout\n",
    "layout = go.Layout(title = 'My first graph')\n",
    "\n",
    "# Figure\n",
    "fig = go.Figure(data = data, layout = layout)\n",
    "\n",
    "# plot\n",
    "pyo.plot(fig, filename = 'My first graph.html')"
   ]
  },
  {
   "cell_type": "markdown",
   "id": "2601cff0",
   "metadata": {},
   "source": [
    "# Scatter plot"
   ]
  },
  {
   "cell_type": "markdown",
   "id": "de535f8a",
   "metadata": {},
   "source": [
    "    1. bivariate analysis -- 2 variables(height and weight)\n",
    "    2. numerical vs numerical data\n",
    "    3. used for study correlation\n",
    "    4. go.Scatter() -- scatter, line, bubble\n",
    "    5. unordered data -- ordered XX"
   ]
  },
  {
   "cell_type": "code",
   "execution_count": 7,
   "id": "5551b211",
   "metadata": {},
   "outputs": [
    {
     "data": {
      "text/plain": [
       "array([ 52,  93,  15,  72,  61,  21,  83,  87,  75,  75,  88, 100,  24,\n",
       "         3,  22,  53,   2,  88,  30,  38,   2,  64,  60,  21,  33,  76,\n",
       "        58,  22,  89,  49,  91,  59,  42,  92,  60,  80,  15,  62,  62,\n",
       "        47,  62,  51,  55,  64,   3,  51,   7,  21,  73,  39,  18,   4,\n",
       "        89,  60,  14,   9,  90,  53,   2,  84,  92,  60,  71,  44,   8,\n",
       "        47,  35,  78,  81,  36,  50,   4,   2,   6,  54,   4,  54,  93,\n",
       "        63,  18,  90,  44,  34,  74,  62, 100,  14,  95,  48,  15,  72,\n",
       "        78,  87,  62,  40,  85,  80,  82,  53,  24])"
      ]
     },
     "execution_count": 7,
     "metadata": {},
     "output_type": "execute_result"
    }
   ],
   "source": [
    "np.random.seed(42)\n",
    "random_x = np.random.randint(1, 101,  # not included\n",
    "                             100)\n",
    "random_y = np.random.randint(1, 101, 100)\n",
    "random_x"
   ]
  },
  {
   "cell_type": "code",
   "execution_count": 8,
   "id": "5b1c7100",
   "metadata": {},
   "outputs": [
    {
     "data": {
      "text/plain": [
       "'temp-plot.html'"
      ]
     },
     "execution_count": 8,
     "metadata": {},
     "output_type": "execute_result"
    }
   ],
   "source": [
    "# create a scatter trace\n",
    "trace = go.Scatter(x = random_x, y = random_y, mode = 'markers+lines')\n",
    "# mode -- markers, lines, markers+lines\n",
    "\n",
    "# store all the traces in a list\n",
    "data = [trace] # convention\n",
    "\n",
    "# layout\n",
    "layout = go.Layout(title = 'My first scatter plot', xaxis = {'title':'random_x'}, yaxis = dict(title='random_y'))\n",
    "\n",
    "# fig\n",
    "fig = go.Figure(data = data, layout = layout)\n",
    "\n",
    "# plot\n",
    "pyo.plot(fig) #temp-plot.html"
   ]
  },
  {
   "cell_type": "code",
   "execution_count": 9,
   "id": "b8459cc0",
   "metadata": {},
   "outputs": [
    {
     "data": {
      "text/plain": [
       "array([ 52,  93,  15,  72,  61,  21,  83,  87,  75,  75,  88, 100,  24,\n",
       "         3,  22,  53,   2,  88,  30,  38,   2,  64,  60,  21,  33,  76,\n",
       "        58,  22,  89,  49,  91,  59,  42,  92,  60,  80,  15,  62,  62,\n",
       "        47,  62,  51,  55,  64,   3,  51,   7,  21,  73,  39,  18,   4,\n",
       "        89,  60,  14,   9,  90,  53,   2,  84,  92,  60,  71,  44,   8,\n",
       "        47,  35,  78,  81,  36,  50,   4,   2,   6,  54,   4,  54,  93,\n",
       "        63,  18,  90,  44,  34,  74,  62, 100,  14,  95,  48,  15,  72,\n",
       "        78,  87,  62,  40,  85,  80,  82,  53,  24])"
      ]
     },
     "execution_count": 9,
     "metadata": {},
     "output_type": "execute_result"
    }
   ],
   "source": [
    "np.random.seed(42)\n",
    "random_x = np.random.randint(1, 101,  # not included\n",
    "                             100)\n",
    "random_y = np.random.randint(1, 101, 100)\n",
    "random_x"
   ]
  },
  {
   "cell_type": "code",
   "execution_count": 10,
   "id": "101081e7",
   "metadata": {},
   "outputs": [
    {
     "data": {
      "text/plain": [
       "'temp-plot.html'"
      ]
     },
     "execution_count": 10,
     "metadata": {},
     "output_type": "execute_result"
    }
   ],
   "source": [
    "# create a scatter trace\n",
    "trace = go.Scatter(x = random_x, \n",
    "                   y = random_y, \n",
    "                   mode = 'markers', \n",
    "                   marker = dict(\n",
    "                                    size = 12,\n",
    "                                    color = 'rgb(51, 204, 153)',\n",
    "                                    symbol = 'pentagon',\n",
    "                                    line = dict(width = 2)\n",
    "                                )\n",
    "                  )\n",
    "# mode -- markers, lines, markers+lines\n",
    "\n",
    "# store all the traces in a list\n",
    "data = [trace] # convention\n",
    "\n",
    "# layout\n",
    "layout = go.Layout(title = 'My first scatter plot', xaxis = {'title':'random_x'}, yaxis = dict(title='random_y'))\n",
    "\n",
    "# fig\n",
    "fig = go.Figure(data = data, layout = layout)\n",
    "\n",
    "# plot\n",
    "pyo.plot(fig) #temp-plot.html"
   ]
  },
  {
   "cell_type": "markdown",
   "id": "e36df206",
   "metadata": {},
   "source": [
    "# Line plot\n",
    "    1. Ordered(asc) x axis values\n",
    "    2. bivariate analysis\n",
    "    3. numerical vs numerical \n",
    "    4. regression analysis -- slope(machine learning)"
   ]
  },
  {
   "cell_type": "code",
   "execution_count": 11,
   "id": "ab75fd49",
   "metadata": {},
   "outputs": [],
   "source": [
    "import numpy as np\n",
    "import pandas as pd\n",
    "import plotly.graph_objs as go\n",
    "import plotly.offline as pyo\n",
    "\n",
    "# The path of minimum length between two (distinct) points is line.\n",
    "# point -- undefined thing in maths\n",
    "# 2 distict points -- unique line ?? (euclid axiom)\n"
   ]
  },
  {
   "cell_type": "code",
   "execution_count": 12,
   "id": "5c075094",
   "metadata": {},
   "outputs": [
    {
     "data": {
      "text/plain": [
       "'temp-plot.html'"
      ]
     },
     "execution_count": 12,
     "metadata": {},
     "output_type": "execute_result"
    }
   ],
   "source": [
    "np.random.seed(56)\n",
    "x_values = np.linspace(0, 1, 100)\n",
    "y_values = np.random.randn(100)\n",
    "\n",
    "#trace\n",
    "trace = go.Scatter(x = x_values, y = y_values)\n",
    "\n",
    "# store\n",
    "data = [trace]\n",
    "\n",
    "# layout\n",
    "layout = go.Layout(title = 'Line plot', xaxis = dict(title = 'random x values'), yaxis = dict(title = 'random y values'))\n",
    "\n",
    "# fig\n",
    "fig = go.Figure(data = data, layout = layout)\n",
    "\n",
    "# plot\n",
    "pyo.plot(fig)"
   ]
  },
  {
   "cell_type": "code",
   "execution_count": 13,
   "id": "cc3cb9c4",
   "metadata": {},
   "outputs": [
    {
     "data": {
      "text/plain": [
       "'temp-plot.html'"
      ]
     },
     "execution_count": 13,
     "metadata": {},
     "output_type": "execute_result"
    }
   ],
   "source": [
    "np.random.seed(56)\n",
    "x_values = np.linspace(0, 1, 100)\n",
    "y_values = np.random.randn(100)\n",
    "\n",
    "#trace\n",
    "trace0 = go.Scatter(x = x_values, y = y_values-5, mode = 'markers', name = 'markers only')\n",
    "trace1 = go.Scatter(x = x_values, y = y_values, mode = 'lines', name = 'lines only')\n",
    "trace2 = go.Scatter(x = x_values, y = y_values+5, mode = 'markers+lines', name = 'markers and lines')\n",
    "\n",
    "# store\n",
    "data = [trace0, trace1, trace2]\n",
    "\n",
    "# layout\n",
    "layout = go.Layout(title = 'Line plot', xaxis = dict(title = 'random x values'), yaxis = dict(title = 'random y values'))\n",
    "\n",
    "# fig\n",
    "fig = go.Figure(data = data, layout = layout)\n",
    "\n",
    "# plot\n",
    "pyo.plot(fig)"
   ]
  },
  {
   "cell_type": "code",
   "execution_count": null,
   "id": "62fa7c39",
   "metadata": {},
   "outputs": [],
   "source": []
  }
 ],
 "metadata": {
  "kernelspec": {
   "display_name": "Python 3 (ipykernel)",
   "language": "python",
   "name": "python3"
  },
  "language_info": {
   "codemirror_mode": {
    "name": "ipython",
    "version": 3
   },
   "file_extension": ".py",
   "mimetype": "text/x-python",
   "name": "python",
   "nbconvert_exporter": "python",
   "pygments_lexer": "ipython3",
   "version": "3.11.5"
  }
 },
 "nbformat": 4,
 "nbformat_minor": 5
}
