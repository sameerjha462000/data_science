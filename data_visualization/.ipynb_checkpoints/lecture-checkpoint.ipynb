{
 "cells": [
  {
   "cell_type": "markdown",
   "id": "9322a184",
   "metadata": {},
   "source": [
    "# plotly\n",
    "    Scatter plots allow the comparison of two variables for a set of data.\n",
    "    OOP method, plotly.express\n",
    "    ==========================\n",
    "    1. traces --> graph objects\n",
    "    2. Then store all the traces in an list\n",
    "    3. layout --> graph objects\n",
    "    4. fig --> list + layout -- graph objects\n",
    "    5. plot(fig) -- plotly.offline.plot(fig)"
   ]
  },
  {
   "cell_type": "code",
   "execution_count": 1,
   "id": "34000ec4",
   "metadata": {},
   "outputs": [],
   "source": [
    "import numpy as np\n",
    "import pandas as pd\n",
    "import plotly.graph_objs as go\n",
    "import plotly.offline as pyo # plot method"
   ]
  },
  {
   "cell_type": "code",
   "execution_count": 2,
   "id": "1a0a9a36",
   "metadata": {},
   "outputs": [],
   "source": [
    "# random data generator\n",
    "np.random.seed(42)\n",
    "random_x = np.random.randint(1, 101,  # not included\n",
    "                             100)\n",
    "random_y = np.random.randint(1, 101, 100)"
   ]
  },
  {
   "cell_type": "code",
   "execution_count": 5,
   "id": "d360bf5a",
   "metadata": {},
   "outputs": [
    {
     "data": {
      "text/plain": [
       "'temp-plot.html'"
      ]
     },
     "execution_count": 5,
     "metadata": {},
     "output_type": "execute_result"
    }
   ],
   "source": [
    "# trace\n",
    "trace = go.Scatter(x = random_x, y = random_y)\n",
    "\n",
    "# list of trace\n",
    "data = [trace]\n",
    "\n",
    "# layout\n",
    "layout = go.Layout(title = 'My first graph')\n",
    "\n",
    "# Figure\n",
    "fig = go.Figure(data = data, layout = layout)\n",
    "\n",
    "# plot\n",
    "pyo.plot(fig)"
   ]
  },
  {
   "cell_type": "markdown",
   "id": "2601cff0",
   "metadata": {},
   "source": [
    "# Scatter plot"
   ]
  },
  {
   "cell_type": "markdown",
   "id": "de535f8a",
   "metadata": {},
   "source": [
    "    1. bivariate analysis -- 2 variables(height and weight)\n",
    "    2. numerical vs numerical data\n",
    "    3. used for study correlation\n",
    "    4. go.Scatter() -- scatter, line, bubble\n",
    "    5. unordered data -- ordered XX"
   ]
  },
  {
   "cell_type": "code",
   "execution_count": 6,
   "id": "5551b211",
   "metadata": {},
   "outputs": [
    {
     "data": {
      "text/plain": [
       "array([ 52,  93,  15,  72,  61,  21,  83,  87,  75,  75,  88, 100,  24,\n",
       "         3,  22,  53,   2,  88,  30,  38,   2,  64,  60,  21,  33,  76,\n",
       "        58,  22,  89,  49,  91,  59,  42,  92,  60,  80,  15,  62,  62,\n",
       "        47,  62,  51,  55,  64,   3,  51,   7,  21,  73,  39,  18,   4,\n",
       "        89,  60,  14,   9,  90,  53,   2,  84,  92,  60,  71,  44,   8,\n",
       "        47,  35,  78,  81,  36,  50,   4,   2,   6,  54,   4,  54,  93,\n",
       "        63,  18,  90,  44,  34,  74,  62, 100,  14,  95,  48,  15,  72,\n",
       "        78,  87,  62,  40,  85,  80,  82,  53,  24])"
      ]
     },
     "execution_count": 6,
     "metadata": {},
     "output_type": "execute_result"
    }
   ],
   "source": [
    "np.random.seed(42)\n",
    "random_x = np.random.randint(1, 101,  # not included\n",
    "                             100)\n",
    "random_y = np.random.randint(1, 101, 100)\n",
    "random_x"
   ]
  },
  {
   "cell_type": "code",
   "execution_count": 7,
   "id": "5b1c7100",
   "metadata": {},
   "outputs": [
    {
     "data": {
      "text/plain": [
       "'temp-plot.html'"
      ]
     },
     "execution_count": 7,
     "metadata": {},
     "output_type": "execute_result"
    }
   ],
   "source": [
    "# create a scatter trace\n",
    "trace = go.Scatter(x = random_x, y = random_y, mode = 'markers+lines')\n",
    "# mode -- markers, lines, markers+lines\n",
    "\n",
    "# store all the traces in a list\n",
    "data = [trace] # convention\n",
    "\n",
    "# layout\n",
    "layout = go.Layout(title = 'My first scatter plot', xaxis = {'title':'random_x'}, yaxis = dict(title='random_y'))\n",
    "\n",
    "# fig\n",
    "fig = go.Figure(data = data, layout = layout)\n",
    "\n",
    "# plot\n",
    "pyo.plot(fig) #temp-plot.html"
   ]
  },
  {
   "cell_type": "code",
   "execution_count": 8,
   "id": "b8459cc0",
   "metadata": {},
   "outputs": [
    {
     "data": {
      "text/plain": [
       "array([ 52,  93,  15,  72,  61,  21,  83,  87,  75,  75,  88, 100,  24,\n",
       "         3,  22,  53,   2,  88,  30,  38,   2,  64,  60,  21,  33,  76,\n",
       "        58,  22,  89,  49,  91,  59,  42,  92,  60,  80,  15,  62,  62,\n",
       "        47,  62,  51,  55,  64,   3,  51,   7,  21,  73,  39,  18,   4,\n",
       "        89,  60,  14,   9,  90,  53,   2,  84,  92,  60,  71,  44,   8,\n",
       "        47,  35,  78,  81,  36,  50,   4,   2,   6,  54,   4,  54,  93,\n",
       "        63,  18,  90,  44,  34,  74,  62, 100,  14,  95,  48,  15,  72,\n",
       "        78,  87,  62,  40,  85,  80,  82,  53,  24])"
      ]
     },
     "execution_count": 8,
     "metadata": {},
     "output_type": "execute_result"
    }
   ],
   "source": [
    "np.random.seed(42)\n",
    "random_x = np.random.randint(1, 101,  # not included\n",
    "                             100)\n",
    "random_y = np.random.randint(1, 101, 100)\n",
    "random_x"
   ]
  },
  {
   "cell_type": "code",
   "execution_count": 9,
   "id": "101081e7",
   "metadata": {},
   "outputs": [
    {
     "data": {
      "text/plain": [
       "'temp-plot.html'"
      ]
     },
     "execution_count": 9,
     "metadata": {},
     "output_type": "execute_result"
    }
   ],
   "source": [
    "# create a scatter trace\n",
    "trace = go.Scatter(x = random_x, \n",
    "                   y = random_y, \n",
    "                   mode = 'markers', \n",
    "                   marker = dict(\n",
    "                                    size = 12,\n",
    "                                    color = 'rgb(51, 204, 153)',\n",
    "                                    symbol = 'pentagon',\n",
    "                                    line = dict(width = 2)\n",
    "                                )\n",
    "                  )\n",
    "# mode -- markers, lines, markers+lines\n",
    "\n",
    "# store all the traces in a list\n",
    "data = [trace] # convention\n",
    "\n",
    "# layout\n",
    "layout = go.Layout(title = 'My first scatter plot', xaxis = {'title':'random_x'}, yaxis = dict(title='random_y'))\n",
    "\n",
    "# fig\n",
    "fig = go.Figure(data = data, layout = layout)\n",
    "\n",
    "# plot\n",
    "pyo.plot(fig) #temp-plot.html"
   ]
  },
  {
   "cell_type": "markdown",
   "id": "e36df206",
   "metadata": {},
   "source": [
    "# Line plot\n",
    "    1. Ordered(asc) x axis values\n",
    "    2. bivariate analysis\n",
    "    3. numerical vs numerical \n",
    "    4. regression analysis -- slope(machine learning)"
   ]
  },
  {
   "cell_type": "code",
   "execution_count": 10,
   "id": "ab75fd49",
   "metadata": {},
   "outputs": [],
   "source": [
    "import numpy as np\n",
    "import pandas as pd\n",
    "import plotly.graph_objs as go\n",
    "import plotly.offline as pyo\n",
    "\n",
    "# The path of minimum length between two (distinct) points is line.\n",
    "# point -- undefined thing in maths\n",
    "# 2 distict points -- unique line ?? (euclid axiom)\n"
   ]
  },
  {
   "cell_type": "code",
   "execution_count": 11,
   "id": "5c075094",
   "metadata": {},
   "outputs": [
    {
     "data": {
      "text/plain": [
       "'temp-plot.html'"
      ]
     },
     "execution_count": 11,
     "metadata": {},
     "output_type": "execute_result"
    }
   ],
   "source": [
    "np.random.seed(56)\n",
    "x_values = np.linspace(0, 1, 100)\n",
    "y_values = np.random.randn(100)\n",
    "\n",
    "#trace\n",
    "trace = go.Scatter(x = x_values, y = y_values)\n",
    "\n",
    "# store\n",
    "data = [trace]\n",
    "\n",
    "# layout\n",
    "layout = go.Layout(title = 'Line plot', xaxis = dict(title = 'random x values'), yaxis = dict(title = 'random y values'))\n",
    "\n",
    "# fig\n",
    "fig = go.Figure(data = data, layout = layout)\n",
    "\n",
    "# plot\n",
    "pyo.plot(fig)"
   ]
  },
  {
   "cell_type": "code",
   "execution_count": 13,
   "id": "cc3cb9c4",
   "metadata": {},
   "outputs": [
    {
     "data": {
      "text/plain": [
       "'temp-plot.html'"
      ]
     },
     "execution_count": 13,
     "metadata": {},
     "output_type": "execute_result"
    }
   ],
   "source": [
    "np.random.seed(56)\n",
    "x_values = np.linspace(0, 1, 100)\n",
    "y_values = np.random.randn(100)\n",
    "\n",
    "#trace\n",
    "trace0 = go.Scatter(x = x_values, y = y_values-5, mode = 'markers', name = 'markers only')\n",
    "trace1 = go.Scatter(x = x_values, y = y_values, mode = 'lines', name = 'lines only')\n",
    "trace2 = go.Scatter(x = x_values, y = y_values+5, mode = 'markers+lines', name = 'markers and lines')\n",
    "\n",
    "# store\n",
    "data = [trace0, trace1, trace2]\n",
    "\n",
    "# layout\n",
    "layout = go.Layout(title = 'Line plot', xaxis = dict(title = 'random x values'), yaxis = dict(title = 'random y values'))\n",
    "\n",
    "# fig\n",
    "fig = go.Figure(data = data, layout = layout)\n",
    "\n",
    "# plot\n",
    "pyo.plot(fig)"
   ]
  },
  {
   "cell_type": "markdown",
   "id": "b5a451b3",
   "metadata": {},
   "source": [
    "# plotting iris dataset using plotly"
   ]
  },
  {
   "cell_type": "code",
   "execution_count": 14,
   "id": "3702f3e8",
   "metadata": {},
   "outputs": [],
   "source": [
    "iris = pd.read_csv('datasets/iris.csv')"
   ]
  },
  {
   "cell_type": "code",
   "execution_count": 15,
   "id": "6f888ddf",
   "metadata": {},
   "outputs": [
    {
     "data": {
      "text/html": [
       "<div>\n",
       "<style scoped>\n",
       "    .dataframe tbody tr th:only-of-type {\n",
       "        vertical-align: middle;\n",
       "    }\n",
       "\n",
       "    .dataframe tbody tr th {\n",
       "        vertical-align: top;\n",
       "    }\n",
       "\n",
       "    .dataframe thead th {\n",
       "        text-align: right;\n",
       "    }\n",
       "</style>\n",
       "<table border=\"1\" class=\"dataframe\">\n",
       "  <thead>\n",
       "    <tr style=\"text-align: right;\">\n",
       "      <th></th>\n",
       "      <th>sepal_length</th>\n",
       "      <th>sepal_width</th>\n",
       "      <th>petal_length</th>\n",
       "      <th>petal_width</th>\n",
       "      <th>class</th>\n",
       "    </tr>\n",
       "  </thead>\n",
       "  <tbody>\n",
       "    <tr>\n",
       "      <th>0</th>\n",
       "      <td>5.1</td>\n",
       "      <td>3.5</td>\n",
       "      <td>1.4</td>\n",
       "      <td>0.2</td>\n",
       "      <td>Iris-setosa</td>\n",
       "    </tr>\n",
       "    <tr>\n",
       "      <th>1</th>\n",
       "      <td>4.9</td>\n",
       "      <td>3.0</td>\n",
       "      <td>1.4</td>\n",
       "      <td>0.2</td>\n",
       "      <td>Iris-setosa</td>\n",
       "    </tr>\n",
       "    <tr>\n",
       "      <th>2</th>\n",
       "      <td>4.7</td>\n",
       "      <td>3.2</td>\n",
       "      <td>1.3</td>\n",
       "      <td>0.2</td>\n",
       "      <td>Iris-setosa</td>\n",
       "    </tr>\n",
       "    <tr>\n",
       "      <th>3</th>\n",
       "      <td>4.6</td>\n",
       "      <td>3.1</td>\n",
       "      <td>1.5</td>\n",
       "      <td>0.2</td>\n",
       "      <td>Iris-setosa</td>\n",
       "    </tr>\n",
       "    <tr>\n",
       "      <th>4</th>\n",
       "      <td>5.0</td>\n",
       "      <td>3.6</td>\n",
       "      <td>1.4</td>\n",
       "      <td>0.2</td>\n",
       "      <td>Iris-setosa</td>\n",
       "    </tr>\n",
       "    <tr>\n",
       "      <th>...</th>\n",
       "      <td>...</td>\n",
       "      <td>...</td>\n",
       "      <td>...</td>\n",
       "      <td>...</td>\n",
       "      <td>...</td>\n",
       "    </tr>\n",
       "    <tr>\n",
       "      <th>145</th>\n",
       "      <td>6.7</td>\n",
       "      <td>3.0</td>\n",
       "      <td>5.2</td>\n",
       "      <td>2.3</td>\n",
       "      <td>Iris-virginica</td>\n",
       "    </tr>\n",
       "    <tr>\n",
       "      <th>146</th>\n",
       "      <td>6.3</td>\n",
       "      <td>2.5</td>\n",
       "      <td>5.0</td>\n",
       "      <td>1.9</td>\n",
       "      <td>Iris-virginica</td>\n",
       "    </tr>\n",
       "    <tr>\n",
       "      <th>147</th>\n",
       "      <td>6.5</td>\n",
       "      <td>3.0</td>\n",
       "      <td>5.2</td>\n",
       "      <td>2.0</td>\n",
       "      <td>Iris-virginica</td>\n",
       "    </tr>\n",
       "    <tr>\n",
       "      <th>148</th>\n",
       "      <td>6.2</td>\n",
       "      <td>3.4</td>\n",
       "      <td>5.4</td>\n",
       "      <td>2.3</td>\n",
       "      <td>Iris-virginica</td>\n",
       "    </tr>\n",
       "    <tr>\n",
       "      <th>149</th>\n",
       "      <td>5.9</td>\n",
       "      <td>3.0</td>\n",
       "      <td>5.1</td>\n",
       "      <td>1.8</td>\n",
       "      <td>Iris-virginica</td>\n",
       "    </tr>\n",
       "  </tbody>\n",
       "</table>\n",
       "<p>150 rows × 5 columns</p>\n",
       "</div>"
      ],
      "text/plain": [
       "     sepal_length  sepal_width  petal_length  petal_width           class\n",
       "0             5.1          3.5           1.4          0.2     Iris-setosa\n",
       "1             4.9          3.0           1.4          0.2     Iris-setosa\n",
       "2             4.7          3.2           1.3          0.2     Iris-setosa\n",
       "3             4.6          3.1           1.5          0.2     Iris-setosa\n",
       "4             5.0          3.6           1.4          0.2     Iris-setosa\n",
       "..            ...          ...           ...          ...             ...\n",
       "145           6.7          3.0           5.2          2.3  Iris-virginica\n",
       "146           6.3          2.5           5.0          1.9  Iris-virginica\n",
       "147           6.5          3.0           5.2          2.0  Iris-virginica\n",
       "148           6.2          3.4           5.4          2.3  Iris-virginica\n",
       "149           5.9          3.0           5.1          1.8  Iris-virginica\n",
       "\n",
       "[150 rows x 5 columns]"
      ]
     },
     "execution_count": 15,
     "metadata": {},
     "output_type": "execute_result"
    }
   ],
   "source": [
    "iris"
   ]
  },
  {
   "cell_type": "code",
   "execution_count": 20,
   "id": "6fbc0b6e",
   "metadata": {},
   "outputs": [],
   "source": [
    "species = iris['class'].value_counts().index.tolist()"
   ]
  },
  {
   "cell_type": "code",
   "execution_count": 23,
   "id": "2490d30c",
   "metadata": {},
   "outputs": [
    {
     "data": {
      "text/plain": [
       "'temp-plot.html'"
      ]
     },
     "execution_count": 23,
     "metadata": {},
     "output_type": "execute_result"
    }
   ],
   "source": [
    "trace = go.Scatter(x=iris['sepal_length'], y = iris['petal_length'], mode = 'markers')\n",
    "\n",
    "data = [trace]\n",
    "\n",
    "layout = go.Layout(title = 'Iris species', xaxis = dict(title='sepal_length'), yaxis = dict(title = 'petal_length'))\n",
    "\n",
    "fig = go.Figure(data = data, layout = layout)\n",
    "\n",
    "pyo.plot(fig)"
   ]
  },
  {
   "cell_type": "code",
   "execution_count": 28,
   "id": "2c2959fe",
   "metadata": {},
   "outputs": [
    {
     "data": {
      "text/plain": [
       "array([5.1, 4.9, 4.7, 4.6, 5. , 5.4, 4.6, 5. , 4.4, 4.9, 5.4, 4.8, 4.8,\n",
       "       4.3, 5.8, 5.7, 5.4, 5.1, 5.7, 5.1, 5.4, 5.1, 4.6, 5.1, 4.8, 5. ,\n",
       "       5. , 5.2, 5.2, 4.7, 4.8, 5.4, 5.2, 5.5, 4.9, 5. , 5.5, 4.9, 4.4,\n",
       "       5.1, 5. , 4.5, 4.4, 5. , 5.1, 4.8, 5.1, 4.6, 5.3, 5. ])"
      ]
     },
     "execution_count": 28,
     "metadata": {},
     "output_type": "execute_result"
    }
   ],
   "source": [
    "iris[iris['class'] == 'Iris-setosa']['sepal_length'].values"
   ]
  },
  {
   "cell_type": "code",
   "execution_count": 29,
   "id": "31b2e070",
   "metadata": {},
   "outputs": [
    {
     "data": {
      "text/plain": [
       "['Iris-setosa', 'Iris-versicolor', 'Iris-virginica']"
      ]
     },
     "execution_count": 29,
     "metadata": {},
     "output_type": "execute_result"
    }
   ],
   "source": [
    "species"
   ]
  },
  {
   "cell_type": "code",
   "execution_count": 34,
   "id": "7895481a",
   "metadata": {},
   "outputs": [],
   "source": [
    "def sepal_length_giver(specie : str) -> list:\n",
    "    mask = (iris['class'] == specie)\n",
    "    return iris[mask]['sepal_length'].values\n",
    "\n",
    "def petal_length_giver(specie : str) -> list:\n",
    "    mask = (iris['class'] == specie)\n",
    "    return iris[mask]['petal_length'].values"
   ]
  },
  {
   "cell_type": "code",
   "execution_count": 35,
   "id": "d406b89c",
   "metadata": {},
   "outputs": [
    {
     "data": {
      "text/plain": [
       "array([1.4, 1.4, 1.3, 1.5, 1.4, 1.7, 1.4, 1.5, 1.4, 1.5, 1.5, 1.6, 1.4,\n",
       "       1.1, 1.2, 1.5, 1.3, 1.4, 1.7, 1.5, 1.7, 1.5, 1. , 1.7, 1.9, 1.6,\n",
       "       1.6, 1.5, 1.4, 1.6, 1.6, 1.5, 1.5, 1.4, 1.5, 1.2, 1.3, 1.5, 1.3,\n",
       "       1.5, 1.3, 1.3, 1.3, 1.6, 1.9, 1.4, 1.6, 1.4, 1.5, 1.4])"
      ]
     },
     "execution_count": 35,
     "metadata": {},
     "output_type": "execute_result"
    }
   ],
   "source": [
    "petal_length_giver('Iris-setosa')"
   ]
  },
  {
   "cell_type": "code",
   "execution_count": 41,
   "id": "767780d1",
   "metadata": {},
   "outputs": [],
   "source": [
    "trace_setosa = go.Scatter(x=sepal_length_giver('Iris-setosa'), \n",
    "                          y = petal_length_giver('Iris-setosa'), mode = 'markers', \n",
    "                          marker = dict(color='red'), name = 'setosa')\n",
    "\n",
    "trace_versicolor = go.Scatter(x=sepal_length_giver('Iris-versicolor'), \n",
    "                              y = petal_length_giver('Iris-versicolor'), mode = 'markers', \n",
    "                              marker = dict(color='blue'), name = 'versicolor')\n",
    "\n",
    "trace_virginica = go.Scatter(x=sepal_length_giver('Iris-virginica'), \n",
    "                             y = petal_length_giver('Iris-virginica'), mode = 'markers', \n",
    "                              marker = dict(color='green'), name = 'virginica')\n",
    "\n",
    "\n",
    "# data = [go.Scatter(x = sepal_length_giver(specie), y = petal_length_giver(specie), name=specie, mode = 'markers') \n",
    "#         for specie in species]"
   ]
  },
  {
   "cell_type": "code",
   "execution_count": 42,
   "id": "3abf1fb6",
   "metadata": {},
   "outputs": [
    {
     "data": {
      "text/plain": [
       "'temp-plot.html'"
      ]
     },
     "execution_count": 42,
     "metadata": {},
     "output_type": "execute_result"
    }
   ],
   "source": [
    "data = [trace_setosa, trace_versicolor, trace_virginica]\n",
    "\n",
    "layout = go.Layout(title = 'Iris species', xaxis = dict(title='sepal_length'), yaxis = dict(title = 'petal_length'))\n",
    "\n",
    "fig = go.Figure(data = data, layout = layout)\n",
    "\n",
    "pyo.plot(fig)"
   ]
  },
  {
   "cell_type": "markdown",
   "id": "4c3b8273",
   "metadata": {},
   "source": [
    "# Line chart assignment"
   ]
  },
  {
   "cell_type": "markdown",
   "id": "7bcbf3e8",
   "metadata": {},
   "source": [
    "    Using the file 2010YumaAZ.csv, develop a line chart that plots seven days worth of temperature data on one graph.\n",
    "    You can use a for loop to assign each day to its own trace."
   ]
  },
  {
   "cell_type": "code",
   "execution_count": 43,
   "id": "fbf80026",
   "metadata": {},
   "outputs": [],
   "source": [
    "df = pd.read_csv('datasets/2010YumaAZ.csv')"
   ]
  },
  {
   "cell_type": "code",
   "execution_count": 44,
   "id": "011e0715",
   "metadata": {},
   "outputs": [
    {
     "data": {
      "text/html": [
       "<div>\n",
       "<style scoped>\n",
       "    .dataframe tbody tr th:only-of-type {\n",
       "        vertical-align: middle;\n",
       "    }\n",
       "\n",
       "    .dataframe tbody tr th {\n",
       "        vertical-align: top;\n",
       "    }\n",
       "\n",
       "    .dataframe thead th {\n",
       "        text-align: right;\n",
       "    }\n",
       "</style>\n",
       "<table border=\"1\" class=\"dataframe\">\n",
       "  <thead>\n",
       "    <tr style=\"text-align: right;\">\n",
       "      <th></th>\n",
       "      <th>LST_DATE</th>\n",
       "      <th>DAY</th>\n",
       "      <th>LST_TIME</th>\n",
       "      <th>T_HR_AVG</th>\n",
       "    </tr>\n",
       "  </thead>\n",
       "  <tbody>\n",
       "    <tr>\n",
       "      <th>0</th>\n",
       "      <td>20100601</td>\n",
       "      <td>TUESDAY</td>\n",
       "      <td>0:00</td>\n",
       "      <td>25.2</td>\n",
       "    </tr>\n",
       "    <tr>\n",
       "      <th>1</th>\n",
       "      <td>20100601</td>\n",
       "      <td>TUESDAY</td>\n",
       "      <td>1:00</td>\n",
       "      <td>24.1</td>\n",
       "    </tr>\n",
       "    <tr>\n",
       "      <th>2</th>\n",
       "      <td>20100601</td>\n",
       "      <td>TUESDAY</td>\n",
       "      <td>2:00</td>\n",
       "      <td>24.4</td>\n",
       "    </tr>\n",
       "    <tr>\n",
       "      <th>3</th>\n",
       "      <td>20100601</td>\n",
       "      <td>TUESDAY</td>\n",
       "      <td>3:00</td>\n",
       "      <td>24.9</td>\n",
       "    </tr>\n",
       "    <tr>\n",
       "      <th>4</th>\n",
       "      <td>20100601</td>\n",
       "      <td>TUESDAY</td>\n",
       "      <td>4:00</td>\n",
       "      <td>22.8</td>\n",
       "    </tr>\n",
       "    <tr>\n",
       "      <th>...</th>\n",
       "      <td>...</td>\n",
       "      <td>...</td>\n",
       "      <td>...</td>\n",
       "      <td>...</td>\n",
       "    </tr>\n",
       "    <tr>\n",
       "      <th>163</th>\n",
       "      <td>20100607</td>\n",
       "      <td>MONDAY</td>\n",
       "      <td>19:00</td>\n",
       "      <td>39.4</td>\n",
       "    </tr>\n",
       "    <tr>\n",
       "      <th>164</th>\n",
       "      <td>20100607</td>\n",
       "      <td>MONDAY</td>\n",
       "      <td>20:00</td>\n",
       "      <td>38.5</td>\n",
       "    </tr>\n",
       "    <tr>\n",
       "      <th>165</th>\n",
       "      <td>20100607</td>\n",
       "      <td>MONDAY</td>\n",
       "      <td>21:00</td>\n",
       "      <td>37.0</td>\n",
       "    </tr>\n",
       "    <tr>\n",
       "      <th>166</th>\n",
       "      <td>20100607</td>\n",
       "      <td>MONDAY</td>\n",
       "      <td>22:00</td>\n",
       "      <td>34.7</td>\n",
       "    </tr>\n",
       "    <tr>\n",
       "      <th>167</th>\n",
       "      <td>20100607</td>\n",
       "      <td>MONDAY</td>\n",
       "      <td>23:00</td>\n",
       "      <td>32.6</td>\n",
       "    </tr>\n",
       "  </tbody>\n",
       "</table>\n",
       "<p>168 rows × 4 columns</p>\n",
       "</div>"
      ],
      "text/plain": [
       "     LST_DATE      DAY LST_TIME  T_HR_AVG\n",
       "0    20100601  TUESDAY     0:00      25.2\n",
       "1    20100601  TUESDAY     1:00      24.1\n",
       "2    20100601  TUESDAY     2:00      24.4\n",
       "3    20100601  TUESDAY     3:00      24.9\n",
       "4    20100601  TUESDAY     4:00      22.8\n",
       "..        ...      ...      ...       ...\n",
       "163  20100607   MONDAY    19:00      39.4\n",
       "164  20100607   MONDAY    20:00      38.5\n",
       "165  20100607   MONDAY    21:00      37.0\n",
       "166  20100607   MONDAY    22:00      34.7\n",
       "167  20100607   MONDAY    23:00      32.6\n",
       "\n",
       "[168 rows x 4 columns]"
      ]
     },
     "execution_count": 44,
     "metadata": {},
     "output_type": "execute_result"
    }
   ],
   "source": [
    "df"
   ]
  },
  {
   "cell_type": "code",
   "execution_count": 51,
   "id": "9c372566",
   "metadata": {},
   "outputs": [],
   "source": [
    "# Tuesday\n",
    "tuesday = df[df['DAY'] == 'TUESDAY'] # mask\n",
    "times = tuesday['LST_TIME'].values\n",
    "temps = tuesday['T_HR_AVG'].values"
   ]
  },
  {
   "cell_type": "code",
   "execution_count": 55,
   "id": "978a5000",
   "metadata": {},
   "outputs": [
    {
     "data": {
      "text/plain": [
       "'temp-plot.html'"
      ]
     },
     "execution_count": 55,
     "metadata": {},
     "output_type": "execute_result"
    }
   ],
   "source": [
    "trace = go.Scatter(x = times, y = temps, mode = 'lines')\n",
    "\n",
    "data = [trace]\n",
    "\n",
    "layout = go.Layout(title = 'TUESDAY', xaxis = dict(title = 'time'), yaxis = dict(title = 'temp'))\n",
    "\n",
    "fig = go.Figure(data = data, layout = layout)\n",
    "pyo.plot(fig)"
   ]
  },
  {
   "cell_type": "code",
   "execution_count": 60,
   "id": "713518c9",
   "metadata": {},
   "outputs": [],
   "source": [
    "days = df['DAY'].value_counts().index"
   ]
  },
  {
   "cell_type": "code",
   "execution_count": 63,
   "id": "0d847e72",
   "metadata": {},
   "outputs": [
    {
     "data": {
      "text/plain": [
       "'temp-plot.html'"
      ]
     },
     "execution_count": 63,
     "metadata": {},
     "output_type": "execute_result"
    }
   ],
   "source": [
    "def times(day :str) -> list:\n",
    "    mask = (df['DAY'] == day)\n",
    "    return df[mask]['LST_TIME'].values\n",
    "\n",
    "def temps(day :str) -> list:\n",
    "    mask = (df['DAY'] == day)\n",
    "    return df[mask]['T_HR_AVG'].values\n",
    "\n",
    "data = [go.Scatter(x = times(day), y = temps(day), mode = 'markers+lines',name = day) for day in days]\n",
    "\n",
    "layout = go.Layout(title = 'days', xaxis = dict(title = 'time'), yaxis = dict(title = 'temp'))\n",
    "\n",
    "fig = go.Figure(data = data, layout = layout)\n",
    "pyo.plot(fig)"
   ]
  },
  {
   "cell_type": "markdown",
   "id": "59b7a2da",
   "metadata": {},
   "source": [
    "# Line chart assignment 2"
   ]
  },
  {
   "cell_type": "markdown",
   "id": "f6a8b769",
   "metadata": {},
   "source": [
    "    Take the data 'population.csv' and plot the lines + markers graph for the population estimates of the six new england states."
   ]
  },
  {
   "cell_type": "code",
   "execution_count": 66,
   "id": "6865e972",
   "metadata": {},
   "outputs": [
    {
     "data": {
      "text/html": [
       "<div>\n",
       "<style scoped>\n",
       "    .dataframe tbody tr th:only-of-type {\n",
       "        vertical-align: middle;\n",
       "    }\n",
       "\n",
       "    .dataframe tbody tr th {\n",
       "        vertical-align: top;\n",
       "    }\n",
       "\n",
       "    .dataframe thead th {\n",
       "        text-align: right;\n",
       "    }\n",
       "</style>\n",
       "<table border=\"1\" class=\"dataframe\">\n",
       "  <thead>\n",
       "    <tr style=\"text-align: right;\">\n",
       "      <th></th>\n",
       "      <th>Name</th>\n",
       "      <th>PopEstimate2010</th>\n",
       "      <th>PopEstimate2011</th>\n",
       "      <th>PopEstimate2012</th>\n",
       "      <th>PopEstimate2013</th>\n",
       "      <th>PopEstimate2014</th>\n",
       "      <th>PopEstimate2015</th>\n",
       "      <th>PopEstimate2016</th>\n",
       "      <th>PopEstimate2017</th>\n",
       "    </tr>\n",
       "  </thead>\n",
       "  <tbody>\n",
       "    <tr>\n",
       "      <th>0</th>\n",
       "      <td>Connecticut</td>\n",
       "      <td>3580171</td>\n",
       "      <td>3591927</td>\n",
       "      <td>3597705</td>\n",
       "      <td>3602470</td>\n",
       "      <td>3600188</td>\n",
       "      <td>3593862</td>\n",
       "      <td>3587685</td>\n",
       "      <td>3588184</td>\n",
       "    </tr>\n",
       "    <tr>\n",
       "      <th>1</th>\n",
       "      <td>Maine</td>\n",
       "      <td>1327568</td>\n",
       "      <td>1327968</td>\n",
       "      <td>1328101</td>\n",
       "      <td>1327975</td>\n",
       "      <td>1328903</td>\n",
       "      <td>1327787</td>\n",
       "      <td>1330232</td>\n",
       "      <td>1335907</td>\n",
       "    </tr>\n",
       "    <tr>\n",
       "      <th>2</th>\n",
       "      <td>Massachusetts</td>\n",
       "      <td>6564943</td>\n",
       "      <td>6612178</td>\n",
       "      <td>6659627</td>\n",
       "      <td>6711138</td>\n",
       "      <td>6757925</td>\n",
       "      <td>6794002</td>\n",
       "      <td>6823721</td>\n",
       "      <td>6859819</td>\n",
       "    </tr>\n",
       "    <tr>\n",
       "      <th>3</th>\n",
       "      <td>New Hampshire</td>\n",
       "      <td>1316700</td>\n",
       "      <td>1318345</td>\n",
       "      <td>1320923</td>\n",
       "      <td>1322622</td>\n",
       "      <td>1328684</td>\n",
       "      <td>1330134</td>\n",
       "      <td>1335015</td>\n",
       "      <td>1342795</td>\n",
       "    </tr>\n",
       "    <tr>\n",
       "      <th>4</th>\n",
       "      <td>Rhode Island</td>\n",
       "      <td>1053169</td>\n",
       "      <td>1052154</td>\n",
       "      <td>1052761</td>\n",
       "      <td>1052784</td>\n",
       "      <td>1054782</td>\n",
       "      <td>1055916</td>\n",
       "      <td>1057566</td>\n",
       "      <td>1059639</td>\n",
       "    </tr>\n",
       "    <tr>\n",
       "      <th>5</th>\n",
       "      <td>Vermont</td>\n",
       "      <td>625842</td>\n",
       "      <td>626210</td>\n",
       "      <td>625606</td>\n",
       "      <td>626044</td>\n",
       "      <td>625665</td>\n",
       "      <td>624455</td>\n",
       "      <td>623354</td>\n",
       "      <td>623657</td>\n",
       "    </tr>\n",
       "  </tbody>\n",
       "</table>\n",
       "</div>"
      ],
      "text/plain": [
       "            Name  PopEstimate2010  PopEstimate2011  PopEstimate2012  \\\n",
       "0    Connecticut          3580171          3591927          3597705   \n",
       "1          Maine          1327568          1327968          1328101   \n",
       "2  Massachusetts          6564943          6612178          6659627   \n",
       "3  New Hampshire          1316700          1318345          1320923   \n",
       "4   Rhode Island          1053169          1052154          1052761   \n",
       "5        Vermont           625842           626210           625606   \n",
       "\n",
       "   PopEstimate2013  PopEstimate2014  PopEstimate2015  PopEstimate2016  \\\n",
       "0          3602470          3600188          3593862          3587685   \n",
       "1          1327975          1328903          1327787          1330232   \n",
       "2          6711138          6757925          6794002          6823721   \n",
       "3          1322622          1328684          1330134          1335015   \n",
       "4          1052784          1054782          1055916          1057566   \n",
       "5           626044           625665           624455           623354   \n",
       "\n",
       "   PopEstimate2017  \n",
       "0          3588184  \n",
       "1          1335907  \n",
       "2          6859819  \n",
       "3          1342795  \n",
       "4          1059639  \n",
       "5           623657  "
      ]
     },
     "execution_count": 66,
     "metadata": {},
     "output_type": "execute_result"
    }
   ],
   "source": [
    "df = pd.read_csv('datasets/population.csv')\n",
    "df"
   ]
  },
  {
   "cell_type": "code",
   "execution_count": 70,
   "id": "660bd517",
   "metadata": {},
   "outputs": [
    {
     "data": {
      "text/plain": [
       "array(['Connecticut', 'Maine', 'Massachusetts', 'New Hampshire',\n",
       "       'Rhode Island', 'Vermont'], dtype=object)"
      ]
     },
     "execution_count": 70,
     "metadata": {},
     "output_type": "execute_result"
    }
   ],
   "source": [
    "states = df['Name'].values\n",
    "states"
   ]
  },
  {
   "cell_type": "code",
   "execution_count": 81,
   "id": "072d4d84",
   "metadata": {},
   "outputs": [],
   "source": [
    "x = df.columns[1:]"
   ]
  },
  {
   "cell_type": "code",
   "execution_count": 85,
   "id": "9c28e3f2",
   "metadata": {},
   "outputs": [
    {
     "data": {
      "text/plain": [
       "'temp-plot.html'"
      ]
     },
     "execution_count": 85,
     "metadata": {},
     "output_type": "execute_result"
    }
   ],
   "source": [
    "def func(state : str) -> list:\n",
    "    mask = df['Name'] == state\n",
    "    row = df[mask]\n",
    "    \n",
    "    return [row[year].values[0] for year in x]\n",
    "\n",
    "data = [go.Scatter(x=x, y = func(state), mode = 'markers+lines', name=state) for state in states]\n",
    "\n",
    "layout = go.Layout(title = 'Population Estimate', xaxis = dict(title = 'year'), yaxis = dict(title = 'population'))\n",
    "\n",
    "fig = go.Figure(data = data, layout = layout)\n",
    "pyo.plot(fig)"
   ]
  },
  {
   "cell_type": "code",
   "execution_count": 84,
   "id": "13de8405",
   "metadata": {},
   "outputs": [
    {
     "data": {
      "text/plain": [
       "[6564943, 6612178, 6659627, 6711138, 6757925, 6794002, 6823721, 6859819]"
      ]
     },
     "execution_count": 84,
     "metadata": {},
     "output_type": "execute_result"
    }
   ],
   "source": [
    "func('Massachusetts')"
   ]
  },
  {
   "cell_type": "markdown",
   "id": "fbe7a416",
   "metadata": {},
   "source": [
    "# Bar chart"
   ]
  }
 ],
 "metadata": {
  "kernelspec": {
   "display_name": "Python 3 (ipykernel)",
   "language": "python",
   "name": "python3"
  },
  "language_info": {
   "codemirror_mode": {
    "name": "ipython",
    "version": 3
   },
   "file_extension": ".py",
   "mimetype": "text/x-python",
   "name": "python",
   "nbconvert_exporter": "python",
   "pygments_lexer": "ipython3",
   "version": "3.11.5"
  }
 },
 "nbformat": 4,
 "nbformat_minor": 5
}
