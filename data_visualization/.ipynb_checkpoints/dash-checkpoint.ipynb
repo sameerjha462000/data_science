{
 "cells": [
  {
   "cell_type": "code",
   "execution_count": null,
   "id": "46af9518",
   "metadata": {},
   "outputs": [],
   "source": [
    "from dash import Dash\n",
    "import dash_core_components as dcc # deprecated\n",
    "import dash_html_components as html # deprecated"
   ]
  },
  {
   "cell_type": "code",
   "execution_count": null,
   "id": "48b46102",
   "metadata": {},
   "outputs": [],
   "source": [
    "from dash import Dash, html, dcc"
   ]
  },
  {
   "cell_type": "code",
   "execution_count": null,
   "id": "a266df5b",
   "metadata": {},
   "outputs": [],
   "source": [
    "# create an instance of Dash\n",
    "app = Dash(__name__)\n",
    "\n",
    "# layout of the dash application\n",
    "app.layout = html.Div(children = html.H1('My First Dash App'))\n",
    "\n",
    "# to run the dash application\n",
    "if __name__ == '__main__':\n",
    "    # by default also the port number is 8050 and by default the debug value is False.\n",
    "    app.run_server(port = 8050, debug = True)"
   ]
  },
  {
   "cell_type": "markdown",
   "id": "ff521288",
   "metadata": {},
   "source": [
    "# Interactive elements in Dash app"
   ]
  },
  {
   "cell_type": "markdown",
   "id": "a64a55b9",
   "metadata": {},
   "source": [
    "    Dash has many interactive elements that can be added to apps for user interaction.\n",
    "    \n",
    "    These are provided by the Dash Core Components module(dcc).\n",
    "    \n",
    "    These are:\n",
    "    1. Dropdown\n",
    "    2. Slider\n",
    "    3. RangeSlider\n",
    "    4. Checklist\n",
    "    5. RadioItems\n",
    "    6. DatePickerSingle\n",
    "    7. DatePickerRange\n",
    "    8. Tabs\n",
    "    9. Graphs\n",
    "    \n",
    "    These interactive elements are useless until they are processed in the back-end with callback functions."
   ]
  },
  {
   "cell_type": "markdown",
   "id": "795556c1",
   "metadata": {},
   "source": [
    "### Dash dropdown component example\n",
    "\n",
    "    The dcc.Dropdown() component has three properties:\n",
    "    1. options: contains the contents of the dropdown\n",
    "    2. id: the identifier for the value passed through\n",
    "    3. value: the option selected"
   ]
  },
  {
   "cell_type": "code",
   "execution_count": null,
   "id": "06a97b68",
   "metadata": {},
   "outputs": [],
   "source": [
    "from dash import Dash, html, dcc"
   ]
  },
  {
   "cell_type": "code",
   "execution_count": null,
   "id": "4fa9f4a1",
   "metadata": {},
   "outputs": [],
   "source": [
    "app = Dash(__name__)\n",
    "\n",
    "dropdown = dcc.Dropdown(options=['Red', 'Blue', 'Green', 'Yellow', 'Pink'], value = '')\n",
    "\n",
    "children = ['Pick a Color !', dropdown]\n",
    "\n",
    "app.layout = html.Div(children=children)\n",
    "\n",
    "if __name__ == '__main__':\n",
    "    app.run_server(debug=True, port=8050)"
   ]
  },
  {
   "cell_type": "markdown",
   "id": "44805278",
   "metadata": {},
   "source": [
    "### callback functions\n",
    "    Callback functions process user inputs and update the app accordingly.\n",
    "    \n",
    "    1. They are triggered by a change to a property of an HTML component(input)\n",
    "    2. They then change the property of another HTML component(output).\n",
    "    \n",
    "    callback functions are defined by using the @app.callback decorator and have atleast two arguments(output and input),\n",
    "    followed by the function itself.\n",
    "    \n",
    "    \n",
    "    @app.callback(Output(component_id, component_property), Input(component_id, component_property))"
   ]
  },
  {
   "cell_type": "code",
   "execution_count": null,
   "id": "b9038eb6",
   "metadata": {},
   "outputs": [],
   "source": [
    "from dash import Dash, html, dcc\n",
    "from dash.dependencies import Input, Output\n",
    "from dash.exceptions import PreventUpdate"
   ]
  },
  {
   "cell_type": "code",
   "execution_count": null,
   "id": "b4742570",
   "metadata": {},
   "outputs": [],
   "source": [
    "app = Dash(__name__)\n",
    "\n",
    "dropdown = dcc.Dropdown(options=['Red', 'Blue', 'Green'], id='color-input')\n",
    "\n",
    "app.layout = html.Div(children = [dropdown, html.Div(id = 'color-output')])\n",
    "\n",
    "\n",
    "@app.callback(Output('color-output', 'children'), Input('color-input', 'value'))\n",
    "def update_div(color :str) -> str:\n",
    "    if color is None:\n",
    "        raise PreventUpdate\n",
    "    return f\"color selected : {color}\"\n",
    "\n",
    "if __name__ == '__main__':\n",
    "    app.run_server(debug=True, port=8050)"
   ]
  },
  {
   "cell_type": "markdown",
   "id": "033d107f",
   "metadata": {},
   "source": [
    "# Assignment 1: Simple Dash App"
   ]
  },
  {
   "cell_type": "markdown",
   "id": "c9e9e6b9",
   "metadata": {},
   "source": [
    "    Create a dash application with the following front-end components\n",
    "    1. A text title 'Select a State to Analyze'.\n",
    "    2. A dropdown menu that contains the options 'California', 'Oregon' and 'Washington'.\n",
    "    3. Text 'State Selected: X' where X is the state selected in the dropdown menu.\n",
    "    \n",
    "    You will need to build a callback function that takes the selected state and returns output text based on the value selected in the dropdown menu."
   ]
  },
  {
   "cell_type": "code",
   "execution_count": null,
   "id": "a4a76c33",
   "metadata": {},
   "outputs": [],
   "source": [
    "from dash import Dash, html, dcc\n",
    "from dash.dependencies import Input, Output"
   ]
  },
  {
   "cell_type": "code",
   "execution_count": null,
   "id": "badfcd5b",
   "metadata": {},
   "outputs": [],
   "source": [
    "app = Dash(__name__)\n",
    "\n",
    "options = ['California', 'Oregon', 'Washington']\n",
    "dropdown = dcc.Dropdown(id = 'state-input', options = options)\n",
    "\n",
    "app.layout = html.Div(children = [html.H3('Pick a state'), dropdown, html.Div(id = 'state-output')])\n",
    "\n",
    "\n",
    "@app.callback(\n",
    "    Output('state-output', 'children'),\n",
    "    Input('state-input', 'value')\n",
    ")\n",
    "def update_output_div(state: str) -> str:\n",
    "    if state is None:\n",
    "        raise PreventUpdate\n",
    "    return f'The selected state is {state}'\n",
    "\n",
    "if __name__ == '__main__':\n",
    "    app.run_server(port=8050, debug=True)"
   ]
  },
  {
   "cell_type": "markdown",
   "id": "f379c9d7",
   "metadata": {},
   "source": [
    "# Adding plotly visuals to Dash applications"
   ]
  },
  {
   "cell_type": "code",
   "execution_count": null,
   "id": "167062ca",
   "metadata": {},
   "outputs": [],
   "source": [
    "from dash import Dash, html, dcc\n",
    "from dash.dependencies import Input, Output\n",
    "from dash.exceptions import PreventUpdate\n",
    "import numpy as np\n",
    "import pandas as pd\n",
    "import plotly.graph_objs as go\n",
    "import plotly.offline as pyo\n",
    "import plotly.express as px"
   ]
  },
  {
   "cell_type": "code",
   "execution_count": null,
   "id": "b5f037be",
   "metadata": {},
   "outputs": [],
   "source": [
    "iris = pd.read_csv('datasets/iris.csv')"
   ]
  },
  {
   "cell_type": "code",
   "execution_count": null,
   "id": "12f203bc",
   "metadata": {},
   "outputs": [],
   "source": [
    "iris"
   ]
  },
  {
   "cell_type": "code",
   "execution_count": null,
   "id": "e309c604",
   "metadata": {},
   "outputs": [],
   "source": [
    "species = iris['class'].value_counts().index.tolist()\n",
    "species"
   ]
  },
  {
   "cell_type": "code",
   "execution_count": null,
   "id": "4b8e9531",
   "metadata": {},
   "outputs": [],
   "source": [
    "app = Dash(__name__)\n",
    "\n",
    "app.layout = html.Div(children = ['Pick a specie', \n",
    "                                  dcc.Dropdown(id='specie-input', options=species),\n",
    "                                  dcc.Graph(id='specie-output')\n",
    "                                 ])\n",
    "\n",
    "@app.callback(Output('specie-output', 'figure'), Input('specie-input', 'value'))\n",
    "def update_output_graph(specie : str):\n",
    "    \n",
    "    if specie is None:\n",
    "        raise PreventUpdate\n",
    "    \n",
    "    df = iris[iris['class'] == specie]\n",
    "    \n",
    "    trace = go.Scatter(x= df['sepal_length'].values, y=df['petal_length'].values, mode='markers')\n",
    "    \n",
    "    data = [trace]\n",
    "    \n",
    "    layout = go.Layout(title='sepal_length vs petal_length', xaxis={'title':'sepal_length'}, yaxis=dict(title='petal_length'))\n",
    "    \n",
    "    return go.Figure(data=data, layout=layout)\n",
    "    \n",
    "    \n",
    "if __name__ == '__main__':\n",
    "    app.run_server(port=8050, debug=True)"
   ]
  },
  {
   "cell_type": "markdown",
   "id": "0a418eee",
   "metadata": {},
   "source": [
    "# adding HTML components "
   ]
  },
  {
   "cell_type": "code",
   "execution_count": null,
   "id": "22a36cb3",
   "metadata": {},
   "outputs": [],
   "source": [
    "from dash import Dash, html, dcc\n",
    "from dash.dependencies import Input, Output\n",
    "\n",
    "app = Dash(__name__)\n",
    "\n",
    "dropdown = dcc.Dropdown(id = 'color-input', options = ['red', 'blue', 'green', 'yellow', 'pink'])\n",
    "\n",
    "app.layout = html.Div(children = [dropdown, html.H3('This is inside an HTML component', id ='color-output')])\n",
    "\n",
    "\n",
    "@app.callback(Output('color-output', 'style'), Input('color-input', 'value'))\n",
    "def update_div_text_color(color : str) -> dict:\n",
    "    return dict(color = color)\n",
    "    \n",
    "\n",
    "if __name__ == '__main__':\n",
    "    app.run_server(port=8050, debug=True)"
   ]
  },
  {
   "cell_type": "markdown",
   "id": "98e6d9d9",
   "metadata": {},
   "source": [
    "# core components"
   ]
  },
  {
   "cell_type": "code",
   "execution_count": null,
   "id": "60738647",
   "metadata": {},
   "outputs": [],
   "source": [
    "from dash import Dash, dcc, html\n",
    "from dash.dependencies import Input, Output"
   ]
  },
  {
   "cell_type": "code",
   "execution_count": null,
   "id": "73a57ba3",
   "metadata": {},
   "outputs": [],
   "source": [
    "app = Dash(__name__)\n",
    "\n",
    "options = [dict(label = 'San Francisco', value = 'SF'), dict(label = 'New York City', value = 'NYC')]\n",
    "\n",
    "dropdown = dcc.Dropdown(options = options, value = 'SF')\n",
    "\n",
    "slider = dcc.Slider(min = -10, max = 10, step=1, value = 0, marks = {i:chr(75+i) for i in range(-10, 11)})\n",
    "\n",
    "app.layout = html.Div(children = [html.H3('Dropdown'), dropdown, html.H3('Slider'), slider])\n",
    "\n",
    "if __name__ == '__main__':\n",
    "    app.run_server(port=8050, debug=True)"
   ]
  },
  {
   "cell_type": "markdown",
   "id": "ba8f1ebb",
   "metadata": {},
   "source": [
    "# Input bar in Dash dashboard with callback"
   ]
  },
  {
   "cell_type": "code",
   "execution_count": null,
   "id": "45cab31d",
   "metadata": {},
   "outputs": [],
   "source": [
    "from dash import Dash, html, dcc\n",
    "from dash.dependencies import Input, Output\n",
    "from dash.exceptions import PreventUpdate"
   ]
  },
  {
   "cell_type": "code",
   "execution_count": null,
   "id": "ec1b188d",
   "metadata": {},
   "outputs": [],
   "source": [
    "app = Dash(__name__)\n",
    "\n",
    "app.layout = html.Div(children = [dcc.Input(id = 'name-input', type = 'text'), html.H3(id = 'name-output')])\n",
    "\n",
    "\n",
    "@app.callback(Output('name-output', 'children'), Input('name-input', 'value'))\n",
    "def update_name(name : str) -> str:\n",
    "    if name is None:\n",
    "        raise PreventUpdate\n",
    "    elif name == '':\n",
    "        return f''\n",
    "    else:\n",
    "        return f\"Your name is {name}\"\n",
    "\n",
    "if __name__ == '__main__':\n",
    "    app.run_server(port=8050, debug=True)"
   ]
  },
  {
   "cell_type": "markdown",
   "id": "d35d8a13",
   "metadata": {},
   "source": [
    "# passing multiple inputs\n",
    "\n",
    "        when we have multiple inputs that control a single output parameter, then we use list while writing the decorator\n",
    "        @app.callback."
   ]
  },
  {
   "cell_type": "code",
   "execution_count": null,
   "id": "e3de7235",
   "metadata": {},
   "outputs": [],
   "source": [
    "import numpy as np\n",
    "import pandas as pd\n",
    "import seaborn as sns\n",
    "import plotly.graph_objs as go\n",
    "import plotly.express as px\n",
    "from dash import Dash, html, dcc\n",
    "from dash.dependencies import Input, Output\n",
    "from dash.exceptions import PreventUpdate"
   ]
  },
  {
   "cell_type": "code",
   "execution_count": null,
   "id": "d1f4e265",
   "metadata": {},
   "outputs": [],
   "source": [
    "app = Dash(__name__)\n",
    "\n",
    "app.layout = html.Div(children = ['Enter the name', dcc.Input(id = 'name-input', type = 'text'),\n",
    "                                  'Enter the age', dcc.Input(id = 'age-input', type = 'text'),\n",
    "                                  html.H3(id = 'output')\n",
    "                                 ])\n",
    "\n",
    "@app.callback(Output('output', 'children'), [Input('name-input', 'value'), Input('age-input', 'value')])\n",
    "def update_output_div(name : str, age : str) -> str:\n",
    "    if name is None:\n",
    "        raise PreventUpdate\n",
    "    if age is None:\n",
    "        raise PreventUpdate\n",
    "    \n",
    "    if age == '' or name == '':\n",
    "        return f''\n",
    "    \n",
    "    age = int(age)\n",
    "    \n",
    "    return f'My name is {name} and my age is {age}'\n",
    "\n",
    "if __name__ == '__main__':\n",
    "    app.run_server(port=8050, debug=True)"
   ]
  },
  {
   "cell_type": "markdown",
   "id": "cc5e6339",
   "metadata": {},
   "source": [
    "# multiple inputs assignment"
   ]
  },
  {
   "cell_type": "markdown",
   "id": "f774acb8",
   "metadata": {},
   "source": [
    "    Make a dash application that will plot the equation of a line with slope [m] and y-intercept [c]. These parameters will\n",
    "    be given by the user."
   ]
  },
  {
   "cell_type": "code",
   "execution_count": null,
   "id": "89467b45",
   "metadata": {},
   "outputs": [],
   "source": [
    "import numpy as np\n",
    "import pandas as pd\n",
    "import seaborn as sns\n",
    "import plotly.graph_objs as go\n",
    "import plotly.express as px\n",
    "from dash import Dash, html, dcc\n",
    "from dash.dependencies import Input, Output\n",
    "from dash.exceptions import PreventUpdate"
   ]
  },
  {
   "cell_type": "code",
   "execution_count": null,
   "id": "5ab69d76",
   "metadata": {},
   "outputs": [],
   "source": [
    "app = Dash(__name__)\n",
    "\n",
    "app.layout = html.Div(children = ['m', \n",
    "                                  dcc.Input(id = 'm', type = 'text'), \n",
    "                                  ' c',\n",
    "                                  dcc.Input(id = 'c', type = 'text'),\n",
    "                                  dcc.Graph(id = 'line')\n",
    "                                 ])\n",
    "\n",
    "@app.callback(\n",
    "    Output('line', 'figure'), \n",
    "    [Input('m', 'value'), Input('c', 'value')]\n",
    ")\n",
    "def line_plotter(m :str, c : str):\n",
    "    if (m is None) or (c is None):\n",
    "        raise PreventUpdate\n",
    "        \n",
    "    if m == '' or c == '':\n",
    "        return go.Figure(data = [], \n",
    "                         layout = go.Layout())\n",
    "    \n",
    "    m = int(m)\n",
    "    c = int(c)\n",
    "    \n",
    "    # generating x values\n",
    "    x = np.linspace(-10, 10, 21)\n",
    "    y = (m * x) + c\n",
    "    \n",
    "    trace = go.Scatter(x = x, y = y, \n",
    "                       mode = 'lines+markers', \n",
    "                       name = f'line with slope {m} and y-intercept {c}')\n",
    "    \n",
    "    data = [trace]\n",
    "    \n",
    "    layout = go.Layout(title = f'A line with slope {m} and y-intercept {c}', \n",
    "                       xaxis = dict(title = 'x'), \n",
    "                       yaxis = dict(title = 'y'))\n",
    "\n",
    "    fig = go.Figure(data = data, layout = layout)\n",
    "    \n",
    "    return fig\n",
    "\n",
    "\n",
    "if __name__ == '__main__':\n",
    "    app.run_server(port=8050, debug=True)"
   ]
  },
  {
   "cell_type": "markdown",
   "id": "7d37d028",
   "metadata": {},
   "source": [
    "# Multiple outputs"
   ]
  },
  {
   "cell_type": "code",
   "execution_count": null,
   "id": "8eb57754",
   "metadata": {},
   "outputs": [],
   "source": [
    "from dash import Dash, html, dcc\n",
    "from dash.dependencies import Input, Output\n",
    "from dash.exceptions import PreventUpdate"
   ]
  },
  {
   "cell_type": "code",
   "execution_count": null,
   "id": "100ca573",
   "metadata": {},
   "outputs": [],
   "source": [
    "app = Dash(__name__)\n",
    "\n",
    "app.layout = html.Div(children = [\n",
    "                                    html.H3('Choose a number'),\n",
    "                                    dcc.RadioItems(options = [\n",
    "                                                                {'label':f'{i}', 'value':i} \n",
    "                                                                for i in [1,2,3]\n",
    "                                                             ], \n",
    "                                                   id = 'number'), \n",
    "                                    html.Div(id = 'output-number'),\n",
    "                                    html.Hr(),\n",
    "                                    html.H3('Choose a color'), \n",
    "                                    dcc.RadioItems(options = [\n",
    "                                                                {'label':color, 'value': color} \n",
    "                                                                for color in ['red', 'blue', 'green']\n",
    "                                                             ], \n",
    "                                                   id = 'color'),\n",
    "                                    html.Div(id = 'output-color')\n",
    "                                 ]\n",
    "                     )\n",
    "\n",
    "@app.callback(Output('output-number', 'children'), Input('number', 'value'))\n",
    "def update_number_div(number : str) -> str:\n",
    "    if number is None:\n",
    "        raise PreventUpdate\n",
    "    return f'You chose {number}'\n",
    "\n",
    "@app.callback(Output('output-color', 'children'), Input('color', 'value'))\n",
    "def update_color_div(color : str) -> str:\n",
    "    if color is None:\n",
    "        raise PreventUpdate\n",
    "    return f'You chose {color}'\n",
    "\n",
    "if __name__ == '__main__':\n",
    "    app.run_server(port=8050, debug=True)"
   ]
  },
  {
   "cell_type": "code",
   "execution_count": null,
   "id": "a6265ff2",
   "metadata": {},
   "outputs": [],
   "source": []
  }
 ],
 "metadata": {
  "kernelspec": {
   "display_name": "Python 3 (ipykernel)",
   "language": "python",
   "name": "python3"
  },
  "language_info": {
   "codemirror_mode": {
    "name": "ipython",
    "version": 3
   },
   "file_extension": ".py",
   "mimetype": "text/x-python",
   "name": "python",
   "nbconvert_exporter": "python",
   "pygments_lexer": "ipython3",
   "version": "3.11.5"
  }
 },
 "nbformat": 4,
 "nbformat_minor": 5
}
