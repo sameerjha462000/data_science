{
 "cells": [
  {
   "cell_type": "markdown",
   "id": "f74457e4",
   "metadata": {},
   "source": [
    "# A simple dash app"
   ]
  },
  {
   "cell_type": "code",
   "execution_count": 1,
   "id": "5b1498ef",
   "metadata": {},
   "outputs": [],
   "source": [
    "from dash import Dash, html"
   ]
  },
  {
   "cell_type": "code",
   "execution_count": 2,
   "id": "222db643",
   "metadata": {},
   "outputs": [
    {
     "data": {
      "text/html": [
       "\n",
       "        <iframe\n",
       "            width=\"100%\"\n",
       "            height=\"650\"\n",
       "            src=\"http://127.0.0.1:8050/\"\n",
       "            frameborder=\"0\"\n",
       "            allowfullscreen\n",
       "            \n",
       "        ></iframe>\n",
       "        "
      ],
      "text/plain": [
       "<IPython.lib.display.IFrame at 0x2641122ba10>"
      ]
     },
     "metadata": {},
     "output_type": "display_data"
    }
   ],
   "source": [
    "app = Dash(__name__)\n",
    "\n",
    "app.layout = html.Div('''This is a simple Dash application. Dash is a sister library for plotly and is built on top of React.Js and\n",
    "                      Flask.''')\n",
    "\n",
    "if __name__ == '__main__':\n",
    "    app.run_server()"
   ]
  },
  {
   "cell_type": "code",
   "execution_count": 3,
   "id": "61bb85b5",
   "metadata": {},
   "outputs": [],
   "source": [
    "from dash import dcc"
   ]
  },
  {
   "cell_type": "code",
   "execution_count": 4,
   "id": "fd372f88",
   "metadata": {},
   "outputs": [],
   "source": [
    "dropdown = dcc.Dropdown(options = ['Red', 'Blue', 'Green'], id = 'color', value = '')"
   ]
  },
  {
   "cell_type": "code",
   "execution_count": 5,
   "id": "7e789625",
   "metadata": {},
   "outputs": [
    {
     "data": {
      "text/plain": [
       "dash.dcc.Dropdown.Dropdown"
      ]
     },
     "execution_count": 5,
     "metadata": {},
     "output_type": "execute_result"
    }
   ],
   "source": [
    "type(dropdown)"
   ]
  },
  {
   "cell_type": "code",
   "execution_count": 6,
   "id": "186964d9",
   "metadata": {},
   "outputs": [
    {
     "data": {
      "text/html": [
       "\n",
       "        <iframe\n",
       "            width=\"100%\"\n",
       "            height=\"650\"\n",
       "            src=\"http://127.0.0.1:8050/\"\n",
       "            frameborder=\"0\"\n",
       "            allowfullscreen\n",
       "            \n",
       "        ></iframe>\n",
       "        "
      ],
      "text/plain": [
       "<IPython.lib.display.IFrame at 0x2641077e250>"
      ]
     },
     "metadata": {},
     "output_type": "display_data"
    }
   ],
   "source": [
    "app = Dash(__name__)\n",
    "\n",
    "app.layout = html.Div(['Select a color', dropdown])\n",
    "\n",
    "if __name__ == '__main__':\n",
    "    app.run_server()"
   ]
  },
  {
   "cell_type": "markdown",
   "id": "5a1016bf",
   "metadata": {},
   "source": [
    "# Managing Input and Outputs"
   ]
  },
  {
   "cell_type": "code",
   "execution_count": 7,
   "id": "bea8ddd8",
   "metadata": {},
   "outputs": [],
   "source": [
    "from dash import Dash, dcc, html\n",
    "from dash.dependencies import Input, Output"
   ]
  },
  {
   "cell_type": "code",
   "execution_count": 8,
   "id": "6fe9b686",
   "metadata": {},
   "outputs": [
    {
     "data": {
      "text/html": [
       "\n",
       "        <iframe\n",
       "            width=\"100%\"\n",
       "            height=\"650\"\n",
       "            src=\"http://127.0.0.1:8050/\"\n",
       "            frameborder=\"0\"\n",
       "            allowfullscreen\n",
       "            \n",
       "        ></iframe>\n",
       "        "
      ],
      "text/plain": [
       "<IPython.lib.display.IFrame at 0x264112c8810>"
      ]
     },
     "metadata": {},
     "output_type": "display_data"
    }
   ],
   "source": [
    "app = Dash(__name__)\n",
    "\n",
    "dropdown = dcc.Dropdown(options = ['Red', 'Blue', 'Green', 'Yellow', 'Pink'], id = 'dropdown-color', value = '')\n",
    "\n",
    "app.layout = html.Div(['Pick a color', dropdown, html.H3(id = 'color-shower')])\n",
    "\n",
    "\n",
    "@app.callback(Output('color-shower', 'children'), Input('dropdown-color', 'value'))\n",
    "def color_picker(color):\n",
    "    return f\"I like the color : {color}\"\n",
    "\n",
    "if __name__ == '__main__':\n",
    "    app.run_server()"
   ]
  },
  {
   "cell_type": "markdown",
   "id": "673e2b34",
   "metadata": {},
   "source": [
    "# dash assignment"
   ]
  },
  {
   "cell_type": "markdown",
   "id": "5d235b0f",
   "metadata": {},
   "source": [
    "    Create a dash application with the following front-end components.\n",
    "    1. A text title 'Select a State to Analyze:'\n",
    "    2. A dropdown menu that contains the options 'California', 'Oregon' and 'Washington'.\n",
    "    3. Text 'State Selected: X' where X is the state selected in the dropdown menu.\n",
    "    \n",
    "    \n",
    "    "
   ]
  },
  {
   "cell_type": "code",
   "execution_count": 9,
   "id": "1d6d9207",
   "metadata": {},
   "outputs": [
    {
     "data": {
      "text/html": [
       "\n",
       "        <iframe\n",
       "            width=\"100%\"\n",
       "            height=\"650\"\n",
       "            src=\"http://127.0.0.1:8050/\"\n",
       "            frameborder=\"0\"\n",
       "            allowfullscreen\n",
       "            \n",
       "        ></iframe>\n",
       "        "
      ],
      "text/plain": [
       "<IPython.lib.display.IFrame at 0x26411308cd0>"
      ]
     },
     "metadata": {},
     "output_type": "display_data"
    }
   ],
   "source": [
    "from dash import Dash, html, dcc\n",
    "from dash.dependencies import Input, Output\n",
    "\n",
    "\n",
    "app = Dash(__name__)\n",
    "\n",
    "dropdown = dcc.Dropdown(options = ['California', 'Oregon', 'Washington'], value = '', id = 'state-input')\n",
    "\n",
    "app.layout = html.Div(['Select a State to Analyze:', dropdown, html.Div(id = 'state-output', children = '')])\n",
    "\n",
    "@app.callback(Output('state-output', 'children'), Input('state-input', 'value'))\n",
    "def state_picker(state : str) -> str:\n",
    "    return f'State Selected : {state}'\n",
    "\n",
    "if __name__ == '__main__':\n",
    "    app.run_server(port = 8050, debug = True)"
   ]
  },
  {
   "cell_type": "markdown",
   "id": "41cfa81c",
   "metadata": {},
   "source": [
    "# Dash and Plotly app"
   ]
  },
  {
   "cell_type": "code",
   "execution_count": 10,
   "id": "ce4594fd",
   "metadata": {},
   "outputs": [],
   "source": [
    "from dash import Dash, html, dcc\n",
    "from dash.dependencies import Input, Output\n",
    "import pandas as pd"
   ]
  },
  {
   "cell_type": "code",
   "execution_count": 11,
   "id": "6d5f2916",
   "metadata": {},
   "outputs": [
    {
     "data": {
      "text/html": [
       "<div>\n",
       "<style scoped>\n",
       "    .dataframe tbody tr th:only-of-type {\n",
       "        vertical-align: middle;\n",
       "    }\n",
       "\n",
       "    .dataframe tbody tr th {\n",
       "        vertical-align: top;\n",
       "    }\n",
       "\n",
       "    .dataframe thead th {\n",
       "        text-align: right;\n",
       "    }\n",
       "</style>\n",
       "<table border=\"1\" class=\"dataframe\">\n",
       "  <thead>\n",
       "    <tr style=\"text-align: right;\">\n",
       "      <th></th>\n",
       "      <th>Id</th>\n",
       "      <th>SepalLengthCm</th>\n",
       "      <th>SepalWidthCm</th>\n",
       "      <th>PetalLengthCm</th>\n",
       "      <th>PetalWidthCm</th>\n",
       "      <th>Species</th>\n",
       "    </tr>\n",
       "  </thead>\n",
       "  <tbody>\n",
       "    <tr>\n",
       "      <th>0</th>\n",
       "      <td>1</td>\n",
       "      <td>5.1</td>\n",
       "      <td>3.5</td>\n",
       "      <td>1.4</td>\n",
       "      <td>0.2</td>\n",
       "      <td>Iris-setosa</td>\n",
       "    </tr>\n",
       "    <tr>\n",
       "      <th>1</th>\n",
       "      <td>2</td>\n",
       "      <td>4.9</td>\n",
       "      <td>3.0</td>\n",
       "      <td>1.4</td>\n",
       "      <td>0.2</td>\n",
       "      <td>Iris-setosa</td>\n",
       "    </tr>\n",
       "    <tr>\n",
       "      <th>2</th>\n",
       "      <td>3</td>\n",
       "      <td>4.7</td>\n",
       "      <td>3.2</td>\n",
       "      <td>1.3</td>\n",
       "      <td>0.2</td>\n",
       "      <td>Iris-setosa</td>\n",
       "    </tr>\n",
       "    <tr>\n",
       "      <th>3</th>\n",
       "      <td>4</td>\n",
       "      <td>4.6</td>\n",
       "      <td>3.1</td>\n",
       "      <td>1.5</td>\n",
       "      <td>0.2</td>\n",
       "      <td>Iris-setosa</td>\n",
       "    </tr>\n",
       "    <tr>\n",
       "      <th>4</th>\n",
       "      <td>5</td>\n",
       "      <td>5.0</td>\n",
       "      <td>3.6</td>\n",
       "      <td>1.4</td>\n",
       "      <td>0.2</td>\n",
       "      <td>Iris-setosa</td>\n",
       "    </tr>\n",
       "    <tr>\n",
       "      <th>...</th>\n",
       "      <td>...</td>\n",
       "      <td>...</td>\n",
       "      <td>...</td>\n",
       "      <td>...</td>\n",
       "      <td>...</td>\n",
       "      <td>...</td>\n",
       "    </tr>\n",
       "    <tr>\n",
       "      <th>145</th>\n",
       "      <td>146</td>\n",
       "      <td>6.7</td>\n",
       "      <td>3.0</td>\n",
       "      <td>5.2</td>\n",
       "      <td>2.3</td>\n",
       "      <td>Iris-virginica</td>\n",
       "    </tr>\n",
       "    <tr>\n",
       "      <th>146</th>\n",
       "      <td>147</td>\n",
       "      <td>6.3</td>\n",
       "      <td>2.5</td>\n",
       "      <td>5.0</td>\n",
       "      <td>1.9</td>\n",
       "      <td>Iris-virginica</td>\n",
       "    </tr>\n",
       "    <tr>\n",
       "      <th>147</th>\n",
       "      <td>148</td>\n",
       "      <td>6.5</td>\n",
       "      <td>3.0</td>\n",
       "      <td>5.2</td>\n",
       "      <td>2.0</td>\n",
       "      <td>Iris-virginica</td>\n",
       "    </tr>\n",
       "    <tr>\n",
       "      <th>148</th>\n",
       "      <td>149</td>\n",
       "      <td>6.2</td>\n",
       "      <td>3.4</td>\n",
       "      <td>5.4</td>\n",
       "      <td>2.3</td>\n",
       "      <td>Iris-virginica</td>\n",
       "    </tr>\n",
       "    <tr>\n",
       "      <th>149</th>\n",
       "      <td>150</td>\n",
       "      <td>5.9</td>\n",
       "      <td>3.0</td>\n",
       "      <td>5.1</td>\n",
       "      <td>1.8</td>\n",
       "      <td>Iris-virginica</td>\n",
       "    </tr>\n",
       "  </tbody>\n",
       "</table>\n",
       "<p>150 rows × 6 columns</p>\n",
       "</div>"
      ],
      "text/plain": [
       "      Id  SepalLengthCm  SepalWidthCm  PetalLengthCm  PetalWidthCm  \\\n",
       "0      1            5.1           3.5            1.4           0.2   \n",
       "1      2            4.9           3.0            1.4           0.2   \n",
       "2      3            4.7           3.2            1.3           0.2   \n",
       "3      4            4.6           3.1            1.5           0.2   \n",
       "4      5            5.0           3.6            1.4           0.2   \n",
       "..   ...            ...           ...            ...           ...   \n",
       "145  146            6.7           3.0            5.2           2.3   \n",
       "146  147            6.3           2.5            5.0           1.9   \n",
       "147  148            6.5           3.0            5.2           2.0   \n",
       "148  149            6.2           3.4            5.4           2.3   \n",
       "149  150            5.9           3.0            5.1           1.8   \n",
       "\n",
       "            Species  \n",
       "0       Iris-setosa  \n",
       "1       Iris-setosa  \n",
       "2       Iris-setosa  \n",
       "3       Iris-setosa  \n",
       "4       Iris-setosa  \n",
       "..              ...  \n",
       "145  Iris-virginica  \n",
       "146  Iris-virginica  \n",
       "147  Iris-virginica  \n",
       "148  Iris-virginica  \n",
       "149  Iris-virginica  \n",
       "\n",
       "[150 rows x 6 columns]"
      ]
     },
     "execution_count": 11,
     "metadata": {},
     "output_type": "execute_result"
    }
   ],
   "source": [
    "iris = pd.read_csv('datasets/iris.csv')\n",
    "iris"
   ]
  },
  {
   "cell_type": "code",
   "execution_count": 45,
   "id": "d04bc54d",
   "metadata": {},
   "outputs": [
    {
     "data": {
      "text/plain": [
       "0       True\n",
       "1       True\n",
       "2       True\n",
       "3       True\n",
       "4       True\n",
       "       ...  \n",
       "145    False\n",
       "146    False\n",
       "147    False\n",
       "148    False\n",
       "149    False\n",
       "Name: Species, Length: 150, dtype: bool"
      ]
     },
     "execution_count": 45,
     "metadata": {},
     "output_type": "execute_result"
    }
   ],
   "source": [
    "iris['Species'] == 'Iris-setosa'"
   ]
  },
  {
   "cell_type": "code",
   "execution_count": 12,
   "id": "c38df305",
   "metadata": {},
   "outputs": [
    {
     "data": {
      "text/plain": [
       "Species\n",
       "Iris-setosa        50\n",
       "Iris-versicolor    50\n",
       "Iris-virginica     50\n",
       "Name: count, dtype: int64"
      ]
     },
     "execution_count": 12,
     "metadata": {},
     "output_type": "execute_result"
    }
   ],
   "source": [
    "iris['Species'].value_counts()"
   ]
  },
  {
   "cell_type": "code",
   "execution_count": 13,
   "id": "1674e83f",
   "metadata": {},
   "outputs": [],
   "source": [
    "species = ['Iris-setosa', 'Iris-versicolor', 'Iris-virginica']"
   ]
  },
  {
   "cell_type": "code",
   "execution_count": 14,
   "id": "7189f5a6",
   "metadata": {},
   "outputs": [],
   "source": [
    "import plotly.express as px"
   ]
  },
  {
   "cell_type": "code",
   "execution_count": 15,
   "id": "d7758dec",
   "metadata": {},
   "outputs": [],
   "source": [
    "dropdown = dcc.Dropdown(options = species, value = '', id = 'species-input')"
   ]
  },
  {
   "cell_type": "code",
   "execution_count": 16,
   "id": "5c5a57da",
   "metadata": {
    "scrolled": true
   },
   "outputs": [
    {
     "data": {
      "text/html": [
       "\n",
       "        <iframe\n",
       "            width=\"100%\"\n",
       "            height=\"650\"\n",
       "            src=\"http://127.0.0.1:8050/\"\n",
       "            frameborder=\"0\"\n",
       "            allowfullscreen\n",
       "            \n",
       "        ></iframe>\n",
       "        "
      ],
      "text/plain": [
       "<IPython.lib.display.IFrame at 0x2641f8cc450>"
      ]
     },
     "metadata": {},
     "output_type": "display_data"
    }
   ],
   "source": [
    "app = Dash(__name__)\n",
    "\n",
    "app.layout = html.Div(['Select a Species', dropdown, dcc.Graph(id = 'species-output')])\n",
    "\n",
    "\n",
    "@app.callback(Output('species-output', 'figure'), Input('species-input', 'value'))\n",
    "def plotly_graph_maker(species : str):\n",
    "    return px.scatter(iris[iris['Species'] == species], x = 'SepalLengthCm', y = 'PetalLengthCm')\n",
    "\n",
    "\n",
    "if __name__ == '__main__':\n",
    "    app.run_server(debug = True, port = 8050)\n",
    "            "
   ]
  },
  {
   "cell_type": "markdown",
   "id": "cfb9c5ed",
   "metadata": {},
   "source": [
    "# Plotly"
   ]
  },
  {
   "cell_type": "markdown",
   "id": "cb8bf94c",
   "metadata": {},
   "source": [
    "    Scatter plots allow the comparison of two variables for a set of data.\n",
    "    "
   ]
  },
  {
   "cell_type": "code",
   "execution_count": 17,
   "id": "1b43eaab",
   "metadata": {},
   "outputs": [],
   "source": [
    "import numpy as np\n",
    "import plotly.offline as pyo\n",
    "import plotly.graph_objs as go"
   ]
  },
  {
   "cell_type": "code",
   "execution_count": 19,
   "id": "de7b9896",
   "metadata": {},
   "outputs": [
    {
     "data": {
      "text/plain": [
       "'basics.html'"
      ]
     },
     "execution_count": 19,
     "metadata": {},
     "output_type": "execute_result"
    }
   ],
   "source": [
    "np.random.seed(42)\n",
    "random_x = np.random.randint(1, 101, 100)\n",
    "random_y = np.random.randint(1, 101, 100)\n",
    "\n",
    "data = [go.Scatter(x = random_x, y = random_y, \n",
    "                   mode = 'markers')]\n",
    "\n",
    "pyo.plot(data, filename = 'scatter.html')"
   ]
  },
  {
   "cell_type": "code",
   "execution_count": 34,
   "id": "dbc7b12a",
   "metadata": {},
   "outputs": [
    {
     "data": {
      "text/plain": [
       "'scatter.html'"
      ]
     },
     "execution_count": 34,
     "metadata": {},
     "output_type": "execute_result"
    }
   ],
   "source": [
    "np.random.seed(42)\n",
    "random_x = np.random.randint(1, 101, 100)\n",
    "random_y = np.random.randint(1, 101, 100)\n",
    "\n",
    "data = [go.Scatter(x = random_x, y = random_y, \n",
    "                   mode = 'markers', marker = dict(\n",
    "            color='green',\n",
    "            symbol = 'pentagon',\n",
    "            size=20,\n",
    "            line=dict(\n",
    "                color='black',\n",
    "                width=2\n",
    "            )\n",
    "        ))]\n",
    "\n",
    "layout = go.Layout(\n",
    "                    title = 'Hello First Plot',\n",
    "                    xaxis = dict(title = 'My X Axis'),\n",
    "                    yaxis = dict(title = 'My Y Axis'),\n",
    "                    hovermode = 'closest'\n",
    "                  )\n",
    "\n",
    "fig = go.Figure(data = data, layout = layout)\n",
    "pyo.plot(fig, filename = 'scatter.html')"
   ]
  },
  {
   "cell_type": "markdown",
   "id": "f105b0ac",
   "metadata": {},
   "source": [
    "# Line plots in plotly"
   ]
  },
  {
   "cell_type": "code",
   "execution_count": 40,
   "id": "3eed9bda",
   "metadata": {},
   "outputs": [
    {
     "data": {
      "text/plain": [
       "'modes.html'"
      ]
     },
     "execution_count": 40,
     "metadata": {},
     "output_type": "execute_result"
    }
   ],
   "source": [
    "np.random.seed(56)\n",
    "x_values = np.linspace(0, 1, 100)\n",
    "y_values = np.random.randn(100)\n",
    "\n",
    "trace0 = go.Scatter(x = x_values, y = y_values+5, mode = 'markers')\n",
    "\n",
    "data = [trace0]\n",
    "\n",
    "layout = go.Layout(title = 'This is to show different modes', xaxis = {'title':'My X Axis'}, yaxis = dict(title = 'My Y Axis'))\n",
    "\n",
    "fig = go.Figure(data = data, layout = layout)\n",
    "\n",
    "pyo.plot(fig, filename = 'modes.html')"
   ]
  },
  {
   "cell_type": "code",
   "execution_count": 41,
   "id": "c3b50a2c",
   "metadata": {},
   "outputs": [
    {
     "data": {
      "text/plain": [
       "'modes.html'"
      ]
     },
     "execution_count": 41,
     "metadata": {},
     "output_type": "execute_result"
    }
   ],
   "source": [
    "np.random.seed(56)\n",
    "x_values = np.linspace(0, 1, 100)\n",
    "y_values = np.random.randn(100)\n",
    "\n",
    "trace0 = go.Scatter(x = x_values, y = y_values+5, mode = 'markers', name = 'markers')\n",
    "trace1 = go.Scatter(x = x_values, y = y_values, mode = 'markers+lines', name = 'markers with lines')\n",
    "\n",
    "data = [trace0, trace1]\n",
    "\n",
    "layout = go.Layout(title = 'This is to show different modes', xaxis = {'title':'My X Axis'}, yaxis = dict(title = 'My Y Axis'))\n",
    "\n",
    "fig = go.Figure(data = data, layout = layout)\n",
    "\n",
    "pyo.plot(fig, filename = 'modes.html')"
   ]
  },
  {
   "cell_type": "code",
   "execution_count": 44,
   "id": "77669614",
   "metadata": {},
   "outputs": [
    {
     "data": {
      "text/plain": [
       "'modes.html'"
      ]
     },
     "execution_count": 44,
     "metadata": {},
     "output_type": "execute_result"
    }
   ],
   "source": [
    "np.random.seed(56)\n",
    "x_values = np.linspace(0, 1, 100)\n",
    "y_values = np.random.randn(100)\n",
    "\n",
    "trace0 = go.Scatter(x = x_values, y = y_values+5, mode = 'markers', name = 'markers')\n",
    "trace1 = go.Scatter(x = x_values, y = y_values, mode = 'markers+lines', name = 'markers with lines')\n",
    "trace2 = go.Scatter(x = x_values, y = y_values-5, mode = 'lines', name = 'lines')\n",
    "\n",
    "data = [trace0, trace1, trace2]\n",
    "\n",
    "layout = go.Layout(title = 'This is to show different modes', xaxis = {'title':'My X Axis'}, yaxis = dict(title = 'My Y Axis'))\n",
    "\n",
    "fig = go.Figure(data = data, layout = layout)\n",
    "\n",
    "pyo.plot(fig, filename = 'modes.html')"
   ]
  },
  {
   "cell_type": "markdown",
   "id": "b2c3cd23",
   "metadata": {},
   "source": [
    "# plotting iris dataset using plotly"
   ]
  },
  {
   "cell_type": "code",
   "execution_count": 45,
   "id": "78e34d04",
   "metadata": {},
   "outputs": [],
   "source": [
    "import plotly.offline as pyo\n",
    "import plotly.graph_objs as go"
   ]
  },
  {
   "cell_type": "code",
   "execution_count": 46,
   "id": "752f20a4",
   "metadata": {},
   "outputs": [],
   "source": [
    "iris = pd.read_csv('datasets/iris.csv')\n"
   ]
  },
  {
   "cell_type": "code",
   "execution_count": 50,
   "id": "e53f8854",
   "metadata": {},
   "outputs": [],
   "source": [
    "species = iris.Species.value_counts().index"
   ]
  },
  {
   "cell_type": "code",
   "execution_count": 55,
   "id": "9613a5d0",
   "metadata": {},
   "outputs": [
    {
     "data": {
      "text/plain": [
       "array([5.1, 4.9, 4.7, 4.6, 5. , 5.4, 4.6, 5. , 4.4, 4.9, 5.4, 4.8, 4.8,\n",
       "       4.3, 5.8, 5.7, 5.4, 5.1, 5.7, 5.1, 5.4, 5.1, 4.6, 5.1, 4.8, 5. ,\n",
       "       5. , 5.2, 5.2, 4.7, 4.8, 5.4, 5.2, 5.5, 4.9, 5. , 5.5, 4.9, 4.4,\n",
       "       5.1, 5. , 4.5, 4.4, 5. , 5.1, 4.8, 5.1, 4.6, 5.3, 5. ])"
      ]
     },
     "execution_count": 55,
     "metadata": {},
     "output_type": "execute_result"
    }
   ],
   "source": [
    "iris[iris['Species'] == 'Iris-setosa'].SepalLengthCm.values"
   ]
  },
  {
   "cell_type": "code",
   "execution_count": 61,
   "id": "3a835381",
   "metadata": {},
   "outputs": [],
   "source": [
    "# returns a list of all the sepal lengths for a given specie\n",
    "def x_values_generator(specie: str):\n",
    "    return iris[iris['Species'] == specie].SepalLengthCm.values\n",
    "\n",
    "# returns a list of all the petal lengths for a given specie\n",
    "def y_values_generator(specie: str):\n",
    "    return iris[iris['Species'] == specie].PetalLengthCm.values"
   ]
  },
  {
   "cell_type": "code",
   "execution_count": 67,
   "id": "a02391df",
   "metadata": {},
   "outputs": [],
   "source": [
    "trace0 = go.Scatter(x = x_values_generator(species[0]), y = y_values_generator(species[0]),\n",
    "                    mode = 'markers', marker = dict(color = 'red'), name = species[0])\n",
    "\n",
    "trace1 = go.Scatter(x = x_values_generator(species[1]), y = y_values_generator(species[1]),\n",
    "                    mode = 'markers', marker = dict(color = 'blue'), name = species[1])\n",
    "\n",
    "trace2 = go.Scatter(x = x_values_generator(species[2]), y = y_values_generator(species[2]),\n",
    "                    mode = 'markers', marker = dict(color = 'green'), name = species[2])\n",
    "\n",
    "\n",
    "data = [trace0, trace1, trace2]"
   ]
  },
  {
   "cell_type": "code",
   "execution_count": 68,
   "id": "891f3227",
   "metadata": {},
   "outputs": [
    {
     "data": {
      "text/plain": [
       "'iris.html'"
      ]
     },
     "execution_count": 68,
     "metadata": {},
     "output_type": "execute_result"
    }
   ],
   "source": [
    "layout = go.Layout(title = 'Iris Species Sepal Vs Petal Lengths', \n",
    "                  xaxis = {'title': 'Sepal Length'},\n",
    "                  yaxis = {'title': 'Petal Length'})\n",
    "\n",
    "fig = go.Figure(data = data, layout = layout)\n",
    "\n",
    "pyo.plot(fig, filename = 'iris.html')"
   ]
  },
  {
   "cell_type": "markdown",
   "id": "4568ec74",
   "metadata": {},
   "source": [
    "# Line chart assignment"
   ]
  },
  {
   "cell_type": "markdown",
   "id": "9afcf5bb",
   "metadata": {},
   "source": [
    "    Using the file 2010YumaAZ.csv, develop a line chart that plots seven days worth of temperature data on one graph.\n",
    "    You can use a for loop to assign each day to its own trace."
   ]
  },
  {
   "cell_type": "code",
   "execution_count": 69,
   "id": "250c2612",
   "metadata": {},
   "outputs": [],
   "source": [
    "df = pd.read_csv('datasets/2010YumaAZ.csv')"
   ]
  },
  {
   "cell_type": "code",
   "execution_count": 70,
   "id": "c11fe845",
   "metadata": {},
   "outputs": [
    {
     "data": {
      "text/html": [
       "<div>\n",
       "<style scoped>\n",
       "    .dataframe tbody tr th:only-of-type {\n",
       "        vertical-align: middle;\n",
       "    }\n",
       "\n",
       "    .dataframe tbody tr th {\n",
       "        vertical-align: top;\n",
       "    }\n",
       "\n",
       "    .dataframe thead th {\n",
       "        text-align: right;\n",
       "    }\n",
       "</style>\n",
       "<table border=\"1\" class=\"dataframe\">\n",
       "  <thead>\n",
       "    <tr style=\"text-align: right;\">\n",
       "      <th></th>\n",
       "      <th>LST_DATE</th>\n",
       "      <th>DAY</th>\n",
       "      <th>LST_TIME</th>\n",
       "      <th>T_HR_AVG</th>\n",
       "    </tr>\n",
       "  </thead>\n",
       "  <tbody>\n",
       "    <tr>\n",
       "      <th>0</th>\n",
       "      <td>20100601</td>\n",
       "      <td>TUESDAY</td>\n",
       "      <td>0:00</td>\n",
       "      <td>25.2</td>\n",
       "    </tr>\n",
       "    <tr>\n",
       "      <th>1</th>\n",
       "      <td>20100601</td>\n",
       "      <td>TUESDAY</td>\n",
       "      <td>1:00</td>\n",
       "      <td>24.1</td>\n",
       "    </tr>\n",
       "    <tr>\n",
       "      <th>2</th>\n",
       "      <td>20100601</td>\n",
       "      <td>TUESDAY</td>\n",
       "      <td>2:00</td>\n",
       "      <td>24.4</td>\n",
       "    </tr>\n",
       "    <tr>\n",
       "      <th>3</th>\n",
       "      <td>20100601</td>\n",
       "      <td>TUESDAY</td>\n",
       "      <td>3:00</td>\n",
       "      <td>24.9</td>\n",
       "    </tr>\n",
       "    <tr>\n",
       "      <th>4</th>\n",
       "      <td>20100601</td>\n",
       "      <td>TUESDAY</td>\n",
       "      <td>4:00</td>\n",
       "      <td>22.8</td>\n",
       "    </tr>\n",
       "    <tr>\n",
       "      <th>...</th>\n",
       "      <td>...</td>\n",
       "      <td>...</td>\n",
       "      <td>...</td>\n",
       "      <td>...</td>\n",
       "    </tr>\n",
       "    <tr>\n",
       "      <th>163</th>\n",
       "      <td>20100607</td>\n",
       "      <td>MONDAY</td>\n",
       "      <td>19:00</td>\n",
       "      <td>39.4</td>\n",
       "    </tr>\n",
       "    <tr>\n",
       "      <th>164</th>\n",
       "      <td>20100607</td>\n",
       "      <td>MONDAY</td>\n",
       "      <td>20:00</td>\n",
       "      <td>38.5</td>\n",
       "    </tr>\n",
       "    <tr>\n",
       "      <th>165</th>\n",
       "      <td>20100607</td>\n",
       "      <td>MONDAY</td>\n",
       "      <td>21:00</td>\n",
       "      <td>37.0</td>\n",
       "    </tr>\n",
       "    <tr>\n",
       "      <th>166</th>\n",
       "      <td>20100607</td>\n",
       "      <td>MONDAY</td>\n",
       "      <td>22:00</td>\n",
       "      <td>34.7</td>\n",
       "    </tr>\n",
       "    <tr>\n",
       "      <th>167</th>\n",
       "      <td>20100607</td>\n",
       "      <td>MONDAY</td>\n",
       "      <td>23:00</td>\n",
       "      <td>32.6</td>\n",
       "    </tr>\n",
       "  </tbody>\n",
       "</table>\n",
       "<p>168 rows × 4 columns</p>\n",
       "</div>"
      ],
      "text/plain": [
       "     LST_DATE      DAY LST_TIME  T_HR_AVG\n",
       "0    20100601  TUESDAY     0:00      25.2\n",
       "1    20100601  TUESDAY     1:00      24.1\n",
       "2    20100601  TUESDAY     2:00      24.4\n",
       "3    20100601  TUESDAY     3:00      24.9\n",
       "4    20100601  TUESDAY     4:00      22.8\n",
       "..        ...      ...      ...       ...\n",
       "163  20100607   MONDAY    19:00      39.4\n",
       "164  20100607   MONDAY    20:00      38.5\n",
       "165  20100607   MONDAY    21:00      37.0\n",
       "166  20100607   MONDAY    22:00      34.7\n",
       "167  20100607   MONDAY    23:00      32.6\n",
       "\n",
       "[168 rows x 4 columns]"
      ]
     },
     "execution_count": 70,
     "metadata": {},
     "output_type": "execute_result"
    }
   ],
   "source": [
    "df"
   ]
  },
  {
   "cell_type": "code",
   "execution_count": 71,
   "id": "3205353c",
   "metadata": {},
   "outputs": [],
   "source": [
    "days = df.DAY.value_counts().index"
   ]
  },
  {
   "cell_type": "code",
   "execution_count": 72,
   "id": "b37ea585",
   "metadata": {},
   "outputs": [
    {
     "data": {
      "text/plain": [
       "Index(['TUESDAY', 'WEDNESDAY', 'THURSDAY', 'FRIDAY', 'SATURDAY', 'SUNDAY',\n",
       "       'MONDAY'],\n",
       "      dtype='object', name='DAY')"
      ]
     },
     "execution_count": 72,
     "metadata": {},
     "output_type": "execute_result"
    }
   ],
   "source": [
    "days"
   ]
  },
  {
   "cell_type": "code",
   "execution_count": 73,
   "id": "424b32d0",
   "metadata": {},
   "outputs": [],
   "source": [
    "def temperatures(day : str):\n",
    "    return df[df['DAY'] == day]['T_HR_AVG'].values\n",
    "\n",
    "def times(day: str):\n",
    "    return df[df['DAY'] == day]['LST_TIME'].values"
   ]
  },
  {
   "cell_type": "code",
   "execution_count": 74,
   "id": "5a1d8974",
   "metadata": {},
   "outputs": [
    {
     "data": {
      "text/plain": [
       "[Scatter({\n",
       "     'mode': 'lines',\n",
       "     'name': 'TUESDAY',\n",
       "     'x': array(['0:00', '1:00', '2:00', '3:00', '4:00', '5:00', '6:00', '7:00', '8:00',\n",
       "                 '9:00', '10:00', '11:00', '12:00', '13:00', '14:00', '15:00', '16:00',\n",
       "                 '17:00', '18:00', '19:00', '20:00', '21:00', '22:00', '23:00'],\n",
       "                dtype=object),\n",
       "     'y': array([25.2, 24.1, 24.4, 24.9, 22.8, 19.8, 18.8, 21.2, 24.2, 27.1, 29.3, 30.6,\n",
       "                 32.6, 34. , 34. , 34.9, 34.6, 33.8, 33.5, 32.8, 31. , 29. , 27.6, 26.3])\n",
       " }),\n",
       " Scatter({\n",
       "     'mode': 'lines',\n",
       "     'name': 'WEDNESDAY',\n",
       "     'x': array(['0:00', '1:00', '2:00', '3:00', '4:00', '5:00', '6:00', '7:00', '8:00',\n",
       "                 '9:00', '10:00', '11:00', '12:00', '13:00', '14:00', '15:00', '16:00',\n",
       "                 '17:00', '18:00', '19:00', '20:00', '21:00', '22:00', '23:00'],\n",
       "                dtype=object),\n",
       "     'y': array([23.8, 20.6, 19.1, 18.4, 18.9, 18.2, 17.9, 20.2, 23.8, 26.1, 27.9, 29.3,\n",
       "                 30.9, 32.2, 33.1, 33.7, 34.5, 34.7, 34.8, 34.2, 32.8, 31. , 28.7, 25.5])\n",
       " }),\n",
       " Scatter({\n",
       "     'mode': 'lines',\n",
       "     'name': 'THURSDAY',\n",
       "     'x': array(['0:00', '1:00', '2:00', '3:00', '4:00', '5:00', '6:00', '7:00', '8:00',\n",
       "                 '9:00', '10:00', '11:00', '12:00', '13:00', '14:00', '15:00', '16:00',\n",
       "                 '17:00', '18:00', '19:00', '20:00', '21:00', '22:00', '23:00'],\n",
       "                dtype=object),\n",
       "     'y': array([24.3, 23.1, 21.8, 19.8, 18.5, 19.2, 19.7, 20.7, 23.2, 26.1, 28.6, 30.8,\n",
       "                 32.3, 33.8, 34.9, 35.8, 35.9, 36.3, 35.8, 35.4, 34.2, 32.7, 31.1, 28.6])\n",
       " }),\n",
       " Scatter({\n",
       "     'mode': 'lines',\n",
       "     'name': 'FRIDAY',\n",
       "     'x': array(['0:00', '1:00', '2:00', '3:00', '4:00', '5:00', '6:00', '7:00', '8:00',\n",
       "                 '9:00', '10:00', '11:00', '12:00', '13:00', '14:00', '15:00', '16:00',\n",
       "                 '17:00', '18:00', '19:00', '20:00', '21:00', '22:00', '23:00'],\n",
       "                dtype=object),\n",
       "     'y': array([26.4, 25.4, 24.2, 23.6, 22.5, 21. , 21.3, 22.5, 24.7, 28.1, 30.6, 32.5,\n",
       "                 33.9, 35.5, 36.6, 37.2, 37.8, 38.1, 38.2, 37.4, 36. , 34.4, 32.6, 30.1])\n",
       " }),\n",
       " Scatter({\n",
       "     'mode': 'lines',\n",
       "     'name': 'SATURDAY',\n",
       "     'x': array(['0:00', '1:00', '2:00', '3:00', '4:00', '5:00', '6:00', '7:00', '8:00',\n",
       "                 '9:00', '10:00', '11:00', '12:00', '13:00', '14:00', '15:00', '16:00',\n",
       "                 '17:00', '18:00', '19:00', '20:00', '21:00', '22:00', '23:00'],\n",
       "                dtype=object),\n",
       "     'y': array([28.3, 27.3, 26.3, 25.3, 24.7, 24.7, 23.9, 24.7, 27.7, 30.4, 32.6, 34.8,\n",
       "                 36.4, 37.2, 38.4, 39.7, 40. , 40.4, 40.1, 39. , 37.3, 35.7, 33.9, 31.4])\n",
       " }),\n",
       " Scatter({\n",
       "     'mode': 'lines',\n",
       "     'name': 'SUNDAY',\n",
       "     'x': array(['0:00', '1:00', '2:00', '3:00', '4:00', '5:00', '6:00', '7:00', '8:00',\n",
       "                 '9:00', '10:00', '11:00', '12:00', '13:00', '14:00', '15:00', '16:00',\n",
       "                 '17:00', '18:00', '19:00', '20:00', '21:00', '22:00', '23:00'],\n",
       "                dtype=object),\n",
       "     'y': array([29.7, 28.6, 26.9, 25.9, 25.2, 24.8, 23.9, 26.1, 27.9, 30.5, 33.7, 35.6,\n",
       "                 36.9, 38.4, 39.2, 40.2, 40.6, 40.6, 40.3, 39.5, 37.9, 36.5, 35. , 32.9])\n",
       " }),\n",
       " Scatter({\n",
       "     'mode': 'lines',\n",
       "     'name': 'MONDAY',\n",
       "     'x': array(['0:00', '1:00', '2:00', '3:00', '4:00', '5:00', '6:00', '7:00', '8:00',\n",
       "                 '9:00', '10:00', '11:00', '12:00', '13:00', '14:00', '15:00', '16:00',\n",
       "                 '17:00', '18:00', '19:00', '20:00', '21:00', '22:00', '23:00'],\n",
       "                dtype=object),\n",
       "     'y': array([30.9, 28.7, 26.9, 25.2, 24.1, 24.3, 23.4, 25.7, 28.5, 30.7, 32.5, 34.1,\n",
       "                 36.1, 37.6, 39. , 40.2, 40.3, 40.2, 40.1, 39.4, 38.5, 37. , 34.7, 32.6])\n",
       " })]"
      ]
     },
     "execution_count": 74,
     "metadata": {},
     "output_type": "execute_result"
    }
   ],
   "source": [
    "data = [go.Scatter(x = times(day), y = temperatures(day), mode = 'lines', name = day) for day in days]\n",
    "data"
   ]
  },
  {
   "cell_type": "code",
   "execution_count": 76,
   "id": "dcb90e75",
   "metadata": {},
   "outputs": [],
   "source": [
    "layout = go.Layout(title = 'Temperature Vs Time Graph For Various Days', \n",
    "                   xaxis = dict(title = 'time'), \n",
    "                   yaxis = dict(title = 'temperature'))"
   ]
  },
  {
   "cell_type": "code",
   "execution_count": 77,
   "id": "a5684781",
   "metadata": {},
   "outputs": [
    {
     "data": {
      "text/plain": [
       "'line_chart_assignment.html'"
      ]
     },
     "execution_count": 77,
     "metadata": {},
     "output_type": "execute_result"
    }
   ],
   "source": [
    "fig = go.Figure(data = data, layout = layout)\n",
    "pyo.plot(fig, filename = 'line_chart_assignment.html')"
   ]
  },
  {
   "cell_type": "markdown",
   "id": "19bd725d",
   "metadata": {},
   "source": [
    "# Line chart assignment 2"
   ]
  },
  {
   "cell_type": "markdown",
   "id": "7f2b266d",
   "metadata": {},
   "source": [
    "    Take the data 'population.csv' and plot the lines + markers graph for the population estimates of the six new england states."
   ]
  },
  {
   "cell_type": "code",
   "execution_count": 78,
   "id": "50de07f3",
   "metadata": {},
   "outputs": [],
   "source": [
    "population = pd.read_csv('datasets/population.csv')"
   ]
  },
  {
   "cell_type": "code",
   "execution_count": 79,
   "id": "1df8b1c3",
   "metadata": {},
   "outputs": [
    {
     "data": {
      "text/html": [
       "<div>\n",
       "<style scoped>\n",
       "    .dataframe tbody tr th:only-of-type {\n",
       "        vertical-align: middle;\n",
       "    }\n",
       "\n",
       "    .dataframe tbody tr th {\n",
       "        vertical-align: top;\n",
       "    }\n",
       "\n",
       "    .dataframe thead th {\n",
       "        text-align: right;\n",
       "    }\n",
       "</style>\n",
       "<table border=\"1\" class=\"dataframe\">\n",
       "  <thead>\n",
       "    <tr style=\"text-align: right;\">\n",
       "      <th></th>\n",
       "      <th>Name</th>\n",
       "      <th>PopEstimate2010</th>\n",
       "      <th>PopEstimate2011</th>\n",
       "      <th>PopEstimate2012</th>\n",
       "      <th>PopEstimate2013</th>\n",
       "      <th>PopEstimate2014</th>\n",
       "      <th>PopEstimate2015</th>\n",
       "      <th>PopEstimate2016</th>\n",
       "      <th>PopEstimate2017</th>\n",
       "    </tr>\n",
       "  </thead>\n",
       "  <tbody>\n",
       "    <tr>\n",
       "      <th>0</th>\n",
       "      <td>Connecticut</td>\n",
       "      <td>3580171</td>\n",
       "      <td>3591927</td>\n",
       "      <td>3597705</td>\n",
       "      <td>3602470</td>\n",
       "      <td>3600188</td>\n",
       "      <td>3593862</td>\n",
       "      <td>3587685</td>\n",
       "      <td>3588184</td>\n",
       "    </tr>\n",
       "    <tr>\n",
       "      <th>1</th>\n",
       "      <td>Maine</td>\n",
       "      <td>1327568</td>\n",
       "      <td>1327968</td>\n",
       "      <td>1328101</td>\n",
       "      <td>1327975</td>\n",
       "      <td>1328903</td>\n",
       "      <td>1327787</td>\n",
       "      <td>1330232</td>\n",
       "      <td>1335907</td>\n",
       "    </tr>\n",
       "    <tr>\n",
       "      <th>2</th>\n",
       "      <td>Massachusetts</td>\n",
       "      <td>6564943</td>\n",
       "      <td>6612178</td>\n",
       "      <td>6659627</td>\n",
       "      <td>6711138</td>\n",
       "      <td>6757925</td>\n",
       "      <td>6794002</td>\n",
       "      <td>6823721</td>\n",
       "      <td>6859819</td>\n",
       "    </tr>\n",
       "    <tr>\n",
       "      <th>3</th>\n",
       "      <td>New Hampshire</td>\n",
       "      <td>1316700</td>\n",
       "      <td>1318345</td>\n",
       "      <td>1320923</td>\n",
       "      <td>1322622</td>\n",
       "      <td>1328684</td>\n",
       "      <td>1330134</td>\n",
       "      <td>1335015</td>\n",
       "      <td>1342795</td>\n",
       "    </tr>\n",
       "    <tr>\n",
       "      <th>4</th>\n",
       "      <td>Rhode Island</td>\n",
       "      <td>1053169</td>\n",
       "      <td>1052154</td>\n",
       "      <td>1052761</td>\n",
       "      <td>1052784</td>\n",
       "      <td>1054782</td>\n",
       "      <td>1055916</td>\n",
       "      <td>1057566</td>\n",
       "      <td>1059639</td>\n",
       "    </tr>\n",
       "    <tr>\n",
       "      <th>5</th>\n",
       "      <td>Vermont</td>\n",
       "      <td>625842</td>\n",
       "      <td>626210</td>\n",
       "      <td>625606</td>\n",
       "      <td>626044</td>\n",
       "      <td>625665</td>\n",
       "      <td>624455</td>\n",
       "      <td>623354</td>\n",
       "      <td>623657</td>\n",
       "    </tr>\n",
       "  </tbody>\n",
       "</table>\n",
       "</div>"
      ],
      "text/plain": [
       "            Name  PopEstimate2010  PopEstimate2011  PopEstimate2012  \\\n",
       "0    Connecticut          3580171          3591927          3597705   \n",
       "1          Maine          1327568          1327968          1328101   \n",
       "2  Massachusetts          6564943          6612178          6659627   \n",
       "3  New Hampshire          1316700          1318345          1320923   \n",
       "4   Rhode Island          1053169          1052154          1052761   \n",
       "5        Vermont           625842           626210           625606   \n",
       "\n",
       "   PopEstimate2013  PopEstimate2014  PopEstimate2015  PopEstimate2016  \\\n",
       "0          3602470          3600188          3593862          3587685   \n",
       "1          1327975          1328903          1327787          1330232   \n",
       "2          6711138          6757925          6794002          6823721   \n",
       "3          1322622          1328684          1330134          1335015   \n",
       "4          1052784          1054782          1055916          1057566   \n",
       "5           626044           625665           624455           623354   \n",
       "\n",
       "   PopEstimate2017  \n",
       "0          3588184  \n",
       "1          1335907  \n",
       "2          6859819  \n",
       "3          1342795  \n",
       "4          1059639  \n",
       "5           623657  "
      ]
     },
     "execution_count": 79,
     "metadata": {},
     "output_type": "execute_result"
    }
   ],
   "source": [
    "population"
   ]
  },
  {
   "cell_type": "code",
   "execution_count": 80,
   "id": "19339a26",
   "metadata": {},
   "outputs": [],
   "source": [
    "states = population['Name'].values"
   ]
  },
  {
   "cell_type": "code",
   "execution_count": 93,
   "id": "17cf2a6b",
   "metadata": {},
   "outputs": [
    {
     "data": {
      "text/plain": [
       "[(0, 'Connecticut'),\n",
       " (1, 'Maine'),\n",
       " (2, 'Massachusetts'),\n",
       " (3, 'New Hampshire'),\n",
       " (4, 'Rhode Island'),\n",
       " (5, 'Vermont')]"
      ]
     },
     "execution_count": 93,
     "metadata": {},
     "output_type": "execute_result"
    }
   ],
   "source": [
    "states\n",
    "enumerated_states = list(enumerate(states))\n",
    "enumerated_states"
   ]
  },
  {
   "cell_type": "code",
   "execution_count": 84,
   "id": "3b03a425",
   "metadata": {},
   "outputs": [],
   "source": [
    "years = population.columns[1:]"
   ]
  },
  {
   "cell_type": "code",
   "execution_count": 87,
   "id": "9c43b9b1",
   "metadata": {},
   "outputs": [
    {
     "data": {
      "text/plain": [
       "Index(['PopEstimate2010', 'PopEstimate2011', 'PopEstimate2012',\n",
       "       'PopEstimate2013', 'PopEstimate2014', 'PopEstimate2015',\n",
       "       'PopEstimate2016', 'PopEstimate2017'],\n",
       "      dtype='object')"
      ]
     },
     "execution_count": 87,
     "metadata": {},
     "output_type": "execute_result"
    }
   ],
   "source": [
    "years"
   ]
  },
  {
   "cell_type": "code",
   "execution_count": 94,
   "id": "a633fdb2",
   "metadata": {},
   "outputs": [],
   "source": [
    "def population_by_enumerated_state(enumerated_state: tuple[int, str]):\n",
    "    index, state = enumerated_state\n",
    "    \n",
    "    return np.array([population[year][index] for year in years])"
   ]
  },
  {
   "cell_type": "code",
   "execution_count": 96,
   "id": "c63009bd",
   "metadata": {},
   "outputs": [
    {
     "data": {
      "text/plain": [
       "array([6564943, 6612178, 6659627, 6711138, 6757925, 6794002, 6823721,\n",
       "       6859819], dtype=int64)"
      ]
     },
     "execution_count": 96,
     "metadata": {},
     "output_type": "execute_result"
    }
   ],
   "source": [
    "population_by_enumerated_state(enumerated_states[2])"
   ]
  },
  {
   "cell_type": "code",
   "execution_count": 99,
   "id": "6b58519c",
   "metadata": {},
   "outputs": [],
   "source": [
    "data = [go.Scatter(x = years, y = population_by_enumerated_state(enumerated_state), mode = 'markers+lines', \n",
    "                   name = enumerated_state[1]) \\\n",
    "        for enumerated_state in enumerated_states\n",
    "       ]"
   ]
  },
  {
   "cell_type": "code",
   "execution_count": 100,
   "id": "aaa908f6",
   "metadata": {},
   "outputs": [
    {
     "data": {
      "text/plain": [
       "[Scatter({\n",
       "     'mode': 'markers+lines',\n",
       "     'name': 'Connecticut',\n",
       "     'x': array(['PopEstimate2010', 'PopEstimate2011', 'PopEstimate2012',\n",
       "                 'PopEstimate2013', 'PopEstimate2014', 'PopEstimate2015',\n",
       "                 'PopEstimate2016', 'PopEstimate2017'], dtype=object),\n",
       "     'y': array([3580171, 3591927, 3597705, 3602470, 3600188, 3593862, 3587685, 3588184],\n",
       "                dtype=int64)\n",
       " }),\n",
       " Scatter({\n",
       "     'mode': 'markers+lines',\n",
       "     'name': 'Maine',\n",
       "     'x': array(['PopEstimate2010', 'PopEstimate2011', 'PopEstimate2012',\n",
       "                 'PopEstimate2013', 'PopEstimate2014', 'PopEstimate2015',\n",
       "                 'PopEstimate2016', 'PopEstimate2017'], dtype=object),\n",
       "     'y': array([1327568, 1327968, 1328101, 1327975, 1328903, 1327787, 1330232, 1335907],\n",
       "                dtype=int64)\n",
       " }),\n",
       " Scatter({\n",
       "     'mode': 'markers+lines',\n",
       "     'name': 'Massachusetts',\n",
       "     'x': array(['PopEstimate2010', 'PopEstimate2011', 'PopEstimate2012',\n",
       "                 'PopEstimate2013', 'PopEstimate2014', 'PopEstimate2015',\n",
       "                 'PopEstimate2016', 'PopEstimate2017'], dtype=object),\n",
       "     'y': array([6564943, 6612178, 6659627, 6711138, 6757925, 6794002, 6823721, 6859819],\n",
       "                dtype=int64)\n",
       " }),\n",
       " Scatter({\n",
       "     'mode': 'markers+lines',\n",
       "     'name': 'New Hampshire',\n",
       "     'x': array(['PopEstimate2010', 'PopEstimate2011', 'PopEstimate2012',\n",
       "                 'PopEstimate2013', 'PopEstimate2014', 'PopEstimate2015',\n",
       "                 'PopEstimate2016', 'PopEstimate2017'], dtype=object),\n",
       "     'y': array([1316700, 1318345, 1320923, 1322622, 1328684, 1330134, 1335015, 1342795],\n",
       "                dtype=int64)\n",
       " }),\n",
       " Scatter({\n",
       "     'mode': 'markers+lines',\n",
       "     'name': 'Rhode Island',\n",
       "     'x': array(['PopEstimate2010', 'PopEstimate2011', 'PopEstimate2012',\n",
       "                 'PopEstimate2013', 'PopEstimate2014', 'PopEstimate2015',\n",
       "                 'PopEstimate2016', 'PopEstimate2017'], dtype=object),\n",
       "     'y': array([1053169, 1052154, 1052761, 1052784, 1054782, 1055916, 1057566, 1059639],\n",
       "                dtype=int64)\n",
       " }),\n",
       " Scatter({\n",
       "     'mode': 'markers+lines',\n",
       "     'name': 'Vermont',\n",
       "     'x': array(['PopEstimate2010', 'PopEstimate2011', 'PopEstimate2012',\n",
       "                 'PopEstimate2013', 'PopEstimate2014', 'PopEstimate2015',\n",
       "                 'PopEstimate2016', 'PopEstimate2017'], dtype=object),\n",
       "     'y': array([625842, 626210, 625606, 626044, 625665, 624455, 623354, 623657],\n",
       "                dtype=int64)\n",
       " })]"
      ]
     },
     "execution_count": 100,
     "metadata": {},
     "output_type": "execute_result"
    }
   ],
   "source": [
    "data"
   ]
  },
  {
   "cell_type": "code",
   "execution_count": 101,
   "id": "79faccfd",
   "metadata": {},
   "outputs": [
    {
     "data": {
      "text/plain": [
       "'population_estimates_of_the_six_new_england_states.html'"
      ]
     },
     "execution_count": 101,
     "metadata": {},
     "output_type": "execute_result"
    }
   ],
   "source": [
    "layout = go.Layout(title = 'population estimates of the six new england states.',\n",
    "                   xaxis = dict(title = 'years'),\n",
    "                   yaxis = dict(title = 'population'))\n",
    "\n",
    "fig = go.Figure(data = data, layout = layout)\n",
    "pyo.plot(fig, filename = 'population_estimates_of_the_six_new_england_states.html')"
   ]
  },
  {
   "cell_type": "code",
   "execution_count": null,
   "id": "ba08bc0f",
   "metadata": {},
   "outputs": [],
   "source": []
  }
 ],
 "metadata": {
  "kernelspec": {
   "display_name": "Python 3 (ipykernel)",
   "language": "python",
   "name": "python3"
  },
  "language_info": {
   "codemirror_mode": {
    "name": "ipython",
    "version": 3
   },
   "file_extension": ".py",
   "mimetype": "text/x-python",
   "name": "python",
   "nbconvert_exporter": "python",
   "pygments_lexer": "ipython3",
   "version": "3.11.5"
  }
 },
 "nbformat": 4,
 "nbformat_minor": 5
}
