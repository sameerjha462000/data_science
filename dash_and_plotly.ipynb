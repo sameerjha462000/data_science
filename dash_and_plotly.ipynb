{
 "cells": [
  {
   "cell_type": "markdown",
   "id": "994dbb4d",
   "metadata": {},
   "source": [
    "# A simple dash app"
   ]
  },
  {
   "cell_type": "code",
   "execution_count": 1,
   "id": "64902f05",
   "metadata": {},
   "outputs": [],
   "source": [
    "from dash import Dash, html"
   ]
  },
  {
   "cell_type": "code",
   "execution_count": 2,
   "id": "6424603a",
   "metadata": {},
   "outputs": [
    {
     "data": {
      "text/html": [
       "\n",
       "        <iframe\n",
       "            width=\"100%\"\n",
       "            height=\"650\"\n",
       "            src=\"http://127.0.0.1:8050/\"\n",
       "            frameborder=\"0\"\n",
       "            allowfullscreen\n",
       "            \n",
       "        ></iframe>\n",
       "        "
      ],
      "text/plain": [
       "<IPython.lib.display.IFrame at 0x2b8daf71c10>"
      ]
     },
     "metadata": {},
     "output_type": "display_data"
    }
   ],
   "source": [
    "app = Dash(__name__)\n",
    "\n",
    "app.layout = html.Div('''This is a simple Dash application. Dash is a sister library for plotly and is built on top of React.Js and\n",
    "                      Flask.''')\n",
    "\n",
    "if __name__ == '__main__':\n",
    "    app.run_server()"
   ]
  },
  {
   "cell_type": "code",
   "execution_count": 3,
   "id": "e8a28358",
   "metadata": {},
   "outputs": [],
   "source": [
    "from dash import dcc"
   ]
  },
  {
   "cell_type": "code",
   "execution_count": 8,
   "id": "715aa3ca",
   "metadata": {},
   "outputs": [],
   "source": [
    "dropdown = dcc.Dropdown(options = ['Red', 'Blue', 'Green'], id = 'color', value = '')"
   ]
  },
  {
   "cell_type": "code",
   "execution_count": 9,
   "id": "5f863cea",
   "metadata": {},
   "outputs": [
    {
     "data": {
      "text/plain": [
       "dash.dcc.Dropdown.Dropdown"
      ]
     },
     "execution_count": 9,
     "metadata": {},
     "output_type": "execute_result"
    }
   ],
   "source": [
    "type(dropdown)"
   ]
  },
  {
   "cell_type": "code",
   "execution_count": 10,
   "id": "5be1a7d1",
   "metadata": {},
   "outputs": [
    {
     "data": {
      "text/html": [
       "\n",
       "        <iframe\n",
       "            width=\"100%\"\n",
       "            height=\"650\"\n",
       "            src=\"http://127.0.0.1:8050/\"\n",
       "            frameborder=\"0\"\n",
       "            allowfullscreen\n",
       "            \n",
       "        ></iframe>\n",
       "        "
      ],
      "text/plain": [
       "<IPython.lib.display.IFrame at 0x2b8d96040d0>"
      ]
     },
     "metadata": {},
     "output_type": "display_data"
    }
   ],
   "source": [
    "app = Dash(__name__)\n",
    "\n",
    "app.layout = html.Div(['Select a color', dropdown])\n",
    "\n",
    "if __name__ == '__main__':\n",
    "    app.run_server()"
   ]
  },
  {
   "cell_type": "markdown",
   "id": "626017f1",
   "metadata": {},
   "source": [
    "# Managing Input and Outputs"
   ]
  },
  {
   "cell_type": "code",
   "execution_count": 11,
   "id": "72a3fec8",
   "metadata": {},
   "outputs": [],
   "source": [
    "from dash import Dash, dcc, html\n",
    "from dash.dependencies import Input, Output"
   ]
  },
  {
   "cell_type": "code",
   "execution_count": 14,
   "id": "43e3606f",
   "metadata": {},
   "outputs": [
    {
     "data": {
      "text/html": [
       "\n",
       "        <iframe\n",
       "            width=\"100%\"\n",
       "            height=\"650\"\n",
       "            src=\"http://127.0.0.1:8050/\"\n",
       "            frameborder=\"0\"\n",
       "            allowfullscreen\n",
       "            \n",
       "        ></iframe>\n",
       "        "
      ],
      "text/plain": [
       "<IPython.lib.display.IFrame at 0x2b8dc05c110>"
      ]
     },
     "metadata": {},
     "output_type": "display_data"
    }
   ],
   "source": [
    "app = Dash(__name__)\n",
    "\n",
    "dropdown = dcc.Dropdown(options = ['Red', 'Blue', 'Green', 'Yellow', 'Pink'], id = 'dropdown-color', value = '')\n",
    "\n",
    "app.layout = html.Div(['Pick a color', dropdown, html.H3(id = 'color-shower')])\n",
    "\n",
    "\n",
    "@app.callback(Output('color-shower', 'children'), Input('dropdown-color', 'value'))\n",
    "def color_picker(color):\n",
    "    return f\"I like the color : {color}\"\n",
    "\n",
    "if __name__ == '__main__':\n",
    "    app.run_server()"
   ]
  },
  {
   "cell_type": "code",
   "execution_count": null,
   "id": "c1573d8b",
   "metadata": {},
   "outputs": [],
   "source": []
  }
 ],
 "metadata": {
  "kernelspec": {
   "display_name": "Python 3 (ipykernel)",
   "language": "python",
   "name": "python3"
  },
  "language_info": {
   "codemirror_mode": {
    "name": "ipython",
    "version": 3
   },
   "file_extension": ".py",
   "mimetype": "text/x-python",
   "name": "python",
   "nbconvert_exporter": "python",
   "pygments_lexer": "ipython3",
   "version": "3.11.5"
  }
 },
 "nbformat": 4,
 "nbformat_minor": 5
}
